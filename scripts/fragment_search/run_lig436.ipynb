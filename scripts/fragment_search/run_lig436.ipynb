{
 "cells": [
  {
   "cell_type": "code",
   "execution_count": 4,
   "metadata": {},
   "outputs": [],
   "source": [
    "from rvrsprot.frag_space import fragment_handle\n",
    "from rvrsprot.frag_space import fragment_search\n",
    "import numpy as np\n",
    "import os\n",
    "import datetime\n",
    "\n",
    "workdir = '/Users/lonelu/DesignData/fragment_design/yuda_436/'\n",
    "time_tag = datetime.datetime.now().strftime('%Y%m%d-%H%M%S') \n",
    "outdir = workdir + 'output_' + time_tag + '/'\n",
    "os.makedirs(outdir, exist_ok = True)\n",
    "\n",
    "pdbname = 'able-x0436-pandda-model.pdb'\n",
    "residues = [112, 79, 86, 46]\n",
    "\n",
    "#radius = np.sqrt(num_cg_atoms) * rmsd\n",
    "radius = 2.5\n",
    "\n",
    "#prot, m_start, mols = fragment_search.get_all_items(workdir, pdbname)\n",
    "m_start_name = 'lig_436.sdf' \n",
    "\n",
    "mol_name = 'molport_lig436.sdf'\n",
    "key = 'Molport ID'\n",
    "\n",
    "#mol_name = 'chemspace-search-20230904.sdf'\n",
    "#key = 'Chemspace_ID'\n",
    "\n",
    "\n"
   ]
  },
  {
   "cell_type": "code",
   "execution_count": 5,
   "metadata": {},
   "outputs": [
    {
     "name": "stderr",
     "output_type": "stream",
     "text": [
      "@> 980 atoms and 1 coordinate set(s) were parsed in 0.01s.\n"
     ]
    }
   ],
   "source": [
    "prot, m_start, mols = fragment_search.get_all_items(workdir, pdbname, m_start_name, mol_name)"
   ]
  },
  {
   "cell_type": "code",
   "execution_count": 19,
   "metadata": {},
   "outputs": [
    {
     "name": "stderr",
     "output_type": "stream",
     "text": [
      "@> 976 atoms and 1 coordinate set(s) were parsed in 0.01s.\n"
     ]
    },
    {
     "name": "stdout",
     "output_type": "stream",
     "text": [
      "[<rdkit.Chem.rdchem.Mol object at 0x15efec270>, <rdkit.Chem.rdchem.Mol object at 0x15efecf90>, <rdkit.Chem.rdchem.Mol object at 0x15efed000>, <rdkit.Chem.rdchem.Mol object at 0x15efed070>, <rdkit.Chem.rdchem.Mol object at 0x15efed0e0>, <rdkit.Chem.rdchem.Mol object at 0x15efed150>, <rdkit.Chem.rdchem.Mol object at 0x15efee1f0>, <rdkit.Chem.rdchem.Mol object at 0x15efed7e0>]\n"
     ]
    }
   ],
   "source": [
    "### if the previous get_all_items not working.\n",
    "\n",
    "import prody as pr\n",
    "from rdkit import Chem\n",
    "\n",
    "prot = pr.parsePDB(workdir + pdbname)\n",
    "\n",
    "suppl = Chem.SDMolSupplier(workdir + m_start_name)\n",
    "m_start = [x for x in suppl][0]\n",
    "\n",
    "\n",
    "suppls = [Chem.SDMolSupplier(workdir + 'drugbank_search/' + molpath) for molpath in os.listdir(workdir + 'drugbank_search/')]\n",
    "\n",
    "mols = []\n",
    "for s in suppls:\n",
    "    for x in s:\n",
    "        if x is not None:\n",
    "            mols.append(x)\n",
    "\n",
    "print(mols)"
   ]
  },
  {
   "cell_type": "code",
   "execution_count": 6,
   "metadata": {},
   "outputs": [
    {
     "name": "stderr",
     "output_type": "stream",
     "text": [
      "[15:46:48] Molecule does not have explicit Hs. Consider calling AddHs()\n",
      "[15:46:49] Molecule does not have explicit Hs. Consider calling AddHs()\n",
      "[15:46:49] Molecule does not have explicit Hs. Consider calling AddHs()\n"
     ]
    },
    {
     "name": "stdout",
     "output_type": "stream",
     "text": [
      "0\n",
      "no conformer for MolPort-000-108-944\n",
      "9\n",
      "6\n"
     ]
    },
    {
     "name": "stderr",
     "output_type": "stream",
     "text": [
      "[15:46:49] Molecule does not have explicit Hs. Consider calling AddHs()\n",
      "[15:46:49] Molecule does not have explicit Hs. Consider calling AddHs()\n",
      "[15:46:49] Molecule does not have explicit Hs. Consider calling AddHs()\n"
     ]
    },
    {
     "name": "stdout",
     "output_type": "stream",
     "text": [
      "14\n",
      "8\n",
      "5\n"
     ]
    },
    {
     "name": "stderr",
     "output_type": "stream",
     "text": [
      "[15:46:49] Molecule does not have explicit Hs. Consider calling AddHs()\n",
      "[15:46:49] Molecule does not have explicit Hs. Consider calling AddHs()\n",
      "[15:46:49] Molecule does not have explicit Hs. Consider calling AddHs()\n",
      "[15:46:49] Molecule does not have explicit Hs. Consider calling AddHs()\n"
     ]
    },
    {
     "name": "stdout",
     "output_type": "stream",
     "text": [
      "0\n",
      "no conformer for MolPort-000-138-390\n",
      "1\n",
      "2\n",
      "0\n",
      "no conformer for MolPort-000-193-995\n"
     ]
    },
    {
     "name": "stderr",
     "output_type": "stream",
     "text": [
      "[15:46:49] Molecule does not have explicit Hs. Consider calling AddHs()\n",
      "[15:46:49] Molecule does not have explicit Hs. Consider calling AddHs()\n"
     ]
    },
    {
     "name": "stdout",
     "output_type": "stream",
     "text": [
      "0\n",
      "no conformer for MolPort-000-193-996\n",
      "0\n",
      "no conformer for MolPort-000-193-997\n"
     ]
    },
    {
     "name": "stderr",
     "output_type": "stream",
     "text": [
      "[15:46:50] Molecule does not have explicit Hs. Consider calling AddHs()\n",
      "[15:46:50] Molecule does not have explicit Hs. Consider calling AddHs()\n"
     ]
    },
    {
     "name": "stdout",
     "output_type": "stream",
     "text": [
      "0\n",
      "no conformer for MolPort-000-193-999\n",
      "0\n",
      "no conformer for MolPort-000-194-001\n"
     ]
    },
    {
     "name": "stderr",
     "output_type": "stream",
     "text": [
      "[15:46:50] Molecule does not have explicit Hs. Consider calling AddHs()\n",
      "[15:46:50] Molecule does not have explicit Hs. Consider calling AddHs()\n"
     ]
    },
    {
     "name": "stdout",
     "output_type": "stream",
     "text": [
      "0\n",
      "no conformer for MolPort-000-194-003\n",
      "0\n",
      "no conformer for MolPort-000-194-007\n"
     ]
    },
    {
     "name": "stderr",
     "output_type": "stream",
     "text": [
      "[15:46:50] Molecule does not have explicit Hs. Consider calling AddHs()\n"
     ]
    },
    {
     "name": "stdout",
     "output_type": "stream",
     "text": [
      "0\n",
      "no conformer for MolPort-000-194-009\n",
      "0\n",
      "no conformer for MolPort-000-194-010\n"
     ]
    },
    {
     "name": "stderr",
     "output_type": "stream",
     "text": [
      "[15:46:51] Molecule does not have explicit Hs. Consider calling AddHs()\n",
      "[15:46:51] Molecule does not have explicit Hs. Consider calling AddHs()\n"
     ]
    },
    {
     "name": "stdout",
     "output_type": "stream",
     "text": [
      "0\n",
      "no conformer for MolPort-000-194-015\n",
      "0\n",
      "no conformer for MolPort-000-194-018\n"
     ]
    },
    {
     "name": "stderr",
     "output_type": "stream",
     "text": [
      "[15:46:51] Molecule does not have explicit Hs. Consider calling AddHs()\n",
      "[15:46:51] Molecule does not have explicit Hs. Consider calling AddHs()\n"
     ]
    },
    {
     "name": "stdout",
     "output_type": "stream",
     "text": [
      "0\n",
      "no conformer for MolPort-000-194-029\n",
      "0\n",
      "no conformer for MolPort-000-194-030\n"
     ]
    },
    {
     "name": "stderr",
     "output_type": "stream",
     "text": [
      "[15:46:51] Molecule does not have explicit Hs. Consider calling AddHs()\n",
      "[15:46:52] Molecule does not have explicit Hs. Consider calling AddHs()\n"
     ]
    },
    {
     "name": "stdout",
     "output_type": "stream",
     "text": [
      "0\n",
      "no conformer for MolPort-000-194-032\n",
      "0\n",
      "no conformer for MolPort-000-194-033\n"
     ]
    },
    {
     "name": "stderr",
     "output_type": "stream",
     "text": [
      "[15:46:52] Molecule does not have explicit Hs. Consider calling AddHs()\n",
      "[15:46:52] Molecule does not have explicit Hs. Consider calling AddHs()\n"
     ]
    },
    {
     "name": "stdout",
     "output_type": "stream",
     "text": [
      "0\n",
      "no conformer for MolPort-000-194-035\n",
      "0\n",
      "no conformer for MolPort-000-194-038\n"
     ]
    },
    {
     "name": "stderr",
     "output_type": "stream",
     "text": [
      "[15:46:52] Molecule does not have explicit Hs. Consider calling AddHs()\n",
      "[15:46:52] Molecule does not have explicit Hs. Consider calling AddHs()\n"
     ]
    },
    {
     "name": "stdout",
     "output_type": "stream",
     "text": [
      "0\n",
      "no conformer for MolPort-000-194-039\n",
      "0\n",
      "no conformer for MolPort-000-194-040\n"
     ]
    },
    {
     "name": "stderr",
     "output_type": "stream",
     "text": [
      "[15:46:52] Molecule does not have explicit Hs. Consider calling AddHs()\n",
      "[15:46:53] Molecule does not have explicit Hs. Consider calling AddHs()\n"
     ]
    },
    {
     "name": "stdout",
     "output_type": "stream",
     "text": [
      "0\n",
      "no conformer for MolPort-000-194-044\n",
      "0\n",
      "no conformer for MolPort-000-194-050\n"
     ]
    },
    {
     "name": "stderr",
     "output_type": "stream",
     "text": [
      "[15:46:53] Molecule does not have explicit Hs. Consider calling AddHs()\n",
      "[15:46:53] Molecule does not have explicit Hs. Consider calling AddHs()\n"
     ]
    },
    {
     "name": "stdout",
     "output_type": "stream",
     "text": [
      "0\n",
      "no conformer for MolPort-000-194-052\n"
     ]
    },
    {
     "name": "stderr",
     "output_type": "stream",
     "text": [
      "[15:46:53] Molecule does not have explicit Hs. Consider calling AddHs()\n"
     ]
    },
    {
     "name": "stdout",
     "output_type": "stream",
     "text": [
      "0\n",
      "no conformer for MolPort-000-194-058\n",
      "0\n",
      "no conformer for MolPort-000-194-061\n"
     ]
    },
    {
     "name": "stderr",
     "output_type": "stream",
     "text": [
      "[15:46:54] Molecule does not have explicit Hs. Consider calling AddHs()\n",
      "[15:46:54] Molecule does not have explicit Hs. Consider calling AddHs()\n"
     ]
    },
    {
     "name": "stdout",
     "output_type": "stream",
     "text": [
      "0\n",
      "no conformer for MolPort-000-194-076\n",
      "0\n",
      "no conformer for MolPort-000-194-081\n"
     ]
    },
    {
     "name": "stderr",
     "output_type": "stream",
     "text": [
      "[15:46:54] Molecule does not have explicit Hs. Consider calling AddHs()\n",
      "[15:46:54] Molecule does not have explicit Hs. Consider calling AddHs()\n"
     ]
    },
    {
     "name": "stdout",
     "output_type": "stream",
     "text": [
      "0\n",
      "no conformer for MolPort-000-194-082\n",
      "0\n",
      "no conformer for MolPort-000-194-083\n"
     ]
    },
    {
     "name": "stderr",
     "output_type": "stream",
     "text": [
      "[15:46:54] Molecule does not have explicit Hs. Consider calling AddHs()\n",
      "[15:46:55] Molecule does not have explicit Hs. Consider calling AddHs()\n"
     ]
    },
    {
     "name": "stdout",
     "output_type": "stream",
     "text": [
      "0\n",
      "no conformer for MolPort-000-194-084\n",
      "0\n",
      "no conformer for MolPort-000-194-085\n"
     ]
    },
    {
     "name": "stderr",
     "output_type": "stream",
     "text": [
      "[15:46:55] Molecule does not have explicit Hs. Consider calling AddHs()\n",
      "[15:46:55] Molecule does not have explicit Hs. Consider calling AddHs()\n"
     ]
    },
    {
     "name": "stdout",
     "output_type": "stream",
     "text": [
      "0\n",
      "no conformer for MolPort-000-194-086\n",
      "0\n",
      "no conformer for MolPort-000-194-087\n"
     ]
    },
    {
     "name": "stderr",
     "output_type": "stream",
     "text": [
      "[15:46:55] Molecule does not have explicit Hs. Consider calling AddHs()\n",
      "[15:46:55] Molecule does not have explicit Hs. Consider calling AddHs()\n"
     ]
    },
    {
     "name": "stdout",
     "output_type": "stream",
     "text": [
      "0\n",
      "no conformer for MolPort-000-194-089\n",
      "0\n",
      "no conformer for MolPort-000-194-093\n"
     ]
    },
    {
     "name": "stderr",
     "output_type": "stream",
     "text": [
      "[15:46:55] Molecule does not have explicit Hs. Consider calling AddHs()\n",
      "[15:46:56] Molecule does not have explicit Hs. Consider calling AddHs()\n"
     ]
    },
    {
     "name": "stdout",
     "output_type": "stream",
     "text": [
      "0\n",
      "no conformer for MolPort-000-194-095\n"
     ]
    },
    {
     "name": "stderr",
     "output_type": "stream",
     "text": [
      "[15:46:56] Molecule does not have explicit Hs. Consider calling AddHs()\n"
     ]
    },
    {
     "name": "stdout",
     "output_type": "stream",
     "text": [
      "0\n",
      "no conformer for MolPort-000-194-096\n"
     ]
    },
    {
     "name": "stderr",
     "output_type": "stream",
     "text": [
      "[15:46:56] Molecule does not have explicit Hs. Consider calling AddHs()\n"
     ]
    },
    {
     "name": "stdout",
     "output_type": "stream",
     "text": [
      "0\n",
      "no conformer for MolPort-000-194-101\n",
      "0\n",
      "no conformer for MolPort-000-194-104\n"
     ]
    },
    {
     "name": "stderr",
     "output_type": "stream",
     "text": [
      "[15:46:56] Molecule does not have explicit Hs. Consider calling AddHs()\n",
      "[15:46:57] Molecule does not have explicit Hs. Consider calling AddHs()\n"
     ]
    },
    {
     "name": "stdout",
     "output_type": "stream",
     "text": [
      "0\n",
      "no conformer for MolPort-000-194-115\n",
      "0\n",
      "no conformer for MolPort-000-194-116\n"
     ]
    },
    {
     "name": "stderr",
     "output_type": "stream",
     "text": [
      "[15:46:57] Molecule does not have explicit Hs. Consider calling AddHs()\n",
      "[15:46:57] Molecule does not have explicit Hs. Consider calling AddHs()\n"
     ]
    },
    {
     "name": "stdout",
     "output_type": "stream",
     "text": [
      "0\n",
      "no conformer for MolPort-000-194-118\n",
      "0\n",
      "no conformer for MolPort-000-194-119\n"
     ]
    },
    {
     "name": "stderr",
     "output_type": "stream",
     "text": [
      "[15:46:57] Molecule does not have explicit Hs. Consider calling AddHs()\n",
      "[15:46:57] Molecule does not have explicit Hs. Consider calling AddHs()\n",
      "[15:46:58] Molecule does not have explicit Hs. Consider calling AddHs()\n"
     ]
    },
    {
     "name": "stdout",
     "output_type": "stream",
     "text": [
      "0\n",
      "no conformer for MolPort-000-194-121\n",
      "0\n",
      "no conformer for MolPort-000-194-124\n"
     ]
    },
    {
     "name": "stderr",
     "output_type": "stream",
     "text": [
      "[15:46:58] Molecule does not have explicit Hs. Consider calling AddHs()\n",
      "[15:46:58] Molecule does not have explicit Hs. Consider calling AddHs()\n"
     ]
    },
    {
     "name": "stdout",
     "output_type": "stream",
     "text": [
      "0\n",
      "no conformer for MolPort-000-194-125\n",
      "0\n",
      "no conformer for MolPort-000-194-126\n"
     ]
    },
    {
     "name": "stderr",
     "output_type": "stream",
     "text": [
      "[15:46:58] Molecule does not have explicit Hs. Consider calling AddHs()\n",
      "[15:46:58] Molecule does not have explicit Hs. Consider calling AddHs()\n"
     ]
    },
    {
     "name": "stdout",
     "output_type": "stream",
     "text": [
      "0\n",
      "no conformer for MolPort-000-194-127\n",
      "0\n",
      "no conformer for MolPort-000-194-128\n"
     ]
    },
    {
     "name": "stderr",
     "output_type": "stream",
     "text": [
      "[15:46:58] Molecule does not have explicit Hs. Consider calling AddHs()\n"
     ]
    },
    {
     "name": "stdout",
     "output_type": "stream",
     "text": [
      "0\n",
      "no conformer for MolPort-000-194-129\n",
      "0\n",
      "no conformer for MolPort-000-194-130\n"
     ]
    },
    {
     "name": "stderr",
     "output_type": "stream",
     "text": [
      "[15:46:59] Molecule does not have explicit Hs. Consider calling AddHs()\n",
      "[15:46:59] Molecule does not have explicit Hs. Consider calling AddHs()\n"
     ]
    },
    {
     "name": "stdout",
     "output_type": "stream",
     "text": [
      "0\n",
      "no conformer for MolPort-000-194-132\n",
      "0\n",
      "no conformer for MolPort-000-194-133\n"
     ]
    },
    {
     "name": "stderr",
     "output_type": "stream",
     "text": [
      "[15:46:59] Molecule does not have explicit Hs. Consider calling AddHs()\n",
      "[15:46:59] Molecule does not have explicit Hs. Consider calling AddHs()\n"
     ]
    },
    {
     "name": "stdout",
     "output_type": "stream",
     "text": [
      "0\n",
      "no conformer for MolPort-000-194-136\n"
     ]
    },
    {
     "name": "stderr",
     "output_type": "stream",
     "text": [
      "[15:46:59] Molecule does not have explicit Hs. Consider calling AddHs()\n"
     ]
    },
    {
     "name": "stdout",
     "output_type": "stream",
     "text": [
      "0\n",
      "no conformer for MolPort-000-194-138\n"
     ]
    },
    {
     "name": "stderr",
     "output_type": "stream",
     "text": [
      "[15:47:00] Molecule does not have explicit Hs. Consider calling AddHs()\n"
     ]
    },
    {
     "name": "stdout",
     "output_type": "stream",
     "text": [
      "0\n",
      "no conformer for MolPort-000-194-139\n"
     ]
    },
    {
     "name": "stderr",
     "output_type": "stream",
     "text": [
      "[15:47:00] Molecule does not have explicit Hs. Consider calling AddHs()\n"
     ]
    },
    {
     "name": "stdout",
     "output_type": "stream",
     "text": [
      "0\n",
      "no conformer for MolPort-000-194-158\n",
      "0\n",
      "no conformer for MolPort-000-194-159\n"
     ]
    },
    {
     "name": "stderr",
     "output_type": "stream",
     "text": [
      "[15:47:00] Molecule does not have explicit Hs. Consider calling AddHs()\n",
      "[15:47:00] Molecule does not have explicit Hs. Consider calling AddHs()\n"
     ]
    },
    {
     "name": "stdout",
     "output_type": "stream",
     "text": [
      "0\n",
      "no conformer for MolPort-000-194-144\n",
      "0\n",
      "no conformer for MolPort-000-194-147\n"
     ]
    },
    {
     "name": "stderr",
     "output_type": "stream",
     "text": [
      "[15:47:00] Molecule does not have explicit Hs. Consider calling AddHs()\n",
      "[15:47:01] Molecule does not have explicit Hs. Consider calling AddHs()\n"
     ]
    },
    {
     "name": "stdout",
     "output_type": "stream",
     "text": [
      "0\n",
      "no conformer for MolPort-000-194-149\n"
     ]
    },
    {
     "name": "stderr",
     "output_type": "stream",
     "text": [
      "[15:47:01] Molecule does not have explicit Hs. Consider calling AddHs()\n"
     ]
    },
    {
     "name": "stdout",
     "output_type": "stream",
     "text": [
      "0\n",
      "no conformer for MolPort-000-194-151\n",
      "0\n",
      "no conformer for MolPort-000-194-161\n"
     ]
    },
    {
     "name": "stderr",
     "output_type": "stream",
     "text": [
      "[15:47:01] Molecule does not have explicit Hs. Consider calling AddHs()\n",
      "[15:47:01] Molecule does not have explicit Hs. Consider calling AddHs()\n"
     ]
    },
    {
     "name": "stdout",
     "output_type": "stream",
     "text": [
      "0\n",
      "no conformer for MolPort-000-194-162\n",
      "0\n",
      "no conformer for MolPort-000-194-164\n"
     ]
    },
    {
     "name": "stderr",
     "output_type": "stream",
     "text": [
      "[15:47:01] Molecule does not have explicit Hs. Consider calling AddHs()\n",
      "[15:47:02] Molecule does not have explicit Hs. Consider calling AddHs()\n"
     ]
    },
    {
     "name": "stdout",
     "output_type": "stream",
     "text": [
      "0\n",
      "no conformer for MolPort-000-194-171\n",
      "0\n",
      "no conformer for MolPort-000-194-167\n"
     ]
    },
    {
     "name": "stderr",
     "output_type": "stream",
     "text": [
      "[15:47:02] Molecule does not have explicit Hs. Consider calling AddHs()\n",
      "[15:47:02] Molecule does not have explicit Hs. Consider calling AddHs()\n"
     ]
    },
    {
     "name": "stdout",
     "output_type": "stream",
     "text": [
      "0\n",
      "no conformer for MolPort-000-194-168\n",
      "0\n",
      "no conformer for MolPort-000-194-169\n"
     ]
    },
    {
     "name": "stderr",
     "output_type": "stream",
     "text": [
      "[15:47:02] Molecule does not have explicit Hs. Consider calling AddHs()\n",
      "[15:47:02] Molecule does not have explicit Hs. Consider calling AddHs()\n"
     ]
    },
    {
     "name": "stdout",
     "output_type": "stream",
     "text": [
      "0\n",
      "no conformer for MolPort-000-194-170\n",
      "0\n",
      "no conformer for MolPort-000-194-201\n"
     ]
    },
    {
     "name": "stderr",
     "output_type": "stream",
     "text": [
      "[15:47:02] Molecule does not have explicit Hs. Consider calling AddHs()\n",
      "[15:47:03] Molecule does not have explicit Hs. Consider calling AddHs()\n"
     ]
    },
    {
     "name": "stdout",
     "output_type": "stream",
     "text": [
      "0\n",
      "no conformer for MolPort-000-194-202\n",
      "0\n",
      "no conformer for MolPort-000-194-172\n"
     ]
    },
    {
     "name": "stderr",
     "output_type": "stream",
     "text": [
      "[15:47:03] Molecule does not have explicit Hs. Consider calling AddHs()\n",
      "[15:47:03] Molecule does not have explicit Hs. Consider calling AddHs()\n"
     ]
    },
    {
     "name": "stdout",
     "output_type": "stream",
     "text": [
      "0\n",
      "no conformer for MolPort-000-194-173\n",
      "0\n",
      "no conformer for MolPort-000-194-175\n"
     ]
    },
    {
     "name": "stderr",
     "output_type": "stream",
     "text": [
      "[15:47:03] Molecule does not have explicit Hs. Consider calling AddHs()\n",
      "[15:47:03] Molecule does not have explicit Hs. Consider calling AddHs()\n"
     ]
    },
    {
     "name": "stdout",
     "output_type": "stream",
     "text": [
      "0\n",
      "no conformer for MolPort-000-194-181\n",
      "0\n",
      "no conformer for MolPort-000-194-182\n"
     ]
    },
    {
     "name": "stderr",
     "output_type": "stream",
     "text": [
      "[15:47:03] Molecule does not have explicit Hs. Consider calling AddHs()\n",
      "[15:47:03] Molecule does not have explicit Hs. Consider calling AddHs()\n"
     ]
    },
    {
     "name": "stdout",
     "output_type": "stream",
     "text": [
      "0\n",
      "no conformer for MolPort-000-194-187\n",
      "0\n",
      "no conformer for MolPort-000-194-190\n"
     ]
    },
    {
     "name": "stderr",
     "output_type": "stream",
     "text": [
      "[15:47:04] Molecule does not have explicit Hs. Consider calling AddHs()\n",
      "[15:47:04] Molecule does not have explicit Hs. Consider calling AddHs()\n"
     ]
    },
    {
     "name": "stdout",
     "output_type": "stream",
     "text": [
      "0\n",
      "no conformer for MolPort-000-194-214\n",
      "0\n",
      "no conformer for MolPort-000-194-204\n"
     ]
    },
    {
     "name": "stderr",
     "output_type": "stream",
     "text": [
      "[15:47:04] Molecule does not have explicit Hs. Consider calling AddHs()\n",
      "[15:47:04] Molecule does not have explicit Hs. Consider calling AddHs()\n"
     ]
    },
    {
     "name": "stdout",
     "output_type": "stream",
     "text": [
      "0\n",
      "no conformer for MolPort-000-194-205\n",
      "0\n",
      "no conformer for MolPort-000-194-207\n"
     ]
    },
    {
     "name": "stderr",
     "output_type": "stream",
     "text": [
      "[15:47:04] Molecule does not have explicit Hs. Consider calling AddHs()\n",
      "[15:47:04] Molecule does not have explicit Hs. Consider calling AddHs()\n"
     ]
    },
    {
     "name": "stdout",
     "output_type": "stream",
     "text": [
      "0\n",
      "no conformer for MolPort-000-194-210\n",
      "0\n",
      "no conformer for MolPort-000-194-211\n"
     ]
    },
    {
     "name": "stderr",
     "output_type": "stream",
     "text": [
      "[15:47:05] Molecule does not have explicit Hs. Consider calling AddHs()\n",
      "[15:47:05] Molecule does not have explicit Hs. Consider calling AddHs()\n"
     ]
    },
    {
     "name": "stdout",
     "output_type": "stream",
     "text": [
      "0\n",
      "no conformer for MolPort-000-194-212\n",
      "0\n",
      "no conformer for MolPort-000-194-213\n"
     ]
    },
    {
     "name": "stderr",
     "output_type": "stream",
     "text": [
      "[15:47:05] Molecule does not have explicit Hs. Consider calling AddHs()\n",
      "[15:47:05] Molecule does not have explicit Hs. Consider calling AddHs()\n"
     ]
    },
    {
     "name": "stdout",
     "output_type": "stream",
     "text": [
      "0\n",
      "no conformer for MolPort-000-194-215\n",
      "0\n",
      "no conformer for MolPort-000-194-247\n"
     ]
    },
    {
     "name": "stderr",
     "output_type": "stream",
     "text": [
      "[15:47:05] Molecule does not have explicit Hs. Consider calling AddHs()\n",
      "[15:47:05] Molecule does not have explicit Hs. Consider calling AddHs()\n"
     ]
    },
    {
     "name": "stdout",
     "output_type": "stream",
     "text": [
      "0\n",
      "no conformer for MolPort-000-194-216\n",
      "0\n",
      "no conformer for MolPort-000-194-218\n"
     ]
    },
    {
     "name": "stderr",
     "output_type": "stream",
     "text": [
      "[15:47:05] Molecule does not have explicit Hs. Consider calling AddHs()\n",
      "[15:47:05] Molecule does not have explicit Hs. Consider calling AddHs()\n"
     ]
    },
    {
     "name": "stdout",
     "output_type": "stream",
     "text": [
      "0\n",
      "no conformer for MolPort-000-194-222\n"
     ]
    },
    {
     "name": "stderr",
     "output_type": "stream",
     "text": [
      "[15:47:06] Molecule does not have explicit Hs. Consider calling AddHs()\n"
     ]
    },
    {
     "name": "stdout",
     "output_type": "stream",
     "text": [
      "0\n",
      "no conformer for MolPort-000-194-224\n",
      "0\n",
      "no conformer for MolPort-000-194-225\n"
     ]
    },
    {
     "name": "stderr",
     "output_type": "stream",
     "text": [
      "[15:47:06] Molecule does not have explicit Hs. Consider calling AddHs()\n",
      "[15:47:06] Molecule does not have explicit Hs. Consider calling AddHs()\n"
     ]
    },
    {
     "name": "stdout",
     "output_type": "stream",
     "text": [
      "0\n",
      "no conformer for MolPort-000-194-230\n",
      "0\n",
      "no conformer for MolPort-000-194-233\n"
     ]
    },
    {
     "name": "stderr",
     "output_type": "stream",
     "text": [
      "[15:47:06] Molecule does not have explicit Hs. Consider calling AddHs()\n",
      "[15:47:06] Molecule does not have explicit Hs. Consider calling AddHs()\n"
     ]
    },
    {
     "name": "stdout",
     "output_type": "stream",
     "text": [
      "0\n",
      "no conformer for MolPort-000-194-235\n",
      "0\n",
      "no conformer for MolPort-000-194-244\n"
     ]
    },
    {
     "name": "stderr",
     "output_type": "stream",
     "text": [
      "[15:47:07] Molecule does not have explicit Hs. Consider calling AddHs()\n",
      "[15:47:07] Molecule does not have explicit Hs. Consider calling AddHs()\n"
     ]
    },
    {
     "name": "stdout",
     "output_type": "stream",
     "text": [
      "0\n",
      "no conformer for MolPort-000-194-245\n",
      "0\n",
      "no conformer for MolPort-000-194-248\n"
     ]
    },
    {
     "name": "stderr",
     "output_type": "stream",
     "text": [
      "[15:47:07] Molecule does not have explicit Hs. Consider calling AddHs()\n",
      "[15:47:07] Molecule does not have explicit Hs. Consider calling AddHs()\n"
     ]
    },
    {
     "name": "stdout",
     "output_type": "stream",
     "text": [
      "0\n",
      "no conformer for MolPort-000-194-333\n"
     ]
    },
    {
     "name": "stderr",
     "output_type": "stream",
     "text": [
      "[15:47:07] Molecule does not have explicit Hs. Consider calling AddHs()\n"
     ]
    },
    {
     "name": "stdout",
     "output_type": "stream",
     "text": [
      "0\n",
      "no conformer for MolPort-000-194-334\n",
      "0\n",
      "no conformer for MolPort-000-361-676\n",
      "0\n",
      "no conformer for MolPort-000-194-250\n"
     ]
    },
    {
     "name": "stderr",
     "output_type": "stream",
     "text": [
      "[15:47:07] Molecule does not have explicit Hs. Consider calling AddHs()\n",
      "[15:47:08] Molecule does not have explicit Hs. Consider calling AddHs()\n",
      "[15:47:08] Molecule does not have explicit Hs. Consider calling AddHs()\n"
     ]
    },
    {
     "name": "stdout",
     "output_type": "stream",
     "text": [
      "0\n",
      "no conformer for MolPort-000-194-253\n",
      "0\n",
      "no conformer for MolPort-000-194-254\n"
     ]
    },
    {
     "name": "stderr",
     "output_type": "stream",
     "text": [
      "[15:47:08] Molecule does not have explicit Hs. Consider calling AddHs()\n",
      "[15:47:08] Molecule does not have explicit Hs. Consider calling AddHs()\n"
     ]
    },
    {
     "name": "stdout",
     "output_type": "stream",
     "text": [
      "0\n",
      "no conformer for MolPort-000-194-255\n",
      "0\n",
      "no conformer for MolPort-000-194-331\n"
     ]
    },
    {
     "name": "stderr",
     "output_type": "stream",
     "text": [
      "[15:47:08] Molecule does not have explicit Hs. Consider calling AddHs()\n",
      "[15:47:08] Molecule does not have explicit Hs. Consider calling AddHs()\n"
     ]
    },
    {
     "name": "stdout",
     "output_type": "stream",
     "text": [
      "0\n",
      "no conformer for MolPort-000-194-256\n",
      "0\n",
      "no conformer for MolPort-000-194-257\n"
     ]
    },
    {
     "name": "stderr",
     "output_type": "stream",
     "text": [
      "[15:47:08] Molecule does not have explicit Hs. Consider calling AddHs()\n",
      "[15:47:09] Molecule does not have explicit Hs. Consider calling AddHs()\n"
     ]
    },
    {
     "name": "stdout",
     "output_type": "stream",
     "text": [
      "0\n",
      "no conformer for MolPort-000-194-258\n",
      "0\n",
      "no conformer for MolPort-000-194-261\n"
     ]
    },
    {
     "name": "stderr",
     "output_type": "stream",
     "text": [
      "[15:47:09] Molecule does not have explicit Hs. Consider calling AddHs()\n",
      "[15:47:09] Molecule does not have explicit Hs. Consider calling AddHs()\n"
     ]
    },
    {
     "name": "stdout",
     "output_type": "stream",
     "text": [
      "0\n",
      "no conformer for MolPort-000-194-267\n",
      "0\n",
      "no conformer for MolPort-000-194-268\n"
     ]
    },
    {
     "name": "stderr",
     "output_type": "stream",
     "text": [
      "[15:47:09] Molecule does not have explicit Hs. Consider calling AddHs()\n",
      "[15:47:09] Molecule does not have explicit Hs. Consider calling AddHs()\n"
     ]
    },
    {
     "name": "stdout",
     "output_type": "stream",
     "text": [
      "0\n",
      "no conformer for MolPort-000-194-273\n"
     ]
    },
    {
     "name": "stderr",
     "output_type": "stream",
     "text": [
      "[15:47:10] Molecule does not have explicit Hs. Consider calling AddHs()\n"
     ]
    },
    {
     "name": "stdout",
     "output_type": "stream",
     "text": [
      "0\n",
      "no conformer for MolPort-000-194-351\n",
      "0\n",
      "no conformer for MolPort-000-194-276\n"
     ]
    },
    {
     "name": "stderr",
     "output_type": "stream",
     "text": [
      "[15:47:10] Molecule does not have explicit Hs. Consider calling AddHs()\n",
      "[15:47:10] Molecule does not have explicit Hs. Consider calling AddHs()\n"
     ]
    },
    {
     "name": "stdout",
     "output_type": "stream",
     "text": [
      "0\n",
      "no conformer for MolPort-000-194-287\n",
      "0\n",
      "no conformer for MolPort-000-194-288\n"
     ]
    },
    {
     "name": "stderr",
     "output_type": "stream",
     "text": [
      "[15:47:10] Molecule does not have explicit Hs. Consider calling AddHs()\n",
      "[15:47:10] Molecule does not have explicit Hs. Consider calling AddHs()\n"
     ]
    },
    {
     "name": "stdout",
     "output_type": "stream",
     "text": [
      "0\n",
      "no conformer for MolPort-000-194-296\n",
      "0\n",
      "no conformer for MolPort-000-194-297\n"
     ]
    },
    {
     "name": "stderr",
     "output_type": "stream",
     "text": [
      "[15:47:10] Molecule does not have explicit Hs. Consider calling AddHs()\n",
      "[15:47:11] Molecule does not have explicit Hs. Consider calling AddHs()\n"
     ]
    },
    {
     "name": "stdout",
     "output_type": "stream",
     "text": [
      "0\n",
      "no conformer for MolPort-000-194-298\n",
      "0\n",
      "no conformer for MolPort-000-194-299\n"
     ]
    },
    {
     "name": "stderr",
     "output_type": "stream",
     "text": [
      "[15:47:11] Molecule does not have explicit Hs. Consider calling AddHs()\n",
      "[15:47:11] Molecule does not have explicit Hs. Consider calling AddHs()\n"
     ]
    },
    {
     "name": "stdout",
     "output_type": "stream",
     "text": [
      "0\n",
      "no conformer for MolPort-000-194-300\n"
     ]
    },
    {
     "name": "stderr",
     "output_type": "stream",
     "text": [
      "[15:47:11] Molecule does not have explicit Hs. Consider calling AddHs()\n"
     ]
    },
    {
     "name": "stdout",
     "output_type": "stream",
     "text": [
      "0\n",
      "no conformer for MolPort-000-194-376\n",
      "0\n",
      "no conformer for MolPort-000-194-301\n"
     ]
    },
    {
     "name": "stderr",
     "output_type": "stream",
     "text": [
      "[15:47:11] Molecule does not have explicit Hs. Consider calling AddHs()\n",
      "[15:47:12] Molecule does not have explicit Hs. Consider calling AddHs()\n"
     ]
    },
    {
     "name": "stdout",
     "output_type": "stream",
     "text": [
      "0\n",
      "no conformer for MolPort-000-194-302\n",
      "0\n",
      "no conformer for MolPort-000-194-304\n"
     ]
    },
    {
     "name": "stderr",
     "output_type": "stream",
     "text": [
      "[15:47:12] Molecule does not have explicit Hs. Consider calling AddHs()\n",
      "[15:47:12] Molecule does not have explicit Hs. Consider calling AddHs()\n"
     ]
    },
    {
     "name": "stdout",
     "output_type": "stream",
     "text": [
      "0\n",
      "no conformer for MolPort-000-194-308\n"
     ]
    },
    {
     "name": "stderr",
     "output_type": "stream",
     "text": [
      "[15:47:12] Molecule does not have explicit Hs. Consider calling AddHs()\n"
     ]
    },
    {
     "name": "stdout",
     "output_type": "stream",
     "text": [
      "0\n",
      "no conformer for MolPort-000-194-310\n"
     ]
    },
    {
     "name": "stderr",
     "output_type": "stream",
     "text": [
      "[15:47:13] Molecule does not have explicit Hs. Consider calling AddHs()\n"
     ]
    },
    {
     "name": "stdout",
     "output_type": "stream",
     "text": [
      "0\n",
      "no conformer for MolPort-000-194-311\n"
     ]
    },
    {
     "name": "stderr",
     "output_type": "stream",
     "text": [
      "[15:47:13] Molecule does not have explicit Hs. Consider calling AddHs()\n"
     ]
    },
    {
     "name": "stdout",
     "output_type": "stream",
     "text": [
      "0\n",
      "no conformer for MolPort-000-194-316\n",
      "0\n",
      "no conformer for MolPort-000-194-319\n"
     ]
    },
    {
     "name": "stderr",
     "output_type": "stream",
     "text": [
      "[15:47:13] Molecule does not have explicit Hs. Consider calling AddHs()\n",
      "[15:47:13] Molecule does not have explicit Hs. Consider calling AddHs()\n"
     ]
    },
    {
     "name": "stdout",
     "output_type": "stream",
     "text": [
      "0\n",
      "no conformer for MolPort-000-194-330\n",
      "0\n",
      "no conformer for MolPort-000-194-336\n"
     ]
    },
    {
     "name": "stderr",
     "output_type": "stream",
     "text": [
      "[15:47:13] Molecule does not have explicit Hs. Consider calling AddHs()\n",
      "[15:47:14] Molecule does not have explicit Hs. Consider calling AddHs()\n"
     ]
    },
    {
     "name": "stdout",
     "output_type": "stream",
     "text": [
      "0\n",
      "no conformer for MolPort-000-194-339\n"
     ]
    },
    {
     "name": "stderr",
     "output_type": "stream",
     "text": [
      "[15:47:14] Molecule does not have explicit Hs. Consider calling AddHs()\n"
     ]
    },
    {
     "name": "stdout",
     "output_type": "stream",
     "text": [
      "0\n",
      "no conformer for MolPort-000-194-340\n"
     ]
    },
    {
     "name": "stderr",
     "output_type": "stream",
     "text": [
      "[15:47:14] Molecule does not have explicit Hs. Consider calling AddHs()\n"
     ]
    },
    {
     "name": "stdout",
     "output_type": "stream",
     "text": [
      "0\n",
      "no conformer for MolPort-000-194-341\n"
     ]
    },
    {
     "name": "stderr",
     "output_type": "stream",
     "text": [
      "[15:47:14] Molecule does not have explicit Hs. Consider calling AddHs()\n"
     ]
    },
    {
     "name": "stdout",
     "output_type": "stream",
     "text": [
      "0\n",
      "no conformer for MolPort-000-194-343\n"
     ]
    },
    {
     "name": "stderr",
     "output_type": "stream",
     "text": [
      "[15:47:14] Molecule does not have explicit Hs. Consider calling AddHs()\n"
     ]
    },
    {
     "name": "stdout",
     "output_type": "stream",
     "text": [
      "0\n",
      "no conformer for MolPort-000-194-345\n",
      "0\n",
      "no conformer for MolPort-000-194-347\n"
     ]
    },
    {
     "name": "stderr",
     "output_type": "stream",
     "text": [
      "[15:47:15] Molecule does not have explicit Hs. Consider calling AddHs()\n",
      "[15:47:15] Molecule does not have explicit Hs. Consider calling AddHs()\n"
     ]
    },
    {
     "name": "stdout",
     "output_type": "stream",
     "text": [
      "0\n",
      "no conformer for MolPort-000-194-353\n"
     ]
    },
    {
     "name": "stderr",
     "output_type": "stream",
     "text": [
      "[15:47:15] Molecule does not have explicit Hs. Consider calling AddHs()\n"
     ]
    },
    {
     "name": "stdout",
     "output_type": "stream",
     "text": [
      "0\n",
      "no conformer for MolPort-000-194-354\n"
     ]
    },
    {
     "name": "stderr",
     "output_type": "stream",
     "text": [
      "[15:47:15] Molecule does not have explicit Hs. Consider calling AddHs()\n"
     ]
    },
    {
     "name": "stdout",
     "output_type": "stream",
     "text": [
      "0\n",
      "no conformer for MolPort-000-194-359\n"
     ]
    },
    {
     "name": "stderr",
     "output_type": "stream",
     "text": [
      "[15:47:16] Molecule does not have explicit Hs. Consider calling AddHs()\n"
     ]
    },
    {
     "name": "stdout",
     "output_type": "stream",
     "text": [
      "0\n",
      "no conformer for MolPort-000-194-362\n"
     ]
    },
    {
     "name": "stderr",
     "output_type": "stream",
     "text": [
      "[15:47:16] Molecule does not have explicit Hs. Consider calling AddHs()\n"
     ]
    },
    {
     "name": "stdout",
     "output_type": "stream",
     "text": [
      "0\n",
      "no conformer for MolPort-000-194-373\n"
     ]
    },
    {
     "name": "stderr",
     "output_type": "stream",
     "text": [
      "[15:47:16] Molecule does not have explicit Hs. Consider calling AddHs()\n"
     ]
    },
    {
     "name": "stdout",
     "output_type": "stream",
     "text": [
      "0\n",
      "no conformer for MolPort-000-194-374\n",
      "0\n",
      "no conformer for MolPort-000-194-379\n"
     ]
    },
    {
     "name": "stderr",
     "output_type": "stream",
     "text": [
      "[15:47:16] Molecule does not have explicit Hs. Consider calling AddHs()\n",
      "[15:47:17] Molecule does not have explicit Hs. Consider calling AddHs()\n"
     ]
    },
    {
     "name": "stdout",
     "output_type": "stream",
     "text": [
      "0\n",
      "no conformer for MolPort-000-234-586\n",
      "0\n",
      "no conformer for MolPort-000-241-056\n"
     ]
    },
    {
     "name": "stderr",
     "output_type": "stream",
     "text": [
      "[15:47:17] Molecule does not have explicit Hs. Consider calling AddHs()\n",
      "[15:47:17] Molecule does not have explicit Hs. Consider calling AddHs()\n"
     ]
    },
    {
     "name": "stdout",
     "output_type": "stream",
     "text": [
      "0\n",
      "no conformer for MolPort-000-361-671\n",
      "0\n",
      "no conformer for MolPort-000-361-672\n",
      "0\n",
      "no conformer for MolPort-000-361-673\n",
      "0\n",
      "no conformer for MolPort-000-361-674\n"
     ]
    },
    {
     "name": "stderr",
     "output_type": "stream",
     "text": [
      "[15:47:17] Molecule does not have explicit Hs. Consider calling AddHs()\n",
      "[15:47:17] Molecule does not have explicit Hs. Consider calling AddHs()\n",
      "[15:47:17] Molecule does not have explicit Hs. Consider calling AddHs()\n",
      "[15:47:17] Molecule does not have explicit Hs. Consider calling AddHs()\n"
     ]
    },
    {
     "name": "stdout",
     "output_type": "stream",
     "text": [
      "0\n",
      "no conformer for MolPort-000-361-675\n",
      "0\n",
      "no conformer for MolPort-000-361-677\n",
      "0\n",
      "no conformer for MolPort-000-361-678\n",
      "0\n",
      "no conformer for MolPort-000-361-687\n"
     ]
    },
    {
     "name": "stderr",
     "output_type": "stream",
     "text": [
      "[15:47:18] Molecule does not have explicit Hs. Consider calling AddHs()\n",
      "[15:47:18] Molecule does not have explicit Hs. Consider calling AddHs()\n",
      "[15:47:18] Molecule does not have explicit Hs. Consider calling AddHs()\n",
      "[15:47:18] Molecule does not have explicit Hs. Consider calling AddHs()\n"
     ]
    },
    {
     "name": "stdout",
     "output_type": "stream",
     "text": [
      "0\n",
      "no conformer for MolPort-000-361-679\n",
      "0\n",
      "no conformer for MolPort-000-361-680\n",
      "0\n",
      "no conformer for MolPort-000-361-681\n",
      "0\n",
      "no conformer for MolPort-000-361-683\n"
     ]
    },
    {
     "name": "stderr",
     "output_type": "stream",
     "text": [
      "[15:47:18] Molecule does not have explicit Hs. Consider calling AddHs()\n",
      "[15:47:18] Molecule does not have explicit Hs. Consider calling AddHs()\n",
      "[15:47:18] Molecule does not have explicit Hs. Consider calling AddHs()\n",
      "[15:47:18] Molecule does not have explicit Hs. Consider calling AddHs()\n"
     ]
    },
    {
     "name": "stdout",
     "output_type": "stream",
     "text": [
      "0\n",
      "no conformer for MolPort-000-361-684\n",
      "0\n",
      "no conformer for MolPort-000-361-685\n",
      "0\n",
      "no conformer for MolPort-000-361-686\n"
     ]
    },
    {
     "name": "stderr",
     "output_type": "stream",
     "text": [
      "[15:47:18] Molecule does not have explicit Hs. Consider calling AddHs()\n",
      "[15:47:18] Molecule does not have explicit Hs. Consider calling AddHs()\n",
      "[15:47:18] Molecule does not have explicit Hs. Consider calling AddHs()\n"
     ]
    },
    {
     "name": "stdout",
     "output_type": "stream",
     "text": [
      "0\n",
      "no conformer for MolPort-000-523-274\n",
      "0\n",
      "no conformer for MolPort-000-361-688\n",
      "0\n",
      "no conformer for MolPort-000-361-692\n"
     ]
    },
    {
     "name": "stderr",
     "output_type": "stream",
     "text": [
      "[15:47:18] Molecule does not have explicit Hs. Consider calling AddHs()\n",
      "[15:47:18] Molecule does not have explicit Hs. Consider calling AddHs()\n",
      "[15:47:19] Molecule does not have explicit Hs. Consider calling AddHs()\n"
     ]
    },
    {
     "name": "stdout",
     "output_type": "stream",
     "text": [
      "0\n",
      "no conformer for MolPort-000-361-698\n",
      "0\n",
      "no conformer for MolPort-000-361-699\n",
      "0\n",
      "no conformer for MolPort-000-361-700\n",
      "0\n",
      "no conformer for MolPort-000-361-701\n"
     ]
    },
    {
     "name": "stderr",
     "output_type": "stream",
     "text": [
      "[15:47:19] Molecule does not have explicit Hs. Consider calling AddHs()\n",
      "[15:47:19] Molecule does not have explicit Hs. Consider calling AddHs()\n",
      "[15:47:19] Molecule does not have explicit Hs. Consider calling AddHs()\n",
      "[15:47:19] Molecule does not have explicit Hs. Consider calling AddHs()\n"
     ]
    },
    {
     "name": "stdout",
     "output_type": "stream",
     "text": [
      "0\n",
      "no conformer for MolPort-000-361-703\n",
      "0\n",
      "no conformer for MolPort-000-361-707\n",
      "0\n",
      "no conformer for MolPort-000-361-708\n"
     ]
    },
    {
     "name": "stderr",
     "output_type": "stream",
     "text": [
      "[15:47:19] Molecule does not have explicit Hs. Consider calling AddHs()\n",
      "[15:47:19] Molecule does not have explicit Hs. Consider calling AddHs()\n",
      "[15:47:19] Molecule does not have explicit Hs. Consider calling AddHs()\n"
     ]
    },
    {
     "name": "stdout",
     "output_type": "stream",
     "text": [
      "0\n",
      "no conformer for MolPort-000-361-709\n",
      "0\n",
      "no conformer for MolPort-000-361-710\n",
      "0\n",
      "no conformer for MolPort-000-361-711\n"
     ]
    },
    {
     "name": "stderr",
     "output_type": "stream",
     "text": [
      "[15:47:19] Molecule does not have explicit Hs. Consider calling AddHs()\n",
      "[15:47:19] Molecule does not have explicit Hs. Consider calling AddHs()\n",
      "[15:47:19] Molecule does not have explicit Hs. Consider calling AddHs()\n"
     ]
    },
    {
     "name": "stdout",
     "output_type": "stream",
     "text": [
      "0\n",
      "no conformer for MolPort-000-361-712\n",
      "0\n",
      "no conformer for MolPort-000-361-713\n",
      "0\n",
      "no conformer for MolPort-000-361-717\n"
     ]
    },
    {
     "name": "stderr",
     "output_type": "stream",
     "text": [
      "[15:47:19] Molecule does not have explicit Hs. Consider calling AddHs()\n",
      "[15:47:19] Molecule does not have explicit Hs. Consider calling AddHs()\n",
      "[15:47:19] Molecule does not have explicit Hs. Consider calling AddHs()\n"
     ]
    },
    {
     "name": "stdout",
     "output_type": "stream",
     "text": [
      "0\n",
      "no conformer for MolPort-000-361-720\n",
      "0\n",
      "no conformer for MolPort-000-361-722\n",
      "0\n",
      "no conformer for MolPort-000-361-723\n"
     ]
    },
    {
     "name": "stderr",
     "output_type": "stream",
     "text": [
      "[15:47:20] Molecule does not have explicit Hs. Consider calling AddHs()\n",
      "[15:47:20] Molecule does not have explicit Hs. Consider calling AddHs()\n",
      "[15:47:20] Molecule does not have explicit Hs. Consider calling AddHs()\n"
     ]
    },
    {
     "name": "stdout",
     "output_type": "stream",
     "text": [
      "2\n",
      "0\n",
      "no conformer for MolPort-000-361-726\n",
      "0\n",
      "no conformer for MolPort-000-361-728\n"
     ]
    },
    {
     "name": "stderr",
     "output_type": "stream",
     "text": [
      "[15:47:20] Molecule does not have explicit Hs. Consider calling AddHs()\n",
      "[15:47:20] Molecule does not have explicit Hs. Consider calling AddHs()\n",
      "[15:47:20] Molecule does not have explicit Hs. Consider calling AddHs()\n"
     ]
    },
    {
     "name": "stdout",
     "output_type": "stream",
     "text": [
      "0\n",
      "no conformer for MolPort-000-361-729\n",
      "0\n",
      "no conformer for MolPort-000-361-739\n",
      "1\n",
      "0\n",
      "no conformer for MolPort-000-361-742\n"
     ]
    },
    {
     "name": "stderr",
     "output_type": "stream",
     "text": [
      "[15:47:20] Molecule does not have explicit Hs. Consider calling AddHs()\n",
      "[15:47:20] Molecule does not have explicit Hs. Consider calling AddHs()\n",
      "[15:47:20] Molecule does not have explicit Hs. Consider calling AddHs()\n",
      "[15:47:20] Molecule does not have explicit Hs. Consider calling AddHs()\n"
     ]
    },
    {
     "name": "stdout",
     "output_type": "stream",
     "text": [
      "0\n",
      "no conformer for MolPort-000-361-743\n",
      "0\n",
      "no conformer for MolPort-000-361-744\n",
      "0\n",
      "no conformer for MolPort-000-361-745\n",
      "0\n",
      "no conformer for MolPort-000-361-746\n"
     ]
    },
    {
     "name": "stderr",
     "output_type": "stream",
     "text": [
      "[15:47:20] Molecule does not have explicit Hs. Consider calling AddHs()\n",
      "[15:47:20] Molecule does not have explicit Hs. Consider calling AddHs()\n",
      "[15:47:20] Molecule does not have explicit Hs. Consider calling AddHs()\n",
      "[15:47:21] Molecule does not have explicit Hs. Consider calling AddHs()\n"
     ]
    },
    {
     "name": "stdout",
     "output_type": "stream",
     "text": [
      "0\n",
      "no conformer for MolPort-000-361-747\n",
      "0\n",
      "no conformer for MolPort-000-361-749\n",
      "0\n",
      "no conformer for MolPort-000-361-750\n",
      "0\n",
      "no conformer for MolPort-000-361-751\n"
     ]
    },
    {
     "name": "stderr",
     "output_type": "stream",
     "text": [
      "[15:47:21] Molecule does not have explicit Hs. Consider calling AddHs()\n",
      "[15:47:21] Molecule does not have explicit Hs. Consider calling AddHs()\n",
      "[15:47:21] Molecule does not have explicit Hs. Consider calling AddHs()\n",
      "[15:47:21] Molecule does not have explicit Hs. Consider calling AddHs()\n"
     ]
    },
    {
     "name": "stdout",
     "output_type": "stream",
     "text": [
      "1\n",
      "0\n",
      "no conformer for MolPort-000-361-759\n",
      "0\n",
      "no conformer for MolPort-000-361-760\n"
     ]
    },
    {
     "name": "stderr",
     "output_type": "stream",
     "text": [
      "[15:47:21] Molecule does not have explicit Hs. Consider calling AddHs()\n",
      "[15:47:21] Molecule does not have explicit Hs. Consider calling AddHs()\n",
      "[15:47:21] Molecule does not have explicit Hs. Consider calling AddHs()\n"
     ]
    },
    {
     "name": "stdout",
     "output_type": "stream",
     "text": [
      "0\n",
      "no conformer for MolPort-000-362-094\n",
      "0\n",
      "no conformer for MolPort-000-362-096\n",
      "0\n",
      "no conformer for MolPort-000-362-102\n"
     ]
    },
    {
     "name": "stderr",
     "output_type": "stream",
     "text": [
      "[15:47:21] Molecule does not have explicit Hs. Consider calling AddHs()\n",
      "[15:47:21] Molecule does not have explicit Hs. Consider calling AddHs()\n",
      "[15:47:21] Molecule does not have explicit Hs. Consider calling AddHs()\n"
     ]
    },
    {
     "name": "stdout",
     "output_type": "stream",
     "text": [
      "0\n",
      "no conformer for MolPort-000-362-103\n",
      "0\n",
      "no conformer for MolPort-000-362-104\n",
      "0\n",
      "no conformer for MolPort-000-362-119\n"
     ]
    },
    {
     "name": "stderr",
     "output_type": "stream",
     "text": [
      "[15:47:21] Molecule does not have explicit Hs. Consider calling AddHs()\n",
      "[15:47:21] Molecule does not have explicit Hs. Consider calling AddHs()\n",
      "[15:47:22] Molecule does not have explicit Hs. Consider calling AddHs()\n"
     ]
    },
    {
     "name": "stdout",
     "output_type": "stream",
     "text": [
      "0\n",
      "no conformer for MolPort-000-362-123\n",
      "0\n",
      "no conformer for MolPort-000-399-347\n",
      "0\n",
      "no conformer for MolPort-000-399-468\n"
     ]
    },
    {
     "name": "stderr",
     "output_type": "stream",
     "text": [
      "[15:47:22] Molecule does not have explicit Hs. Consider calling AddHs()\n",
      "[15:47:22] Molecule does not have explicit Hs. Consider calling AddHs()\n",
      "[15:47:22] Molecule does not have explicit Hs. Consider calling AddHs()\n"
     ]
    },
    {
     "name": "stdout",
     "output_type": "stream",
     "text": [
      "0\n",
      "no conformer for MolPort-000-399-589\n",
      "0\n",
      "no conformer for MolPort-000-447-659\n"
     ]
    },
    {
     "name": "stderr",
     "output_type": "stream",
     "text": [
      "[15:47:22] Molecule does not have explicit Hs. Consider calling AddHs()\n",
      "[15:47:22] Molecule does not have explicit Hs. Consider calling AddHs()\n"
     ]
    },
    {
     "name": "stdout",
     "output_type": "stream",
     "text": [
      "0\n",
      "no conformer for MolPort-000-447-661\n",
      "0\n",
      "no conformer for MolPort-000-447-662\n"
     ]
    },
    {
     "name": "stderr",
     "output_type": "stream",
     "text": [
      "[15:47:22] Molecule does not have explicit Hs. Consider calling AddHs()\n",
      "[15:47:22] Molecule does not have explicit Hs. Consider calling AddHs()\n"
     ]
    },
    {
     "name": "stdout",
     "output_type": "stream",
     "text": [
      "0\n",
      "no conformer for MolPort-000-448-847\n",
      "0\n",
      "no conformer for MolPort-000-448-848\n"
     ]
    },
    {
     "name": "stderr",
     "output_type": "stream",
     "text": [
      "[15:47:23] Molecule does not have explicit Hs. Consider calling AddHs()\n",
      "[15:47:23] Molecule does not have explicit Hs. Consider calling AddHs()\n"
     ]
    },
    {
     "name": "stdout",
     "output_type": "stream",
     "text": [
      "0\n",
      "no conformer for MolPort-000-448-849\n",
      "0\n",
      "no conformer for MolPort-000-448-850\n"
     ]
    },
    {
     "name": "stderr",
     "output_type": "stream",
     "text": [
      "[15:47:23] Molecule does not have explicit Hs. Consider calling AddHs()\n",
      "[15:47:23] Molecule does not have explicit Hs. Consider calling AddHs()\n"
     ]
    },
    {
     "name": "stdout",
     "output_type": "stream",
     "text": [
      "0\n",
      "no conformer for MolPort-000-448-851\n"
     ]
    },
    {
     "name": "stderr",
     "output_type": "stream",
     "text": [
      "[15:47:23] Molecule does not have explicit Hs. Consider calling AddHs()\n"
     ]
    },
    {
     "name": "stdout",
     "output_type": "stream",
     "text": [
      "0\n",
      "no conformer for MolPort-000-448-852\n",
      "0\n",
      "no conformer for MolPort-000-448-853\n"
     ]
    },
    {
     "name": "stderr",
     "output_type": "stream",
     "text": [
      "[15:47:24] Molecule does not have explicit Hs. Consider calling AddHs()\n",
      "[15:47:24] Molecule does not have explicit Hs. Consider calling AddHs()\n",
      "[15:47:24] Molecule does not have explicit Hs. Consider calling AddHs()\n"
     ]
    },
    {
     "name": "stdout",
     "output_type": "stream",
     "text": [
      "0\n",
      "no conformer for MolPort-000-448-854\n",
      "0\n",
      "no conformer for MolPort-000-448-855\n"
     ]
    },
    {
     "name": "stderr",
     "output_type": "stream",
     "text": [
      "[15:47:24] Molecule does not have explicit Hs. Consider calling AddHs()\n",
      "[15:47:24] Molecule does not have explicit Hs. Consider calling AddHs()\n"
     ]
    },
    {
     "name": "stdout",
     "output_type": "stream",
     "text": [
      "0\n",
      "no conformer for MolPort-000-448-856\n",
      "0\n",
      "no conformer for MolPort-000-448-857\n"
     ]
    },
    {
     "name": "stderr",
     "output_type": "stream",
     "text": [
      "[15:47:24] Molecule does not have explicit Hs. Consider calling AddHs()\n",
      "[15:47:25] Molecule does not have explicit Hs. Consider calling AddHs()\n"
     ]
    },
    {
     "name": "stdout",
     "output_type": "stream",
     "text": [
      "0\n",
      "no conformer for MolPort-000-449-088\n",
      "0\n",
      "no conformer for MolPort-000-449-089\n"
     ]
    },
    {
     "name": "stderr",
     "output_type": "stream",
     "text": [
      "[15:47:25] Molecule does not have explicit Hs. Consider calling AddHs()\n",
      "[15:47:25] Molecule does not have explicit Hs. Consider calling AddHs()\n"
     ]
    },
    {
     "name": "stdout",
     "output_type": "stream",
     "text": [
      "0\n",
      "no conformer for MolPort-000-449-090\n",
      "0\n",
      "no conformer for MolPort-000-449-091\n"
     ]
    },
    {
     "name": "stderr",
     "output_type": "stream",
     "text": [
      "[15:47:25] Molecule does not have explicit Hs. Consider calling AddHs()\n"
     ]
    },
    {
     "name": "stdout",
     "output_type": "stream",
     "text": [
      "0\n",
      "no conformer for MolPort-000-449-092\n",
      "0\n",
      "no conformer for MolPort-000-449-093\n"
     ]
    },
    {
     "name": "stderr",
     "output_type": "stream",
     "text": [
      "[15:47:25] Molecule does not have explicit Hs. Consider calling AddHs()\n",
      "[15:47:26] Molecule does not have explicit Hs. Consider calling AddHs()\n"
     ]
    },
    {
     "name": "stdout",
     "output_type": "stream",
     "text": [
      "0\n",
      "no conformer for MolPort-000-449-094\n",
      "0\n",
      "no conformer for MolPort-000-449-095\n"
     ]
    },
    {
     "name": "stderr",
     "output_type": "stream",
     "text": [
      "[15:47:26] Molecule does not have explicit Hs. Consider calling AddHs()\n",
      "[15:47:26] Molecule does not have explicit Hs. Consider calling AddHs()\n"
     ]
    },
    {
     "name": "stdout",
     "output_type": "stream",
     "text": [
      "0\n",
      "no conformer for MolPort-000-449-096\n",
      "0\n",
      "no conformer for MolPort-000-449-097\n"
     ]
    },
    {
     "name": "stderr",
     "output_type": "stream",
     "text": [
      "[15:47:26] Molecule does not have explicit Hs. Consider calling AddHs()\n",
      "[15:47:26] Molecule does not have explicit Hs. Consider calling AddHs()\n"
     ]
    },
    {
     "name": "stdout",
     "output_type": "stream",
     "text": [
      "0\n",
      "no conformer for MolPort-000-449-135\n",
      "0\n",
      "no conformer for MolPort-000-449-136\n"
     ]
    },
    {
     "name": "stderr",
     "output_type": "stream",
     "text": [
      "[15:47:26] Molecule does not have explicit Hs. Consider calling AddHs()\n",
      "[15:47:27] Molecule does not have explicit Hs. Consider calling AddHs()\n",
      "[15:47:27] Molecule does not have explicit Hs. Consider calling AddHs()\n"
     ]
    },
    {
     "name": "stdout",
     "output_type": "stream",
     "text": [
      "0\n",
      "no conformer for MolPort-000-452-281\n",
      "0\n",
      "no conformer for MolPort-000-452-673\n",
      "0\n",
      "no conformer for MolPort-000-452-674\n"
     ]
    },
    {
     "name": "stderr",
     "output_type": "stream",
     "text": [
      "[15:47:27] Molecule does not have explicit Hs. Consider calling AddHs()\n",
      "[15:47:27] Molecule does not have explicit Hs. Consider calling AddHs()\n"
     ]
    },
    {
     "name": "stdout",
     "output_type": "stream",
     "text": [
      "0\n",
      "no conformer for MolPort-000-452-969\n",
      "0\n",
      "no conformer for MolPort-000-453-092\n"
     ]
    },
    {
     "name": "stderr",
     "output_type": "stream",
     "text": [
      "[15:47:28] Molecule does not have explicit Hs. Consider calling AddHs()\n",
      "[15:47:28] Molecule does not have explicit Hs. Consider calling AddHs()\n"
     ]
    },
    {
     "name": "stdout",
     "output_type": "stream",
     "text": [
      "0\n",
      "no conformer for MolPort-000-453-095\n"
     ]
    },
    {
     "name": "stderr",
     "output_type": "stream",
     "text": [
      "[15:47:28] Molecule does not have explicit Hs. Consider calling AddHs()\n"
     ]
    },
    {
     "name": "stdout",
     "output_type": "stream",
     "text": [
      "0\n",
      "no conformer for MolPort-000-453-096\n",
      "0\n",
      "no conformer for MolPort-000-483-685\n",
      "0\n",
      "no conformer for MolPort-000-484-007\n"
     ]
    },
    {
     "name": "stderr",
     "output_type": "stream",
     "text": [
      "[15:47:28] Molecule does not have explicit Hs. Consider calling AddHs()\n",
      "[15:47:28] Molecule does not have explicit Hs. Consider calling AddHs()\n",
      "[15:47:28] Molecule does not have explicit Hs. Consider calling AddHs()\n"
     ]
    },
    {
     "name": "stdout",
     "output_type": "stream",
     "text": [
      "0\n",
      "no conformer for MolPort-000-484-016\n",
      "0\n",
      "no conformer for MolPort-000-485-875\n"
     ]
    },
    {
     "name": "stderr",
     "output_type": "stream",
     "text": [
      "[15:47:28] Molecule does not have explicit Hs. Consider calling AddHs()\n",
      "[15:47:28] Molecule does not have explicit Hs. Consider calling AddHs()\n"
     ]
    },
    {
     "name": "stdout",
     "output_type": "stream",
     "text": [
      "0\n",
      "no conformer for MolPort-000-485-894\n",
      "0\n",
      "no conformer for MolPort-000-485-998\n",
      "0\n",
      "no conformer for MolPort-000-486-394\n"
     ]
    },
    {
     "name": "stderr",
     "output_type": "stream",
     "text": [
      "[15:47:28] Molecule does not have explicit Hs. Consider calling AddHs()\n",
      "[15:47:29] Molecule does not have explicit Hs. Consider calling AddHs()\n",
      "[15:47:29] Molecule does not have explicit Hs. Consider calling AddHs()\n"
     ]
    },
    {
     "name": "stdout",
     "output_type": "stream",
     "text": [
      "0\n",
      "no conformer for MolPort-000-486-558\n",
      "0\n",
      "no conformer for MolPort-000-486-571\n"
     ]
    },
    {
     "name": "stderr",
     "output_type": "stream",
     "text": [
      "[15:47:29] Molecule does not have explicit Hs. Consider calling AddHs()\n",
      "[15:47:29] Molecule does not have explicit Hs. Consider calling AddHs()\n"
     ]
    },
    {
     "name": "stdout",
     "output_type": "stream",
     "text": [
      "0\n",
      "no conformer for MolPort-000-486-742\n",
      "0\n",
      "no conformer for MolPort-000-515-234\n",
      "0\n",
      "no conformer for MolPort-000-520-675\n"
     ]
    },
    {
     "name": "stderr",
     "output_type": "stream",
     "text": [
      "[15:47:29] Molecule does not have explicit Hs. Consider calling AddHs()\n",
      "[15:47:29] Molecule does not have explicit Hs. Consider calling AddHs()\n",
      "[15:47:29] Molecule does not have explicit Hs. Consider calling AddHs()\n"
     ]
    },
    {
     "name": "stdout",
     "output_type": "stream",
     "text": [
      "0\n",
      "no conformer for MolPort-000-520-803\n",
      "0\n",
      "no conformer for MolPort-000-520-947\n",
      "0\n",
      "no conformer for MolPort-000-521-775\n"
     ]
    },
    {
     "name": "stderr",
     "output_type": "stream",
     "text": [
      "[15:47:29] Molecule does not have explicit Hs. Consider calling AddHs()\n",
      "[15:47:29] Molecule does not have explicit Hs. Consider calling AddHs()\n",
      "[15:47:30] Molecule does not have explicit Hs. Consider calling AddHs()\n"
     ]
    },
    {
     "name": "stdout",
     "output_type": "stream",
     "text": [
      "0\n",
      "no conformer for MolPort-000-521-787\n",
      "0\n",
      "no conformer for MolPort-000-521-915\n"
     ]
    },
    {
     "name": "stderr",
     "output_type": "stream",
     "text": [
      "[15:47:30] Molecule does not have explicit Hs. Consider calling AddHs()\n",
      "[15:47:30] Molecule does not have explicit Hs. Consider calling AddHs()\n"
     ]
    },
    {
     "name": "stdout",
     "output_type": "stream",
     "text": [
      "0\n",
      "no conformer for MolPort-000-521-922\n",
      "0\n",
      "no conformer for MolPort-000-522-437\n",
      "0\n",
      "no conformer for MolPort-000-522-448\n"
     ]
    },
    {
     "name": "stderr",
     "output_type": "stream",
     "text": [
      "[15:47:30] Molecule does not have explicit Hs. Consider calling AddHs()\n",
      "[15:47:30] Molecule does not have explicit Hs. Consider calling AddHs()\n",
      "[15:47:30] Molecule does not have explicit Hs. Consider calling AddHs()\n"
     ]
    },
    {
     "name": "stdout",
     "output_type": "stream",
     "text": [
      "0\n",
      "no conformer for MolPort-000-522-450\n",
      "0\n",
      "no conformer for MolPort-000-522-472\n"
     ]
    },
    {
     "name": "stderr",
     "output_type": "stream",
     "text": [
      "[15:47:30] Molecule does not have explicit Hs. Consider calling AddHs()\n",
      "[15:47:30] Molecule does not have explicit Hs. Consider calling AddHs()\n"
     ]
    },
    {
     "name": "stdout",
     "output_type": "stream",
     "text": [
      "0\n",
      "no conformer for MolPort-000-522-500\n",
      "0\n",
      "no conformer for MolPort-000-522-902\n"
     ]
    },
    {
     "name": "stderr",
     "output_type": "stream",
     "text": [
      "[15:47:30] Molecule does not have explicit Hs. Consider calling AddHs()\n",
      "[15:47:31] Molecule does not have explicit Hs. Consider calling AddHs()\n"
     ]
    },
    {
     "name": "stdout",
     "output_type": "stream",
     "text": [
      "0\n",
      "no conformer for MolPort-000-523-068\n"
     ]
    },
    {
     "name": "stderr",
     "output_type": "stream",
     "text": [
      "[15:47:31] Molecule does not have explicit Hs. Consider calling AddHs()\n"
     ]
    },
    {
     "name": "stdout",
     "output_type": "stream",
     "text": [
      "0\n",
      "no conformer for MolPort-000-523-267\n"
     ]
    },
    {
     "name": "stderr",
     "output_type": "stream",
     "text": [
      "[15:47:31] Molecule does not have explicit Hs. Consider calling AddHs()\n"
     ]
    },
    {
     "name": "stdout",
     "output_type": "stream",
     "text": [
      "0\n",
      "no conformer for MolPort-000-523-268\n"
     ]
    },
    {
     "name": "stderr",
     "output_type": "stream",
     "text": [
      "[15:47:31] Molecule does not have explicit Hs. Consider calling AddHs()\n"
     ]
    },
    {
     "name": "stdout",
     "output_type": "stream",
     "text": [
      "0\n",
      "no conformer for MolPort-000-523-269\n"
     ]
    },
    {
     "name": "stderr",
     "output_type": "stream",
     "text": [
      "[15:47:32] Molecule does not have explicit Hs. Consider calling AddHs()\n"
     ]
    },
    {
     "name": "stdout",
     "output_type": "stream",
     "text": [
      "0\n",
      "no conformer for MolPort-000-523-270\n"
     ]
    },
    {
     "name": "stderr",
     "output_type": "stream",
     "text": [
      "[15:47:32] Molecule does not have explicit Hs. Consider calling AddHs()\n"
     ]
    },
    {
     "name": "stdout",
     "output_type": "stream",
     "text": [
      "0\n",
      "no conformer for MolPort-000-523-275\n",
      "0\n",
      "no conformer for MolPort-000-525-663\n"
     ]
    },
    {
     "name": "stderr",
     "output_type": "stream",
     "text": [
      "[15:47:32] Molecule does not have explicit Hs. Consider calling AddHs()\n",
      "[15:47:32] Molecule does not have explicit Hs. Consider calling AddHs()\n"
     ]
    },
    {
     "name": "stdout",
     "output_type": "stream",
     "text": [
      "0\n",
      "no conformer for MolPort-000-523-356\n",
      "0\n",
      "no conformer for MolPort-000-523-664\n"
     ]
    },
    {
     "name": "stderr",
     "output_type": "stream",
     "text": [
      "[15:47:32] Molecule does not have explicit Hs. Consider calling AddHs()\n",
      "[15:47:32] Molecule does not have explicit Hs. Consider calling AddHs()\n"
     ]
    },
    {
     "name": "stdout",
     "output_type": "stream",
     "text": [
      "0\n",
      "no conformer for MolPort-000-523-705\n",
      "0\n",
      "no conformer for MolPort-000-523-798\n"
     ]
    },
    {
     "name": "stderr",
     "output_type": "stream",
     "text": [
      "[15:47:33] Molecule does not have explicit Hs. Consider calling AddHs()\n",
      "[15:47:33] Molecule does not have explicit Hs. Consider calling AddHs()\n"
     ]
    },
    {
     "name": "stdout",
     "output_type": "stream",
     "text": [
      "0\n",
      "no conformer for MolPort-000-523-836\n",
      "0\n",
      "no conformer for MolPort-000-523-854\n"
     ]
    },
    {
     "name": "stderr",
     "output_type": "stream",
     "text": [
      "[15:47:33] Molecule does not have explicit Hs. Consider calling AddHs()\n",
      "[15:47:33] Molecule does not have explicit Hs. Consider calling AddHs()\n"
     ]
    },
    {
     "name": "stdout",
     "output_type": "stream",
     "text": [
      "0\n",
      "no conformer for MolPort-000-524-042\n",
      "0\n",
      "no conformer for MolPort-000-525-644\n"
     ]
    },
    {
     "name": "stderr",
     "output_type": "stream",
     "text": [
      "[15:47:33] Molecule does not have explicit Hs. Consider calling AddHs()\n",
      "[15:47:33] Molecule does not have explicit Hs. Consider calling AddHs()\n"
     ]
    },
    {
     "name": "stdout",
     "output_type": "stream",
     "text": [
      "0\n",
      "no conformer for MolPort-000-525-645\n",
      "0\n",
      "no conformer for MolPort-000-525-646\n"
     ]
    },
    {
     "name": "stderr",
     "output_type": "stream",
     "text": [
      "[15:47:34] Molecule does not have explicit Hs. Consider calling AddHs()\n",
      "[15:47:34] Molecule does not have explicit Hs. Consider calling AddHs()\n"
     ]
    },
    {
     "name": "stdout",
     "output_type": "stream",
     "text": [
      "0\n",
      "no conformer for MolPort-000-525-647\n",
      "0\n",
      "no conformer for MolPort-000-525-648\n"
     ]
    },
    {
     "name": "stderr",
     "output_type": "stream",
     "text": [
      "[15:47:34] Molecule does not have explicit Hs. Consider calling AddHs()\n",
      "[15:47:34] Molecule does not have explicit Hs. Consider calling AddHs()\n"
     ]
    },
    {
     "name": "stdout",
     "output_type": "stream",
     "text": [
      "0\n",
      "no conformer for MolPort-000-525-659\n",
      "0\n",
      "no conformer for MolPort-000-525-660\n"
     ]
    },
    {
     "name": "stderr",
     "output_type": "stream",
     "text": [
      "[15:47:34] Molecule does not have explicit Hs. Consider calling AddHs()\n",
      "[15:47:34] Molecule does not have explicit Hs. Consider calling AddHs()\n"
     ]
    },
    {
     "name": "stdout",
     "output_type": "stream",
     "text": [
      "0\n",
      "no conformer for MolPort-000-525-661\n",
      "0\n",
      "no conformer for MolPort-000-525-662\n"
     ]
    },
    {
     "name": "stderr",
     "output_type": "stream",
     "text": [
      "[15:47:34] Molecule does not have explicit Hs. Consider calling AddHs()\n",
      "[15:47:35] Molecule does not have explicit Hs. Consider calling AddHs()\n"
     ]
    },
    {
     "name": "stdout",
     "output_type": "stream",
     "text": [
      "0\n",
      "no conformer for MolPort-000-525-789\n",
      "0\n",
      "no conformer for MolPort-000-525-790\n"
     ]
    },
    {
     "name": "stderr",
     "output_type": "stream",
     "text": [
      "[15:47:35] Molecule does not have explicit Hs. Consider calling AddHs()\n",
      "[15:47:35] Molecule does not have explicit Hs. Consider calling AddHs()\n"
     ]
    },
    {
     "name": "stdout",
     "output_type": "stream",
     "text": [
      "0\n",
      "no conformer for MolPort-000-525-664\n",
      "0\n",
      "no conformer for MolPort-000-525-684\n"
     ]
    },
    {
     "name": "stderr",
     "output_type": "stream",
     "text": [
      "[15:47:35] Molecule does not have explicit Hs. Consider calling AddHs()\n",
      "[15:47:35] Molecule does not have explicit Hs. Consider calling AddHs()\n"
     ]
    },
    {
     "name": "stdout",
     "output_type": "stream",
     "text": [
      "0\n",
      "no conformer for MolPort-000-525-685\n",
      "0\n",
      "no conformer for MolPort-000-525-711\n"
     ]
    },
    {
     "name": "stderr",
     "output_type": "stream",
     "text": [
      "[15:47:36] Molecule does not have explicit Hs. Consider calling AddHs()\n",
      "[15:47:36] Molecule does not have explicit Hs. Consider calling AddHs()\n"
     ]
    },
    {
     "name": "stdout",
     "output_type": "stream",
     "text": [
      "0\n",
      "no conformer for MolPort-000-525-712\n",
      "0\n",
      "no conformer for MolPort-000-525-713\n"
     ]
    },
    {
     "name": "stderr",
     "output_type": "stream",
     "text": [
      "[15:47:36] Molecule does not have explicit Hs. Consider calling AddHs()\n",
      "[15:47:36] Molecule does not have explicit Hs. Consider calling AddHs()\n"
     ]
    },
    {
     "name": "stdout",
     "output_type": "stream",
     "text": [
      "0\n",
      "no conformer for MolPort-000-525-714\n",
      "0\n",
      "no conformer for MolPort-000-525-715\n"
     ]
    },
    {
     "name": "stderr",
     "output_type": "stream",
     "text": [
      "[15:47:36] Molecule does not have explicit Hs. Consider calling AddHs()\n",
      "[15:47:36] Molecule does not have explicit Hs. Consider calling AddHs()\n"
     ]
    },
    {
     "name": "stdout",
     "output_type": "stream",
     "text": [
      "0\n",
      "no conformer for MolPort-000-525-716\n",
      "0\n",
      "no conformer for MolPort-000-525-717\n"
     ]
    },
    {
     "name": "stderr",
     "output_type": "stream",
     "text": [
      "[15:47:36] Molecule does not have explicit Hs. Consider calling AddHs()\n",
      "[15:47:37] Molecule does not have explicit Hs. Consider calling AddHs()\n"
     ]
    },
    {
     "name": "stdout",
     "output_type": "stream",
     "text": [
      "0\n",
      "no conformer for MolPort-000-525-718\n",
      "0\n",
      "no conformer for MolPort-000-525-760\n"
     ]
    },
    {
     "name": "stderr",
     "output_type": "stream",
     "text": [
      "[15:47:37] Molecule does not have explicit Hs. Consider calling AddHs()\n",
      "[15:47:37] Molecule does not have explicit Hs. Consider calling AddHs()\n"
     ]
    },
    {
     "name": "stdout",
     "output_type": "stream",
     "text": [
      "0\n",
      "no conformer for MolPort-000-525-791\n",
      "0\n",
      "no conformer for MolPort-000-525-792\n"
     ]
    },
    {
     "name": "stderr",
     "output_type": "stream",
     "text": [
      "[15:47:37] Molecule does not have explicit Hs. Consider calling AddHs()\n",
      "[15:47:37] Molecule does not have explicit Hs. Consider calling AddHs()\n"
     ]
    },
    {
     "name": "stdout",
     "output_type": "stream",
     "text": [
      "0\n",
      "no conformer for MolPort-000-525-793\n",
      "0\n",
      "no conformer for MolPort-000-525-794\n"
     ]
    },
    {
     "name": "stderr",
     "output_type": "stream",
     "text": [
      "[15:47:37] Molecule does not have explicit Hs. Consider calling AddHs()\n",
      "[15:47:38] Molecule does not have explicit Hs. Consider calling AddHs()\n"
     ]
    },
    {
     "name": "stdout",
     "output_type": "stream",
     "text": [
      "0\n",
      "no conformer for MolPort-000-525-795\n"
     ]
    },
    {
     "name": "stderr",
     "output_type": "stream",
     "text": [
      "[15:47:38] Molecule does not have explicit Hs. Consider calling AddHs()\n"
     ]
    },
    {
     "name": "stdout",
     "output_type": "stream",
     "text": [
      "0\n",
      "no conformer for MolPort-000-525-796\n"
     ]
    },
    {
     "name": "stderr",
     "output_type": "stream",
     "text": [
      "[15:47:38] Molecule does not have explicit Hs. Consider calling AddHs()\n"
     ]
    },
    {
     "name": "stdout",
     "output_type": "stream",
     "text": [
      "0\n",
      "no conformer for MolPort-000-525-874\n",
      "0\n",
      "no conformer for MolPort-000-701-021\n"
     ]
    },
    {
     "name": "stderr",
     "output_type": "stream",
     "text": [
      "[15:47:38] Molecule does not have explicit Hs. Consider calling AddHs()\n",
      "[15:47:38] Molecule does not have explicit Hs. Consider calling AddHs()\n"
     ]
    },
    {
     "name": "stdout",
     "output_type": "stream",
     "text": [
      "0\n",
      "no conformer for MolPort-000-717-682\n",
      "0\n",
      "no conformer for MolPort-000-525-804\n"
     ]
    },
    {
     "name": "stderr",
     "output_type": "stream",
     "text": [
      "[15:47:39] Molecule does not have explicit Hs. Consider calling AddHs()\n",
      "[15:47:39] Molecule does not have explicit Hs. Consider calling AddHs()\n"
     ]
    },
    {
     "name": "stdout",
     "output_type": "stream",
     "text": [
      "0\n",
      "no conformer for MolPort-000-525-805\n",
      "0\n",
      "no conformer for MolPort-000-525-806\n"
     ]
    },
    {
     "name": "stderr",
     "output_type": "stream",
     "text": [
      "[15:47:39] Molecule does not have explicit Hs. Consider calling AddHs()\n",
      "[15:47:39] Molecule does not have explicit Hs. Consider calling AddHs()\n"
     ]
    },
    {
     "name": "stdout",
     "output_type": "stream",
     "text": [
      "0\n",
      "no conformer for MolPort-000-525-847\n",
      "0\n",
      "no conformer for MolPort-000-525-848\n"
     ]
    },
    {
     "name": "stderr",
     "output_type": "stream",
     "text": [
      "[15:47:39] Molecule does not have explicit Hs. Consider calling AddHs()\n",
      "[15:47:39] Molecule does not have explicit Hs. Consider calling AddHs()\n"
     ]
    },
    {
     "name": "stdout",
     "output_type": "stream",
     "text": [
      "0\n",
      "no conformer for MolPort-000-525-863\n",
      "0\n",
      "no conformer for MolPort-000-525-868\n"
     ]
    },
    {
     "name": "stderr",
     "output_type": "stream",
     "text": [
      "[15:47:40] Molecule does not have explicit Hs. Consider calling AddHs()\n",
      "[15:47:40] Molecule does not have explicit Hs. Consider calling AddHs()\n"
     ]
    },
    {
     "name": "stdout",
     "output_type": "stream",
     "text": [
      "0\n",
      "no conformer for MolPort-000-525-872\n",
      "0\n",
      "no conformer for MolPort-000-525-881\n"
     ]
    },
    {
     "name": "stderr",
     "output_type": "stream",
     "text": [
      "[15:47:40] Molecule does not have explicit Hs. Consider calling AddHs()\n",
      "[15:47:40] Molecule does not have explicit Hs. Consider calling AddHs()\n"
     ]
    },
    {
     "name": "stdout",
     "output_type": "stream",
     "text": [
      "0\n",
      "no conformer for MolPort-000-526-104\n",
      "0\n",
      "no conformer for MolPort-000-537-013\n",
      "0\n",
      "no conformer for MolPort-000-537-133\n"
     ]
    },
    {
     "name": "stderr",
     "output_type": "stream",
     "text": [
      "[15:47:40] Molecule does not have explicit Hs. Consider calling AddHs()\n",
      "[15:47:40] Molecule does not have explicit Hs. Consider calling AddHs()\n",
      "[15:47:40] Molecule does not have explicit Hs. Consider calling AddHs()\n"
     ]
    },
    {
     "name": "stdout",
     "output_type": "stream",
     "text": [
      "0\n",
      "no conformer for MolPort-000-537-250\n",
      "0\n",
      "no conformer for MolPort-000-542-422\n"
     ]
    },
    {
     "name": "stderr",
     "output_type": "stream",
     "text": [
      "[15:47:40] Molecule does not have explicit Hs. Consider calling AddHs()\n",
      "[15:47:41] Molecule does not have explicit Hs. Consider calling AddHs()\n"
     ]
    },
    {
     "name": "stdout",
     "output_type": "stream",
     "text": [
      "0\n",
      "no conformer for MolPort-000-554-044\n",
      "0\n",
      "no conformer for MolPort-000-554-152\n",
      "0\n",
      "no conformer for MolPort-000-679-495\n"
     ]
    },
    {
     "name": "stderr",
     "output_type": "stream",
     "text": [
      "[15:47:41] Molecule does not have explicit Hs. Consider calling AddHs()\n",
      "[15:47:41] Molecule does not have explicit Hs. Consider calling AddHs()\n",
      "[15:47:41] Molecule does not have explicit Hs. Consider calling AddHs()\n"
     ]
    },
    {
     "name": "stdout",
     "output_type": "stream",
     "text": [
      "0\n",
      "no conformer for MolPort-000-696-096\n",
      "0\n",
      "no conformer for MolPort-000-696-250\n"
     ]
    },
    {
     "name": "stderr",
     "output_type": "stream",
     "text": [
      "[15:47:41] Molecule does not have explicit Hs. Consider calling AddHs()\n",
      "[15:47:41] Molecule does not have explicit Hs. Consider calling AddHs()\n"
     ]
    },
    {
     "name": "stdout",
     "output_type": "stream",
     "text": [
      "0\n",
      "no conformer for MolPort-000-696-280\n",
      "0\n",
      "no conformer for MolPort-000-696-593\n"
     ]
    },
    {
     "name": "stderr",
     "output_type": "stream",
     "text": [
      "[15:47:42] Molecule does not have explicit Hs. Consider calling AddHs()\n",
      "[15:47:42] Molecule does not have explicit Hs. Consider calling AddHs()\n"
     ]
    },
    {
     "name": "stdout",
     "output_type": "stream",
     "text": [
      "0\n",
      "no conformer for MolPort-000-696-664\n",
      "0\n",
      "no conformer for MolPort-000-697-006\n"
     ]
    },
    {
     "name": "stderr",
     "output_type": "stream",
     "text": [
      "[15:47:42] Molecule does not have explicit Hs. Consider calling AddHs()\n",
      "[15:47:42] Molecule does not have explicit Hs. Consider calling AddHs()\n"
     ]
    },
    {
     "name": "stdout",
     "output_type": "stream",
     "text": [
      "0\n",
      "no conformer for MolPort-000-697-123\n",
      "0\n",
      "no conformer for MolPort-000-697-723\n"
     ]
    },
    {
     "name": "stderr",
     "output_type": "stream",
     "text": [
      "[15:47:42] Molecule does not have explicit Hs. Consider calling AddHs()\n",
      "[15:47:42] Molecule does not have explicit Hs. Consider calling AddHs()\n"
     ]
    },
    {
     "name": "stdout",
     "output_type": "stream",
     "text": [
      "0\n",
      "no conformer for MolPort-000-697-783\n",
      "0\n",
      "no conformer for MolPort-000-697-789\n"
     ]
    },
    {
     "name": "stderr",
     "output_type": "stream",
     "text": [
      "[15:47:43] Molecule does not have explicit Hs. Consider calling AddHs()\n",
      "[15:47:43] Molecule does not have explicit Hs. Consider calling AddHs()\n"
     ]
    },
    {
     "name": "stdout",
     "output_type": "stream",
     "text": [
      "0\n",
      "no conformer for MolPort-000-697-879\n",
      "0\n",
      "no conformer for MolPort-000-698-576\n"
     ]
    },
    {
     "name": "stderr",
     "output_type": "stream",
     "text": [
      "[15:47:43] Molecule does not have explicit Hs. Consider calling AddHs()\n",
      "[15:47:43] Molecule does not have explicit Hs. Consider calling AddHs()\n"
     ]
    },
    {
     "name": "stdout",
     "output_type": "stream",
     "text": [
      "0\n",
      "no conformer for MolPort-000-699-409\n",
      "0\n",
      "no conformer for MolPort-000-699-544\n"
     ]
    },
    {
     "name": "stderr",
     "output_type": "stream",
     "text": [
      "[15:47:43] Molecule does not have explicit Hs. Consider calling AddHs()\n",
      "[15:47:43] Molecule does not have explicit Hs. Consider calling AddHs()\n"
     ]
    },
    {
     "name": "stdout",
     "output_type": "stream",
     "text": [
      "0\n",
      "no conformer for MolPort-000-700-106\n"
     ]
    },
    {
     "name": "stderr",
     "output_type": "stream",
     "text": [
      "[15:47:44] Molecule does not have explicit Hs. Consider calling AddHs()\n"
     ]
    },
    {
     "name": "stdout",
     "output_type": "stream",
     "text": [
      "0\n",
      "no conformer for MolPort-000-700-572\n",
      "0\n",
      "no conformer for MolPort-000-701-228\n"
     ]
    },
    {
     "name": "stderr",
     "output_type": "stream",
     "text": [
      "[15:47:44] Molecule does not have explicit Hs. Consider calling AddHs()\n",
      "[15:47:44] Molecule does not have explicit Hs. Consider calling AddHs()\n"
     ]
    },
    {
     "name": "stdout",
     "output_type": "stream",
     "text": [
      "0\n",
      "no conformer for MolPort-000-701-592\n",
      "0\n",
      "no conformer for MolPort-000-701-648\n"
     ]
    },
    {
     "name": "stderr",
     "output_type": "stream",
     "text": [
      "[15:47:44] Molecule does not have explicit Hs. Consider calling AddHs()\n",
      "[15:47:44] Molecule does not have explicit Hs. Consider calling AddHs()\n"
     ]
    },
    {
     "name": "stdout",
     "output_type": "stream",
     "text": [
      "0\n",
      "no conformer for MolPort-000-702-086\n",
      "0\n",
      "no conformer for MolPort-000-702-147\n"
     ]
    },
    {
     "name": "stderr",
     "output_type": "stream",
     "text": [
      "[15:47:44] Molecule does not have explicit Hs. Consider calling AddHs()\n",
      "[15:47:45] Molecule does not have explicit Hs. Consider calling AddHs()\n"
     ]
    },
    {
     "name": "stdout",
     "output_type": "stream",
     "text": [
      "0\n",
      "no conformer for MolPort-000-702-577\n",
      "0\n",
      "no conformer for MolPort-000-702-797\n"
     ]
    },
    {
     "name": "stderr",
     "output_type": "stream",
     "text": [
      "[15:47:45] Molecule does not have explicit Hs. Consider calling AddHs()\n",
      "[15:47:45] Molecule does not have explicit Hs. Consider calling AddHs()\n"
     ]
    },
    {
     "name": "stdout",
     "output_type": "stream",
     "text": [
      "0\n",
      "no conformer for MolPort-000-703-331\n",
      "0\n",
      "no conformer for MolPort-000-703-550\n"
     ]
    },
    {
     "name": "stderr",
     "output_type": "stream",
     "text": [
      "[15:47:45] Molecule does not have explicit Hs. Consider calling AddHs()\n",
      "[15:47:45] Molecule does not have explicit Hs. Consider calling AddHs()\n"
     ]
    },
    {
     "name": "stdout",
     "output_type": "stream",
     "text": [
      "0\n",
      "no conformer for MolPort-000-703-655\n",
      "0\n",
      "no conformer for MolPort-000-704-748\n"
     ]
    },
    {
     "name": "stderr",
     "output_type": "stream",
     "text": [
      "[15:47:45] Molecule does not have explicit Hs. Consider calling AddHs()\n",
      "[15:47:46] Molecule does not have explicit Hs. Consider calling AddHs()\n"
     ]
    },
    {
     "name": "stdout",
     "output_type": "stream",
     "text": [
      "0\n",
      "no conformer for MolPort-000-704-883\n",
      "0\n",
      "no conformer for MolPort-000-705-593\n"
     ]
    },
    {
     "name": "stderr",
     "output_type": "stream",
     "text": [
      "[15:47:46] Molecule does not have explicit Hs. Consider calling AddHs()\n",
      "[15:47:46] Molecule does not have explicit Hs. Consider calling AddHs()\n"
     ]
    },
    {
     "name": "stdout",
     "output_type": "stream",
     "text": [
      "0\n",
      "no conformer for MolPort-000-705-684\n",
      "0\n",
      "no conformer for MolPort-000-705-997\n"
     ]
    },
    {
     "name": "stderr",
     "output_type": "stream",
     "text": [
      "[15:47:46] Molecule does not have explicit Hs. Consider calling AddHs()\n",
      "[15:47:46] Molecule does not have explicit Hs. Consider calling AddHs()\n"
     ]
    },
    {
     "name": "stdout",
     "output_type": "stream",
     "text": [
      "0\n",
      "no conformer for MolPort-000-706-393\n",
      "0\n",
      "no conformer for MolPort-000-706-734\n"
     ]
    },
    {
     "name": "stderr",
     "output_type": "stream",
     "text": [
      "[15:47:46] Molecule does not have explicit Hs. Consider calling AddHs()\n",
      "[15:47:47] Molecule does not have explicit Hs. Consider calling AddHs()\n"
     ]
    },
    {
     "name": "stdout",
     "output_type": "stream",
     "text": [
      "0\n",
      "no conformer for MolPort-000-707-530\n",
      "0\n",
      "no conformer for MolPort-000-707-549\n"
     ]
    },
    {
     "name": "stderr",
     "output_type": "stream",
     "text": [
      "[15:47:47] Molecule does not have explicit Hs. Consider calling AddHs()\n",
      "[15:47:47] Molecule does not have explicit Hs. Consider calling AddHs()\n"
     ]
    },
    {
     "name": "stdout",
     "output_type": "stream",
     "text": [
      "0\n",
      "no conformer for MolPort-000-707-634\n",
      "0\n",
      "no conformer for MolPort-000-708-034\n"
     ]
    },
    {
     "name": "stderr",
     "output_type": "stream",
     "text": [
      "[15:47:47] Molecule does not have explicit Hs. Consider calling AddHs()\n",
      "[15:47:47] Molecule does not have explicit Hs. Consider calling AddHs()\n"
     ]
    },
    {
     "name": "stdout",
     "output_type": "stream",
     "text": [
      "0\n",
      "no conformer for MolPort-000-709-264\n",
      "0\n",
      "no conformer for MolPort-000-709-355\n"
     ]
    },
    {
     "name": "stderr",
     "output_type": "stream",
     "text": [
      "[15:47:47] Molecule does not have explicit Hs. Consider calling AddHs()\n",
      "[15:47:48] Molecule does not have explicit Hs. Consider calling AddHs()\n"
     ]
    },
    {
     "name": "stdout",
     "output_type": "stream",
     "text": [
      "0\n",
      "no conformer for MolPort-000-709-437\n",
      "0\n",
      "no conformer for MolPort-000-709-681\n"
     ]
    },
    {
     "name": "stderr",
     "output_type": "stream",
     "text": [
      "[15:47:48] Molecule does not have explicit Hs. Consider calling AddHs()\n",
      "[15:47:48] Molecule does not have explicit Hs. Consider calling AddHs()\n"
     ]
    },
    {
     "name": "stdout",
     "output_type": "stream",
     "text": [
      "0\n",
      "no conformer for MolPort-000-709-983\n",
      "0\n",
      "no conformer for MolPort-000-710-145\n"
     ]
    },
    {
     "name": "stderr",
     "output_type": "stream",
     "text": [
      "[15:47:48] Molecule does not have explicit Hs. Consider calling AddHs()\n",
      "[15:47:48] Molecule does not have explicit Hs. Consider calling AddHs()\n"
     ]
    },
    {
     "name": "stdout",
     "output_type": "stream",
     "text": [
      "0\n",
      "no conformer for MolPort-000-710-296\n"
     ]
    },
    {
     "name": "stderr",
     "output_type": "stream",
     "text": [
      "[15:47:49] Molecule does not have explicit Hs. Consider calling AddHs()\n"
     ]
    },
    {
     "name": "stdout",
     "output_type": "stream",
     "text": [
      "0\n",
      "no conformer for MolPort-000-710-483\n",
      "0\n",
      "no conformer for MolPort-000-710-708\n"
     ]
    },
    {
     "name": "stderr",
     "output_type": "stream",
     "text": [
      "[15:47:49] Molecule does not have explicit Hs. Consider calling AddHs()\n",
      "[15:47:49] Molecule does not have explicit Hs. Consider calling AddHs()\n"
     ]
    },
    {
     "name": "stdout",
     "output_type": "stream",
     "text": [
      "0\n",
      "no conformer for MolPort-000-710-742\n",
      "0\n",
      "no conformer for MolPort-000-710-788\n"
     ]
    },
    {
     "name": "stderr",
     "output_type": "stream",
     "text": [
      "[15:47:49] Molecule does not have explicit Hs. Consider calling AddHs()\n",
      "[15:47:49] Molecule does not have explicit Hs. Consider calling AddHs()\n"
     ]
    },
    {
     "name": "stdout",
     "output_type": "stream",
     "text": [
      "0\n",
      "no conformer for MolPort-000-711-066\n",
      "0\n",
      "no conformer for MolPort-000-711-275\n"
     ]
    },
    {
     "name": "stderr",
     "output_type": "stream",
     "text": [
      "[15:47:49] Molecule does not have explicit Hs. Consider calling AddHs()\n",
      "[15:47:50] Molecule does not have explicit Hs. Consider calling AddHs()\n"
     ]
    },
    {
     "name": "stdout",
     "output_type": "stream",
     "text": [
      "0\n",
      "no conformer for MolPort-000-711-351\n",
      "0\n",
      "no conformer for MolPort-000-711-453\n"
     ]
    },
    {
     "name": "stderr",
     "output_type": "stream",
     "text": [
      "[15:47:50] Molecule does not have explicit Hs. Consider calling AddHs()\n",
      "[15:47:50] Molecule does not have explicit Hs. Consider calling AddHs()\n",
      "[15:47:50] Molecule does not have explicit Hs. Consider calling AddHs()\n"
     ]
    },
    {
     "name": "stdout",
     "output_type": "stream",
     "text": [
      "0\n",
      "no conformer for MolPort-000-712-039\n",
      "0\n",
      "no conformer for MolPort-000-713-438\n"
     ]
    },
    {
     "name": "stderr",
     "output_type": "stream",
     "text": [
      "[15:47:50] Molecule does not have explicit Hs. Consider calling AddHs()\n",
      "[15:47:51] Molecule does not have explicit Hs. Consider calling AddHs()\n"
     ]
    },
    {
     "name": "stdout",
     "output_type": "stream",
     "text": [
      "0\n",
      "no conformer for MolPort-000-713-595\n",
      "0\n",
      "no conformer for MolPort-000-714-408\n"
     ]
    },
    {
     "name": "stderr",
     "output_type": "stream",
     "text": [
      "[15:47:51] Molecule does not have explicit Hs. Consider calling AddHs()\n"
     ]
    },
    {
     "name": "stdout",
     "output_type": "stream",
     "text": [
      "0\n",
      "no conformer for MolPort-000-714-591\n",
      "0\n",
      "no conformer for MolPort-000-714-615\n"
     ]
    },
    {
     "name": "stderr",
     "output_type": "stream",
     "text": [
      "[15:47:51] Molecule does not have explicit Hs. Consider calling AddHs()\n",
      "[15:47:51] Molecule does not have explicit Hs. Consider calling AddHs()\n"
     ]
    },
    {
     "name": "stdout",
     "output_type": "stream",
     "text": [
      "0\n",
      "no conformer for MolPort-000-714-642\n"
     ]
    },
    {
     "name": "stderr",
     "output_type": "stream",
     "text": [
      "[15:47:51] Molecule does not have explicit Hs. Consider calling AddHs()\n"
     ]
    },
    {
     "name": "stdout",
     "output_type": "stream",
     "text": [
      "0\n",
      "no conformer for MolPort-000-714-706\n",
      "0\n",
      "no conformer for MolPort-000-715-011\n"
     ]
    },
    {
     "name": "stderr",
     "output_type": "stream",
     "text": [
      "[15:47:52] Molecule does not have explicit Hs. Consider calling AddHs()\n",
      "[15:47:52] Molecule does not have explicit Hs. Consider calling AddHs()\n"
     ]
    },
    {
     "name": "stdout",
     "output_type": "stream",
     "text": [
      "0\n",
      "no conformer for MolPort-000-715-226\n",
      "0\n",
      "no conformer for MolPort-000-715-575\n"
     ]
    },
    {
     "name": "stderr",
     "output_type": "stream",
     "text": [
      "[15:47:52] Molecule does not have explicit Hs. Consider calling AddHs()\n",
      "[15:47:52] Molecule does not have explicit Hs. Consider calling AddHs()\n"
     ]
    },
    {
     "name": "stdout",
     "output_type": "stream",
     "text": [
      "0\n",
      "no conformer for MolPort-000-716-191\n"
     ]
    },
    {
     "name": "stderr",
     "output_type": "stream",
     "text": [
      "[15:47:52] Molecule does not have explicit Hs. Consider calling AddHs()\n"
     ]
    },
    {
     "name": "stdout",
     "output_type": "stream",
     "text": [
      "0\n",
      "no conformer for MolPort-000-716-393\n",
      "0\n",
      "no conformer for MolPort-000-716-563\n"
     ]
    },
    {
     "name": "stderr",
     "output_type": "stream",
     "text": [
      "[15:47:52] Molecule does not have explicit Hs. Consider calling AddHs()\n",
      "[15:47:52] Molecule does not have explicit Hs. Consider calling AddHs()\n"
     ]
    },
    {
     "name": "stdout",
     "output_type": "stream",
     "text": [
      "0\n",
      "no conformer for MolPort-000-717-088\n",
      "0\n",
      "no conformer for MolPort-000-717-181\n"
     ]
    },
    {
     "name": "stderr",
     "output_type": "stream",
     "text": [
      "[15:47:53] Molecule does not have explicit Hs. Consider calling AddHs()\n",
      "[15:47:53] Molecule does not have explicit Hs. Consider calling AddHs()\n"
     ]
    },
    {
     "name": "stdout",
     "output_type": "stream",
     "text": [
      "0\n",
      "no conformer for MolPort-000-717-239\n",
      "0\n",
      "no conformer for MolPort-000-717-266\n"
     ]
    },
    {
     "name": "stderr",
     "output_type": "stream",
     "text": [
      "[15:47:53] Molecule does not have explicit Hs. Consider calling AddHs()\n",
      "[15:47:53] Molecule does not have explicit Hs. Consider calling AddHs()\n"
     ]
    },
    {
     "name": "stdout",
     "output_type": "stream",
     "text": [
      "0\n",
      "no conformer for MolPort-000-717-637\n",
      "0\n",
      "no conformer for MolPort-000-723-172\n"
     ]
    },
    {
     "name": "stderr",
     "output_type": "stream",
     "text": [
      "[15:47:53] Molecule does not have explicit Hs. Consider calling AddHs()\n",
      "[15:47:54] Molecule does not have explicit Hs. Consider calling AddHs()\n"
     ]
    },
    {
     "name": "stdout",
     "output_type": "stream",
     "text": [
      "0\n",
      "no conformer for MolPort-000-726-408\n"
     ]
    },
    {
     "name": "stderr",
     "output_type": "stream",
     "text": [
      "[15:47:54] Molecule does not have explicit Hs. Consider calling AddHs()\n"
     ]
    },
    {
     "name": "stdout",
     "output_type": "stream",
     "text": [
      "0\n",
      "no conformer for MolPort-000-717-909\n",
      "0\n",
      "no conformer for MolPort-000-718-117\n"
     ]
    },
    {
     "name": "stderr",
     "output_type": "stream",
     "text": [
      "[15:47:54] Molecule does not have explicit Hs. Consider calling AddHs()\n",
      "[15:47:54] Molecule does not have explicit Hs. Consider calling AddHs()\n"
     ]
    },
    {
     "name": "stdout",
     "output_type": "stream",
     "text": [
      "0\n",
      "no conformer for MolPort-000-718-128\n",
      "0\n",
      "no conformer for MolPort-000-718-634\n"
     ]
    },
    {
     "name": "stderr",
     "output_type": "stream",
     "text": [
      "[15:47:54] Molecule does not have explicit Hs. Consider calling AddHs()\n",
      "[15:47:54] Molecule does not have explicit Hs. Consider calling AddHs()\n"
     ]
    },
    {
     "name": "stdout",
     "output_type": "stream",
     "text": [
      "0\n",
      "no conformer for MolPort-000-718-727\n",
      "0\n",
      "no conformer for MolPort-000-718-786\n"
     ]
    },
    {
     "name": "stderr",
     "output_type": "stream",
     "text": [
      "[15:47:55] Molecule does not have explicit Hs. Consider calling AddHs()\n",
      "[15:47:55] Molecule does not have explicit Hs. Consider calling AddHs()\n"
     ]
    },
    {
     "name": "stdout",
     "output_type": "stream",
     "text": [
      "0\n",
      "no conformer for MolPort-000-719-168\n",
      "0\n",
      "no conformer for MolPort-000-719-361\n"
     ]
    },
    {
     "name": "stderr",
     "output_type": "stream",
     "text": [
      "[15:47:55] Molecule does not have explicit Hs. Consider calling AddHs()\n",
      "[15:47:55] Molecule does not have explicit Hs. Consider calling AddHs()\n"
     ]
    },
    {
     "name": "stdout",
     "output_type": "stream",
     "text": [
      "0\n",
      "no conformer for MolPort-000-719-689\n",
      "0\n",
      "no conformer for MolPort-000-719-939\n"
     ]
    },
    {
     "name": "stderr",
     "output_type": "stream",
     "text": [
      "[15:47:55] Molecule does not have explicit Hs. Consider calling AddHs()\n",
      "[15:47:56] Molecule does not have explicit Hs. Consider calling AddHs()\n"
     ]
    },
    {
     "name": "stdout",
     "output_type": "stream",
     "text": [
      "0\n",
      "no conformer for MolPort-000-720-008\n"
     ]
    },
    {
     "name": "stderr",
     "output_type": "stream",
     "text": [
      "[15:47:56] Molecule does not have explicit Hs. Consider calling AddHs()\n"
     ]
    },
    {
     "name": "stdout",
     "output_type": "stream",
     "text": [
      "0\n",
      "no conformer for MolPort-000-720-291\n",
      "0\n",
      "no conformer for MolPort-000-720-498\n"
     ]
    },
    {
     "name": "stderr",
     "output_type": "stream",
     "text": [
      "[15:47:56] Molecule does not have explicit Hs. Consider calling AddHs()\n",
      "[15:47:56] Molecule does not have explicit Hs. Consider calling AddHs()\n"
     ]
    },
    {
     "name": "stdout",
     "output_type": "stream",
     "text": [
      "0\n",
      "no conformer for MolPort-000-720-795\n",
      "0\n",
      "no conformer for MolPort-000-721-738\n"
     ]
    },
    {
     "name": "stderr",
     "output_type": "stream",
     "text": [
      "[15:47:56] Molecule does not have explicit Hs. Consider calling AddHs()\n",
      "[15:47:57] Molecule does not have explicit Hs. Consider calling AddHs()\n"
     ]
    },
    {
     "name": "stdout",
     "output_type": "stream",
     "text": [
      "0\n",
      "no conformer for MolPort-000-721-751\n",
      "0\n",
      "no conformer for MolPort-000-722-395\n"
     ]
    },
    {
     "name": "stderr",
     "output_type": "stream",
     "text": [
      "[15:47:57] Molecule does not have explicit Hs. Consider calling AddHs()\n",
      "[15:47:57] Molecule does not have explicit Hs. Consider calling AddHs()\n"
     ]
    },
    {
     "name": "stdout",
     "output_type": "stream",
     "text": [
      "0\n",
      "no conformer for MolPort-000-722-481\n",
      "0\n",
      "no conformer for MolPort-000-722-717\n"
     ]
    },
    {
     "name": "stderr",
     "output_type": "stream",
     "text": [
      "[15:47:57] Molecule does not have explicit Hs. Consider calling AddHs()\n",
      "[15:47:57] Molecule does not have explicit Hs. Consider calling AddHs()\n"
     ]
    },
    {
     "name": "stdout",
     "output_type": "stream",
     "text": [
      "0\n",
      "no conformer for MolPort-000-723-082\n",
      "0\n",
      "no conformer for MolPort-000-723-842\n"
     ]
    },
    {
     "name": "stderr",
     "output_type": "stream",
     "text": [
      "[15:47:57] Molecule does not have explicit Hs. Consider calling AddHs()\n",
      "[15:47:57] Molecule does not have explicit Hs. Consider calling AddHs()\n"
     ]
    },
    {
     "name": "stdout",
     "output_type": "stream",
     "text": [
      "0\n",
      "no conformer for MolPort-000-723-918\n",
      "0\n",
      "no conformer for MolPort-000-724-241\n"
     ]
    },
    {
     "name": "stderr",
     "output_type": "stream",
     "text": [
      "[15:47:58] Molecule does not have explicit Hs. Consider calling AddHs()\n",
      "[15:47:58] Molecule does not have explicit Hs. Consider calling AddHs()\n"
     ]
    },
    {
     "name": "stdout",
     "output_type": "stream",
     "text": [
      "0\n",
      "no conformer for MolPort-000-724-424\n",
      "0\n",
      "no conformer for MolPort-000-724-774\n"
     ]
    },
    {
     "name": "stderr",
     "output_type": "stream",
     "text": [
      "[15:47:58] Molecule does not have explicit Hs. Consider calling AddHs()\n",
      "[15:47:58] Molecule does not have explicit Hs. Consider calling AddHs()\n"
     ]
    },
    {
     "name": "stdout",
     "output_type": "stream",
     "text": [
      "0\n",
      "no conformer for MolPort-000-724-893\n",
      "0\n",
      "no conformer for MolPort-000-725-380\n"
     ]
    },
    {
     "name": "stderr",
     "output_type": "stream",
     "text": [
      "[15:47:58] Molecule does not have explicit Hs. Consider calling AddHs()\n",
      "[15:47:58] Molecule does not have explicit Hs. Consider calling AddHs()\n"
     ]
    },
    {
     "name": "stdout",
     "output_type": "stream",
     "text": [
      "0\n",
      "no conformer for MolPort-000-725-385\n"
     ]
    },
    {
     "name": "stderr",
     "output_type": "stream",
     "text": [
      "[15:47:59] Molecule does not have explicit Hs. Consider calling AddHs()\n"
     ]
    },
    {
     "name": "stdout",
     "output_type": "stream",
     "text": [
      "0\n",
      "no conformer for MolPort-000-725-400\n",
      "0\n",
      "no conformer for MolPort-000-725-401\n"
     ]
    },
    {
     "name": "stderr",
     "output_type": "stream",
     "text": [
      "[15:47:59] Molecule does not have explicit Hs. Consider calling AddHs()\n",
      "[15:47:59] Molecule does not have explicit Hs. Consider calling AddHs()\n"
     ]
    },
    {
     "name": "stdout",
     "output_type": "stream",
     "text": [
      "0\n",
      "no conformer for MolPort-000-725-538\n",
      "0\n",
      "no conformer for MolPort-000-725-611\n"
     ]
    },
    {
     "name": "stderr",
     "output_type": "stream",
     "text": [
      "[15:47:59] Molecule does not have explicit Hs. Consider calling AddHs()\n",
      "[15:47:59] Molecule does not have explicit Hs. Consider calling AddHs()\n"
     ]
    },
    {
     "name": "stdout",
     "output_type": "stream",
     "text": [
      "0\n",
      "no conformer for MolPort-000-725-883\n",
      "0\n",
      "no conformer for MolPort-000-738-010\n"
     ]
    },
    {
     "name": "stderr",
     "output_type": "stream",
     "text": [
      "[15:48:00] Molecule does not have explicit Hs. Consider calling AddHs()\n",
      "[15:48:00] Molecule does not have explicit Hs. Consider calling AddHs()\n"
     ]
    },
    {
     "name": "stdout",
     "output_type": "stream",
     "text": [
      "0\n",
      "no conformer for MolPort-000-738-357\n",
      "0\n",
      "no conformer for MolPort-000-726-457\n"
     ]
    },
    {
     "name": "stderr",
     "output_type": "stream",
     "text": [
      "[15:48:00] Molecule does not have explicit Hs. Consider calling AddHs()\n",
      "[15:48:00] Molecule does not have explicit Hs. Consider calling AddHs()\n"
     ]
    },
    {
     "name": "stdout",
     "output_type": "stream",
     "text": [
      "0\n",
      "no conformer for MolPort-000-727-160\n",
      "0\n",
      "no conformer for MolPort-000-727-281\n"
     ]
    },
    {
     "name": "stderr",
     "output_type": "stream",
     "text": [
      "[15:48:00] Molecule does not have explicit Hs. Consider calling AddHs()\n",
      "[15:48:00] Molecule does not have explicit Hs. Consider calling AddHs()\n"
     ]
    },
    {
     "name": "stdout",
     "output_type": "stream",
     "text": [
      "0\n",
      "no conformer for MolPort-000-727-304\n",
      "0\n",
      "no conformer for MolPort-000-727-460\n"
     ]
    },
    {
     "name": "stderr",
     "output_type": "stream",
     "text": [
      "[15:48:01] Molecule does not have explicit Hs. Consider calling AddHs()\n",
      "[15:48:01] Molecule does not have explicit Hs. Consider calling AddHs()\n"
     ]
    },
    {
     "name": "stdout",
     "output_type": "stream",
     "text": [
      "0\n",
      "no conformer for MolPort-000-727-626\n",
      "0\n",
      "no conformer for MolPort-000-727-928\n"
     ]
    },
    {
     "name": "stderr",
     "output_type": "stream",
     "text": [
      "[15:48:01] Molecule does not have explicit Hs. Consider calling AddHs()\n",
      "[15:48:01] Molecule does not have explicit Hs. Consider calling AddHs()\n"
     ]
    },
    {
     "name": "stdout",
     "output_type": "stream",
     "text": [
      "0\n",
      "no conformer for MolPort-000-728-232\n",
      "0\n",
      "no conformer for MolPort-000-728-337\n"
     ]
    },
    {
     "name": "stderr",
     "output_type": "stream",
     "text": [
      "[15:48:01] Molecule does not have explicit Hs. Consider calling AddHs()\n",
      "[15:48:01] Molecule does not have explicit Hs. Consider calling AddHs()\n"
     ]
    },
    {
     "name": "stdout",
     "output_type": "stream",
     "text": [
      "0\n",
      "no conformer for MolPort-000-728-455\n",
      "0\n",
      "no conformer for MolPort-000-728-573\n"
     ]
    },
    {
     "name": "stderr",
     "output_type": "stream",
     "text": [
      "[15:48:01] Molecule does not have explicit Hs. Consider calling AddHs()\n",
      "[15:48:02] Molecule does not have explicit Hs. Consider calling AddHs()\n"
     ]
    },
    {
     "name": "stdout",
     "output_type": "stream",
     "text": [
      "0\n",
      "no conformer for MolPort-000-729-639\n",
      "0\n",
      "no conformer for MolPort-000-729-982\n"
     ]
    },
    {
     "name": "stderr",
     "output_type": "stream",
     "text": [
      "[15:48:02] Molecule does not have explicit Hs. Consider calling AddHs()\n",
      "[15:48:02] Molecule does not have explicit Hs. Consider calling AddHs()\n"
     ]
    },
    {
     "name": "stdout",
     "output_type": "stream",
     "text": [
      "0\n",
      "no conformer for MolPort-000-730-000\n",
      "0\n",
      "no conformer for MolPort-000-730-402\n"
     ]
    },
    {
     "name": "stderr",
     "output_type": "stream",
     "text": [
      "[15:48:02] Molecule does not have explicit Hs. Consider calling AddHs()\n",
      "[15:48:02] Molecule does not have explicit Hs. Consider calling AddHs()\n"
     ]
    },
    {
     "name": "stdout",
     "output_type": "stream",
     "text": [
      "0\n",
      "no conformer for MolPort-000-730-436\n",
      "0\n",
      "no conformer for MolPort-000-730-735\n"
     ]
    },
    {
     "name": "stderr",
     "output_type": "stream",
     "text": [
      "[15:48:02] Molecule does not have explicit Hs. Consider calling AddHs()\n",
      "[15:48:03] Molecule does not have explicit Hs. Consider calling AddHs()\n"
     ]
    },
    {
     "name": "stdout",
     "output_type": "stream",
     "text": [
      "0\n",
      "no conformer for MolPort-000-730-916\n",
      "0\n",
      "no conformer for MolPort-000-731-043\n"
     ]
    },
    {
     "name": "stderr",
     "output_type": "stream",
     "text": [
      "[15:48:03] Molecule does not have explicit Hs. Consider calling AddHs()\n",
      "[15:48:03] Molecule does not have explicit Hs. Consider calling AddHs()\n"
     ]
    },
    {
     "name": "stdout",
     "output_type": "stream",
     "text": [
      "0\n",
      "no conformer for MolPort-000-731-090\n",
      "0\n",
      "no conformer for MolPort-000-732-078\n"
     ]
    },
    {
     "name": "stderr",
     "output_type": "stream",
     "text": [
      "[15:48:03] Molecule does not have explicit Hs. Consider calling AddHs()\n",
      "[15:48:03] Molecule does not have explicit Hs. Consider calling AddHs()\n"
     ]
    },
    {
     "name": "stdout",
     "output_type": "stream",
     "text": [
      "0\n",
      "no conformer for MolPort-000-732-257\n",
      "0\n",
      "no conformer for MolPort-000-732-634\n"
     ]
    },
    {
     "name": "stderr",
     "output_type": "stream",
     "text": [
      "[15:48:03] Molecule does not have explicit Hs. Consider calling AddHs()\n",
      "[15:48:04] Molecule does not have explicit Hs. Consider calling AddHs()\n"
     ]
    },
    {
     "name": "stdout",
     "output_type": "stream",
     "text": [
      "0\n",
      "no conformer for MolPort-000-733-019\n"
     ]
    },
    {
     "name": "stderr",
     "output_type": "stream",
     "text": [
      "[15:48:04] Molecule does not have explicit Hs. Consider calling AddHs()\n"
     ]
    },
    {
     "name": "stdout",
     "output_type": "stream",
     "text": [
      "0\n",
      "no conformer for MolPort-000-733-259\n",
      "0\n",
      "no conformer for MolPort-000-733-803\n"
     ]
    },
    {
     "name": "stderr",
     "output_type": "stream",
     "text": [
      "[15:48:04] Molecule does not have explicit Hs. Consider calling AddHs()\n",
      "[15:48:04] Molecule does not have explicit Hs. Consider calling AddHs()\n"
     ]
    },
    {
     "name": "stdout",
     "output_type": "stream",
     "text": [
      "0\n",
      "no conformer for MolPort-000-734-303\n",
      "0\n",
      "no conformer for MolPort-000-734-386\n"
     ]
    },
    {
     "name": "stderr",
     "output_type": "stream",
     "text": [
      "[15:48:04] Molecule does not have explicit Hs. Consider calling AddHs()\n",
      "[15:48:04] Molecule does not have explicit Hs. Consider calling AddHs()\n"
     ]
    },
    {
     "name": "stdout",
     "output_type": "stream",
     "text": [
      "0\n",
      "no conformer for MolPort-000-734-406\n",
      "0\n",
      "no conformer for MolPort-000-734-912\n"
     ]
    },
    {
     "name": "stderr",
     "output_type": "stream",
     "text": [
      "[15:48:05] Molecule does not have explicit Hs. Consider calling AddHs()\n",
      "[15:48:05] Molecule does not have explicit Hs. Consider calling AddHs()\n"
     ]
    },
    {
     "name": "stdout",
     "output_type": "stream",
     "text": [
      "0\n",
      "no conformer for MolPort-000-735-301\n",
      "0\n",
      "no conformer for MolPort-000-735-335\n"
     ]
    },
    {
     "name": "stderr",
     "output_type": "stream",
     "text": [
      "[15:48:05] Molecule does not have explicit Hs. Consider calling AddHs()\n",
      "[15:48:05] Molecule does not have explicit Hs. Consider calling AddHs()\n"
     ]
    },
    {
     "name": "stdout",
     "output_type": "stream",
     "text": [
      "0\n",
      "no conformer for MolPort-000-735-846\n",
      "0\n",
      "no conformer for MolPort-000-736-077\n"
     ]
    },
    {
     "name": "stderr",
     "output_type": "stream",
     "text": [
      "[15:48:06] Molecule does not have explicit Hs. Consider calling AddHs()\n",
      "[15:48:06] Molecule does not have explicit Hs. Consider calling AddHs()\n"
     ]
    },
    {
     "name": "stdout",
     "output_type": "stream",
     "text": [
      "0\n",
      "no conformer for MolPort-000-736-223\n"
     ]
    },
    {
     "name": "stderr",
     "output_type": "stream",
     "text": [
      "[15:48:06] Molecule does not have explicit Hs. Consider calling AddHs()\n"
     ]
    },
    {
     "name": "stdout",
     "output_type": "stream",
     "text": [
      "0\n",
      "no conformer for MolPort-000-736-351\n",
      "0\n",
      "no conformer for MolPort-000-736-499\n"
     ]
    },
    {
     "name": "stderr",
     "output_type": "stream",
     "text": [
      "[15:48:06] Molecule does not have explicit Hs. Consider calling AddHs()\n",
      "[15:48:06] Molecule does not have explicit Hs. Consider calling AddHs()\n"
     ]
    },
    {
     "name": "stdout",
     "output_type": "stream",
     "text": [
      "0\n",
      "no conformer for MolPort-000-736-954\n"
     ]
    },
    {
     "name": "stderr",
     "output_type": "stream",
     "text": [
      "[15:48:06] Molecule does not have explicit Hs. Consider calling AddHs()\n"
     ]
    },
    {
     "name": "stdout",
     "output_type": "stream",
     "text": [
      "0\n",
      "no conformer for MolPort-000-737-845\n",
      "0\n",
      "no conformer for MolPort-000-737-902\n"
     ]
    },
    {
     "name": "stderr",
     "output_type": "stream",
     "text": [
      "[15:48:07] Molecule does not have explicit Hs. Consider calling AddHs()\n",
      "[15:48:07] Molecule does not have explicit Hs. Consider calling AddHs()\n",
      "[15:48:07] Molecule does not have explicit Hs. Consider calling AddHs()\n"
     ]
    },
    {
     "name": "stdout",
     "output_type": "stream",
     "text": [
      "0\n",
      "no conformer for MolPort-000-738-323\n",
      "0\n",
      "no conformer for MolPort-000-743-131\n"
     ]
    },
    {
     "name": "stderr",
     "output_type": "stream",
     "text": [
      "[15:48:07] Molecule does not have explicit Hs. Consider calling AddHs()\n",
      "[15:48:07] Molecule does not have explicit Hs. Consider calling AddHs()\n"
     ]
    },
    {
     "name": "stdout",
     "output_type": "stream",
     "text": [
      "0\n",
      "no conformer for MolPort-000-738-443\n",
      "0\n",
      "no conformer for MolPort-000-739-171\n"
     ]
    },
    {
     "name": "stderr",
     "output_type": "stream",
     "text": [
      "[15:48:07] Molecule does not have explicit Hs. Consider calling AddHs()\n"
     ]
    },
    {
     "name": "stdout",
     "output_type": "stream",
     "text": [
      "0\n",
      "no conformer for MolPort-000-739-467\n",
      "0\n",
      "no conformer for MolPort-000-739-846\n"
     ]
    },
    {
     "name": "stderr",
     "output_type": "stream",
     "text": [
      "[15:48:08] Molecule does not have explicit Hs. Consider calling AddHs()\n",
      "[15:48:08] Molecule does not have explicit Hs. Consider calling AddHs()\n"
     ]
    },
    {
     "name": "stdout",
     "output_type": "stream",
     "text": [
      "0\n",
      "no conformer for MolPort-000-739-924\n",
      "0\n",
      "no conformer for MolPort-000-740-104\n"
     ]
    },
    {
     "name": "stderr",
     "output_type": "stream",
     "text": [
      "[15:48:08] Molecule does not have explicit Hs. Consider calling AddHs()\n",
      "[15:48:08] Molecule does not have explicit Hs. Consider calling AddHs()\n"
     ]
    },
    {
     "name": "stdout",
     "output_type": "stream",
     "text": [
      "0\n",
      "no conformer for MolPort-000-740-421\n",
      "0\n",
      "no conformer for MolPort-000-740-833\n"
     ]
    },
    {
     "name": "stderr",
     "output_type": "stream",
     "text": [
      "[15:48:08] Molecule does not have explicit Hs. Consider calling AddHs()\n",
      "[15:48:09] Molecule does not have explicit Hs. Consider calling AddHs()\n",
      "[15:48:09] Molecule does not have explicit Hs. Consider calling AddHs()\n"
     ]
    },
    {
     "name": "stdout",
     "output_type": "stream",
     "text": [
      "0\n",
      "no conformer for MolPort-000-741-329\n",
      "0\n",
      "no conformer for MolPort-000-741-484\n",
      "0\n",
      "no conformer for MolPort-000-741-738\n"
     ]
    },
    {
     "name": "stderr",
     "output_type": "stream",
     "text": [
      "[15:48:09] Molecule does not have explicit Hs. Consider calling AddHs()\n",
      "[15:48:09] Molecule does not have explicit Hs. Consider calling AddHs()\n"
     ]
    },
    {
     "name": "stdout",
     "output_type": "stream",
     "text": [
      "0\n",
      "no conformer for MolPort-000-741-984\n",
      "0\n",
      "no conformer for MolPort-000-742-081\n"
     ]
    },
    {
     "name": "stderr",
     "output_type": "stream",
     "text": [
      "[15:48:09] Molecule does not have explicit Hs. Consider calling AddHs()\n",
      "[15:48:09] Molecule does not have explicit Hs. Consider calling AddHs()\n"
     ]
    },
    {
     "name": "stdout",
     "output_type": "stream",
     "text": [
      "0\n",
      "no conformer for MolPort-000-743-125\n",
      "0\n",
      "no conformer for MolPort-000-752-218\n"
     ]
    },
    {
     "name": "stderr",
     "output_type": "stream",
     "text": [
      "[15:48:10] Molecule does not have explicit Hs. Consider calling AddHs()\n",
      "[15:48:10] Molecule does not have explicit Hs. Consider calling AddHs()\n"
     ]
    },
    {
     "name": "stdout",
     "output_type": "stream",
     "text": [
      "0\n",
      "no conformer for MolPort-000-743-230\n",
      "0\n",
      "no conformer for MolPort-000-743-527\n"
     ]
    },
    {
     "name": "stderr",
     "output_type": "stream",
     "text": [
      "[15:48:10] Molecule does not have explicit Hs. Consider calling AddHs()\n",
      "[15:48:10] Molecule does not have explicit Hs. Consider calling AddHs()\n"
     ]
    },
    {
     "name": "stdout",
     "output_type": "stream",
     "text": [
      "0\n",
      "no conformer for MolPort-000-744-179\n",
      "0\n",
      "no conformer for MolPort-000-744-548\n"
     ]
    },
    {
     "name": "stderr",
     "output_type": "stream",
     "text": [
      "[15:48:10] Molecule does not have explicit Hs. Consider calling AddHs()\n",
      "[15:48:10] Molecule does not have explicit Hs. Consider calling AddHs()\n"
     ]
    },
    {
     "name": "stdout",
     "output_type": "stream",
     "text": [
      "0\n",
      "no conformer for MolPort-000-744-602\n",
      "0\n",
      "no conformer for MolPort-000-744-887\n"
     ]
    },
    {
     "name": "stderr",
     "output_type": "stream",
     "text": [
      "[15:48:11] Molecule does not have explicit Hs. Consider calling AddHs()\n",
      "[15:48:11] Molecule does not have explicit Hs. Consider calling AddHs()\n"
     ]
    },
    {
     "name": "stdout",
     "output_type": "stream",
     "text": [
      "0\n",
      "no conformer for MolPort-000-745-131\n",
      "0\n",
      "no conformer for MolPort-000-745-567\n"
     ]
    },
    {
     "name": "stderr",
     "output_type": "stream",
     "text": [
      "[15:48:11] Molecule does not have explicit Hs. Consider calling AddHs()\n",
      "[15:48:11] Molecule does not have explicit Hs. Consider calling AddHs()\n"
     ]
    },
    {
     "name": "stdout",
     "output_type": "stream",
     "text": [
      "0\n",
      "no conformer for MolPort-000-745-758\n",
      "0\n",
      "no conformer for MolPort-000-745-829\n"
     ]
    },
    {
     "name": "stderr",
     "output_type": "stream",
     "text": [
      "[15:48:11] Molecule does not have explicit Hs. Consider calling AddHs()\n",
      "[15:48:11] Molecule does not have explicit Hs. Consider calling AddHs()\n"
     ]
    },
    {
     "name": "stdout",
     "output_type": "stream",
     "text": [
      "0\n",
      "no conformer for MolPort-000-746-018\n",
      "0\n",
      "no conformer for MolPort-000-746-067\n"
     ]
    },
    {
     "name": "stderr",
     "output_type": "stream",
     "text": [
      "[15:48:11] Molecule does not have explicit Hs. Consider calling AddHs()\n",
      "[15:48:12] Molecule does not have explicit Hs. Consider calling AddHs()\n"
     ]
    },
    {
     "name": "stdout",
     "output_type": "stream",
     "text": [
      "0\n",
      "no conformer for MolPort-000-778-028\n",
      "0\n",
      "no conformer for MolPort-000-756-616\n"
     ]
    },
    {
     "name": "stderr",
     "output_type": "stream",
     "text": [
      "[15:48:12] Molecule does not have explicit Hs. Consider calling AddHs()\n",
      "[15:48:12] Molecule does not have explicit Hs. Consider calling AddHs()\n"
     ]
    },
    {
     "name": "stdout",
     "output_type": "stream",
     "text": [
      "0\n",
      "no conformer for MolPort-000-757-243\n"
     ]
    },
    {
     "name": "stderr",
     "output_type": "stream",
     "text": [
      "[15:48:12] Molecule does not have explicit Hs. Consider calling AddHs()\n"
     ]
    },
    {
     "name": "stdout",
     "output_type": "stream",
     "text": [
      "0\n",
      "no conformer for MolPort-000-757-456\n"
     ]
    },
    {
     "name": "stderr",
     "output_type": "stream",
     "text": [
      "[15:48:12] Molecule does not have explicit Hs. Consider calling AddHs()\n"
     ]
    },
    {
     "name": "stdout",
     "output_type": "stream",
     "text": [
      "0\n",
      "no conformer for MolPort-000-758-355\n"
     ]
    },
    {
     "name": "stderr",
     "output_type": "stream",
     "text": [
      "[15:48:13] Molecule does not have explicit Hs. Consider calling AddHs()\n"
     ]
    },
    {
     "name": "stdout",
     "output_type": "stream",
     "text": [
      "0\n",
      "no conformer for MolPort-000-759-014\n",
      "0\n",
      "no conformer for MolPort-000-761-424\n"
     ]
    },
    {
     "name": "stderr",
     "output_type": "stream",
     "text": [
      "[15:48:13] Molecule does not have explicit Hs. Consider calling AddHs()\n",
      "[15:48:13] Molecule does not have explicit Hs. Consider calling AddHs()\n"
     ]
    },
    {
     "name": "stdout",
     "output_type": "stream",
     "text": [
      "0\n",
      "no conformer for MolPort-000-761-751\n",
      "0\n",
      "no conformer for MolPort-000-761-777\n"
     ]
    },
    {
     "name": "stderr",
     "output_type": "stream",
     "text": [
      "[15:48:13] Molecule does not have explicit Hs. Consider calling AddHs()\n",
      "[15:48:13] Molecule does not have explicit Hs. Consider calling AddHs()\n"
     ]
    },
    {
     "name": "stdout",
     "output_type": "stream",
     "text": [
      "0\n",
      "no conformer for MolPort-000-762-234\n",
      "0\n",
      "no conformer for MolPort-000-762-632\n"
     ]
    },
    {
     "name": "stderr",
     "output_type": "stream",
     "text": [
      "[15:48:14] Molecule does not have explicit Hs. Consider calling AddHs()\n",
      "[15:48:14] Molecule does not have explicit Hs. Consider calling AddHs()\n"
     ]
    },
    {
     "name": "stdout",
     "output_type": "stream",
     "text": [
      "0\n",
      "no conformer for MolPort-000-763-415\n"
     ]
    },
    {
     "name": "stderr",
     "output_type": "stream",
     "text": [
      "[15:48:14] Molecule does not have explicit Hs. Consider calling AddHs()\n"
     ]
    },
    {
     "name": "stdout",
     "output_type": "stream",
     "text": [
      "0\n",
      "no conformer for MolPort-000-763-802\n"
     ]
    },
    {
     "name": "stderr",
     "output_type": "stream",
     "text": [
      "[15:48:14] Molecule does not have explicit Hs. Consider calling AddHs()\n"
     ]
    },
    {
     "name": "stdout",
     "output_type": "stream",
     "text": [
      "0\n",
      "no conformer for MolPort-000-765-454\n",
      "0\n",
      "no conformer for MolPort-000-766-334\n"
     ]
    },
    {
     "name": "stderr",
     "output_type": "stream",
     "text": [
      "[15:48:15] Molecule does not have explicit Hs. Consider calling AddHs()\n",
      "[15:48:15] Molecule does not have explicit Hs. Consider calling AddHs()\n"
     ]
    },
    {
     "name": "stdout",
     "output_type": "stream",
     "text": [
      "0\n",
      "no conformer for MolPort-000-766-519\n"
     ]
    },
    {
     "name": "stderr",
     "output_type": "stream",
     "text": [
      "[15:48:15] Molecule does not have explicit Hs. Consider calling AddHs()\n"
     ]
    },
    {
     "name": "stdout",
     "output_type": "stream",
     "text": [
      "0\n",
      "no conformer for MolPort-000-767-732\n"
     ]
    },
    {
     "name": "stderr",
     "output_type": "stream",
     "text": [
      "[15:48:15] Molecule does not have explicit Hs. Consider calling AddHs()\n"
     ]
    },
    {
     "name": "stdout",
     "output_type": "stream",
     "text": [
      "0\n",
      "no conformer for MolPort-000-768-331\n",
      "0\n",
      "no conformer for MolPort-000-770-053\n"
     ]
    },
    {
     "name": "stderr",
     "output_type": "stream",
     "text": [
      "[15:48:16] Molecule does not have explicit Hs. Consider calling AddHs()\n",
      "[15:48:16] Molecule does not have explicit Hs. Consider calling AddHs()\n"
     ]
    },
    {
     "name": "stdout",
     "output_type": "stream",
     "text": [
      "0\n",
      "no conformer for MolPort-000-774-031\n",
      "0\n",
      "no conformer for MolPort-000-774-421\n"
     ]
    },
    {
     "name": "stderr",
     "output_type": "stream",
     "text": [
      "[15:48:16] Molecule does not have explicit Hs. Consider calling AddHs()\n",
      "[15:48:16] Molecule does not have explicit Hs. Consider calling AddHs()\n"
     ]
    },
    {
     "name": "stdout",
     "output_type": "stream",
     "text": [
      "0\n",
      "no conformer for MolPort-000-774-594\n"
     ]
    },
    {
     "name": "stderr",
     "output_type": "stream",
     "text": [
      "[15:48:16] Molecule does not have explicit Hs. Consider calling AddHs()\n"
     ]
    },
    {
     "name": "stdout",
     "output_type": "stream",
     "text": [
      "0\n",
      "no conformer for MolPort-000-774-736\n"
     ]
    },
    {
     "name": "stderr",
     "output_type": "stream",
     "text": [
      "[15:48:17] Molecule does not have explicit Hs. Consider calling AddHs()\n"
     ]
    },
    {
     "name": "stdout",
     "output_type": "stream",
     "text": [
      "0\n",
      "no conformer for MolPort-000-775-444\n",
      "0\n",
      "no conformer for MolPort-000-776-159\n"
     ]
    },
    {
     "name": "stderr",
     "output_type": "stream",
     "text": [
      "[15:48:17] Molecule does not have explicit Hs. Consider calling AddHs()\n",
      "[15:48:17] Molecule does not have explicit Hs. Consider calling AddHs()\n"
     ]
    },
    {
     "name": "stdout",
     "output_type": "stream",
     "text": [
      "0\n",
      "no conformer for MolPort-000-777-191\n",
      "0\n",
      "no conformer for MolPort-001-732-006\n"
     ]
    },
    {
     "name": "stderr",
     "output_type": "stream",
     "text": [
      "[15:48:17] Molecule does not have explicit Hs. Consider calling AddHs()\n",
      "[15:48:18] Molecule does not have explicit Hs. Consider calling AddHs()\n"
     ]
    },
    {
     "name": "stdout",
     "output_type": "stream",
     "text": [
      "0\n",
      "no conformer for MolPort-000-778-706\n",
      "0\n",
      "no conformer for MolPort-000-780-586\n"
     ]
    },
    {
     "name": "stderr",
     "output_type": "stream",
     "text": [
      "[15:48:18] Molecule does not have explicit Hs. Consider calling AddHs()\n",
      "[15:48:18] Molecule does not have explicit Hs. Consider calling AddHs()\n"
     ]
    },
    {
     "name": "stdout",
     "output_type": "stream",
     "text": [
      "0\n",
      "no conformer for MolPort-000-787-234\n"
     ]
    },
    {
     "name": "stderr",
     "output_type": "stream",
     "text": [
      "[15:48:18] Molecule does not have explicit Hs. Consider calling AddHs()\n"
     ]
    },
    {
     "name": "stdout",
     "output_type": "stream",
     "text": [
      "0\n",
      "no conformer for MolPort-000-788-014\n"
     ]
    },
    {
     "name": "stderr",
     "output_type": "stream",
     "text": [
      "[15:48:18] Molecule does not have explicit Hs. Consider calling AddHs()\n"
     ]
    },
    {
     "name": "stdout",
     "output_type": "stream",
     "text": [
      "0\n",
      "no conformer for MolPort-000-790-044\n"
     ]
    },
    {
     "name": "stderr",
     "output_type": "stream",
     "text": [
      "[15:48:19] Molecule does not have explicit Hs. Consider calling AddHs()\n"
     ]
    },
    {
     "name": "stdout",
     "output_type": "stream",
     "text": [
      "0\n",
      "no conformer for MolPort-000-790-153\n",
      "0\n",
      "no conformer for MolPort-000-791-416\n"
     ]
    },
    {
     "name": "stderr",
     "output_type": "stream",
     "text": [
      "[15:48:19] Molecule does not have explicit Hs. Consider calling AddHs()\n",
      "[15:48:19] Molecule does not have explicit Hs. Consider calling AddHs()\n"
     ]
    },
    {
     "name": "stdout",
     "output_type": "stream",
     "text": [
      "0\n",
      "no conformer for MolPort-000-793-203\n"
     ]
    },
    {
     "name": "stderr",
     "output_type": "stream",
     "text": [
      "[15:48:19] Molecule does not have explicit Hs. Consider calling AddHs()\n"
     ]
    },
    {
     "name": "stdout",
     "output_type": "stream",
     "text": [
      "0\n",
      "no conformer for MolPort-000-793-361\n",
      "0\n",
      "no conformer for MolPort-000-793-731\n"
     ]
    },
    {
     "name": "stderr",
     "output_type": "stream",
     "text": [
      "[15:48:19] Molecule does not have explicit Hs. Consider calling AddHs()\n",
      "[15:48:19] Molecule does not have explicit Hs. Consider calling AddHs()\n"
     ]
    },
    {
     "name": "stdout",
     "output_type": "stream",
     "text": [
      "0\n",
      "no conformer for MolPort-000-804-760\n",
      "0\n",
      "no conformer for MolPort-000-806-201\n"
     ]
    },
    {
     "name": "stderr",
     "output_type": "stream",
     "text": [
      "[15:48:20] Molecule does not have explicit Hs. Consider calling AddHs()\n",
      "[15:48:20] Molecule does not have explicit Hs. Consider calling AddHs()\n"
     ]
    },
    {
     "name": "stdout",
     "output_type": "stream",
     "text": [
      "0\n",
      "no conformer for MolPort-000-807-169\n",
      "0\n",
      "no conformer for MolPort-000-809-476\n"
     ]
    },
    {
     "name": "stderr",
     "output_type": "stream",
     "text": [
      "[15:48:20] Molecule does not have explicit Hs. Consider calling AddHs()\n",
      "[15:48:20] Molecule does not have explicit Hs. Consider calling AddHs()\n"
     ]
    },
    {
     "name": "stdout",
     "output_type": "stream",
     "text": [
      "0\n",
      "no conformer for MolPort-000-811-733\n",
      "0\n",
      "no conformer for MolPort-001-009-194\n"
     ]
    },
    {
     "name": "stderr",
     "output_type": "stream",
     "text": [
      "[15:48:20] Molecule does not have explicit Hs. Consider calling AddHs()\n",
      "[15:48:21] Molecule does not have explicit Hs. Consider calling AddHs()\n"
     ]
    },
    {
     "name": "stdout",
     "output_type": "stream",
     "text": [
      "0\n",
      "no conformer for MolPort-001-009-530\n",
      "0\n",
      "no conformer for MolPort-001-010-981\n",
      "0\n",
      "no conformer for MolPort-001-509-825\n"
     ]
    },
    {
     "name": "stderr",
     "output_type": "stream",
     "text": [
      "[15:48:21] Molecule does not have explicit Hs. Consider calling AddHs()\n",
      "[15:48:21] Molecule does not have explicit Hs. Consider calling AddHs()\n",
      "[15:48:21] Molecule does not have explicit Hs. Consider calling AddHs()\n"
     ]
    },
    {
     "name": "stdout",
     "output_type": "stream",
     "text": [
      "0\n",
      "no conformer for MolPort-001-565-427\n",
      "0\n",
      "no conformer for MolPort-001-565-436\n"
     ]
    },
    {
     "name": "stderr",
     "output_type": "stream",
     "text": [
      "[15:48:21] Molecule does not have explicit Hs. Consider calling AddHs()\n",
      "[15:48:21] Molecule does not have explicit Hs. Consider calling AddHs()\n"
     ]
    },
    {
     "name": "stdout",
     "output_type": "stream",
     "text": [
      "0\n",
      "no conformer for MolPort-001-565-473\n"
     ]
    },
    {
     "name": "stderr",
     "output_type": "stream",
     "text": [
      "[15:48:22] Molecule does not have explicit Hs. Consider calling AddHs()\n"
     ]
    },
    {
     "name": "stdout",
     "output_type": "stream",
     "text": [
      "0\n",
      "no conformer for MolPort-001-565-474\n",
      "0\n",
      "no conformer for MolPort-001-731-155\n"
     ]
    },
    {
     "name": "stderr",
     "output_type": "stream",
     "text": [
      "[15:48:23] Molecule does not have explicit Hs. Consider calling AddHs()\n",
      "[15:48:23] Molecule does not have explicit Hs. Consider calling AddHs()\n"
     ]
    },
    {
     "name": "stdout",
     "output_type": "stream",
     "text": [
      "0\n",
      "no conformer for MolPort-001-731-184\n",
      "0\n",
      "no conformer for MolPort-001-731-264\n"
     ]
    },
    {
     "name": "stderr",
     "output_type": "stream",
     "text": [
      "[15:48:23] Molecule does not have explicit Hs. Consider calling AddHs()\n",
      "[15:48:23] Molecule does not have explicit Hs. Consider calling AddHs()\n"
     ]
    },
    {
     "name": "stdout",
     "output_type": "stream",
     "text": [
      "0\n",
      "no conformer for MolPort-001-731-265\n",
      "0\n",
      "no conformer for MolPort-002-462-851\n"
     ]
    },
    {
     "name": "stderr",
     "output_type": "stream",
     "text": [
      "[15:48:23] Molecule does not have explicit Hs. Consider calling AddHs()\n",
      "[15:48:23] Molecule does not have explicit Hs. Consider calling AddHs()\n"
     ]
    },
    {
     "name": "stdout",
     "output_type": "stream",
     "text": [
      "0\n",
      "no conformer for MolPort-000-801-919\n",
      "0\n",
      "no conformer for MolPort-001-732-021\n"
     ]
    },
    {
     "name": "stderr",
     "output_type": "stream",
     "text": [
      "[15:48:24] Molecule does not have explicit Hs. Consider calling AddHs()\n",
      "[15:48:24] Molecule does not have explicit Hs. Consider calling AddHs()\n"
     ]
    },
    {
     "name": "stdout",
     "output_type": "stream",
     "text": [
      "0\n",
      "no conformer for MolPort-001-732-045\n",
      "0\n",
      "no conformer for MolPort-001-732-151\n"
     ]
    },
    {
     "name": "stderr",
     "output_type": "stream",
     "text": [
      "[15:48:24] Molecule does not have explicit Hs. Consider calling AddHs()\n",
      "[15:48:24] Molecule does not have explicit Hs. Consider calling AddHs()\n"
     ]
    },
    {
     "name": "stdout",
     "output_type": "stream",
     "text": [
      "0\n",
      "no conformer for MolPort-001-732-082\n",
      "0\n",
      "no conformer for MolPort-001-732-112\n",
      "0\n",
      "no conformer for MolPort-001-908-728\n"
     ]
    },
    {
     "name": "stderr",
     "output_type": "stream",
     "text": [
      "[15:48:24] Molecule does not have explicit Hs. Consider calling AddHs()\n",
      "[15:48:24] Molecule does not have explicit Hs. Consider calling AddHs()\n",
      "[15:48:25] Molecule does not have explicit Hs. Consider calling AddHs()\n"
     ]
    },
    {
     "name": "stdout",
     "output_type": "stream",
     "text": [
      "0\n",
      "no conformer for MolPort-002-007-876\n",
      "0\n",
      "no conformer for MolPort-002-007-877\n",
      "0\n",
      "no conformer for MolPort-002-007-878\n",
      "0\n",
      "no conformer for MolPort-002-007-879\n",
      "0\n",
      "no conformer for MolPort-002-007-880\n"
     ]
    },
    {
     "name": "stderr",
     "output_type": "stream",
     "text": [
      "[15:48:25] Molecule does not have explicit Hs. Consider calling AddHs()\n",
      "[15:48:25] Molecule does not have explicit Hs. Consider calling AddHs()\n",
      "[15:48:25] Molecule does not have explicit Hs. Consider calling AddHs()\n",
      "[15:48:25] Molecule does not have explicit Hs. Consider calling AddHs()\n",
      "[15:48:25] Molecule does not have explicit Hs. Consider calling AddHs()\n"
     ]
    },
    {
     "name": "stdout",
     "output_type": "stream",
     "text": [
      "0\n",
      "no conformer for MolPort-002-007-881\n",
      "0\n",
      "no conformer for MolPort-002-007-882\n",
      "0\n",
      "no conformer for MolPort-002-007-883\n"
     ]
    },
    {
     "name": "stderr",
     "output_type": "stream",
     "text": [
      "[15:48:25] Molecule does not have explicit Hs. Consider calling AddHs()\n",
      "[15:48:25] Molecule does not have explicit Hs. Consider calling AddHs()\n",
      "[15:48:25] Molecule does not have explicit Hs. Consider calling AddHs()\n"
     ]
    },
    {
     "name": "stdout",
     "output_type": "stream",
     "text": [
      "0\n",
      "no conformer for MolPort-002-007-884\n",
      "0\n",
      "no conformer for MolPort-002-007-885\n",
      "0\n",
      "no conformer for MolPort-002-007-886\n",
      "0\n",
      "no conformer for MolPort-002-007-887\n"
     ]
    },
    {
     "name": "stderr",
     "output_type": "stream",
     "text": [
      "[15:48:25] Molecule does not have explicit Hs. Consider calling AddHs()\n",
      "[15:48:25] Molecule does not have explicit Hs. Consider calling AddHs()\n",
      "[15:48:25] Molecule does not have explicit Hs. Consider calling AddHs()\n",
      "[15:48:25] Molecule does not have explicit Hs. Consider calling AddHs()\n"
     ]
    },
    {
     "name": "stdout",
     "output_type": "stream",
     "text": [
      "0\n",
      "no conformer for MolPort-002-007-888\n",
      "0\n",
      "no conformer for MolPort-002-007-889\n",
      "0\n",
      "no conformer for MolPort-002-007-890\n",
      "0\n",
      "no conformer for MolPort-002-007-891\n"
     ]
    },
    {
     "name": "stderr",
     "output_type": "stream",
     "text": [
      "[15:48:25] Molecule does not have explicit Hs. Consider calling AddHs()\n",
      "[15:48:25] Molecule does not have explicit Hs. Consider calling AddHs()\n",
      "[15:48:25] Molecule does not have explicit Hs. Consider calling AddHs()\n",
      "[15:48:26] Molecule does not have explicit Hs. Consider calling AddHs()\n",
      "[15:48:26] Molecule does not have explicit Hs. Consider calling AddHs()\n",
      "[15:48:26] Molecule does not have explicit Hs. Consider calling AddHs()\n",
      "[15:48:26] Molecule does not have explicit Hs. Consider calling AddHs()\n"
     ]
    },
    {
     "name": "stdout",
     "output_type": "stream",
     "text": [
      "0\n",
      "no conformer for MolPort-002-011-049\n",
      "0\n",
      "no conformer for MolPort-002-022-748\n",
      "0\n",
      "no conformer for MolPort-002-025-916\n",
      "0\n",
      "no conformer for MolPort-002-102-247\n"
     ]
    },
    {
     "name": "stderr",
     "output_type": "stream",
     "text": [
      "[15:48:26] Molecule does not have explicit Hs. Consider calling AddHs()\n",
      "[15:48:26] Molecule does not have explicit Hs. Consider calling AddHs()\n",
      "[15:48:26] Molecule does not have explicit Hs. Consider calling AddHs()\n"
     ]
    },
    {
     "name": "stdout",
     "output_type": "stream",
     "text": [
      "0\n",
      "no conformer for MolPort-002-124-766\n",
      "0\n",
      "no conformer for MolPort-002-124-773\n",
      "0\n",
      "no conformer for MolPort-002-263-898\n"
     ]
    },
    {
     "name": "stderr",
     "output_type": "stream",
     "text": [
      "[15:48:26] Molecule does not have explicit Hs. Consider calling AddHs()\n",
      "[15:48:26] Molecule does not have explicit Hs. Consider calling AddHs()\n"
     ]
    },
    {
     "name": "stdout",
     "output_type": "stream",
     "text": [
      "0\n",
      "no conformer for MolPort-002-264-212\n",
      "0\n",
      "no conformer for MolPort-002-264-238\n",
      "0\n",
      "no conformer for MolPort-002-265-000\n"
     ]
    },
    {
     "name": "stderr",
     "output_type": "stream",
     "text": [
      "[15:48:26] Molecule does not have explicit Hs. Consider calling AddHs()\n",
      "[15:48:26] Molecule does not have explicit Hs. Consider calling AddHs()\n",
      "[15:48:26] Molecule does not have explicit Hs. Consider calling AddHs()\n"
     ]
    },
    {
     "name": "stdout",
     "output_type": "stream",
     "text": [
      "0\n",
      "no conformer for MolPort-002-265-167\n",
      "0\n",
      "no conformer for MolPort-002-265-249\n",
      "0\n",
      "no conformer for MolPort-002-265-251\n"
     ]
    },
    {
     "name": "stderr",
     "output_type": "stream",
     "text": [
      "[15:48:27] Molecule does not have explicit Hs. Consider calling AddHs()\n",
      "[15:48:27] Molecule does not have explicit Hs. Consider calling AddHs()\n"
     ]
    },
    {
     "name": "stdout",
     "output_type": "stream",
     "text": [
      "0\n",
      "no conformer for MolPort-002-265-414\n",
      "0\n",
      "no conformer for MolPort-002-269-308\n",
      "0\n",
      "no conformer for MolPort-002-272-656\n"
     ]
    },
    {
     "name": "stderr",
     "output_type": "stream",
     "text": [
      "[15:48:27] Molecule does not have explicit Hs. Consider calling AddHs()\n",
      "[15:48:27] Molecule does not have explicit Hs. Consider calling AddHs()\n",
      "[15:48:27] Molecule does not have explicit Hs. Consider calling AddHs()\n"
     ]
    },
    {
     "name": "stdout",
     "output_type": "stream",
     "text": [
      "0\n",
      "no conformer for MolPort-002-273-574\n",
      "0\n",
      "no conformer for MolPort-002-273-609\n",
      "0\n",
      "no conformer for MolPort-002-274-071\n"
     ]
    },
    {
     "name": "stderr",
     "output_type": "stream",
     "text": [
      "[15:48:27] Molecule does not have explicit Hs. Consider calling AddHs()\n",
      "[15:48:27] Molecule does not have explicit Hs. Consider calling AddHs()\n",
      "[15:48:27] Molecule does not have explicit Hs. Consider calling AddHs()\n"
     ]
    },
    {
     "name": "stdout",
     "output_type": "stream",
     "text": [
      "0\n",
      "no conformer for MolPort-002-298-426\n",
      "0\n",
      "no conformer for MolPort-002-298-542\n"
     ]
    },
    {
     "name": "stderr",
     "output_type": "stream",
     "text": [
      "[15:48:27] Molecule does not have explicit Hs. Consider calling AddHs()\n",
      "[15:48:28] Molecule does not have explicit Hs. Consider calling AddHs()\n"
     ]
    },
    {
     "name": "stdout",
     "output_type": "stream",
     "text": [
      "0\n",
      "no conformer for MolPort-002-300-076\n",
      "0\n",
      "no conformer for MolPort-002-304-644\n"
     ]
    },
    {
     "name": "stderr",
     "output_type": "stream",
     "text": [
      "[15:48:28] Molecule does not have explicit Hs. Consider calling AddHs()\n",
      "[15:48:28] Molecule does not have explicit Hs. Consider calling AddHs()\n"
     ]
    },
    {
     "name": "stdout",
     "output_type": "stream",
     "text": [
      "0\n",
      "no conformer for MolPort-002-637-577\n",
      "2\n",
      "9\n",
      "3\n",
      "2\n"
     ]
    },
    {
     "name": "stderr",
     "output_type": "stream",
     "text": [
      "[15:48:28] Molecule does not have explicit Hs. Consider calling AddHs()\n",
      "[15:48:28] Molecule does not have explicit Hs. Consider calling AddHs()\n",
      "[15:48:28] Molecule does not have explicit Hs. Consider calling AddHs()\n",
      "[15:48:28] Molecule does not have explicit Hs. Consider calling AddHs()\n",
      "[15:48:28] Molecule does not have explicit Hs. Consider calling AddHs()\n"
     ]
    },
    {
     "name": "stdout",
     "output_type": "stream",
     "text": [
      "0\n",
      "no conformer for MolPort-002-576-759\n",
      "0\n",
      "no conformer for MolPort-002-581-569\n"
     ]
    },
    {
     "name": "stderr",
     "output_type": "stream",
     "text": [
      "[15:48:28] Molecule does not have explicit Hs. Consider calling AddHs()\n",
      "[15:48:28] Molecule does not have explicit Hs. Consider calling AddHs()\n"
     ]
    },
    {
     "name": "stdout",
     "output_type": "stream",
     "text": [
      "0\n",
      "no conformer for MolPort-002-583-938\n",
      "0\n",
      "no conformer for MolPort-002-599-352\n",
      "0\n",
      "no conformer for MolPort-002-599-419\n",
      "0\n",
      "no conformer for MolPort-002-604-907\n"
     ]
    },
    {
     "name": "stderr",
     "output_type": "stream",
     "text": [
      "[15:48:29] Molecule does not have explicit Hs. Consider calling AddHs()\n",
      "[15:48:29] Molecule does not have explicit Hs. Consider calling AddHs()\n",
      "[15:48:29] Molecule does not have explicit Hs. Consider calling AddHs()\n",
      "[15:48:29] Molecule does not have explicit Hs. Consider calling AddHs()\n"
     ]
    },
    {
     "name": "stdout",
     "output_type": "stream",
     "text": [
      "0\n",
      "no conformer for MolPort-002-630-060\n"
     ]
    },
    {
     "name": "stderr",
     "output_type": "stream",
     "text": [
      "[15:48:29] Molecule does not have explicit Hs. Consider calling AddHs()\n"
     ]
    },
    {
     "name": "stdout",
     "output_type": "stream",
     "text": [
      "0\n",
      "no conformer for MolPort-002-630-161\n"
     ]
    },
    {
     "name": "stderr",
     "output_type": "stream",
     "text": [
      "[15:48:29] Molecule does not have explicit Hs. Consider calling AddHs()\n"
     ]
    },
    {
     "name": "stdout",
     "output_type": "stream",
     "text": [
      "0\n",
      "no conformer for MolPort-002-630-169\n",
      "0\n",
      "no conformer for MolPort-002-630-547\n"
     ]
    },
    {
     "name": "stderr",
     "output_type": "stream",
     "text": [
      "[15:48:30] Molecule does not have explicit Hs. Consider calling AddHs()\n",
      "[15:48:30] Molecule does not have explicit Hs. Consider calling AddHs()\n"
     ]
    },
    {
     "name": "stdout",
     "output_type": "stream",
     "text": [
      "0\n",
      "no conformer for MolPort-002-631-467\n"
     ]
    },
    {
     "name": "stderr",
     "output_type": "stream",
     "text": [
      "[15:48:30] Molecule does not have explicit Hs. Consider calling AddHs()\n"
     ]
    },
    {
     "name": "stdout",
     "output_type": "stream",
     "text": [
      "0\n",
      "no conformer for MolPort-002-631-816\n"
     ]
    },
    {
     "name": "stderr",
     "output_type": "stream",
     "text": [
      "[15:48:30] Molecule does not have explicit Hs. Consider calling AddHs()\n"
     ]
    },
    {
     "name": "stdout",
     "output_type": "stream",
     "text": [
      "0\n",
      "no conformer for MolPort-002-632-188\n",
      "0\n",
      "no conformer for MolPort-002-632-328\n"
     ]
    },
    {
     "name": "stderr",
     "output_type": "stream",
     "text": [
      "[15:48:30] Molecule does not have explicit Hs. Consider calling AddHs()\n",
      "[15:48:31] Molecule does not have explicit Hs. Consider calling AddHs()\n"
     ]
    },
    {
     "name": "stdout",
     "output_type": "stream",
     "text": [
      "0\n",
      "no conformer for MolPort-002-632-359\n"
     ]
    },
    {
     "name": "stderr",
     "output_type": "stream",
     "text": [
      "[15:48:31] Molecule does not have explicit Hs. Consider calling AddHs()\n"
     ]
    },
    {
     "name": "stdout",
     "output_type": "stream",
     "text": [
      "0\n",
      "no conformer for MolPort-002-632-959\n"
     ]
    },
    {
     "name": "stderr",
     "output_type": "stream",
     "text": [
      "[15:48:31] Molecule does not have explicit Hs. Consider calling AddHs()\n"
     ]
    },
    {
     "name": "stdout",
     "output_type": "stream",
     "text": [
      "0\n",
      "no conformer for MolPort-002-634-309\n",
      "0\n",
      "no conformer for MolPort-002-634-626\n"
     ]
    },
    {
     "name": "stderr",
     "output_type": "stream",
     "text": [
      "[15:48:31] Molecule does not have explicit Hs. Consider calling AddHs()\n",
      "[15:48:32] Molecule does not have explicit Hs. Consider calling AddHs()\n"
     ]
    },
    {
     "name": "stdout",
     "output_type": "stream",
     "text": [
      "0\n",
      "no conformer for MolPort-002-634-801\n"
     ]
    },
    {
     "name": "stderr",
     "output_type": "stream",
     "text": [
      "[15:48:32] Molecule does not have explicit Hs. Consider calling AddHs()\n"
     ]
    },
    {
     "name": "stdout",
     "output_type": "stream",
     "text": [
      "0\n",
      "no conformer for MolPort-002-634-988\n"
     ]
    },
    {
     "name": "stderr",
     "output_type": "stream",
     "text": [
      "[15:48:32] Molecule does not have explicit Hs. Consider calling AddHs()\n"
     ]
    },
    {
     "name": "stdout",
     "output_type": "stream",
     "text": [
      "0\n",
      "no conformer for MolPort-002-635-548\n"
     ]
    },
    {
     "name": "stderr",
     "output_type": "stream",
     "text": [
      "[15:48:32] Molecule does not have explicit Hs. Consider calling AddHs()\n"
     ]
    },
    {
     "name": "stdout",
     "output_type": "stream",
     "text": [
      "0\n",
      "no conformer for MolPort-002-635-719\n",
      "0\n",
      "no conformer for MolPort-002-635-815\n"
     ]
    },
    {
     "name": "stderr",
     "output_type": "stream",
     "text": [
      "[15:48:33] Molecule does not have explicit Hs. Consider calling AddHs()\n",
      "[15:48:33] Molecule does not have explicit Hs. Consider calling AddHs()\n"
     ]
    },
    {
     "name": "stdout",
     "output_type": "stream",
     "text": [
      "0\n",
      "no conformer for MolPort-002-635-911\n"
     ]
    },
    {
     "name": "stderr",
     "output_type": "stream",
     "text": [
      "[15:48:33] Molecule does not have explicit Hs. Consider calling AddHs()\n"
     ]
    },
    {
     "name": "stdout",
     "output_type": "stream",
     "text": [
      "0\n",
      "no conformer for MolPort-002-636-253\n",
      "0\n",
      "no conformer for MolPort-002-636-388\n"
     ]
    },
    {
     "name": "stderr",
     "output_type": "stream",
     "text": [
      "[15:48:33] Molecule does not have explicit Hs. Consider calling AddHs()\n",
      "[15:48:34] Molecule does not have explicit Hs. Consider calling AddHs()\n"
     ]
    },
    {
     "name": "stdout",
     "output_type": "stream",
     "text": [
      "0\n",
      "no conformer for MolPort-002-636-399\n",
      "0\n",
      "no conformer for MolPort-002-636-532\n"
     ]
    },
    {
     "name": "stderr",
     "output_type": "stream",
     "text": [
      "[15:48:34] Molecule does not have explicit Hs. Consider calling AddHs()\n",
      "[15:48:34] Molecule does not have explicit Hs. Consider calling AddHs()\n"
     ]
    },
    {
     "name": "stdout",
     "output_type": "stream",
     "text": [
      "0\n",
      "no conformer for MolPort-002-651-391\n",
      "0\n",
      "no conformer for MolPort-003-031-698\n",
      "0\n",
      "no conformer for MolPort-002-604-569\n"
     ]
    },
    {
     "name": "stderr",
     "output_type": "stream",
     "text": [
      "[15:48:34] Molecule does not have explicit Hs. Consider calling AddHs()\n",
      "[15:48:34] Molecule does not have explicit Hs. Consider calling AddHs()\n",
      "[15:48:34] Molecule does not have explicit Hs. Consider calling AddHs()\n"
     ]
    },
    {
     "name": "stdout",
     "output_type": "stream",
     "text": [
      "0\n",
      "no conformer for MolPort-002-633-826\n",
      "0\n",
      "no conformer for MolPort-002-634-071\n"
     ]
    },
    {
     "name": "stderr",
     "output_type": "stream",
     "text": [
      "[15:48:35] Molecule does not have explicit Hs. Consider calling AddHs()\n",
      "[15:48:35] Molecule does not have explicit Hs. Consider calling AddHs()\n"
     ]
    },
    {
     "name": "stdout",
     "output_type": "stream",
     "text": [
      "0\n",
      "no conformer for MolPort-002-634-187\n",
      "0\n",
      "no conformer for MolPort-002-637-593\n"
     ]
    },
    {
     "name": "stderr",
     "output_type": "stream",
     "text": [
      "[15:48:35] Molecule does not have explicit Hs. Consider calling AddHs()\n",
      "[15:48:35] Molecule does not have explicit Hs. Consider calling AddHs()\n"
     ]
    },
    {
     "name": "stdout",
     "output_type": "stream",
     "text": [
      "0\n",
      "no conformer for MolPort-002-638-124\n",
      "0\n",
      "no conformer for MolPort-002-638-414\n"
     ]
    },
    {
     "name": "stderr",
     "output_type": "stream",
     "text": [
      "[15:48:36] Molecule does not have explicit Hs. Consider calling AddHs()\n",
      "[15:48:36] Molecule does not have explicit Hs. Consider calling AddHs()\n"
     ]
    },
    {
     "name": "stdout",
     "output_type": "stream",
     "text": [
      "0\n",
      "no conformer for MolPort-002-638-653\n",
      "0\n",
      "no conformer for MolPort-002-638-821\n"
     ]
    },
    {
     "name": "stderr",
     "output_type": "stream",
     "text": [
      "[15:48:36] Molecule does not have explicit Hs. Consider calling AddHs()\n",
      "[15:48:36] Molecule does not have explicit Hs. Consider calling AddHs()\n"
     ]
    },
    {
     "name": "stdout",
     "output_type": "stream",
     "text": [
      "0\n",
      "no conformer for MolPort-002-639-699\n",
      "0\n",
      "no conformer for MolPort-002-639-825\n"
     ]
    },
    {
     "name": "stderr",
     "output_type": "stream",
     "text": [
      "[15:48:36] Molecule does not have explicit Hs. Consider calling AddHs()\n",
      "[15:48:37] Molecule does not have explicit Hs. Consider calling AddHs()\n"
     ]
    },
    {
     "name": "stdout",
     "output_type": "stream",
     "text": [
      "0\n",
      "no conformer for MolPort-002-640-429\n"
     ]
    },
    {
     "name": "stderr",
     "output_type": "stream",
     "text": [
      "[15:48:37] Molecule does not have explicit Hs. Consider calling AddHs()\n"
     ]
    },
    {
     "name": "stdout",
     "output_type": "stream",
     "text": [
      "0\n",
      "no conformer for MolPort-002-641-003\n",
      "0\n",
      "no conformer for MolPort-002-642-052\n"
     ]
    },
    {
     "name": "stderr",
     "output_type": "stream",
     "text": [
      "[15:48:37] Molecule does not have explicit Hs. Consider calling AddHs()\n",
      "[15:48:37] Molecule does not have explicit Hs. Consider calling AddHs()\n"
     ]
    },
    {
     "name": "stdout",
     "output_type": "stream",
     "text": [
      "0\n",
      "no conformer for MolPort-002-643-850\n"
     ]
    },
    {
     "name": "stderr",
     "output_type": "stream",
     "text": [
      "[15:48:37] Molecule does not have explicit Hs. Consider calling AddHs()\n"
     ]
    },
    {
     "name": "stdout",
     "output_type": "stream",
     "text": [
      "0\n",
      "no conformer for MolPort-002-645-148\n",
      "0\n",
      "no conformer for MolPort-002-645-803\n"
     ]
    },
    {
     "name": "stderr",
     "output_type": "stream",
     "text": [
      "[15:48:38] Molecule does not have explicit Hs. Consider calling AddHs()\n",
      "[15:48:38] Molecule does not have explicit Hs. Consider calling AddHs()\n"
     ]
    },
    {
     "name": "stdout",
     "output_type": "stream",
     "text": [
      "0\n",
      "no conformer for MolPort-002-646-223\n"
     ]
    },
    {
     "name": "stderr",
     "output_type": "stream",
     "text": [
      "[15:48:38] Molecule does not have explicit Hs. Consider calling AddHs()\n"
     ]
    },
    {
     "name": "stdout",
     "output_type": "stream",
     "text": [
      "0\n",
      "no conformer for MolPort-002-646-828\n",
      "0\n",
      "no conformer for MolPort-002-648-195\n"
     ]
    },
    {
     "name": "stderr",
     "output_type": "stream",
     "text": [
      "[15:48:38] Molecule does not have explicit Hs. Consider calling AddHs()\n",
      "[15:48:38] Molecule does not have explicit Hs. Consider calling AddHs()\n"
     ]
    },
    {
     "name": "stdout",
     "output_type": "stream",
     "text": [
      "0\n",
      "no conformer for MolPort-002-655-350\n",
      "0\n",
      "no conformer for MolPort-002-655-449\n"
     ]
    },
    {
     "name": "stderr",
     "output_type": "stream",
     "text": [
      "[15:48:38] Molecule does not have explicit Hs. Consider calling AddHs()\n",
      "[15:48:39] Molecule does not have explicit Hs. Consider calling AddHs()\n"
     ]
    },
    {
     "name": "stdout",
     "output_type": "stream",
     "text": [
      "0\n",
      "no conformer for MolPort-002-659-789\n",
      "0\n",
      "no conformer for MolPort-002-662-380\n"
     ]
    },
    {
     "name": "stderr",
     "output_type": "stream",
     "text": [
      "[15:48:39] Molecule does not have explicit Hs. Consider calling AddHs()\n",
      "[15:48:39] Molecule does not have explicit Hs. Consider calling AddHs()\n"
     ]
    },
    {
     "name": "stdout",
     "output_type": "stream",
     "text": [
      "0\n",
      "no conformer for MolPort-002-665-227\n",
      "0\n",
      "no conformer for MolPort-002-666-750\n"
     ]
    },
    {
     "name": "stderr",
     "output_type": "stream",
     "text": [
      "[15:48:39] Molecule does not have explicit Hs. Consider calling AddHs()\n",
      "[15:48:39] Molecule does not have explicit Hs. Consider calling AddHs()\n"
     ]
    },
    {
     "name": "stdout",
     "output_type": "stream",
     "text": [
      "0\n",
      "no conformer for MolPort-002-671-091\n",
      "0\n",
      "no conformer for MolPort-002-725-589\n",
      "0\n",
      "no conformer for MolPort-002-728-706\n"
     ]
    },
    {
     "name": "stderr",
     "output_type": "stream",
     "text": [
      "[15:48:39] Molecule does not have explicit Hs. Consider calling AddHs()\n",
      "[15:48:39] Molecule does not have explicit Hs. Consider calling AddHs()\n",
      "[15:48:39] Molecule does not have explicit Hs. Consider calling AddHs()\n"
     ]
    },
    {
     "name": "stdout",
     "output_type": "stream",
     "text": [
      "0\n",
      "no conformer for MolPort-002-729-689\n",
      "0\n",
      "no conformer for MolPort-002-729-691\n",
      "0\n",
      "no conformer for MolPort-002-729-692\n"
     ]
    },
    {
     "name": "stderr",
     "output_type": "stream",
     "text": [
      "[15:48:39] Molecule does not have explicit Hs. Consider calling AddHs()\n",
      "[15:48:39] Molecule does not have explicit Hs. Consider calling AddHs()\n",
      "[15:48:40] Molecule does not have explicit Hs. Consider calling AddHs()\n"
     ]
    },
    {
     "name": "stdout",
     "output_type": "stream",
     "text": [
      "0\n",
      "no conformer for MolPort-002-730-343\n",
      "0\n",
      "no conformer for MolPort-002-815-883\n",
      "0\n",
      "no conformer for MolPort-002-848-922\n"
     ]
    },
    {
     "name": "stderr",
     "output_type": "stream",
     "text": [
      "[15:48:40] Molecule does not have explicit Hs. Consider calling AddHs()\n",
      "[15:48:40] Molecule does not have explicit Hs. Consider calling AddHs()\n",
      "[15:48:40] Molecule does not have explicit Hs. Consider calling AddHs()\n"
     ]
    },
    {
     "name": "stdout",
     "output_type": "stream",
     "text": [
      "0\n",
      "no conformer for MolPort-002-950-887\n",
      "0\n",
      "no conformer for MolPort-002-973-411\n",
      "0\n",
      "no conformer for MolPort-002-973-412\n"
     ]
    },
    {
     "name": "stderr",
     "output_type": "stream",
     "text": [
      "[15:48:40] Molecule does not have explicit Hs. Consider calling AddHs()\n",
      "[15:48:40] Molecule does not have explicit Hs. Consider calling AddHs()\n",
      "[15:48:40] Molecule does not have explicit Hs. Consider calling AddHs()\n",
      "[15:48:40] Molecule does not have explicit Hs. Consider calling AddHs()\n",
      "[15:48:40] Molecule does not have explicit Hs. Consider calling AddHs()\n"
     ]
    },
    {
     "name": "stdout",
     "output_type": "stream",
     "text": [
      "0\n",
      "no conformer for MolPort-002-988-662\n",
      "0\n",
      "no conformer for MolPort-003-003-610\n",
      "0\n",
      "no conformer for MolPort-003-015-142\n",
      "0\n",
      "no conformer for MolPort-003-015-265\n"
     ]
    },
    {
     "name": "stderr",
     "output_type": "stream",
     "text": [
      "[15:48:40] Molecule does not have explicit Hs. Consider calling AddHs()\n",
      "[15:48:41] Molecule does not have explicit Hs. Consider calling AddHs()\n"
     ]
    },
    {
     "name": "stdout",
     "output_type": "stream",
     "text": [
      "0\n",
      "no conformer for MolPort-003-016-146\n",
      "0\n",
      "no conformer for MolPort-003-022-260\n"
     ]
    },
    {
     "name": "stderr",
     "output_type": "stream",
     "text": [
      "[15:48:41] Molecule does not have explicit Hs. Consider calling AddHs()\n",
      "[15:48:41] Molecule does not have explicit Hs. Consider calling AddHs()\n"
     ]
    },
    {
     "name": "stdout",
     "output_type": "stream",
     "text": [
      "0\n",
      "no conformer for MolPort-003-031-667\n",
      "0\n",
      "no conformer for MolPort-003-031-668\n"
     ]
    },
    {
     "name": "stderr",
     "output_type": "stream",
     "text": [
      "[15:48:41] Molecule does not have explicit Hs. Consider calling AddHs()\n",
      "[15:48:41] Molecule does not have explicit Hs. Consider calling AddHs()\n"
     ]
    },
    {
     "name": "stdout",
     "output_type": "stream",
     "text": [
      "0\n",
      "no conformer for MolPort-003-031-669\n"
     ]
    },
    {
     "name": "stderr",
     "output_type": "stream",
     "text": [
      "[15:48:41] Molecule does not have explicit Hs. Consider calling AddHs()\n"
     ]
    },
    {
     "name": "stdout",
     "output_type": "stream",
     "text": [
      "0\n",
      "no conformer for MolPort-003-031-670\n"
     ]
    },
    {
     "name": "stderr",
     "output_type": "stream",
     "text": [
      "[15:48:42] Molecule does not have explicit Hs. Consider calling AddHs()\n"
     ]
    },
    {
     "name": "stdout",
     "output_type": "stream",
     "text": [
      "0\n",
      "no conformer for MolPort-003-031-671\n",
      "0\n",
      "no conformer for MolPort-003-031-672\n"
     ]
    },
    {
     "name": "stderr",
     "output_type": "stream",
     "text": [
      "[15:48:42] Molecule does not have explicit Hs. Consider calling AddHs()\n",
      "[15:48:42] Molecule does not have explicit Hs. Consider calling AddHs()\n"
     ]
    },
    {
     "name": "stdout",
     "output_type": "stream",
     "text": [
      "0\n",
      "no conformer for MolPort-003-031-673\n",
      "0\n",
      "no conformer for MolPort-003-031-674\n",
      "0\n",
      "no conformer for MolPort-003-031-675\n"
     ]
    },
    {
     "name": "stderr",
     "output_type": "stream",
     "text": [
      "[15:48:43] Molecule does not have explicit Hs. Consider calling AddHs()\n",
      "[15:48:43] Molecule does not have explicit Hs. Consider calling AddHs()\n",
      "[15:48:43] Molecule does not have explicit Hs. Consider calling AddHs()\n"
     ]
    },
    {
     "name": "stdout",
     "output_type": "stream",
     "text": [
      "0\n",
      "no conformer for MolPort-003-031-676\n",
      "0\n",
      "no conformer for MolPort-003-031-677\n"
     ]
    },
    {
     "name": "stderr",
     "output_type": "stream",
     "text": [
      "[15:48:43] Molecule does not have explicit Hs. Consider calling AddHs()\n",
      "[15:48:43] Molecule does not have explicit Hs. Consider calling AddHs()\n"
     ]
    },
    {
     "name": "stdout",
     "output_type": "stream",
     "text": [
      "0\n",
      "no conformer for MolPort-003-031-678\n"
     ]
    },
    {
     "name": "stderr",
     "output_type": "stream",
     "text": [
      "[15:48:43] Molecule does not have explicit Hs. Consider calling AddHs()\n"
     ]
    },
    {
     "name": "stdout",
     "output_type": "stream",
     "text": [
      "0\n",
      "no conformer for MolPort-003-031-679\n",
      "0\n",
      "no conformer for MolPort-003-031-680\n"
     ]
    },
    {
     "name": "stderr",
     "output_type": "stream",
     "text": [
      "[15:48:44] Molecule does not have explicit Hs. Consider calling AddHs()\n",
      "[15:48:44] Molecule does not have explicit Hs. Consider calling AddHs()\n"
     ]
    },
    {
     "name": "stdout",
     "output_type": "stream",
     "text": [
      "0\n",
      "no conformer for MolPort-003-031-681\n"
     ]
    },
    {
     "name": "stderr",
     "output_type": "stream",
     "text": [
      "[15:48:44] Molecule does not have explicit Hs. Consider calling AddHs()\n"
     ]
    },
    {
     "name": "stdout",
     "output_type": "stream",
     "text": [
      "0\n",
      "no conformer for MolPort-003-031-682\n"
     ]
    },
    {
     "name": "stderr",
     "output_type": "stream",
     "text": [
      "[15:48:45] Molecule does not have explicit Hs. Consider calling AddHs()\n"
     ]
    },
    {
     "name": "stdout",
     "output_type": "stream",
     "text": [
      "0\n",
      "no conformer for MolPort-003-031-683\n"
     ]
    },
    {
     "name": "stderr",
     "output_type": "stream",
     "text": [
      "[15:48:45] Molecule does not have explicit Hs. Consider calling AddHs()\n"
     ]
    },
    {
     "name": "stdout",
     "output_type": "stream",
     "text": [
      "0\n",
      "no conformer for MolPort-003-031-684\n"
     ]
    },
    {
     "name": "stderr",
     "output_type": "stream",
     "text": [
      "[15:48:45] Molecule does not have explicit Hs. Consider calling AddHs()\n"
     ]
    },
    {
     "name": "stdout",
     "output_type": "stream",
     "text": [
      "0\n",
      "no conformer for MolPort-003-031-686\n"
     ]
    },
    {
     "name": "stderr",
     "output_type": "stream",
     "text": [
      "[15:48:46] Molecule does not have explicit Hs. Consider calling AddHs()\n"
     ]
    },
    {
     "name": "stdout",
     "output_type": "stream",
     "text": [
      "0\n",
      "no conformer for MolPort-003-031-687\n"
     ]
    },
    {
     "name": "stderr",
     "output_type": "stream",
     "text": [
      "[15:48:46] Molecule does not have explicit Hs. Consider calling AddHs()\n"
     ]
    },
    {
     "name": "stdout",
     "output_type": "stream",
     "text": [
      "0\n",
      "no conformer for MolPort-003-031-688\n"
     ]
    },
    {
     "name": "stderr",
     "output_type": "stream",
     "text": [
      "[15:48:46] Molecule does not have explicit Hs. Consider calling AddHs()\n"
     ]
    },
    {
     "name": "stdout",
     "output_type": "stream",
     "text": [
      "0\n",
      "no conformer for MolPort-003-031-689\n"
     ]
    },
    {
     "name": "stderr",
     "output_type": "stream",
     "text": [
      "[15:48:47] Molecule does not have explicit Hs. Consider calling AddHs()\n"
     ]
    },
    {
     "name": "stdout",
     "output_type": "stream",
     "text": [
      "0\n",
      "no conformer for MolPort-003-031-690\n"
     ]
    },
    {
     "name": "stderr",
     "output_type": "stream",
     "text": [
      "[15:48:47] Molecule does not have explicit Hs. Consider calling AddHs()\n"
     ]
    },
    {
     "name": "stdout",
     "output_type": "stream",
     "text": [
      "0\n",
      "no conformer for MolPort-003-031-691\n"
     ]
    },
    {
     "name": "stderr",
     "output_type": "stream",
     "text": [
      "[15:48:47] Molecule does not have explicit Hs. Consider calling AddHs()\n"
     ]
    },
    {
     "name": "stdout",
     "output_type": "stream",
     "text": [
      "0\n",
      "no conformer for MolPort-003-031-692\n"
     ]
    },
    {
     "name": "stderr",
     "output_type": "stream",
     "text": [
      "[15:48:48] Molecule does not have explicit Hs. Consider calling AddHs()\n"
     ]
    },
    {
     "name": "stdout",
     "output_type": "stream",
     "text": [
      "0\n",
      "no conformer for MolPort-003-031-693\n"
     ]
    },
    {
     "name": "stderr",
     "output_type": "stream",
     "text": [
      "[15:48:48] Molecule does not have explicit Hs. Consider calling AddHs()\n"
     ]
    },
    {
     "name": "stdout",
     "output_type": "stream",
     "text": [
      "0\n",
      "no conformer for MolPort-003-031-694\n"
     ]
    },
    {
     "name": "stderr",
     "output_type": "stream",
     "text": [
      "[15:48:48] Molecule does not have explicit Hs. Consider calling AddHs()\n"
     ]
    },
    {
     "name": "stdout",
     "output_type": "stream",
     "text": [
      "0\n",
      "no conformer for MolPort-003-031-695\n"
     ]
    },
    {
     "name": "stderr",
     "output_type": "stream",
     "text": [
      "[15:48:49] Molecule does not have explicit Hs. Consider calling AddHs()\n"
     ]
    },
    {
     "name": "stdout",
     "output_type": "stream",
     "text": [
      "0\n",
      "no conformer for MolPort-003-031-696\n",
      "0\n",
      "no conformer for MolPort-003-031-697\n"
     ]
    },
    {
     "name": "stderr",
     "output_type": "stream",
     "text": [
      "[15:48:49] Molecule does not have explicit Hs. Consider calling AddHs()\n",
      "[15:48:49] Molecule does not have explicit Hs. Consider calling AddHs()\n"
     ]
    },
    {
     "name": "stdout",
     "output_type": "stream",
     "text": [
      "0\n",
      "no conformer for MolPort-003-013-850\n"
     ]
    },
    {
     "name": "stderr",
     "output_type": "stream",
     "text": [
      "[15:48:49] Molecule does not have explicit Hs. Consider calling AddHs()\n"
     ]
    },
    {
     "name": "stdout",
     "output_type": "stream",
     "text": [
      "0\n",
      "no conformer for MolPort-002-719-157\n",
      "0\n",
      "no conformer for MolPort-002-983-034\n"
     ]
    },
    {
     "name": "stderr",
     "output_type": "stream",
     "text": [
      "[15:48:50] Molecule does not have explicit Hs. Consider calling AddHs()\n",
      "[15:48:50] Molecule does not have explicit Hs. Consider calling AddHs()\n"
     ]
    },
    {
     "name": "stdout",
     "output_type": "stream",
     "text": [
      "0\n",
      "no conformer for MolPort-003-013-842\n",
      "0\n",
      "no conformer for MolPort-003-013-843\n"
     ]
    },
    {
     "name": "stderr",
     "output_type": "stream",
     "text": [
      "[15:48:50] Molecule does not have explicit Hs. Consider calling AddHs()\n",
      "[15:48:50] Molecule does not have explicit Hs. Consider calling AddHs()\n"
     ]
    },
    {
     "name": "stdout",
     "output_type": "stream",
     "text": [
      "0\n",
      "no conformer for MolPort-003-013-844\n",
      "0\n",
      "no conformer for MolPort-003-013-845\n"
     ]
    },
    {
     "name": "stderr",
     "output_type": "stream",
     "text": [
      "[15:48:50] Molecule does not have explicit Hs. Consider calling AddHs()\n",
      "[15:48:50] Molecule does not have explicit Hs. Consider calling AddHs()\n"
     ]
    },
    {
     "name": "stdout",
     "output_type": "stream",
     "text": [
      "0\n",
      "no conformer for MolPort-003-013-847\n",
      "0\n",
      "no conformer for MolPort-003-013-848\n"
     ]
    },
    {
     "name": "stderr",
     "output_type": "stream",
     "text": [
      "[15:48:50] Molecule does not have explicit Hs. Consider calling AddHs()\n",
      "[15:48:51] Molecule does not have explicit Hs. Consider calling AddHs()\n"
     ]
    },
    {
     "name": "stdout",
     "output_type": "stream",
     "text": [
      "0\n",
      "no conformer for MolPort-003-013-849\n",
      "2\n"
     ]
    },
    {
     "name": "stderr",
     "output_type": "stream",
     "text": [
      "[15:48:51] Molecule does not have explicit Hs. Consider calling AddHs()\n",
      "[15:48:51] Molecule does not have explicit Hs. Consider calling AddHs()\n"
     ]
    },
    {
     "name": "stdout",
     "output_type": "stream",
     "text": [
      "0\n",
      "no conformer for MolPort-003-015-917\n"
     ]
    },
    {
     "name": "stderr",
     "output_type": "stream",
     "text": [
      "[15:48:52] Molecule does not have explicit Hs. Consider calling AddHs()\n"
     ]
    },
    {
     "name": "stdout",
     "output_type": "stream",
     "text": [
      "0\n",
      "no conformer for MolPort-003-038-427\n",
      "5\n",
      "3\n"
     ]
    },
    {
     "name": "stderr",
     "output_type": "stream",
     "text": [
      "[15:48:52] Molecule does not have explicit Hs. Consider calling AddHs()\n",
      "[15:48:52] Molecule does not have explicit Hs. Consider calling AddHs()\n",
      "[15:48:52] Molecule does not have explicit Hs. Consider calling AddHs()\n"
     ]
    },
    {
     "name": "stdout",
     "output_type": "stream",
     "text": [
      "1\n",
      "5\n"
     ]
    },
    {
     "name": "stderr",
     "output_type": "stream",
     "text": [
      "[15:48:52] Molecule does not have explicit Hs. Consider calling AddHs()\n",
      "[15:48:52] Molecule does not have explicit Hs. Consider calling AddHs()\n"
     ]
    },
    {
     "name": "stdout",
     "output_type": "stream",
     "text": [
      "1\n",
      "0\n",
      "no conformer for MolPort-003-038-433\n"
     ]
    },
    {
     "name": "stderr",
     "output_type": "stream",
     "text": [
      "[15:48:52] Molecule does not have explicit Hs. Consider calling AddHs()\n",
      "[15:48:53] Molecule does not have explicit Hs. Consider calling AddHs()\n"
     ]
    },
    {
     "name": "stdout",
     "output_type": "stream",
     "text": [
      "0\n",
      "no conformer for MolPort-003-038-434\n",
      "3\n"
     ]
    },
    {
     "name": "stderr",
     "output_type": "stream",
     "text": [
      "[15:48:53] Molecule does not have explicit Hs. Consider calling AddHs()\n",
      "[15:48:53] Molecule does not have explicit Hs. Consider calling AddHs()\n"
     ]
    },
    {
     "name": "stdout",
     "output_type": "stream",
     "text": [
      "0\n",
      "no conformer for MolPort-003-038-436\n"
     ]
    },
    {
     "name": "stderr",
     "output_type": "stream",
     "text": [
      "[15:48:53] Molecule does not have explicit Hs. Consider calling AddHs()\n"
     ]
    },
    {
     "name": "stdout",
     "output_type": "stream",
     "text": [
      "0\n",
      "no conformer for MolPort-003-038-438\n",
      "1\n"
     ]
    },
    {
     "name": "stderr",
     "output_type": "stream",
     "text": [
      "[15:48:53] Molecule does not have explicit Hs. Consider calling AddHs()\n",
      "[15:48:54] Molecule does not have explicit Hs. Consider calling AddHs()\n"
     ]
    },
    {
     "name": "stdout",
     "output_type": "stream",
     "text": [
      "1\n",
      "8\n"
     ]
    },
    {
     "name": "stderr",
     "output_type": "stream",
     "text": [
      "[15:48:54] Molecule does not have explicit Hs. Consider calling AddHs()\n",
      "[15:48:54] Molecule does not have explicit Hs. Consider calling AddHs()\n"
     ]
    },
    {
     "name": "stdout",
     "output_type": "stream",
     "text": [
      "1\n",
      "3\n",
      "5\n"
     ]
    },
    {
     "name": "stderr",
     "output_type": "stream",
     "text": [
      "[15:48:54] Molecule does not have explicit Hs. Consider calling AddHs()\n",
      "[15:48:54] Molecule does not have explicit Hs. Consider calling AddHs()\n",
      "[15:48:54] Molecule does not have explicit Hs. Consider calling AddHs()\n"
     ]
    },
    {
     "name": "stdout",
     "output_type": "stream",
     "text": [
      "3\n",
      "3\n"
     ]
    },
    {
     "name": "stderr",
     "output_type": "stream",
     "text": [
      "[15:48:54] Molecule does not have explicit Hs. Consider calling AddHs()\n",
      "[15:48:54] Molecule does not have explicit Hs. Consider calling AddHs()\n"
     ]
    },
    {
     "name": "stdout",
     "output_type": "stream",
     "text": [
      "0\n",
      "no conformer for MolPort-003-038-604\n",
      "2\n"
     ]
    },
    {
     "name": "stderr",
     "output_type": "stream",
     "text": [
      "[15:48:55] Molecule does not have explicit Hs. Consider calling AddHs()\n",
      "[15:48:55] Molecule does not have explicit Hs. Consider calling AddHs()\n"
     ]
    },
    {
     "name": "stdout",
     "output_type": "stream",
     "text": [
      "1\n"
     ]
    },
    {
     "name": "stderr",
     "output_type": "stream",
     "text": [
      "[15:48:55] Molecule does not have explicit Hs. Consider calling AddHs()\n"
     ]
    },
    {
     "name": "stdout",
     "output_type": "stream",
     "text": [
      "0\n",
      "no conformer for MolPort-003-038-607\n",
      "0\n",
      "no conformer for MolPort-003-038-608\n"
     ]
    },
    {
     "name": "stderr",
     "output_type": "stream",
     "text": [
      "[15:48:55] Molecule does not have explicit Hs. Consider calling AddHs()\n",
      "[15:48:55] Molecule does not have explicit Hs. Consider calling AddHs()\n"
     ]
    },
    {
     "name": "stdout",
     "output_type": "stream",
     "text": [
      "1\n",
      "1\n"
     ]
    },
    {
     "name": "stderr",
     "output_type": "stream",
     "text": [
      "[15:48:56] Molecule does not have explicit Hs. Consider calling AddHs()\n",
      "[15:48:56] Molecule does not have explicit Hs. Consider calling AddHs()\n"
     ]
    },
    {
     "name": "stdout",
     "output_type": "stream",
     "text": [
      "0\n",
      "no conformer for MolPort-003-038-611\n",
      "2\n"
     ]
    },
    {
     "name": "stderr",
     "output_type": "stream",
     "text": [
      "[15:48:56] Molecule does not have explicit Hs. Consider calling AddHs()\n",
      "[15:48:56] Molecule does not have explicit Hs. Consider calling AddHs()\n"
     ]
    },
    {
     "name": "stdout",
     "output_type": "stream",
     "text": [
      "0\n",
      "no conformer for MolPort-003-038-613\n",
      "4\n"
     ]
    },
    {
     "name": "stderr",
     "output_type": "stream",
     "text": [
      "[15:48:56] Molecule does not have explicit Hs. Consider calling AddHs()\n",
      "[15:48:56] Molecule does not have explicit Hs. Consider calling AddHs()\n"
     ]
    },
    {
     "name": "stdout",
     "output_type": "stream",
     "text": [
      "1\n",
      "1\n"
     ]
    },
    {
     "name": "stderr",
     "output_type": "stream",
     "text": [
      "[15:48:57] Molecule does not have explicit Hs. Consider calling AddHs()\n",
      "[15:48:57] Molecule does not have explicit Hs. Consider calling AddHs()\n"
     ]
    },
    {
     "name": "stdout",
     "output_type": "stream",
     "text": [
      "1\n"
     ]
    },
    {
     "name": "stderr",
     "output_type": "stream",
     "text": [
      "[15:48:57] Molecule does not have explicit Hs. Consider calling AddHs()\n"
     ]
    },
    {
     "name": "stdout",
     "output_type": "stream",
     "text": [
      "0\n",
      "no conformer for MolPort-003-038-618\n"
     ]
    },
    {
     "name": "stderr",
     "output_type": "stream",
     "text": [
      "[15:48:57] Molecule does not have explicit Hs. Consider calling AddHs()\n"
     ]
    },
    {
     "name": "stdout",
     "output_type": "stream",
     "text": [
      "0\n",
      "no conformer for MolPort-003-038-619\n",
      "0\n",
      "no conformer for MolPort-003-038-620\n"
     ]
    },
    {
     "name": "stderr",
     "output_type": "stream",
     "text": [
      "[15:48:58] Molecule does not have explicit Hs. Consider calling AddHs()\n",
      "[15:48:58] Molecule does not have explicit Hs. Consider calling AddHs()\n"
     ]
    },
    {
     "name": "stdout",
     "output_type": "stream",
     "text": [
      "5\n"
     ]
    },
    {
     "name": "stderr",
     "output_type": "stream",
     "text": [
      "[15:48:58] Molecule does not have explicit Hs. Consider calling AddHs()\n"
     ]
    },
    {
     "name": "stdout",
     "output_type": "stream",
     "text": [
      "0\n",
      "no conformer for MolPort-003-038-622\n",
      "1\n"
     ]
    },
    {
     "name": "stderr",
     "output_type": "stream",
     "text": [
      "[15:48:58] Molecule does not have explicit Hs. Consider calling AddHs()\n",
      "[15:48:58] Molecule does not have explicit Hs. Consider calling AddHs()\n",
      "[15:48:58] Molecule does not have explicit Hs. Consider calling AddHs()\n",
      "[15:48:59] Molecule does not have explicit Hs. Consider calling AddHs()\n"
     ]
    },
    {
     "name": "stdout",
     "output_type": "stream",
     "text": [
      "21\n",
      "6\n",
      "0\n",
      "no conformer for MolPort-003-038-703\n"
     ]
    },
    {
     "name": "stderr",
     "output_type": "stream",
     "text": [
      "[15:48:59] Molecule does not have explicit Hs. Consider calling AddHs()\n",
      "[15:48:59] Molecule does not have explicit Hs. Consider calling AddHs()\n",
      "[15:48:59] Molecule does not have explicit Hs. Consider calling AddHs()\n"
     ]
    },
    {
     "name": "stdout",
     "output_type": "stream",
     "text": [
      "0\n",
      "no conformer for MolPort-003-038-796\n",
      "2\n",
      "2\n",
      "0\n",
      "no conformer for MolPort-003-038-629\n"
     ]
    },
    {
     "name": "stderr",
     "output_type": "stream",
     "text": [
      "[15:48:59] Molecule does not have explicit Hs. Consider calling AddHs()\n",
      "[15:48:59] Molecule does not have explicit Hs. Consider calling AddHs()\n"
     ]
    },
    {
     "name": "stdout",
     "output_type": "stream",
     "text": [
      "1\n",
      "5\n"
     ]
    },
    {
     "name": "stderr",
     "output_type": "stream",
     "text": [
      "[15:48:59] Molecule does not have explicit Hs. Consider calling AddHs()\n",
      "[15:49:00] Molecule does not have explicit Hs. Consider calling AddHs()\n"
     ]
    },
    {
     "name": "stdout",
     "output_type": "stream",
     "text": [
      "0\n",
      "no conformer for MolPort-003-038-632\n",
      "3\n"
     ]
    },
    {
     "name": "stderr",
     "output_type": "stream",
     "text": [
      "[15:49:00] Molecule does not have explicit Hs. Consider calling AddHs()\n",
      "[15:49:00] Molecule does not have explicit Hs. Consider calling AddHs()\n"
     ]
    },
    {
     "name": "stdout",
     "output_type": "stream",
     "text": [
      "0\n",
      "no conformer for MolPort-003-038-740\n",
      "0\n",
      "no conformer for MolPort-003-038-743\n"
     ]
    },
    {
     "name": "stderr",
     "output_type": "stream",
     "text": [
      "[15:49:00] Molecule does not have explicit Hs. Consider calling AddHs()\n",
      "[15:49:00] Molecule does not have explicit Hs. Consider calling AddHs()\n"
     ]
    },
    {
     "name": "stdout",
     "output_type": "stream",
     "text": [
      "0\n",
      "no conformer for MolPort-003-038-756\n",
      "0\n",
      "no conformer for MolPort-003-038-793\n",
      "0\n",
      "no conformer for MolPort-003-038-820\n"
     ]
    },
    {
     "name": "stderr",
     "output_type": "stream",
     "text": [
      "[15:49:00] Molecule does not have explicit Hs. Consider calling AddHs()\n",
      "[15:49:00] Molecule does not have explicit Hs. Consider calling AddHs()\n",
      "[15:49:01] Molecule does not have explicit Hs. Consider calling AddHs()\n",
      "[15:49:01] Molecule does not have explicit Hs. Consider calling AddHs()\n"
     ]
    },
    {
     "name": "stdout",
     "output_type": "stream",
     "text": [
      "0\n",
      "no conformer for MolPort-003-038-885\n",
      "0\n",
      "no conformer for MolPort-003-038-802\n"
     ]
    },
    {
     "name": "stderr",
     "output_type": "stream",
     "text": [
      "[15:49:01] Molecule does not have explicit Hs. Consider calling AddHs()\n",
      "[15:49:01] Molecule does not have explicit Hs. Consider calling AddHs()\n"
     ]
    },
    {
     "name": "stdout",
     "output_type": "stream",
     "text": [
      "0\n",
      "no conformer for MolPort-003-038-808\n",
      "0\n",
      "no conformer for MolPort-003-038-860\n"
     ]
    },
    {
     "name": "stderr",
     "output_type": "stream",
     "text": [
      "[15:49:01] Molecule does not have explicit Hs. Consider calling AddHs()\n",
      "[15:49:01] Molecule does not have explicit Hs. Consider calling AddHs()\n"
     ]
    },
    {
     "name": "stdout",
     "output_type": "stream",
     "text": [
      "0\n",
      "no conformer for MolPort-003-038-862\n",
      "0\n",
      "no conformer for MolPort-003-038-865\n",
      "0\n",
      "no conformer for MolPort-003-038-866\n"
     ]
    },
    {
     "name": "stderr",
     "output_type": "stream",
     "text": [
      "[15:49:01] Molecule does not have explicit Hs. Consider calling AddHs()\n",
      "[15:49:01] Molecule does not have explicit Hs. Consider calling AddHs()\n"
     ]
    },
    {
     "name": "stdout",
     "output_type": "stream",
     "text": [
      "0\n",
      "no conformer for MolPort-003-038-867\n",
      "0\n",
      "no conformer for MolPort-003-038-869\n"
     ]
    },
    {
     "name": "stderr",
     "output_type": "stream",
     "text": [
      "[15:49:01] Molecule does not have explicit Hs. Consider calling AddHs()\n",
      "[15:49:02] Molecule does not have explicit Hs. Consider calling AddHs()\n"
     ]
    },
    {
     "name": "stdout",
     "output_type": "stream",
     "text": [
      "0\n",
      "no conformer for MolPort-003-038-870\n",
      "0\n",
      "no conformer for MolPort-003-038-871\n"
     ]
    },
    {
     "name": "stderr",
     "output_type": "stream",
     "text": [
      "[15:49:02] Molecule does not have explicit Hs. Consider calling AddHs()\n",
      "[15:49:02] Molecule does not have explicit Hs. Consider calling AddHs()\n"
     ]
    },
    {
     "name": "stdout",
     "output_type": "stream",
     "text": [
      "0\n",
      "no conformer for MolPort-003-038-872\n",
      "0\n",
      "no conformer for MolPort-003-038-873\n",
      "0\n",
      "no conformer for MolPort-003-038-874\n"
     ]
    },
    {
     "name": "stderr",
     "output_type": "stream",
     "text": [
      "[15:49:02] Molecule does not have explicit Hs. Consider calling AddHs()\n",
      "[15:49:02] Molecule does not have explicit Hs. Consider calling AddHs()\n",
      "[15:49:02] Molecule does not have explicit Hs. Consider calling AddHs()\n"
     ]
    },
    {
     "name": "stdout",
     "output_type": "stream",
     "text": [
      "0\n",
      "no conformer for MolPort-003-038-875\n",
      "0\n",
      "no conformer for MolPort-003-038-876\n"
     ]
    },
    {
     "name": "stderr",
     "output_type": "stream",
     "text": [
      "[15:49:02] Molecule does not have explicit Hs. Consider calling AddHs()\n",
      "[15:49:02] Molecule does not have explicit Hs. Consider calling AddHs()\n"
     ]
    },
    {
     "name": "stdout",
     "output_type": "stream",
     "text": [
      "0\n",
      "no conformer for MolPort-003-038-877\n",
      "0\n",
      "no conformer for MolPort-003-038-878\n"
     ]
    },
    {
     "name": "stderr",
     "output_type": "stream",
     "text": [
      "[15:49:02] Molecule does not have explicit Hs. Consider calling AddHs()\n",
      "[15:49:02] Molecule does not have explicit Hs. Consider calling AddHs()\n"
     ]
    },
    {
     "name": "stdout",
     "output_type": "stream",
     "text": [
      "0\n",
      "no conformer for MolPort-003-038-881\n",
      "0\n",
      "no conformer for MolPort-003-038-882\n"
     ]
    },
    {
     "name": "stderr",
     "output_type": "stream",
     "text": [
      "[15:49:03] Molecule does not have explicit Hs. Consider calling AddHs()\n",
      "[15:49:03] Molecule does not have explicit Hs. Consider calling AddHs()\n"
     ]
    },
    {
     "name": "stdout",
     "output_type": "stream",
     "text": [
      "0\n",
      "no conformer for MolPort-003-038-883\n"
     ]
    },
    {
     "name": "stderr",
     "output_type": "stream",
     "text": [
      "[15:49:03] Molecule does not have explicit Hs. Consider calling AddHs()\n"
     ]
    },
    {
     "name": "stdout",
     "output_type": "stream",
     "text": [
      "0\n",
      "no conformer for MolPort-003-038-884\n",
      "0\n",
      "no conformer for MolPort-003-038-889\n"
     ]
    },
    {
     "name": "stderr",
     "output_type": "stream",
     "text": [
      "[15:49:03] Molecule does not have explicit Hs. Consider calling AddHs()\n",
      "[15:49:03] Molecule does not have explicit Hs. Consider calling AddHs()\n"
     ]
    },
    {
     "name": "stdout",
     "output_type": "stream",
     "text": [
      "0\n",
      "no conformer for MolPort-003-038-886\n",
      "0\n",
      "no conformer for MolPort-003-038-887\n"
     ]
    },
    {
     "name": "stderr",
     "output_type": "stream",
     "text": [
      "[15:49:04] Molecule does not have explicit Hs. Consider calling AddHs()\n",
      "[15:49:04] Molecule does not have explicit Hs. Consider calling AddHs()\n"
     ]
    },
    {
     "name": "stdout",
     "output_type": "stream",
     "text": [
      "0\n",
      "no conformer for MolPort-003-038-888\n",
      "0\n",
      "no conformer for MolPort-003-038-890\n",
      "0\n",
      "no conformer for MolPort-003-038-894\n"
     ]
    },
    {
     "name": "stderr",
     "output_type": "stream",
     "text": [
      "[15:49:04] Molecule does not have explicit Hs. Consider calling AddHs()\n",
      "[15:49:04] Molecule does not have explicit Hs. Consider calling AddHs()\n",
      "[15:49:04] Molecule does not have explicit Hs. Consider calling AddHs()\n"
     ]
    },
    {
     "name": "stdout",
     "output_type": "stream",
     "text": [
      "0\n",
      "no conformer for MolPort-003-038-891\n",
      "0\n",
      "no conformer for MolPort-003-038-892\n",
      "0\n",
      "no conformer for MolPort-003-038-893\n"
     ]
    },
    {
     "name": "stderr",
     "output_type": "stream",
     "text": [
      "[15:49:04] Molecule does not have explicit Hs. Consider calling AddHs()\n",
      "[15:49:04] Molecule does not have explicit Hs. Consider calling AddHs()\n",
      "[15:49:04] Molecule does not have explicit Hs. Consider calling AddHs()\n"
     ]
    },
    {
     "name": "stdout",
     "output_type": "stream",
     "text": [
      "0\n",
      "no conformer for MolPort-003-038-902\n",
      "0\n",
      "no conformer for MolPort-003-038-895\n",
      "0\n",
      "no conformer for MolPort-003-038-896\n",
      "0\n",
      "no conformer for MolPort-003-038-898\n"
     ]
    },
    {
     "name": "stderr",
     "output_type": "stream",
     "text": [
      "[15:49:04] Molecule does not have explicit Hs. Consider calling AddHs()\n",
      "[15:49:04] Molecule does not have explicit Hs. Consider calling AddHs()\n",
      "[15:49:05] Molecule does not have explicit Hs. Consider calling AddHs()\n",
      "[15:49:05] Molecule does not have explicit Hs. Consider calling AddHs()\n"
     ]
    },
    {
     "name": "stdout",
     "output_type": "stream",
     "text": [
      "0\n",
      "no conformer for MolPort-003-038-900\n",
      "0\n",
      "no conformer for MolPort-003-038-901\n"
     ]
    },
    {
     "name": "stderr",
     "output_type": "stream",
     "text": [
      "[15:49:05] Molecule does not have explicit Hs. Consider calling AddHs()\n",
      "[15:49:05] Molecule does not have explicit Hs. Consider calling AddHs()\n"
     ]
    },
    {
     "name": "stdout",
     "output_type": "stream",
     "text": [
      "0\n",
      "no conformer for MolPort-003-038-907\n",
      "0\n",
      "no conformer for MolPort-003-038-903\n"
     ]
    },
    {
     "name": "stderr",
     "output_type": "stream",
     "text": [
      "[15:49:05] Molecule does not have explicit Hs. Consider calling AddHs()\n",
      "[15:49:05] Molecule does not have explicit Hs. Consider calling AddHs()\n"
     ]
    },
    {
     "name": "stdout",
     "output_type": "stream",
     "text": [
      "0\n",
      "no conformer for MolPort-003-038-904\n",
      "0\n",
      "no conformer for MolPort-003-038-906\n",
      "0\n",
      "no conformer for MolPort-003-038-908\n"
     ]
    },
    {
     "name": "stderr",
     "output_type": "stream",
     "text": [
      "[15:49:05] Molecule does not have explicit Hs. Consider calling AddHs()\n",
      "[15:49:05] Molecule does not have explicit Hs. Consider calling AddHs()\n",
      "[15:49:05] Molecule does not have explicit Hs. Consider calling AddHs()\n"
     ]
    },
    {
     "name": "stdout",
     "output_type": "stream",
     "text": [
      "0\n",
      "no conformer for MolPort-003-039-058\n",
      "0\n",
      "no conformer for MolPort-003-038-909\n"
     ]
    },
    {
     "name": "stderr",
     "output_type": "stream",
     "text": [
      "[15:49:06] Molecule does not have explicit Hs. Consider calling AddHs()\n",
      "[15:49:06] Molecule does not have explicit Hs. Consider calling AddHs()\n"
     ]
    },
    {
     "name": "stdout",
     "output_type": "stream",
     "text": [
      "0\n",
      "no conformer for MolPort-003-038-915\n",
      "0\n",
      "no conformer for MolPort-003-075-567\n"
     ]
    },
    {
     "name": "stderr",
     "output_type": "stream",
     "text": [
      "[15:49:06] Molecule does not have explicit Hs. Consider calling AddHs()\n",
      "[15:49:06] Molecule does not have explicit Hs. Consider calling AddHs()\n"
     ]
    },
    {
     "name": "stdout",
     "output_type": "stream",
     "text": [
      "0\n",
      "no conformer for MolPort-003-038-916\n",
      "0\n",
      "no conformer for MolPort-003-038-917\n"
     ]
    },
    {
     "name": "stderr",
     "output_type": "stream",
     "text": [
      "[15:49:06] Molecule does not have explicit Hs. Consider calling AddHs()\n",
      "[15:49:06] Molecule does not have explicit Hs. Consider calling AddHs()\n"
     ]
    },
    {
     "name": "stdout",
     "output_type": "stream",
     "text": [
      "0\n",
      "no conformer for MolPort-003-038-918\n",
      "0\n",
      "no conformer for MolPort-003-039-012\n",
      "0\n",
      "no conformer for MolPort-003-039-013\n"
     ]
    },
    {
     "name": "stderr",
     "output_type": "stream",
     "text": [
      "[15:49:06] Molecule does not have explicit Hs. Consider calling AddHs()\n",
      "[15:49:06] Molecule does not have explicit Hs. Consider calling AddHs()\n",
      "[15:49:07] Molecule does not have explicit Hs. Consider calling AddHs()\n"
     ]
    },
    {
     "name": "stdout",
     "output_type": "stream",
     "text": [
      "0\n",
      "no conformer for MolPort-003-038-928\n",
      "0\n",
      "no conformer for MolPort-003-038-956\n",
      "0\n",
      "no conformer for MolPort-003-039-009\n"
     ]
    },
    {
     "name": "stderr",
     "output_type": "stream",
     "text": [
      "[15:49:07] Molecule does not have explicit Hs. Consider calling AddHs()\n",
      "[15:49:07] Molecule does not have explicit Hs. Consider calling AddHs()\n",
      "[15:49:07] Molecule does not have explicit Hs. Consider calling AddHs()\n"
     ]
    },
    {
     "name": "stdout",
     "output_type": "stream",
     "text": [
      "0\n",
      "no conformer for MolPort-003-039-054\n",
      "0\n",
      "no conformer for MolPort-003-039-055\n",
      "0\n",
      "no conformer for MolPort-003-039-056\n"
     ]
    },
    {
     "name": "stderr",
     "output_type": "stream",
     "text": [
      "[15:49:07] Molecule does not have explicit Hs. Consider calling AddHs()\n",
      "[15:49:07] Molecule does not have explicit Hs. Consider calling AddHs()\n",
      "[15:49:07] Molecule does not have explicit Hs. Consider calling AddHs()\n"
     ]
    },
    {
     "name": "stdout",
     "output_type": "stream",
     "text": [
      "0\n",
      "no conformer for MolPort-003-039-057\n",
      "0\n",
      "no conformer for MolPort-003-039-059\n"
     ]
    },
    {
     "name": "stderr",
     "output_type": "stream",
     "text": [
      "[15:49:07] Molecule does not have explicit Hs. Consider calling AddHs()\n",
      "[15:49:07] Molecule does not have explicit Hs. Consider calling AddHs()\n"
     ]
    },
    {
     "name": "stdout",
     "output_type": "stream",
     "text": [
      "0\n",
      "no conformer for MolPort-003-039-060\n"
     ]
    },
    {
     "name": "stderr",
     "output_type": "stream",
     "text": [
      "[15:49:07] Molecule does not have explicit Hs. Consider calling AddHs()\n"
     ]
    },
    {
     "name": "stdout",
     "output_type": "stream",
     "text": [
      "0\n",
      "no conformer for MolPort-003-052-869\n"
     ]
    },
    {
     "name": "stderr",
     "output_type": "stream",
     "text": [
      "[15:49:08] Molecule does not have explicit Hs. Consider calling AddHs()\n"
     ]
    },
    {
     "name": "stdout",
     "output_type": "stream",
     "text": [
      "0\n",
      "no conformer for MolPort-003-052-915\n",
      "0\n",
      "no conformer for MolPort-003-056-491\n",
      "0\n",
      "no conformer for MolPort-003-056-496\n"
     ]
    },
    {
     "name": "stderr",
     "output_type": "stream",
     "text": [
      "[15:49:08] Molecule does not have explicit Hs. Consider calling AddHs()\n",
      "[15:49:08] Molecule does not have explicit Hs. Consider calling AddHs()\n",
      "[15:49:08] Molecule does not have explicit Hs. Consider calling AddHs()\n"
     ]
    },
    {
     "name": "stdout",
     "output_type": "stream",
     "text": [
      "0\n",
      "no conformer for MolPort-003-056-574\n"
     ]
    },
    {
     "name": "stderr",
     "output_type": "stream",
     "text": [
      "[15:49:08] Molecule does not have explicit Hs. Consider calling AddHs()\n"
     ]
    },
    {
     "name": "stdout",
     "output_type": "stream",
     "text": [
      "0\n",
      "no conformer for MolPort-003-056-852\n"
     ]
    },
    {
     "name": "stderr",
     "output_type": "stream",
     "text": [
      "[15:49:09] Molecule does not have explicit Hs. Consider calling AddHs()\n"
     ]
    },
    {
     "name": "stdout",
     "output_type": "stream",
     "text": [
      "0\n",
      "no conformer for MolPort-003-059-801\n"
     ]
    },
    {
     "name": "stderr",
     "output_type": "stream",
     "text": [
      "[15:49:09] Molecule does not have explicit Hs. Consider calling AddHs()\n"
     ]
    },
    {
     "name": "stdout",
     "output_type": "stream",
     "text": [
      "0\n",
      "no conformer for MolPort-003-059-802\n"
     ]
    },
    {
     "name": "stderr",
     "output_type": "stream",
     "text": [
      "[15:49:09] Molecule does not have explicit Hs. Consider calling AddHs()\n"
     ]
    },
    {
     "name": "stdout",
     "output_type": "stream",
     "text": [
      "0\n",
      "no conformer for MolPort-003-059-803\n"
     ]
    },
    {
     "name": "stderr",
     "output_type": "stream",
     "text": [
      "[15:49:10] Molecule does not have explicit Hs. Consider calling AddHs()\n"
     ]
    },
    {
     "name": "stdout",
     "output_type": "stream",
     "text": [
      "0\n",
      "no conformer for MolPort-003-059-804\n",
      "0\n",
      "no conformer for MolPort-003-075-569\n"
     ]
    },
    {
     "name": "stderr",
     "output_type": "stream",
     "text": [
      "[15:49:10] Molecule does not have explicit Hs. Consider calling AddHs()\n",
      "[15:49:10] Molecule does not have explicit Hs. Consider calling AddHs()\n"
     ]
    },
    {
     "name": "stdout",
     "output_type": "stream",
     "text": [
      "0\n",
      "no conformer for MolPort-003-090-428\n"
     ]
    },
    {
     "name": "stderr",
     "output_type": "stream",
     "text": [
      "[15:49:10] Molecule does not have explicit Hs. Consider calling AddHs()\n"
     ]
    },
    {
     "name": "stdout",
     "output_type": "stream",
     "text": [
      "0\n",
      "no conformer for MolPort-003-052-614\n"
     ]
    },
    {
     "name": "stderr",
     "output_type": "stream",
     "text": [
      "[15:49:11] Molecule does not have explicit Hs. Consider calling AddHs()\n"
     ]
    },
    {
     "name": "stdout",
     "output_type": "stream",
     "text": [
      "0\n",
      "no conformer for MolPort-003-062-669\n",
      "0\n",
      "no conformer for MolPort-003-075-545\n",
      "0\n",
      "no conformer for MolPort-003-075-547\n"
     ]
    },
    {
     "name": "stderr",
     "output_type": "stream",
     "text": [
      "[15:49:11] Molecule does not have explicit Hs. Consider calling AddHs()\n",
      "[15:49:11] Molecule does not have explicit Hs. Consider calling AddHs()\n",
      "[15:49:11] Molecule does not have explicit Hs. Consider calling AddHs()\n"
     ]
    },
    {
     "name": "stdout",
     "output_type": "stream",
     "text": [
      "0\n",
      "no conformer for MolPort-003-075-549\n",
      "0\n",
      "no conformer for MolPort-003-075-551\n"
     ]
    },
    {
     "name": "stderr",
     "output_type": "stream",
     "text": [
      "[15:49:11] Molecule does not have explicit Hs. Consider calling AddHs()\n",
      "[15:49:11] Molecule does not have explicit Hs. Consider calling AddHs()\n"
     ]
    },
    {
     "name": "stdout",
     "output_type": "stream",
     "text": [
      "0\n",
      "no conformer for MolPort-003-075-553\n",
      "0\n",
      "no conformer for MolPort-003-075-556\n"
     ]
    },
    {
     "name": "stderr",
     "output_type": "stream",
     "text": [
      "[15:49:11] Molecule does not have explicit Hs. Consider calling AddHs()\n",
      "[15:49:11] Molecule does not have explicit Hs. Consider calling AddHs()\n"
     ]
    },
    {
     "name": "stdout",
     "output_type": "stream",
     "text": [
      "0\n",
      "no conformer for MolPort-003-075-558\n",
      "0\n",
      "no conformer for MolPort-003-075-560\n"
     ]
    },
    {
     "name": "stderr",
     "output_type": "stream",
     "text": [
      "[15:49:11] Molecule does not have explicit Hs. Consider calling AddHs()\n",
      "[15:49:12] Molecule does not have explicit Hs. Consider calling AddHs()\n"
     ]
    },
    {
     "name": "stdout",
     "output_type": "stream",
     "text": [
      "0\n",
      "no conformer for MolPort-003-075-562\n",
      "0\n",
      "no conformer for MolPort-003-075-563\n"
     ]
    },
    {
     "name": "stderr",
     "output_type": "stream",
     "text": [
      "[15:49:12] Molecule does not have explicit Hs. Consider calling AddHs()\n",
      "[15:49:12] Molecule does not have explicit Hs. Consider calling AddHs()\n"
     ]
    },
    {
     "name": "stdout",
     "output_type": "stream",
     "text": [
      "0\n",
      "no conformer for MolPort-003-075-565\n",
      "0\n",
      "no conformer for MolPort-003-075-571\n",
      "0\n",
      "no conformer for MolPort-003-075-575\n"
     ]
    },
    {
     "name": "stderr",
     "output_type": "stream",
     "text": [
      "[15:49:12] Molecule does not have explicit Hs. Consider calling AddHs()\n",
      "[15:49:12] Molecule does not have explicit Hs. Consider calling AddHs()\n",
      "[15:49:12] Molecule does not have explicit Hs. Consider calling AddHs()\n"
     ]
    },
    {
     "name": "stdout",
     "output_type": "stream",
     "text": [
      "0\n",
      "no conformer for MolPort-003-075-576\n",
      "0\n",
      "no conformer for MolPort-003-075-578\n"
     ]
    },
    {
     "name": "stderr",
     "output_type": "stream",
     "text": [
      "[15:49:12] Molecule does not have explicit Hs. Consider calling AddHs()\n",
      "[15:49:13] Molecule does not have explicit Hs. Consider calling AddHs()\n"
     ]
    },
    {
     "name": "stdout",
     "output_type": "stream",
     "text": [
      "0\n",
      "no conformer for MolPort-003-075-581\n",
      "0\n",
      "no conformer for MolPort-003-075-584\n",
      "0\n",
      "no conformer for MolPort-003-075-586\n",
      "0\n",
      "no conformer for MolPort-003-075-588\n"
     ]
    },
    {
     "name": "stderr",
     "output_type": "stream",
     "text": [
      "[15:49:13] Molecule does not have explicit Hs. Consider calling AddHs()\n",
      "[15:49:13] Molecule does not have explicit Hs. Consider calling AddHs()\n",
      "[15:49:13] Molecule does not have explicit Hs. Consider calling AddHs()\n",
      "[15:49:13] Molecule does not have explicit Hs. Consider calling AddHs()\n"
     ]
    },
    {
     "name": "stdout",
     "output_type": "stream",
     "text": [
      "0\n",
      "no conformer for MolPort-003-075-590\n",
      "0\n",
      "no conformer for MolPort-003-075-592\n"
     ]
    },
    {
     "name": "stderr",
     "output_type": "stream",
     "text": [
      "[15:49:13] Molecule does not have explicit Hs. Consider calling AddHs()\n",
      "[15:49:13] Molecule does not have explicit Hs. Consider calling AddHs()\n"
     ]
    },
    {
     "name": "stdout",
     "output_type": "stream",
     "text": [
      "0\n",
      "no conformer for MolPort-003-075-594\n"
     ]
    },
    {
     "name": "stderr",
     "output_type": "stream",
     "text": [
      "[15:49:13] Molecule does not have explicit Hs. Consider calling AddHs()\n"
     ]
    },
    {
     "name": "stdout",
     "output_type": "stream",
     "text": [
      "0\n",
      "no conformer for MolPort-003-075-596\n",
      "0\n",
      "no conformer for MolPort-003-075-598\n",
      "0\n",
      "no conformer for MolPort-003-075-600\n"
     ]
    },
    {
     "name": "stderr",
     "output_type": "stream",
     "text": [
      "[15:49:13] Molecule does not have explicit Hs. Consider calling AddHs()\n",
      "[15:49:14] Molecule does not have explicit Hs. Consider calling AddHs()\n",
      "[15:49:14] Molecule does not have explicit Hs. Consider calling AddHs()\n"
     ]
    },
    {
     "name": "stdout",
     "output_type": "stream",
     "text": [
      "0\n",
      "no conformer for MolPort-003-075-601\n"
     ]
    },
    {
     "name": "stderr",
     "output_type": "stream",
     "text": [
      "[15:49:14] Molecule does not have explicit Hs. Consider calling AddHs()\n"
     ]
    },
    {
     "name": "stdout",
     "output_type": "stream",
     "text": [
      "0\n",
      "no conformer for MolPort-003-075-603\n",
      "0\n",
      "no conformer for MolPort-003-075-606\n"
     ]
    },
    {
     "name": "stderr",
     "output_type": "stream",
     "text": [
      "[15:49:14] Molecule does not have explicit Hs. Consider calling AddHs()\n",
      "[15:49:14] Molecule does not have explicit Hs. Consider calling AddHs()\n"
     ]
    },
    {
     "name": "stdout",
     "output_type": "stream",
     "text": [
      "0\n",
      "no conformer for MolPort-003-075-608\n"
     ]
    },
    {
     "name": "stderr",
     "output_type": "stream",
     "text": [
      "[15:49:14] Molecule does not have explicit Hs. Consider calling AddHs()\n"
     ]
    },
    {
     "name": "stdout",
     "output_type": "stream",
     "text": [
      "0\n",
      "no conformer for MolPort-003-076-374\n",
      "0\n",
      "no conformer for MolPort-003-076-550\n"
     ]
    },
    {
     "name": "stderr",
     "output_type": "stream",
     "text": [
      "[15:49:15] Molecule does not have explicit Hs. Consider calling AddHs()\n",
      "[15:49:15] Molecule does not have explicit Hs. Consider calling AddHs()\n"
     ]
    },
    {
     "name": "stdout",
     "output_type": "stream",
     "text": [
      "0\n",
      "no conformer for MolPort-003-090-130\n",
      "0\n",
      "no conformer for MolPort-003-090-131\n"
     ]
    },
    {
     "name": "stderr",
     "output_type": "stream",
     "text": [
      "[15:49:15] Molecule does not have explicit Hs. Consider calling AddHs()\n",
      "[15:49:15] Molecule does not have explicit Hs. Consider calling AddHs()\n"
     ]
    },
    {
     "name": "stdout",
     "output_type": "stream",
     "text": [
      "0\n",
      "no conformer for MolPort-003-090-132\n"
     ]
    },
    {
     "name": "stderr",
     "output_type": "stream",
     "text": [
      "[15:49:15] Molecule does not have explicit Hs. Consider calling AddHs()\n"
     ]
    },
    {
     "name": "stdout",
     "output_type": "stream",
     "text": [
      "0\n",
      "no conformer for MolPort-003-090-133\n",
      "0\n",
      "no conformer for MolPort-003-090-134\n"
     ]
    },
    {
     "name": "stderr",
     "output_type": "stream",
     "text": [
      "[15:49:15] Molecule does not have explicit Hs. Consider calling AddHs()\n",
      "[15:49:16] Molecule does not have explicit Hs. Consider calling AddHs()\n"
     ]
    },
    {
     "name": "stdout",
     "output_type": "stream",
     "text": [
      "0\n",
      "no conformer for MolPort-003-090-135\n"
     ]
    },
    {
     "name": "stderr",
     "output_type": "stream",
     "text": [
      "[15:49:16] Molecule does not have explicit Hs. Consider calling AddHs()\n"
     ]
    },
    {
     "name": "stdout",
     "output_type": "stream",
     "text": [
      "0\n",
      "no conformer for MolPort-003-090-136\n"
     ]
    },
    {
     "name": "stderr",
     "output_type": "stream",
     "text": [
      "[15:49:16] Molecule does not have explicit Hs. Consider calling AddHs()\n"
     ]
    },
    {
     "name": "stdout",
     "output_type": "stream",
     "text": [
      "0\n",
      "no conformer for MolPort-003-090-137\n"
     ]
    },
    {
     "name": "stderr",
     "output_type": "stream",
     "text": [
      "[15:49:17] Molecule does not have explicit Hs. Consider calling AddHs()\n"
     ]
    },
    {
     "name": "stdout",
     "output_type": "stream",
     "text": [
      "0\n",
      "no conformer for MolPort-003-090-138\n",
      "0\n",
      "no conformer for MolPort-003-090-139\n",
      "0\n",
      "no conformer for MolPort-003-090-140\n"
     ]
    },
    {
     "name": "stderr",
     "output_type": "stream",
     "text": [
      "[15:49:17] Molecule does not have explicit Hs. Consider calling AddHs()\n",
      "[15:49:17] Molecule does not have explicit Hs. Consider calling AddHs()\n",
      "[15:49:17] Molecule does not have explicit Hs. Consider calling AddHs()\n"
     ]
    },
    {
     "name": "stdout",
     "output_type": "stream",
     "text": [
      "0\n",
      "no conformer for MolPort-003-090-141\n"
     ]
    },
    {
     "name": "stderr",
     "output_type": "stream",
     "text": [
      "[15:49:17] Molecule does not have explicit Hs. Consider calling AddHs()\n"
     ]
    },
    {
     "name": "stdout",
     "output_type": "stream",
     "text": [
      "0\n",
      "no conformer for MolPort-003-090-142\n",
      "0\n",
      "no conformer for MolPort-003-090-143\n"
     ]
    },
    {
     "name": "stderr",
     "output_type": "stream",
     "text": [
      "[15:49:18] Molecule does not have explicit Hs. Consider calling AddHs()\n",
      "[15:49:18] Molecule does not have explicit Hs. Consider calling AddHs()\n"
     ]
    },
    {
     "name": "stdout",
     "output_type": "stream",
     "text": [
      "0\n",
      "no conformer for MolPort-003-090-144\n",
      "0\n",
      "no conformer for MolPort-003-090-155\n"
     ]
    },
    {
     "name": "stderr",
     "output_type": "stream",
     "text": [
      "[15:49:18] Molecule does not have explicit Hs. Consider calling AddHs()\n",
      "[15:49:18] Molecule does not have explicit Hs. Consider calling AddHs()\n"
     ]
    },
    {
     "name": "stdout",
     "output_type": "stream",
     "text": [
      "0\n",
      "no conformer for MolPort-003-090-156\n",
      "0\n",
      "no conformer for MolPort-003-090-157\n"
     ]
    },
    {
     "name": "stderr",
     "output_type": "stream",
     "text": [
      "[15:49:18] Molecule does not have explicit Hs. Consider calling AddHs()\n",
      "[15:49:19] Molecule does not have explicit Hs. Consider calling AddHs()\n"
     ]
    },
    {
     "name": "stdout",
     "output_type": "stream",
     "text": [
      "0\n",
      "no conformer for MolPort-003-090-145\n",
      "0\n",
      "no conformer for MolPort-003-090-146\n"
     ]
    },
    {
     "name": "stderr",
     "output_type": "stream",
     "text": [
      "[15:49:19] Molecule does not have explicit Hs. Consider calling AddHs()\n",
      "[15:49:19] Molecule does not have explicit Hs. Consider calling AddHs()\n"
     ]
    },
    {
     "name": "stdout",
     "output_type": "stream",
     "text": [
      "0\n",
      "no conformer for MolPort-003-090-147\n"
     ]
    },
    {
     "name": "stderr",
     "output_type": "stream",
     "text": [
      "[15:49:19] Molecule does not have explicit Hs. Consider calling AddHs()\n"
     ]
    },
    {
     "name": "stdout",
     "output_type": "stream",
     "text": [
      "0\n",
      "no conformer for MolPort-003-090-148\n",
      "0\n",
      "no conformer for MolPort-003-090-149\n"
     ]
    },
    {
     "name": "stderr",
     "output_type": "stream",
     "text": [
      "[15:49:19] Molecule does not have explicit Hs. Consider calling AddHs()\n",
      "[15:49:19] Molecule does not have explicit Hs. Consider calling AddHs()\n"
     ]
    },
    {
     "name": "stdout",
     "output_type": "stream",
     "text": [
      "0\n",
      "no conformer for MolPort-003-090-150\n",
      "0\n",
      "no conformer for MolPort-003-090-151\n"
     ]
    },
    {
     "name": "stderr",
     "output_type": "stream",
     "text": [
      "[15:49:20] Molecule does not have explicit Hs. Consider calling AddHs()\n",
      "[15:49:20] Molecule does not have explicit Hs. Consider calling AddHs()\n"
     ]
    },
    {
     "name": "stdout",
     "output_type": "stream",
     "text": [
      "0\n",
      "no conformer for MolPort-003-090-152\n",
      "0\n",
      "no conformer for MolPort-003-090-153\n"
     ]
    },
    {
     "name": "stderr",
     "output_type": "stream",
     "text": [
      "[15:49:20] Molecule does not have explicit Hs. Consider calling AddHs()\n",
      "[15:49:20] Molecule does not have explicit Hs. Consider calling AddHs()\n"
     ]
    },
    {
     "name": "stdout",
     "output_type": "stream",
     "text": [
      "0\n",
      "no conformer for MolPort-003-090-154\n"
     ]
    },
    {
     "name": "stderr",
     "output_type": "stream",
     "text": [
      "[15:49:20] Molecule does not have explicit Hs. Consider calling AddHs()\n"
     ]
    },
    {
     "name": "stdout",
     "output_type": "stream",
     "text": [
      "0\n",
      "no conformer for MolPort-003-090-158\n"
     ]
    },
    {
     "name": "stderr",
     "output_type": "stream",
     "text": [
      "[15:49:21] Molecule does not have explicit Hs. Consider calling AddHs()\n"
     ]
    },
    {
     "name": "stdout",
     "output_type": "stream",
     "text": [
      "0\n",
      "no conformer for MolPort-003-090-159\n",
      "0\n",
      "no conformer for MolPort-003-090-416\n"
     ]
    },
    {
     "name": "stderr",
     "output_type": "stream",
     "text": [
      "[15:49:21] Molecule does not have explicit Hs. Consider calling AddHs()\n",
      "[15:49:21] Molecule does not have explicit Hs. Consider calling AddHs()\n"
     ]
    },
    {
     "name": "stdout",
     "output_type": "stream",
     "text": [
      "0\n",
      "no conformer for MolPort-003-090-417\n",
      "0\n",
      "no conformer for MolPort-003-090-418\n"
     ]
    },
    {
     "name": "stderr",
     "output_type": "stream",
     "text": [
      "[15:49:21] Molecule does not have explicit Hs. Consider calling AddHs()\n",
      "[15:49:21] Molecule does not have explicit Hs. Consider calling AddHs()\n"
     ]
    },
    {
     "name": "stdout",
     "output_type": "stream",
     "text": [
      "0\n",
      "no conformer for MolPort-003-090-419\n"
     ]
    },
    {
     "name": "stderr",
     "output_type": "stream",
     "text": [
      "[15:49:22] Molecule does not have explicit Hs. Consider calling AddHs()\n"
     ]
    },
    {
     "name": "stdout",
     "output_type": "stream",
     "text": [
      "0\n",
      "no conformer for MolPort-003-090-420\n"
     ]
    },
    {
     "name": "stderr",
     "output_type": "stream",
     "text": [
      "[15:49:22] Molecule does not have explicit Hs. Consider calling AddHs()\n"
     ]
    },
    {
     "name": "stdout",
     "output_type": "stream",
     "text": [
      "0\n",
      "no conformer for MolPort-003-090-421\n"
     ]
    },
    {
     "name": "stderr",
     "output_type": "stream",
     "text": [
      "[15:49:22] Molecule does not have explicit Hs. Consider calling AddHs()\n"
     ]
    },
    {
     "name": "stdout",
     "output_type": "stream",
     "text": [
      "0\n",
      "no conformer for MolPort-003-090-422\n",
      "0\n",
      "no conformer for MolPort-003-090-423\n"
     ]
    },
    {
     "name": "stderr",
     "output_type": "stream",
     "text": [
      "[15:49:23] Molecule does not have explicit Hs. Consider calling AddHs()\n",
      "[15:49:23] Molecule does not have explicit Hs. Consider calling AddHs()\n"
     ]
    },
    {
     "name": "stdout",
     "output_type": "stream",
     "text": [
      "0\n",
      "no conformer for MolPort-003-090-424\n",
      "0\n",
      "no conformer for MolPort-003-090-425\n"
     ]
    },
    {
     "name": "stderr",
     "output_type": "stream",
     "text": [
      "[15:49:23] Molecule does not have explicit Hs. Consider calling AddHs()\n",
      "[15:49:23] Molecule does not have explicit Hs. Consider calling AddHs()\n"
     ]
    },
    {
     "name": "stdout",
     "output_type": "stream",
     "text": [
      "0\n",
      "no conformer for MolPort-003-090-426\n",
      "0\n",
      "no conformer for MolPort-003-090-427\n"
     ]
    },
    {
     "name": "stderr",
     "output_type": "stream",
     "text": [
      "[15:49:23] Molecule does not have explicit Hs. Consider calling AddHs()\n",
      "[15:49:23] Molecule does not have explicit Hs. Consider calling AddHs()\n"
     ]
    },
    {
     "name": "stdout",
     "output_type": "stream",
     "text": [
      "0\n",
      "no conformer for MolPort-003-090-429\n"
     ]
    },
    {
     "name": "stderr",
     "output_type": "stream",
     "text": [
      "[15:49:24] Molecule does not have explicit Hs. Consider calling AddHs()\n"
     ]
    },
    {
     "name": "stdout",
     "output_type": "stream",
     "text": [
      "0\n",
      "no conformer for MolPort-003-090-465\n",
      "1\n",
      "2\n"
     ]
    },
    {
     "name": "stderr",
     "output_type": "stream",
     "text": [
      "[15:49:24] Molecule does not have explicit Hs. Consider calling AddHs()\n",
      "[15:49:24] Molecule does not have explicit Hs. Consider calling AddHs()\n",
      "[15:49:24] Molecule does not have explicit Hs. Consider calling AddHs()\n"
     ]
    },
    {
     "name": "stdout",
     "output_type": "stream",
     "text": [
      "0\n",
      "no conformer for MolPort-003-090-430\n"
     ]
    },
    {
     "name": "stderr",
     "output_type": "stream",
     "text": [
      "[15:49:24] Molecule does not have explicit Hs. Consider calling AddHs()\n"
     ]
    },
    {
     "name": "stdout",
     "output_type": "stream",
     "text": [
      "0\n",
      "no conformer for MolPort-003-090-431\n"
     ]
    },
    {
     "name": "stderr",
     "output_type": "stream",
     "text": [
      "[15:49:24] Molecule does not have explicit Hs. Consider calling AddHs()\n"
     ]
    },
    {
     "name": "stdout",
     "output_type": "stream",
     "text": [
      "0\n",
      "no conformer for MolPort-003-090-432\n",
      "0\n",
      "no conformer for MolPort-003-090-433\n"
     ]
    },
    {
     "name": "stderr",
     "output_type": "stream",
     "text": [
      "[15:49:25] Molecule does not have explicit Hs. Consider calling AddHs()\n",
      "[15:49:25] Molecule does not have explicit Hs. Consider calling AddHs()\n"
     ]
    },
    {
     "name": "stdout",
     "output_type": "stream",
     "text": [
      "0\n",
      "no conformer for MolPort-003-090-434\n",
      "0\n",
      "no conformer for MolPort-003-090-435\n"
     ]
    },
    {
     "name": "stderr",
     "output_type": "stream",
     "text": [
      "[15:49:25] Molecule does not have explicit Hs. Consider calling AddHs()\n",
      "[15:49:25] Molecule does not have explicit Hs. Consider calling AddHs()\n"
     ]
    },
    {
     "name": "stdout",
     "output_type": "stream",
     "text": [
      "0\n",
      "no conformer for MolPort-003-090-436\n"
     ]
    },
    {
     "name": "stderr",
     "output_type": "stream",
     "text": [
      "[15:49:25] Molecule does not have explicit Hs. Consider calling AddHs()\n"
     ]
    },
    {
     "name": "stdout",
     "output_type": "stream",
     "text": [
      "0\n",
      "no conformer for MolPort-003-090-437\n",
      "0\n",
      "no conformer for MolPort-003-090-455\n"
     ]
    },
    {
     "name": "stderr",
     "output_type": "stream",
     "text": [
      "[15:49:26] Molecule does not have explicit Hs. Consider calling AddHs()\n",
      "[15:49:26] Molecule does not have explicit Hs. Consider calling AddHs()\n"
     ]
    },
    {
     "name": "stdout",
     "output_type": "stream",
     "text": [
      "0\n",
      "no conformer for MolPort-003-090-456\n",
      "0\n",
      "no conformer for MolPort-003-090-457\n"
     ]
    },
    {
     "name": "stderr",
     "output_type": "stream",
     "text": [
      "[15:49:26] Molecule does not have explicit Hs. Consider calling AddHs()\n",
      "[15:49:26] Molecule does not have explicit Hs. Consider calling AddHs()\n"
     ]
    },
    {
     "name": "stdout",
     "output_type": "stream",
     "text": [
      "0\n",
      "no conformer for MolPort-003-090-458\n"
     ]
    },
    {
     "name": "stderr",
     "output_type": "stream",
     "text": [
      "[15:49:26] Molecule does not have explicit Hs. Consider calling AddHs()\n"
     ]
    },
    {
     "name": "stdout",
     "output_type": "stream",
     "text": [
      "0\n",
      "no conformer for MolPort-003-090-459\n",
      "0\n",
      "no conformer for MolPort-003-090-460\n"
     ]
    },
    {
     "name": "stderr",
     "output_type": "stream",
     "text": [
      "[15:49:27] Molecule does not have explicit Hs. Consider calling AddHs()\n",
      "[15:49:27] Molecule does not have explicit Hs. Consider calling AddHs()\n"
     ]
    },
    {
     "name": "stdout",
     "output_type": "stream",
     "text": [
      "0\n",
      "no conformer for MolPort-003-090-461\n",
      "0\n",
      "no conformer for MolPort-003-090-462\n"
     ]
    },
    {
     "name": "stderr",
     "output_type": "stream",
     "text": [
      "[15:49:27] Molecule does not have explicit Hs. Consider calling AddHs()\n",
      "[15:49:27] Molecule does not have explicit Hs. Consider calling AddHs()\n"
     ]
    },
    {
     "name": "stdout",
     "output_type": "stream",
     "text": [
      "0\n",
      "no conformer for MolPort-003-090-463\n",
      "0\n",
      "no conformer for MolPort-003-090-647\n"
     ]
    },
    {
     "name": "stderr",
     "output_type": "stream",
     "text": [
      "[15:49:27] Molecule does not have explicit Hs. Consider calling AddHs()\n",
      "[15:49:28] Molecule does not have explicit Hs. Consider calling AddHs()\n"
     ]
    },
    {
     "name": "stdout",
     "output_type": "stream",
     "text": [
      "0\n",
      "no conformer for MolPort-003-090-466\n",
      "0\n",
      "no conformer for MolPort-003-090-467\n"
     ]
    },
    {
     "name": "stderr",
     "output_type": "stream",
     "text": [
      "[15:49:28] Molecule does not have explicit Hs. Consider calling AddHs()\n",
      "[15:49:28] Molecule does not have explicit Hs. Consider calling AddHs()\n"
     ]
    },
    {
     "name": "stdout",
     "output_type": "stream",
     "text": [
      "0\n",
      "no conformer for MolPort-003-090-585\n",
      "0\n",
      "no conformer for MolPort-003-090-586\n"
     ]
    },
    {
     "name": "stderr",
     "output_type": "stream",
     "text": [
      "[15:49:28] Molecule does not have explicit Hs. Consider calling AddHs()\n",
      "[15:49:28] Molecule does not have explicit Hs. Consider calling AddHs()\n"
     ]
    },
    {
     "name": "stdout",
     "output_type": "stream",
     "text": [
      "0\n",
      "no conformer for MolPort-003-090-587\n"
     ]
    },
    {
     "name": "stderr",
     "output_type": "stream",
     "text": [
      "[15:49:28] Molecule does not have explicit Hs. Consider calling AddHs()\n"
     ]
    },
    {
     "name": "stdout",
     "output_type": "stream",
     "text": [
      "0\n",
      "no conformer for MolPort-003-090-588\n",
      "0\n",
      "no conformer for MolPort-003-090-638\n"
     ]
    },
    {
     "name": "stderr",
     "output_type": "stream",
     "text": [
      "[15:49:29] Molecule does not have explicit Hs. Consider calling AddHs()\n",
      "[15:49:29] Molecule does not have explicit Hs. Consider calling AddHs()\n"
     ]
    },
    {
     "name": "stdout",
     "output_type": "stream",
     "text": [
      "0\n",
      "no conformer for MolPort-003-090-639\n",
      "0\n",
      "no conformer for MolPort-003-090-640\n"
     ]
    },
    {
     "name": "stderr",
     "output_type": "stream",
     "text": [
      "[15:49:29] Molecule does not have explicit Hs. Consider calling AddHs()\n",
      "[15:49:29] Molecule does not have explicit Hs. Consider calling AddHs()\n"
     ]
    },
    {
     "name": "stdout",
     "output_type": "stream",
     "text": [
      "0\n",
      "no conformer for MolPort-003-090-641\n"
     ]
    },
    {
     "name": "stderr",
     "output_type": "stream",
     "text": [
      "[15:49:29] Molecule does not have explicit Hs. Consider calling AddHs()\n"
     ]
    },
    {
     "name": "stdout",
     "output_type": "stream",
     "text": [
      "0\n",
      "no conformer for MolPort-003-090-642\n",
      "0\n",
      "no conformer for MolPort-003-090-643\n"
     ]
    },
    {
     "name": "stderr",
     "output_type": "stream",
     "text": [
      "[15:49:29] Molecule does not have explicit Hs. Consider calling AddHs()\n",
      "[15:49:29] Molecule does not have explicit Hs. Consider calling AddHs()\n"
     ]
    },
    {
     "name": "stdout",
     "output_type": "stream",
     "text": [
      "0\n",
      "no conformer for MolPort-003-090-644\n",
      "0\n",
      "no conformer for MolPort-003-090-645\n"
     ]
    },
    {
     "name": "stderr",
     "output_type": "stream",
     "text": [
      "[15:49:30] Molecule does not have explicit Hs. Consider calling AddHs()\n",
      "[15:49:30] Molecule does not have explicit Hs. Consider calling AddHs()\n"
     ]
    },
    {
     "name": "stdout",
     "output_type": "stream",
     "text": [
      "0\n",
      "no conformer for MolPort-003-090-646\n",
      "0\n",
      "no conformer for MolPort-003-090-657\n"
     ]
    },
    {
     "name": "stderr",
     "output_type": "stream",
     "text": [
      "[15:49:30] Molecule does not have explicit Hs. Consider calling AddHs()\n",
      "[15:49:30] Molecule does not have explicit Hs. Consider calling AddHs()\n"
     ]
    },
    {
     "name": "stdout",
     "output_type": "stream",
     "text": [
      "0\n",
      "no conformer for MolPort-003-090-648\n",
      "0\n",
      "no conformer for MolPort-003-090-649\n"
     ]
    },
    {
     "name": "stderr",
     "output_type": "stream",
     "text": [
      "[15:49:30] Molecule does not have explicit Hs. Consider calling AddHs()\n",
      "[15:49:30] Molecule does not have explicit Hs. Consider calling AddHs()\n"
     ]
    },
    {
     "name": "stdout",
     "output_type": "stream",
     "text": [
      "0\n",
      "no conformer for MolPort-003-090-650\n",
      "0\n",
      "no conformer for MolPort-003-090-651\n"
     ]
    },
    {
     "name": "stderr",
     "output_type": "stream",
     "text": [
      "[15:49:31] Molecule does not have explicit Hs. Consider calling AddHs()\n",
      "[15:49:31] Molecule does not have explicit Hs. Consider calling AddHs()\n"
     ]
    },
    {
     "name": "stdout",
     "output_type": "stream",
     "text": [
      "0\n",
      "no conformer for MolPort-003-090-652\n"
     ]
    },
    {
     "name": "stderr",
     "output_type": "stream",
     "text": [
      "[15:49:31] Molecule does not have explicit Hs. Consider calling AddHs()\n"
     ]
    },
    {
     "name": "stdout",
     "output_type": "stream",
     "text": [
      "0\n",
      "no conformer for MolPort-003-090-653\n"
     ]
    },
    {
     "name": "stderr",
     "output_type": "stream",
     "text": [
      "[15:49:31] Molecule does not have explicit Hs. Consider calling AddHs()\n"
     ]
    },
    {
     "name": "stdout",
     "output_type": "stream",
     "text": [
      "0\n",
      "no conformer for MolPort-003-090-654\n"
     ]
    },
    {
     "name": "stderr",
     "output_type": "stream",
     "text": [
      "[15:49:31] Molecule does not have explicit Hs. Consider calling AddHs()\n"
     ]
    },
    {
     "name": "stdout",
     "output_type": "stream",
     "text": [
      "0\n",
      "no conformer for MolPort-003-090-655\n"
     ]
    },
    {
     "name": "stderr",
     "output_type": "stream",
     "text": [
      "[15:49:32] Molecule does not have explicit Hs. Consider calling AddHs()\n"
     ]
    },
    {
     "name": "stdout",
     "output_type": "stream",
     "text": [
      "0\n",
      "no conformer for MolPort-003-090-656\n",
      "0\n",
      "no conformer for MolPort-003-090-658\n"
     ]
    },
    {
     "name": "stderr",
     "output_type": "stream",
     "text": [
      "[15:49:32] Molecule does not have explicit Hs. Consider calling AddHs()\n",
      "[15:49:32] Molecule does not have explicit Hs. Consider calling AddHs()\n"
     ]
    },
    {
     "name": "stdout",
     "output_type": "stream",
     "text": [
      "0\n",
      "no conformer for MolPort-003-090-662\n"
     ]
    },
    {
     "name": "stderr",
     "output_type": "stream",
     "text": [
      "[15:49:32] Molecule does not have explicit Hs. Consider calling AddHs()\n",
      "[15:49:32] Molecule does not have explicit Hs. Consider calling AddHs()\n"
     ]
    },
    {
     "name": "stdout",
     "output_type": "stream",
     "text": [
      "0\n",
      "no conformer for MolPort-003-090-659\n",
      "0\n",
      "no conformer for MolPort-003-090-660\n"
     ]
    },
    {
     "name": "stderr",
     "output_type": "stream",
     "text": [
      "[15:49:33] Molecule does not have explicit Hs. Consider calling AddHs()\n",
      "[15:49:33] Molecule does not have explicit Hs. Consider calling AddHs()\n"
     ]
    },
    {
     "name": "stdout",
     "output_type": "stream",
     "text": [
      "0\n",
      "no conformer for MolPort-003-090-661\n",
      "0\n",
      "no conformer for MolPort-003-090-663\n"
     ]
    },
    {
     "name": "stderr",
     "output_type": "stream",
     "text": [
      "[15:49:33] Molecule does not have explicit Hs. Consider calling AddHs()\n"
     ]
    },
    {
     "name": "stdout",
     "output_type": "stream",
     "text": [
      "0\n",
      "no conformer for MolPort-003-090-664\n",
      "0\n",
      "no conformer for MolPort-003-090-665\n"
     ]
    },
    {
     "name": "stderr",
     "output_type": "stream",
     "text": [
      "[15:49:33] Molecule does not have explicit Hs. Consider calling AddHs()\n",
      "[15:49:33] Molecule does not have explicit Hs. Consider calling AddHs()\n"
     ]
    },
    {
     "name": "stdout",
     "output_type": "stream",
     "text": [
      "0\n",
      "no conformer for MolPort-003-090-671\n"
     ]
    },
    {
     "name": "stderr",
     "output_type": "stream",
     "text": [
      "[15:49:34] Molecule does not have explicit Hs. Consider calling AddHs()\n"
     ]
    },
    {
     "name": "stdout",
     "output_type": "stream",
     "text": [
      "0\n",
      "no conformer for MolPort-003-090-666\n",
      "0\n",
      "no conformer for MolPort-003-090-667\n"
     ]
    },
    {
     "name": "stderr",
     "output_type": "stream",
     "text": [
      "[15:49:34] Molecule does not have explicit Hs. Consider calling AddHs()\n",
      "[15:49:34] Molecule does not have explicit Hs. Consider calling AddHs()\n"
     ]
    },
    {
     "name": "stdout",
     "output_type": "stream",
     "text": [
      "0\n",
      "no conformer for MolPort-003-090-668\n"
     ]
    },
    {
     "name": "stderr",
     "output_type": "stream",
     "text": [
      "[15:49:34] Molecule does not have explicit Hs. Consider calling AddHs()\n"
     ]
    },
    {
     "name": "stdout",
     "output_type": "stream",
     "text": [
      "0\n",
      "no conformer for MolPort-003-090-669\n",
      "0\n",
      "no conformer for MolPort-003-090-670\n"
     ]
    },
    {
     "name": "stderr",
     "output_type": "stream",
     "text": [
      "[15:49:34] Molecule does not have explicit Hs. Consider calling AddHs()\n",
      "[15:49:35] Molecule does not have explicit Hs. Consider calling AddHs()\n"
     ]
    },
    {
     "name": "stdout",
     "output_type": "stream",
     "text": [
      "0\n",
      "no conformer for MolPort-003-090-672\n",
      "0\n",
      "no conformer for MolPort-003-090-673\n"
     ]
    },
    {
     "name": "stderr",
     "output_type": "stream",
     "text": [
      "[15:49:35] Molecule does not have explicit Hs. Consider calling AddHs()\n",
      "[15:49:35] Molecule does not have explicit Hs. Consider calling AddHs()\n"
     ]
    },
    {
     "name": "stdout",
     "output_type": "stream",
     "text": [
      "0\n",
      "no conformer for MolPort-003-090-677\n"
     ]
    },
    {
     "name": "stderr",
     "output_type": "stream",
     "text": [
      "[15:49:35] Molecule does not have explicit Hs. Consider calling AddHs()\n"
     ]
    },
    {
     "name": "stdout",
     "output_type": "stream",
     "text": [
      "0\n",
      "no conformer for MolPort-003-090-674\n"
     ]
    },
    {
     "name": "stderr",
     "output_type": "stream",
     "text": [
      "[15:49:35] Molecule does not have explicit Hs. Consider calling AddHs()\n"
     ]
    },
    {
     "name": "stdout",
     "output_type": "stream",
     "text": [
      "0\n",
      "no conformer for MolPort-003-090-675\n"
     ]
    },
    {
     "name": "stderr",
     "output_type": "stream",
     "text": [
      "[15:49:36] Molecule does not have explicit Hs. Consider calling AddHs()\n"
     ]
    },
    {
     "name": "stdout",
     "output_type": "stream",
     "text": [
      "0\n",
      "no conformer for MolPort-003-090-676\n",
      "0\n",
      "no conformer for MolPort-003-090-691\n"
     ]
    },
    {
     "name": "stderr",
     "output_type": "stream",
     "text": [
      "[15:49:36] Molecule does not have explicit Hs. Consider calling AddHs()\n",
      "[15:49:36] Molecule does not have explicit Hs. Consider calling AddHs()\n"
     ]
    },
    {
     "name": "stdout",
     "output_type": "stream",
     "text": [
      "0\n",
      "no conformer for MolPort-003-090-678\n",
      "0\n",
      "no conformer for MolPort-003-090-679\n"
     ]
    },
    {
     "name": "stderr",
     "output_type": "stream",
     "text": [
      "[15:49:36] Molecule does not have explicit Hs. Consider calling AddHs()\n",
      "[15:49:36] Molecule does not have explicit Hs. Consider calling AddHs()\n"
     ]
    },
    {
     "name": "stdout",
     "output_type": "stream",
     "text": [
      "0\n",
      "no conformer for MolPort-003-090-680\n"
     ]
    },
    {
     "name": "stderr",
     "output_type": "stream",
     "text": [
      "[15:49:37] Molecule does not have explicit Hs. Consider calling AddHs()\n"
     ]
    },
    {
     "name": "stdout",
     "output_type": "stream",
     "text": [
      "0\n",
      "no conformer for MolPort-003-090-681\n",
      "0\n",
      "no conformer for MolPort-003-090-682\n"
     ]
    },
    {
     "name": "stderr",
     "output_type": "stream",
     "text": [
      "[15:49:37] Molecule does not have explicit Hs. Consider calling AddHs()\n",
      "[15:49:37] Molecule does not have explicit Hs. Consider calling AddHs()\n"
     ]
    },
    {
     "name": "stdout",
     "output_type": "stream",
     "text": [
      "0\n",
      "no conformer for MolPort-003-090-683\n",
      "0\n",
      "no conformer for MolPort-003-090-684\n"
     ]
    },
    {
     "name": "stderr",
     "output_type": "stream",
     "text": [
      "[15:49:37] Molecule does not have explicit Hs. Consider calling AddHs()\n",
      "[15:49:38] Molecule does not have explicit Hs. Consider calling AddHs()\n"
     ]
    },
    {
     "name": "stdout",
     "output_type": "stream",
     "text": [
      "0\n",
      "no conformer for MolPort-003-090-685\n",
      "0\n",
      "no conformer for MolPort-003-090-686\n"
     ]
    },
    {
     "name": "stderr",
     "output_type": "stream",
     "text": [
      "[15:49:38] Molecule does not have explicit Hs. Consider calling AddHs()\n",
      "[15:49:38] Molecule does not have explicit Hs. Consider calling AddHs()\n"
     ]
    },
    {
     "name": "stdout",
     "output_type": "stream",
     "text": [
      "0\n",
      "no conformer for MolPort-003-090-687\n",
      "0\n",
      "no conformer for MolPort-003-090-688\n"
     ]
    },
    {
     "name": "stderr",
     "output_type": "stream",
     "text": [
      "[15:49:38] Molecule does not have explicit Hs. Consider calling AddHs()\n",
      "[15:49:38] Molecule does not have explicit Hs. Consider calling AddHs()\n"
     ]
    },
    {
     "name": "stdout",
     "output_type": "stream",
     "text": [
      "0\n",
      "no conformer for MolPort-003-090-689\n",
      "0\n",
      "no conformer for MolPort-003-090-690\n"
     ]
    },
    {
     "name": "stderr",
     "output_type": "stream",
     "text": [
      "[15:49:38] Molecule does not have explicit Hs. Consider calling AddHs()\n",
      "[15:49:39] Molecule does not have explicit Hs. Consider calling AddHs()\n"
     ]
    },
    {
     "name": "stdout",
     "output_type": "stream",
     "text": [
      "0\n",
      "no conformer for MolPort-003-123-227\n",
      "0\n",
      "no conformer for MolPort-003-090-692\n"
     ]
    },
    {
     "name": "stderr",
     "output_type": "stream",
     "text": [
      "[15:49:39] Molecule does not have explicit Hs. Consider calling AddHs()\n",
      "[15:49:39] Molecule does not have explicit Hs. Consider calling AddHs()\n"
     ]
    },
    {
     "name": "stdout",
     "output_type": "stream",
     "text": [
      "0\n",
      "no conformer for MolPort-003-090-694\n",
      "0\n",
      "no conformer for MolPort-003-090-957\n"
     ]
    },
    {
     "name": "stderr",
     "output_type": "stream",
     "text": [
      "[15:49:39] Molecule does not have explicit Hs. Consider calling AddHs()\n",
      "[15:49:39] Molecule does not have explicit Hs. Consider calling AddHs()\n"
     ]
    },
    {
     "name": "stdout",
     "output_type": "stream",
     "text": [
      "0\n",
      "no conformer for MolPort-003-090-958\n",
      "0\n",
      "no conformer for MolPort-003-090-959\n"
     ]
    },
    {
     "name": "stderr",
     "output_type": "stream",
     "text": [
      "[15:49:39] Molecule does not have explicit Hs. Consider calling AddHs()\n",
      "[15:49:40] Molecule does not have explicit Hs. Consider calling AddHs()\n"
     ]
    },
    {
     "name": "stdout",
     "output_type": "stream",
     "text": [
      "0\n",
      "no conformer for MolPort-003-090-960\n",
      "0\n",
      "no conformer for MolPort-003-090-961\n"
     ]
    },
    {
     "name": "stderr",
     "output_type": "stream",
     "text": [
      "[15:49:40] Molecule does not have explicit Hs. Consider calling AddHs()\n",
      "[15:49:40] Molecule does not have explicit Hs. Consider calling AddHs()\n",
      "[15:49:40] Molecule does not have explicit Hs. Consider calling AddHs()\n"
     ]
    },
    {
     "name": "stdout",
     "output_type": "stream",
     "text": [
      "0\n",
      "no conformer for MolPort-003-090-962\n",
      "0\n",
      "no conformer for MolPort-003-090-963\n"
     ]
    },
    {
     "name": "stderr",
     "output_type": "stream",
     "text": [
      "[15:49:40] Molecule does not have explicit Hs. Consider calling AddHs()\n",
      "[15:49:40] Molecule does not have explicit Hs. Consider calling AddHs()\n"
     ]
    },
    {
     "name": "stdout",
     "output_type": "stream",
     "text": [
      "0\n",
      "no conformer for MolPort-003-090-964\n",
      "0\n",
      "no conformer for MolPort-003-090-965\n"
     ]
    },
    {
     "name": "stderr",
     "output_type": "stream",
     "text": [
      "[15:49:41] Molecule does not have explicit Hs. Consider calling AddHs()\n",
      "[15:49:41] Molecule does not have explicit Hs. Consider calling AddHs()\n"
     ]
    },
    {
     "name": "stdout",
     "output_type": "stream",
     "text": [
      "0\n",
      "no conformer for MolPort-003-090-966\n",
      "0\n",
      "no conformer for MolPort-003-090-967\n"
     ]
    },
    {
     "name": "stderr",
     "output_type": "stream",
     "text": [
      "[15:49:41] Molecule does not have explicit Hs. Consider calling AddHs()\n"
     ]
    },
    {
     "name": "stdout",
     "output_type": "stream",
     "text": [
      "0\n",
      "no conformer for MolPort-003-090-968\n"
     ]
    },
    {
     "name": "stderr",
     "output_type": "stream",
     "text": [
      "[15:49:41] Molecule does not have explicit Hs. Consider calling AddHs()\n"
     ]
    },
    {
     "name": "stdout",
     "output_type": "stream",
     "text": [
      "0\n",
      "no conformer for MolPort-003-090-970\n",
      "0\n",
      "no conformer for MolPort-003-090-971\n"
     ]
    },
    {
     "name": "stderr",
     "output_type": "stream",
     "text": [
      "[15:49:41] Molecule does not have explicit Hs. Consider calling AddHs()\n",
      "[15:49:42] Molecule does not have explicit Hs. Consider calling AddHs()\n"
     ]
    },
    {
     "name": "stdout",
     "output_type": "stream",
     "text": [
      "0\n",
      "no conformer for MolPort-003-090-972\n",
      "0\n",
      "no conformer for MolPort-003-090-973\n"
     ]
    },
    {
     "name": "stderr",
     "output_type": "stream",
     "text": [
      "[15:49:42] Molecule does not have explicit Hs. Consider calling AddHs()\n",
      "[15:49:42] Molecule does not have explicit Hs. Consider calling AddHs()\n"
     ]
    },
    {
     "name": "stdout",
     "output_type": "stream",
     "text": [
      "0\n",
      "no conformer for MolPort-003-090-974\n",
      "0\n",
      "no conformer for MolPort-003-110-293\n"
     ]
    },
    {
     "name": "stderr",
     "output_type": "stream",
     "text": [
      "[15:49:42] Molecule does not have explicit Hs. Consider calling AddHs()\n",
      "[15:49:42] Molecule does not have explicit Hs. Consider calling AddHs()\n"
     ]
    },
    {
     "name": "stdout",
     "output_type": "stream",
     "text": [
      "0\n",
      "no conformer for MolPort-003-110-339\n",
      "0\n",
      "no conformer for MolPort-003-122-972\n",
      "0\n",
      "no conformer for MolPort-003-123-008\n"
     ]
    },
    {
     "name": "stderr",
     "output_type": "stream",
     "text": [
      "[15:49:43] Molecule does not have explicit Hs. Consider calling AddHs()\n",
      "[15:49:43] Molecule does not have explicit Hs. Consider calling AddHs()\n",
      "[15:49:43] Molecule does not have explicit Hs. Consider calling AddHs()\n"
     ]
    },
    {
     "name": "stdout",
     "output_type": "stream",
     "text": [
      "0\n",
      "no conformer for MolPort-003-123-015\n",
      "0\n",
      "no conformer for MolPort-003-123-018\n"
     ]
    },
    {
     "name": "stderr",
     "output_type": "stream",
     "text": [
      "[15:49:43] Molecule does not have explicit Hs. Consider calling AddHs()\n",
      "[15:49:43] Molecule does not have explicit Hs. Consider calling AddHs()\n"
     ]
    },
    {
     "name": "stdout",
     "output_type": "stream",
     "text": [
      "0\n",
      "no conformer for MolPort-003-123-031\n",
      "0\n",
      "no conformer for MolPort-003-123-123\n"
     ]
    },
    {
     "name": "stderr",
     "output_type": "stream",
     "text": [
      "[15:49:43] Molecule does not have explicit Hs. Consider calling AddHs()\n",
      "[15:49:43] Molecule does not have explicit Hs. Consider calling AddHs()\n"
     ]
    },
    {
     "name": "stdout",
     "output_type": "stream",
     "text": [
      "0\n",
      "no conformer for MolPort-003-123-034\n",
      "0\n",
      "no conformer for MolPort-003-123-036\n"
     ]
    },
    {
     "name": "stderr",
     "output_type": "stream",
     "text": [
      "[15:49:44] Molecule does not have explicit Hs. Consider calling AddHs()\n",
      "[15:49:44] Molecule does not have explicit Hs. Consider calling AddHs()\n"
     ]
    },
    {
     "name": "stdout",
     "output_type": "stream",
     "text": [
      "0\n",
      "no conformer for MolPort-003-123-040\n",
      "0\n",
      "no conformer for MolPort-003-123-041\n"
     ]
    },
    {
     "name": "stderr",
     "output_type": "stream",
     "text": [
      "[15:49:44] Molecule does not have explicit Hs. Consider calling AddHs()\n",
      "[15:49:44] Molecule does not have explicit Hs. Consider calling AddHs()\n"
     ]
    },
    {
     "name": "stdout",
     "output_type": "stream",
     "text": [
      "0\n",
      "no conformer for MolPort-003-123-053\n",
      "0\n",
      "no conformer for MolPort-003-123-054\n"
     ]
    },
    {
     "name": "stderr",
     "output_type": "stream",
     "text": [
      "[15:49:44] Molecule does not have explicit Hs. Consider calling AddHs()\n",
      "[15:49:44] Molecule does not have explicit Hs. Consider calling AddHs()\n"
     ]
    },
    {
     "name": "stdout",
     "output_type": "stream",
     "text": [
      "0\n",
      "no conformer for MolPort-003-123-055\n",
      "0\n",
      "no conformer for MolPort-003-123-056\n"
     ]
    },
    {
     "name": "stderr",
     "output_type": "stream",
     "text": [
      "[15:49:44] Molecule does not have explicit Hs. Consider calling AddHs()\n",
      "[15:49:45] Molecule does not have explicit Hs. Consider calling AddHs()\n"
     ]
    },
    {
     "name": "stdout",
     "output_type": "stream",
     "text": [
      "0\n",
      "no conformer for MolPort-003-123-064\n",
      "0\n",
      "no conformer for MolPort-003-123-093\n"
     ]
    },
    {
     "name": "stderr",
     "output_type": "stream",
     "text": [
      "[15:49:45] Molecule does not have explicit Hs. Consider calling AddHs()\n",
      "[15:49:45] Molecule does not have explicit Hs. Consider calling AddHs()\n"
     ]
    },
    {
     "name": "stdout",
     "output_type": "stream",
     "text": [
      "0\n",
      "no conformer for MolPort-003-123-100\n",
      "0\n",
      "no conformer for MolPort-003-123-103\n"
     ]
    },
    {
     "name": "stderr",
     "output_type": "stream",
     "text": [
      "[15:49:45] Molecule does not have explicit Hs. Consider calling AddHs()\n",
      "[15:49:45] Molecule does not have explicit Hs. Consider calling AddHs()\n"
     ]
    },
    {
     "name": "stdout",
     "output_type": "stream",
     "text": [
      "0\n",
      "no conformer for MolPort-003-123-120\n",
      "0\n",
      "no conformer for MolPort-003-123-129\n"
     ]
    },
    {
     "name": "stderr",
     "output_type": "stream",
     "text": [
      "[15:49:45] Molecule does not have explicit Hs. Consider calling AddHs()\n",
      "[15:49:45] Molecule does not have explicit Hs. Consider calling AddHs()\n"
     ]
    },
    {
     "name": "stdout",
     "output_type": "stream",
     "text": [
      "0\n",
      "no conformer for MolPort-003-123-141\n",
      "0\n",
      "no conformer for MolPort-003-123-142\n"
     ]
    },
    {
     "name": "stderr",
     "output_type": "stream",
     "text": [
      "[15:49:46] Molecule does not have explicit Hs. Consider calling AddHs()\n",
      "[15:49:46] Molecule does not have explicit Hs. Consider calling AddHs()\n"
     ]
    },
    {
     "name": "stdout",
     "output_type": "stream",
     "text": [
      "0\n",
      "no conformer for MolPort-003-123-143\n",
      "0\n",
      "no conformer for MolPort-003-123-144\n",
      "0\n",
      "no conformer for MolPort-003-123-177\n"
     ]
    },
    {
     "name": "stderr",
     "output_type": "stream",
     "text": [
      "[15:49:46] Molecule does not have explicit Hs. Consider calling AddHs()\n",
      "[15:49:46] Molecule does not have explicit Hs. Consider calling AddHs()\n",
      "[15:49:46] Molecule does not have explicit Hs. Consider calling AddHs()\n"
     ]
    },
    {
     "name": "stdout",
     "output_type": "stream",
     "text": [
      "0\n",
      "no conformer for MolPort-003-123-236\n",
      "0\n",
      "no conformer for MolPort-003-123-238\n"
     ]
    },
    {
     "name": "stderr",
     "output_type": "stream",
     "text": [
      "[15:49:46] Molecule does not have explicit Hs. Consider calling AddHs()\n",
      "[15:49:46] Molecule does not have explicit Hs. Consider calling AddHs()\n"
     ]
    },
    {
     "name": "stdout",
     "output_type": "stream",
     "text": [
      "0\n",
      "no conformer for MolPort-003-123-259\n",
      "0\n",
      "no conformer for MolPort-003-123-790\n"
     ]
    },
    {
     "name": "stderr",
     "output_type": "stream",
     "text": [
      "[15:49:46] Molecule does not have explicit Hs. Consider calling AddHs()\n",
      "[15:49:47] Molecule does not have explicit Hs. Consider calling AddHs()\n"
     ]
    },
    {
     "name": "stdout",
     "output_type": "stream",
     "text": [
      "0\n",
      "no conformer for MolPort-003-123-262\n",
      "0\n",
      "no conformer for MolPort-003-123-269\n"
     ]
    },
    {
     "name": "stderr",
     "output_type": "stream",
     "text": [
      "[15:49:47] Molecule does not have explicit Hs. Consider calling AddHs()\n",
      "[15:49:47] Molecule does not have explicit Hs. Consider calling AddHs()\n"
     ]
    },
    {
     "name": "stdout",
     "output_type": "stream",
     "text": [
      "0\n",
      "no conformer for MolPort-003-123-270\n",
      "0\n",
      "no conformer for MolPort-003-123-281\n",
      "0\n",
      "no conformer for MolPort-003-123-282\n"
     ]
    },
    {
     "name": "stderr",
     "output_type": "stream",
     "text": [
      "[15:49:47] Molecule does not have explicit Hs. Consider calling AddHs()\n",
      "[15:49:47] Molecule does not have explicit Hs. Consider calling AddHs()\n",
      "[15:49:47] Molecule does not have explicit Hs. Consider calling AddHs()\n"
     ]
    },
    {
     "name": "stdout",
     "output_type": "stream",
     "text": [
      "0\n",
      "no conformer for MolPort-003-123-283\n",
      "0\n",
      "no conformer for MolPort-003-123-284\n"
     ]
    },
    {
     "name": "stderr",
     "output_type": "stream",
     "text": [
      "[15:49:47] Molecule does not have explicit Hs. Consider calling AddHs()\n",
      "[15:49:48] Molecule does not have explicit Hs. Consider calling AddHs()\n"
     ]
    },
    {
     "name": "stdout",
     "output_type": "stream",
     "text": [
      "0\n",
      "no conformer for MolPort-003-123-791\n",
      "0\n",
      "no conformer for MolPort-003-123-792\n"
     ]
    },
    {
     "name": "stderr",
     "output_type": "stream",
     "text": [
      "[15:49:48] Molecule does not have explicit Hs. Consider calling AddHs()\n",
      "[15:49:48] Molecule does not have explicit Hs. Consider calling AddHs()\n"
     ]
    },
    {
     "name": "stdout",
     "output_type": "stream",
     "text": [
      "0\n",
      "no conformer for MolPort-003-128-755\n",
      "0\n",
      "no conformer for MolPort-003-123-781\n"
     ]
    },
    {
     "name": "stderr",
     "output_type": "stream",
     "text": [
      "[15:49:48] Molecule does not have explicit Hs. Consider calling AddHs()\n",
      "[15:49:48] Molecule does not have explicit Hs. Consider calling AddHs()\n"
     ]
    },
    {
     "name": "stdout",
     "output_type": "stream",
     "text": [
      "0\n",
      "no conformer for MolPort-003-123-782\n",
      "0\n",
      "no conformer for MolPort-003-123-868\n"
     ]
    },
    {
     "name": "stderr",
     "output_type": "stream",
     "text": [
      "[15:49:48] Molecule does not have explicit Hs. Consider calling AddHs()\n",
      "[15:49:49] Molecule does not have explicit Hs. Consider calling AddHs()\n"
     ]
    },
    {
     "name": "stdout",
     "output_type": "stream",
     "text": [
      "0\n",
      "no conformer for MolPort-003-123-869\n",
      "0\n",
      "no conformer for MolPort-003-123-783\n"
     ]
    },
    {
     "name": "stderr",
     "output_type": "stream",
     "text": [
      "[15:49:49] Molecule does not have explicit Hs. Consider calling AddHs()\n",
      "[15:49:49] Molecule does not have explicit Hs. Consider calling AddHs()\n"
     ]
    },
    {
     "name": "stdout",
     "output_type": "stream",
     "text": [
      "0\n",
      "no conformer for MolPort-003-123-803\n",
      "0\n",
      "no conformer for MolPort-003-123-804\n"
     ]
    },
    {
     "name": "stderr",
     "output_type": "stream",
     "text": [
      "[15:49:49] Molecule does not have explicit Hs. Consider calling AddHs()\n",
      "[15:49:49] Molecule does not have explicit Hs. Consider calling AddHs()\n"
     ]
    },
    {
     "name": "stdout",
     "output_type": "stream",
     "text": [
      "0\n",
      "no conformer for MolPort-003-123-817\n",
      "0\n",
      "no conformer for MolPort-003-123-818\n"
     ]
    },
    {
     "name": "stderr",
     "output_type": "stream",
     "text": [
      "[15:49:49] Molecule does not have explicit Hs. Consider calling AddHs()\n",
      "[15:49:49] Molecule does not have explicit Hs. Consider calling AddHs()\n"
     ]
    },
    {
     "name": "stdout",
     "output_type": "stream",
     "text": [
      "0\n",
      "no conformer for MolPort-003-123-819\n",
      "0\n",
      "no conformer for MolPort-003-123-827\n"
     ]
    },
    {
     "name": "stderr",
     "output_type": "stream",
     "text": [
      "[15:49:50] Molecule does not have explicit Hs. Consider calling AddHs()\n",
      "[15:49:50] Molecule does not have explicit Hs. Consider calling AddHs()\n"
     ]
    },
    {
     "name": "stdout",
     "output_type": "stream",
     "text": [
      "0\n",
      "no conformer for MolPort-003-123-828\n",
      "0\n",
      "no conformer for MolPort-003-123-829\n"
     ]
    },
    {
     "name": "stderr",
     "output_type": "stream",
     "text": [
      "[15:49:50] Molecule does not have explicit Hs. Consider calling AddHs()\n",
      "[15:49:50] Molecule does not have explicit Hs. Consider calling AddHs()\n"
     ]
    },
    {
     "name": "stdout",
     "output_type": "stream",
     "text": [
      "0\n",
      "no conformer for MolPort-003-123-839\n",
      "0\n",
      "no conformer for MolPort-003-123-840\n"
     ]
    },
    {
     "name": "stderr",
     "output_type": "stream",
     "text": [
      "[15:49:50] Molecule does not have explicit Hs. Consider calling AddHs()\n",
      "[15:49:50] Molecule does not have explicit Hs. Consider calling AddHs()\n"
     ]
    },
    {
     "name": "stdout",
     "output_type": "stream",
     "text": [
      "0\n",
      "no conformer for MolPort-003-123-858\n",
      "0\n",
      "no conformer for MolPort-003-123-859\n"
     ]
    },
    {
     "name": "stderr",
     "output_type": "stream",
     "text": [
      "[15:49:51] Molecule does not have explicit Hs. Consider calling AddHs()\n",
      "[15:49:51] Molecule does not have explicit Hs. Consider calling AddHs()\n"
     ]
    },
    {
     "name": "stdout",
     "output_type": "stream",
     "text": [
      "0\n",
      "no conformer for MolPort-003-123-860\n",
      "0\n",
      "no conformer for MolPort-003-123-882\n"
     ]
    },
    {
     "name": "stderr",
     "output_type": "stream",
     "text": [
      "[15:49:51] Molecule does not have explicit Hs. Consider calling AddHs()\n",
      "[15:49:51] Molecule does not have explicit Hs. Consider calling AddHs()\n"
     ]
    },
    {
     "name": "stdout",
     "output_type": "stream",
     "text": [
      "0\n",
      "no conformer for MolPort-003-123-883\n",
      "0\n",
      "no conformer for MolPort-003-123-969\n",
      "0\n",
      "no conformer for MolPort-003-123-951\n",
      "0\n",
      "no conformer for MolPort-003-123-952\n"
     ]
    },
    {
     "name": "stderr",
     "output_type": "stream",
     "text": [
      "[15:49:51] Molecule does not have explicit Hs. Consider calling AddHs()\n",
      "[15:49:51] Molecule does not have explicit Hs. Consider calling AddHs()\n",
      "[15:49:51] Molecule does not have explicit Hs. Consider calling AddHs()\n",
      "[15:49:51] Molecule does not have explicit Hs. Consider calling AddHs()\n"
     ]
    },
    {
     "name": "stdout",
     "output_type": "stream",
     "text": [
      "0\n",
      "no conformer for MolPort-003-123-953\n",
      "0\n",
      "no conformer for MolPort-003-123-968\n"
     ]
    },
    {
     "name": "stderr",
     "output_type": "stream",
     "text": [
      "[15:49:51] Molecule does not have explicit Hs. Consider calling AddHs()\n",
      "[15:49:52] Molecule does not have explicit Hs. Consider calling AddHs()\n"
     ]
    },
    {
     "name": "stdout",
     "output_type": "stream",
     "text": [
      "0\n",
      "no conformer for MolPort-003-128-731\n",
      "0\n",
      "no conformer for MolPort-003-128-732\n"
     ]
    },
    {
     "name": "stderr",
     "output_type": "stream",
     "text": [
      "[15:49:52] Molecule does not have explicit Hs. Consider calling AddHs()\n",
      "[15:49:52] Molecule does not have explicit Hs. Consider calling AddHs()\n"
     ]
    },
    {
     "name": "stdout",
     "output_type": "stream",
     "text": [
      "0\n",
      "no conformer for MolPort-003-128-733\n",
      "0\n",
      "no conformer for MolPort-003-128-734\n"
     ]
    },
    {
     "name": "stderr",
     "output_type": "stream",
     "text": [
      "[15:49:52] Molecule does not have explicit Hs. Consider calling AddHs()\n",
      "[15:49:52] Molecule does not have explicit Hs. Consider calling AddHs()\n"
     ]
    },
    {
     "name": "stdout",
     "output_type": "stream",
     "text": [
      "0\n",
      "no conformer for MolPort-003-128-735\n",
      "0\n",
      "no conformer for MolPort-003-128-736\n"
     ]
    },
    {
     "name": "stderr",
     "output_type": "stream",
     "text": [
      "[15:49:52] Molecule does not have explicit Hs. Consider calling AddHs()\n",
      "[15:49:53] Molecule does not have explicit Hs. Consider calling AddHs()\n"
     ]
    },
    {
     "name": "stdout",
     "output_type": "stream",
     "text": [
      "0\n",
      "no conformer for MolPort-003-128-737\n"
     ]
    },
    {
     "name": "stderr",
     "output_type": "stream",
     "text": [
      "[15:49:53] Molecule does not have explicit Hs. Consider calling AddHs()\n"
     ]
    },
    {
     "name": "stdout",
     "output_type": "stream",
     "text": [
      "0\n",
      "no conformer for MolPort-003-128-738\n"
     ]
    },
    {
     "name": "stderr",
     "output_type": "stream",
     "text": [
      "[15:49:53] Molecule does not have explicit Hs. Consider calling AddHs()\n"
     ]
    },
    {
     "name": "stdout",
     "output_type": "stream",
     "text": [
      "0\n",
      "no conformer for MolPort-003-128-739\n",
      "0\n",
      "no conformer for MolPort-003-128-740\n"
     ]
    },
    {
     "name": "stderr",
     "output_type": "stream",
     "text": [
      "[15:49:53] Molecule does not have explicit Hs. Consider calling AddHs()\n",
      "[15:49:53] Molecule does not have explicit Hs. Consider calling AddHs()\n"
     ]
    },
    {
     "name": "stdout",
     "output_type": "stream",
     "text": [
      "0\n",
      "no conformer for MolPort-003-128-741\n",
      "0\n",
      "no conformer for MolPort-003-128-742\n"
     ]
    },
    {
     "name": "stderr",
     "output_type": "stream",
     "text": [
      "[15:49:54] Molecule does not have explicit Hs. Consider calling AddHs()\n",
      "[15:49:54] Molecule does not have explicit Hs. Consider calling AddHs()\n"
     ]
    },
    {
     "name": "stdout",
     "output_type": "stream",
     "text": [
      "0\n",
      "no conformer for MolPort-003-128-743\n",
      "0\n",
      "no conformer for MolPort-003-128-744\n"
     ]
    },
    {
     "name": "stderr",
     "output_type": "stream",
     "text": [
      "[15:49:54] Molecule does not have explicit Hs. Consider calling AddHs()\n",
      "[15:49:54] Molecule does not have explicit Hs. Consider calling AddHs()\n"
     ]
    },
    {
     "name": "stdout",
     "output_type": "stream",
     "text": [
      "0\n",
      "no conformer for MolPort-003-128-745\n",
      "0\n",
      "no conformer for MolPort-003-128-746\n"
     ]
    },
    {
     "name": "stderr",
     "output_type": "stream",
     "text": [
      "[15:49:54] Molecule does not have explicit Hs. Consider calling AddHs()\n",
      "[15:49:54] Molecule does not have explicit Hs. Consider calling AddHs()\n"
     ]
    },
    {
     "name": "stdout",
     "output_type": "stream",
     "text": [
      "0\n",
      "no conformer for MolPort-003-128-747\n",
      "0\n",
      "no conformer for MolPort-003-128-748\n"
     ]
    },
    {
     "name": "stderr",
     "output_type": "stream",
     "text": [
      "[15:49:55] Molecule does not have explicit Hs. Consider calling AddHs()\n",
      "[15:49:55] Molecule does not have explicit Hs. Consider calling AddHs()\n"
     ]
    },
    {
     "name": "stdout",
     "output_type": "stream",
     "text": [
      "0\n",
      "no conformer for MolPort-003-128-749\n",
      "0\n",
      "no conformer for MolPort-003-128-750\n"
     ]
    },
    {
     "name": "stderr",
     "output_type": "stream",
     "text": [
      "[15:49:55] Molecule does not have explicit Hs. Consider calling AddHs()\n",
      "[15:49:55] Molecule does not have explicit Hs. Consider calling AddHs()\n"
     ]
    },
    {
     "name": "stdout",
     "output_type": "stream",
     "text": [
      "0\n",
      "no conformer for MolPort-003-128-751\n",
      "0\n",
      "no conformer for MolPort-003-128-752\n"
     ]
    },
    {
     "name": "stderr",
     "output_type": "stream",
     "text": [
      "[15:49:55] Molecule does not have explicit Hs. Consider calling AddHs()\n",
      "[15:49:55] Molecule does not have explicit Hs. Consider calling AddHs()\n"
     ]
    },
    {
     "name": "stdout",
     "output_type": "stream",
     "text": [
      "0\n",
      "no conformer for MolPort-003-128-753\n",
      "0\n",
      "no conformer for MolPort-003-128-754\n"
     ]
    },
    {
     "name": "stderr",
     "output_type": "stream",
     "text": [
      "[15:49:55] Molecule does not have explicit Hs. Consider calling AddHs()\n",
      "[15:49:56] Molecule does not have explicit Hs. Consider calling AddHs()\n"
     ]
    },
    {
     "name": "stdout",
     "output_type": "stream",
     "text": [
      "0\n",
      "no conformer for MolPort-003-128-756\n",
      "0\n",
      "no conformer for MolPort-003-128-757\n"
     ]
    },
    {
     "name": "stderr",
     "output_type": "stream",
     "text": [
      "[15:49:56] Molecule does not have explicit Hs. Consider calling AddHs()\n",
      "[15:49:56] Molecule does not have explicit Hs. Consider calling AddHs()\n"
     ]
    },
    {
     "name": "stdout",
     "output_type": "stream",
     "text": [
      "0\n",
      "no conformer for MolPort-003-128-758\n",
      "0\n",
      "no conformer for MolPort-003-129-076\n"
     ]
    },
    {
     "name": "stderr",
     "output_type": "stream",
     "text": [
      "[15:49:56] Molecule does not have explicit Hs. Consider calling AddHs()\n",
      "[15:49:56] Molecule does not have explicit Hs. Consider calling AddHs()\n"
     ]
    },
    {
     "name": "stdout",
     "output_type": "stream",
     "text": [
      "0\n",
      "no conformer for MolPort-003-128-759\n",
      "0\n",
      "no conformer for MolPort-003-128-760\n"
     ]
    },
    {
     "name": "stderr",
     "output_type": "stream",
     "text": [
      "[15:49:57] Molecule does not have explicit Hs. Consider calling AddHs()\n",
      "[15:49:57] Molecule does not have explicit Hs. Consider calling AddHs()\n"
     ]
    },
    {
     "name": "stdout",
     "output_type": "stream",
     "text": [
      "0\n",
      "no conformer for MolPort-003-128-761\n",
      "0\n",
      "no conformer for MolPort-003-129-073\n"
     ]
    },
    {
     "name": "stderr",
     "output_type": "stream",
     "text": [
      "[15:49:57] Molecule does not have explicit Hs. Consider calling AddHs()\n",
      "[15:49:57] Molecule does not have explicit Hs. Consider calling AddHs()\n"
     ]
    },
    {
     "name": "stdout",
     "output_type": "stream",
     "text": [
      "0\n",
      "no conformer for MolPort-003-129-075\n",
      "0\n",
      "no conformer for MolPort-003-129-085\n"
     ]
    },
    {
     "name": "stderr",
     "output_type": "stream",
     "text": [
      "[15:49:57] Molecule does not have explicit Hs. Consider calling AddHs()\n",
      "[15:49:57] Molecule does not have explicit Hs. Consider calling AddHs()\n"
     ]
    },
    {
     "name": "stdout",
     "output_type": "stream",
     "text": [
      "0\n",
      "no conformer for MolPort-003-129-077\n"
     ]
    },
    {
     "name": "stderr",
     "output_type": "stream",
     "text": [
      "[15:49:58] Molecule does not have explicit Hs. Consider calling AddHs()\n"
     ]
    },
    {
     "name": "stdout",
     "output_type": "stream",
     "text": [
      "0\n",
      "no conformer for MolPort-003-129-078\n",
      "0\n",
      "no conformer for MolPort-003-129-079\n"
     ]
    },
    {
     "name": "stderr",
     "output_type": "stream",
     "text": [
      "[15:49:58] Molecule does not have explicit Hs. Consider calling AddHs()\n",
      "[15:49:58] Molecule does not have explicit Hs. Consider calling AddHs()\n"
     ]
    },
    {
     "name": "stdout",
     "output_type": "stream",
     "text": [
      "0\n",
      "no conformer for MolPort-003-129-080\n",
      "0\n",
      "no conformer for MolPort-003-129-081\n"
     ]
    },
    {
     "name": "stderr",
     "output_type": "stream",
     "text": [
      "[15:49:58] Molecule does not have explicit Hs. Consider calling AddHs()\n",
      "[15:49:58] Molecule does not have explicit Hs. Consider calling AddHs()\n"
     ]
    },
    {
     "name": "stdout",
     "output_type": "stream",
     "text": [
      "0\n",
      "no conformer for MolPort-003-129-082\n"
     ]
    },
    {
     "name": "stderr",
     "output_type": "stream",
     "text": [
      "[15:49:59] Molecule does not have explicit Hs. Consider calling AddHs()\n"
     ]
    },
    {
     "name": "stdout",
     "output_type": "stream",
     "text": [
      "0\n",
      "no conformer for MolPort-003-129-084\n",
      "0\n",
      "no conformer for MolPort-003-129-099\n"
     ]
    },
    {
     "name": "stderr",
     "output_type": "stream",
     "text": [
      "[15:49:59] Molecule does not have explicit Hs. Consider calling AddHs()\n",
      "[15:49:59] Molecule does not have explicit Hs. Consider calling AddHs()\n"
     ]
    },
    {
     "name": "stdout",
     "output_type": "stream",
     "text": [
      "0\n",
      "no conformer for MolPort-003-129-086\n",
      "0\n",
      "no conformer for MolPort-003-129-087\n"
     ]
    },
    {
     "name": "stderr",
     "output_type": "stream",
     "text": [
      "[15:49:59] Molecule does not have explicit Hs. Consider calling AddHs()\n",
      "[15:49:59] Molecule does not have explicit Hs. Consider calling AddHs()\n"
     ]
    },
    {
     "name": "stdout",
     "output_type": "stream",
     "text": [
      "0\n",
      "no conformer for MolPort-003-129-088\n",
      "0\n",
      "no conformer for MolPort-003-129-089\n"
     ]
    },
    {
     "name": "stderr",
     "output_type": "stream",
     "text": [
      "[15:50:00] Molecule does not have explicit Hs. Consider calling AddHs()\n",
      "[15:50:00] Molecule does not have explicit Hs. Consider calling AddHs()\n"
     ]
    },
    {
     "name": "stdout",
     "output_type": "stream",
     "text": [
      "0\n",
      "no conformer for MolPort-003-129-090\n",
      "0\n"
     ]
    },
    {
     "name": "stderr",
     "output_type": "stream",
     "text": [
      "[15:50:00] Molecule does not have explicit Hs. Consider calling AddHs()\n"
     ]
    },
    {
     "name": "stdout",
     "output_type": "stream",
     "text": [
      "no conformer for MolPort-003-129-091\n"
     ]
    },
    {
     "name": "stderr",
     "output_type": "stream",
     "text": [
      "[15:50:00] Molecule does not have explicit Hs. Consider calling AddHs()\n"
     ]
    },
    {
     "name": "stdout",
     "output_type": "stream",
     "text": [
      "0\n",
      "no conformer for MolPort-003-129-092\n",
      "0\n",
      "no conformer for MolPort-003-129-093\n"
     ]
    },
    {
     "name": "stderr",
     "output_type": "stream",
     "text": [
      "[15:50:01] Molecule does not have explicit Hs. Consider calling AddHs()\n",
      "[15:50:01] Molecule does not have explicit Hs. Consider calling AddHs()\n"
     ]
    },
    {
     "name": "stdout",
     "output_type": "stream",
     "text": [
      "0\n",
      "no conformer for MolPort-003-129-094\n"
     ]
    },
    {
     "name": "stderr",
     "output_type": "stream",
     "text": [
      "[15:50:01] Molecule does not have explicit Hs. Consider calling AddHs()\n"
     ]
    },
    {
     "name": "stdout",
     "output_type": "stream",
     "text": [
      "0\n",
      "no conformer for MolPort-003-129-095\n"
     ]
    },
    {
     "name": "stderr",
     "output_type": "stream",
     "text": [
      "[15:50:01] Molecule does not have explicit Hs. Consider calling AddHs()\n"
     ]
    },
    {
     "name": "stdout",
     "output_type": "stream",
     "text": [
      "0\n",
      "no conformer for MolPort-003-129-096\n",
      "0\n",
      "no conformer for MolPort-003-129-097\n"
     ]
    },
    {
     "name": "stderr",
     "output_type": "stream",
     "text": [
      "[15:50:01] Molecule does not have explicit Hs. Consider calling AddHs()\n",
      "[15:50:01] Molecule does not have explicit Hs. Consider calling AddHs()\n"
     ]
    },
    {
     "name": "stdout",
     "output_type": "stream",
     "text": [
      "0\n",
      "no conformer for MolPort-003-129-098\n",
      "0\n",
      "no conformer for MolPort-003-131-573\n"
     ]
    },
    {
     "name": "stderr",
     "output_type": "stream",
     "text": [
      "[15:50:02] Molecule does not have explicit Hs. Consider calling AddHs()\n",
      "[15:50:02] Molecule does not have explicit Hs. Consider calling AddHs()\n"
     ]
    },
    {
     "name": "stdout",
     "output_type": "stream",
     "text": [
      "0\n",
      "no conformer for MolPort-003-129-100\n",
      "0\n",
      "no conformer for MolPort-003-131-109\n"
     ]
    },
    {
     "name": "stderr",
     "output_type": "stream",
     "text": [
      "[15:50:02] Molecule does not have explicit Hs. Consider calling AddHs()\n",
      "[15:50:02] Molecule does not have explicit Hs. Consider calling AddHs()\n"
     ]
    },
    {
     "name": "stdout",
     "output_type": "stream",
     "text": [
      "0\n",
      "no conformer for MolPort-003-142-257\n"
     ]
    },
    {
     "name": "stderr",
     "output_type": "stream",
     "text": [
      "[15:50:03] Molecule does not have explicit Hs. Consider calling AddHs()\n"
     ]
    },
    {
     "name": "stdout",
     "output_type": "stream",
     "text": [
      "0\n",
      "no conformer for MolPort-003-131-171\n",
      "0\n",
      "no conformer for MolPort-003-131-195\n"
     ]
    },
    {
     "name": "stderr",
     "output_type": "stream",
     "text": [
      "[15:50:03] Molecule does not have explicit Hs. Consider calling AddHs()\n",
      "[15:50:03] Molecule does not have explicit Hs. Consider calling AddHs()\n"
     ]
    },
    {
     "name": "stdout",
     "output_type": "stream",
     "text": [
      "0\n",
      "no conformer for MolPort-003-131-294\n",
      "0\n",
      "no conformer for MolPort-003-131-507\n"
     ]
    },
    {
     "name": "stderr",
     "output_type": "stream",
     "text": [
      "[15:50:03] Molecule does not have explicit Hs. Consider calling AddHs()\n",
      "[15:50:03] Molecule does not have explicit Hs. Consider calling AddHs()\n"
     ]
    },
    {
     "name": "stdout",
     "output_type": "stream",
     "text": [
      "0\n",
      "no conformer for MolPort-003-131-774\n",
      "0\n",
      "no conformer for MolPort-003-131-796\n"
     ]
    },
    {
     "name": "stderr",
     "output_type": "stream",
     "text": [
      "[15:50:03] Molecule does not have explicit Hs. Consider calling AddHs()\n",
      "[15:50:04] Molecule does not have explicit Hs. Consider calling AddHs()\n"
     ]
    },
    {
     "name": "stdout",
     "output_type": "stream",
     "text": [
      "0\n",
      "no conformer for MolPort-003-131-866\n",
      "0\n",
      "no conformer for MolPort-003-131-881\n"
     ]
    },
    {
     "name": "stderr",
     "output_type": "stream",
     "text": [
      "[15:50:04] Molecule does not have explicit Hs. Consider calling AddHs()\n",
      "[15:50:04] Molecule does not have explicit Hs. Consider calling AddHs()\n"
     ]
    },
    {
     "name": "stdout",
     "output_type": "stream",
     "text": [
      "0\n",
      "no conformer for MolPort-003-131-946\n",
      "0\n",
      "no conformer for MolPort-003-134-330\n",
      "0\n",
      "no conformer for MolPort-003-134-440\n"
     ]
    },
    {
     "name": "stderr",
     "output_type": "stream",
     "text": [
      "[15:50:04] Molecule does not have explicit Hs. Consider calling AddHs()\n",
      "[15:50:04] Molecule does not have explicit Hs. Consider calling AddHs()\n",
      "[15:50:04] Molecule does not have explicit Hs. Consider calling AddHs()\n"
     ]
    },
    {
     "name": "stdout",
     "output_type": "stream",
     "text": [
      "0\n",
      "no conformer for MolPort-003-134-543\n",
      "0\n",
      "no conformer for MolPort-003-134-609\n"
     ]
    },
    {
     "name": "stderr",
     "output_type": "stream",
     "text": [
      "[15:50:04] Molecule does not have explicit Hs. Consider calling AddHs()\n",
      "[15:50:04] Molecule does not have explicit Hs. Consider calling AddHs()\n"
     ]
    },
    {
     "name": "stdout",
     "output_type": "stream",
     "text": [
      "0\n",
      "no conformer for MolPort-003-134-921\n"
     ]
    },
    {
     "name": "stderr",
     "output_type": "stream",
     "text": [
      "[15:50:04] Molecule does not have explicit Hs. Consider calling AddHs()\n"
     ]
    },
    {
     "name": "stdout",
     "output_type": "stream",
     "text": [
      "0\n",
      "no conformer for MolPort-003-142-119\n"
     ]
    },
    {
     "name": "stderr",
     "output_type": "stream",
     "text": [
      "[15:50:05] Molecule does not have explicit Hs. Consider calling AddHs()\n"
     ]
    },
    {
     "name": "stdout",
     "output_type": "stream",
     "text": [
      "0\n",
      "no conformer for MolPort-003-142-122\n",
      "0\n",
      "no conformer for MolPort-003-142-256\n"
     ]
    },
    {
     "name": "stderr",
     "output_type": "stream",
     "text": [
      "[15:50:05] Molecule does not have explicit Hs. Consider calling AddHs()\n",
      "[15:50:05] Molecule does not have explicit Hs. Consider calling AddHs()\n"
     ]
    },
    {
     "name": "stdout",
     "output_type": "stream",
     "text": [
      "0\n",
      "no conformer for MolPort-003-129-129\n",
      "0\n",
      "no conformer for MolPort-003-129-210\n"
     ]
    },
    {
     "name": "stderr",
     "output_type": "stream",
     "text": [
      "[15:50:05] Molecule does not have explicit Hs. Consider calling AddHs()\n",
      "[15:50:05] Molecule does not have explicit Hs. Consider calling AddHs()\n"
     ]
    },
    {
     "name": "stdout",
     "output_type": "stream",
     "text": [
      "0\n",
      "no conformer for MolPort-003-142-241\n",
      "0\n",
      "no conformer for MolPort-003-142-242\n"
     ]
    },
    {
     "name": "stderr",
     "output_type": "stream",
     "text": [
      "[15:50:05] Molecule does not have explicit Hs. Consider calling AddHs()\n",
      "[15:50:06] Molecule does not have explicit Hs. Consider calling AddHs()\n"
     ]
    },
    {
     "name": "stdout",
     "output_type": "stream",
     "text": [
      "0\n",
      "no conformer for MolPort-003-142-243\n",
      "0\n",
      "no conformer for MolPort-003-142-244\n"
     ]
    },
    {
     "name": "stderr",
     "output_type": "stream",
     "text": [
      "[15:50:06] Molecule does not have explicit Hs. Consider calling AddHs()\n",
      "[15:50:06] Molecule does not have explicit Hs. Consider calling AddHs()\n"
     ]
    },
    {
     "name": "stdout",
     "output_type": "stream",
     "text": [
      "0\n",
      "no conformer for MolPort-003-142-245\n",
      "0\n",
      "no conformer for MolPort-003-142-246\n"
     ]
    },
    {
     "name": "stderr",
     "output_type": "stream",
     "text": [
      "[15:50:06] Molecule does not have explicit Hs. Consider calling AddHs()\n",
      "[15:50:06] Molecule does not have explicit Hs. Consider calling AddHs()\n"
     ]
    },
    {
     "name": "stdout",
     "output_type": "stream",
     "text": [
      "0\n",
      "no conformer for MolPort-003-142-247\n"
     ]
    },
    {
     "name": "stderr",
     "output_type": "stream",
     "text": [
      "[15:50:07] Molecule does not have explicit Hs. Consider calling AddHs()\n"
     ]
    },
    {
     "name": "stdout",
     "output_type": "stream",
     "text": [
      "0\n",
      "no conformer for MolPort-003-142-248\n"
     ]
    },
    {
     "name": "stderr",
     "output_type": "stream",
     "text": [
      "[15:50:07] Molecule does not have explicit Hs. Consider calling AddHs()\n"
     ]
    },
    {
     "name": "stdout",
     "output_type": "stream",
     "text": [
      "0\n",
      "no conformer for MolPort-003-142-249\n"
     ]
    },
    {
     "name": "stderr",
     "output_type": "stream",
     "text": [
      "[15:50:08] Molecule does not have explicit Hs. Consider calling AddHs()\n"
     ]
    },
    {
     "name": "stdout",
     "output_type": "stream",
     "text": [
      "0\n",
      "no conformer for MolPort-003-142-250\n",
      "0\n",
      "no conformer for MolPort-003-142-251\n"
     ]
    },
    {
     "name": "stderr",
     "output_type": "stream",
     "text": [
      "[15:50:08] Molecule does not have explicit Hs. Consider calling AddHs()\n",
      "[15:50:08] Molecule does not have explicit Hs. Consider calling AddHs()\n"
     ]
    },
    {
     "name": "stdout",
     "output_type": "stream",
     "text": [
      "0\n",
      "no conformer for MolPort-003-142-252\n",
      "0\n",
      "no conformer for MolPort-003-142-253\n"
     ]
    },
    {
     "name": "stderr",
     "output_type": "stream",
     "text": [
      "[15:50:08] Molecule does not have explicit Hs. Consider calling AddHs()\n",
      "[15:50:08] Molecule does not have explicit Hs. Consider calling AddHs()\n"
     ]
    },
    {
     "name": "stdout",
     "output_type": "stream",
     "text": [
      "0\n",
      "no conformer for MolPort-003-142-254\n",
      "0\n",
      "no conformer for MolPort-003-142-255\n"
     ]
    },
    {
     "name": "stderr",
     "output_type": "stream",
     "text": [
      "[15:50:08] Molecule does not have explicit Hs. Consider calling AddHs()\n",
      "[15:50:09] Molecule does not have explicit Hs. Consider calling AddHs()\n"
     ]
    },
    {
     "name": "stdout",
     "output_type": "stream",
     "text": [
      "0\n",
      "no conformer for MolPort-003-142-258\n"
     ]
    },
    {
     "name": "stderr",
     "output_type": "stream",
     "text": [
      "[15:50:09] Molecule does not have explicit Hs. Consider calling AddHs()\n"
     ]
    },
    {
     "name": "stdout",
     "output_type": "stream",
     "text": [
      "0\n",
      "no conformer for MolPort-003-142-259\n"
     ]
    },
    {
     "name": "stderr",
     "output_type": "stream",
     "text": [
      "[15:50:09] Molecule does not have explicit Hs. Consider calling AddHs()\n"
     ]
    },
    {
     "name": "stdout",
     "output_type": "stream",
     "text": [
      "0\n",
      "no conformer for MolPort-003-142-270\n"
     ]
    },
    {
     "name": "stderr",
     "output_type": "stream",
     "text": [
      "[15:50:09] Molecule does not have explicit Hs. Consider calling AddHs()\n"
     ]
    },
    {
     "name": "stdout",
     "output_type": "stream",
     "text": [
      "0\n",
      "no conformer for MolPort-003-142-260\n",
      "0\n",
      "no conformer for MolPort-003-142-261\n"
     ]
    },
    {
     "name": "stderr",
     "output_type": "stream",
     "text": [
      "[15:50:09] Molecule does not have explicit Hs. Consider calling AddHs()\n",
      "[15:50:10] Molecule does not have explicit Hs. Consider calling AddHs()\n"
     ]
    },
    {
     "name": "stdout",
     "output_type": "stream",
     "text": [
      "0\n",
      "no conformer for MolPort-003-142-262\n",
      "0\n",
      "no conformer for MolPort-003-142-263\n"
     ]
    },
    {
     "name": "stderr",
     "output_type": "stream",
     "text": [
      "[15:50:10] Molecule does not have explicit Hs. Consider calling AddHs()\n",
      "[15:50:10] Molecule does not have explicit Hs. Consider calling AddHs()\n",
      "[15:50:10] Molecule does not have explicit Hs. Consider calling AddHs()\n"
     ]
    },
    {
     "name": "stdout",
     "output_type": "stream",
     "text": [
      "0\n",
      "no conformer for MolPort-003-142-264\n",
      "0\n",
      "no conformer for MolPort-003-142-266\n"
     ]
    },
    {
     "name": "stderr",
     "output_type": "stream",
     "text": [
      "[15:50:10] Molecule does not have explicit Hs. Consider calling AddHs()\n",
      "[15:50:10] Molecule does not have explicit Hs. Consider calling AddHs()\n"
     ]
    },
    {
     "name": "stdout",
     "output_type": "stream",
     "text": [
      "0\n",
      "no conformer for MolPort-003-142-267\n",
      "0\n",
      "no conformer for MolPort-003-142-268\n"
     ]
    },
    {
     "name": "stderr",
     "output_type": "stream",
     "text": [
      "[15:50:10] Molecule does not have explicit Hs. Consider calling AddHs()\n",
      "[15:50:11] Molecule does not have explicit Hs. Consider calling AddHs()\n"
     ]
    },
    {
     "name": "stdout",
     "output_type": "stream",
     "text": [
      "0\n",
      "no conformer for MolPort-003-142-269\n",
      "0\n",
      "no conformer for MolPort-003-142-271\n",
      "0\n",
      "no conformer for MolPort-003-142-477\n"
     ]
    },
    {
     "name": "stderr",
     "output_type": "stream",
     "text": [
      "[15:50:11] Molecule does not have explicit Hs. Consider calling AddHs()\n",
      "[15:50:11] Molecule does not have explicit Hs. Consider calling AddHs()\n"
     ]
    },
    {
     "name": "stdout",
     "output_type": "stream",
     "text": [
      "0\n",
      "no conformer for MolPort-003-142-272\n",
      "0\n",
      "no conformer for MolPort-003-142-273\n"
     ]
    },
    {
     "name": "stderr",
     "output_type": "stream",
     "text": [
      "[15:50:11] Molecule does not have explicit Hs. Consider calling AddHs()\n",
      "[15:50:11] Molecule does not have explicit Hs. Consider calling AddHs()\n"
     ]
    },
    {
     "name": "stdout",
     "output_type": "stream",
     "text": [
      "0\n",
      "no conformer for MolPort-003-142-274\n",
      "0\n",
      "no conformer for MolPort-003-142-275\n"
     ]
    },
    {
     "name": "stderr",
     "output_type": "stream",
     "text": [
      "[15:50:12] Molecule does not have explicit Hs. Consider calling AddHs()\n",
      "[15:50:12] Molecule does not have explicit Hs. Consider calling AddHs()\n"
     ]
    },
    {
     "name": "stdout",
     "output_type": "stream",
     "text": [
      "0\n",
      "no conformer for MolPort-003-142-276\n"
     ]
    },
    {
     "name": "stderr",
     "output_type": "stream",
     "text": [
      "[15:50:12] Molecule does not have explicit Hs. Consider calling AddHs()\n"
     ]
    },
    {
     "name": "stdout",
     "output_type": "stream",
     "text": [
      "0\n",
      "no conformer for MolPort-003-142-277\n",
      "0\n",
      "no conformer for MolPort-003-142-474\n"
     ]
    },
    {
     "name": "stderr",
     "output_type": "stream",
     "text": [
      "[15:50:12] Molecule does not have explicit Hs. Consider calling AddHs()\n",
      "[15:50:12] Molecule does not have explicit Hs. Consider calling AddHs()\n"
     ]
    },
    {
     "name": "stdout",
     "output_type": "stream",
     "text": [
      "0\n",
      "no conformer for MolPort-003-142-475\n"
     ]
    },
    {
     "name": "stderr",
     "output_type": "stream",
     "text": [
      "[15:50:13] Molecule does not have explicit Hs. Consider calling AddHs()\n"
     ]
    },
    {
     "name": "stdout",
     "output_type": "stream",
     "text": [
      "0\n",
      "no conformer for MolPort-003-142-476\n",
      "0\n",
      "no conformer for MolPort-003-142-478\n"
     ]
    },
    {
     "name": "stderr",
     "output_type": "stream",
     "text": [
      "[15:50:13] Molecule does not have explicit Hs. Consider calling AddHs()\n",
      "[15:50:13] Molecule does not have explicit Hs. Consider calling AddHs()\n"
     ]
    },
    {
     "name": "stdout",
     "output_type": "stream",
     "text": [
      "0\n",
      "no conformer for MolPort-003-142-491\n"
     ]
    },
    {
     "name": "stderr",
     "output_type": "stream",
     "text": [
      "[15:50:13] Molecule does not have explicit Hs. Consider calling AddHs()\n"
     ]
    },
    {
     "name": "stdout",
     "output_type": "stream",
     "text": [
      "0\n",
      "no conformer for MolPort-003-142-479\n"
     ]
    },
    {
     "name": "stderr",
     "output_type": "stream",
     "text": [
      "[15:50:14] Molecule does not have explicit Hs. Consider calling AddHs()\n"
     ]
    },
    {
     "name": "stdout",
     "output_type": "stream",
     "text": [
      "0\n",
      "no conformer for MolPort-003-142-480\n"
     ]
    },
    {
     "name": "stderr",
     "output_type": "stream",
     "text": [
      "[15:50:14] Molecule does not have explicit Hs. Consider calling AddHs()\n"
     ]
    },
    {
     "name": "stdout",
     "output_type": "stream",
     "text": [
      "0\n",
      "no conformer for MolPort-003-142-482\n"
     ]
    },
    {
     "name": "stderr",
     "output_type": "stream",
     "text": [
      "[15:50:14] Molecule does not have explicit Hs. Consider calling AddHs()\n"
     ]
    },
    {
     "name": "stdout",
     "output_type": "stream",
     "text": [
      "0\n",
      "no conformer for MolPort-003-142-483\n",
      "0\n",
      "no conformer for MolPort-003-142-484\n"
     ]
    },
    {
     "name": "stderr",
     "output_type": "stream",
     "text": [
      "[15:50:14] Molecule does not have explicit Hs. Consider calling AddHs()\n",
      "[15:50:15] Molecule does not have explicit Hs. Consider calling AddHs()\n",
      "[15:50:15] Molecule does not have explicit Hs. Consider calling AddHs()\n"
     ]
    },
    {
     "name": "stdout",
     "output_type": "stream",
     "text": [
      "0\n",
      "no conformer for MolPort-003-142-485\n",
      "0\n",
      "no conformer for MolPort-003-142-486\n"
     ]
    },
    {
     "name": "stderr",
     "output_type": "stream",
     "text": [
      "[15:50:15] Molecule does not have explicit Hs. Consider calling AddHs()\n",
      "[15:50:15] Molecule does not have explicit Hs. Consider calling AddHs()\n"
     ]
    },
    {
     "name": "stdout",
     "output_type": "stream",
     "text": [
      "0\n",
      "no conformer for MolPort-003-142-487\n",
      "0\n",
      "no conformer for MolPort-003-142-488\n"
     ]
    },
    {
     "name": "stderr",
     "output_type": "stream",
     "text": [
      "[15:50:15] Molecule does not have explicit Hs. Consider calling AddHs()\n"
     ]
    },
    {
     "name": "stdout",
     "output_type": "stream",
     "text": [
      "0\n",
      "no conformer for MolPort-003-142-489\n"
     ]
    },
    {
     "name": "stderr",
     "output_type": "stream",
     "text": [
      "[15:50:15] Molecule does not have explicit Hs. Consider calling AddHs()\n"
     ]
    },
    {
     "name": "stdout",
     "output_type": "stream",
     "text": [
      "0\n",
      "no conformer for MolPort-003-142-490\n"
     ]
    },
    {
     "name": "stderr",
     "output_type": "stream",
     "text": [
      "[15:50:16] Molecule does not have explicit Hs. Consider calling AddHs()\n"
     ]
    },
    {
     "name": "stdout",
     "output_type": "stream",
     "text": [
      "0\n",
      "no conformer for MolPort-003-142-492\n",
      "0\n",
      "no conformer for MolPort-003-142-493\n"
     ]
    },
    {
     "name": "stderr",
     "output_type": "stream",
     "text": [
      "[15:50:16] Molecule does not have explicit Hs. Consider calling AddHs()\n",
      "[15:50:16] Molecule does not have explicit Hs. Consider calling AddHs()\n"
     ]
    },
    {
     "name": "stdout",
     "output_type": "stream",
     "text": [
      "0\n",
      "no conformer for MolPort-003-147-002\n",
      "0\n",
      "no conformer for MolPort-003-159-427\n"
     ]
    },
    {
     "name": "stderr",
     "output_type": "stream",
     "text": [
      "[15:50:16] Molecule does not have explicit Hs. Consider calling AddHs()\n",
      "[15:50:16] Molecule does not have explicit Hs. Consider calling AddHs()\n"
     ]
    },
    {
     "name": "stdout",
     "output_type": "stream",
     "text": [
      "0\n",
      "no conformer for MolPort-003-159-428\n",
      "0\n",
      "no conformer for MolPort-003-142-494\n",
      "0\n",
      "no conformer for MolPort-003-163-438\n"
     ]
    },
    {
     "name": "stderr",
     "output_type": "stream",
     "text": [
      "[15:50:16] Molecule does not have explicit Hs. Consider calling AddHs()\n",
      "[15:50:17] Molecule does not have explicit Hs. Consider calling AddHs()\n",
      "[15:50:17] Molecule does not have explicit Hs. Consider calling AddHs()\n"
     ]
    },
    {
     "name": "stdout",
     "output_type": "stream",
     "text": [
      "0\n",
      "no conformer for MolPort-003-142-496\n",
      "0\n",
      "no conformer for MolPort-003-142-497\n"
     ]
    },
    {
     "name": "stderr",
     "output_type": "stream",
     "text": [
      "[15:50:17] Molecule does not have explicit Hs. Consider calling AddHs()\n",
      "[15:50:17] Molecule does not have explicit Hs. Consider calling AddHs()\n"
     ]
    },
    {
     "name": "stdout",
     "output_type": "stream",
     "text": [
      "0\n",
      "no conformer for MolPort-003-142-498\n",
      "0\n",
      "no conformer for MolPort-003-142-499\n"
     ]
    },
    {
     "name": "stderr",
     "output_type": "stream",
     "text": [
      "[15:50:17] Molecule does not have explicit Hs. Consider calling AddHs()\n",
      "[15:50:18] Molecule does not have explicit Hs. Consider calling AddHs()\n"
     ]
    },
    {
     "name": "stdout",
     "output_type": "stream",
     "text": [
      "0\n",
      "no conformer for MolPort-003-142-500\n"
     ]
    },
    {
     "name": "stderr",
     "output_type": "stream",
     "text": [
      "[15:50:18] Molecule does not have explicit Hs. Consider calling AddHs()\n"
     ]
    },
    {
     "name": "stdout",
     "output_type": "stream",
     "text": [
      "0\n",
      "no conformer for MolPort-003-142-501\n"
     ]
    },
    {
     "name": "stderr",
     "output_type": "stream",
     "text": [
      "[15:50:18] Molecule does not have explicit Hs. Consider calling AddHs()\n"
     ]
    },
    {
     "name": "stdout",
     "output_type": "stream",
     "text": [
      "0\n",
      "no conformer for MolPort-003-142-502\n",
      "0\n",
      "no conformer for MolPort-003-142-503\n"
     ]
    },
    {
     "name": "stderr",
     "output_type": "stream",
     "text": [
      "[15:50:18] Molecule does not have explicit Hs. Consider calling AddHs()\n",
      "[15:50:19] Molecule does not have explicit Hs. Consider calling AddHs()\n"
     ]
    },
    {
     "name": "stdout",
     "output_type": "stream",
     "text": [
      "0\n",
      "no conformer for MolPort-003-142-504\n",
      "0\n",
      "no conformer for MolPort-003-142-505\n"
     ]
    },
    {
     "name": "stderr",
     "output_type": "stream",
     "text": [
      "[15:50:19] Molecule does not have explicit Hs. Consider calling AddHs()\n",
      "[15:50:19] Molecule does not have explicit Hs. Consider calling AddHs()\n"
     ]
    },
    {
     "name": "stdout",
     "output_type": "stream",
     "text": [
      "0\n",
      "no conformer for MolPort-003-142-507\n"
     ]
    },
    {
     "name": "stderr",
     "output_type": "stream",
     "text": [
      "[15:50:19] Molecule does not have explicit Hs. Consider calling AddHs()\n"
     ]
    },
    {
     "name": "stdout",
     "output_type": "stream",
     "text": [
      "0\n",
      "no conformer for MolPort-003-142-508\n"
     ]
    },
    {
     "name": "stderr",
     "output_type": "stream",
     "text": [
      "[15:50:20] Molecule does not have explicit Hs. Consider calling AddHs()\n"
     ]
    },
    {
     "name": "stdout",
     "output_type": "stream",
     "text": [
      "0\n",
      "no conformer for MolPort-003-143-553\n"
     ]
    },
    {
     "name": "stderr",
     "output_type": "stream",
     "text": [
      "[15:50:20] Molecule does not have explicit Hs. Consider calling AddHs()\n"
     ]
    },
    {
     "name": "stdout",
     "output_type": "stream",
     "text": [
      "0\n",
      "no conformer for MolPort-003-144-141\n"
     ]
    },
    {
     "name": "stderr",
     "output_type": "stream",
     "text": [
      "[15:50:21] Molecule does not have explicit Hs. Consider calling AddHs()\n"
     ]
    },
    {
     "name": "stdout",
     "output_type": "stream",
     "text": [
      "0\n",
      "no conformer for MolPort-003-144-144\n",
      "0\n",
      "no conformer for MolPort-003-145-286\n"
     ]
    },
    {
     "name": "stderr",
     "output_type": "stream",
     "text": [
      "[15:50:21] Molecule does not have explicit Hs. Consider calling AddHs()\n",
      "[15:50:21] Molecule does not have explicit Hs. Consider calling AddHs()\n"
     ]
    },
    {
     "name": "stdout",
     "output_type": "stream",
     "text": [
      "0\n",
      "no conformer for MolPort-003-146-952\n",
      "0\n",
      "no conformer for MolPort-003-147-090\n"
     ]
    },
    {
     "name": "stderr",
     "output_type": "stream",
     "text": [
      "[15:50:21] Molecule does not have explicit Hs. Consider calling AddHs()\n",
      "[15:50:21] Molecule does not have explicit Hs. Consider calling AddHs()\n"
     ]
    },
    {
     "name": "stdout",
     "output_type": "stream",
     "text": [
      "0\n",
      "no conformer for MolPort-003-147-102\n",
      "0\n",
      "no conformer for MolPort-003-147-113\n",
      "0\n",
      "no conformer for MolPort-003-147-159\n"
     ]
    },
    {
     "name": "stderr",
     "output_type": "stream",
     "text": [
      "[15:50:22] Molecule does not have explicit Hs. Consider calling AddHs()\n",
      "[15:50:22] Molecule does not have explicit Hs. Consider calling AddHs()\n",
      "[15:50:22] Molecule does not have explicit Hs. Consider calling AddHs()\n"
     ]
    },
    {
     "name": "stdout",
     "output_type": "stream",
     "text": [
      "0\n",
      "no conformer for MolPort-003-147-166\n",
      "0\n",
      "no conformer for MolPort-003-147-168\n"
     ]
    },
    {
     "name": "stderr",
     "output_type": "stream",
     "text": [
      "[15:50:22] Molecule does not have explicit Hs. Consider calling AddHs()\n",
      "[15:50:22] Molecule does not have explicit Hs. Consider calling AddHs()\n"
     ]
    },
    {
     "name": "stdout",
     "output_type": "stream",
     "text": [
      "0\n",
      "no conformer for MolPort-003-147-274\n",
      "0\n",
      "no conformer for MolPort-003-147-297\n"
     ]
    },
    {
     "name": "stderr",
     "output_type": "stream",
     "text": [
      "[15:50:22] Molecule does not have explicit Hs. Consider calling AddHs()\n",
      "[15:50:22] Molecule does not have explicit Hs. Consider calling AddHs()\n"
     ]
    },
    {
     "name": "stdout",
     "output_type": "stream",
     "text": [
      "0\n",
      "no conformer for MolPort-003-147-447\n"
     ]
    },
    {
     "name": "stderr",
     "output_type": "stream",
     "text": [
      "[15:50:23] Molecule does not have explicit Hs. Consider calling AddHs()\n"
     ]
    },
    {
     "name": "stdout",
     "output_type": "stream",
     "text": [
      "0\n",
      "no conformer for MolPort-003-147-468\n",
      "0\n",
      "no conformer for MolPort-003-148-026\n"
     ]
    },
    {
     "name": "stderr",
     "output_type": "stream",
     "text": [
      "[15:50:23] Molecule does not have explicit Hs. Consider calling AddHs()\n",
      "[15:50:23] Molecule does not have explicit Hs. Consider calling AddHs()\n"
     ]
    },
    {
     "name": "stdout",
     "output_type": "stream",
     "text": [
      "0\n",
      "no conformer for MolPort-003-148-027\n",
      "0\n",
      "no conformer for MolPort-003-148-028\n"
     ]
    },
    {
     "name": "stderr",
     "output_type": "stream",
     "text": [
      "[15:50:23] Molecule does not have explicit Hs. Consider calling AddHs()\n",
      "[15:50:23] Molecule does not have explicit Hs. Consider calling AddHs()\n"
     ]
    },
    {
     "name": "stdout",
     "output_type": "stream",
     "text": [
      "0\n",
      "no conformer for MolPort-003-148-029\n",
      "0\n",
      "no conformer for MolPort-003-148-059\n"
     ]
    },
    {
     "name": "stderr",
     "output_type": "stream",
     "text": [
      "[15:50:23] Molecule does not have explicit Hs. Consider calling AddHs()\n",
      "[15:50:24] Molecule does not have explicit Hs. Consider calling AddHs()\n"
     ]
    },
    {
     "name": "stdout",
     "output_type": "stream",
     "text": [
      "0\n",
      "no conformer for MolPort-003-148-060\n",
      "0\n",
      "no conformer for MolPort-003-148-061\n"
     ]
    },
    {
     "name": "stderr",
     "output_type": "stream",
     "text": [
      "[15:50:24] Molecule does not have explicit Hs. Consider calling AddHs()\n",
      "[15:50:24] Molecule does not have explicit Hs. Consider calling AddHs()\n"
     ]
    },
    {
     "name": "stdout",
     "output_type": "stream",
     "text": [
      "0\n",
      "no conformer for MolPort-003-148-062\n",
      "0\n",
      "no conformer for MolPort-003-158-149\n",
      "0\n",
      "no conformer for MolPort-003-158-151\n"
     ]
    },
    {
     "name": "stderr",
     "output_type": "stream",
     "text": [
      "[15:50:24] Molecule does not have explicit Hs. Consider calling AddHs()\n",
      "[15:50:24] Molecule does not have explicit Hs. Consider calling AddHs()\n",
      "[15:50:24] Molecule does not have explicit Hs. Consider calling AddHs()\n",
      "[15:50:25] Molecule does not have explicit Hs. Consider calling AddHs()\n"
     ]
    },
    {
     "name": "stdout",
     "output_type": "stream",
     "text": [
      "0\n",
      "no conformer for MolPort-003-158-161\n",
      "0\n",
      "no conformer for MolPort-003-158-251\n"
     ]
    },
    {
     "name": "stderr",
     "output_type": "stream",
     "text": [
      "[15:50:25] Molecule does not have explicit Hs. Consider calling AddHs()\n",
      "[15:50:25] Molecule does not have explicit Hs. Consider calling AddHs()\n"
     ]
    },
    {
     "name": "stdout",
     "output_type": "stream",
     "text": [
      "0\n",
      "no conformer for MolPort-003-158-257\n",
      "0\n",
      "no conformer for MolPort-003-158-264\n"
     ]
    },
    {
     "name": "stderr",
     "output_type": "stream",
     "text": [
      "[15:50:25] Molecule does not have explicit Hs. Consider calling AddHs()\n"
     ]
    },
    {
     "name": "stdout",
     "output_type": "stream",
     "text": [
      "0\n",
      "no conformer for MolPort-003-158-272\n"
     ]
    },
    {
     "name": "stderr",
     "output_type": "stream",
     "text": [
      "[15:50:25] Molecule does not have explicit Hs. Consider calling AddHs()\n"
     ]
    },
    {
     "name": "stdout",
     "output_type": "stream",
     "text": [
      "0\n",
      "no conformer for MolPort-003-158-377\n"
     ]
    },
    {
     "name": "stderr",
     "output_type": "stream",
     "text": [
      "[15:50:26] Molecule does not have explicit Hs. Consider calling AddHs()\n"
     ]
    },
    {
     "name": "stdout",
     "output_type": "stream",
     "text": [
      "0\n",
      "no conformer for MolPort-003-158-388\n"
     ]
    },
    {
     "name": "stderr",
     "output_type": "stream",
     "text": [
      "[15:50:26] Molecule does not have explicit Hs. Consider calling AddHs()\n"
     ]
    },
    {
     "name": "stdout",
     "output_type": "stream",
     "text": [
      "0\n",
      "no conformer for MolPort-003-158-455\n"
     ]
    },
    {
     "name": "stderr",
     "output_type": "stream",
     "text": [
      "[15:50:26] Molecule does not have explicit Hs. Consider calling AddHs()\n",
      "[15:50:26] Molecule does not have explicit Hs. Consider calling AddHs()\n"
     ]
    },
    {
     "name": "stdout",
     "output_type": "stream",
     "text": [
      "0\n",
      "no conformer for MolPort-003-158-466\n",
      "0\n",
      "no conformer for MolPort-003-158-558\n"
     ]
    },
    {
     "name": "stderr",
     "output_type": "stream",
     "text": [
      "[15:50:27] Molecule does not have explicit Hs. Consider calling AddHs()\n"
     ]
    },
    {
     "name": "stdout",
     "output_type": "stream",
     "text": [
      "0\n",
      "no conformer for MolPort-003-158-564\n"
     ]
    },
    {
     "name": "stderr",
     "output_type": "stream",
     "text": [
      "[15:50:27] Molecule does not have explicit Hs. Consider calling AddHs()\n"
     ]
    },
    {
     "name": "stdout",
     "output_type": "stream",
     "text": [
      "0\n",
      "no conformer for MolPort-003-158-579\n"
     ]
    },
    {
     "name": "stderr",
     "output_type": "stream",
     "text": [
      "[15:50:27] Molecule does not have explicit Hs. Consider calling AddHs()\n"
     ]
    },
    {
     "name": "stdout",
     "output_type": "stream",
     "text": [
      "0\n",
      "no conformer for MolPort-003-158-649\n"
     ]
    },
    {
     "name": "stderr",
     "output_type": "stream",
     "text": [
      "[15:50:28] Molecule does not have explicit Hs. Consider calling AddHs()\n"
     ]
    },
    {
     "name": "stdout",
     "output_type": "stream",
     "text": [
      "0\n",
      "no conformer for MolPort-003-158-652\n",
      "0\n",
      "no conformer for MolPort-003-159-046\n"
     ]
    },
    {
     "name": "stderr",
     "output_type": "stream",
     "text": [
      "[15:50:28] Molecule does not have explicit Hs. Consider calling AddHs()\n",
      "[15:50:28] Molecule does not have explicit Hs. Consider calling AddHs()\n"
     ]
    },
    {
     "name": "stdout",
     "output_type": "stream",
     "text": [
      "0\n",
      "no conformer for MolPort-003-159-077\n",
      "0\n",
      "no conformer for MolPort-003-159-078\n"
     ]
    },
    {
     "name": "stderr",
     "output_type": "stream",
     "text": [
      "[15:50:28] Molecule does not have explicit Hs. Consider calling AddHs()\n",
      "[15:50:28] Molecule does not have explicit Hs. Consider calling AddHs()\n"
     ]
    },
    {
     "name": "stdout",
     "output_type": "stream",
     "text": [
      "0\n",
      "no conformer for MolPort-003-159-047\n"
     ]
    },
    {
     "name": "stderr",
     "output_type": "stream",
     "text": [
      "[15:50:29] Molecule does not have explicit Hs. Consider calling AddHs()\n"
     ]
    },
    {
     "name": "stdout",
     "output_type": "stream",
     "text": [
      "0\n",
      "no conformer for MolPort-003-159-048\n",
      "0\n",
      "no conformer for MolPort-003-159-049\n"
     ]
    },
    {
     "name": "stderr",
     "output_type": "stream",
     "text": [
      "[15:50:29] Molecule does not have explicit Hs. Consider calling AddHs()\n",
      "[15:50:29] Molecule does not have explicit Hs. Consider calling AddHs()\n"
     ]
    },
    {
     "name": "stdout",
     "output_type": "stream",
     "text": [
      "0\n",
      "no conformer for MolPort-003-159-050\n"
     ]
    },
    {
     "name": "stderr",
     "output_type": "stream",
     "text": [
      "[15:50:29] Molecule does not have explicit Hs. Consider calling AddHs()\n"
     ]
    },
    {
     "name": "stdout",
     "output_type": "stream",
     "text": [
      "0\n",
      "no conformer for MolPort-003-159-051\n"
     ]
    },
    {
     "name": "stderr",
     "output_type": "stream",
     "text": [
      "[15:50:29] Molecule does not have explicit Hs. Consider calling AddHs()\n"
     ]
    },
    {
     "name": "stdout",
     "output_type": "stream",
     "text": [
      "0\n",
      "no conformer for MolPort-003-159-082\n"
     ]
    },
    {
     "name": "stderr",
     "output_type": "stream",
     "text": [
      "[15:50:30] Molecule does not have explicit Hs. Consider calling AddHs()\n"
     ]
    },
    {
     "name": "stdout",
     "output_type": "stream",
     "text": [
      "0\n",
      "no conformer for MolPort-003-159-083\n",
      "0\n",
      "no conformer for MolPort-003-159-052\n"
     ]
    },
    {
     "name": "stderr",
     "output_type": "stream",
     "text": [
      "[15:50:30] Molecule does not have explicit Hs. Consider calling AddHs()\n",
      "[15:50:30] Molecule does not have explicit Hs. Consider calling AddHs()\n"
     ]
    },
    {
     "name": "stdout",
     "output_type": "stream",
     "text": [
      "0\n",
      "no conformer for MolPort-003-159-053\n",
      "0\n",
      "no conformer for MolPort-003-159-054\n"
     ]
    },
    {
     "name": "stderr",
     "output_type": "stream",
     "text": [
      "[15:50:30] Molecule does not have explicit Hs. Consider calling AddHs()\n",
      "[15:50:31] Molecule does not have explicit Hs. Consider calling AddHs()\n"
     ]
    },
    {
     "name": "stdout",
     "output_type": "stream",
     "text": [
      "0\n",
      "no conformer for MolPort-003-159-055\n",
      "0\n",
      "no conformer for MolPort-003-159-056\n"
     ]
    },
    {
     "name": "stderr",
     "output_type": "stream",
     "text": [
      "[15:50:31] Molecule does not have explicit Hs. Consider calling AddHs()\n",
      "[15:50:31] Molecule does not have explicit Hs. Consider calling AddHs()\n"
     ]
    },
    {
     "name": "stdout",
     "output_type": "stream",
     "text": [
      "0\n",
      "no conformer for MolPort-003-159-057\n",
      "0\n",
      "no conformer for MolPort-003-159-058\n"
     ]
    },
    {
     "name": "stderr",
     "output_type": "stream",
     "text": [
      "[15:50:31] Molecule does not have explicit Hs. Consider calling AddHs()\n",
      "[15:50:31] Molecule does not have explicit Hs. Consider calling AddHs()\n"
     ]
    },
    {
     "name": "stdout",
     "output_type": "stream",
     "text": [
      "0\n",
      "no conformer for MolPort-003-159-059\n",
      "0\n",
      "no conformer for MolPort-003-159-060\n"
     ]
    },
    {
     "name": "stderr",
     "output_type": "stream",
     "text": [
      "[15:50:31] Molecule does not have explicit Hs. Consider calling AddHs()\n",
      "[15:50:32] Molecule does not have explicit Hs. Consider calling AddHs()\n"
     ]
    },
    {
     "name": "stdout",
     "output_type": "stream",
     "text": [
      "0\n",
      "no conformer for MolPort-003-159-061\n",
      "0\n",
      "no conformer for MolPort-003-159-062\n"
     ]
    },
    {
     "name": "stderr",
     "output_type": "stream",
     "text": [
      "[15:50:32] Molecule does not have explicit Hs. Consider calling AddHs()\n",
      "[15:50:32] Molecule does not have explicit Hs. Consider calling AddHs()\n"
     ]
    },
    {
     "name": "stdout",
     "output_type": "stream",
     "text": [
      "0\n",
      "no conformer for MolPort-003-159-063\n"
     ]
    },
    {
     "name": "stderr",
     "output_type": "stream",
     "text": [
      "[15:50:32] Molecule does not have explicit Hs. Consider calling AddHs()\n"
     ]
    },
    {
     "name": "stdout",
     "output_type": "stream",
     "text": [
      "0\n",
      "no conformer for MolPort-003-159-065\n"
     ]
    },
    {
     "name": "stderr",
     "output_type": "stream",
     "text": [
      "[15:50:32] Molecule does not have explicit Hs. Consider calling AddHs()\n"
     ]
    },
    {
     "name": "stdout",
     "output_type": "stream",
     "text": [
      "0\n",
      "no conformer for MolPort-003-159-066\n",
      "0\n",
      "no conformer for MolPort-003-159-067\n"
     ]
    },
    {
     "name": "stderr",
     "output_type": "stream",
     "text": [
      "[15:50:33] Molecule does not have explicit Hs. Consider calling AddHs()\n",
      "[15:50:33] Molecule does not have explicit Hs. Consider calling AddHs()\n"
     ]
    },
    {
     "name": "stdout",
     "output_type": "stream",
     "text": [
      "0\n",
      "no conformer for MolPort-003-159-068\n"
     ]
    },
    {
     "name": "stderr",
     "output_type": "stream",
     "text": [
      "[15:50:33] Molecule does not have explicit Hs. Consider calling AddHs()\n"
     ]
    },
    {
     "name": "stdout",
     "output_type": "stream",
     "text": [
      "0\n",
      "no conformer for MolPort-003-159-069\n"
     ]
    },
    {
     "name": "stderr",
     "output_type": "stream",
     "text": [
      "[15:50:33] Molecule does not have explicit Hs. Consider calling AddHs()\n"
     ]
    },
    {
     "name": "stdout",
     "output_type": "stream",
     "text": [
      "0\n",
      "no conformer for MolPort-003-159-070\n",
      "0\n",
      "no conformer for MolPort-003-159-071\n"
     ]
    },
    {
     "name": "stderr",
     "output_type": "stream",
     "text": [
      "[15:50:34] Molecule does not have explicit Hs. Consider calling AddHs()\n",
      "[15:50:34] Molecule does not have explicit Hs. Consider calling AddHs()\n"
     ]
    },
    {
     "name": "stdout",
     "output_type": "stream",
     "text": [
      "0\n",
      "no conformer for MolPort-003-159-072\n"
     ]
    },
    {
     "name": "stderr",
     "output_type": "stream",
     "text": [
      "[15:50:34] Molecule does not have explicit Hs. Consider calling AddHs()\n"
     ]
    },
    {
     "name": "stdout",
     "output_type": "stream",
     "text": [
      "0\n",
      "no conformer for MolPort-003-159-073\n"
     ]
    },
    {
     "name": "stderr",
     "output_type": "stream",
     "text": [
      "[15:50:34] Molecule does not have explicit Hs. Consider calling AddHs()\n",
      "[15:50:35] Molecule does not have explicit Hs. Consider calling AddHs()\n"
     ]
    },
    {
     "name": "stdout",
     "output_type": "stream",
     "text": [
      "0\n",
      "no conformer for MolPort-003-159-074\n",
      "0\n",
      "no conformer for MolPort-003-159-076\n"
     ]
    },
    {
     "name": "stderr",
     "output_type": "stream",
     "text": [
      "[15:50:35] Molecule does not have explicit Hs. Consider calling AddHs()\n"
     ]
    },
    {
     "name": "stdout",
     "output_type": "stream",
     "text": [
      "0\n",
      "no conformer for MolPort-003-159-079\n"
     ]
    },
    {
     "name": "stderr",
     "output_type": "stream",
     "text": [
      "[15:50:35] Molecule does not have explicit Hs. Consider calling AddHs()\n",
      "[15:50:35] Molecule does not have explicit Hs. Consider calling AddHs()\n"
     ]
    },
    {
     "name": "stdout",
     "output_type": "stream",
     "text": [
      "0\n",
      "no conformer for MolPort-003-159-080\n",
      "0\n",
      "no conformer for MolPort-003-159-081\n"
     ]
    },
    {
     "name": "stderr",
     "output_type": "stream",
     "text": [
      "[15:50:35] Molecule does not have explicit Hs. Consider calling AddHs()\n"
     ]
    },
    {
     "name": "stdout",
     "output_type": "stream",
     "text": [
      "0\n",
      "no conformer for MolPort-003-159-084\n",
      "0\n",
      "no conformer for MolPort-003-159-215\n"
     ]
    },
    {
     "name": "stderr",
     "output_type": "stream",
     "text": [
      "[15:50:36] Molecule does not have explicit Hs. Consider calling AddHs()\n",
      "[15:50:36] Molecule does not have explicit Hs. Consider calling AddHs()\n"
     ]
    },
    {
     "name": "stdout",
     "output_type": "stream",
     "text": [
      "0\n",
      "no conformer for MolPort-003-159-216\n",
      "0\n",
      "no conformer for MolPort-003-159-217\n"
     ]
    },
    {
     "name": "stderr",
     "output_type": "stream",
     "text": [
      "[15:50:36] Molecule does not have explicit Hs. Consider calling AddHs()\n",
      "[15:50:36] Molecule does not have explicit Hs. Consider calling AddHs()\n"
     ]
    },
    {
     "name": "stdout",
     "output_type": "stream",
     "text": [
      "0\n",
      "no conformer for MolPort-003-159-219\n",
      "0\n",
      "no conformer for MolPort-003-159-220\n"
     ]
    },
    {
     "name": "stderr",
     "output_type": "stream",
     "text": [
      "[15:50:37] Molecule does not have explicit Hs. Consider calling AddHs()\n",
      "[15:50:37] Molecule does not have explicit Hs. Consider calling AddHs()\n"
     ]
    },
    {
     "name": "stdout",
     "output_type": "stream",
     "text": [
      "0\n",
      "no conformer for MolPort-003-159-221\n",
      "0\n",
      "no conformer for MolPort-003-159-222\n"
     ]
    },
    {
     "name": "stderr",
     "output_type": "stream",
     "text": [
      "[15:50:37] Molecule does not have explicit Hs. Consider calling AddHs()\n",
      "[15:50:37] Molecule does not have explicit Hs. Consider calling AddHs()\n"
     ]
    },
    {
     "name": "stdout",
     "output_type": "stream",
     "text": [
      "0\n",
      "no conformer for MolPort-003-159-223\n",
      "0\n",
      "no conformer for MolPort-003-159-224\n"
     ]
    },
    {
     "name": "stderr",
     "output_type": "stream",
     "text": [
      "[15:50:37] Molecule does not have explicit Hs. Consider calling AddHs()\n",
      "[15:50:38] Molecule does not have explicit Hs. Consider calling AddHs()\n"
     ]
    },
    {
     "name": "stdout",
     "output_type": "stream",
     "text": [
      "0\n",
      "no conformer for MolPort-003-159-225\n"
     ]
    },
    {
     "name": "stderr",
     "output_type": "stream",
     "text": [
      "[15:50:38] Molecule does not have explicit Hs. Consider calling AddHs()\n"
     ]
    },
    {
     "name": "stdout",
     "output_type": "stream",
     "text": [
      "0\n",
      "no conformer for MolPort-003-159-226\n",
      "0\n",
      "no conformer for MolPort-003-159-426\n"
     ]
    },
    {
     "name": "stderr",
     "output_type": "stream",
     "text": [
      "[15:50:38] Molecule does not have explicit Hs. Consider calling AddHs()\n",
      "[15:50:38] Molecule does not have explicit Hs. Consider calling AddHs()\n"
     ]
    },
    {
     "name": "stdout",
     "output_type": "stream",
     "text": [
      "0\n",
      "no conformer for MolPort-003-159-429\n",
      "0\n",
      "no conformer for MolPort-003-159-430\n"
     ]
    },
    {
     "name": "stderr",
     "output_type": "stream",
     "text": [
      "[15:50:38] Molecule does not have explicit Hs. Consider calling AddHs()\n",
      "[15:50:39] Molecule does not have explicit Hs. Consider calling AddHs()\n"
     ]
    },
    {
     "name": "stdout",
     "output_type": "stream",
     "text": [
      "0\n",
      "no conformer for MolPort-003-159-431\n",
      "0\n",
      "no conformer for MolPort-003-159-432\n"
     ]
    },
    {
     "name": "stderr",
     "output_type": "stream",
     "text": [
      "[15:50:39] Molecule does not have explicit Hs. Consider calling AddHs()\n",
      "[15:50:39] Molecule does not have explicit Hs. Consider calling AddHs()\n"
     ]
    },
    {
     "name": "stdout",
     "output_type": "stream",
     "text": [
      "0\n",
      "no conformer for MolPort-003-159-433\n",
      "0\n",
      "no conformer for MolPort-003-159-434\n"
     ]
    },
    {
     "name": "stderr",
     "output_type": "stream",
     "text": [
      "[15:50:39] Molecule does not have explicit Hs. Consider calling AddHs()\n",
      "[15:50:39] Molecule does not have explicit Hs. Consider calling AddHs()\n"
     ]
    },
    {
     "name": "stdout",
     "output_type": "stream",
     "text": [
      "0\n",
      "no conformer for MolPort-003-159-435\n"
     ]
    },
    {
     "name": "stderr",
     "output_type": "stream",
     "text": [
      "[15:50:39] Molecule does not have explicit Hs. Consider calling AddHs()\n"
     ]
    },
    {
     "name": "stdout",
     "output_type": "stream",
     "text": [
      "0\n",
      "no conformer for MolPort-003-159-436\n"
     ]
    },
    {
     "name": "stderr",
     "output_type": "stream",
     "text": [
      "[15:50:40] Molecule does not have explicit Hs. Consider calling AddHs()\n"
     ]
    },
    {
     "name": "stdout",
     "output_type": "stream",
     "text": [
      "0\n",
      "no conformer for MolPort-003-159-437\n",
      "0\n",
      "no conformer for MolPort-003-159-438\n"
     ]
    },
    {
     "name": "stderr",
     "output_type": "stream",
     "text": [
      "[15:50:40] Molecule does not have explicit Hs. Consider calling AddHs()\n",
      "[15:50:40] Molecule does not have explicit Hs. Consider calling AddHs()\n"
     ]
    },
    {
     "name": "stdout",
     "output_type": "stream",
     "text": [
      "0\n",
      "no conformer for MolPort-003-159-439\n",
      "0\n",
      "no conformer for MolPort-003-159-440\n"
     ]
    },
    {
     "name": "stderr",
     "output_type": "stream",
     "text": [
      "[15:50:40] Molecule does not have explicit Hs. Consider calling AddHs()\n",
      "[15:50:41] Molecule does not have explicit Hs. Consider calling AddHs()\n"
     ]
    },
    {
     "name": "stdout",
     "output_type": "stream",
     "text": [
      "0\n",
      "no conformer for MolPort-003-159-441\n",
      "0\n",
      "no conformer for MolPort-003-159-442\n"
     ]
    },
    {
     "name": "stderr",
     "output_type": "stream",
     "text": [
      "[15:50:41] Molecule does not have explicit Hs. Consider calling AddHs()\n",
      "[15:50:41] Molecule does not have explicit Hs. Consider calling AddHs()\n"
     ]
    },
    {
     "name": "stdout",
     "output_type": "stream",
     "text": [
      "0\n",
      "no conformer for MolPort-003-159-443\n",
      "0\n",
      "no conformer for MolPort-003-159-444\n"
     ]
    },
    {
     "name": "stderr",
     "output_type": "stream",
     "text": [
      "[15:50:41] Molecule does not have explicit Hs. Consider calling AddHs()\n",
      "[15:50:41] Molecule does not have explicit Hs. Consider calling AddHs()\n"
     ]
    },
    {
     "name": "stdout",
     "output_type": "stream",
     "text": [
      "0\n",
      "no conformer for MolPort-003-159-445\n"
     ]
    },
    {
     "name": "stderr",
     "output_type": "stream",
     "text": [
      "[15:50:41] Molecule does not have explicit Hs. Consider calling AddHs()\n"
     ]
    },
    {
     "name": "stdout",
     "output_type": "stream",
     "text": [
      "0\n",
      "no conformer for MolPort-003-159-446\n",
      "0\n",
      "no conformer for MolPort-003-159-447\n"
     ]
    },
    {
     "name": "stderr",
     "output_type": "stream",
     "text": [
      "[15:50:42] Molecule does not have explicit Hs. Consider calling AddHs()\n",
      "[15:50:42] Molecule does not have explicit Hs. Consider calling AddHs()\n"
     ]
    },
    {
     "name": "stdout",
     "output_type": "stream",
     "text": [
      "0\n",
      "no conformer for MolPort-003-159-448\n",
      "0\n",
      "no conformer for MolPort-003-159-449\n"
     ]
    },
    {
     "name": "stderr",
     "output_type": "stream",
     "text": [
      "[15:50:42] Molecule does not have explicit Hs. Consider calling AddHs()\n",
      "[15:50:42] Molecule does not have explicit Hs. Consider calling AddHs()\n"
     ]
    },
    {
     "name": "stdout",
     "output_type": "stream",
     "text": [
      "0\n",
      "no conformer for MolPort-003-159-454\n"
     ]
    },
    {
     "name": "stderr",
     "output_type": "stream",
     "text": [
      "[15:50:42] Molecule does not have explicit Hs. Consider calling AddHs()\n"
     ]
    },
    {
     "name": "stdout",
     "output_type": "stream",
     "text": [
      "0\n",
      "no conformer for MolPort-003-159-455\n"
     ]
    },
    {
     "name": "stderr",
     "output_type": "stream",
     "text": [
      "[15:50:43] Molecule does not have explicit Hs. Consider calling AddHs()\n",
      "[15:50:43] Molecule does not have explicit Hs. Consider calling AddHs()\n"
     ]
    },
    {
     "name": "stdout",
     "output_type": "stream",
     "text": [
      "0\n",
      "no conformer for MolPort-003-159-456\n",
      "0\n",
      "no conformer for MolPort-003-159-457\n",
      "0\n",
      "no conformer for MolPort-003-159-458\n"
     ]
    },
    {
     "name": "stderr",
     "output_type": "stream",
     "text": [
      "[15:50:43] Molecule does not have explicit Hs. Consider calling AddHs()\n",
      "[15:50:43] Molecule does not have explicit Hs. Consider calling AddHs()\n"
     ]
    },
    {
     "name": "stdout",
     "output_type": "stream",
     "text": [
      "0\n",
      "no conformer for MolPort-003-159-459\n",
      "0\n",
      "no conformer for MolPort-003-159-460\n"
     ]
    },
    {
     "name": "stderr",
     "output_type": "stream",
     "text": [
      "[15:50:43] Molecule does not have explicit Hs. Consider calling AddHs()\n",
      "[15:50:43] Molecule does not have explicit Hs. Consider calling AddHs()\n"
     ]
    },
    {
     "name": "stdout",
     "output_type": "stream",
     "text": [
      "0\n",
      "no conformer for MolPort-003-159-461\n",
      "0\n",
      "no conformer for MolPort-003-159-462\n"
     ]
    },
    {
     "name": "stderr",
     "output_type": "stream",
     "text": [
      "[15:50:44] Molecule does not have explicit Hs. Consider calling AddHs()\n",
      "[15:50:44] Molecule does not have explicit Hs. Consider calling AddHs()\n"
     ]
    },
    {
     "name": "stdout",
     "output_type": "stream",
     "text": [
      "0\n",
      "no conformer for MolPort-003-159-463\n",
      "0\n",
      "no conformer for MolPort-003-159-464\n"
     ]
    },
    {
     "name": "stderr",
     "output_type": "stream",
     "text": [
      "[15:50:44] Molecule does not have explicit Hs. Consider calling AddHs()\n",
      "[15:50:44] Molecule does not have explicit Hs. Consider calling AddHs()\n"
     ]
    },
    {
     "name": "stdout",
     "output_type": "stream",
     "text": [
      "0\n",
      "no conformer for MolPort-003-159-465\n",
      "0\n",
      "no conformer for MolPort-003-159-466\n"
     ]
    },
    {
     "name": "stderr",
     "output_type": "stream",
     "text": [
      "[15:50:44] Molecule does not have explicit Hs. Consider calling AddHs()\n",
      "[15:50:45] Molecule does not have explicit Hs. Consider calling AddHs()\n"
     ]
    },
    {
     "name": "stdout",
     "output_type": "stream",
     "text": [
      "0\n",
      "no conformer for MolPort-003-159-467\n",
      "0\n",
      "no conformer for MolPort-003-159-468\n"
     ]
    },
    {
     "name": "stderr",
     "output_type": "stream",
     "text": [
      "[15:50:45] Molecule does not have explicit Hs. Consider calling AddHs()\n",
      "[15:50:45] Molecule does not have explicit Hs. Consider calling AddHs()\n"
     ]
    },
    {
     "name": "stdout",
     "output_type": "stream",
     "text": [
      "0\n",
      "no conformer for MolPort-003-159-469\n",
      "0\n",
      "no conformer for MolPort-003-147-927\n"
     ]
    },
    {
     "name": "stderr",
     "output_type": "stream",
     "text": [
      "[15:50:45] Molecule does not have explicit Hs. Consider calling AddHs()\n",
      "[15:50:45] Molecule does not have explicit Hs. Consider calling AddHs()\n"
     ]
    },
    {
     "name": "stdout",
     "output_type": "stream",
     "text": [
      "0\n",
      "no conformer for MolPort-003-145-253\n",
      "0\n",
      "no conformer for MolPort-003-145-254\n"
     ]
    },
    {
     "name": "stderr",
     "output_type": "stream",
     "text": [
      "[15:50:46] Molecule does not have explicit Hs. Consider calling AddHs()\n",
      "[15:50:46] Molecule does not have explicit Hs. Consider calling AddHs()\n",
      "[15:50:46] Molecule does not have explicit Hs. Consider calling AddHs()\n"
     ]
    },
    {
     "name": "stdout",
     "output_type": "stream",
     "text": [
      "0\n",
      "no conformer for MolPort-003-145-255\n",
      "0\n",
      "no conformer for MolPort-003-145-273\n",
      "0\n",
      "no conformer for MolPort-003-145-274\n"
     ]
    },
    {
     "name": "stderr",
     "output_type": "stream",
     "text": [
      "[15:50:46] Molecule does not have explicit Hs. Consider calling AddHs()\n",
      "[15:50:46] Molecule does not have explicit Hs. Consider calling AddHs()\n"
     ]
    },
    {
     "name": "stdout",
     "output_type": "stream",
     "text": [
      "0\n",
      "no conformer for MolPort-003-147-925\n",
      "0\n",
      "no conformer for MolPort-003-147-926\n"
     ]
    },
    {
     "name": "stderr",
     "output_type": "stream",
     "text": [
      "[15:50:47] Molecule does not have explicit Hs. Consider calling AddHs()\n",
      "[15:50:47] Molecule does not have explicit Hs. Consider calling AddHs()\n"
     ]
    },
    {
     "name": "stdout",
     "output_type": "stream",
     "text": [
      "0\n",
      "no conformer for MolPort-003-147-928\n"
     ]
    },
    {
     "name": "stderr",
     "output_type": "stream",
     "text": [
      "[15:50:47] Molecule does not have explicit Hs. Consider calling AddHs()\n"
     ]
    },
    {
     "name": "stdout",
     "output_type": "stream",
     "text": [
      "0\n",
      "no conformer for MolPort-003-147-974\n"
     ]
    },
    {
     "name": "stderr",
     "output_type": "stream",
     "text": [
      "[15:50:47] Molecule does not have explicit Hs. Consider calling AddHs()\n"
     ]
    },
    {
     "name": "stdout",
     "output_type": "stream",
     "text": [
      "0\n",
      "no conformer for MolPort-003-147-929\n"
     ]
    },
    {
     "name": "stderr",
     "output_type": "stream",
     "text": [
      "[15:50:47] Molecule does not have explicit Hs. Consider calling AddHs()\n"
     ]
    },
    {
     "name": "stdout",
     "output_type": "stream",
     "text": [
      "0\n",
      "no conformer for MolPort-003-147-930\n"
     ]
    },
    {
     "name": "stderr",
     "output_type": "stream",
     "text": [
      "[15:50:48] Molecule does not have explicit Hs. Consider calling AddHs()\n"
     ]
    },
    {
     "name": "stdout",
     "output_type": "stream",
     "text": [
      "0\n",
      "no conformer for MolPort-003-147-931\n"
     ]
    },
    {
     "name": "stderr",
     "output_type": "stream",
     "text": [
      "[15:50:48] Molecule does not have explicit Hs. Consider calling AddHs()\n"
     ]
    },
    {
     "name": "stdout",
     "output_type": "stream",
     "text": [
      "0\n",
      "no conformer for MolPort-003-147-970\n"
     ]
    },
    {
     "name": "stderr",
     "output_type": "stream",
     "text": [
      "[15:50:48] Molecule does not have explicit Hs. Consider calling AddHs()\n"
     ]
    },
    {
     "name": "stdout",
     "output_type": "stream",
     "text": [
      "0\n",
      "no conformer for MolPort-003-147-971\n",
      "0\n",
      "no conformer for MolPort-003-147-972\n"
     ]
    },
    {
     "name": "stderr",
     "output_type": "stream",
     "text": [
      "[15:50:49] Molecule does not have explicit Hs. Consider calling AddHs()\n",
      "[15:50:49] Molecule does not have explicit Hs. Consider calling AddHs()\n",
      "[15:50:49] Molecule does not have explicit Hs. Consider calling AddHs()\n"
     ]
    },
    {
     "name": "stdout",
     "output_type": "stream",
     "text": [
      "0\n",
      "no conformer for MolPort-003-147-973\n",
      "0\n",
      "no conformer for MolPort-003-163-437\n"
     ]
    },
    {
     "name": "stderr",
     "output_type": "stream",
     "text": [
      "[15:50:49] Molecule does not have explicit Hs. Consider calling AddHs()\n",
      "[15:50:49] Molecule does not have explicit Hs. Consider calling AddHs()\n"
     ]
    },
    {
     "name": "stdout",
     "output_type": "stream",
     "text": [
      "0\n",
      "no conformer for MolPort-003-163-430\n",
      "0\n",
      "no conformer for MolPort-003-163-431\n"
     ]
    },
    {
     "name": "stderr",
     "output_type": "stream",
     "text": [
      "[15:50:50] Molecule does not have explicit Hs. Consider calling AddHs()\n",
      "[15:50:50] Molecule does not have explicit Hs. Consider calling AddHs()\n"
     ]
    },
    {
     "name": "stdout",
     "output_type": "stream",
     "text": [
      "0\n",
      "no conformer for MolPort-003-163-432\n",
      "0\n",
      "no conformer for MolPort-003-163-433\n",
      "0\n",
      "no conformer for MolPort-003-163-434\n"
     ]
    },
    {
     "name": "stderr",
     "output_type": "stream",
     "text": [
      "[15:50:50] Molecule does not have explicit Hs. Consider calling AddHs()\n",
      "[15:50:50] Molecule does not have explicit Hs. Consider calling AddHs()\n"
     ]
    },
    {
     "name": "stdout",
     "output_type": "stream",
     "text": [
      "0\n",
      "no conformer for MolPort-003-163-435\n",
      "0\n",
      "no conformer for MolPort-003-163-436\n"
     ]
    },
    {
     "name": "stderr",
     "output_type": "stream",
     "text": [
      "[15:50:51] Molecule does not have explicit Hs. Consider calling AddHs()\n",
      "[15:50:51] Molecule does not have explicit Hs. Consider calling AddHs()\n"
     ]
    },
    {
     "name": "stdout",
     "output_type": "stream",
     "text": [
      "0\n",
      "no conformer for MolPort-003-163-439\n"
     ]
    },
    {
     "name": "stderr",
     "output_type": "stream",
     "text": [
      "[15:50:51] Molecule does not have explicit Hs. Consider calling AddHs()\n"
     ]
    },
    {
     "name": "stdout",
     "output_type": "stream",
     "text": [
      "0\n",
      "no conformer for MolPort-003-163-440\n"
     ]
    },
    {
     "name": "stderr",
     "output_type": "stream",
     "text": [
      "[15:50:51] Molecule does not have explicit Hs. Consider calling AddHs()\n"
     ]
    },
    {
     "name": "stdout",
     "output_type": "stream",
     "text": [
      "0\n",
      "no conformer for MolPort-003-163-441\n"
     ]
    },
    {
     "name": "stderr",
     "output_type": "stream",
     "text": [
      "[15:50:51] Molecule does not have explicit Hs. Consider calling AddHs()\n",
      "[15:50:52] Molecule does not have explicit Hs. Consider calling AddHs()\n"
     ]
    },
    {
     "name": "stdout",
     "output_type": "stream",
     "text": [
      "0\n",
      "no conformer for MolPort-003-163-442\n",
      "0\n",
      "no conformer for MolPort-003-163-457\n",
      "0\n",
      "no conformer for MolPort-003-163-443\n"
     ]
    },
    {
     "name": "stderr",
     "output_type": "stream",
     "text": [
      "[15:50:52] Molecule does not have explicit Hs. Consider calling AddHs()\n",
      "[15:50:52] Molecule does not have explicit Hs. Consider calling AddHs()\n"
     ]
    },
    {
     "name": "stdout",
     "output_type": "stream",
     "text": [
      "0\n",
      "no conformer for MolPort-003-163-444\n"
     ]
    },
    {
     "name": "stderr",
     "output_type": "stream",
     "text": [
      "[15:50:52] Molecule does not have explicit Hs. Consider calling AddHs()\n"
     ]
    },
    {
     "name": "stdout",
     "output_type": "stream",
     "text": [
      "0\n",
      "no conformer for MolPort-003-163-445\n",
      "0\n",
      "no conformer for MolPort-003-163-446\n"
     ]
    },
    {
     "name": "stderr",
     "output_type": "stream",
     "text": [
      "[15:50:53] Molecule does not have explicit Hs. Consider calling AddHs()\n",
      "[15:50:53] Molecule does not have explicit Hs. Consider calling AddHs()\n"
     ]
    },
    {
     "name": "stdout",
     "output_type": "stream",
     "text": [
      "0\n",
      "no conformer for MolPort-003-163-448\n",
      "0\n",
      "no conformer for MolPort-003-163-449\n"
     ]
    },
    {
     "name": "stderr",
     "output_type": "stream",
     "text": [
      "[15:50:53] Molecule does not have explicit Hs. Consider calling AddHs()\n",
      "[15:50:53] Molecule does not have explicit Hs. Consider calling AddHs()\n"
     ]
    },
    {
     "name": "stdout",
     "output_type": "stream",
     "text": [
      "0\n",
      "no conformer for MolPort-003-163-450\n"
     ]
    },
    {
     "name": "stderr",
     "output_type": "stream",
     "text": [
      "[15:50:53] Molecule does not have explicit Hs. Consider calling AddHs()\n"
     ]
    },
    {
     "name": "stdout",
     "output_type": "stream",
     "text": [
      "0\n",
      "no conformer for MolPort-003-163-451\n",
      "0\n",
      "no conformer for MolPort-003-163-452\n"
     ]
    },
    {
     "name": "stderr",
     "output_type": "stream",
     "text": [
      "[15:50:54] Molecule does not have explicit Hs. Consider calling AddHs()\n",
      "[15:50:54] Molecule does not have explicit Hs. Consider calling AddHs()\n"
     ]
    },
    {
     "name": "stdout",
     "output_type": "stream",
     "text": [
      "0\n",
      "no conformer for MolPort-003-163-453\n"
     ]
    },
    {
     "name": "stderr",
     "output_type": "stream",
     "text": [
      "[15:50:54] Molecule does not have explicit Hs. Consider calling AddHs()\n"
     ]
    },
    {
     "name": "stdout",
     "output_type": "stream",
     "text": [
      "0\n",
      "no conformer for MolPort-003-163-454\n"
     ]
    },
    {
     "name": "stderr",
     "output_type": "stream",
     "text": [
      "[15:50:54] Molecule does not have explicit Hs. Consider calling AddHs()\n"
     ]
    },
    {
     "name": "stdout",
     "output_type": "stream",
     "text": [
      "0\n",
      "no conformer for MolPort-003-163-455\n",
      "0\n",
      "no conformer for MolPort-003-163-456\n"
     ]
    },
    {
     "name": "stderr",
     "output_type": "stream",
     "text": [
      "[15:50:54] Molecule does not have explicit Hs. Consider calling AddHs()\n",
      "[15:50:55] Molecule does not have explicit Hs. Consider calling AddHs()\n"
     ]
    },
    {
     "name": "stdout",
     "output_type": "stream",
     "text": [
      "0\n",
      "no conformer for MolPort-003-163-472\n",
      "0\n",
      "no conformer for MolPort-003-163-458\n"
     ]
    },
    {
     "name": "stderr",
     "output_type": "stream",
     "text": [
      "[15:50:55] Molecule does not have explicit Hs. Consider calling AddHs()\n",
      "[15:50:55] Molecule does not have explicit Hs. Consider calling AddHs()\n",
      "[15:50:55] Molecule does not have explicit Hs. Consider calling AddHs()\n"
     ]
    },
    {
     "name": "stdout",
     "output_type": "stream",
     "text": [
      "0\n",
      "no conformer for MolPort-003-163-461\n",
      "0\n",
      "no conformer for MolPort-003-163-462\n"
     ]
    },
    {
     "name": "stderr",
     "output_type": "stream",
     "text": [
      "[15:50:56] Molecule does not have explicit Hs. Consider calling AddHs()\n",
      "[15:50:56] Molecule does not have explicit Hs. Consider calling AddHs()\n"
     ]
    },
    {
     "name": "stdout",
     "output_type": "stream",
     "text": [
      "0\n",
      "no conformer for MolPort-003-163-464\n",
      "0\n",
      "no conformer for MolPort-003-163-465\n"
     ]
    },
    {
     "name": "stderr",
     "output_type": "stream",
     "text": [
      "[15:50:56] Molecule does not have explicit Hs. Consider calling AddHs()\n"
     ]
    },
    {
     "name": "stdout",
     "output_type": "stream",
     "text": [
      "0\n",
      "no conformer for MolPort-003-163-466\n",
      "0\n",
      "no conformer for MolPort-003-163-467\n"
     ]
    },
    {
     "name": "stderr",
     "output_type": "stream",
     "text": [
      "[15:50:56] Molecule does not have explicit Hs. Consider calling AddHs()\n",
      "[15:50:56] Molecule does not have explicit Hs. Consider calling AddHs()\n"
     ]
    },
    {
     "name": "stdout",
     "output_type": "stream",
     "text": [
      "0\n",
      "no conformer for MolPort-003-163-468\n"
     ]
    },
    {
     "name": "stderr",
     "output_type": "stream",
     "text": [
      "[15:50:57] Molecule does not have explicit Hs. Consider calling AddHs()\n"
     ]
    },
    {
     "name": "stdout",
     "output_type": "stream",
     "text": [
      "0\n",
      "no conformer for MolPort-003-163-469\n"
     ]
    },
    {
     "name": "stderr",
     "output_type": "stream",
     "text": [
      "[15:50:57] Molecule does not have explicit Hs. Consider calling AddHs()\n"
     ]
    },
    {
     "name": "stdout",
     "output_type": "stream",
     "text": [
      "0\n",
      "no conformer for MolPort-003-163-470\n",
      "0\n",
      "no conformer for MolPort-003-163-471\n"
     ]
    },
    {
     "name": "stderr",
     "output_type": "stream",
     "text": [
      "[15:50:57] Molecule does not have explicit Hs. Consider calling AddHs()\n",
      "[15:50:57] Molecule does not have explicit Hs. Consider calling AddHs()\n"
     ]
    },
    {
     "name": "stdout",
     "output_type": "stream",
     "text": [
      "0\n",
      "no conformer for MolPort-003-163-476\n",
      "0\n",
      "no conformer for MolPort-003-163-473\n"
     ]
    },
    {
     "name": "stderr",
     "output_type": "stream",
     "text": [
      "[15:50:58] Molecule does not have explicit Hs. Consider calling AddHs()\n",
      "[15:50:58] Molecule does not have explicit Hs. Consider calling AddHs()\n"
     ]
    },
    {
     "name": "stdout",
     "output_type": "stream",
     "text": [
      "0\n",
      "no conformer for MolPort-003-163-474\n",
      "0\n",
      "no conformer for MolPort-003-163-475\n"
     ]
    },
    {
     "name": "stderr",
     "output_type": "stream",
     "text": [
      "[15:50:58] Molecule does not have explicit Hs. Consider calling AddHs()\n",
      "[15:50:58] Molecule does not have explicit Hs. Consider calling AddHs()\n"
     ]
    },
    {
     "name": "stdout",
     "output_type": "stream",
     "text": [
      "0\n",
      "no conformer for MolPort-003-163-477\n",
      "0\n",
      "no conformer for MolPort-003-163-478\n"
     ]
    },
    {
     "name": "stderr",
     "output_type": "stream",
     "text": [
      "[15:50:58] Molecule does not have explicit Hs. Consider calling AddHs()\n",
      "[15:50:59] Molecule does not have explicit Hs. Consider calling AddHs()\n"
     ]
    },
    {
     "name": "stdout",
     "output_type": "stream",
     "text": [
      "0\n",
      "no conformer for MolPort-003-163-479\n",
      "0\n",
      "no conformer for MolPort-003-163-480\n"
     ]
    },
    {
     "name": "stderr",
     "output_type": "stream",
     "text": [
      "[15:50:59] Molecule does not have explicit Hs. Consider calling AddHs()\n",
      "[15:50:59] Molecule does not have explicit Hs. Consider calling AddHs()\n"
     ]
    },
    {
     "name": "stdout",
     "output_type": "stream",
     "text": [
      "0\n",
      "no conformer for MolPort-003-163-481\n"
     ]
    },
    {
     "name": "stderr",
     "output_type": "stream",
     "text": [
      "[15:50:59] Molecule does not have explicit Hs. Consider calling AddHs()\n"
     ]
    },
    {
     "name": "stdout",
     "output_type": "stream",
     "text": [
      "0\n",
      "no conformer for MolPort-003-172-543\n"
     ]
    },
    {
     "name": "stderr",
     "output_type": "stream",
     "text": [
      "[15:51:00] Molecule does not have explicit Hs. Consider calling AddHs()\n"
     ]
    },
    {
     "name": "stdout",
     "output_type": "stream",
     "text": [
      "0\n",
      "no conformer for MolPort-003-170-087\n"
     ]
    },
    {
     "name": "stderr",
     "output_type": "stream",
     "text": [
      "[15:51:00] Molecule does not have explicit Hs. Consider calling AddHs()\n"
     ]
    },
    {
     "name": "stdout",
     "output_type": "stream",
     "text": [
      "0\n",
      "no conformer for MolPort-003-170-092\n"
     ]
    },
    {
     "name": "stderr",
     "output_type": "stream",
     "text": [
      "[15:51:00] Molecule does not have explicit Hs. Consider calling AddHs()\n"
     ]
    },
    {
     "name": "stdout",
     "output_type": "stream",
     "text": [
      "0\n",
      "no conformer for MolPort-003-170-203\n"
     ]
    },
    {
     "name": "stderr",
     "output_type": "stream",
     "text": [
      "[15:51:00] Molecule does not have explicit Hs. Consider calling AddHs()\n"
     ]
    },
    {
     "name": "stdout",
     "output_type": "stream",
     "text": [
      "0\n",
      "no conformer for MolPort-003-170-100\n",
      "0\n",
      "no conformer for MolPort-003-170-122\n"
     ]
    },
    {
     "name": "stderr",
     "output_type": "stream",
     "text": [
      "[15:51:01] Molecule does not have explicit Hs. Consider calling AddHs()\n",
      "[15:51:01] Molecule does not have explicit Hs. Consider calling AddHs()\n"
     ]
    },
    {
     "name": "stdout",
     "output_type": "stream",
     "text": [
      "0\n",
      "no conformer for MolPort-003-170-169\n"
     ]
    },
    {
     "name": "stderr",
     "output_type": "stream",
     "text": [
      "[15:51:01] Molecule does not have explicit Hs. Consider calling AddHs()\n"
     ]
    },
    {
     "name": "stdout",
     "output_type": "stream",
     "text": [
      "0\n",
      "no conformer for MolPort-003-170-187\n"
     ]
    },
    {
     "name": "stderr",
     "output_type": "stream",
     "text": [
      "[15:51:01] Molecule does not have explicit Hs. Consider calling AddHs()\n"
     ]
    },
    {
     "name": "stdout",
     "output_type": "stream",
     "text": [
      "0\n",
      "no conformer for MolPort-003-170-204\n",
      "0\n",
      "no conformer for MolPort-003-170-214\n"
     ]
    },
    {
     "name": "stderr",
     "output_type": "stream",
     "text": [
      "[15:51:02] Molecule does not have explicit Hs. Consider calling AddHs()\n",
      "[15:51:02] Molecule does not have explicit Hs. Consider calling AddHs()\n"
     ]
    },
    {
     "name": "stdout",
     "output_type": "stream",
     "text": [
      "0\n",
      "no conformer for MolPort-003-170-353\n"
     ]
    },
    {
     "name": "stderr",
     "output_type": "stream",
     "text": [
      "[15:51:02] Molecule does not have explicit Hs. Consider calling AddHs()\n"
     ]
    },
    {
     "name": "stdout",
     "output_type": "stream",
     "text": [
      "0\n",
      "no conformer for MolPort-003-170-363\n"
     ]
    },
    {
     "name": "stderr",
     "output_type": "stream",
     "text": [
      "[15:51:02] Molecule does not have explicit Hs. Consider calling AddHs()\n"
     ]
    },
    {
     "name": "stdout",
     "output_type": "stream",
     "text": [
      "0\n",
      "no conformer for MolPort-003-170-365\n"
     ]
    },
    {
     "name": "stderr",
     "output_type": "stream",
     "text": [
      "[15:51:03] Molecule does not have explicit Hs. Consider calling AddHs()\n"
     ]
    },
    {
     "name": "stdout",
     "output_type": "stream",
     "text": [
      "0\n",
      "no conformer for MolPort-003-170-385\n"
     ]
    },
    {
     "name": "stderr",
     "output_type": "stream",
     "text": [
      "[15:51:03] Molecule does not have explicit Hs. Consider calling AddHs()\n"
     ]
    },
    {
     "name": "stdout",
     "output_type": "stream",
     "text": [
      "0\n",
      "no conformer for MolPort-003-170-454\n",
      "0\n",
      "no conformer for MolPort-003-170-513\n"
     ]
    },
    {
     "name": "stderr",
     "output_type": "stream",
     "text": [
      "[15:51:03] Molecule does not have explicit Hs. Consider calling AddHs()\n",
      "[15:51:04] Molecule does not have explicit Hs. Consider calling AddHs()\n"
     ]
    },
    {
     "name": "stdout",
     "output_type": "stream",
     "text": [
      "0\n",
      "no conformer for MolPort-003-170-574\n"
     ]
    },
    {
     "name": "stderr",
     "output_type": "stream",
     "text": [
      "[15:51:04] Molecule does not have explicit Hs. Consider calling AddHs()\n"
     ]
    },
    {
     "name": "stdout",
     "output_type": "stream",
     "text": [
      "0\n",
      "no conformer for MolPort-003-170-677\n",
      "0\n",
      "no conformer for MolPort-003-170-763\n"
     ]
    },
    {
     "name": "stderr",
     "output_type": "stream",
     "text": [
      "[15:51:04] Molecule does not have explicit Hs. Consider calling AddHs()\n",
      "[15:51:04] Molecule does not have explicit Hs. Consider calling AddHs()\n"
     ]
    },
    {
     "name": "stdout",
     "output_type": "stream",
     "text": [
      "0\n",
      "no conformer for MolPort-003-170-813\n"
     ]
    },
    {
     "name": "stderr",
     "output_type": "stream",
     "text": [
      "[15:51:04] Molecule does not have explicit Hs. Consider calling AddHs()\n"
     ]
    },
    {
     "name": "stdout",
     "output_type": "stream",
     "text": [
      "0\n",
      "no conformer for MolPort-003-170-821\n",
      "0\n",
      "no conformer for MolPort-003-171-681\n"
     ]
    },
    {
     "name": "stderr",
     "output_type": "stream",
     "text": [
      "[15:51:05] Molecule does not have explicit Hs. Consider calling AddHs()\n",
      "[15:51:05] Molecule does not have explicit Hs. Consider calling AddHs()\n"
     ]
    },
    {
     "name": "stdout",
     "output_type": "stream",
     "text": [
      "0\n",
      "no conformer for MolPort-003-171-733\n",
      "0\n",
      "no conformer for MolPort-003-171-745\n"
     ]
    },
    {
     "name": "stderr",
     "output_type": "stream",
     "text": [
      "[15:51:05] Molecule does not have explicit Hs. Consider calling AddHs()\n",
      "[15:51:05] Molecule does not have explicit Hs. Consider calling AddHs()\n"
     ]
    },
    {
     "name": "stdout",
     "output_type": "stream",
     "text": [
      "0\n",
      "no conformer for MolPort-003-171-786\n",
      "0\n",
      "no conformer for MolPort-003-171-804\n"
     ]
    },
    {
     "name": "stderr",
     "output_type": "stream",
     "text": [
      "[15:51:05] Molecule does not have explicit Hs. Consider calling AddHs()\n",
      "[15:51:05] Molecule does not have explicit Hs. Consider calling AddHs()\n"
     ]
    },
    {
     "name": "stdout",
     "output_type": "stream",
     "text": [
      "0\n",
      "no conformer for MolPort-003-171-903\n"
     ]
    },
    {
     "name": "stderr",
     "output_type": "stream",
     "text": [
      "[15:51:05] Molecule does not have explicit Hs. Consider calling AddHs()\n"
     ]
    },
    {
     "name": "stdout",
     "output_type": "stream",
     "text": [
      "0\n",
      "no conformer for MolPort-003-171-909\n"
     ]
    },
    {
     "name": "stderr",
     "output_type": "stream",
     "text": [
      "[15:51:06] Molecule does not have explicit Hs. Consider calling AddHs()\n"
     ]
    },
    {
     "name": "stdout",
     "output_type": "stream",
     "text": [
      "0\n",
      "no conformer for MolPort-003-171-917\n"
     ]
    },
    {
     "name": "stderr",
     "output_type": "stream",
     "text": [
      "[15:51:06] Molecule does not have explicit Hs. Consider calling AddHs()\n"
     ]
    },
    {
     "name": "stdout",
     "output_type": "stream",
     "text": [
      "0\n",
      "no conformer for MolPort-003-171-935\n"
     ]
    },
    {
     "name": "stderr",
     "output_type": "stream",
     "text": [
      "[15:51:06] Molecule does not have explicit Hs. Consider calling AddHs()\n"
     ]
    },
    {
     "name": "stdout",
     "output_type": "stream",
     "text": [
      "0\n",
      "no conformer for MolPort-003-171-936\n"
     ]
    },
    {
     "name": "stderr",
     "output_type": "stream",
     "text": [
      "[15:51:07] Molecule does not have explicit Hs. Consider calling AddHs()\n"
     ]
    },
    {
     "name": "stdout",
     "output_type": "stream",
     "text": [
      "0\n",
      "no conformer for MolPort-003-171-954\n"
     ]
    },
    {
     "name": "stderr",
     "output_type": "stream",
     "text": [
      "[15:51:07] Molecule does not have explicit Hs. Consider calling AddHs()\n"
     ]
    },
    {
     "name": "stdout",
     "output_type": "stream",
     "text": [
      "0\n",
      "no conformer for MolPort-003-458-702\n",
      "0\n",
      "no conformer for MolPort-003-472-670\n"
     ]
    },
    {
     "name": "stderr",
     "output_type": "stream",
     "text": [
      "[15:51:07] Molecule does not have explicit Hs. Consider calling AddHs()\n",
      "[15:51:07] Molecule does not have explicit Hs. Consider calling AddHs()\n"
     ]
    },
    {
     "name": "stdout",
     "output_type": "stream",
     "text": [
      "0\n",
      "no conformer for MolPort-003-164-796\n"
     ]
    },
    {
     "name": "stderr",
     "output_type": "stream",
     "text": [
      "[15:51:08] Molecule does not have explicit Hs. Consider calling AddHs()\n"
     ]
    },
    {
     "name": "stdout",
     "output_type": "stream",
     "text": [
      "0\n",
      "no conformer for MolPort-003-172-237\n"
     ]
    },
    {
     "name": "stderr",
     "output_type": "stream",
     "text": [
      "[15:51:08] Molecule does not have explicit Hs. Consider calling AddHs()\n"
     ]
    },
    {
     "name": "stdout",
     "output_type": "stream",
     "text": [
      "0\n",
      "no conformer for MolPort-003-172-240\n",
      "0\n",
      "no conformer for MolPort-003-172-383\n"
     ]
    },
    {
     "name": "stderr",
     "output_type": "stream",
     "text": [
      "[15:51:08] Molecule does not have explicit Hs. Consider calling AddHs()\n",
      "[15:51:08] Molecule does not have explicit Hs. Consider calling AddHs()\n"
     ]
    },
    {
     "name": "stdout",
     "output_type": "stream",
     "text": [
      "0\n",
      "no conformer for MolPort-003-172-392\n",
      "0\n",
      "no conformer for MolPort-003-172-402\n"
     ]
    },
    {
     "name": "stderr",
     "output_type": "stream",
     "text": [
      "[15:51:09] Molecule does not have explicit Hs. Consider calling AddHs()\n",
      "[15:51:09] Molecule does not have explicit Hs. Consider calling AddHs()\n"
     ]
    },
    {
     "name": "stdout",
     "output_type": "stream",
     "text": [
      "0\n",
      "no conformer for MolPort-003-172-414\n",
      "0\n",
      "no conformer for MolPort-003-172-491\n"
     ]
    },
    {
     "name": "stderr",
     "output_type": "stream",
     "text": [
      "[15:51:09] Molecule does not have explicit Hs. Consider calling AddHs()\n",
      "[15:51:09] Molecule does not have explicit Hs. Consider calling AddHs()\n"
     ]
    },
    {
     "name": "stdout",
     "output_type": "stream",
     "text": [
      "0\n",
      "no conformer for MolPort-003-172-492\n"
     ]
    },
    {
     "name": "stderr",
     "output_type": "stream",
     "text": [
      "[15:51:09] Molecule does not have explicit Hs. Consider calling AddHs()\n"
     ]
    },
    {
     "name": "stdout",
     "output_type": "stream",
     "text": [
      "0\n",
      "no conformer for MolPort-003-172-493\n"
     ]
    },
    {
     "name": "stderr",
     "output_type": "stream",
     "text": [
      "[15:51:10] Molecule does not have explicit Hs. Consider calling AddHs()\n"
     ]
    },
    {
     "name": "stdout",
     "output_type": "stream",
     "text": [
      "0\n",
      "no conformer for MolPort-003-172-494\n",
      "0\n",
      "no conformer for MolPort-003-172-495\n"
     ]
    },
    {
     "name": "stderr",
     "output_type": "stream",
     "text": [
      "[15:51:10] Molecule does not have explicit Hs. Consider calling AddHs()\n",
      "[15:51:10] Molecule does not have explicit Hs. Consider calling AddHs()\n"
     ]
    },
    {
     "name": "stdout",
     "output_type": "stream",
     "text": [
      "0\n",
      "no conformer for MolPort-003-172-496\n",
      "0\n",
      "no conformer for MolPort-003-172-497\n"
     ]
    },
    {
     "name": "stderr",
     "output_type": "stream",
     "text": [
      "[15:51:10] Molecule does not have explicit Hs. Consider calling AddHs()\n",
      "[15:51:10] Molecule does not have explicit Hs. Consider calling AddHs()\n"
     ]
    },
    {
     "name": "stdout",
     "output_type": "stream",
     "text": [
      "0\n",
      "no conformer for MolPort-003-172-498\n",
      "0\n",
      "no conformer for MolPort-003-172-530\n"
     ]
    },
    {
     "name": "stderr",
     "output_type": "stream",
     "text": [
      "[15:51:11] Molecule does not have explicit Hs. Consider calling AddHs()\n",
      "[15:51:11] Molecule does not have explicit Hs. Consider calling AddHs()\n"
     ]
    },
    {
     "name": "stdout",
     "output_type": "stream",
     "text": [
      "0\n",
      "no conformer for MolPort-003-172-535\n"
     ]
    },
    {
     "name": "stderr",
     "output_type": "stream",
     "text": [
      "[15:51:11] Molecule does not have explicit Hs. Consider calling AddHs()\n"
     ]
    },
    {
     "name": "stdout",
     "output_type": "stream",
     "text": [
      "0\n",
      "no conformer for MolPort-003-172-551\n"
     ]
    },
    {
     "name": "stderr",
     "output_type": "stream",
     "text": [
      "[15:51:12] Molecule does not have explicit Hs. Consider calling AddHs()\n"
     ]
    },
    {
     "name": "stdout",
     "output_type": "stream",
     "text": [
      "0\n",
      "no conformer for MolPort-003-172-554\n"
     ]
    },
    {
     "name": "stderr",
     "output_type": "stream",
     "text": [
      "[15:51:12] Molecule does not have explicit Hs. Consider calling AddHs()\n"
     ]
    },
    {
     "name": "stdout",
     "output_type": "stream",
     "text": [
      "0\n",
      "no conformer for MolPort-003-176-528\n"
     ]
    },
    {
     "name": "stderr",
     "output_type": "stream",
     "text": [
      "[15:51:12] Molecule does not have explicit Hs. Consider calling AddHs()\n"
     ]
    },
    {
     "name": "stdout",
     "output_type": "stream",
     "text": [
      "0\n",
      "no conformer for MolPort-003-176-626\n"
     ]
    },
    {
     "name": "stderr",
     "output_type": "stream",
     "text": [
      "[15:51:12] Molecule does not have explicit Hs. Consider calling AddHs()\n"
     ]
    },
    {
     "name": "stdout",
     "output_type": "stream",
     "text": [
      "0\n",
      "no conformer for MolPort-003-176-678\n",
      "0\n",
      "no conformer for MolPort-003-176-783\n"
     ]
    },
    {
     "name": "stderr",
     "output_type": "stream",
     "text": [
      "[15:51:13] Molecule does not have explicit Hs. Consider calling AddHs()\n",
      "[15:51:13] Molecule does not have explicit Hs. Consider calling AddHs()\n"
     ]
    },
    {
     "name": "stdout",
     "output_type": "stream",
     "text": [
      "0\n",
      "no conformer for MolPort-003-176-784\n",
      "0\n",
      "no conformer for MolPort-003-176-785\n"
     ]
    },
    {
     "name": "stderr",
     "output_type": "stream",
     "text": [
      "[15:51:13] Molecule does not have explicit Hs. Consider calling AddHs()\n",
      "[15:51:13] Molecule does not have explicit Hs. Consider calling AddHs()\n"
     ]
    },
    {
     "name": "stdout",
     "output_type": "stream",
     "text": [
      "0\n",
      "no conformer for MolPort-003-176-787\n",
      "0\n",
      "no conformer for MolPort-003-176-788\n"
     ]
    },
    {
     "name": "stderr",
     "output_type": "stream",
     "text": [
      "[15:51:13] Molecule does not have explicit Hs. Consider calling AddHs()\n",
      "[15:51:14] Molecule does not have explicit Hs. Consider calling AddHs()\n"
     ]
    },
    {
     "name": "stdout",
     "output_type": "stream",
     "text": [
      "0\n",
      "no conformer for MolPort-003-176-789\n"
     ]
    },
    {
     "name": "stderr",
     "output_type": "stream",
     "text": [
      "[15:51:14] Molecule does not have explicit Hs. Consider calling AddHs()\n"
     ]
    },
    {
     "name": "stdout",
     "output_type": "stream",
     "text": [
      "0\n",
      "no conformer for MolPort-003-176-790\n",
      "0\n",
      "no conformer for MolPort-003-176-791\n"
     ]
    },
    {
     "name": "stderr",
     "output_type": "stream",
     "text": [
      "[15:51:14] Molecule does not have explicit Hs. Consider calling AddHs()\n",
      "[15:51:14] Molecule does not have explicit Hs. Consider calling AddHs()\n"
     ]
    },
    {
     "name": "stdout",
     "output_type": "stream",
     "text": [
      "0\n",
      "no conformer for MolPort-003-176-792\n",
      "0\n",
      "no conformer for MolPort-003-176-793\n"
     ]
    },
    {
     "name": "stderr",
     "output_type": "stream",
     "text": [
      "[15:51:14] Molecule does not have explicit Hs. Consider calling AddHs()\n",
      "[15:51:15] Molecule does not have explicit Hs. Consider calling AddHs()\n"
     ]
    },
    {
     "name": "stdout",
     "output_type": "stream",
     "text": [
      "0\n",
      "no conformer for MolPort-003-176-834\n",
      "0\n",
      "no conformer for MolPort-003-176-835\n"
     ]
    },
    {
     "name": "stderr",
     "output_type": "stream",
     "text": [
      "[15:51:15] Molecule does not have explicit Hs. Consider calling AddHs()\n",
      "[15:51:15] Molecule does not have explicit Hs. Consider calling AddHs()\n"
     ]
    },
    {
     "name": "stdout",
     "output_type": "stream",
     "text": [
      "0\n",
      "no conformer for MolPort-003-176-836\n",
      "0\n",
      "no conformer for MolPort-003-176-837\n"
     ]
    },
    {
     "name": "stderr",
     "output_type": "stream",
     "text": [
      "[15:51:15] Molecule does not have explicit Hs. Consider calling AddHs()\n",
      "[15:51:15] Molecule does not have explicit Hs. Consider calling AddHs()\n"
     ]
    },
    {
     "name": "stdout",
     "output_type": "stream",
     "text": [
      "0\n",
      "no conformer for MolPort-003-176-838\n",
      "0\n",
      "no conformer for MolPort-003-324-335\n"
     ]
    },
    {
     "name": "stderr",
     "output_type": "stream",
     "text": [
      "[15:51:16] Molecule does not have explicit Hs. Consider calling AddHs()\n",
      "[15:51:16] Molecule does not have explicit Hs. Consider calling AddHs()\n"
     ]
    },
    {
     "name": "stdout",
     "output_type": "stream",
     "text": [
      "0\n",
      "no conformer for MolPort-003-356-024\n",
      "0\n",
      "no conformer for MolPort-003-356-026\n"
     ]
    },
    {
     "name": "stderr",
     "output_type": "stream",
     "text": [
      "[15:51:16] Molecule does not have explicit Hs. Consider calling AddHs()\n",
      "[15:51:16] Molecule does not have explicit Hs. Consider calling AddHs()\n"
     ]
    },
    {
     "name": "stdout",
     "output_type": "stream",
     "text": [
      "0\n",
      "no conformer for MolPort-003-356-029\n",
      "0\n",
      "no conformer for MolPort-003-358-019\n"
     ]
    },
    {
     "name": "stderr",
     "output_type": "stream",
     "text": [
      "[15:51:16] Molecule does not have explicit Hs. Consider calling AddHs()\n",
      "[15:51:16] Molecule does not have explicit Hs. Consider calling AddHs()\n"
     ]
    },
    {
     "name": "stdout",
     "output_type": "stream",
     "text": [
      "0\n",
      "no conformer for MolPort-003-358-315\n",
      "0\n",
      "no conformer for MolPort-003-358-316\n"
     ]
    },
    {
     "name": "stderr",
     "output_type": "stream",
     "text": [
      "[15:51:16] Molecule does not have explicit Hs. Consider calling AddHs()\n",
      "[15:51:16] Molecule does not have explicit Hs. Consider calling AddHs()\n"
     ]
    },
    {
     "name": "stdout",
     "output_type": "stream",
     "text": [
      "0\n",
      "no conformer for MolPort-003-358-317\n",
      "0\n",
      "no conformer for MolPort-003-358-318\n"
     ]
    },
    {
     "name": "stderr",
     "output_type": "stream",
     "text": [
      "[15:51:17] Molecule does not have explicit Hs. Consider calling AddHs()\n",
      "[15:51:17] Molecule does not have explicit Hs. Consider calling AddHs()\n"
     ]
    },
    {
     "name": "stdout",
     "output_type": "stream",
     "text": [
      "0\n",
      "no conformer for MolPort-003-358-369\n",
      "0\n",
      "no conformer for MolPort-003-358-370\n"
     ]
    },
    {
     "name": "stderr",
     "output_type": "stream",
     "text": [
      "[15:51:17] Molecule does not have explicit Hs. Consider calling AddHs()\n",
      "[15:51:17] Molecule does not have explicit Hs. Consider calling AddHs()\n"
     ]
    },
    {
     "name": "stdout",
     "output_type": "stream",
     "text": [
      "0\n",
      "no conformer for MolPort-003-358-371\n",
      "0\n",
      "no conformer for MolPort-003-358-372\n"
     ]
    },
    {
     "name": "stderr",
     "output_type": "stream",
     "text": [
      "[15:51:17] Molecule does not have explicit Hs. Consider calling AddHs()\n",
      "[15:51:17] Molecule does not have explicit Hs. Consider calling AddHs()\n"
     ]
    },
    {
     "name": "stdout",
     "output_type": "stream",
     "text": [
      "0\n",
      "no conformer for MolPort-003-358-374\n",
      "0\n",
      "no conformer for MolPort-003-358-375\n"
     ]
    },
    {
     "name": "stderr",
     "output_type": "stream",
     "text": [
      "[15:51:17] Molecule does not have explicit Hs. Consider calling AddHs()\n",
      "[15:51:18] Molecule does not have explicit Hs. Consider calling AddHs()\n"
     ]
    },
    {
     "name": "stdout",
     "output_type": "stream",
     "text": [
      "0\n",
      "no conformer for MolPort-003-358-376\n",
      "0\n",
      "no conformer for MolPort-003-358-394\n"
     ]
    },
    {
     "name": "stderr",
     "output_type": "stream",
     "text": [
      "[15:51:18] Molecule does not have explicit Hs. Consider calling AddHs()\n",
      "[15:51:18] Molecule does not have explicit Hs. Consider calling AddHs()\n"
     ]
    },
    {
     "name": "stdout",
     "output_type": "stream",
     "text": [
      "0\n",
      "no conformer for MolPort-003-358-395\n",
      "0\n",
      "no conformer for MolPort-003-358-396\n"
     ]
    },
    {
     "name": "stderr",
     "output_type": "stream",
     "text": [
      "[15:51:18] Molecule does not have explicit Hs. Consider calling AddHs()\n",
      "[15:51:19] Molecule does not have explicit Hs. Consider calling AddHs()\n"
     ]
    },
    {
     "name": "stdout",
     "output_type": "stream",
     "text": [
      "0\n",
      "no conformer for MolPort-003-358-397\n",
      "0\n",
      "no conformer for MolPort-003-358-399\n"
     ]
    },
    {
     "name": "stderr",
     "output_type": "stream",
     "text": [
      "[15:51:19] Molecule does not have explicit Hs. Consider calling AddHs()\n",
      "[15:51:19] Molecule does not have explicit Hs. Consider calling AddHs()\n"
     ]
    },
    {
     "name": "stdout",
     "output_type": "stream",
     "text": [
      "0\n",
      "no conformer for MolPort-003-358-437\n"
     ]
    },
    {
     "name": "stderr",
     "output_type": "stream",
     "text": [
      "[15:51:19] Molecule does not have explicit Hs. Consider calling AddHs()\n"
     ]
    },
    {
     "name": "stdout",
     "output_type": "stream",
     "text": [
      "0\n",
      "no conformer for MolPort-003-358-438\n"
     ]
    },
    {
     "name": "stderr",
     "output_type": "stream",
     "text": [
      "[15:51:19] Molecule does not have explicit Hs. Consider calling AddHs()\n"
     ]
    },
    {
     "name": "stdout",
     "output_type": "stream",
     "text": [
      "0\n",
      "no conformer for MolPort-003-372-459\n",
      "0\n",
      "no conformer for MolPort-003-375-429\n"
     ]
    },
    {
     "name": "stderr",
     "output_type": "stream",
     "text": [
      "[15:51:20] Molecule does not have explicit Hs. Consider calling AddHs()\n",
      "[15:51:20] Molecule does not have explicit Hs. Consider calling AddHs()\n"
     ]
    },
    {
     "name": "stdout",
     "output_type": "stream",
     "text": [
      "0\n",
      "no conformer for MolPort-003-375-431\n",
      "0\n",
      "no conformer for MolPort-003-375-446\n"
     ]
    },
    {
     "name": "stderr",
     "output_type": "stream",
     "text": [
      "[15:51:20] Molecule does not have explicit Hs. Consider calling AddHs()\n",
      "[15:51:20] Molecule does not have explicit Hs. Consider calling AddHs()\n"
     ]
    },
    {
     "name": "stdout",
     "output_type": "stream",
     "text": [
      "0\n",
      "no conformer for MolPort-003-375-480\n"
     ]
    },
    {
     "name": "stderr",
     "output_type": "stream",
     "text": [
      "[15:51:20] Molecule does not have explicit Hs. Consider calling AddHs()\n"
     ]
    },
    {
     "name": "stdout",
     "output_type": "stream",
     "text": [
      "0\n",
      "no conformer for MolPort-003-376-084\n",
      "0\n",
      "no conformer for MolPort-003-376-107\n"
     ]
    },
    {
     "name": "stderr",
     "output_type": "stream",
     "text": [
      "[15:51:20] Molecule does not have explicit Hs. Consider calling AddHs()\n",
      "[15:51:21] Molecule does not have explicit Hs. Consider calling AddHs()\n"
     ]
    },
    {
     "name": "stdout",
     "output_type": "stream",
     "text": [
      "0\n",
      "no conformer for MolPort-003-376-122\n"
     ]
    },
    {
     "name": "stderr",
     "output_type": "stream",
     "text": [
      "[15:51:21] Molecule does not have explicit Hs. Consider calling AddHs()\n"
     ]
    },
    {
     "name": "stdout",
     "output_type": "stream",
     "text": [
      "0\n",
      "no conformer for MolPort-003-376-123\n"
     ]
    },
    {
     "name": "stderr",
     "output_type": "stream",
     "text": [
      "[15:51:21] Molecule does not have explicit Hs. Consider calling AddHs()\n"
     ]
    },
    {
     "name": "stdout",
     "output_type": "stream",
     "text": [
      "0\n",
      "no conformer for MolPort-003-387-864\n",
      "0\n",
      "no conformer for MolPort-003-422-352\n"
     ]
    },
    {
     "name": "stderr",
     "output_type": "stream",
     "text": [
      "[15:51:21] Molecule does not have explicit Hs. Consider calling AddHs()\n",
      "[15:51:21] Molecule does not have explicit Hs. Consider calling AddHs()\n"
     ]
    },
    {
     "name": "stdout",
     "output_type": "stream",
     "text": [
      "0\n",
      "no conformer for MolPort-003-424-260\n",
      "0\n",
      "no conformer for MolPort-003-425-980\n"
     ]
    },
    {
     "name": "stderr",
     "output_type": "stream",
     "text": [
      "[15:51:21] Molecule does not have explicit Hs. Consider calling AddHs()\n",
      "[15:51:22] Molecule does not have explicit Hs. Consider calling AddHs()\n"
     ]
    },
    {
     "name": "stdout",
     "output_type": "stream",
     "text": [
      "0\n",
      "no conformer for MolPort-003-431-208\n",
      "0\n",
      "no conformer for MolPort-003-431-684\n"
     ]
    },
    {
     "name": "stderr",
     "output_type": "stream",
     "text": [
      "[15:51:22] Molecule does not have explicit Hs. Consider calling AddHs()\n",
      "[15:51:22] Molecule does not have explicit Hs. Consider calling AddHs()\n"
     ]
    },
    {
     "name": "stdout",
     "output_type": "stream",
     "text": [
      "0\n",
      "no conformer for MolPort-003-431-731\n",
      "0\n",
      "no conformer for MolPort-003-432-595\n"
     ]
    },
    {
     "name": "stderr",
     "output_type": "stream",
     "text": [
      "[15:51:22] Molecule does not have explicit Hs. Consider calling AddHs()\n",
      "[15:51:22] Molecule does not have explicit Hs. Consider calling AddHs()\n"
     ]
    },
    {
     "name": "stdout",
     "output_type": "stream",
     "text": [
      "0\n",
      "no conformer for MolPort-003-434-653\n"
     ]
    },
    {
     "name": "stderr",
     "output_type": "stream",
     "text": [
      "[15:51:22] Molecule does not have explicit Hs. Consider calling AddHs()\n"
     ]
    },
    {
     "name": "stdout",
     "output_type": "stream",
     "text": [
      "0\n",
      "no conformer for MolPort-003-435-099\n",
      "0\n",
      "no conformer for MolPort-003-436-207\n",
      "0\n",
      "no conformer for MolPort-003-436-303\n"
     ]
    },
    {
     "name": "stderr",
     "output_type": "stream",
     "text": [
      "[15:51:22] Molecule does not have explicit Hs. Consider calling AddHs()\n",
      "[15:51:23] Molecule does not have explicit Hs. Consider calling AddHs()\n",
      "[15:51:23] Molecule does not have explicit Hs. Consider calling AddHs()\n"
     ]
    },
    {
     "name": "stdout",
     "output_type": "stream",
     "text": [
      "0\n",
      "no conformer for MolPort-003-451-829\n",
      "0\n",
      "no conformer for MolPort-003-451-901\n"
     ]
    },
    {
     "name": "stderr",
     "output_type": "stream",
     "text": [
      "[15:51:23] Molecule does not have explicit Hs. Consider calling AddHs()\n",
      "[15:51:23] Molecule does not have explicit Hs. Consider calling AddHs()\n"
     ]
    },
    {
     "name": "stdout",
     "output_type": "stream",
     "text": [
      "0\n",
      "no conformer for MolPort-003-451-903\n",
      "0\n",
      "no conformer for MolPort-003-453-112\n"
     ]
    },
    {
     "name": "stderr",
     "output_type": "stream",
     "text": [
      "[15:51:23] Molecule does not have explicit Hs. Consider calling AddHs()\n",
      "[15:51:23] Molecule does not have explicit Hs. Consider calling AddHs()\n"
     ]
    },
    {
     "name": "stdout",
     "output_type": "stream",
     "text": [
      "0\n",
      "no conformer for MolPort-003-453-224\n",
      "0\n",
      "no conformer for MolPort-003-458-634\n"
     ]
    },
    {
     "name": "stderr",
     "output_type": "stream",
     "text": [
      "[15:51:23] Molecule does not have explicit Hs. Consider calling AddHs()\n",
      "[15:51:24] Molecule does not have explicit Hs. Consider calling AddHs()\n"
     ]
    },
    {
     "name": "stdout",
     "output_type": "stream",
     "text": [
      "0\n",
      "no conformer for MolPort-003-458-857\n",
      "0\n",
      "no conformer for MolPort-003-458-904\n"
     ]
    },
    {
     "name": "stderr",
     "output_type": "stream",
     "text": [
      "[15:51:24] Molecule does not have explicit Hs. Consider calling AddHs()\n",
      "[15:51:24] Molecule does not have explicit Hs. Consider calling AddHs()\n"
     ]
    },
    {
     "name": "stdout",
     "output_type": "stream",
     "text": [
      "0\n",
      "no conformer for MolPort-003-458-919\n"
     ]
    },
    {
     "name": "stderr",
     "output_type": "stream",
     "text": [
      "[15:51:24] Molecule does not have explicit Hs. Consider calling AddHs()\n"
     ]
    },
    {
     "name": "stdout",
     "output_type": "stream",
     "text": [
      "0\n",
      "no conformer for MolPort-003-460-505\n",
      "0\n",
      "no conformer for MolPort-003-460-539\n"
     ]
    },
    {
     "name": "stderr",
     "output_type": "stream",
     "text": [
      "[15:51:24] Molecule does not have explicit Hs. Consider calling AddHs()\n",
      "[15:51:25] Molecule does not have explicit Hs. Consider calling AddHs()\n"
     ]
    },
    {
     "name": "stdout",
     "output_type": "stream",
     "text": [
      "0\n",
      "no conformer for MolPort-003-462-492\n",
      "0\n",
      "no conformer for MolPort-003-462-889\n"
     ]
    },
    {
     "name": "stderr",
     "output_type": "stream",
     "text": [
      "[15:51:25] Molecule does not have explicit Hs. Consider calling AddHs()\n",
      "[15:51:25] Molecule does not have explicit Hs. Consider calling AddHs()\n"
     ]
    },
    {
     "name": "stdout",
     "output_type": "stream",
     "text": [
      "0\n",
      "no conformer for MolPort-003-462-900\n"
     ]
    },
    {
     "name": "stderr",
     "output_type": "stream",
     "text": [
      "[15:51:25] Molecule does not have explicit Hs. Consider calling AddHs()\n"
     ]
    },
    {
     "name": "stdout",
     "output_type": "stream",
     "text": [
      "0\n",
      "no conformer for MolPort-003-463-982\n"
     ]
    },
    {
     "name": "stderr",
     "output_type": "stream",
     "text": [
      "[15:51:26] Molecule does not have explicit Hs. Consider calling AddHs()\n",
      "[15:51:26] Molecule does not have explicit Hs. Consider calling AddHs()\n"
     ]
    },
    {
     "name": "stdout",
     "output_type": "stream",
     "text": [
      "0\n",
      "no conformer for MolPort-003-464-020\n",
      "0\n",
      "no conformer for MolPort-003-464-023\n"
     ]
    },
    {
     "name": "stderr",
     "output_type": "stream",
     "text": [
      "[15:51:26] Molecule does not have explicit Hs. Consider calling AddHs()\n"
     ]
    },
    {
     "name": "stdout",
     "output_type": "stream",
     "text": [
      "0\n",
      "no conformer for MolPort-003-464-042\n",
      "0\n",
      "no conformer for MolPort-003-465-772\n"
     ]
    },
    {
     "name": "stderr",
     "output_type": "stream",
     "text": [
      "[15:51:26] Molecule does not have explicit Hs. Consider calling AddHs()\n",
      "[15:51:27] Molecule does not have explicit Hs. Consider calling AddHs()\n"
     ]
    },
    {
     "name": "stdout",
     "output_type": "stream",
     "text": [
      "0\n",
      "no conformer for MolPort-003-465-774\n"
     ]
    },
    {
     "name": "stderr",
     "output_type": "stream",
     "text": [
      "[15:51:27] Molecule does not have explicit Hs. Consider calling AddHs()\n"
     ]
    },
    {
     "name": "stdout",
     "output_type": "stream",
     "text": [
      "0\n",
      "no conformer for MolPort-003-465-791\n",
      "0\n",
      "no conformer for MolPort-003-465-827\n"
     ]
    },
    {
     "name": "stderr",
     "output_type": "stream",
     "text": [
      "[15:51:27] Molecule does not have explicit Hs. Consider calling AddHs()\n",
      "[15:51:27] Molecule does not have explicit Hs. Consider calling AddHs()\n"
     ]
    },
    {
     "name": "stdout",
     "output_type": "stream",
     "text": [
      "0\n",
      "no conformer for MolPort-003-465-848\n",
      "0\n",
      "no conformer for MolPort-003-466-197\n"
     ]
    },
    {
     "name": "stderr",
     "output_type": "stream",
     "text": [
      "[15:51:28] Molecule does not have explicit Hs. Consider calling AddHs()\n",
      "[15:51:28] Molecule does not have explicit Hs. Consider calling AddHs()\n"
     ]
    },
    {
     "name": "stdout",
     "output_type": "stream",
     "text": [
      "0\n",
      "no conformer for MolPort-003-466-216\n"
     ]
    },
    {
     "name": "stderr",
     "output_type": "stream",
     "text": [
      "[15:51:28] Molecule does not have explicit Hs. Consider calling AddHs()\n"
     ]
    },
    {
     "name": "stdout",
     "output_type": "stream",
     "text": [
      "0\n",
      "no conformer for MolPort-003-466-221\n"
     ]
    },
    {
     "name": "stderr",
     "output_type": "stream",
     "text": [
      "[15:51:28] Molecule does not have explicit Hs. Consider calling AddHs()\n"
     ]
    },
    {
     "name": "stdout",
     "output_type": "stream",
     "text": [
      "0\n",
      "no conformer for MolPort-003-466-227\n"
     ]
    },
    {
     "name": "stderr",
     "output_type": "stream",
     "text": [
      "[15:51:29] Molecule does not have explicit Hs. Consider calling AddHs()\n"
     ]
    },
    {
     "name": "stdout",
     "output_type": "stream",
     "text": [
      "0\n",
      "no conformer for MolPort-003-466-233\n"
     ]
    },
    {
     "name": "stderr",
     "output_type": "stream",
     "text": [
      "[15:51:29] Molecule does not have explicit Hs. Consider calling AddHs()\n"
     ]
    },
    {
     "name": "stdout",
     "output_type": "stream",
     "text": [
      "0\n",
      "no conformer for MolPort-003-466-235\n",
      "0\n",
      "no conformer for MolPort-003-466-248\n"
     ]
    },
    {
     "name": "stderr",
     "output_type": "stream",
     "text": [
      "[15:51:30] Molecule does not have explicit Hs. Consider calling AddHs()\n",
      "[15:51:30] Molecule does not have explicit Hs. Consider calling AddHs()\n"
     ]
    },
    {
     "name": "stdout",
     "output_type": "stream",
     "text": [
      "0\n",
      "no conformer for MolPort-003-466-277\n"
     ]
    },
    {
     "name": "stderr",
     "output_type": "stream",
     "text": [
      "[15:51:30] Molecule does not have explicit Hs. Consider calling AddHs()\n"
     ]
    },
    {
     "name": "stdout",
     "output_type": "stream",
     "text": [
      "0\n",
      "no conformer for MolPort-003-466-292\n"
     ]
    },
    {
     "name": "stderr",
     "output_type": "stream",
     "text": [
      "[15:51:30] Molecule does not have explicit Hs. Consider calling AddHs()\n"
     ]
    },
    {
     "name": "stdout",
     "output_type": "stream",
     "text": [
      "0\n",
      "no conformer for MolPort-003-466-293\n"
     ]
    },
    {
     "name": "stderr",
     "output_type": "stream",
     "text": [
      "[15:51:31] Molecule does not have explicit Hs. Consider calling AddHs()\n"
     ]
    },
    {
     "name": "stdout",
     "output_type": "stream",
     "text": [
      "0\n",
      "no conformer for MolPort-003-466-299\n",
      "0\n",
      "no conformer for MolPort-003-466-300\n"
     ]
    },
    {
     "name": "stderr",
     "output_type": "stream",
     "text": [
      "[15:51:31] Molecule does not have explicit Hs. Consider calling AddHs()\n",
      "[15:51:31] Molecule does not have explicit Hs. Consider calling AddHs()\n"
     ]
    },
    {
     "name": "stdout",
     "output_type": "stream",
     "text": [
      "0\n",
      "no conformer for MolPort-003-470-780\n"
     ]
    },
    {
     "name": "stderr",
     "output_type": "stream",
     "text": [
      "[15:51:32] Molecule does not have explicit Hs. Consider calling AddHs()\n"
     ]
    },
    {
     "name": "stdout",
     "output_type": "stream",
     "text": [
      "0\n",
      "no conformer for MolPort-003-470-788\n"
     ]
    },
    {
     "name": "stderr",
     "output_type": "stream",
     "text": [
      "[15:51:32] Molecule does not have explicit Hs. Consider calling AddHs()\n"
     ]
    },
    {
     "name": "stdout",
     "output_type": "stream",
     "text": [
      "0\n",
      "no conformer for MolPort-003-470-792\n"
     ]
    },
    {
     "name": "stderr",
     "output_type": "stream",
     "text": [
      "[15:51:33] Molecule does not have explicit Hs. Consider calling AddHs()\n"
     ]
    },
    {
     "name": "stdout",
     "output_type": "stream",
     "text": [
      "0\n",
      "no conformer for MolPort-003-470-794\n"
     ]
    },
    {
     "name": "stderr",
     "output_type": "stream",
     "text": [
      "[15:51:33] Molecule does not have explicit Hs. Consider calling AddHs()\n"
     ]
    },
    {
     "name": "stdout",
     "output_type": "stream",
     "text": [
      "0\n",
      "no conformer for MolPort-003-470-800\n"
     ]
    },
    {
     "name": "stderr",
     "output_type": "stream",
     "text": [
      "[15:51:34] Molecule does not have explicit Hs. Consider calling AddHs()\n"
     ]
    },
    {
     "name": "stdout",
     "output_type": "stream",
     "text": [
      "0\n",
      "no conformer for MolPort-003-470-826\n",
      "0\n",
      "no conformer for MolPort-003-472-509\n"
     ]
    },
    {
     "name": "stderr",
     "output_type": "stream",
     "text": [
      "[15:51:34] Molecule does not have explicit Hs. Consider calling AddHs()\n",
      "[15:51:34] Molecule does not have explicit Hs. Consider calling AddHs()\n"
     ]
    },
    {
     "name": "stdout",
     "output_type": "stream",
     "text": [
      "0\n",
      "no conformer for MolPort-003-472-522\n"
     ]
    },
    {
     "name": "stderr",
     "output_type": "stream",
     "text": [
      "[15:51:34] Molecule does not have explicit Hs. Consider calling AddHs()\n"
     ]
    },
    {
     "name": "stdout",
     "output_type": "stream",
     "text": [
      "0\n",
      "no conformer for MolPort-003-472-531\n"
     ]
    },
    {
     "name": "stderr",
     "output_type": "stream",
     "text": [
      "[15:51:35] Molecule does not have explicit Hs. Consider calling AddHs()\n"
     ]
    },
    {
     "name": "stdout",
     "output_type": "stream",
     "text": [
      "0\n",
      "no conformer for MolPort-003-472-539\n"
     ]
    },
    {
     "name": "stderr",
     "output_type": "stream",
     "text": [
      "[15:51:35] Molecule does not have explicit Hs. Consider calling AddHs()\n"
     ]
    },
    {
     "name": "stdout",
     "output_type": "stream",
     "text": [
      "0\n",
      "no conformer for MolPort-003-472-547\n"
     ]
    },
    {
     "name": "stderr",
     "output_type": "stream",
     "text": [
      "[15:51:36] Molecule does not have explicit Hs. Consider calling AddHs()\n"
     ]
    },
    {
     "name": "stdout",
     "output_type": "stream",
     "text": [
      "0\n",
      "no conformer for MolPort-003-472-560\n"
     ]
    },
    {
     "name": "stderr",
     "output_type": "stream",
     "text": [
      "[15:51:36] Molecule does not have explicit Hs. Consider calling AddHs()\n"
     ]
    },
    {
     "name": "stdout",
     "output_type": "stream",
     "text": [
      "0\n",
      "no conformer for MolPort-003-472-564\n",
      "0\n",
      "no conformer for MolPort-003-472-581\n"
     ]
    },
    {
     "name": "stderr",
     "output_type": "stream",
     "text": [
      "[15:51:37] Molecule does not have explicit Hs. Consider calling AddHs()\n",
      "[15:51:37] Molecule does not have explicit Hs. Consider calling AddHs()\n"
     ]
    },
    {
     "name": "stdout",
     "output_type": "stream",
     "text": [
      "0\n",
      "no conformer for MolPort-003-472-622\n"
     ]
    },
    {
     "name": "stderr",
     "output_type": "stream",
     "text": [
      "[15:51:37] Molecule does not have explicit Hs. Consider calling AddHs()\n"
     ]
    },
    {
     "name": "stdout",
     "output_type": "stream",
     "text": [
      "0\n",
      "no conformer for MolPort-003-470-828\n",
      "0\n",
      "no conformer for MolPort-005-298-851\n"
     ]
    },
    {
     "name": "stderr",
     "output_type": "stream",
     "text": [
      "[15:51:38] Molecule does not have explicit Hs. Consider calling AddHs()\n",
      "[15:51:38] Molecule does not have explicit Hs. Consider calling AddHs()\n"
     ]
    },
    {
     "name": "stdout",
     "output_type": "stream",
     "text": [
      "0\n",
      "no conformer for MolPort-003-380-210\n"
     ]
    },
    {
     "name": "stderr",
     "output_type": "stream",
     "text": [
      "[15:51:38] Molecule does not have explicit Hs. Consider calling AddHs()\n"
     ]
    },
    {
     "name": "stdout",
     "output_type": "stream",
     "text": [
      "0\n",
      "no conformer for MolPort-003-380-423\n"
     ]
    },
    {
     "name": "stderr",
     "output_type": "stream",
     "text": [
      "[15:51:38] Molecule does not have explicit Hs. Consider calling AddHs()\n"
     ]
    },
    {
     "name": "stdout",
     "output_type": "stream",
     "text": [
      "0\n",
      "no conformer for MolPort-003-422-025\n",
      "0\n",
      "no conformer for MolPort-003-422-980\n"
     ]
    },
    {
     "name": "stderr",
     "output_type": "stream",
     "text": [
      "[15:51:39] Molecule does not have explicit Hs. Consider calling AddHs()\n",
      "[15:51:39] Molecule does not have explicit Hs. Consider calling AddHs()\n"
     ]
    },
    {
     "name": "stdout",
     "output_type": "stream",
     "text": [
      "0\n",
      "no conformer for MolPort-003-423-026\n",
      "0\n",
      "no conformer for MolPort-003-424-605\n"
     ]
    },
    {
     "name": "stderr",
     "output_type": "stream",
     "text": [
      "[15:51:39] Molecule does not have explicit Hs. Consider calling AddHs()\n",
      "[15:51:39] Molecule does not have explicit Hs. Consider calling AddHs()\n"
     ]
    },
    {
     "name": "stdout",
     "output_type": "stream",
     "text": [
      "0\n",
      "no conformer for MolPort-003-426-566\n",
      "0\n",
      "no conformer for MolPort-003-426-568\n"
     ]
    },
    {
     "name": "stderr",
     "output_type": "stream",
     "text": [
      "[15:51:39] Molecule does not have explicit Hs. Consider calling AddHs()\n",
      "[15:51:40] Molecule does not have explicit Hs. Consider calling AddHs()\n"
     ]
    },
    {
     "name": "stdout",
     "output_type": "stream",
     "text": [
      "0\n",
      "no conformer for MolPort-003-426-663\n",
      "0\n",
      "no conformer for MolPort-003-426-666\n"
     ]
    },
    {
     "name": "stderr",
     "output_type": "stream",
     "text": [
      "[15:51:40] Molecule does not have explicit Hs. Consider calling AddHs()\n",
      "[15:51:40] Molecule does not have explicit Hs. Consider calling AddHs()\n"
     ]
    },
    {
     "name": "stdout",
     "output_type": "stream",
     "text": [
      "0\n",
      "no conformer for MolPort-003-451-085\n",
      "0\n",
      "no conformer for MolPort-003-451-086\n"
     ]
    },
    {
     "name": "stderr",
     "output_type": "stream",
     "text": [
      "[15:51:40] Molecule does not have explicit Hs. Consider calling AddHs()\n",
      "[15:51:40] Molecule does not have explicit Hs. Consider calling AddHs()\n"
     ]
    },
    {
     "name": "stdout",
     "output_type": "stream",
     "text": [
      "0\n",
      "no conformer for MolPort-003-455-276\n"
     ]
    },
    {
     "name": "stderr",
     "output_type": "stream",
     "text": [
      "[15:51:40] Molecule does not have explicit Hs. Consider calling AddHs()\n"
     ]
    },
    {
     "name": "stdout",
     "output_type": "stream",
     "text": [
      "0\n",
      "no conformer for MolPort-003-462-212\n",
      "0\n",
      "no conformer for MolPort-003-462-229\n"
     ]
    },
    {
     "name": "stderr",
     "output_type": "stream",
     "text": [
      "[15:51:41] Molecule does not have explicit Hs. Consider calling AddHs()\n",
      "[15:51:41] Molecule does not have explicit Hs. Consider calling AddHs()\n"
     ]
    },
    {
     "name": "stdout",
     "output_type": "stream",
     "text": [
      "0\n",
      "no conformer for MolPort-003-462-239\n"
     ]
    },
    {
     "name": "stderr",
     "output_type": "stream",
     "text": [
      "[15:51:41] Molecule does not have explicit Hs. Consider calling AddHs()\n"
     ]
    },
    {
     "name": "stdout",
     "output_type": "stream",
     "text": [
      "0\n",
      "no conformer for MolPort-003-462-254\n"
     ]
    },
    {
     "name": "stderr",
     "output_type": "stream",
     "text": [
      "[15:51:41] Molecule does not have explicit Hs. Consider calling AddHs()\n"
     ]
    },
    {
     "name": "stdout",
     "output_type": "stream",
     "text": [
      "0\n",
      "no conformer for MolPort-003-462-255\n"
     ]
    },
    {
     "name": "stderr",
     "output_type": "stream",
     "text": [
      "[15:51:42] Molecule does not have explicit Hs. Consider calling AddHs()\n"
     ]
    },
    {
     "name": "stdout",
     "output_type": "stream",
     "text": [
      "0\n",
      "no conformer for MolPort-003-462-270\n"
     ]
    },
    {
     "name": "stderr",
     "output_type": "stream",
     "text": [
      "[15:51:42] Molecule does not have explicit Hs. Consider calling AddHs()\n"
     ]
    },
    {
     "name": "stdout",
     "output_type": "stream",
     "text": [
      "0\n",
      "no conformer for MolPort-003-462-279\n",
      "0\n",
      "no conformer for MolPort-003-463-412\n"
     ]
    },
    {
     "name": "stderr",
     "output_type": "stream",
     "text": [
      "[15:51:42] Molecule does not have explicit Hs. Consider calling AddHs()\n",
      "[15:51:42] Molecule does not have explicit Hs. Consider calling AddHs()\n"
     ]
    },
    {
     "name": "stdout",
     "output_type": "stream",
     "text": [
      "0\n",
      "no conformer for MolPort-003-468-247\n",
      "0\n",
      "no conformer for MolPort-003-468-303\n"
     ]
    },
    {
     "name": "stderr",
     "output_type": "stream",
     "text": [
      "[15:51:43] Molecule does not have explicit Hs. Consider calling AddHs()\n",
      "[15:51:43] Molecule does not have explicit Hs. Consider calling AddHs()\n"
     ]
    },
    {
     "name": "stdout",
     "output_type": "stream",
     "text": [
      "0\n",
      "no conformer for MolPort-003-468-266\n"
     ]
    },
    {
     "name": "stderr",
     "output_type": "stream",
     "text": [
      "[15:51:43] Molecule does not have explicit Hs. Consider calling AddHs()\n"
     ]
    },
    {
     "name": "stdout",
     "output_type": "stream",
     "text": [
      "0\n",
      "no conformer for MolPort-003-468-286\n",
      "0\n",
      "no conformer for MolPort-003-468-295\n"
     ]
    },
    {
     "name": "stderr",
     "output_type": "stream",
     "text": [
      "[15:51:44] Molecule does not have explicit Hs. Consider calling AddHs()\n",
      "[15:51:44] Molecule does not have explicit Hs. Consider calling AddHs()\n"
     ]
    },
    {
     "name": "stdout",
     "output_type": "stream",
     "text": [
      "0\n",
      "no conformer for MolPort-003-468-308\n"
     ]
    },
    {
     "name": "stderr",
     "output_type": "stream",
     "text": [
      "[15:51:44] Molecule does not have explicit Hs. Consider calling AddHs()\n"
     ]
    },
    {
     "name": "stdout",
     "output_type": "stream",
     "text": [
      "0\n",
      "no conformer for MolPort-003-470-836\n"
     ]
    },
    {
     "name": "stderr",
     "output_type": "stream",
     "text": [
      "[15:51:44] Molecule does not have explicit Hs. Consider calling AddHs()\n"
     ]
    },
    {
     "name": "stdout",
     "output_type": "stream",
     "text": [
      "0\n",
      "no conformer for MolPort-003-472-698\n",
      "0\n",
      "no conformer for MolPort-003-474-594\n"
     ]
    },
    {
     "name": "stderr",
     "output_type": "stream",
     "text": [
      "[15:51:45] Molecule does not have explicit Hs. Consider calling AddHs()\n",
      "[15:51:45] Molecule does not have explicit Hs. Consider calling AddHs()\n"
     ]
    },
    {
     "name": "stdout",
     "output_type": "stream",
     "text": [
      "0\n",
      "no conformer for MolPort-003-474-598\n",
      "0\n",
      "no conformer for MolPort-003-474-619\n"
     ]
    },
    {
     "name": "stderr",
     "output_type": "stream",
     "text": [
      "[15:51:45] Molecule does not have explicit Hs. Consider calling AddHs()\n",
      "[15:51:45] Molecule does not have explicit Hs. Consider calling AddHs()\n"
     ]
    },
    {
     "name": "stdout",
     "output_type": "stream",
     "text": [
      "0\n",
      "no conformer for MolPort-003-474-713\n"
     ]
    },
    {
     "name": "stderr",
     "output_type": "stream",
     "text": [
      "[15:51:45] Molecule does not have explicit Hs. Consider calling AddHs()\n"
     ]
    },
    {
     "name": "stdout",
     "output_type": "stream",
     "text": [
      "0\n",
      "no conformer for MolPort-003-474-720\n"
     ]
    },
    {
     "name": "stderr",
     "output_type": "stream",
     "text": [
      "[15:51:46] Molecule does not have explicit Hs. Consider calling AddHs()\n"
     ]
    },
    {
     "name": "stdout",
     "output_type": "stream",
     "text": [
      "0\n",
      "no conformer for MolPort-003-474-723\n"
     ]
    },
    {
     "name": "stderr",
     "output_type": "stream",
     "text": [
      "[15:51:46] Molecule does not have explicit Hs. Consider calling AddHs()\n"
     ]
    },
    {
     "name": "stdout",
     "output_type": "stream",
     "text": [
      "0\n",
      "no conformer for MolPort-003-476-806\n",
      "0\n",
      "no conformer for MolPort-003-490-753\n"
     ]
    },
    {
     "name": "stderr",
     "output_type": "stream",
     "text": [
      "[15:51:46] Molecule does not have explicit Hs. Consider calling AddHs()\n",
      "[15:51:46] Molecule does not have explicit Hs. Consider calling AddHs()\n"
     ]
    },
    {
     "name": "stdout",
     "output_type": "stream",
     "text": [
      "0\n",
      "no conformer for MolPort-003-490-762\n"
     ]
    },
    {
     "name": "stderr",
     "output_type": "stream",
     "text": [
      "[15:51:47] Molecule does not have explicit Hs. Consider calling AddHs()\n"
     ]
    },
    {
     "name": "stdout",
     "output_type": "stream",
     "text": [
      "0\n",
      "no conformer for MolPort-003-490-765\n",
      "0\n",
      "no conformer for MolPort-003-499-045\n",
      "0\n",
      "no conformer for MolPort-003-499-116\n"
     ]
    },
    {
     "name": "stderr",
     "output_type": "stream",
     "text": [
      "[15:51:47] Molecule does not have explicit Hs. Consider calling AddHs()\n",
      "[15:51:47] Molecule does not have explicit Hs. Consider calling AddHs()\n",
      "[15:51:47] Molecule does not have explicit Hs. Consider calling AddHs()\n"
     ]
    },
    {
     "name": "stdout",
     "output_type": "stream",
     "text": [
      "0\n",
      "no conformer for MolPort-003-499-117\n",
      "0\n",
      "no conformer for MolPort-003-499-440\n"
     ]
    },
    {
     "name": "stderr",
     "output_type": "stream",
     "text": [
      "[15:51:47] Molecule does not have explicit Hs. Consider calling AddHs()\n",
      "[15:51:47] Molecule does not have explicit Hs. Consider calling AddHs()\n"
     ]
    },
    {
     "name": "stdout",
     "output_type": "stream",
     "text": [
      "0\n",
      "no conformer for MolPort-003-499-452\n",
      "0\n",
      "no conformer for MolPort-003-499-546\n"
     ]
    },
    {
     "name": "stderr",
     "output_type": "stream",
     "text": [
      "[15:51:47] Molecule does not have explicit Hs. Consider calling AddHs()\n",
      "[15:51:48] Molecule does not have explicit Hs. Consider calling AddHs()\n",
      "[15:51:48] Molecule does not have explicit Hs. Consider calling AddHs()\n"
     ]
    },
    {
     "name": "stdout",
     "output_type": "stream",
     "text": [
      "0\n",
      "no conformer for MolPort-003-634-955\n",
      "0\n",
      "no conformer for MolPort-003-635-385\n"
     ]
    },
    {
     "name": "stderr",
     "output_type": "stream",
     "text": [
      "[15:51:48] Molecule does not have explicit Hs. Consider calling AddHs()\n"
     ]
    },
    {
     "name": "stdout",
     "output_type": "stream",
     "text": [
      "0\n",
      "no conformer for MolPort-003-655-554\n",
      "0\n",
      "no conformer for MolPort-003-870-709\n"
     ]
    },
    {
     "name": "stderr",
     "output_type": "stream",
     "text": [
      "[15:51:48] Molecule does not have explicit Hs. Consider calling AddHs()\n",
      "[15:51:48] Molecule does not have explicit Hs. Consider calling AddHs()\n"
     ]
    },
    {
     "name": "stdout",
     "output_type": "stream",
     "text": [
      "0\n",
      "no conformer for MolPort-003-870-732\n"
     ]
    },
    {
     "name": "stderr",
     "output_type": "stream",
     "text": [
      "[15:51:48] Molecule does not have explicit Hs. Consider calling AddHs()\n"
     ]
    },
    {
     "name": "stdout",
     "output_type": "stream",
     "text": [
      "0\n",
      "no conformer for MolPort-003-872-030\n"
     ]
    },
    {
     "name": "stderr",
     "output_type": "stream",
     "text": [
      "[15:51:49] Molecule does not have explicit Hs. Consider calling AddHs()\n"
     ]
    },
    {
     "name": "stdout",
     "output_type": "stream",
     "text": [
      "0\n",
      "no conformer for MolPort-003-872-031\n"
     ]
    },
    {
     "name": "stderr",
     "output_type": "stream",
     "text": [
      "[15:51:49] Molecule does not have explicit Hs. Consider calling AddHs()\n"
     ]
    },
    {
     "name": "stdout",
     "output_type": "stream",
     "text": [
      "0\n",
      "no conformer for MolPort-003-872-032\n"
     ]
    },
    {
     "name": "stderr",
     "output_type": "stream",
     "text": [
      "[15:51:49] Molecule does not have explicit Hs. Consider calling AddHs()\n"
     ]
    },
    {
     "name": "stdout",
     "output_type": "stream",
     "text": [
      "0\n",
      "no conformer for MolPort-003-872-033\n",
      "0\n",
      "no conformer for MolPort-003-872-034\n"
     ]
    },
    {
     "name": "stderr",
     "output_type": "stream",
     "text": [
      "[15:51:49] Molecule does not have explicit Hs. Consider calling AddHs()\n",
      "[15:51:50] Molecule does not have explicit Hs. Consider calling AddHs()\n"
     ]
    },
    {
     "name": "stdout",
     "output_type": "stream",
     "text": [
      "0\n",
      "no conformer for MolPort-003-872-038\n"
     ]
    },
    {
     "name": "stderr",
     "output_type": "stream",
     "text": [
      "[15:51:50] Molecule does not have explicit Hs. Consider calling AddHs()\n"
     ]
    },
    {
     "name": "stdout",
     "output_type": "stream",
     "text": [
      "0\n",
      "no conformer for MolPort-003-872-039\n"
     ]
    },
    {
     "name": "stderr",
     "output_type": "stream",
     "text": [
      "[15:51:50] Molecule does not have explicit Hs. Consider calling AddHs()\n"
     ]
    },
    {
     "name": "stdout",
     "output_type": "stream",
     "text": [
      "0\n",
      "no conformer for MolPort-003-872-040\n",
      "0\n",
      "no conformer for MolPort-003-872-041\n"
     ]
    },
    {
     "name": "stderr",
     "output_type": "stream",
     "text": [
      "[15:51:50] Molecule does not have explicit Hs. Consider calling AddHs()\n",
      "[15:51:51] Molecule does not have explicit Hs. Consider calling AddHs()\n"
     ]
    },
    {
     "name": "stdout",
     "output_type": "stream",
     "text": [
      "0\n",
      "no conformer for MolPort-003-872-042\n"
     ]
    },
    {
     "name": "stderr",
     "output_type": "stream",
     "text": [
      "[15:51:51] Molecule does not have explicit Hs. Consider calling AddHs()\n"
     ]
    },
    {
     "name": "stdout",
     "output_type": "stream",
     "text": [
      "0\n",
      "no conformer for MolPort-003-872-043\n",
      "0\n",
      "no conformer for MolPort-003-872-045\n"
     ]
    },
    {
     "name": "stderr",
     "output_type": "stream",
     "text": [
      "[15:51:51] Molecule does not have explicit Hs. Consider calling AddHs()\n",
      "[15:51:51] Molecule does not have explicit Hs. Consider calling AddHs()\n"
     ]
    },
    {
     "name": "stdout",
     "output_type": "stream",
     "text": [
      "0\n",
      "no conformer for MolPort-003-942-869\n"
     ]
    },
    {
     "name": "stderr",
     "output_type": "stream",
     "text": [
      "[15:51:52] Molecule does not have explicit Hs. Consider calling AddHs()\n"
     ]
    },
    {
     "name": "stdout",
     "output_type": "stream",
     "text": [
      "0\n",
      "no conformer for MolPort-003-942-870\n",
      "0\n",
      "no conformer for MolPort-004-105-542\n",
      "0\n",
      "no conformer for MolPort-004-272-700\n"
     ]
    },
    {
     "name": "stderr",
     "output_type": "stream",
     "text": [
      "[15:51:52] Molecule does not have explicit Hs. Consider calling AddHs()\n",
      "[15:51:52] Molecule does not have explicit Hs. Consider calling AddHs()\n",
      "[15:51:52] Molecule does not have explicit Hs. Consider calling AddHs()\n",
      "[15:51:52] Molecule does not have explicit Hs. Consider calling AddHs()\n"
     ]
    },
    {
     "name": "stdout",
     "output_type": "stream",
     "text": [
      "0\n",
      "no conformer for MolPort-004-560-134\n",
      "0\n",
      "no conformer for MolPort-004-582-796\n",
      "2\n"
     ]
    },
    {
     "name": "stderr",
     "output_type": "stream",
     "text": [
      "[15:51:53] Molecule does not have explicit Hs. Consider calling AddHs()\n",
      "[15:51:53] Molecule does not have explicit Hs. Consider calling AddHs()\n"
     ]
    },
    {
     "name": "stdout",
     "output_type": "stream",
     "text": [
      "0\n",
      "no conformer for MolPort-004-846-672\n"
     ]
    },
    {
     "name": "stderr",
     "output_type": "stream",
     "text": [
      "[15:51:53] Molecule does not have explicit Hs. Consider calling AddHs()\n"
     ]
    },
    {
     "name": "stdout",
     "output_type": "stream",
     "text": [
      "0\n",
      "no conformer for MolPort-004-846-682\n"
     ]
    },
    {
     "name": "stderr",
     "output_type": "stream",
     "text": [
      "[15:51:53] Molecule does not have explicit Hs. Consider calling AddHs()\n"
     ]
    },
    {
     "name": "stdout",
     "output_type": "stream",
     "text": [
      "0\n",
      "no conformer for MolPort-004-846-683\n"
     ]
    },
    {
     "name": "stderr",
     "output_type": "stream",
     "text": [
      "[15:51:54] Molecule does not have explicit Hs. Consider calling AddHs()\n"
     ]
    },
    {
     "name": "stdout",
     "output_type": "stream",
     "text": [
      "0\n",
      "no conformer for MolPort-004-846-684\n"
     ]
    },
    {
     "name": "stderr",
     "output_type": "stream",
     "text": [
      "[15:51:54] Molecule does not have explicit Hs. Consider calling AddHs()\n"
     ]
    },
    {
     "name": "stdout",
     "output_type": "stream",
     "text": [
      "0\n",
      "no conformer for MolPort-004-846-685\n"
     ]
    },
    {
     "name": "stderr",
     "output_type": "stream",
     "text": [
      "[15:51:55] Molecule does not have explicit Hs. Consider calling AddHs()\n"
     ]
    },
    {
     "name": "stdout",
     "output_type": "stream",
     "text": [
      "0\n",
      "no conformer for MolPort-004-846-701\n",
      "0\n",
      "no conformer for MolPort-004-846-725\n"
     ]
    },
    {
     "name": "stderr",
     "output_type": "stream",
     "text": [
      "[15:51:55] Molecule does not have explicit Hs. Consider calling AddHs()\n",
      "[15:51:55] Molecule does not have explicit Hs. Consider calling AddHs()\n"
     ]
    },
    {
     "name": "stdout",
     "output_type": "stream",
     "text": [
      "0\n",
      "no conformer for MolPort-004-846-793\n",
      "0\n",
      "no conformer for MolPort-004-848-778\n"
     ]
    },
    {
     "name": "stderr",
     "output_type": "stream",
     "text": [
      "[15:51:56] Molecule does not have explicit Hs. Consider calling AddHs()\n",
      "[15:51:56] Molecule does not have explicit Hs. Consider calling AddHs()\n"
     ]
    },
    {
     "name": "stdout",
     "output_type": "stream",
     "text": [
      "0\n",
      "no conformer for MolPort-004-848-782\n"
     ]
    },
    {
     "name": "stderr",
     "output_type": "stream",
     "text": [
      "[15:51:56] Molecule does not have explicit Hs. Consider calling AddHs()\n"
     ]
    },
    {
     "name": "stdout",
     "output_type": "stream",
     "text": [
      "0\n",
      "no conformer for MolPort-004-877-875\n",
      "0\n",
      "no conformer for MolPort-004-886-100\n"
     ]
    },
    {
     "name": "stderr",
     "output_type": "stream",
     "text": [
      "[15:51:56] Molecule does not have explicit Hs. Consider calling AddHs()\n",
      "[15:51:57] Molecule does not have explicit Hs. Consider calling AddHs()\n"
     ]
    },
    {
     "name": "stdout",
     "output_type": "stream",
     "text": [
      "0\n",
      "no conformer for MolPort-004-886-209\n",
      "0\n",
      "no conformer for MolPort-004-897-472\n"
     ]
    },
    {
     "name": "stderr",
     "output_type": "stream",
     "text": [
      "[15:51:57] Molecule does not have explicit Hs. Consider calling AddHs()\n",
      "[15:51:57] Molecule does not have explicit Hs. Consider calling AddHs()\n"
     ]
    },
    {
     "name": "stdout",
     "output_type": "stream",
     "text": [
      "0\n",
      "no conformer for MolPort-004-900-589\n",
      "0\n",
      "no conformer for MolPort-004-916-773\n"
     ]
    },
    {
     "name": "stderr",
     "output_type": "stream",
     "text": [
      "[15:51:57] Molecule does not have explicit Hs. Consider calling AddHs()\n",
      "[15:51:57] Molecule does not have explicit Hs. Consider calling AddHs()\n"
     ]
    },
    {
     "name": "stdout",
     "output_type": "stream",
     "text": [
      "0\n",
      "no conformer for MolPort-004-916-789\n"
     ]
    },
    {
     "name": "stderr",
     "output_type": "stream",
     "text": [
      "[15:51:57] Molecule does not have explicit Hs. Consider calling AddHs()\n"
     ]
    },
    {
     "name": "stdout",
     "output_type": "stream",
     "text": [
      "0\n",
      "no conformer for MolPort-004-916-916\n",
      "0\n",
      "no conformer for MolPort-004-918-352\n"
     ]
    },
    {
     "name": "stderr",
     "output_type": "stream",
     "text": [
      "[15:51:58] Molecule does not have explicit Hs. Consider calling AddHs()\n",
      "[15:51:58] Molecule does not have explicit Hs. Consider calling AddHs()\n"
     ]
    },
    {
     "name": "stdout",
     "output_type": "stream",
     "text": [
      "0\n",
      "no conformer for MolPort-004-918-466\n",
      "0\n",
      "no conformer for MolPort-004-939-452\n"
     ]
    },
    {
     "name": "stderr",
     "output_type": "stream",
     "text": [
      "[15:51:58] Molecule does not have explicit Hs. Consider calling AddHs()\n",
      "[15:51:58] Molecule does not have explicit Hs. Consider calling AddHs()\n"
     ]
    },
    {
     "name": "stdout",
     "output_type": "stream",
     "text": [
      "0\n",
      "no conformer for MolPort-004-939-454\n",
      "0\n",
      "no conformer for MolPort-004-939-455\n"
     ]
    },
    {
     "name": "stderr",
     "output_type": "stream",
     "text": [
      "[15:51:58] Molecule does not have explicit Hs. Consider calling AddHs()\n",
      "[15:51:58] Molecule does not have explicit Hs. Consider calling AddHs()\n"
     ]
    },
    {
     "name": "stdout",
     "output_type": "stream",
     "text": [
      "0\n",
      "no conformer for MolPort-004-939-456\n",
      "0\n",
      "no conformer for MolPort-004-939-459\n"
     ]
    },
    {
     "name": "stderr",
     "output_type": "stream",
     "text": [
      "[15:51:59] Molecule does not have explicit Hs. Consider calling AddHs()\n",
      "[15:51:59] Molecule does not have explicit Hs. Consider calling AddHs()\n"
     ]
    },
    {
     "name": "stdout",
     "output_type": "stream",
     "text": [
      "0\n",
      "no conformer for MolPort-004-951-415\n",
      "0\n",
      "no conformer for MolPort-005-279-473\n"
     ]
    },
    {
     "name": "stderr",
     "output_type": "stream",
     "text": [
      "[15:51:59] Molecule does not have explicit Hs. Consider calling AddHs()\n",
      "[15:51:59] Molecule does not have explicit Hs. Consider calling AddHs()\n"
     ]
    },
    {
     "name": "stdout",
     "output_type": "stream",
     "text": [
      "14\n"
     ]
    },
    {
     "name": "stderr",
     "output_type": "stream",
     "text": [
      "[15:52:00] Molecule does not have explicit Hs. Consider calling AddHs()\n"
     ]
    },
    {
     "name": "stdout",
     "output_type": "stream",
     "text": [
      "0\n",
      "no conformer for MolPort-005-289-292\n"
     ]
    },
    {
     "name": "stderr",
     "output_type": "stream",
     "text": [
      "[15:52:00] Molecule does not have explicit Hs. Consider calling AddHs()\n"
     ]
    },
    {
     "name": "stdout",
     "output_type": "stream",
     "text": [
      "0\n",
      "no conformer for MolPort-005-289-295\n",
      "0\n",
      "no conformer for MolPort-005-289-296\n"
     ]
    },
    {
     "name": "stderr",
     "output_type": "stream",
     "text": [
      "[15:52:00] Molecule does not have explicit Hs. Consider calling AddHs()\n",
      "[15:52:00] Molecule does not have explicit Hs. Consider calling AddHs()\n"
     ]
    },
    {
     "name": "stdout",
     "output_type": "stream",
     "text": [
      "0\n",
      "no conformer for MolPort-005-289-416\n",
      "0\n",
      "no conformer for MolPort-005-289-443\n",
      "0\n",
      "no conformer for MolPort-005-291-757\n"
     ]
    },
    {
     "name": "stderr",
     "output_type": "stream",
     "text": [
      "[15:52:01] Molecule does not have explicit Hs. Consider calling AddHs()\n",
      "[15:52:01] Molecule does not have explicit Hs. Consider calling AddHs()\n",
      "[15:52:01] Molecule does not have explicit Hs. Consider calling AddHs()\n"
     ]
    },
    {
     "name": "stdout",
     "output_type": "stream",
     "text": [
      "0\n",
      "no conformer for MolPort-005-291-760\n",
      "0\n",
      "no conformer for MolPort-005-291-772\n"
     ]
    },
    {
     "name": "stderr",
     "output_type": "stream",
     "text": [
      "[15:52:01] Molecule does not have explicit Hs. Consider calling AddHs()\n",
      "[15:52:01] Molecule does not have explicit Hs. Consider calling AddHs()\n"
     ]
    },
    {
     "name": "stdout",
     "output_type": "stream",
     "text": [
      "0\n",
      "no conformer for MolPort-005-291-780\n",
      "0\n",
      "no conformer for MolPort-005-291-781\n"
     ]
    },
    {
     "name": "stderr",
     "output_type": "stream",
     "text": [
      "[15:52:01] Molecule does not have explicit Hs. Consider calling AddHs()\n",
      "[15:52:01] Molecule does not have explicit Hs. Consider calling AddHs()\n"
     ]
    },
    {
     "name": "stdout",
     "output_type": "stream",
     "text": [
      "0\n",
      "no conformer for MolPort-005-291-801\n",
      "0\n",
      "no conformer for MolPort-005-291-802\n"
     ]
    },
    {
     "name": "stderr",
     "output_type": "stream",
     "text": [
      "[15:52:01] Molecule does not have explicit Hs. Consider calling AddHs()\n",
      "[15:52:02] Molecule does not have explicit Hs. Consider calling AddHs()\n"
     ]
    },
    {
     "name": "stdout",
     "output_type": "stream",
     "text": [
      "0\n",
      "no conformer for MolPort-005-291-803\n",
      "0\n",
      "no conformer for MolPort-005-291-894\n"
     ]
    },
    {
     "name": "stderr",
     "output_type": "stream",
     "text": [
      "[15:52:02] Molecule does not have explicit Hs. Consider calling AddHs()\n",
      "[15:52:02] Molecule does not have explicit Hs. Consider calling AddHs()\n"
     ]
    },
    {
     "name": "stdout",
     "output_type": "stream",
     "text": [
      "0\n",
      "no conformer for MolPort-005-291-897\n",
      "0\n",
      "no conformer for MolPort-005-295-425\n"
     ]
    },
    {
     "name": "stderr",
     "output_type": "stream",
     "text": [
      "[15:52:02] Molecule does not have explicit Hs. Consider calling AddHs()\n",
      "[15:52:02] Molecule does not have explicit Hs. Consider calling AddHs()\n"
     ]
    },
    {
     "name": "stdout",
     "output_type": "stream",
     "text": [
      "0\n",
      "no conformer for MolPort-005-295-427\n",
      "0\n",
      "no conformer for MolPort-005-295-434\n"
     ]
    },
    {
     "name": "stderr",
     "output_type": "stream",
     "text": [
      "[15:52:02] Molecule does not have explicit Hs. Consider calling AddHs()\n",
      "[15:52:02] Molecule does not have explicit Hs. Consider calling AddHs()\n"
     ]
    },
    {
     "name": "stdout",
     "output_type": "stream",
     "text": [
      "0\n",
      "no conformer for MolPort-005-295-442\n",
      "0\n",
      "no conformer for MolPort-005-295-443\n"
     ]
    },
    {
     "name": "stderr",
     "output_type": "stream",
     "text": [
      "[15:52:03] Molecule does not have explicit Hs. Consider calling AddHs()\n",
      "[15:52:03] Molecule does not have explicit Hs. Consider calling AddHs()\n"
     ]
    },
    {
     "name": "stdout",
     "output_type": "stream",
     "text": [
      "0\n",
      "no conformer for MolPort-005-295-452\n",
      "0\n",
      "no conformer for MolPort-005-295-453\n"
     ]
    },
    {
     "name": "stderr",
     "output_type": "stream",
     "text": [
      "[15:52:03] Molecule does not have explicit Hs. Consider calling AddHs()\n",
      "[15:52:03] Molecule does not have explicit Hs. Consider calling AddHs()\n"
     ]
    },
    {
     "name": "stdout",
     "output_type": "stream",
     "text": [
      "0\n",
      "no conformer for MolPort-005-295-463\n",
      "0\n",
      "no conformer for MolPort-005-295-464\n"
     ]
    },
    {
     "name": "stderr",
     "output_type": "stream",
     "text": [
      "[15:52:03] Molecule does not have explicit Hs. Consider calling AddHs()\n",
      "[15:52:03] Molecule does not have explicit Hs. Consider calling AddHs()\n"
     ]
    },
    {
     "name": "stdout",
     "output_type": "stream",
     "text": [
      "0\n",
      "no conformer for MolPort-005-295-478\n",
      "0\n",
      "no conformer for MolPort-005-295-479\n"
     ]
    },
    {
     "name": "stderr",
     "output_type": "stream",
     "text": [
      "[15:52:04] Molecule does not have explicit Hs. Consider calling AddHs()\n",
      "[15:52:04] Molecule does not have explicit Hs. Consider calling AddHs()\n"
     ]
    },
    {
     "name": "stdout",
     "output_type": "stream",
     "text": [
      "0\n",
      "no conformer for MolPort-005-296-469\n",
      "0\n",
      "no conformer for MolPort-005-296-475\n"
     ]
    },
    {
     "name": "stderr",
     "output_type": "stream",
     "text": [
      "[15:52:04] Molecule does not have explicit Hs. Consider calling AddHs()\n",
      "[15:52:04] Molecule does not have explicit Hs. Consider calling AddHs()\n"
     ]
    },
    {
     "name": "stdout",
     "output_type": "stream",
     "text": [
      "0\n",
      "no conformer for MolPort-005-296-476\n",
      "0\n",
      "no conformer for MolPort-005-296-532\n"
     ]
    },
    {
     "name": "stderr",
     "output_type": "stream",
     "text": [
      "[15:52:04] Molecule does not have explicit Hs. Consider calling AddHs()\n",
      "[15:52:04] Molecule does not have explicit Hs. Consider calling AddHs()\n"
     ]
    },
    {
     "name": "stdout",
     "output_type": "stream",
     "text": [
      "0\n",
      "no conformer for MolPort-005-296-552\n"
     ]
    },
    {
     "name": "stderr",
     "output_type": "stream",
     "text": [
      "[15:52:04] Molecule does not have explicit Hs. Consider calling AddHs()\n"
     ]
    },
    {
     "name": "stdout",
     "output_type": "stream",
     "text": [
      "0\n",
      "no conformer for MolPort-005-298-824\n"
     ]
    },
    {
     "name": "stderr",
     "output_type": "stream",
     "text": [
      "[15:52:05] Molecule does not have explicit Hs. Consider calling AddHs()\n"
     ]
    },
    {
     "name": "stdout",
     "output_type": "stream",
     "text": [
      "0\n",
      "no conformer for MolPort-003-478-710\n",
      "0\n",
      "no conformer for MolPort-009-733-119\n"
     ]
    },
    {
     "name": "stderr",
     "output_type": "stream",
     "text": [
      "[15:52:05] Molecule does not have explicit Hs. Consider calling AddHs()\n",
      "[15:52:05] Molecule does not have explicit Hs. Consider calling AddHs()\n"
     ]
    },
    {
     "name": "stdout",
     "output_type": "stream",
     "text": [
      "0\n",
      "no conformer for MolPort-003-485-505\n"
     ]
    },
    {
     "name": "stderr",
     "output_type": "stream",
     "text": [
      "[15:52:05] Molecule does not have explicit Hs. Consider calling AddHs()\n"
     ]
    },
    {
     "name": "stdout",
     "output_type": "stream",
     "text": [
      "0\n",
      "no conformer for MolPort-003-485-553\n"
     ]
    },
    {
     "name": "stderr",
     "output_type": "stream",
     "text": [
      "[15:52:06] Molecule does not have explicit Hs. Consider calling AddHs()\n"
     ]
    },
    {
     "name": "stdout",
     "output_type": "stream",
     "text": [
      "0\n",
      "no conformer for MolPort-003-485-573\n"
     ]
    },
    {
     "name": "stderr",
     "output_type": "stream",
     "text": [
      "[15:52:06] Molecule does not have explicit Hs. Consider calling AddHs()\n"
     ]
    },
    {
     "name": "stdout",
     "output_type": "stream",
     "text": [
      "0\n",
      "no conformer for MolPort-003-486-165\n",
      "0\n",
      "no conformer for MolPort-003-503-578\n"
     ]
    },
    {
     "name": "stderr",
     "output_type": "stream",
     "text": [
      "[15:52:06] Molecule does not have explicit Hs. Consider calling AddHs()\n",
      "[15:52:06] Molecule does not have explicit Hs. Consider calling AddHs()\n"
     ]
    },
    {
     "name": "stdout",
     "output_type": "stream",
     "text": [
      "0\n",
      "no conformer for MolPort-003-503-632\n",
      "0\n",
      "no conformer for MolPort-003-503-649\n"
     ]
    },
    {
     "name": "stderr",
     "output_type": "stream",
     "text": [
      "[15:52:07] Molecule does not have explicit Hs. Consider calling AddHs()\n",
      "[15:52:07] Molecule does not have explicit Hs. Consider calling AddHs()\n"
     ]
    },
    {
     "name": "stdout",
     "output_type": "stream",
     "text": [
      "0\n",
      "no conformer for MolPort-003-503-711\n",
      "0\n",
      "no conformer for MolPort-003-503-914\n"
     ]
    },
    {
     "name": "stderr",
     "output_type": "stream",
     "text": [
      "[15:52:07] Molecule does not have explicit Hs. Consider calling AddHs()\n",
      "[15:52:07] Molecule does not have explicit Hs. Consider calling AddHs()\n"
     ]
    },
    {
     "name": "stdout",
     "output_type": "stream",
     "text": [
      "0\n",
      "no conformer for MolPort-003-503-934\n",
      "0\n",
      "no conformer for MolPort-003-503-985\n"
     ]
    },
    {
     "name": "stderr",
     "output_type": "stream",
     "text": [
      "[15:52:07] Molecule does not have explicit Hs. Consider calling AddHs()\n",
      "[15:52:07] Molecule does not have explicit Hs. Consider calling AddHs()\n"
     ]
    },
    {
     "name": "stdout",
     "output_type": "stream",
     "text": [
      "0\n",
      "no conformer for MolPort-003-504-021\n"
     ]
    },
    {
     "name": "stderr",
     "output_type": "stream",
     "text": [
      "[15:52:08] Molecule does not have explicit Hs. Consider calling AddHs()\n"
     ]
    },
    {
     "name": "stdout",
     "output_type": "stream",
     "text": [
      "0\n",
      "no conformer for MolPort-003-633-479\n"
     ]
    },
    {
     "name": "stderr",
     "output_type": "stream",
     "text": [
      "[15:52:08] Molecule does not have explicit Hs. Consider calling AddHs()\n"
     ]
    },
    {
     "name": "stdout",
     "output_type": "stream",
     "text": [
      "0\n",
      "no conformer for MolPort-003-655-181\n"
     ]
    },
    {
     "name": "stderr",
     "output_type": "stream",
     "text": [
      "[15:52:08] Molecule does not have explicit Hs. Consider calling AddHs()\n"
     ]
    },
    {
     "name": "stdout",
     "output_type": "stream",
     "text": [
      "0\n",
      "no conformer for MolPort-003-655-324\n"
     ]
    },
    {
     "name": "stderr",
     "output_type": "stream",
     "text": [
      "[15:52:08] Molecule does not have explicit Hs. Consider calling AddHs()\n"
     ]
    },
    {
     "name": "stdout",
     "output_type": "stream",
     "text": [
      "0\n",
      "no conformer for MolPort-003-655-325\n"
     ]
    },
    {
     "name": "stderr",
     "output_type": "stream",
     "text": [
      "[15:52:08] Molecule does not have explicit Hs. Consider calling AddHs()\n"
     ]
    },
    {
     "name": "stdout",
     "output_type": "stream",
     "text": [
      "0\n",
      "no conformer for MolPort-003-656-194\n"
     ]
    },
    {
     "name": "stderr",
     "output_type": "stream",
     "text": [
      "[15:52:09] Molecule does not have explicit Hs. Consider calling AddHs()\n"
     ]
    },
    {
     "name": "stdout",
     "output_type": "stream",
     "text": [
      "0\n",
      "no conformer for MolPort-003-656-475\n"
     ]
    },
    {
     "name": "stderr",
     "output_type": "stream",
     "text": [
      "[15:52:09] Molecule does not have explicit Hs. Consider calling AddHs()\n"
     ]
    },
    {
     "name": "stdout",
     "output_type": "stream",
     "text": [
      "0\n",
      "no conformer for MolPort-003-656-477\n"
     ]
    },
    {
     "name": "stderr",
     "output_type": "stream",
     "text": [
      "[15:52:09] Molecule does not have explicit Hs. Consider calling AddHs()\n"
     ]
    },
    {
     "name": "stdout",
     "output_type": "stream",
     "text": [
      "0\n",
      "no conformer for MolPort-004-835-719\n"
     ]
    },
    {
     "name": "stderr",
     "output_type": "stream",
     "text": [
      "[15:52:10] Molecule does not have explicit Hs. Consider calling AddHs()\n"
     ]
    },
    {
     "name": "stdout",
     "output_type": "stream",
     "text": [
      "0\n",
      "no conformer for MolPort-004-835-720\n"
     ]
    },
    {
     "name": "stderr",
     "output_type": "stream",
     "text": [
      "[15:52:10] Molecule does not have explicit Hs. Consider calling AddHs()\n"
     ]
    },
    {
     "name": "stdout",
     "output_type": "stream",
     "text": [
      "0\n",
      "no conformer for MolPort-004-835-721\n"
     ]
    },
    {
     "name": "stderr",
     "output_type": "stream",
     "text": [
      "[15:52:11] Molecule does not have explicit Hs. Consider calling AddHs()\n"
     ]
    },
    {
     "name": "stdout",
     "output_type": "stream",
     "text": [
      "0\n",
      "no conformer for MolPort-004-835-723\n",
      "0\n",
      "no conformer for MolPort-004-848-603\n"
     ]
    },
    {
     "name": "stderr",
     "output_type": "stream",
     "text": [
      "[15:52:11] Molecule does not have explicit Hs. Consider calling AddHs()\n",
      "[15:52:11] Molecule does not have explicit Hs. Consider calling AddHs()\n"
     ]
    },
    {
     "name": "stdout",
     "output_type": "stream",
     "text": [
      "0\n",
      "no conformer for MolPort-004-878-774\n",
      "0\n",
      "no conformer for MolPort-004-880-712\n"
     ]
    },
    {
     "name": "stderr",
     "output_type": "stream",
     "text": [
      "[15:52:12] Molecule does not have explicit Hs. Consider calling AddHs()\n",
      "[15:52:12] Molecule does not have explicit Hs. Consider calling AddHs()\n"
     ]
    },
    {
     "name": "stdout",
     "output_type": "stream",
     "text": [
      "0\n",
      "no conformer for MolPort-004-885-630\n",
      "0\n",
      "no conformer for MolPort-004-885-805\n"
     ]
    },
    {
     "name": "stderr",
     "output_type": "stream",
     "text": [
      "[15:52:12] Molecule does not have explicit Hs. Consider calling AddHs()\n",
      "[15:52:12] Molecule does not have explicit Hs. Consider calling AddHs()\n"
     ]
    },
    {
     "name": "stdout",
     "output_type": "stream",
     "text": [
      "0\n",
      "no conformer for MolPort-004-885-863\n",
      "0\n",
      "no conformer for MolPort-004-887-888\n"
     ]
    },
    {
     "name": "stderr",
     "output_type": "stream",
     "text": [
      "[15:52:12] Molecule does not have explicit Hs. Consider calling AddHs()\n",
      "[15:52:12] Molecule does not have explicit Hs. Consider calling AddHs()\n"
     ]
    },
    {
     "name": "stdout",
     "output_type": "stream",
     "text": [
      "0\n",
      "no conformer for MolPort-004-891-636\n",
      "0\n",
      "no conformer for MolPort-004-892-165\n"
     ]
    },
    {
     "name": "stderr",
     "output_type": "stream",
     "text": [
      "[15:52:13] Molecule does not have explicit Hs. Consider calling AddHs()\n",
      "[15:52:13] Molecule does not have explicit Hs. Consider calling AddHs()\n"
     ]
    },
    {
     "name": "stdout",
     "output_type": "stream",
     "text": [
      "0\n",
      "no conformer for MolPort-004-898-907\n",
      "0\n",
      "no conformer for MolPort-004-900-800\n"
     ]
    },
    {
     "name": "stderr",
     "output_type": "stream",
     "text": [
      "[15:52:13] Molecule does not have explicit Hs. Consider calling AddHs()\n",
      "[15:52:13] Molecule does not have explicit Hs. Consider calling AddHs()\n"
     ]
    },
    {
     "name": "stdout",
     "output_type": "stream",
     "text": [
      "0\n",
      "no conformer for MolPort-004-901-018\n",
      "0\n",
      "no conformer for MolPort-004-901-128\n"
     ]
    },
    {
     "name": "stderr",
     "output_type": "stream",
     "text": [
      "[15:52:13] Molecule does not have explicit Hs. Consider calling AddHs()\n",
      "[15:52:13] Molecule does not have explicit Hs. Consider calling AddHs()\n"
     ]
    },
    {
     "name": "stdout",
     "output_type": "stream",
     "text": [
      "0\n",
      "no conformer for MolPort-004-918-862\n",
      "0\n",
      "no conformer for MolPort-005-297-209\n"
     ]
    },
    {
     "name": "stderr",
     "output_type": "stream",
     "text": [
      "[15:52:14] Molecule does not have explicit Hs. Consider calling AddHs()\n",
      "[15:52:14] Molecule does not have explicit Hs. Consider calling AddHs()\n"
     ]
    },
    {
     "name": "stdout",
     "output_type": "stream",
     "text": [
      "0\n",
      "no conformer for MolPort-005-297-216\n",
      "0\n",
      "no conformer for MolPort-005-297-217\n"
     ]
    },
    {
     "name": "stderr",
     "output_type": "stream",
     "text": [
      "[15:52:14] Molecule does not have explicit Hs. Consider calling AddHs()\n",
      "[15:52:14] Molecule does not have explicit Hs. Consider calling AddHs()\n"
     ]
    },
    {
     "name": "stdout",
     "output_type": "stream",
     "text": [
      "0\n",
      "no conformer for MolPort-005-297-227\n",
      "0\n",
      "no conformer for MolPort-005-297-290\n"
     ]
    },
    {
     "name": "stderr",
     "output_type": "stream",
     "text": [
      "[15:52:14] Molecule does not have explicit Hs. Consider calling AddHs()\n",
      "[15:52:14] Molecule does not have explicit Hs. Consider calling AddHs()\n"
     ]
    },
    {
     "name": "stdout",
     "output_type": "stream",
     "text": [
      "0\n",
      "no conformer for MolPort-005-297-291\n"
     ]
    },
    {
     "name": "stderr",
     "output_type": "stream",
     "text": [
      "[15:52:15] Molecule does not have explicit Hs. Consider calling AddHs()\n",
      "[15:52:15] Molecule does not have explicit Hs. Consider calling AddHs()\n"
     ]
    },
    {
     "name": "stdout",
     "output_type": "stream",
     "text": [
      "0\n",
      "no conformer for MolPort-005-297-292\n",
      "0\n",
      "no conformer for MolPort-005-298-151\n"
     ]
    },
    {
     "name": "stderr",
     "output_type": "stream",
     "text": [
      "[15:52:15] Molecule does not have explicit Hs. Consider calling AddHs()\n",
      "[15:52:15] Molecule does not have explicit Hs. Consider calling AddHs()\n"
     ]
    },
    {
     "name": "stdout",
     "output_type": "stream",
     "text": [
      "0\n",
      "no conformer for MolPort-005-298-183\n",
      "0\n",
      "no conformer for MolPort-005-298-204\n"
     ]
    },
    {
     "name": "stderr",
     "output_type": "stream",
     "text": [
      "[15:52:15] Molecule does not have explicit Hs. Consider calling AddHs()\n"
     ]
    },
    {
     "name": "stdout",
     "output_type": "stream",
     "text": [
      "0\n",
      "no conformer for MolPort-005-298-862\n",
      "0\n",
      "no conformer for MolPort-005-298-914\n"
     ]
    },
    {
     "name": "stderr",
     "output_type": "stream",
     "text": [
      "[15:52:15] Molecule does not have explicit Hs. Consider calling AddHs()\n",
      "[15:52:16] Molecule does not have explicit Hs. Consider calling AddHs()\n"
     ]
    },
    {
     "name": "stdout",
     "output_type": "stream",
     "text": [
      "0\n",
      "no conformer for MolPort-005-298-976\n"
     ]
    },
    {
     "name": "stderr",
     "output_type": "stream",
     "text": [
      "[15:52:16] Molecule does not have explicit Hs. Consider calling AddHs()\n"
     ]
    },
    {
     "name": "stdout",
     "output_type": "stream",
     "text": [
      "0\n",
      "no conformer for MolPort-005-299-007\n",
      "0\n",
      "no conformer for MolPort-005-300-832\n"
     ]
    },
    {
     "name": "stderr",
     "output_type": "stream",
     "text": [
      "[15:52:16] Molecule does not have explicit Hs. Consider calling AddHs()\n",
      "[15:52:16] Molecule does not have explicit Hs. Consider calling AddHs()\n"
     ]
    },
    {
     "name": "stdout",
     "output_type": "stream",
     "text": [
      "0\n",
      "no conformer for MolPort-005-601-822\n"
     ]
    },
    {
     "name": "stderr",
     "output_type": "stream",
     "text": [
      "[15:52:16] Molecule does not have explicit Hs. Consider calling AddHs()\n"
     ]
    },
    {
     "name": "stdout",
     "output_type": "stream",
     "text": [
      "0\n",
      "no conformer for MolPort-005-920-452\n",
      "0\n",
      "no conformer for MolPort-006-319-214\n"
     ]
    },
    {
     "name": "stderr",
     "output_type": "stream",
     "text": [
      "[15:52:17] Molecule does not have explicit Hs. Consider calling AddHs()\n",
      "[15:52:17] Molecule does not have explicit Hs. Consider calling AddHs()\n"
     ]
    },
    {
     "name": "stdout",
     "output_type": "stream",
     "text": [
      "0\n",
      "no conformer for MolPort-007-995-308\n",
      "16\n",
      "9\n"
     ]
    },
    {
     "name": "stderr",
     "output_type": "stream",
     "text": [
      "[15:52:17] Molecule does not have explicit Hs. Consider calling AddHs()\n",
      "[15:52:17] Molecule does not have explicit Hs. Consider calling AddHs()\n",
      "[15:52:17] Molecule does not have explicit Hs. Consider calling AddHs()\n"
     ]
    },
    {
     "name": "stdout",
     "output_type": "stream",
     "text": [
      "0\n",
      "no conformer for MolPort-007-995-487\n",
      "13\n",
      "9\n"
     ]
    },
    {
     "name": "stderr",
     "output_type": "stream",
     "text": [
      "[15:52:17] Molecule does not have explicit Hs. Consider calling AddHs()\n",
      "[15:52:17] Molecule does not have explicit Hs. Consider calling AddHs()\n",
      "[15:52:17] Molecule does not have explicit Hs. Consider calling AddHs()\n"
     ]
    },
    {
     "name": "stdout",
     "output_type": "stream",
     "text": [
      "15\n",
      "19\n",
      "10\n"
     ]
    },
    {
     "name": "stderr",
     "output_type": "stream",
     "text": [
      "[15:52:17] Molecule does not have explicit Hs. Consider calling AddHs()\n",
      "[15:52:18] Molecule does not have explicit Hs. Consider calling AddHs()\n",
      "[15:52:18] Molecule does not have explicit Hs. Consider calling AddHs()\n"
     ]
    },
    {
     "name": "stdout",
     "output_type": "stream",
     "text": [
      "7\n",
      "16\n",
      "10\n"
     ]
    },
    {
     "name": "stderr",
     "output_type": "stream",
     "text": [
      "[15:52:18] Molecule does not have explicit Hs. Consider calling AddHs()\n",
      "[15:52:18] Molecule does not have explicit Hs. Consider calling AddHs()\n",
      "[15:52:18] Molecule does not have explicit Hs. Consider calling AddHs()\n"
     ]
    },
    {
     "name": "stdout",
     "output_type": "stream",
     "text": [
      "10\n"
     ]
    },
    {
     "name": "stderr",
     "output_type": "stream",
     "text": [
      "[15:52:18] Molecule does not have explicit Hs. Consider calling AddHs()\n"
     ]
    },
    {
     "name": "stdout",
     "output_type": "stream",
     "text": [
      "7\n",
      "15\n"
     ]
    },
    {
     "name": "stderr",
     "output_type": "stream",
     "text": [
      "[15:52:18] Molecule does not have explicit Hs. Consider calling AddHs()\n",
      "[15:52:18] Molecule does not have explicit Hs. Consider calling AddHs()\n"
     ]
    },
    {
     "name": "stdout",
     "output_type": "stream",
     "text": [
      "9\n",
      "0\n",
      "no conformer for MolPort-008-294-947\n"
     ]
    },
    {
     "name": "stderr",
     "output_type": "stream",
     "text": [
      "[15:52:18] Molecule does not have explicit Hs. Consider calling AddHs()\n",
      "[15:52:19] Molecule does not have explicit Hs. Consider calling AddHs()\n"
     ]
    },
    {
     "name": "stdout",
     "output_type": "stream",
     "text": [
      "0\n",
      "no conformer for MolPort-008-353-170\n"
     ]
    },
    {
     "name": "stderr",
     "output_type": "stream",
     "text": [
      "[15:52:19] Molecule does not have explicit Hs. Consider calling AddHs()\n"
     ]
    },
    {
     "name": "stdout",
     "output_type": "stream",
     "text": [
      "0\n",
      "no conformer for MolPort-009-202-224\n",
      "0\n",
      "no conformer for MolPort-009-202-227\n"
     ]
    },
    {
     "name": "stderr",
     "output_type": "stream",
     "text": [
      "[15:52:19] Molecule does not have explicit Hs. Consider calling AddHs()\n",
      "[15:52:19] Molecule does not have explicit Hs. Consider calling AddHs()\n"
     ]
    },
    {
     "name": "stdout",
     "output_type": "stream",
     "text": [
      "0\n",
      "no conformer for MolPort-009-204-049\n",
      "0\n",
      "no conformer for MolPort-009-204-172\n"
     ]
    },
    {
     "name": "stderr",
     "output_type": "stream",
     "text": [
      "[15:52:20] Molecule does not have explicit Hs. Consider calling AddHs()\n",
      "[15:52:20] Molecule does not have explicit Hs. Consider calling AddHs()\n"
     ]
    },
    {
     "name": "stdout",
     "output_type": "stream",
     "text": [
      "0\n",
      "no conformer for MolPort-009-204-248\n",
      "0\n",
      "no conformer for MolPort-009-204-450\n"
     ]
    },
    {
     "name": "stderr",
     "output_type": "stream",
     "text": [
      "[15:52:20] Molecule does not have explicit Hs. Consider calling AddHs()\n",
      "[15:52:20] Molecule does not have explicit Hs. Consider calling AddHs()\n"
     ]
    },
    {
     "name": "stdout",
     "output_type": "stream",
     "text": [
      "0\n",
      "no conformer for MolPort-009-685-377\n",
      "21\n",
      "10\n"
     ]
    },
    {
     "name": "stderr",
     "output_type": "stream",
     "text": [
      "[15:52:20] Molecule does not have explicit Hs. Consider calling AddHs()\n",
      "[15:52:20] Molecule does not have explicit Hs. Consider calling AddHs()\n",
      "[15:52:20] Molecule does not have explicit Hs. Consider calling AddHs()\n"
     ]
    },
    {
     "name": "stdout",
     "output_type": "stream",
     "text": [
      "11\n",
      "0\n",
      "no conformer for MolPort-009-690-757\n"
     ]
    },
    {
     "name": "stderr",
     "output_type": "stream",
     "text": [
      "[15:52:20] Molecule does not have explicit Hs. Consider calling AddHs()\n",
      "[15:52:21] Molecule does not have explicit Hs. Consider calling AddHs()\n"
     ]
    },
    {
     "name": "stdout",
     "output_type": "stream",
     "text": [
      "0\n",
      "no conformer for MolPort-009-691-387\n",
      "0\n",
      "no conformer for MolPort-009-691-850\n"
     ]
    },
    {
     "name": "stderr",
     "output_type": "stream",
     "text": [
      "[15:52:21] Molecule does not have explicit Hs. Consider calling AddHs()\n",
      "[15:52:21] Molecule does not have explicit Hs. Consider calling AddHs()\n"
     ]
    },
    {
     "name": "stdout",
     "output_type": "stream",
     "text": [
      "0\n",
      "no conformer for MolPort-009-691-862\n",
      "0\n",
      "no conformer for MolPort-009-694-308\n"
     ]
    },
    {
     "name": "stderr",
     "output_type": "stream",
     "text": [
      "[15:52:21] Molecule does not have explicit Hs. Consider calling AddHs()\n",
      "[15:52:21] Molecule does not have explicit Hs. Consider calling AddHs()\n"
     ]
    },
    {
     "name": "stdout",
     "output_type": "stream",
     "text": [
      "0\n",
      "no conformer for MolPort-009-694-316\n",
      "0\n",
      "no conformer for MolPort-009-694-317\n"
     ]
    },
    {
     "name": "stderr",
     "output_type": "stream",
     "text": [
      "[15:52:22] Molecule does not have explicit Hs. Consider calling AddHs()\n",
      "[15:52:22] Molecule does not have explicit Hs. Consider calling AddHs()\n"
     ]
    },
    {
     "name": "stdout",
     "output_type": "stream",
     "text": [
      "0\n",
      "no conformer for MolPort-009-696-734\n",
      "0\n",
      "no conformer for MolPort-009-696-757\n",
      "0\n",
      "no conformer for MolPort-005-302-763\n"
     ]
    },
    {
     "name": "stderr",
     "output_type": "stream",
     "text": [
      "[15:52:22] Molecule does not have explicit Hs. Consider calling AddHs()\n",
      "[15:52:22] Molecule does not have explicit Hs. Consider calling AddHs()\n",
      "[15:52:22] Molecule does not have explicit Hs. Consider calling AddHs()\n"
     ]
    },
    {
     "name": "stdout",
     "output_type": "stream",
     "text": [
      "0\n",
      "no conformer for MolPort-023-209-879\n"
     ]
    },
    {
     "name": "stderr",
     "output_type": "stream",
     "text": [
      "[15:52:22] Molecule does not have explicit Hs. Consider calling AddHs()\n"
     ]
    },
    {
     "name": "stdout",
     "output_type": "stream",
     "text": [
      "0\n",
      "no conformer for MolPort-007-558-805\n"
     ]
    },
    {
     "name": "stderr",
     "output_type": "stream",
     "text": [
      "[15:52:23] Molecule does not have explicit Hs. Consider calling AddHs()\n"
     ]
    },
    {
     "name": "stdout",
     "output_type": "stream",
     "text": [
      "0\n",
      "no conformer for MolPort-007-558-950\n",
      "0\n",
      "no conformer for MolPort-007-889-693\n"
     ]
    },
    {
     "name": "stderr",
     "output_type": "stream",
     "text": [
      "[15:52:23] Molecule does not have explicit Hs. Consider calling AddHs()\n",
      "[15:52:23] Molecule does not have explicit Hs. Consider calling AddHs()\n"
     ]
    },
    {
     "name": "stdout",
     "output_type": "stream",
     "text": [
      "0\n",
      "no conformer for MolPort-007-889-749\n",
      "0\n",
      "no conformer for MolPort-008-011-835\n"
     ]
    },
    {
     "name": "stderr",
     "output_type": "stream",
     "text": [
      "[15:52:23] Molecule does not have explicit Hs. Consider calling AddHs()\n",
      "[15:52:23] Molecule does not have explicit Hs. Consider calling AddHs()\n"
     ]
    },
    {
     "name": "stdout",
     "output_type": "stream",
     "text": [
      "0\n",
      "no conformer for MolPort-008-012-023\n",
      "0\n",
      "no conformer for MolPort-008-012-203\n"
     ]
    },
    {
     "name": "stderr",
     "output_type": "stream",
     "text": [
      "[15:52:24] Molecule does not have explicit Hs. Consider calling AddHs()\n",
      "[15:52:24] Molecule does not have explicit Hs. Consider calling AddHs()\n"
     ]
    },
    {
     "name": "stdout",
     "output_type": "stream",
     "text": [
      "0\n",
      "no conformer for MolPort-008-119-069\n",
      "0\n",
      "no conformer for MolPort-008-213-996\n"
     ]
    },
    {
     "name": "stderr",
     "output_type": "stream",
     "text": [
      "[15:52:24] Molecule does not have explicit Hs. Consider calling AddHs()\n",
      "[15:52:24] Molecule does not have explicit Hs. Consider calling AddHs()\n"
     ]
    },
    {
     "name": "stdout",
     "output_type": "stream",
     "text": [
      "0\n",
      "no conformer for MolPort-008-287-101\n",
      "0\n",
      "no conformer for MolPort-008-312-827\n"
     ]
    },
    {
     "name": "stderr",
     "output_type": "stream",
     "text": [
      "[15:52:24] Molecule does not have explicit Hs. Consider calling AddHs()\n",
      "[15:52:24] Molecule does not have explicit Hs. Consider calling AddHs()\n"
     ]
    },
    {
     "name": "stdout",
     "output_type": "stream",
     "text": [
      "6\n",
      "10\n"
     ]
    },
    {
     "name": "stderr",
     "output_type": "stream",
     "text": [
      "[15:52:25] Molecule does not have explicit Hs. Consider calling AddHs()\n",
      "[15:52:25] Molecule does not have explicit Hs. Consider calling AddHs()\n"
     ]
    },
    {
     "name": "stdout",
     "output_type": "stream",
     "text": [
      "6\n"
     ]
    },
    {
     "name": "stderr",
     "output_type": "stream",
     "text": [
      "[15:52:25] Molecule does not have explicit Hs. Consider calling AddHs()\n"
     ]
    },
    {
     "name": "stdout",
     "output_type": "stream",
     "text": [
      "0\n",
      "no conformer for MolPort-009-685-985\n",
      "0\n",
      "no conformer for MolPort-009-685-995\n"
     ]
    },
    {
     "name": "stderr",
     "output_type": "stream",
     "text": [
      "[15:52:25] Molecule does not have explicit Hs. Consider calling AddHs()\n",
      "[15:52:25] Molecule does not have explicit Hs. Consider calling AddHs()\n"
     ]
    },
    {
     "name": "stdout",
     "output_type": "stream",
     "text": [
      "0\n",
      "no conformer for MolPort-009-686-745\n",
      "13\n",
      "12\n"
     ]
    },
    {
     "name": "stderr",
     "output_type": "stream",
     "text": [
      "[15:52:25] Molecule does not have explicit Hs. Consider calling AddHs()\n",
      "[15:52:25] Molecule does not have explicit Hs. Consider calling AddHs()\n",
      "[15:52:25] Molecule does not have explicit Hs. Consider calling AddHs()\n"
     ]
    },
    {
     "name": "stdout",
     "output_type": "stream",
     "text": [
      "4\n",
      "6\n",
      "15\n"
     ]
    },
    {
     "name": "stderr",
     "output_type": "stream",
     "text": [
      "[15:52:26] Molecule does not have explicit Hs. Consider calling AddHs()\n",
      "[15:52:26] Molecule does not have explicit Hs. Consider calling AddHs()\n",
      "[15:52:26] Molecule does not have explicit Hs. Consider calling AddHs()\n"
     ]
    },
    {
     "name": "stdout",
     "output_type": "stream",
     "text": [
      "3\n",
      "0\n",
      "no conformer for MolPort-009-694-693\n"
     ]
    },
    {
     "name": "stderr",
     "output_type": "stream",
     "text": [
      "[15:52:26] Molecule does not have explicit Hs. Consider calling AddHs()\n",
      "[15:52:26] Molecule does not have explicit Hs. Consider calling AddHs()\n"
     ]
    },
    {
     "name": "stdout",
     "output_type": "stream",
     "text": [
      "0\n",
      "no conformer for MolPort-009-694-701\n"
     ]
    },
    {
     "name": "stderr",
     "output_type": "stream",
     "text": [
      "[15:52:26] Molecule does not have explicit Hs. Consider calling AddHs()\n"
     ]
    },
    {
     "name": "stdout",
     "output_type": "stream",
     "text": [
      "0\n",
      "no conformer for MolPort-009-694-709\n"
     ]
    },
    {
     "name": "stderr",
     "output_type": "stream",
     "text": [
      "[15:52:26] Molecule does not have explicit Hs. Consider calling AddHs()\n",
      "[15:52:27] Molecule does not have explicit Hs. Consider calling AddHs()\n"
     ]
    },
    {
     "name": "stdout",
     "output_type": "stream",
     "text": [
      "0\n",
      "no conformer for MolPort-009-694-858\n",
      "0\n",
      "no conformer for MolPort-009-694-861\n",
      "0\n",
      "no conformer for MolPort-009-694-869\n"
     ]
    },
    {
     "name": "stderr",
     "output_type": "stream",
     "text": [
      "[15:52:27] Molecule does not have explicit Hs. Consider calling AddHs()\n",
      "[15:52:27] Molecule does not have explicit Hs. Consider calling AddHs()\n"
     ]
    },
    {
     "name": "stdout",
     "output_type": "stream",
     "text": [
      "8\n",
      "0\n",
      "no conformer for MolPort-009-721-002\n",
      "0\n",
      "no conformer for MolPort-009-721-027\n"
     ]
    },
    {
     "name": "stderr",
     "output_type": "stream",
     "text": [
      "[15:52:27] Molecule does not have explicit Hs. Consider calling AddHs()\n",
      "[15:52:27] Molecule does not have explicit Hs. Consider calling AddHs()\n",
      "[15:52:27] Molecule does not have explicit Hs. Consider calling AddHs()\n"
     ]
    },
    {
     "name": "stdout",
     "output_type": "stream",
     "text": [
      "0\n",
      "no conformer for MolPort-009-724-548\n",
      "0\n",
      "no conformer for MolPort-009-724-939\n",
      "0\n",
      "no conformer for MolPort-009-725-019\n"
     ]
    },
    {
     "name": "stderr",
     "output_type": "stream",
     "text": [
      "[15:52:27] Molecule does not have explicit Hs. Consider calling AddHs()\n",
      "[15:52:27] Molecule does not have explicit Hs. Consider calling AddHs()\n",
      "[15:52:28] Molecule does not have explicit Hs. Consider calling AddHs()\n"
     ]
    },
    {
     "name": "stdout",
     "output_type": "stream",
     "text": [
      "0\n",
      "no conformer for MolPort-009-726-525\n",
      "0\n",
      "no conformer for MolPort-009-726-578\n"
     ]
    },
    {
     "name": "stderr",
     "output_type": "stream",
     "text": [
      "[15:52:28] Molecule does not have explicit Hs. Consider calling AddHs()\n",
      "[15:52:28] Molecule does not have explicit Hs. Consider calling AddHs()\n"
     ]
    },
    {
     "name": "stdout",
     "output_type": "stream",
     "text": [
      "0\n",
      "no conformer for MolPort-009-726-586\n",
      "0\n",
      "no conformer for MolPort-009-726-592\n"
     ]
    },
    {
     "name": "stderr",
     "output_type": "stream",
     "text": [
      "[15:52:28] Molecule does not have explicit Hs. Consider calling AddHs()\n",
      "[15:52:28] Molecule does not have explicit Hs. Consider calling AddHs()\n"
     ]
    },
    {
     "name": "stdout",
     "output_type": "stream",
     "text": [
      "0\n",
      "no conformer for MolPort-009-726-642\n",
      "0\n",
      "no conformer for MolPort-009-726-703\n"
     ]
    },
    {
     "name": "stderr",
     "output_type": "stream",
     "text": [
      "[15:52:28] Molecule does not have explicit Hs. Consider calling AddHs()\n",
      "[15:52:28] Molecule does not have explicit Hs. Consider calling AddHs()\n"
     ]
    },
    {
     "name": "stdout",
     "output_type": "stream",
     "text": [
      "0\n",
      "no conformer for MolPort-009-726-714\n",
      "0\n",
      "no conformer for MolPort-009-733-102\n"
     ]
    },
    {
     "name": "stderr",
     "output_type": "stream",
     "text": [
      "[15:52:29] Molecule does not have explicit Hs. Consider calling AddHs()\n",
      "[15:52:29] Molecule does not have explicit Hs. Consider calling AddHs()\n"
     ]
    },
    {
     "name": "stdout",
     "output_type": "stream",
     "text": [
      "0\n",
      "no conformer for MolPort-009-733-103\n",
      "0\n",
      "no conformer for MolPort-009-733-104\n"
     ]
    },
    {
     "name": "stderr",
     "output_type": "stream",
     "text": [
      "[15:52:29] Molecule does not have explicit Hs. Consider calling AddHs()\n",
      "[15:52:29] Molecule does not have explicit Hs. Consider calling AddHs()\n"
     ]
    },
    {
     "name": "stdout",
     "output_type": "stream",
     "text": [
      "0\n",
      "no conformer for MolPort-009-733-105\n"
     ]
    },
    {
     "name": "stderr",
     "output_type": "stream",
     "text": [
      "[15:52:29] Molecule does not have explicit Hs. Consider calling AddHs()\n"
     ]
    },
    {
     "name": "stdout",
     "output_type": "stream",
     "text": [
      "0\n",
      "no conformer for MolPort-009-733-106\n"
     ]
    },
    {
     "name": "stderr",
     "output_type": "stream",
     "text": [
      "[15:52:30] Molecule does not have explicit Hs. Consider calling AddHs()\n"
     ]
    },
    {
     "name": "stdout",
     "output_type": "stream",
     "text": [
      "0\n",
      "no conformer for MolPort-009-733-107\n"
     ]
    },
    {
     "name": "stderr",
     "output_type": "stream",
     "text": [
      "[15:52:30] Molecule does not have explicit Hs. Consider calling AddHs()\n"
     ]
    },
    {
     "name": "stdout",
     "output_type": "stream",
     "text": [
      "0\n",
      "no conformer for MolPort-009-733-108\n",
      "0\n",
      "no conformer for MolPort-009-733-109\n"
     ]
    },
    {
     "name": "stderr",
     "output_type": "stream",
     "text": [
      "[15:52:30] Molecule does not have explicit Hs. Consider calling AddHs()\n",
      "[15:52:30] Molecule does not have explicit Hs. Consider calling AddHs()\n"
     ]
    },
    {
     "name": "stdout",
     "output_type": "stream",
     "text": [
      "0\n",
      "no conformer for MolPort-009-733-110\n",
      "0\n",
      "no conformer for MolPort-009-733-111\n"
     ]
    },
    {
     "name": "stderr",
     "output_type": "stream",
     "text": [
      "[15:52:31] Molecule does not have explicit Hs. Consider calling AddHs()\n",
      "[15:52:31] Molecule does not have explicit Hs. Consider calling AddHs()\n"
     ]
    },
    {
     "name": "stdout",
     "output_type": "stream",
     "text": [
      "0\n",
      "no conformer for MolPort-009-733-112\n"
     ]
    },
    {
     "name": "stderr",
     "output_type": "stream",
     "text": [
      "[15:52:31] Molecule does not have explicit Hs. Consider calling AddHs()\n"
     ]
    },
    {
     "name": "stdout",
     "output_type": "stream",
     "text": [
      "0\n",
      "no conformer for MolPort-009-733-113\n"
     ]
    },
    {
     "name": "stderr",
     "output_type": "stream",
     "text": [
      "[15:52:31] Molecule does not have explicit Hs. Consider calling AddHs()\n"
     ]
    },
    {
     "name": "stdout",
     "output_type": "stream",
     "text": [
      "0\n",
      "no conformer for MolPort-009-733-115\n"
     ]
    },
    {
     "name": "stderr",
     "output_type": "stream",
     "text": [
      "[15:52:32] Molecule does not have explicit Hs. Consider calling AddHs()\n"
     ]
    },
    {
     "name": "stdout",
     "output_type": "stream",
     "text": [
      "0\n",
      "no conformer for MolPort-009-733-116\n"
     ]
    },
    {
     "name": "stderr",
     "output_type": "stream",
     "text": [
      "[15:52:32] Molecule does not have explicit Hs. Consider calling AddHs()\n"
     ]
    },
    {
     "name": "stdout",
     "output_type": "stream",
     "text": [
      "0\n",
      "no conformer for MolPort-009-733-117\n"
     ]
    },
    {
     "name": "stderr",
     "output_type": "stream",
     "text": [
      "[15:52:32] Molecule does not have explicit Hs. Consider calling AddHs()\n"
     ]
    },
    {
     "name": "stdout",
     "output_type": "stream",
     "text": [
      "0\n",
      "no conformer for MolPort-009-733-118\n",
      "0\n",
      "no conformer for MolPort-009-733-120\n"
     ]
    },
    {
     "name": "stderr",
     "output_type": "stream",
     "text": [
      "[15:52:32] Molecule does not have explicit Hs. Consider calling AddHs()\n",
      "[15:52:32] Molecule does not have explicit Hs. Consider calling AddHs()\n"
     ]
    },
    {
     "name": "stdout",
     "output_type": "stream",
     "text": [
      "0\n",
      "no conformer for MolPort-009-733-121\n",
      "0\n",
      "no conformer for MolPort-009-733-122\n"
     ]
    },
    {
     "name": "stderr",
     "output_type": "stream",
     "text": [
      "[15:52:33] Molecule does not have explicit Hs. Consider calling AddHs()\n",
      "[15:52:33] Molecule does not have explicit Hs. Consider calling AddHs()\n"
     ]
    },
    {
     "name": "stdout",
     "output_type": "stream",
     "text": [
      "0\n",
      "no conformer for MolPort-009-733-123\n"
     ]
    },
    {
     "name": "stderr",
     "output_type": "stream",
     "text": [
      "[15:52:33] Molecule does not have explicit Hs. Consider calling AddHs()\n"
     ]
    },
    {
     "name": "stdout",
     "output_type": "stream",
     "text": [
      "0\n",
      "no conformer for MolPort-009-733-124\n",
      "0\n",
      "no conformer for MolPort-009-733-125\n"
     ]
    },
    {
     "name": "stderr",
     "output_type": "stream",
     "text": [
      "[15:52:34] Molecule does not have explicit Hs. Consider calling AddHs()\n",
      "[15:52:34] Molecule does not have explicit Hs. Consider calling AddHs()\n"
     ]
    },
    {
     "name": "stdout",
     "output_type": "stream",
     "text": [
      "0\n",
      "no conformer for MolPort-009-733-126\n"
     ]
    },
    {
     "name": "stderr",
     "output_type": "stream",
     "text": [
      "[15:52:34] Molecule does not have explicit Hs. Consider calling AddHs()\n"
     ]
    },
    {
     "name": "stdout",
     "output_type": "stream",
     "text": [
      "0\n",
      "no conformer for MolPort-009-733-127\n",
      "0\n",
      "no conformer for MolPort-016-724-313\n"
     ]
    },
    {
     "name": "stderr",
     "output_type": "stream",
     "text": [
      "[15:52:34] Molecule does not have explicit Hs. Consider calling AddHs()\n",
      "[15:52:34] Molecule does not have explicit Hs. Consider calling AddHs()\n"
     ]
    },
    {
     "name": "stdout",
     "output_type": "stream",
     "text": [
      "0\n",
      "no conformer for MolPort-018-652-783\n",
      "0\n",
      "no conformer for MolPort-019-808-394\n"
     ]
    },
    {
     "name": "stderr",
     "output_type": "stream",
     "text": [
      "[15:52:35] Molecule does not have explicit Hs. Consider calling AddHs()\n",
      "[15:52:35] Molecule does not have explicit Hs. Consider calling AddHs()\n"
     ]
    },
    {
     "name": "stdout",
     "output_type": "stream",
     "text": [
      "0\n",
      "no conformer for MolPort-019-829-285\n"
     ]
    },
    {
     "name": "stderr",
     "output_type": "stream",
     "text": [
      "[15:52:35] Molecule does not have explicit Hs. Consider calling AddHs()\n"
     ]
    },
    {
     "name": "stdout",
     "output_type": "stream",
     "text": [
      "0\n",
      "no conformer for MolPort-019-829-289\n",
      "0\n",
      "no conformer for MolPort-019-829-305\n",
      "0\n",
      "no conformer for MolPort-019-908-450\n"
     ]
    },
    {
     "name": "stderr",
     "output_type": "stream",
     "text": [
      "[15:52:35] Molecule does not have explicit Hs. Consider calling AddHs()\n",
      "[15:52:35] Molecule does not have explicit Hs. Consider calling AddHs()\n",
      "[15:52:35] Molecule does not have explicit Hs. Consider calling AddHs()\n"
     ]
    },
    {
     "name": "stdout",
     "output_type": "stream",
     "text": [
      "0\n",
      "no conformer for MolPort-019-919-122\n",
      "0\n",
      "no conformer for MolPort-019-921-754\n"
     ]
    },
    {
     "name": "stderr",
     "output_type": "stream",
     "text": [
      "[15:52:36] Molecule does not have explicit Hs. Consider calling AddHs()\n",
      "[15:52:36] Molecule does not have explicit Hs. Consider calling AddHs()\n"
     ]
    },
    {
     "name": "stdout",
     "output_type": "stream",
     "text": [
      "0\n",
      "no conformer for MolPort-023-198-919\n",
      "0\n",
      "no conformer for MolPort-023-198-947\n"
     ]
    },
    {
     "name": "stderr",
     "output_type": "stream",
     "text": [
      "[15:52:36] Molecule does not have explicit Hs. Consider calling AddHs()\n",
      "[15:52:36] Molecule does not have explicit Hs. Consider calling AddHs()\n"
     ]
    },
    {
     "name": "stdout",
     "output_type": "stream",
     "text": [
      "0\n",
      "no conformer for MolPort-023-209-875\n",
      "0\n",
      "no conformer for MolPort-023-209-876\n"
     ]
    },
    {
     "name": "stderr",
     "output_type": "stream",
     "text": [
      "[15:52:36] Molecule does not have explicit Hs. Consider calling AddHs()\n",
      "[15:52:36] Molecule does not have explicit Hs. Consider calling AddHs()\n"
     ]
    },
    {
     "name": "stdout",
     "output_type": "stream",
     "text": [
      "0\n",
      "no conformer for MolPort-009-734-775\n"
     ]
    },
    {
     "name": "stderr",
     "output_type": "stream",
     "text": [
      "[15:52:37] Molecule does not have explicit Hs. Consider calling AddHs()\n"
     ]
    },
    {
     "name": "stdout",
     "output_type": "stream",
     "text": [
      "0\n",
      "no conformer for MolPort-009-738-111\n",
      "0\n",
      "no conformer for MolPort-009-738-112\n"
     ]
    },
    {
     "name": "stderr",
     "output_type": "stream",
     "text": [
      "[15:52:37] Molecule does not have explicit Hs. Consider calling AddHs()\n",
      "[15:52:37] Molecule does not have explicit Hs. Consider calling AddHs()\n"
     ]
    },
    {
     "name": "stdout",
     "output_type": "stream",
     "text": [
      "0\n",
      "no conformer for MolPort-009-738-113\n",
      "0\n",
      "no conformer for MolPort-009-738-166\n"
     ]
    },
    {
     "name": "stderr",
     "output_type": "stream",
     "text": [
      "[15:52:37] Molecule does not have explicit Hs. Consider calling AddHs()\n",
      "[15:52:37] Molecule does not have explicit Hs. Consider calling AddHs()\n"
     ]
    },
    {
     "name": "stdout",
     "output_type": "stream",
     "text": [
      "0\n",
      "no conformer for MolPort-009-738-167\n"
     ]
    },
    {
     "name": "stderr",
     "output_type": "stream",
     "text": [
      "[15:52:37] Molecule does not have explicit Hs. Consider calling AddHs()\n"
     ]
    },
    {
     "name": "stdout",
     "output_type": "stream",
     "text": [
      "0\n",
      "no conformer for MolPort-009-738-168\n"
     ]
    },
    {
     "name": "stderr",
     "output_type": "stream",
     "text": [
      "[15:52:38] Molecule does not have explicit Hs. Consider calling AddHs()\n"
     ]
    },
    {
     "name": "stdout",
     "output_type": "stream",
     "text": [
      "0\n",
      "no conformer for MolPort-009-738-169\n",
      "0\n",
      "no conformer for MolPort-009-738-170\n"
     ]
    },
    {
     "name": "stderr",
     "output_type": "stream",
     "text": [
      "[15:52:38] Molecule does not have explicit Hs. Consider calling AddHs()\n",
      "[15:52:38] Molecule does not have explicit Hs. Consider calling AddHs()\n"
     ]
    },
    {
     "name": "stdout",
     "output_type": "stream",
     "text": [
      "0\n",
      "no conformer for MolPort-009-738-171\n"
     ]
    },
    {
     "name": "stderr",
     "output_type": "stream",
     "text": [
      "[15:52:38] Molecule does not have explicit Hs. Consider calling AddHs()\n"
     ]
    },
    {
     "name": "stdout",
     "output_type": "stream",
     "text": [
      "0\n",
      "no conformer for MolPort-009-738-172\n",
      "0\n",
      "no conformer for MolPort-009-741-507\n"
     ]
    },
    {
     "name": "stderr",
     "output_type": "stream",
     "text": [
      "[15:52:39] Molecule does not have explicit Hs. Consider calling AddHs()\n",
      "[15:52:39] Molecule does not have explicit Hs. Consider calling AddHs()\n"
     ]
    },
    {
     "name": "stdout",
     "output_type": "stream",
     "text": [
      "0\n",
      "no conformer for MolPort-009-741-817\n",
      "0\n",
      "no conformer for MolPort-009-741-818\n",
      "0\n",
      "no conformer for MolPort-009-741-819\n"
     ]
    },
    {
     "name": "stderr",
     "output_type": "stream",
     "text": [
      "[15:52:39] Molecule does not have explicit Hs. Consider calling AddHs()\n",
      "[15:52:39] Molecule does not have explicit Hs. Consider calling AddHs()\n",
      "[15:52:39] Molecule does not have explicit Hs. Consider calling AddHs()\n"
     ]
    },
    {
     "name": "stdout",
     "output_type": "stream",
     "text": [
      "0\n",
      "no conformer for MolPort-009-741-820\n",
      "0\n",
      "no conformer for MolPort-009-741-853\n"
     ]
    },
    {
     "name": "stderr",
     "output_type": "stream",
     "text": [
      "[15:52:39] Molecule does not have explicit Hs. Consider calling AddHs()\n",
      "[15:52:39] Molecule does not have explicit Hs. Consider calling AddHs()\n"
     ]
    },
    {
     "name": "stdout",
     "output_type": "stream",
     "text": [
      "0\n",
      "no conformer for MolPort-009-741-854\n",
      "0\n",
      "no conformer for MolPort-009-741-855\n"
     ]
    },
    {
     "name": "stderr",
     "output_type": "stream",
     "text": [
      "[15:52:39] Molecule does not have explicit Hs. Consider calling AddHs()\n",
      "[15:52:40] Molecule does not have explicit Hs. Consider calling AddHs()\n"
     ]
    },
    {
     "name": "stdout",
     "output_type": "stream",
     "text": [
      "0\n",
      "no conformer for MolPort-009-741-865\n"
     ]
    },
    {
     "name": "stderr",
     "output_type": "stream",
     "text": [
      "[15:52:40] Molecule does not have explicit Hs. Consider calling AddHs()\n"
     ]
    },
    {
     "name": "stdout",
     "output_type": "stream",
     "text": [
      "0\n",
      "no conformer for MolPort-009-741-866\n",
      "0\n",
      "no conformer for MolPort-009-741-867\n",
      "0\n",
      "no conformer for MolPort-009-742-014\n"
     ]
    },
    {
     "name": "stderr",
     "output_type": "stream",
     "text": [
      "[15:52:40] Molecule does not have explicit Hs. Consider calling AddHs()\n",
      "[15:52:40] Molecule does not have explicit Hs. Consider calling AddHs()\n",
      "[15:52:40] Molecule does not have explicit Hs. Consider calling AddHs()\n"
     ]
    },
    {
     "name": "stdout",
     "output_type": "stream",
     "text": [
      "0\n",
      "no conformer for MolPort-009-751-989\n"
     ]
    },
    {
     "name": "stderr",
     "output_type": "stream",
     "text": [
      "[15:52:40] Molecule does not have explicit Hs. Consider calling AddHs()\n"
     ]
    },
    {
     "name": "stdout",
     "output_type": "stream",
     "text": [
      "0\n",
      "no conformer for MolPort-010-646-014\n"
     ]
    },
    {
     "name": "stderr",
     "output_type": "stream",
     "text": [
      "[15:52:41] Molecule does not have explicit Hs. Consider calling AddHs()\n"
     ]
    },
    {
     "name": "stdout",
     "output_type": "stream",
     "text": [
      "0\n",
      "no conformer for MolPort-010-646-085\n"
     ]
    },
    {
     "name": "stderr",
     "output_type": "stream",
     "text": [
      "[15:52:41] Molecule does not have explicit Hs. Consider calling AddHs()\n"
     ]
    },
    {
     "name": "stdout",
     "output_type": "stream",
     "text": [
      "0\n",
      "no conformer for MolPort-010-646-133\n"
     ]
    },
    {
     "name": "stderr",
     "output_type": "stream",
     "text": [
      "[15:52:41] Molecule does not have explicit Hs. Consider calling AddHs()\n"
     ]
    },
    {
     "name": "stdout",
     "output_type": "stream",
     "text": [
      "0\n",
      "no conformer for MolPort-016-720-056\n",
      "0\n",
      "no conformer for MolPort-018-659-806\n"
     ]
    },
    {
     "name": "stderr",
     "output_type": "stream",
     "text": [
      "[15:52:42] Molecule does not have explicit Hs. Consider calling AddHs()\n",
      "[15:52:42] Molecule does not have explicit Hs. Consider calling AddHs()\n"
     ]
    },
    {
     "name": "stdout",
     "output_type": "stream",
     "text": [
      "0\n",
      "no conformer for MolPort-019-793-851\n",
      "0\n",
      "no conformer for MolPort-019-918-703\n"
     ]
    },
    {
     "name": "stderr",
     "output_type": "stream",
     "text": [
      "[15:52:42] Molecule does not have explicit Hs. Consider calling AddHs()\n",
      "[15:52:42] Molecule does not have explicit Hs. Consider calling AddHs()\n"
     ]
    },
    {
     "name": "stdout",
     "output_type": "stream",
     "text": [
      "0\n",
      "no conformer for MolPort-019-918-707\n",
      "0\n",
      "no conformer for MolPort-019-918-708\n"
     ]
    },
    {
     "name": "stderr",
     "output_type": "stream",
     "text": [
      "[15:52:42] Molecule does not have explicit Hs. Consider calling AddHs()\n",
      "[15:52:42] Molecule does not have explicit Hs. Consider calling AddHs()\n"
     ]
    },
    {
     "name": "stdout",
     "output_type": "stream",
     "text": [
      "0\n",
      "no conformer for MolPort-019-918-714\n"
     ]
    },
    {
     "name": "stderr",
     "output_type": "stream",
     "text": [
      "[15:52:42] Molecule does not have explicit Hs. Consider calling AddHs()\n"
     ]
    },
    {
     "name": "stdout",
     "output_type": "stream",
     "text": [
      "0\n",
      "no conformer for MolPort-019-919-020\n"
     ]
    },
    {
     "name": "stderr",
     "output_type": "stream",
     "text": [
      "[15:52:43] Molecule does not have explicit Hs. Consider calling AddHs()\n"
     ]
    },
    {
     "name": "stdout",
     "output_type": "stream",
     "text": [
      "0\n",
      "no conformer for MolPort-020-178-617\n",
      "0\n",
      "no conformer for MolPort-023-209-863\n"
     ]
    },
    {
     "name": "stderr",
     "output_type": "stream",
     "text": [
      "[15:52:43] Molecule does not have explicit Hs. Consider calling AddHs()\n",
      "[15:52:43] Molecule does not have explicit Hs. Consider calling AddHs()\n"
     ]
    },
    {
     "name": "stdout",
     "output_type": "stream",
     "text": [
      "0\n",
      "no conformer for MolPort-023-209-864\n"
     ]
    },
    {
     "name": "stderr",
     "output_type": "stream",
     "text": [
      "[15:52:43] Molecule does not have explicit Hs. Consider calling AddHs()\n"
     ]
    },
    {
     "name": "stdout",
     "output_type": "stream",
     "text": [
      "0\n",
      "no conformer for MolPort-023-209-865\n",
      "0\n",
      "no conformer for MolPort-023-209-866\n"
     ]
    },
    {
     "name": "stderr",
     "output_type": "stream",
     "text": [
      "[15:52:44] Molecule does not have explicit Hs. Consider calling AddHs()\n",
      "[15:52:44] Molecule does not have explicit Hs. Consider calling AddHs()\n"
     ]
    },
    {
     "name": "stdout",
     "output_type": "stream",
     "text": [
      "0\n",
      "no conformer for MolPort-023-209-867\n",
      "0\n",
      "no conformer for MolPort-023-209-868\n"
     ]
    },
    {
     "name": "stderr",
     "output_type": "stream",
     "text": [
      "[15:52:44] Molecule does not have explicit Hs. Consider calling AddHs()\n",
      "[15:52:44] Molecule does not have explicit Hs. Consider calling AddHs()\n"
     ]
    },
    {
     "name": "stdout",
     "output_type": "stream",
     "text": [
      "0\n",
      "no conformer for MolPort-023-209-869\n"
     ]
    },
    {
     "name": "stderr",
     "output_type": "stream",
     "text": [
      "[15:52:44] Molecule does not have explicit Hs. Consider calling AddHs()\n"
     ]
    },
    {
     "name": "stdout",
     "output_type": "stream",
     "text": [
      "0\n",
      "no conformer for MolPort-023-209-870\n",
      "0\n",
      "no conformer for MolPort-023-209-871\n"
     ]
    },
    {
     "name": "stderr",
     "output_type": "stream",
     "text": [
      "[15:52:44] Molecule does not have explicit Hs. Consider calling AddHs()\n",
      "[15:52:45] Molecule does not have explicit Hs. Consider calling AddHs()\n"
     ]
    },
    {
     "name": "stdout",
     "output_type": "stream",
     "text": [
      "0\n",
      "no conformer for MolPort-023-209-872\n",
      "0\n",
      "no conformer for MolPort-023-209-873\n"
     ]
    },
    {
     "name": "stderr",
     "output_type": "stream",
     "text": [
      "[15:52:45] Molecule does not have explicit Hs. Consider calling AddHs()\n",
      "[15:52:45] Molecule does not have explicit Hs. Consider calling AddHs()\n"
     ]
    },
    {
     "name": "stdout",
     "output_type": "stream",
     "text": [
      "0\n",
      "no conformer for MolPort-023-209-874\n",
      "0\n",
      "no conformer for MolPort-023-209-877\n"
     ]
    },
    {
     "name": "stderr",
     "output_type": "stream",
     "text": [
      "[15:52:45] Molecule does not have explicit Hs. Consider calling AddHs()\n",
      "[15:52:45] Molecule does not have explicit Hs. Consider calling AddHs()\n"
     ]
    },
    {
     "name": "stdout",
     "output_type": "stream",
     "text": [
      "0\n",
      "no conformer for MolPort-023-209-878\n"
     ]
    },
    {
     "name": "stderr",
     "output_type": "stream",
     "text": [
      "[15:52:45] Molecule does not have explicit Hs. Consider calling AddHs()\n"
     ]
    },
    {
     "name": "stdout",
     "output_type": "stream",
     "text": [
      "0\n",
      "no conformer for MolPort-023-209-883\n",
      "0\n",
      "no conformer for MolPort-023-209-880\n"
     ]
    },
    {
     "name": "stderr",
     "output_type": "stream",
     "text": [
      "[15:52:46] Molecule does not have explicit Hs. Consider calling AddHs()\n",
      "[15:52:46] Molecule does not have explicit Hs. Consider calling AddHs()\n"
     ]
    },
    {
     "name": "stdout",
     "output_type": "stream",
     "text": [
      "0\n",
      "no conformer for MolPort-023-209-881\n"
     ]
    },
    {
     "name": "stderr",
     "output_type": "stream",
     "text": [
      "[15:52:46] Molecule does not have explicit Hs. Consider calling AddHs()\n"
     ]
    },
    {
     "name": "stdout",
     "output_type": "stream",
     "text": [
      "0\n",
      "no conformer for MolPort-023-209-882\n",
      "0\n",
      "no conformer for MolPort-023-209-884\n"
     ]
    },
    {
     "name": "stderr",
     "output_type": "stream",
     "text": [
      "[15:52:46] Molecule does not have explicit Hs. Consider calling AddHs()\n",
      "[15:52:47] Molecule does not have explicit Hs. Consider calling AddHs()\n"
     ]
    },
    {
     "name": "stdout",
     "output_type": "stream",
     "text": [
      "0\n",
      "no conformer for MolPort-023-209-885\n",
      "0\n",
      "no conformer for MolPort-023-211-477\n"
     ]
    },
    {
     "name": "stderr",
     "output_type": "stream",
     "text": [
      "[15:52:47] Molecule does not have explicit Hs. Consider calling AddHs()\n",
      "[15:52:47] Molecule does not have explicit Hs. Consider calling AddHs()\n"
     ]
    },
    {
     "name": "stdout",
     "output_type": "stream",
     "text": [
      "0\n",
      "no conformer for MolPort-023-211-478\n",
      "0\n",
      "no conformer for MolPort-049-202-423\n"
     ]
    },
    {
     "name": "stderr",
     "output_type": "stream",
     "text": [
      "[15:52:47] Molecule does not have explicit Hs. Consider calling AddHs()\n",
      "[15:52:47] Molecule does not have explicit Hs. Consider calling AddHs()\n"
     ]
    },
    {
     "name": "stdout",
     "output_type": "stream",
     "text": [
      "0\n",
      "no conformer for MolPort-023-211-474\n",
      "0\n",
      "no conformer for MolPort-023-211-475\n"
     ]
    },
    {
     "name": "stderr",
     "output_type": "stream",
     "text": [
      "[15:52:47] Molecule does not have explicit Hs. Consider calling AddHs()\n",
      "[15:52:48] Molecule does not have explicit Hs. Consider calling AddHs()\n"
     ]
    },
    {
     "name": "stdout",
     "output_type": "stream",
     "text": [
      "0\n",
      "no conformer for MolPort-023-211-476\n",
      "0\n",
      "no conformer for MolPort-023-211-479\n"
     ]
    },
    {
     "name": "stderr",
     "output_type": "stream",
     "text": [
      "[15:52:48] Molecule does not have explicit Hs. Consider calling AddHs()\n",
      "[15:52:48] Molecule does not have explicit Hs. Consider calling AddHs()\n"
     ]
    },
    {
     "name": "stdout",
     "output_type": "stream",
     "text": [
      "0\n",
      "no conformer for MolPort-023-211-480\n"
     ]
    },
    {
     "name": "stderr",
     "output_type": "stream",
     "text": [
      "[15:52:48] Molecule does not have explicit Hs. Consider calling AddHs()\n"
     ]
    },
    {
     "name": "stdout",
     "output_type": "stream",
     "text": [
      "0\n",
      "no conformer for MolPort-023-211-481\n",
      "0\n",
      "no conformer for MolPort-023-211-506\n"
     ]
    },
    {
     "name": "stderr",
     "output_type": "stream",
     "text": [
      "[15:52:48] Molecule does not have explicit Hs. Consider calling AddHs()\n",
      "[15:52:49] Molecule does not have explicit Hs. Consider calling AddHs()\n"
     ]
    },
    {
     "name": "stdout",
     "output_type": "stream",
     "text": [
      "0\n",
      "no conformer for MolPort-023-211-507\n",
      "0\n",
      "no conformer for MolPort-023-211-508\n"
     ]
    },
    {
     "name": "stderr",
     "output_type": "stream",
     "text": [
      "[15:52:49] Molecule does not have explicit Hs. Consider calling AddHs()\n",
      "[15:52:49] Molecule does not have explicit Hs. Consider calling AddHs()\n"
     ]
    },
    {
     "name": "stdout",
     "output_type": "stream",
     "text": [
      "0\n",
      "no conformer for MolPort-023-211-509\n",
      "0\n",
      "no conformer for MolPort-023-211-510\n",
      "0\n",
      "no conformer for MolPort-023-211-511\n"
     ]
    },
    {
     "name": "stderr",
     "output_type": "stream",
     "text": [
      "[15:52:49] Molecule does not have explicit Hs. Consider calling AddHs()\n",
      "[15:52:49] Molecule does not have explicit Hs. Consider calling AddHs()\n",
      "[15:52:49] Molecule does not have explicit Hs. Consider calling AddHs()\n",
      "[15:52:49] Molecule does not have explicit Hs. Consider calling AddHs()\n"
     ]
    },
    {
     "name": "stdout",
     "output_type": "stream",
     "text": [
      "0\n",
      "no conformer for MolPort-023-211-512\n",
      "0\n",
      "no conformer for MolPort-023-211-513\n"
     ]
    },
    {
     "name": "stderr",
     "output_type": "stream",
     "text": [
      "[15:52:49] Molecule does not have explicit Hs. Consider calling AddHs()\n",
      "[15:52:50] Molecule does not have explicit Hs. Consider calling AddHs()\n",
      "[15:52:50] Molecule does not have explicit Hs. Consider calling AddHs()\n"
     ]
    },
    {
     "name": "stdout",
     "output_type": "stream",
     "text": [
      "0\n",
      "no conformer for MolPort-023-211-514\n",
      "0\n",
      "no conformer for MolPort-023-211-515\n",
      "0\n",
      "no conformer for MolPort-023-274-184\n",
      "0\n",
      "no conformer for MolPort-027-844-479\n"
     ]
    },
    {
     "name": "stderr",
     "output_type": "stream",
     "text": [
      "[15:52:50] Molecule does not have explicit Hs. Consider calling AddHs()\n",
      "[15:52:50] Molecule does not have explicit Hs. Consider calling AddHs()\n",
      "[15:52:50] Molecule does not have explicit Hs. Consider calling AddHs()\n"
     ]
    },
    {
     "name": "stdout",
     "output_type": "stream",
     "text": [
      "0\n",
      "no conformer for MolPort-029-894-717\n",
      "0\n",
      "no conformer for MolPort-035-705-348\n",
      "0\n",
      "no conformer for MolPort-038-430-112\n",
      "0\n",
      "no conformer for MolPort-038-943-030\n"
     ]
    },
    {
     "name": "stderr",
     "output_type": "stream",
     "text": [
      "[15:52:50] Molecule does not have explicit Hs. Consider calling AddHs()\n",
      "[15:52:50] Molecule does not have explicit Hs. Consider calling AddHs()\n",
      "[15:52:50] Molecule does not have explicit Hs. Consider calling AddHs()\n"
     ]
    },
    {
     "name": "stdout",
     "output_type": "stream",
     "text": [
      "0\n",
      "no conformer for MolPort-039-017-480\n",
      "0\n",
      "no conformer for MolPort-039-030-173\n",
      "0\n",
      "no conformer for MolPort-039-030-181\n"
     ]
    },
    {
     "name": "stderr",
     "output_type": "stream",
     "text": [
      "[15:52:50] Molecule does not have explicit Hs. Consider calling AddHs()\n",
      "[15:52:51] Molecule does not have explicit Hs. Consider calling AddHs()\n",
      "[15:52:51] Molecule does not have explicit Hs. Consider calling AddHs()\n",
      "[15:52:51] Molecule does not have explicit Hs. Consider calling AddHs()\n",
      "[15:52:51] Molecule does not have explicit Hs. Consider calling AddHs()\n",
      "[15:52:51] Molecule does not have explicit Hs. Consider calling AddHs()\n"
     ]
    },
    {
     "name": "stdout",
     "output_type": "stream",
     "text": [
      "0\n",
      "no conformer for MolPort-039-030-196\n",
      "8\n",
      "1\n",
      "0\n",
      "no conformer for MolPort-039-030-430\n"
     ]
    },
    {
     "name": "stderr",
     "output_type": "stream",
     "text": [
      "[15:52:51] Molecule does not have explicit Hs. Consider calling AddHs()\n",
      "[15:52:51] Molecule does not have explicit Hs. Consider calling AddHs()\n"
     ]
    },
    {
     "name": "stdout",
     "output_type": "stream",
     "text": [
      "0\n",
      "no conformer for MolPort-039-030-431\n",
      "0\n",
      "no conformer for MolPort-039-031-043\n",
      "0\n",
      "no conformer for MolPort-039-031-048\n"
     ]
    },
    {
     "name": "stderr",
     "output_type": "stream",
     "text": [
      "[15:52:51] Molecule does not have explicit Hs. Consider calling AddHs()\n",
      "[15:52:51] Molecule does not have explicit Hs. Consider calling AddHs()\n",
      "[15:52:51] Molecule does not have explicit Hs. Consider calling AddHs()\n"
     ]
    },
    {
     "name": "stdout",
     "output_type": "stream",
     "text": [
      "0\n",
      "no conformer for MolPort-044-376-284\n",
      "0\n",
      "no conformer for MolPort-044-544-942\n"
     ]
    },
    {
     "name": "stderr",
     "output_type": "stream",
     "text": [
      "[15:52:51] Molecule does not have explicit Hs. Consider calling AddHs()\n",
      "[15:52:52] Molecule does not have explicit Hs. Consider calling AddHs()\n",
      "[15:52:52] Molecule does not have explicit Hs. Consider calling AddHs()\n"
     ]
    },
    {
     "name": "stdout",
     "output_type": "stream",
     "text": [
      "0\n",
      "no conformer for MolPort-044-545-100\n",
      "0\n",
      "no conformer for MolPort-046-069-273\n",
      "0\n",
      "no conformer for MolPort-046-752-102\n"
     ]
    },
    {
     "name": "stderr",
     "output_type": "stream",
     "text": [
      "[15:52:52] Molecule does not have explicit Hs. Consider calling AddHs()\n"
     ]
    },
    {
     "name": "stdout",
     "output_type": "stream",
     "text": [
      "0\n",
      "no conformer for MolPort-046-774-993\n"
     ]
    },
    {
     "name": "stderr",
     "output_type": "stream",
     "text": [
      "[15:52:52] Molecule does not have explicit Hs. Consider calling AddHs()\n"
     ]
    },
    {
     "name": "stdout",
     "output_type": "stream",
     "text": [
      "0\n",
      "no conformer for MolPort-046-788-494\n",
      "12\n",
      "9\n",
      "0\n",
      "no conformer for MolPort-046-853-532\n"
     ]
    },
    {
     "name": "stderr",
     "output_type": "stream",
     "text": [
      "[15:52:52] Molecule does not have explicit Hs. Consider calling AddHs()\n",
      "[15:52:52] Molecule does not have explicit Hs. Consider calling AddHs()\n",
      "[15:52:52] Molecule does not have explicit Hs. Consider calling AddHs()\n",
      "[15:52:52] Molecule does not have explicit Hs. Consider calling AddHs()\n"
     ]
    },
    {
     "name": "stdout",
     "output_type": "stream",
     "text": [
      "12\n"
     ]
    },
    {
     "name": "stderr",
     "output_type": "stream",
     "text": [
      "[15:52:52] Molecule does not have explicit Hs. Consider calling AddHs()\n"
     ]
    },
    {
     "name": "stdout",
     "output_type": "stream",
     "text": [
      "0\n",
      "no conformer for MolPort-046-925-913\n"
     ]
    },
    {
     "name": "stderr",
     "output_type": "stream",
     "text": [
      "[15:52:53] Molecule does not have explicit Hs. Consider calling AddHs()\n"
     ]
    },
    {
     "name": "stdout",
     "output_type": "stream",
     "text": [
      "0\n",
      "no conformer for MolPort-047-018-272\n",
      "0\n",
      "no conformer for MolPort-047-143-835\n",
      "0\n",
      "no conformer for MolPort-047-143-836\n"
     ]
    },
    {
     "name": "stderr",
     "output_type": "stream",
     "text": [
      "[15:52:53] Molecule does not have explicit Hs. Consider calling AddHs()\n",
      "[15:52:53] Molecule does not have explicit Hs. Consider calling AddHs()\n",
      "[15:52:53] Molecule does not have explicit Hs. Consider calling AddHs()\n"
     ]
    },
    {
     "name": "stdout",
     "output_type": "stream",
     "text": [
      "0\n",
      "no conformer for MolPort-047-143-993\n",
      "0\n",
      "no conformer for MolPort-047-349-871\n",
      "0\n",
      "no conformer for MolPort-047-349-893\n",
      "1\n"
     ]
    },
    {
     "name": "stderr",
     "output_type": "stream",
     "text": [
      "[15:52:53] Molecule does not have explicit Hs. Consider calling AddHs()\n",
      "[15:52:53] Molecule does not have explicit Hs. Consider calling AddHs()\n",
      "[15:52:53] Molecule does not have explicit Hs. Consider calling AddHs()\n",
      "[15:52:53] Molecule does not have explicit Hs. Consider calling AddHs()\n"
     ]
    },
    {
     "name": "stdout",
     "output_type": "stream",
     "text": [
      "0\n",
      "no conformer for MolPort-047-642-992\n",
      "0\n",
      "no conformer for MolPort-047-643-416\n",
      "0\n",
      "no conformer for MolPort-047-739-672\n"
     ]
    },
    {
     "name": "stderr",
     "output_type": "stream",
     "text": [
      "[15:52:53] Molecule does not have explicit Hs. Consider calling AddHs()\n",
      "[15:52:53] Molecule does not have explicit Hs. Consider calling AddHs()\n",
      "[15:52:54] Molecule does not have explicit Hs. Consider calling AddHs()\n"
     ]
    },
    {
     "name": "stdout",
     "output_type": "stream",
     "text": [
      "0\n",
      "no conformer for MolPort-047-775-284\n",
      "0\n",
      "no conformer for MolPort-047-775-337\n",
      "0\n",
      "no conformer for MolPort-047-775-357\n"
     ]
    },
    {
     "name": "stderr",
     "output_type": "stream",
     "text": [
      "[15:52:54] Molecule does not have explicit Hs. Consider calling AddHs()\n",
      "[15:52:54] Molecule does not have explicit Hs. Consider calling AddHs()\n",
      "[15:52:54] Molecule does not have explicit Hs. Consider calling AddHs()\n"
     ]
    },
    {
     "name": "stdout",
     "output_type": "stream",
     "text": [
      "0\n",
      "no conformer for MolPort-047-775-464\n"
     ]
    },
    {
     "name": "stderr",
     "output_type": "stream",
     "text": [
      "[15:52:54] Molecule does not have explicit Hs. Consider calling AddHs()\n"
     ]
    },
    {
     "name": "stdout",
     "output_type": "stream",
     "text": [
      "0\n",
      "no conformer for MolPort-047-919-917\n",
      "0\n",
      "no conformer for MolPort-047-932-016\n"
     ]
    },
    {
     "name": "stderr",
     "output_type": "stream",
     "text": [
      "[15:52:54] Molecule does not have explicit Hs. Consider calling AddHs()\n",
      "[15:52:54] Molecule does not have explicit Hs. Consider calling AddHs()\n"
     ]
    },
    {
     "name": "stdout",
     "output_type": "stream",
     "text": [
      "0\n",
      "no conformer for MolPort-047-932-057\n",
      "0\n",
      "no conformer for MolPort-047-947-451\n"
     ]
    },
    {
     "name": "stderr",
     "output_type": "stream",
     "text": [
      "[15:52:54] Molecule does not have explicit Hs. Consider calling AddHs()\n",
      "[15:52:54] Molecule does not have explicit Hs. Consider calling AddHs()\n"
     ]
    },
    {
     "name": "stdout",
     "output_type": "stream",
     "text": [
      "0\n",
      "no conformer for MolPort-047-947-763\n",
      "0\n",
      "no conformer for MolPort-047-965-945\n",
      "0\n",
      "no conformer for MolPort-023-296-197\n"
     ]
    },
    {
     "name": "stderr",
     "output_type": "stream",
     "text": [
      "[15:52:55] Molecule does not have explicit Hs. Consider calling AddHs()\n",
      "[15:52:55] Molecule does not have explicit Hs. Consider calling AddHs()\n",
      "[15:52:55] Molecule does not have explicit Hs. Consider calling AddHs()\n"
     ]
    },
    {
     "name": "stdout",
     "output_type": "stream",
     "text": [
      "0\n",
      "no conformer for MolPort-023-297-604\n",
      "0\n",
      "no conformer for MolPort-023-309-433\n",
      "17\n",
      "0\n",
      "no conformer for MolPort-027-599-370\n"
     ]
    },
    {
     "name": "stderr",
     "output_type": "stream",
     "text": [
      "[15:52:55] Molecule does not have explicit Hs. Consider calling AddHs()\n",
      "[15:52:55] Molecule does not have explicit Hs. Consider calling AddHs()\n",
      "[15:52:55] Molecule does not have explicit Hs. Consider calling AddHs()\n",
      "[15:52:55] Molecule does not have explicit Hs. Consider calling AddHs()\n"
     ]
    },
    {
     "name": "stdout",
     "output_type": "stream",
     "text": [
      "0\n",
      "no conformer for MolPort-027-599-371\n",
      "0\n",
      "no conformer for MolPort-027-602-904\n"
     ]
    },
    {
     "name": "stderr",
     "output_type": "stream",
     "text": [
      "[15:52:55] Molecule does not have explicit Hs. Consider calling AddHs()\n",
      "[15:52:55] Molecule does not have explicit Hs. Consider calling AddHs()\n"
     ]
    },
    {
     "name": "stdout",
     "output_type": "stream",
     "text": [
      "0\n",
      "no conformer for MolPort-027-602-905\n",
      "0\n",
      "no conformer for MolPort-027-603-839\n"
     ]
    },
    {
     "name": "stderr",
     "output_type": "stream",
     "text": [
      "[15:52:55] Molecule does not have explicit Hs. Consider calling AddHs()\n",
      "[15:52:55] Molecule does not have explicit Hs. Consider calling AddHs()\n"
     ]
    },
    {
     "name": "stdout",
     "output_type": "stream",
     "text": [
      "0\n",
      "no conformer for MolPort-027-842-028\n",
      "0\n",
      "no conformer for MolPort-029-897-962\n",
      "0\n",
      "no conformer for MolPort-030-044-863\n"
     ]
    },
    {
     "name": "stderr",
     "output_type": "stream",
     "text": [
      "[15:52:56] Molecule does not have explicit Hs. Consider calling AddHs()\n",
      "[15:52:56] Molecule does not have explicit Hs. Consider calling AddHs()\n",
      "[15:52:56] Molecule does not have explicit Hs. Consider calling AddHs()\n"
     ]
    },
    {
     "name": "stdout",
     "output_type": "stream",
     "text": [
      "0\n",
      "no conformer for MolPort-035-705-180\n",
      "0\n",
      "no conformer for MolPort-035-875-458\n"
     ]
    },
    {
     "name": "stderr",
     "output_type": "stream",
     "text": [
      "[15:52:56] Molecule does not have explicit Hs. Consider calling AddHs()\n",
      "[15:52:56] Molecule does not have explicit Hs. Consider calling AddHs()\n"
     ]
    },
    {
     "name": "stdout",
     "output_type": "stream",
     "text": [
      "0\n",
      "no conformer for MolPort-039-195-946\n",
      "0\n",
      "no conformer for MolPort-039-346-814\n"
     ]
    },
    {
     "name": "stderr",
     "output_type": "stream",
     "text": [
      "[15:52:56] Molecule does not have explicit Hs. Consider calling AddHs()\n",
      "[15:52:56] Molecule does not have explicit Hs. Consider calling AddHs()\n"
     ]
    },
    {
     "name": "stdout",
     "output_type": "stream",
     "text": [
      "0\n",
      "no conformer for MolPort-039-346-817\n",
      "0\n",
      "no conformer for MolPort-042-638-535\n",
      "0\n",
      "no conformer for MolPort-042-663-783\n"
     ]
    },
    {
     "name": "stderr",
     "output_type": "stream",
     "text": [
      "[15:52:56] Molecule does not have explicit Hs. Consider calling AddHs()\n",
      "[15:52:57] Molecule does not have explicit Hs. Consider calling AddHs()\n",
      "[15:52:57] Molecule does not have explicit Hs. Consider calling AddHs()\n"
     ]
    },
    {
     "name": "stdout",
     "output_type": "stream",
     "text": [
      "0\n",
      "no conformer for MolPort-044-430-841\n",
      "0\n",
      "no conformer for MolPort-044-430-843\n",
      "0\n",
      "no conformer for MolPort-044-690-347\n"
     ]
    },
    {
     "name": "stderr",
     "output_type": "stream",
     "text": [
      "[15:52:57] Molecule does not have explicit Hs. Consider calling AddHs()\n",
      "[15:52:57] Molecule does not have explicit Hs. Consider calling AddHs()\n",
      "[15:52:57] Molecule does not have explicit Hs. Consider calling AddHs()\n"
     ]
    },
    {
     "name": "stdout",
     "output_type": "stream",
     "text": [
      "0\n",
      "no conformer for MolPort-044-691-623\n"
     ]
    },
    {
     "name": "stderr",
     "output_type": "stream",
     "text": [
      "[15:52:57] Molecule does not have explicit Hs. Consider calling AddHs()\n"
     ]
    },
    {
     "name": "stdout",
     "output_type": "stream",
     "text": [
      "0\n",
      "no conformer for MolPort-044-874-708\n",
      "0\n",
      "no conformer for MolPort-045-018-308\n"
     ]
    },
    {
     "name": "stderr",
     "output_type": "stream",
     "text": [
      "[15:52:57] Molecule does not have explicit Hs. Consider calling AddHs()\n",
      "[15:52:57] Molecule does not have explicit Hs. Consider calling AddHs()\n"
     ]
    },
    {
     "name": "stdout",
     "output_type": "stream",
     "text": [
      "0\n",
      "no conformer for MolPort-045-018-660\n",
      "0\n",
      "no conformer for MolPort-046-775-526\n",
      "0\n",
      "no conformer for MolPort-046-794-195\n",
      "1\n"
     ]
    },
    {
     "name": "stderr",
     "output_type": "stream",
     "text": [
      "[15:52:58] Molecule does not have explicit Hs. Consider calling AddHs()\n",
      "[15:52:58] Molecule does not have explicit Hs. Consider calling AddHs()\n",
      "[15:52:58] Molecule does not have explicit Hs. Consider calling AddHs()\n",
      "[15:52:58] Molecule does not have explicit Hs. Consider calling AddHs()\n"
     ]
    },
    {
     "name": "stdout",
     "output_type": "stream",
     "text": [
      "1\n",
      "7\n",
      "7\n"
     ]
    },
    {
     "name": "stderr",
     "output_type": "stream",
     "text": [
      "[15:52:58] Molecule does not have explicit Hs. Consider calling AddHs()\n",
      "[15:52:58] Molecule does not have explicit Hs. Consider calling AddHs()\n",
      "[15:52:58] Molecule does not have explicit Hs. Consider calling AddHs()\n"
     ]
    },
    {
     "name": "stdout",
     "output_type": "stream",
     "text": [
      "0\n",
      "no conformer for MolPort-046-843-625\n",
      "0\n",
      "no conformer for MolPort-046-843-626\n"
     ]
    },
    {
     "name": "stderr",
     "output_type": "stream",
     "text": [
      "[15:52:58] Molecule does not have explicit Hs. Consider calling AddHs()\n",
      "[15:52:58] Molecule does not have explicit Hs. Consider calling AddHs()\n"
     ]
    },
    {
     "name": "stdout",
     "output_type": "stream",
     "text": [
      "0\n",
      "no conformer for MolPort-046-848-308\n"
     ]
    },
    {
     "name": "stderr",
     "output_type": "stream",
     "text": [
      "[15:53:02] Molecule does not have explicit Hs. Consider calling AddHs()\n"
     ]
    },
    {
     "name": "stdout",
     "output_type": "stream",
     "text": [
      "0\n",
      "no conformer for MolPort-046-848-416\n"
     ]
    },
    {
     "name": "stderr",
     "output_type": "stream",
     "text": [
      "[15:53:17] Molecule does not have explicit Hs. Consider calling AddHs()\n"
     ]
    },
    {
     "name": "stdout",
     "output_type": "stream",
     "text": [
      "0\n",
      "no conformer for MolPort-046-848-816\n"
     ]
    },
    {
     "name": "stderr",
     "output_type": "stream",
     "text": [
      "[15:53:18] Molecule does not have explicit Hs. Consider calling AddHs()\n"
     ]
    },
    {
     "name": "stdout",
     "output_type": "stream",
     "text": [
      "0\n",
      "no conformer for MolPort-046-848-817\n"
     ]
    },
    {
     "name": "stderr",
     "output_type": "stream",
     "text": [
      "[15:53:37] Molecule does not have explicit Hs. Consider calling AddHs()\n"
     ]
    },
    {
     "name": "stdout",
     "output_type": "stream",
     "text": [
      "0\n",
      "no conformer for MolPort-046-865-808\n",
      "0\n",
      "no conformer for MolPort-046-867-194\n",
      "0\n",
      "no conformer for MolPort-046-928-683\n"
     ]
    },
    {
     "name": "stderr",
     "output_type": "stream",
     "text": [
      "[15:53:37] Molecule does not have explicit Hs. Consider calling AddHs()\n",
      "[15:53:37] Molecule does not have explicit Hs. Consider calling AddHs()\n",
      "[15:53:38] Molecule does not have explicit Hs. Consider calling AddHs()\n"
     ]
    },
    {
     "name": "stdout",
     "output_type": "stream",
     "text": [
      "0\n",
      "no conformer for MolPort-046-928-958\n",
      "0\n",
      "no conformer for MolPort-046-929-126\n",
      "0\n",
      "no conformer for MolPort-046-929-275\n"
     ]
    },
    {
     "name": "stderr",
     "output_type": "stream",
     "text": [
      "[15:53:38] Molecule does not have explicit Hs. Consider calling AddHs()\n",
      "[15:53:38] Molecule does not have explicit Hs. Consider calling AddHs()\n",
      "[15:53:38] Molecule does not have explicit Hs. Consider calling AddHs()\n"
     ]
    },
    {
     "name": "stdout",
     "output_type": "stream",
     "text": [
      "0\n",
      "no conformer for MolPort-047-021-197\n"
     ]
    },
    {
     "name": "stderr",
     "output_type": "stream",
     "text": [
      "[15:53:38] Molecule does not have explicit Hs. Consider calling AddHs()\n"
     ]
    },
    {
     "name": "stdout",
     "output_type": "stream",
     "text": [
      "0\n",
      "no conformer for MolPort-047-021-204\n",
      "0\n",
      "no conformer for MolPort-047-022-307\n"
     ]
    },
    {
     "name": "stderr",
     "output_type": "stream",
     "text": [
      "[15:53:38] Molecule does not have explicit Hs. Consider calling AddHs()\n",
      "[15:53:38] Molecule does not have explicit Hs. Consider calling AddHs()\n"
     ]
    },
    {
     "name": "stdout",
     "output_type": "stream",
     "text": [
      "0\n",
      "no conformer for MolPort-047-022-461\n",
      "0\n",
      "no conformer for MolPort-047-022-499\n"
     ]
    },
    {
     "name": "stderr",
     "output_type": "stream",
     "text": [
      "[15:53:39] Molecule does not have explicit Hs. Consider calling AddHs()\n",
      "[15:53:39] Molecule does not have explicit Hs. Consider calling AddHs()\n"
     ]
    },
    {
     "name": "stdout",
     "output_type": "stream",
     "text": [
      "0\n",
      "no conformer for MolPort-047-083-985\n",
      "0\n",
      "no conformer for MolPort-047-144-020\n",
      "0\n",
      "no conformer for MolPort-047-407-047\n"
     ]
    },
    {
     "name": "stderr",
     "output_type": "stream",
     "text": [
      "[15:53:39] Molecule does not have explicit Hs. Consider calling AddHs()\n",
      "[15:53:39] Molecule does not have explicit Hs. Consider calling AddHs()\n",
      "[15:53:39] Molecule does not have explicit Hs. Consider calling AddHs()\n"
     ]
    },
    {
     "name": "stdout",
     "output_type": "stream",
     "text": [
      "0\n",
      "no conformer for MolPort-047-407-056\n",
      "0\n",
      "no conformer for MolPort-047-407-473\n",
      "0\n",
      "no conformer for MolPort-047-407-490\n"
     ]
    },
    {
     "name": "stderr",
     "output_type": "stream",
     "text": [
      "[15:53:39] Molecule does not have explicit Hs. Consider calling AddHs()\n",
      "[15:53:40] Molecule does not have explicit Hs. Consider calling AddHs()\n",
      "[15:53:40] Molecule does not have explicit Hs. Consider calling AddHs()\n"
     ]
    },
    {
     "name": "stdout",
     "output_type": "stream",
     "text": [
      "0\n",
      "no conformer for MolPort-047-407-494\n",
      "0\n",
      "no conformer for MolPort-047-407-498\n",
      "0\n",
      "no conformer for MolPort-047-407-518\n"
     ]
    },
    {
     "name": "stderr",
     "output_type": "stream",
     "text": [
      "[15:53:40] Molecule does not have explicit Hs. Consider calling AddHs()\n",
      "[15:53:40] Molecule does not have explicit Hs. Consider calling AddHs()\n",
      "[15:53:40] Molecule does not have explicit Hs. Consider calling AddHs()\n"
     ]
    },
    {
     "name": "stdout",
     "output_type": "stream",
     "text": [
      "0\n",
      "no conformer for MolPort-047-407-521\n",
      "0\n",
      "no conformer for MolPort-047-407-541\n",
      "7\n"
     ]
    },
    {
     "name": "stderr",
     "output_type": "stream",
     "text": [
      "[15:53:40] Molecule does not have explicit Hs. Consider calling AddHs()\n",
      "[15:53:40] Molecule does not have explicit Hs. Consider calling AddHs()\n",
      "[15:53:40] Molecule does not have explicit Hs. Consider calling AddHs()\n"
     ]
    },
    {
     "name": "stdout",
     "output_type": "stream",
     "text": [
      "0\n",
      "no conformer for MolPort-047-410-201\n",
      "0\n",
      "no conformer for MolPort-047-410-828\n",
      "0\n",
      "no conformer for MolPort-047-410-830\n"
     ]
    },
    {
     "name": "stderr",
     "output_type": "stream",
     "text": [
      "[15:53:40] Molecule does not have explicit Hs. Consider calling AddHs()\n",
      "[15:53:40] Molecule does not have explicit Hs. Consider calling AddHs()\n",
      "[15:53:40] Molecule does not have explicit Hs. Consider calling AddHs()\n"
     ]
    },
    {
     "name": "stdout",
     "output_type": "stream",
     "text": [
      "0\n",
      "no conformer for MolPort-047-410-835\n",
      "0\n",
      "no conformer for MolPort-047-456-699\n",
      "0\n",
      "no conformer for MolPort-047-457-037\n",
      "0\n",
      "no conformer for MolPort-047-457-056\n"
     ]
    },
    {
     "name": "stderr",
     "output_type": "stream",
     "text": [
      "[15:53:40] Molecule does not have explicit Hs. Consider calling AddHs()\n",
      "[15:53:40] Molecule does not have explicit Hs. Consider calling AddHs()\n",
      "[15:53:41] Molecule does not have explicit Hs. Consider calling AddHs()\n",
      "[15:53:41] Molecule does not have explicit Hs. Consider calling AddHs()\n"
     ]
    },
    {
     "name": "stdout",
     "output_type": "stream",
     "text": [
      "9\n",
      "3\n",
      "0\n",
      "no conformer for MolPort-047-583-008\n",
      "9\n"
     ]
    },
    {
     "name": "stderr",
     "output_type": "stream",
     "text": [
      "[15:53:41] Molecule does not have explicit Hs. Consider calling AddHs()\n",
      "[15:53:41] Molecule does not have explicit Hs. Consider calling AddHs()\n",
      "[15:53:41] Molecule does not have explicit Hs. Consider calling AddHs()\n",
      "[15:53:41] Molecule does not have explicit Hs. Consider calling AddHs()\n"
     ]
    },
    {
     "name": "stdout",
     "output_type": "stream",
     "text": [
      "0\n",
      "no conformer for MolPort-047-583-463\n",
      "0\n",
      "no conformer for MolPort-047-583-650\n",
      "0\n",
      "no conformer for MolPort-047-583-729\n"
     ]
    },
    {
     "name": "stderr",
     "output_type": "stream",
     "text": [
      "[15:53:41] Molecule does not have explicit Hs. Consider calling AddHs()\n",
      "[15:53:41] Molecule does not have explicit Hs. Consider calling AddHs()\n",
      "[15:53:41] Molecule does not have explicit Hs. Consider calling AddHs()\n"
     ]
    },
    {
     "name": "stdout",
     "output_type": "stream",
     "text": [
      "0\n",
      "no conformer for MolPort-047-584-316\n",
      "0\n",
      "no conformer for MolPort-047-587-069\n",
      "0\n",
      "no conformer for MolPort-047-643-597\n",
      "0\n",
      "no conformer for MolPort-047-644-129\n"
     ]
    },
    {
     "name": "stderr",
     "output_type": "stream",
     "text": [
      "[15:53:41] Molecule does not have explicit Hs. Consider calling AddHs()\n",
      "[15:53:41] Molecule does not have explicit Hs. Consider calling AddHs()\n",
      "[15:53:41] Molecule does not have explicit Hs. Consider calling AddHs()\n",
      "[15:53:41] Molecule does not have explicit Hs. Consider calling AddHs()\n"
     ]
    },
    {
     "name": "stdout",
     "output_type": "stream",
     "text": [
      "0\n",
      "no conformer for MolPort-047-644-356\n",
      "0\n",
      "no conformer for MolPort-047-644-392\n",
      "0\n",
      "no conformer for MolPort-047-644-639\n"
     ]
    },
    {
     "name": "stderr",
     "output_type": "stream",
     "text": [
      "[15:53:41] Molecule does not have explicit Hs. Consider calling AddHs()\n",
      "[15:53:41] Molecule does not have explicit Hs. Consider calling AddHs()\n",
      "[15:53:42] Molecule does not have explicit Hs. Consider calling AddHs()\n"
     ]
    },
    {
     "name": "stdout",
     "output_type": "stream",
     "text": [
      "0\n",
      "no conformer for MolPort-047-644-662\n",
      "0\n",
      "no conformer for MolPort-047-644-735\n",
      "0\n",
      "no conformer for MolPort-047-644-845\n"
     ]
    },
    {
     "name": "stderr",
     "output_type": "stream",
     "text": [
      "[15:53:42] Molecule does not have explicit Hs. Consider calling AddHs()\n",
      "[15:53:42] Molecule does not have explicit Hs. Consider calling AddHs()\n",
      "[15:53:42] Molecule does not have explicit Hs. Consider calling AddHs()\n"
     ]
    },
    {
     "name": "stdout",
     "output_type": "stream",
     "text": [
      "0\n",
      "no conformer for MolPort-047-644-879\n",
      "0\n",
      "no conformer for MolPort-047-738-889\n",
      "0\n",
      "no conformer for MolPort-047-739-198\n",
      "0\n",
      "no conformer for MolPort-047-739-450\n"
     ]
    },
    {
     "name": "stderr",
     "output_type": "stream",
     "text": [
      "[15:53:42] Molecule does not have explicit Hs. Consider calling AddHs()\n",
      "[15:53:42] Molecule does not have explicit Hs. Consider calling AddHs()\n",
      "[15:53:42] Molecule does not have explicit Hs. Consider calling AddHs()\n",
      "[15:53:42] Molecule does not have explicit Hs. Consider calling AddHs()\n"
     ]
    },
    {
     "name": "stdout",
     "output_type": "stream",
     "text": [
      "0\n",
      "no conformer for MolPort-047-775-621\n",
      "0\n",
      "no conformer for MolPort-047-775-643\n",
      "0\n",
      "no conformer for MolPort-047-803-179\n"
     ]
    },
    {
     "name": "stderr",
     "output_type": "stream",
     "text": [
      "[15:53:42] Molecule does not have explicit Hs. Consider calling AddHs()\n",
      "[15:53:42] Molecule does not have explicit Hs. Consider calling AddHs()\n",
      "[15:53:42] Molecule does not have explicit Hs. Consider calling AddHs()\n"
     ]
    },
    {
     "name": "stdout",
     "output_type": "stream",
     "text": [
      "0\n",
      "no conformer for MolPort-047-803-242\n",
      "0\n",
      "no conformer for MolPort-047-803-272\n"
     ]
    },
    {
     "name": "stderr",
     "output_type": "stream",
     "text": [
      "[15:53:42] Molecule does not have explicit Hs. Consider calling AddHs()\n",
      "[15:53:42] Molecule does not have explicit Hs. Consider calling AddHs()\n"
     ]
    },
    {
     "name": "stdout",
     "output_type": "stream",
     "text": [
      "0\n",
      "no conformer for MolPort-047-803-676\n",
      "0\n",
      "no conformer for MolPort-047-803-850\n"
     ]
    },
    {
     "name": "stderr",
     "output_type": "stream",
     "text": [
      "[15:53:43] Molecule does not have explicit Hs. Consider calling AddHs()\n",
      "[15:53:43] Molecule does not have explicit Hs. Consider calling AddHs()\n"
     ]
    },
    {
     "name": "stdout",
     "output_type": "stream",
     "text": [
      "0\n",
      "no conformer for MolPort-047-803-888\n",
      "0\n",
      "no conformer for MolPort-047-803-911\n"
     ]
    },
    {
     "name": "stderr",
     "output_type": "stream",
     "text": [
      "[15:53:43] Molecule does not have explicit Hs. Consider calling AddHs()\n",
      "[15:53:43] Molecule does not have explicit Hs. Consider calling AddHs()\n"
     ]
    },
    {
     "name": "stdout",
     "output_type": "stream",
     "text": [
      "0\n",
      "no conformer for MolPort-047-804-261\n",
      "0\n",
      "no conformer for MolPort-047-804-293\n"
     ]
    },
    {
     "name": "stderr",
     "output_type": "stream",
     "text": [
      "[15:53:43] Molecule does not have explicit Hs. Consider calling AddHs()\n",
      "[15:53:43] Molecule does not have explicit Hs. Consider calling AddHs()\n"
     ]
    },
    {
     "name": "stdout",
     "output_type": "stream",
     "text": [
      "0\n",
      "no conformer for MolPort-047-804-302\n",
      "0\n",
      "no conformer for MolPort-047-804-542\n",
      "0\n",
      "no conformer for MolPort-047-804-705\n"
     ]
    },
    {
     "name": "stderr",
     "output_type": "stream",
     "text": [
      "[15:53:43] Molecule does not have explicit Hs. Consider calling AddHs()\n",
      "[15:53:43] Molecule does not have explicit Hs. Consider calling AddHs()\n",
      "[15:53:43] Molecule does not have explicit Hs. Consider calling AddHs()\n"
     ]
    },
    {
     "name": "stdout",
     "output_type": "stream",
     "text": [
      "0\n",
      "no conformer for MolPort-047-804-931\n",
      "0\n",
      "no conformer for MolPort-047-804-997\n",
      "0\n",
      "no conformer for MolPort-047-805-196\n"
     ]
    },
    {
     "name": "stderr",
     "output_type": "stream",
     "text": [
      "[15:53:44] Molecule does not have explicit Hs. Consider calling AddHs()\n",
      "[15:53:44] Molecule does not have explicit Hs. Consider calling AddHs()\n",
      "[15:53:44] Molecule does not have explicit Hs. Consider calling AddHs()\n"
     ]
    },
    {
     "name": "stdout",
     "output_type": "stream",
     "text": [
      "0\n",
      "no conformer for MolPort-047-805-213\n",
      "0\n",
      "no conformer for MolPort-047-805-225\n",
      "0\n",
      "no conformer for MolPort-047-929-458\n",
      "0\n",
      "no conformer for MolPort-047-929-474\n"
     ]
    },
    {
     "name": "stderr",
     "output_type": "stream",
     "text": [
      "[15:53:44] Molecule does not have explicit Hs. Consider calling AddHs()\n",
      "[15:53:44] Molecule does not have explicit Hs. Consider calling AddHs()\n",
      "[15:53:44] Molecule does not have explicit Hs. Consider calling AddHs()\n",
      "[15:53:44] Molecule does not have explicit Hs. Consider calling AddHs()\n"
     ]
    },
    {
     "name": "stdout",
     "output_type": "stream",
     "text": [
      "0\n",
      "no conformer for MolPort-047-930-119\n",
      "0\n",
      "no conformer for MolPort-047-930-220\n",
      "0\n",
      "no conformer for MolPort-047-930-221\n"
     ]
    },
    {
     "name": "stderr",
     "output_type": "stream",
     "text": [
      "[15:53:44] Molecule does not have explicit Hs. Consider calling AddHs()\n",
      "[15:53:44] Molecule does not have explicit Hs. Consider calling AddHs()\n",
      "[15:53:44] Molecule does not have explicit Hs. Consider calling AddHs()\n"
     ]
    },
    {
     "name": "stdout",
     "output_type": "stream",
     "text": [
      "0\n",
      "no conformer for MolPort-047-930-214\n",
      "0\n",
      "no conformer for MolPort-047-930-243\n"
     ]
    },
    {
     "name": "stderr",
     "output_type": "stream",
     "text": [
      "[15:53:44] Molecule does not have explicit Hs. Consider calling AddHs()\n",
      "[15:53:44] Molecule does not have explicit Hs. Consider calling AddHs()\n"
     ]
    },
    {
     "name": "stdout",
     "output_type": "stream",
     "text": [
      "0\n",
      "no conformer for MolPort-047-930-377\n",
      "0\n",
      "no conformer for MolPort-047-930-396\n"
     ]
    },
    {
     "name": "stderr",
     "output_type": "stream",
     "text": [
      "[15:53:45] Molecule does not have explicit Hs. Consider calling AddHs()\n",
      "[15:53:45] Molecule does not have explicit Hs. Consider calling AddHs()\n"
     ]
    },
    {
     "name": "stdout",
     "output_type": "stream",
     "text": [
      "0\n",
      "no conformer for MolPort-047-930-568\n",
      "0\n",
      "no conformer for MolPort-047-930-615\n",
      "0\n",
      "no conformer for MolPort-047-931-310\n"
     ]
    },
    {
     "name": "stderr",
     "output_type": "stream",
     "text": [
      "[15:53:45] Molecule does not have explicit Hs. Consider calling AddHs()\n",
      "[15:53:45] Molecule does not have explicit Hs. Consider calling AddHs()\n",
      "[15:53:45] Molecule does not have explicit Hs. Consider calling AddHs()\n"
     ]
    },
    {
     "name": "stdout",
     "output_type": "stream",
     "text": [
      "0\n",
      "no conformer for MolPort-047-946-367\n",
      "0\n",
      "no conformer for MolPort-047-946-401\n",
      "0\n",
      "no conformer for MolPort-047-946-689\n"
     ]
    },
    {
     "name": "stderr",
     "output_type": "stream",
     "text": [
      "[15:53:45] Molecule does not have explicit Hs. Consider calling AddHs()\n",
      "[15:53:45] Molecule does not have explicit Hs. Consider calling AddHs()\n",
      "[15:53:45] Molecule does not have explicit Hs. Consider calling AddHs()\n"
     ]
    },
    {
     "name": "stdout",
     "output_type": "stream",
     "text": [
      "0\n",
      "no conformer for MolPort-047-946-848\n",
      "0\n",
      "no conformer for MolPort-047-946-908\n",
      "0\n",
      "no conformer for MolPort-047-946-942\n"
     ]
    },
    {
     "name": "stderr",
     "output_type": "stream",
     "text": [
      "[15:53:45] Molecule does not have explicit Hs. Consider calling AddHs()\n",
      "[15:53:46] Molecule does not have explicit Hs. Consider calling AddHs()\n",
      "[15:53:46] Molecule does not have explicit Hs. Consider calling AddHs()\n"
     ]
    },
    {
     "name": "stdout",
     "output_type": "stream",
     "text": [
      "0\n",
      "no conformer for MolPort-047-952-058\n",
      "0\n",
      "no conformer for MolPort-047-952-210\n"
     ]
    },
    {
     "name": "stderr",
     "output_type": "stream",
     "text": [
      "[15:53:46] Molecule does not have explicit Hs. Consider calling AddHs()\n",
      "[15:53:46] Molecule does not have explicit Hs. Consider calling AddHs()\n"
     ]
    },
    {
     "name": "stdout",
     "output_type": "stream",
     "text": [
      "0\n",
      "no conformer for MolPort-047-952-370\n",
      "0\n",
      "no conformer for MolPort-047-952-375\n"
     ]
    },
    {
     "name": "stderr",
     "output_type": "stream",
     "text": [
      "[15:53:46] Molecule does not have explicit Hs. Consider calling AddHs()\n",
      "[15:53:46] Molecule does not have explicit Hs. Consider calling AddHs()\n"
     ]
    },
    {
     "name": "stdout",
     "output_type": "stream",
     "text": [
      "0\n",
      "no conformer for MolPort-047-952-777\n",
      "0\n",
      "no conformer for MolPort-047-952-795\n",
      "0\n",
      "no conformer for MolPort-047-965-801\n"
     ]
    },
    {
     "name": "stderr",
     "output_type": "stream",
     "text": [
      "[15:53:46] Molecule does not have explicit Hs. Consider calling AddHs()\n",
      "[15:53:46] Molecule does not have explicit Hs. Consider calling AddHs()\n",
      "[15:53:46] Molecule does not have explicit Hs. Consider calling AddHs()\n"
     ]
    },
    {
     "name": "stdout",
     "output_type": "stream",
     "text": [
      "0\n",
      "no conformer for MolPort-047-965-829\n",
      "0\n",
      "no conformer for MolPort-047-965-854\n"
     ]
    },
    {
     "name": "stderr",
     "output_type": "stream",
     "text": [
      "[15:53:46] Molecule does not have explicit Hs. Consider calling AddHs()\n",
      "[15:53:47] Molecule does not have explicit Hs. Consider calling AddHs()\n"
     ]
    },
    {
     "name": "stdout",
     "output_type": "stream",
     "text": [
      "0\n",
      "no conformer for MolPort-047-965-883\n",
      "0\n",
      "no conformer for MolPort-047-966-167\n",
      "0\n",
      "no conformer for MolPort-051-696-210\n"
     ]
    },
    {
     "name": "stderr",
     "output_type": "stream",
     "text": [
      "[15:53:47] Molecule does not have explicit Hs. Consider calling AddHs()\n",
      "[15:53:47] Molecule does not have explicit Hs. Consider calling AddHs()\n",
      "[15:53:47] Molecule does not have explicit Hs. Consider calling AddHs()\n"
     ]
    },
    {
     "name": "stdout",
     "output_type": "stream",
     "text": [
      "0\n",
      "no conformer for MolPort-047-966-771\n",
      "0\n",
      "no conformer for MolPort-047-966-772\n"
     ]
    },
    {
     "name": "stderr",
     "output_type": "stream",
     "text": [
      "[15:53:47] Molecule does not have explicit Hs. Consider calling AddHs()\n",
      "[15:53:47] Molecule does not have explicit Hs. Consider calling AddHs()\n"
     ]
    },
    {
     "name": "stdout",
     "output_type": "stream",
     "text": [
      "0\n",
      "no conformer for MolPort-047-966-834\n",
      "0\n",
      "no conformer for MolPort-047-974-001\n",
      "0\n",
      "no conformer for MolPort-047-974-773\n"
     ]
    },
    {
     "name": "stderr",
     "output_type": "stream",
     "text": [
      "[15:53:47] Molecule does not have explicit Hs. Consider calling AddHs()\n",
      "[15:53:47] Molecule does not have explicit Hs. Consider calling AddHs()\n",
      "[15:53:47] Molecule does not have explicit Hs. Consider calling AddHs()\n"
     ]
    },
    {
     "name": "stdout",
     "output_type": "stream",
     "text": [
      "0\n",
      "no conformer for MolPort-047-974-794\n",
      "0\n",
      "no conformer for MolPort-047-974-927\n"
     ]
    },
    {
     "name": "stderr",
     "output_type": "stream",
     "text": [
      "[15:53:47] Molecule does not have explicit Hs. Consider calling AddHs()\n",
      "[15:53:48] Molecule does not have explicit Hs. Consider calling AddHs()\n",
      "[15:53:48] Molecule does not have explicit Hs. Consider calling AddHs()\n"
     ]
    },
    {
     "name": "stdout",
     "output_type": "stream",
     "text": [
      "0\n",
      "no conformer for MolPort-049-245-931\n",
      "0\n",
      "no conformer for MolPort-051-088-585\n",
      "0\n",
      "no conformer for MolPort-051-480-018\n"
     ]
    },
    {
     "name": "stderr",
     "output_type": "stream",
     "text": [
      "[15:53:48] Molecule does not have explicit Hs. Consider calling AddHs()\n",
      "[15:53:48] Molecule does not have explicit Hs. Consider calling AddHs()\n",
      "[15:53:48] Molecule does not have explicit Hs. Consider calling AddHs()\n"
     ]
    },
    {
     "name": "stdout",
     "output_type": "stream",
     "text": [
      "0\n",
      "no conformer for MolPort-051-481-133\n",
      "0\n",
      "no conformer for MolPort-051-481-164\n"
     ]
    },
    {
     "name": "stderr",
     "output_type": "stream",
     "text": [
      "[15:53:48] Molecule does not have explicit Hs. Consider calling AddHs()\n",
      "[15:53:48] Molecule does not have explicit Hs. Consider calling AddHs()\n",
      "[15:53:48] Molecule does not have explicit Hs. Consider calling AddHs()\n"
     ]
    },
    {
     "name": "stdout",
     "output_type": "stream",
     "text": [
      "0\n",
      "no conformer for MolPort-051-481-180\n",
      "0\n",
      "no conformer for MolPort-051-481-310\n",
      "0\n",
      "no conformer for MolPort-051-481-319\n"
     ]
    },
    {
     "name": "stderr",
     "output_type": "stream",
     "text": [
      "[15:53:48] Molecule does not have explicit Hs. Consider calling AddHs()\n",
      "[15:53:48] Molecule does not have explicit Hs. Consider calling AddHs()\n",
      "[15:53:48] Molecule does not have explicit Hs. Consider calling AddHs()\n"
     ]
    },
    {
     "name": "stdout",
     "output_type": "stream",
     "text": [
      "0\n",
      "no conformer for MolPort-051-481-329\n",
      "0\n",
      "no conformer for MolPort-051-481-347\n",
      "0\n",
      "no conformer for MolPort-051-481-412\n"
     ]
    },
    {
     "name": "stderr",
     "output_type": "stream",
     "text": [
      "[15:53:49] Molecule does not have explicit Hs. Consider calling AddHs()\n",
      "[15:53:49] Molecule does not have explicit Hs. Consider calling AddHs()\n",
      "[15:53:49] Molecule does not have explicit Hs. Consider calling AddHs()\n"
     ]
    },
    {
     "name": "stdout",
     "output_type": "stream",
     "text": [
      "0\n",
      "no conformer for MolPort-051-481-414\n",
      "0\n",
      "no conformer for MolPort-051-518-492\n",
      "0\n",
      "no conformer for MolPort-051-518-522\n"
     ]
    },
    {
     "name": "stderr",
     "output_type": "stream",
     "text": [
      "[15:53:49] Molecule does not have explicit Hs. Consider calling AddHs()\n",
      "[15:53:49] Molecule does not have explicit Hs. Consider calling AddHs()\n",
      "[15:53:49] Molecule does not have explicit Hs. Consider calling AddHs()\n"
     ]
    },
    {
     "name": "stdout",
     "output_type": "stream",
     "text": [
      "0\n",
      "no conformer for MolPort-051-518-584\n",
      "0\n",
      "no conformer for MolPort-051-518-658\n",
      "0\n",
      "no conformer for MolPort-051-550-976\n"
     ]
    },
    {
     "name": "stderr",
     "output_type": "stream",
     "text": [
      "[15:53:49] Molecule does not have explicit Hs. Consider calling AddHs()\n",
      "[15:53:49] Molecule does not have explicit Hs. Consider calling AddHs()\n",
      "[15:53:49] Molecule does not have explicit Hs. Consider calling AddHs()\n"
     ]
    },
    {
     "name": "stdout",
     "output_type": "stream",
     "text": [
      "0\n",
      "no conformer for MolPort-051-551-040\n",
      "0\n",
      "no conformer for MolPort-051-551-110\n",
      "0\n",
      "no conformer for MolPort-051-551-176\n"
     ]
    },
    {
     "name": "stderr",
     "output_type": "stream",
     "text": [
      "[15:53:49] Molecule does not have explicit Hs. Consider calling AddHs()\n",
      "[15:53:49] Molecule does not have explicit Hs. Consider calling AddHs()\n"
     ]
    },
    {
     "name": "stdout",
     "output_type": "stream",
     "text": [
      "0\n",
      "no conformer for MolPort-051-551-299\n",
      "0\n",
      "no conformer for MolPort-051-551-413\n",
      "0\n",
      "no conformer for MolPort-051-561-964\n"
     ]
    },
    {
     "name": "stderr",
     "output_type": "stream",
     "text": [
      "[15:53:50] Molecule does not have explicit Hs. Consider calling AddHs()\n",
      "[15:53:50] Molecule does not have explicit Hs. Consider calling AddHs()\n",
      "[15:53:50] Molecule does not have explicit Hs. Consider calling AddHs()\n",
      "[15:53:50] Molecule does not have explicit Hs. Consider calling AddHs()\n"
     ]
    },
    {
     "name": "stdout",
     "output_type": "stream",
     "text": [
      "0\n",
      "no conformer for MolPort-051-568-065\n",
      "0\n",
      "no conformer for MolPort-051-568-070\n",
      "0\n",
      "no conformer for MolPort-051-568-087\n"
     ]
    },
    {
     "name": "stderr",
     "output_type": "stream",
     "text": [
      "[15:53:50] Molecule does not have explicit Hs. Consider calling AddHs()\n",
      "[15:53:50] Molecule does not have explicit Hs. Consider calling AddHs()\n",
      "[15:53:50] Molecule does not have explicit Hs. Consider calling AddHs()\n"
     ]
    },
    {
     "name": "stdout",
     "output_type": "stream",
     "text": [
      "0\n",
      "no conformer for MolPort-051-578-487\n",
      "0\n",
      "no conformer for MolPort-051-584-730\n",
      "0\n",
      "no conformer for MolPort-051-675-081\n"
     ]
    },
    {
     "name": "stderr",
     "output_type": "stream",
     "text": [
      "[15:53:50] Molecule does not have explicit Hs. Consider calling AddHs()\n",
      "[15:53:50] Molecule does not have explicit Hs. Consider calling AddHs()\n",
      "[15:53:50] Molecule does not have explicit Hs. Consider calling AddHs()\n"
     ]
    },
    {
     "name": "stdout",
     "output_type": "stream",
     "text": [
      "0\n",
      "no conformer for MolPort-051-688-204\n",
      "0\n",
      "no conformer for MolPort-051-688-329\n",
      "0\n",
      "no conformer for MolPort-051-688-349\n"
     ]
    },
    {
     "name": "stderr",
     "output_type": "stream",
     "text": [
      "[15:53:50] Molecule does not have explicit Hs. Consider calling AddHs()\n",
      "[15:53:50] Molecule does not have explicit Hs. Consider calling AddHs()\n",
      "[15:53:50] Molecule does not have explicit Hs. Consider calling AddHs()\n"
     ]
    },
    {
     "name": "stdout",
     "output_type": "stream",
     "text": [
      "0\n",
      "no conformer for MolPort-051-688-439\n",
      "0\n",
      "no conformer for MolPort-051-688-467\n",
      "0\n",
      "no conformer for MolPort-051-696-059\n"
     ]
    },
    {
     "name": "stderr",
     "output_type": "stream",
     "text": [
      "[15:53:51] Molecule does not have explicit Hs. Consider calling AddHs()\n",
      "[15:53:51] Molecule does not have explicit Hs. Consider calling AddHs()\n",
      "[15:53:51] Molecule does not have explicit Hs. Consider calling AddHs()\n"
     ]
    },
    {
     "name": "stdout",
     "output_type": "stream",
     "text": [
      "0\n",
      "no conformer for MolPort-049-243-663\n",
      "0\n",
      "no conformer for MolPort-049-246-301\n",
      "0\n",
      "no conformer for MolPort-049-246-315\n"
     ]
    },
    {
     "name": "stderr",
     "output_type": "stream",
     "text": [
      "[15:53:51] Molecule does not have explicit Hs. Consider calling AddHs()\n",
      "[15:53:51] Molecule does not have explicit Hs. Consider calling AddHs()\n"
     ]
    },
    {
     "name": "stdout",
     "output_type": "stream",
     "text": [
      "0\n",
      "no conformer for MolPort-049-246-343\n",
      "0\n",
      "no conformer for MolPort-049-246-379\n"
     ]
    },
    {
     "name": "stderr",
     "output_type": "stream",
     "text": [
      "[15:53:51] Molecule does not have explicit Hs. Consider calling AddHs()\n",
      "[15:53:51] Molecule does not have explicit Hs. Consider calling AddHs()\n",
      "[15:53:51] Molecule does not have explicit Hs. Consider calling AddHs()\n"
     ]
    },
    {
     "name": "stdout",
     "output_type": "stream",
     "text": [
      "0\n",
      "no conformer for MolPort-049-246-414\n",
      "0\n",
      "no conformer for MolPort-049-246-982\n",
      "0\n",
      "no conformer for MolPort-049-247-134\n"
     ]
    },
    {
     "name": "stderr",
     "output_type": "stream",
     "text": [
      "[15:53:51] Molecule does not have explicit Hs. Consider calling AddHs()\n",
      "[15:53:51] Molecule does not have explicit Hs. Consider calling AddHs()\n",
      "[15:53:51] Molecule does not have explicit Hs. Consider calling AddHs()\n"
     ]
    },
    {
     "name": "stdout",
     "output_type": "stream",
     "text": [
      "0\n",
      "no conformer for MolPort-049-247-138\n",
      "0\n",
      "no conformer for MolPort-049-247-233\n",
      "0\n",
      "no conformer for MolPort-049-247-235\n",
      "0\n",
      "no conformer for MolPort-051-480-886\n"
     ]
    },
    {
     "name": "stderr",
     "output_type": "stream",
     "text": [
      "[15:53:52] Molecule does not have explicit Hs. Consider calling AddHs()\n",
      "[15:53:52] Molecule does not have explicit Hs. Consider calling AddHs()\n",
      "[15:53:52] Molecule does not have explicit Hs. Consider calling AddHs()\n"
     ]
    },
    {
     "name": "stdout",
     "output_type": "stream",
     "text": [
      "0\n",
      "no conformer for MolPort-051-490-151\n",
      "0\n",
      "no conformer for MolPort-051-517-659\n",
      "0\n",
      "no conformer for MolPort-051-517-742\n"
     ]
    },
    {
     "name": "stderr",
     "output_type": "stream",
     "text": [
      "[15:53:52] Molecule does not have explicit Hs. Consider calling AddHs()\n",
      "[15:53:52] Molecule does not have explicit Hs. Consider calling AddHs()\n",
      "[15:53:52] Molecule does not have explicit Hs. Consider calling AddHs()\n"
     ]
    },
    {
     "name": "stdout",
     "output_type": "stream",
     "text": [
      "0\n",
      "no conformer for MolPort-051-517-890\n",
      "0\n",
      "no conformer for MolPort-051-518-043\n",
      "0\n",
      "no conformer for MolPort-051-519-527\n"
     ]
    },
    {
     "name": "stderr",
     "output_type": "stream",
     "text": [
      "[15:53:52] Molecule does not have explicit Hs. Consider calling AddHs()\n",
      "[15:53:52] Molecule does not have explicit Hs. Consider calling AddHs()\n",
      "[15:53:52] Molecule does not have explicit Hs. Consider calling AddHs()\n"
     ]
    },
    {
     "name": "stdout",
     "output_type": "stream",
     "text": [
      "0\n",
      "no conformer for MolPort-051-519-544\n",
      "0\n",
      "no conformer for MolPort-051-519-582\n",
      "0\n",
      "no conformer for MolPort-051-519-597\n"
     ]
    },
    {
     "name": "stderr",
     "output_type": "stream",
     "text": [
      "[15:53:52] Molecule does not have explicit Hs. Consider calling AddHs()\n",
      "[15:53:52] Molecule does not have explicit Hs. Consider calling AddHs()\n",
      "[15:53:52] Molecule does not have explicit Hs. Consider calling AddHs()\n"
     ]
    },
    {
     "name": "stdout",
     "output_type": "stream",
     "text": [
      "0\n",
      "no conformer for MolPort-051-519-634\n",
      "0\n",
      "no conformer for MolPort-051-519-649\n",
      "0\n",
      "no conformer for MolPort-051-519-654\n"
     ]
    },
    {
     "name": "stderr",
     "output_type": "stream",
     "text": [
      "[15:53:53] Molecule does not have explicit Hs. Consider calling AddHs()\n",
      "[15:53:53] Molecule does not have explicit Hs. Consider calling AddHs()\n",
      "[15:53:53] Molecule does not have explicit Hs. Consider calling AddHs()\n"
     ]
    },
    {
     "name": "stdout",
     "output_type": "stream",
     "text": [
      "0\n",
      "no conformer for MolPort-051-519-663\n",
      "0\n",
      "no conformer for MolPort-051-519-666\n",
      "0\n",
      "no conformer for MolPort-051-519-772\n"
     ]
    },
    {
     "name": "stderr",
     "output_type": "stream",
     "text": [
      "[15:53:53] Molecule does not have explicit Hs. Consider calling AddHs()\n",
      "[15:53:53] Molecule does not have explicit Hs. Consider calling AddHs()\n",
      "[15:53:53] Molecule does not have explicit Hs. Consider calling AddHs()\n"
     ]
    },
    {
     "name": "stdout",
     "output_type": "stream",
     "text": [
      "0\n",
      "no conformer for MolPort-051-519-869\n",
      "0\n",
      "no conformer for MolPort-051-549-211\n",
      "0\n",
      "no conformer for MolPort-051-549-215\n"
     ]
    },
    {
     "name": "stderr",
     "output_type": "stream",
     "text": [
      "[15:53:53] Molecule does not have explicit Hs. Consider calling AddHs()\n",
      "[15:53:53] Molecule does not have explicit Hs. Consider calling AddHs()\n",
      "[15:53:53] Molecule does not have explicit Hs. Consider calling AddHs()\n"
     ]
    },
    {
     "name": "stdout",
     "output_type": "stream",
     "text": [
      "0\n",
      "no conformer for MolPort-051-549-230\n",
      "0\n",
      "no conformer for MolPort-051-549-245\n"
     ]
    },
    {
     "name": "stderr",
     "output_type": "stream",
     "text": [
      "[15:53:53] Molecule does not have explicit Hs. Consider calling AddHs()\n",
      "[15:53:53] Molecule does not have explicit Hs. Consider calling AddHs()\n",
      "[15:53:53] Molecule does not have explicit Hs. Consider calling AddHs()\n",
      "[15:53:54] Molecule does not have explicit Hs. Consider calling AddHs()\n"
     ]
    },
    {
     "name": "stdout",
     "output_type": "stream",
     "text": [
      "0\n",
      "no conformer for MolPort-051-550-055\n",
      "0\n",
      "no conformer for MolPort-051-550-143\n",
      "0\n",
      "no conformer for MolPort-051-550-330\n",
      "0\n",
      "no conformer for MolPort-051-550-335\n"
     ]
    },
    {
     "name": "stderr",
     "output_type": "stream",
     "text": [
      "[15:53:54] Molecule does not have explicit Hs. Consider calling AddHs()\n",
      "[15:53:54] Molecule does not have explicit Hs. Consider calling AddHs()\n",
      "[15:53:54] Molecule does not have explicit Hs. Consider calling AddHs()\n"
     ]
    },
    {
     "name": "stdout",
     "output_type": "stream",
     "text": [
      "0\n",
      "no conformer for MolPort-051-550-378\n",
      "0\n",
      "no conformer for MolPort-051-550-779\n",
      "0\n",
      "no conformer for MolPort-051-550-788\n"
     ]
    },
    {
     "name": "stderr",
     "output_type": "stream",
     "text": [
      "[15:53:54] Molecule does not have explicit Hs. Consider calling AddHs()\n",
      "[15:53:54] Molecule does not have explicit Hs. Consider calling AddHs()\n"
     ]
    },
    {
     "name": "stdout",
     "output_type": "stream",
     "text": [
      "0\n",
      "no conformer for MolPort-051-550-965\n",
      "0\n",
      "no conformer for MolPort-051-567-383\n"
     ]
    },
    {
     "name": "stderr",
     "output_type": "stream",
     "text": [
      "[15:53:54] Molecule does not have explicit Hs. Consider calling AddHs()\n",
      "[15:53:54] Molecule does not have explicit Hs. Consider calling AddHs()\n"
     ]
    },
    {
     "name": "stdout",
     "output_type": "stream",
     "text": [
      "0\n",
      "no conformer for MolPort-051-567-521\n",
      "0\n",
      "no conformer for MolPort-051-567-528\n"
     ]
    },
    {
     "name": "stderr",
     "output_type": "stream",
     "text": [
      "[15:53:54] Molecule does not have explicit Hs. Consider calling AddHs()\n",
      "[15:53:55] Molecule does not have explicit Hs. Consider calling AddHs()\n"
     ]
    },
    {
     "name": "stdout",
     "output_type": "stream",
     "text": [
      "0\n",
      "no conformer for MolPort-051-567-541\n",
      "0\n",
      "no conformer for MolPort-051-567-853\n",
      "0\n",
      "no conformer for MolPort-051-567-932\n",
      "0\n",
      "no conformer for MolPort-051-577-832\n"
     ]
    },
    {
     "name": "stderr",
     "output_type": "stream",
     "text": [
      "[15:53:55] Molecule does not have explicit Hs. Consider calling AddHs()\n",
      "[15:53:55] Molecule does not have explicit Hs. Consider calling AddHs()\n",
      "[15:53:55] Molecule does not have explicit Hs. Consider calling AddHs()\n"
     ]
    },
    {
     "name": "stdout",
     "output_type": "stream",
     "text": [
      "0\n",
      "no conformer for MolPort-051-577-857\n",
      "0\n",
      "no conformer for MolPort-051-577-885\n",
      "0\n",
      "no conformer for MolPort-051-578-260\n"
     ]
    },
    {
     "name": "stderr",
     "output_type": "stream",
     "text": [
      "[15:53:55] Molecule does not have explicit Hs. Consider calling AddHs()\n",
      "[15:53:55] Molecule does not have explicit Hs. Consider calling AddHs()\n",
      "[15:53:55] Molecule does not have explicit Hs. Consider calling AddHs()\n"
     ]
    },
    {
     "name": "stdout",
     "output_type": "stream",
     "text": [
      "0\n",
      "no conformer for MolPort-051-578-310\n",
      "0\n",
      "no conformer for MolPort-051-578-441\n"
     ]
    },
    {
     "name": "stderr",
     "output_type": "stream",
     "text": [
      "[15:53:55] Molecule does not have explicit Hs. Consider calling AddHs()\n",
      "[15:53:55] Molecule does not have explicit Hs. Consider calling AddHs()\n"
     ]
    },
    {
     "name": "stdout",
     "output_type": "stream",
     "text": [
      "0\n",
      "no conformer for MolPort-051-578-451\n",
      "0\n",
      "no conformer for MolPort-051-606-522\n",
      "0\n",
      "no conformer for MolPort-051-606-612\n"
     ]
    },
    {
     "name": "stderr",
     "output_type": "stream",
     "text": [
      "[15:53:55] Molecule does not have explicit Hs. Consider calling AddHs()\n",
      "[15:53:55] Molecule does not have explicit Hs. Consider calling AddHs()\n",
      "[15:53:56] Molecule does not have explicit Hs. Consider calling AddHs()\n"
     ]
    },
    {
     "name": "stdout",
     "output_type": "stream",
     "text": [
      "0\n",
      "no conformer for MolPort-051-606-623\n",
      "0\n",
      "no conformer for MolPort-051-606-630\n"
     ]
    },
    {
     "name": "stderr",
     "output_type": "stream",
     "text": [
      "[15:53:56] Molecule does not have explicit Hs. Consider calling AddHs()\n",
      "[15:53:56] Molecule does not have explicit Hs. Consider calling AddHs()\n"
     ]
    },
    {
     "name": "stdout",
     "output_type": "stream",
     "text": [
      "0\n",
      "no conformer for MolPort-051-606-649\n",
      "0\n",
      "no conformer for MolPort-051-607-317\n"
     ]
    },
    {
     "name": "stderr",
     "output_type": "stream",
     "text": [
      "[15:53:56] Molecule does not have explicit Hs. Consider calling AddHs()\n",
      "[15:53:56] Molecule does not have explicit Hs. Consider calling AddHs()\n"
     ]
    },
    {
     "name": "stdout",
     "output_type": "stream",
     "text": [
      "0\n",
      "no conformer for MolPort-051-607-354\n",
      "0\n",
      "no conformer for MolPort-051-613-377\n",
      "0\n",
      "no conformer for MolPort-051-613-621\n"
     ]
    },
    {
     "name": "stderr",
     "output_type": "stream",
     "text": [
      "[15:53:56] Molecule does not have explicit Hs. Consider calling AddHs()\n",
      "[15:53:56] Molecule does not have explicit Hs. Consider calling AddHs()\n",
      "[15:53:56] Molecule does not have explicit Hs. Consider calling AddHs()\n"
     ]
    },
    {
     "name": "stdout",
     "output_type": "stream",
     "text": [
      "0\n",
      "no conformer for MolPort-051-613-948\n",
      "0\n",
      "no conformer for MolPort-051-614-287\n"
     ]
    },
    {
     "name": "stderr",
     "output_type": "stream",
     "text": [
      "[15:53:56] Molecule does not have explicit Hs. Consider calling AddHs()\n",
      "[15:53:56] Molecule does not have explicit Hs. Consider calling AddHs()\n"
     ]
    },
    {
     "name": "stdout",
     "output_type": "stream",
     "text": [
      "0\n",
      "no conformer for MolPort-051-614-288\n",
      "0\n",
      "no conformer for MolPort-051-614-790\n",
      "0\n",
      "no conformer for MolPort-051-614-798\n",
      "0\n",
      "no conformer for MolPort-051-614-827\n"
     ]
    },
    {
     "name": "stderr",
     "output_type": "stream",
     "text": [
      "[15:53:57] Molecule does not have explicit Hs. Consider calling AddHs()\n",
      "[15:53:57] Molecule does not have explicit Hs. Consider calling AddHs()\n",
      "[15:53:57] Molecule does not have explicit Hs. Consider calling AddHs()\n",
      "[15:53:57] Molecule does not have explicit Hs. Consider calling AddHs()\n"
     ]
    },
    {
     "name": "stdout",
     "output_type": "stream",
     "text": [
      "0\n",
      "no conformer for MolPort-051-686-706\n",
      "0\n",
      "no conformer for MolPort-051-686-721\n",
      "0\n",
      "no conformer for MolPort-051-687-571\n"
     ]
    },
    {
     "name": "stderr",
     "output_type": "stream",
     "text": [
      "[15:53:57] Molecule does not have explicit Hs. Consider calling AddHs()\n",
      "[15:53:57] Molecule does not have explicit Hs. Consider calling AddHs()\n",
      "[15:53:57] Molecule does not have explicit Hs. Consider calling AddHs()\n"
     ]
    },
    {
     "name": "stdout",
     "output_type": "stream",
     "text": [
      "0\n",
      "no conformer for MolPort-051-687-609\n",
      "0\n",
      "no conformer for MolPort-051-687-642\n"
     ]
    },
    {
     "name": "stderr",
     "output_type": "stream",
     "text": [
      "[15:53:57] Molecule does not have explicit Hs. Consider calling AddHs()\n",
      "[15:53:57] Molecule does not have explicit Hs. Consider calling AddHs()\n"
     ]
    },
    {
     "name": "stdout",
     "output_type": "stream",
     "text": [
      "0\n",
      "no conformer for MolPort-051-687-665\n",
      "0\n",
      "no conformer for MolPort-051-695-910\n",
      "0\n",
      "no conformer for MolPort-051-696-055\n"
     ]
    },
    {
     "name": "stderr",
     "output_type": "stream",
     "text": [
      "[15:53:57] Molecule does not have explicit Hs. Consider calling AddHs()\n",
      "[15:53:57] Molecule does not have explicit Hs. Consider calling AddHs()\n"
     ]
    }
   ],
   "source": [
    "\n",
    "infos = []\n",
    "\n",
    "for mol in mols:\n",
    "\n",
    "    #mol = mols[0]\n",
    "    prot_coords = fragment_search.calcPDBcoords(prot, residues)\n",
    "\n",
    "    zzz = fragment_search.run_one_mol(mol, m_start, prot_coords, radius)\n",
    "    if zzz is None:\n",
    "        continue\n",
    "    adj_matrix, cids, heavy_atom_num = zzz\n",
    "\n",
    "    excluded = fragment_search.extract_excluded(adj_matrix, len(cids), heavy_atom_num)\n",
    "\n",
    "    print(sum(1-excluded))\n",
    "\n",
    "    fragment_handle.removeConformers(mol, cids, excluded)\n",
    "\n",
    "    #fragment_handle.writeMolToPDB(outdir, mol, cids, excluded, key)\n",
    "    fragment_handle.writeSDF(outdir, mol, cids, excluded, key)\n",
    "\n",
    "    infos.append((mol, cids, excluded))\n",
    "\n",
    "len(infos)\n",
    "\n",
    "fragment_search.write_summary(outdir, infos, key)\n"
   ]
  }
 ],
 "metadata": {
  "kernelspec": {
   "display_name": "Python 3",
   "language": "python",
   "name": "python3"
  },
  "language_info": {
   "codemirror_mode": {
    "name": "ipython",
    "version": 3
   },
   "file_extension": ".py",
   "mimetype": "text/x-python",
   "name": "python",
   "nbconvert_exporter": "python",
   "pygments_lexer": "ipython3",
   "version": "3.11.4"
  },
  "orig_nbformat": 4
 },
 "nbformat": 4,
 "nbformat_minor": 2
}
