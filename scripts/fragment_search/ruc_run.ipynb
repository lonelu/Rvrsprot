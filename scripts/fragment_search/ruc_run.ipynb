{
 "cells": [
  {
   "cell_type": "code",
   "execution_count": 5,
   "metadata": {},
   "outputs": [],
   "source": [
    "from rvrsprot.frag_space import fragment_handle\n",
    "from rvrsprot.frag_space import fragment_search\n",
    "import numpy as np\n",
    "import os\n",
    "import datetime\n",
    "\n",
    "workdir = '/Users/lonelu/DesignData/fragment_design/FragmentScreen_ruc/'\n",
    "time_tag = datetime.datetime.now().strftime('%Y%m%d-%H%M%S') \n",
    "outdir = workdir + 'output_' + time_tag + '/'\n",
    "os.makedirs(outdir, exist_ok = True)\n",
    "\n",
    "pdbname = 'ruc_A.pdb'\n",
    "residues = [54]\n",
    "\n",
    "#radius = np.sqrt(num_cg_atoms) * rmsd\n",
    "radius = 2.2\n",
    "\n",
    "\n"
   ]
  },
  {
   "cell_type": "code",
   "execution_count": 6,
   "metadata": {},
   "outputs": [],
   "source": [
    "m_start_name = 'indole.sdf' \n",
    "\n",
    "mol_name = 'Molport_10000_result_1232.sdf'\n",
    "key = 'Molport ID'\n",
    "\n",
    "#mol_name = 'chemspace-search-20230904.sdf'\n",
    "#key = 'Chemspace_ID'\n",
    "\n",
    "#prot, m_start, mols = fragment_search.get_all_items(workdir, pdbname, m_start_name, mol_name)\n"
   ]
  },
  {
   "cell_type": "code",
   "execution_count": 7,
   "metadata": {},
   "outputs": [
    {
     "name": "stderr",
     "output_type": "stream",
     "text": [
      "@> 2317 atoms and 1 coordinate set(s) were parsed in 0.03s.\n",
      "[10:38:47] Explicit valence for atom # 32 O, 4, is greater than permitted\n",
      "[10:38:47] ERROR: Could not sanitize molecule ending on line 85655\n",
      "[10:38:47] ERROR: Explicit valence for atom # 32 O, 4, is greater than permitted\n"
     ]
    },
    {
     "name": "stdout",
     "output_type": "stream",
     "text": [
      "1231\n"
     ]
    },
    {
     "data": {
      "application/3dmoljs_load.v0": "<div id=\"3dmolviewer_16941947273619819\"  style=\"position: relative; width: 400px; height: 400px;\">\n        <p id=\"3dmolwarning_16941947273619819\" style=\"background-color:#ffcccc;color:black\">You appear to be running in JupyterLab (or JavaScript failed to load for some other reason).  You need to install the 3dmol extension: <br>\n        <tt>jupyter labextension install jupyterlab_3dmol</tt></p>\n        </div>\n<script>\n\nvar loadScriptAsync = function(uri){\n  return new Promise((resolve, reject) => {\n    //this is to ignore the existence of requirejs amd\n    var savedexports, savedmodule;\n    if (typeof exports !== 'undefined') savedexports = exports;\n    else exports = {}\n    if (typeof module !== 'undefined') savedmodule = module;\n    else module = {}\n\n    var tag = document.createElement('script');\n    tag.src = uri;\n    tag.async = true;\n    tag.onload = () => {\n        exports = savedexports;\n        module = savedmodule;\n        resolve();\n    };\n  var firstScriptTag = document.getElementsByTagName('script')[0];\n  firstScriptTag.parentNode.insertBefore(tag, firstScriptTag);\n});\n};\n\nif(typeof $3Dmolpromise === 'undefined') {\n$3Dmolpromise = null;\n  $3Dmolpromise = loadScriptAsync('https://cdnjs.cloudflare.com/ajax/libs/3Dmol/2.0.3/3Dmol-min.js');\n}\n\nvar viewer_16941947273619819 = null;\nvar warn = document.getElementById(\"3dmolwarning_16941947273619819\");\nif(warn) {\n    warn.parentNode.removeChild(warn);\n}\n$3Dmolpromise.then(function() {\nviewer_16941947273619819 = $3Dmol.createViewer(document.getElementById(\"3dmolviewer_16941947273619819\"),{backgroundColor:\"white\"});\nviewer_16941947273619819.zoomTo();\n\tviewer_16941947273619819.removeAllModels();\n\tviewer_16941947273619819.addModel(\"K000500.cdx\\n     RDKit          2D\\n\\n 35 42  0  0  0  0  0  0  0  0999 V2000\\n   -3.1223    0.2407    0.0000 C   0  0  0  0  0  0  0  0  0  0  0  0\\n   -3.1223   -0.5842    0.0000 C   0  0  0  0  0  0  0  0  0  0  0  0\\n   -2.4080   -0.9974    0.0000 C   0  0  0  0  0  0  0  0  0  0  0  0\\n   -1.6922   -0.5842    0.0000 C   0  0  0  0  0  0  0  0  0  0  0  0\\n   -1.6922    0.2407    0.0000 C   0  0  0  0  0  0  0  0  0  0  0  0\\n   -2.4080    0.6539    0.0000 C   0  0  0  0  0  0  0  0  0  0  0  0\\n   -0.9081   -0.8388    0.0000 C   0  0  0  0  0  0  0  0  0  0  0  0\\n   -0.4236   -0.1710    0.0000 C   0  0  0  0  0  0  0  0  0  0  0  0\\n   -0.9081    0.4967    0.0000 N   0  0  0  0  0  0  0  0  0  0  0  0\\n    0.7330   -1.0102    0.0000 C   0  0  0  0  0  0  0  0  0  0  0  0\\n    0.3969   -0.2567    0.0000 C   0  0  0  0  0  0  0  0  0  0  0  0\\n    1.5534   -0.9234    0.0000 C   0  0  0  0  0  0  0  0  0  0  0  0\\n    1.7244   -0.1163    0.0000 C   0  0  0  0  0  0  0  0  0  0  0  0\\n    1.0097    0.2957    0.0000 N   0  0  0  0  0  0  0  0  0  0  0  0\\n    2.1669   -1.4750    0.0000 C   0  0  0  0  0  0  0  0  0  0  0  0\\n    2.9514   -1.2195    0.0000 C   0  0  0  0  0  0  0  0  0  0  0  0\\n    3.1223   -0.4124    0.0000 C   0  0  0  0  0  0  0  0  0  0  0  0\\n    2.5089    0.1392    0.0000 C   0  0  0  0  0  0  0  0  0  0  0  0\\n    0.4196   -2.4874    0.0000 C   0  0  0  0  0  0  0  0  0  0  0  0\\n    0.2486   -1.6779    0.0000 C   0  0  0  0  0  0  0  0  0  0  0  0\\n   -0.5720   -1.5923    0.0000 C   0  0  0  0  0  0  0  0  0  0  0  0\\n   -0.9098   -2.3470    0.0000 C   0  0  0  0  0  0  0  0  0  0  0  0\\n   -0.2953   -2.9020    0.0000 N   0  0  0  0  0  0  0  0  0  0  0  0\\n   -1.7067   -2.5605    0.0000 O   0  0  0  0  0  0  0  0  0  0  0  0\\n   -0.6945    1.2936    0.0000 C   0  0  0  0  0  0  0  0  0  0  0  0\\n    0.1024    1.5071    0.0000 O   0  0  0  0  0  0  0  0  0  0  0  0\\n    0.8168    1.0946    0.0000 C   0  0  0  0  0  0  0  0  0  0  0  0\\n   -0.6945    2.1186    0.0000 C   0  0  0  0  0  0  0  0  0  0  0  0\\n    1.0304    1.8915    0.0000 C   0  0  0  0  0  0  0  0  0  0  0  0\\n    1.8272    2.1051    0.0000 C   0  0  0  0  0  0  0  0  0  0  0  0\\n    1.6418    1.0946    0.0000 C   0  0  0  0  0  0  0  0  0  0  0  0\\n    0.8168    2.6884    0.0000 O   0  0  0  0  0  0  0  0  0  0  0  0\\n    2.0408    2.9020    0.0000 O   0  0  0  0  0  0  0  0  0  0  0  0\\n    2.4106    1.5217    0.0000 O   0  0  0  0  0  0  0  0  0  0  0  0\\n    2.1978    0.7275    0.0000 C   0  0  0  0  0  0  0  0  0  0  0  0\\n  1  2  2  0\\n  2  3  1  0\\n  3  4  2  0\\n  4  5  1  0\\n  5  6  2  0\\n  1  6  1  0\\n  4  7  1  0\\n  7  8  2  0\\n  8  9  1  0\\n  5  9  1  0\\n  7 21  1  0\\n 20 10  1  0\\n 10 11  2  0\\n 11  8  1  0\\n 10 12  1  0\\n 12 13  2  0\\n 13 14  1  0\\n 14 11  1  0\\n 12 15  1  0\\n 15 16  2  0\\n 16 17  1  0\\n 17 18  2  0\\n 18 13  1  0\\n 19 20  1  0\\n 20 21  2  0\\n 21 22  1  0\\n 22 23  1  0\\n 19 23  1  0\\n 22 24  2  0\\n 25  9  1  0\\n 25 26  1  0\\n 27 26  1  0\\n 27 14  1  0\\n 25 28  1  1\\n 27 29  1  0\\n 29 28  1  0\\n 29 30  1  0\\n 27 31  1  6\\n 29 32  1  1\\n 30 33  2  0\\n 30 34  1  0\\n 34 35  1  0\\nM  END\\n\",\"sdf\");\n\tviewer_16941947273619819.setStyle({\"stick\": {}});\n\tviewer_16941947273619819.setBackgroundColor(\"0xeeeeee\");\n\tviewer_16941947273619819.zoomTo();\nviewer_16941947273619819.render();\n});\n</script>",
      "text/html": [
       "<div id=\"3dmolviewer_16941947273619819\"  style=\"position: relative; width: 400px; height: 400px;\">\n",
       "        <p id=\"3dmolwarning_16941947273619819\" style=\"background-color:#ffcccc;color:black\">You appear to be running in JupyterLab (or JavaScript failed to load for some other reason).  You need to install the 3dmol extension: <br>\n",
       "        <tt>jupyter labextension install jupyterlab_3dmol</tt></p>\n",
       "        </div>\n",
       "<script>\n",
       "\n",
       "var loadScriptAsync = function(uri){\n",
       "  return new Promise((resolve, reject) => {\n",
       "    //this is to ignore the existence of requirejs amd\n",
       "    var savedexports, savedmodule;\n",
       "    if (typeof exports !== 'undefined') savedexports = exports;\n",
       "    else exports = {}\n",
       "    if (typeof module !== 'undefined') savedmodule = module;\n",
       "    else module = {}\n",
       "\n",
       "    var tag = document.createElement('script');\n",
       "    tag.src = uri;\n",
       "    tag.async = true;\n",
       "    tag.onload = () => {\n",
       "        exports = savedexports;\n",
       "        module = savedmodule;\n",
       "        resolve();\n",
       "    };\n",
       "  var firstScriptTag = document.getElementsByTagName('script')[0];\n",
       "  firstScriptTag.parentNode.insertBefore(tag, firstScriptTag);\n",
       "});\n",
       "};\n",
       "\n",
       "if(typeof $3Dmolpromise === 'undefined') {\n",
       "$3Dmolpromise = null;\n",
       "  $3Dmolpromise = loadScriptAsync('https://cdnjs.cloudflare.com/ajax/libs/3Dmol/2.0.3/3Dmol-min.js');\n",
       "}\n",
       "\n",
       "var viewer_16941947273619819 = null;\n",
       "var warn = document.getElementById(\"3dmolwarning_16941947273619819\");\n",
       "if(warn) {\n",
       "    warn.parentNode.removeChild(warn);\n",
       "}\n",
       "$3Dmolpromise.then(function() {\n",
       "viewer_16941947273619819 = $3Dmol.createViewer(document.getElementById(\"3dmolviewer_16941947273619819\"),{backgroundColor:\"white\"});\n",
       "viewer_16941947273619819.zoomTo();\n",
       "\tviewer_16941947273619819.removeAllModels();\n",
       "\tviewer_16941947273619819.addModel(\"K000500.cdx\\n     RDKit          2D\\n\\n 35 42  0  0  0  0  0  0  0  0999 V2000\\n   -3.1223    0.2407    0.0000 C   0  0  0  0  0  0  0  0  0  0  0  0\\n   -3.1223   -0.5842    0.0000 C   0  0  0  0  0  0  0  0  0  0  0  0\\n   -2.4080   -0.9974    0.0000 C   0  0  0  0  0  0  0  0  0  0  0  0\\n   -1.6922   -0.5842    0.0000 C   0  0  0  0  0  0  0  0  0  0  0  0\\n   -1.6922    0.2407    0.0000 C   0  0  0  0  0  0  0  0  0  0  0  0\\n   -2.4080    0.6539    0.0000 C   0  0  0  0  0  0  0  0  0  0  0  0\\n   -0.9081   -0.8388    0.0000 C   0  0  0  0  0  0  0  0  0  0  0  0\\n   -0.4236   -0.1710    0.0000 C   0  0  0  0  0  0  0  0  0  0  0  0\\n   -0.9081    0.4967    0.0000 N   0  0  0  0  0  0  0  0  0  0  0  0\\n    0.7330   -1.0102    0.0000 C   0  0  0  0  0  0  0  0  0  0  0  0\\n    0.3969   -0.2567    0.0000 C   0  0  0  0  0  0  0  0  0  0  0  0\\n    1.5534   -0.9234    0.0000 C   0  0  0  0  0  0  0  0  0  0  0  0\\n    1.7244   -0.1163    0.0000 C   0  0  0  0  0  0  0  0  0  0  0  0\\n    1.0097    0.2957    0.0000 N   0  0  0  0  0  0  0  0  0  0  0  0\\n    2.1669   -1.4750    0.0000 C   0  0  0  0  0  0  0  0  0  0  0  0\\n    2.9514   -1.2195    0.0000 C   0  0  0  0  0  0  0  0  0  0  0  0\\n    3.1223   -0.4124    0.0000 C   0  0  0  0  0  0  0  0  0  0  0  0\\n    2.5089    0.1392    0.0000 C   0  0  0  0  0  0  0  0  0  0  0  0\\n    0.4196   -2.4874    0.0000 C   0  0  0  0  0  0  0  0  0  0  0  0\\n    0.2486   -1.6779    0.0000 C   0  0  0  0  0  0  0  0  0  0  0  0\\n   -0.5720   -1.5923    0.0000 C   0  0  0  0  0  0  0  0  0  0  0  0\\n   -0.9098   -2.3470    0.0000 C   0  0  0  0  0  0  0  0  0  0  0  0\\n   -0.2953   -2.9020    0.0000 N   0  0  0  0  0  0  0  0  0  0  0  0\\n   -1.7067   -2.5605    0.0000 O   0  0  0  0  0  0  0  0  0  0  0  0\\n   -0.6945    1.2936    0.0000 C   0  0  0  0  0  0  0  0  0  0  0  0\\n    0.1024    1.5071    0.0000 O   0  0  0  0  0  0  0  0  0  0  0  0\\n    0.8168    1.0946    0.0000 C   0  0  0  0  0  0  0  0  0  0  0  0\\n   -0.6945    2.1186    0.0000 C   0  0  0  0  0  0  0  0  0  0  0  0\\n    1.0304    1.8915    0.0000 C   0  0  0  0  0  0  0  0  0  0  0  0\\n    1.8272    2.1051    0.0000 C   0  0  0  0  0  0  0  0  0  0  0  0\\n    1.6418    1.0946    0.0000 C   0  0  0  0  0  0  0  0  0  0  0  0\\n    0.8168    2.6884    0.0000 O   0  0  0  0  0  0  0  0  0  0  0  0\\n    2.0408    2.9020    0.0000 O   0  0  0  0  0  0  0  0  0  0  0  0\\n    2.4106    1.5217    0.0000 O   0  0  0  0  0  0  0  0  0  0  0  0\\n    2.1978    0.7275    0.0000 C   0  0  0  0  0  0  0  0  0  0  0  0\\n  1  2  2  0\\n  2  3  1  0\\n  3  4  2  0\\n  4  5  1  0\\n  5  6  2  0\\n  1  6  1  0\\n  4  7  1  0\\n  7  8  2  0\\n  8  9  1  0\\n  5  9  1  0\\n  7 21  1  0\\n 20 10  1  0\\n 10 11  2  0\\n 11  8  1  0\\n 10 12  1  0\\n 12 13  2  0\\n 13 14  1  0\\n 14 11  1  0\\n 12 15  1  0\\n 15 16  2  0\\n 16 17  1  0\\n 17 18  2  0\\n 18 13  1  0\\n 19 20  1  0\\n 20 21  2  0\\n 21 22  1  0\\n 22 23  1  0\\n 19 23  1  0\\n 22 24  2  0\\n 25  9  1  0\\n 25 26  1  0\\n 27 26  1  0\\n 27 14  1  0\\n 25 28  1  1\\n 27 29  1  0\\n 29 28  1  0\\n 29 30  1  0\\n 27 31  1  6\\n 29 32  1  1\\n 30 33  2  0\\n 30 34  1  0\\n 34 35  1  0\\nM  END\\n\",\"sdf\");\n",
       "\tviewer_16941947273619819.setStyle({\"stick\": {}});\n",
       "\tviewer_16941947273619819.setBackgroundColor(\"0xeeeeee\");\n",
       "\tviewer_16941947273619819.zoomTo();\n",
       "viewer_16941947273619819.render();\n",
       "});\n",
       "</script>"
      ]
     },
     "metadata": {},
     "output_type": "display_data"
    }
   ],
   "source": [
    "import prody as pr\n",
    "import numpy as np\n",
    "from sklearn.neighbors import NearestNeighbors\n",
    "\n",
    "from rdkit import Chem\n",
    "from rdkit.Chem import AllChem\n",
    "import py3Dmol\n",
    "from rdkit.Chem import Draw\n",
    "from rdkit.Chem.Draw import IPythonConsole\n",
    "from rdkit.Chem.rdmolfiles import MolToPDBFile\n",
    "\n",
    "prot = pr.parsePDB(workdir + pdbname)\n",
    "\n",
    "suppl = Chem.SDMolSupplier(workdir + m_start_name)\n",
    "m_start = [x for x in suppl][0]\n",
    "\n",
    "molpath = workdir +  mol_name\n",
    "suppl = Chem.SDMolSupplier(molpath)\n",
    "mols = [x for x in suppl]\n",
    "\n",
    "hasSubs = [m.HasSubstructMatch(m_start) for m in mols if m is not None]\n",
    "print(sum(hasSubs))\n",
    "\n",
    "IPythonConsole.drawMol3D(mols[0])"
   ]
  },
  {
   "cell_type": "code",
   "execution_count": null,
   "metadata": {},
   "outputs": [],
   "source": [
    "###  drugbank mols.\n",
    "\n",
    "import prody as pr\n",
    "from rdkit import Chem\n",
    "\n",
    "prot = pr.parsePDB(workdir + pdbname)\n",
    "\n",
    "suppl = Chem.SDMolSupplier(workdir + m_start_name)\n",
    "m_start = [x for x in suppl][0]\n",
    "\n",
    "\n",
    "suppls = [Chem.SDMolSupplier(workdir + 'drugbank_search/' + molpath) for molpath in os.listdir(workdir + 'drugbank_search/')]\n",
    "\n",
    "mols = []\n",
    "for s in suppls:\n",
    "    for x in s:\n",
    "        if x is not None:\n",
    "            mols.append(x)\n",
    "\n",
    "print(mols)"
   ]
  },
  {
   "cell_type": "code",
   "execution_count": 8,
   "metadata": {},
   "outputs": [
    {
     "name": "stderr",
     "output_type": "stream",
     "text": [
      "[10:38:52] Molecule does not have explicit Hs. Consider calling AddHs()\n"
     ]
    },
    {
     "name": "stdout",
     "output_type": "stream",
     "text": [
      "0\n",
      "no conformer for MolPort-003-848-298\n",
      "0\n",
      "no conformer for MolPort-003-848-372\n"
     ]
    },
    {
     "name": "stderr",
     "output_type": "stream",
     "text": [
      "[10:38:52] Molecule does not have explicit Hs. Consider calling AddHs()\n",
      "[10:38:52] Molecule does not have explicit Hs. Consider calling AddHs()\n"
     ]
    },
    {
     "name": "stdout",
     "output_type": "stream",
     "text": [
      "0\n",
      "no conformer for MolPort-003-941-866\n"
     ]
    },
    {
     "name": "stderr",
     "output_type": "stream",
     "text": [
      "[10:38:52] Molecule does not have explicit Hs. Consider calling AddHs()\n"
     ]
    },
    {
     "name": "stdout",
     "output_type": "stream",
     "text": [
      "28\n"
     ]
    },
    {
     "name": "stderr",
     "output_type": "stream",
     "text": [
      "[10:38:53] Molecule does not have explicit Hs. Consider calling AddHs()\n"
     ]
    },
    {
     "name": "stdout",
     "output_type": "stream",
     "text": [
      "0\n",
      "no conformer for MolPort-003-983-774\n"
     ]
    },
    {
     "name": "stderr",
     "output_type": "stream",
     "text": [
      "[10:38:53] Molecule does not have explicit Hs. Consider calling AddHs()\n"
     ]
    },
    {
     "name": "stdout",
     "output_type": "stream",
     "text": [
      "0\n",
      "no conformer for MolPort-003-983-855\n"
     ]
    },
    {
     "name": "stderr",
     "output_type": "stream",
     "text": [
      "[10:38:53] Molecule does not have explicit Hs. Consider calling AddHs()\n"
     ]
    },
    {
     "name": "stdout",
     "output_type": "stream",
     "text": [
      "0\n",
      "no conformer for MolPort-004-963-434\n"
     ]
    },
    {
     "name": "stderr",
     "output_type": "stream",
     "text": [
      "[10:38:54] Molecule does not have explicit Hs. Consider calling AddHs()\n"
     ]
    },
    {
     "name": "stdout",
     "output_type": "stream",
     "text": [
      "0\n",
      "no conformer for MolPort-004-963-441\n",
      "0\n",
      "no conformer for MolPort-005-911-055\n"
     ]
    },
    {
     "name": "stderr",
     "output_type": "stream",
     "text": [
      "[10:38:54] Molecule does not have explicit Hs. Consider calling AddHs()\n",
      "[10:38:54] Molecule does not have explicit Hs. Consider calling AddHs()\n"
     ]
    },
    {
     "name": "stdout",
     "output_type": "stream",
     "text": [
      "0\n",
      "no conformer for MolPort-005-911-078\n",
      "0\n",
      "no conformer for MolPort-005-911-330\n"
     ]
    },
    {
     "name": "stderr",
     "output_type": "stream",
     "text": [
      "[10:38:54] Molecule does not have explicit Hs. Consider calling AddHs()\n",
      "[10:38:54] Molecule does not have explicit Hs. Consider calling AddHs()\n"
     ]
    },
    {
     "name": "stdout",
     "output_type": "stream",
     "text": [
      "0\n",
      "no conformer for MolPort-005-918-778\n",
      "0\n",
      "no conformer for MolPort-005-925-993\n"
     ]
    },
    {
     "name": "stderr",
     "output_type": "stream",
     "text": [
      "[10:38:54] Molecule does not have explicit Hs. Consider calling AddHs()\n",
      "[10:38:54] Molecule does not have explicit Hs. Consider calling AddHs()\n"
     ]
    },
    {
     "name": "stdout",
     "output_type": "stream",
     "text": [
      "0\n",
      "no conformer for MolPort-005-926-899\n",
      "0\n",
      "no conformer for MolPort-005-927-285\n"
     ]
    },
    {
     "name": "stderr",
     "output_type": "stream",
     "text": [
      "[10:38:55] Molecule does not have explicit Hs. Consider calling AddHs()\n",
      "[10:38:55] Molecule does not have explicit Hs. Consider calling AddHs()\n"
     ]
    },
    {
     "name": "stdout",
     "output_type": "stream",
     "text": [
      "0\n",
      "no conformer for MolPort-005-928-729\n",
      "0\n",
      "no conformer for MolPort-005-929-803\n"
     ]
    },
    {
     "name": "stderr",
     "output_type": "stream",
     "text": [
      "[10:38:55] Molecule does not have explicit Hs. Consider calling AddHs()\n",
      "[10:38:55] Molecule does not have explicit Hs. Consider calling AddHs()\n"
     ]
    },
    {
     "name": "stdout",
     "output_type": "stream",
     "text": [
      "0\n",
      "no conformer for MolPort-005-978-391\n",
      "17\n"
     ]
    },
    {
     "name": "stderr",
     "output_type": "stream",
     "text": [
      "[10:38:55] Molecule does not have explicit Hs. Consider calling AddHs()\n",
      "[10:38:55] Molecule does not have explicit Hs. Consider calling AddHs()\n"
     ]
    },
    {
     "name": "stdout",
     "output_type": "stream",
     "text": [
      "14\n",
      "15\n"
     ]
    },
    {
     "name": "stderr",
     "output_type": "stream",
     "text": [
      "[10:38:55] Molecule does not have explicit Hs. Consider calling AddHs()\n",
      "[10:38:56] Molecule does not have explicit Hs. Consider calling AddHs()\n"
     ]
    },
    {
     "name": "stdout",
     "output_type": "stream",
     "text": [
      "0\n",
      "no conformer for MolPort-006-396-089\n",
      "0\n",
      "no conformer for MolPort-006-813-787\n"
     ]
    },
    {
     "name": "stderr",
     "output_type": "stream",
     "text": [
      "[10:38:56] Molecule does not have explicit Hs. Consider calling AddHs()\n",
      "[10:38:56] Molecule does not have explicit Hs. Consider calling AddHs()\n"
     ]
    },
    {
     "name": "stdout",
     "output_type": "stream",
     "text": [
      "0\n",
      "no conformer for MolPort-006-815-400\n"
     ]
    },
    {
     "name": "stderr",
     "output_type": "stream",
     "text": [
      "[10:38:56] Molecule does not have explicit Hs. Consider calling AddHs()\n"
     ]
    },
    {
     "name": "stdout",
     "output_type": "stream",
     "text": [
      "0\n",
      "no conformer for MolPort-007-966-689\n",
      "5\n",
      "0\n",
      "no conformer for MolPort-008-286-341\n"
     ]
    },
    {
     "name": "stderr",
     "output_type": "stream",
     "text": [
      "[10:38:56] Molecule does not have explicit Hs. Consider calling AddHs()\n",
      "[10:38:56] Molecule does not have explicit Hs. Consider calling AddHs()\n",
      "[10:38:57] Molecule does not have explicit Hs. Consider calling AddHs()\n"
     ]
    },
    {
     "name": "stdout",
     "output_type": "stream",
     "text": [
      "0\n",
      "no conformer for MolPort-008-313-867\n",
      "0\n",
      "no conformer for MolPort-008-314-448\n",
      "0\n",
      "no conformer for MolPort-008-314-827\n"
     ]
    },
    {
     "name": "stderr",
     "output_type": "stream",
     "text": [
      "[10:38:57] Molecule does not have explicit Hs. Consider calling AddHs()\n",
      "[10:38:57] Molecule does not have explicit Hs. Consider calling AddHs()\n",
      "[10:38:57] Molecule does not have explicit Hs. Consider calling AddHs()\n"
     ]
    },
    {
     "name": "stdout",
     "output_type": "stream",
     "text": [
      "0\n",
      "no conformer for MolPort-008-316-225\n",
      "0\n",
      "no conformer for MolPort-008-317-577\n",
      "0\n",
      "no conformer for MolPort-008-318-539\n",
      "0\n",
      "no conformer for MolPort-008-320-574\n"
     ]
    },
    {
     "name": "stderr",
     "output_type": "stream",
     "text": [
      "[10:38:57] Molecule does not have explicit Hs. Consider calling AddHs()\n",
      "[10:38:57] Molecule does not have explicit Hs. Consider calling AddHs()\n",
      "[10:38:57] Molecule does not have explicit Hs. Consider calling AddHs()\n",
      "[10:38:57] Molecule does not have explicit Hs. Consider calling AddHs()\n"
     ]
    },
    {
     "name": "stdout",
     "output_type": "stream",
     "text": [
      "0\n",
      "no conformer for MolPort-008-332-021\n",
      "0\n",
      "no conformer for MolPort-008-332-023\n",
      "0\n",
      "no conformer for MolPort-008-332-984\n"
     ]
    },
    {
     "name": "stderr",
     "output_type": "stream",
     "text": [
      "[10:38:57] Molecule does not have explicit Hs. Consider calling AddHs()\n",
      "[10:38:57] Molecule does not have explicit Hs. Consider calling AddHs()\n",
      "[10:38:57] Molecule does not have explicit Hs. Consider calling AddHs()\n"
     ]
    },
    {
     "name": "stdout",
     "output_type": "stream",
     "text": [
      "0\n",
      "no conformer for MolPort-008-333-118\n",
      "0\n",
      "no conformer for MolPort-008-333-474\n",
      "0\n",
      "no conformer for MolPort-008-333-920\n"
     ]
    },
    {
     "name": "stderr",
     "output_type": "stream",
     "text": [
      "[10:38:57] Molecule does not have explicit Hs. Consider calling AddHs()\n",
      "[10:38:57] Molecule does not have explicit Hs. Consider calling AddHs()\n",
      "[10:38:57] Molecule does not have explicit Hs. Consider calling AddHs()\n"
     ]
    },
    {
     "name": "stdout",
     "output_type": "stream",
     "text": [
      "0\n",
      "no conformer for MolPort-008-334-042\n",
      "0\n",
      "no conformer for MolPort-008-334-169\n",
      "0\n",
      "no conformer for MolPort-008-334-309\n"
     ]
    },
    {
     "name": "stderr",
     "output_type": "stream",
     "text": [
      "[10:38:58] Molecule does not have explicit Hs. Consider calling AddHs()\n",
      "[10:38:58] Molecule does not have explicit Hs. Consider calling AddHs()\n",
      "[10:38:58] Molecule does not have explicit Hs. Consider calling AddHs()\n"
     ]
    },
    {
     "name": "stdout",
     "output_type": "stream",
     "text": [
      "0\n",
      "no conformer for MolPort-008-334-334\n",
      "0\n",
      "no conformer for MolPort-008-334-388\n"
     ]
    },
    {
     "name": "stderr",
     "output_type": "stream",
     "text": [
      "[10:38:58] Molecule does not have explicit Hs. Consider calling AddHs()\n",
      "[10:38:58] Molecule does not have explicit Hs. Consider calling AddHs()\n"
     ]
    },
    {
     "name": "stdout",
     "output_type": "stream",
     "text": [
      "0\n",
      "no conformer for MolPort-008-334-585\n",
      "0\n",
      "no conformer for MolPort-008-334-658\n",
      "0\n",
      "no conformer for MolPort-008-334-879\n",
      "0\n",
      "no conformer for MolPort-008-336-126\n"
     ]
    },
    {
     "name": "stderr",
     "output_type": "stream",
     "text": [
      "[10:38:58] Molecule does not have explicit Hs. Consider calling AddHs()\n",
      "[10:38:58] Molecule does not have explicit Hs. Consider calling AddHs()\n",
      "[10:38:58] Molecule does not have explicit Hs. Consider calling AddHs()\n",
      "[10:38:58] Molecule does not have explicit Hs. Consider calling AddHs()\n"
     ]
    },
    {
     "name": "stdout",
     "output_type": "stream",
     "text": [
      "0\n",
      "no conformer for MolPort-008-336-353\n",
      "0\n",
      "no conformer for MolPort-008-336-912\n",
      "0\n",
      "no conformer for MolPort-008-336-986\n"
     ]
    },
    {
     "name": "stderr",
     "output_type": "stream",
     "text": [
      "[10:38:58] Molecule does not have explicit Hs. Consider calling AddHs()\n",
      "[10:38:58] Molecule does not have explicit Hs. Consider calling AddHs()\n",
      "[10:38:58] Molecule does not have explicit Hs. Consider calling AddHs()\n"
     ]
    },
    {
     "name": "stdout",
     "output_type": "stream",
     "text": [
      "0\n",
      "no conformer for MolPort-008-336-993\n",
      "0\n",
      "no conformer for MolPort-008-337-311\n",
      "0\n",
      "no conformer for MolPort-008-337-319\n",
      "0\n",
      "no conformer for MolPort-008-337-468\n"
     ]
    },
    {
     "name": "stderr",
     "output_type": "stream",
     "text": [
      "[10:38:59] Molecule does not have explicit Hs. Consider calling AddHs()\n",
      "[10:38:59] Molecule does not have explicit Hs. Consider calling AddHs()\n",
      "[10:38:59] Molecule does not have explicit Hs. Consider calling AddHs()\n",
      "[10:38:59] Molecule does not have explicit Hs. Consider calling AddHs()\n"
     ]
    },
    {
     "name": "stdout",
     "output_type": "stream",
     "text": [
      "0\n",
      "no conformer for MolPort-008-337-479\n",
      "0\n",
      "no conformer for MolPort-008-337-584\n",
      "0\n",
      "no conformer for MolPort-008-338-213\n",
      "0\n",
      "no conformer for MolPort-008-338-631\n"
     ]
    },
    {
     "name": "stderr",
     "output_type": "stream",
     "text": [
      "[10:38:59] Molecule does not have explicit Hs. Consider calling AddHs()\n",
      "[10:38:59] Molecule does not have explicit Hs. Consider calling AddHs()\n",
      "[10:38:59] Molecule does not have explicit Hs. Consider calling AddHs()\n",
      "[10:38:59] Molecule does not have explicit Hs. Consider calling AddHs()\n"
     ]
    },
    {
     "name": "stdout",
     "output_type": "stream",
     "text": [
      "0\n",
      "no conformer for MolPort-008-338-672\n",
      "0\n",
      "no conformer for MolPort-008-339-538\n",
      "0\n",
      "no conformer for MolPort-008-338-779\n",
      "0\n",
      "no conformer for MolPort-008-338-896\n"
     ]
    },
    {
     "name": "stderr",
     "output_type": "stream",
     "text": [
      "[10:38:59] Molecule does not have explicit Hs. Consider calling AddHs()\n",
      "[10:38:59] Molecule does not have explicit Hs. Consider calling AddHs()\n",
      "[10:38:59] Molecule does not have explicit Hs. Consider calling AddHs()\n",
      "[10:38:59] Molecule does not have explicit Hs. Consider calling AddHs()\n"
     ]
    },
    {
     "name": "stdout",
     "output_type": "stream",
     "text": [
      "0\n",
      "no conformer for MolPort-008-338-897\n",
      "0\n",
      "no conformer for MolPort-008-339-821\n",
      "0\n",
      "no conformer for MolPort-010-895-540\n"
     ]
    },
    {
     "name": "stderr",
     "output_type": "stream",
     "text": [
      "[10:38:59] Molecule does not have explicit Hs. Consider calling AddHs()\n",
      "[10:38:59] Molecule does not have explicit Hs. Consider calling AddHs()\n",
      "[10:38:59] Molecule does not have explicit Hs. Consider calling AddHs()\n"
     ]
    },
    {
     "name": "stdout",
     "output_type": "stream",
     "text": [
      "0\n",
      "no conformer for MolPort-008-340-381\n",
      "0\n",
      "no conformer for MolPort-008-340-808\n",
      "0\n",
      "no conformer for MolPort-008-340-901\n"
     ]
    },
    {
     "name": "stderr",
     "output_type": "stream",
     "text": [
      "[10:38:59] Molecule does not have explicit Hs. Consider calling AddHs()\n",
      "[10:39:00] Molecule does not have explicit Hs. Consider calling AddHs()\n",
      "[10:39:00] Molecule does not have explicit Hs. Consider calling AddHs()\n"
     ]
    },
    {
     "name": "stdout",
     "output_type": "stream",
     "text": [
      "3\n",
      "0\n",
      "no conformer for MolPort-008-341-575\n",
      "0\n",
      "no conformer for MolPort-008-341-583\n"
     ]
    },
    {
     "name": "stderr",
     "output_type": "stream",
     "text": [
      "[10:39:00] Molecule does not have explicit Hs. Consider calling AddHs()\n",
      "[10:39:00] Molecule does not have explicit Hs. Consider calling AddHs()\n",
      "[10:39:00] Molecule does not have explicit Hs. Consider calling AddHs()\n"
     ]
    },
    {
     "name": "stdout",
     "output_type": "stream",
     "text": [
      "0\n",
      "no conformer for MolPort-008-341-667\n",
      "0\n",
      "no conformer for MolPort-008-341-813\n",
      "0\n",
      "no conformer for MolPort-008-341-816\n"
     ]
    },
    {
     "name": "stderr",
     "output_type": "stream",
     "text": [
      "[10:39:00] Molecule does not have explicit Hs. Consider calling AddHs()\n",
      "[10:39:00] Molecule does not have explicit Hs. Consider calling AddHs()\n",
      "[10:39:00] Molecule does not have explicit Hs. Consider calling AddHs()\n"
     ]
    },
    {
     "name": "stdout",
     "output_type": "stream",
     "text": [
      "0\n",
      "no conformer for MolPort-008-343-812\n",
      "0\n",
      "no conformer for MolPort-008-343-914\n",
      "0\n",
      "no conformer for MolPort-008-344-771\n"
     ]
    },
    {
     "name": "stderr",
     "output_type": "stream",
     "text": [
      "[10:39:00] Molecule does not have explicit Hs. Consider calling AddHs()\n",
      "[10:39:00] Molecule does not have explicit Hs. Consider calling AddHs()\n",
      "[10:39:00] Molecule does not have explicit Hs. Consider calling AddHs()\n"
     ]
    },
    {
     "name": "stdout",
     "output_type": "stream",
     "text": [
      "0\n",
      "no conformer for MolPort-008-344-782\n",
      "0\n",
      "no conformer for MolPort-008-347-540\n",
      "0\n",
      "no conformer for MolPort-008-347-764\n"
     ]
    },
    {
     "name": "stderr",
     "output_type": "stream",
     "text": [
      "[10:39:00] Molecule does not have explicit Hs. Consider calling AddHs()\n",
      "[10:39:01] Molecule does not have explicit Hs. Consider calling AddHs()\n",
      "[10:39:01] Molecule does not have explicit Hs. Consider calling AddHs()\n"
     ]
    },
    {
     "name": "stdout",
     "output_type": "stream",
     "text": [
      "0\n",
      "no conformer for MolPort-008-347-800\n",
      "0\n",
      "no conformer for MolPort-008-347-809\n",
      "0\n",
      "no conformer for MolPort-008-347-890\n"
     ]
    },
    {
     "name": "stderr",
     "output_type": "stream",
     "text": [
      "[10:39:01] Molecule does not have explicit Hs. Consider calling AddHs()\n",
      "[10:39:01] Molecule does not have explicit Hs. Consider calling AddHs()\n",
      "[10:39:01] Molecule does not have explicit Hs. Consider calling AddHs()\n"
     ]
    },
    {
     "name": "stdout",
     "output_type": "stream",
     "text": [
      "0\n",
      "no conformer for MolPort-008-347-937\n",
      "0\n",
      "no conformer for MolPort-008-347-978\n",
      "0\n",
      "no conformer for MolPort-008-348-011\n",
      "0\n",
      "no conformer for MolPort-008-348-076\n"
     ]
    },
    {
     "name": "stderr",
     "output_type": "stream",
     "text": [
      "[10:39:01] Molecule does not have explicit Hs. Consider calling AddHs()\n",
      "[10:39:01] Molecule does not have explicit Hs. Consider calling AddHs()\n",
      "[10:39:01] Molecule does not have explicit Hs. Consider calling AddHs()\n",
      "[10:39:01] Molecule does not have explicit Hs. Consider calling AddHs()\n"
     ]
    },
    {
     "name": "stdout",
     "output_type": "stream",
     "text": [
      "0\n",
      "no conformer for MolPort-008-348-230\n",
      "0\n",
      "no conformer for MolPort-008-348-382\n",
      "0\n",
      "no conformer for MolPort-008-348-397\n"
     ]
    },
    {
     "name": "stderr",
     "output_type": "stream",
     "text": [
      "[10:39:01] Molecule does not have explicit Hs. Consider calling AddHs()\n",
      "[10:39:01] Molecule does not have explicit Hs. Consider calling AddHs()\n",
      "[10:39:01] Molecule does not have explicit Hs. Consider calling AddHs()\n"
     ]
    },
    {
     "name": "stdout",
     "output_type": "stream",
     "text": [
      "0\n",
      "no conformer for MolPort-008-348-635\n",
      "0\n",
      "no conformer for MolPort-008-348-666\n",
      "0\n",
      "no conformer for MolPort-008-350-162\n"
     ]
    },
    {
     "name": "stderr",
     "output_type": "stream",
     "text": [
      "[10:39:01] Molecule does not have explicit Hs. Consider calling AddHs()\n",
      "[10:39:01] Molecule does not have explicit Hs. Consider calling AddHs()\n",
      "[10:39:02] Molecule does not have explicit Hs. Consider calling AddHs()\n"
     ]
    },
    {
     "name": "stdout",
     "output_type": "stream",
     "text": [
      "0\n",
      "no conformer for MolPort-008-350-496\n",
      "0\n",
      "no conformer for MolPort-008-351-244\n",
      "0\n",
      "no conformer for MolPort-008-353-304\n"
     ]
    },
    {
     "name": "stderr",
     "output_type": "stream",
     "text": [
      "[10:39:02] Molecule does not have explicit Hs. Consider calling AddHs()\n",
      "[10:39:02] Molecule does not have explicit Hs. Consider calling AddHs()\n",
      "[10:39:02] Molecule does not have explicit Hs. Consider calling AddHs()\n"
     ]
    },
    {
     "name": "stdout",
     "output_type": "stream",
     "text": [
      "0\n",
      "no conformer for MolPort-008-353-370\n",
      "0\n",
      "no conformer for MolPort-008-353-515\n",
      "0\n",
      "no conformer for MolPort-008-353-713\n"
     ]
    },
    {
     "name": "stderr",
     "output_type": "stream",
     "text": [
      "[10:39:02] Molecule does not have explicit Hs. Consider calling AddHs()\n",
      "[10:39:02] Molecule does not have explicit Hs. Consider calling AddHs()\n",
      "[10:39:02] Molecule does not have explicit Hs. Consider calling AddHs()\n"
     ]
    },
    {
     "name": "stdout",
     "output_type": "stream",
     "text": [
      "0\n",
      "no conformer for MolPort-008-353-845\n",
      "0\n",
      "no conformer for MolPort-008-353-905\n",
      "0\n",
      "no conformer for MolPort-008-354-115\n",
      "0\n",
      "no conformer for MolPort-008-354-234\n"
     ]
    },
    {
     "name": "stderr",
     "output_type": "stream",
     "text": [
      "[10:39:02] Molecule does not have explicit Hs. Consider calling AddHs()\n",
      "[10:39:02] Molecule does not have explicit Hs. Consider calling AddHs()\n",
      "[10:39:02] Molecule does not have explicit Hs. Consider calling AddHs()\n",
      "[10:39:02] Molecule does not have explicit Hs. Consider calling AddHs()\n"
     ]
    },
    {
     "name": "stdout",
     "output_type": "stream",
     "text": [
      "0\n",
      "no conformer for MolPort-008-354-262\n",
      "0\n",
      "no conformer for MolPort-008-354-403\n",
      "0\n",
      "no conformer for MolPort-008-354-422\n"
     ]
    },
    {
     "name": "stderr",
     "output_type": "stream",
     "text": [
      "[10:39:02] Molecule does not have explicit Hs. Consider calling AddHs()\n",
      "[10:39:02] Molecule does not have explicit Hs. Consider calling AddHs()\n",
      "[10:39:03] Molecule does not have explicit Hs. Consider calling AddHs()\n"
     ]
    },
    {
     "name": "stdout",
     "output_type": "stream",
     "text": [
      "0\n",
      "no conformer for MolPort-008-354-593\n",
      "0\n",
      "no conformer for MolPort-008-354-625\n",
      "0\n",
      "no conformer for MolPort-008-354-845\n"
     ]
    },
    {
     "name": "stderr",
     "output_type": "stream",
     "text": [
      "[10:39:03] Molecule does not have explicit Hs. Consider calling AddHs()\n",
      "[10:39:03] Molecule does not have explicit Hs. Consider calling AddHs()\n",
      "[10:39:03] Molecule does not have explicit Hs. Consider calling AddHs()\n"
     ]
    },
    {
     "name": "stdout",
     "output_type": "stream",
     "text": [
      "0\n",
      "no conformer for MolPort-008-355-466\n",
      "0\n",
      "no conformer for MolPort-009-650-562\n",
      "0\n",
      "no conformer for MolPort-009-651-112\n"
     ]
    },
    {
     "name": "stderr",
     "output_type": "stream",
     "text": [
      "[10:39:03] Molecule does not have explicit Hs. Consider calling AddHs()\n",
      "[10:39:03] Molecule does not have explicit Hs. Consider calling AddHs()\n",
      "[10:39:03] Molecule does not have explicit Hs. Consider calling AddHs()\n"
     ]
    },
    {
     "name": "stdout",
     "output_type": "stream",
     "text": [
      "16\n",
      "0\n",
      "no conformer for MolPort-009-758-745\n",
      "0\n",
      "no conformer for MolPort-009-759-278\n"
     ]
    },
    {
     "name": "stderr",
     "output_type": "stream",
     "text": [
      "[10:39:03] Molecule does not have explicit Hs. Consider calling AddHs()\n",
      "[10:39:03] Molecule does not have explicit Hs. Consider calling AddHs()\n",
      "[10:39:03] Molecule does not have explicit Hs. Consider calling AddHs()\n"
     ]
    },
    {
     "name": "stdout",
     "output_type": "stream",
     "text": [
      "0\n",
      "no conformer for MolPort-009-764-583\n",
      "0\n",
      "no conformer for MolPort-009-764-902\n"
     ]
    },
    {
     "name": "stderr",
     "output_type": "stream",
     "text": [
      "[10:39:03] Molecule does not have explicit Hs. Consider calling AddHs()\n",
      "[10:39:04] Molecule does not have explicit Hs. Consider calling AddHs()\n"
     ]
    },
    {
     "name": "stdout",
     "output_type": "stream",
     "text": [
      "0\n",
      "no conformer for MolPort-009-765-056\n",
      "1\n"
     ]
    },
    {
     "name": "stderr",
     "output_type": "stream",
     "text": [
      "[10:39:04] Molecule does not have explicit Hs. Consider calling AddHs()\n",
      "[10:39:04] Molecule does not have explicit Hs. Consider calling AddHs()\n"
     ]
    },
    {
     "name": "stdout",
     "output_type": "stream",
     "text": [
      "0\n",
      "no conformer for MolPort-010-698-363\n"
     ]
    },
    {
     "name": "stderr",
     "output_type": "stream",
     "text": [
      "[10:39:04] Molecule does not have explicit Hs. Consider calling AddHs()\n"
     ]
    },
    {
     "name": "stdout",
     "output_type": "stream",
     "text": [
      "0\n",
      "no conformer for MolPort-010-699-548\n",
      "0\n",
      "no conformer for MolPort-010-702-051\n"
     ]
    },
    {
     "name": "stderr",
     "output_type": "stream",
     "text": [
      "[10:39:04] Molecule does not have explicit Hs. Consider calling AddHs()\n",
      "[10:39:04] Molecule does not have explicit Hs. Consider calling AddHs()\n"
     ]
    },
    {
     "name": "stdout",
     "output_type": "stream",
     "text": [
      "0\n",
      "no conformer for MolPort-010-743-765\n",
      "0\n",
      "no conformer for MolPort-010-743-768\n"
     ]
    },
    {
     "name": "stderr",
     "output_type": "stream",
     "text": [
      "[10:39:04] Molecule does not have explicit Hs. Consider calling AddHs()\n",
      "[10:39:05] Molecule does not have explicit Hs. Consider calling AddHs()\n"
     ]
    },
    {
     "name": "stdout",
     "output_type": "stream",
     "text": [
      "0\n",
      "no conformer for MolPort-010-746-945\n",
      "0\n",
      "no conformer for MolPort-010-747-648\n"
     ]
    },
    {
     "name": "stderr",
     "output_type": "stream",
     "text": [
      "[10:39:05] Molecule does not have explicit Hs. Consider calling AddHs()\n",
      "[10:39:05] Molecule does not have explicit Hs. Consider calling AddHs()\n"
     ]
    },
    {
     "name": "stdout",
     "output_type": "stream",
     "text": [
      "0\n",
      "no conformer for MolPort-010-883-401\n",
      "0\n",
      "no conformer for MolPort-010-883-491\n",
      "0\n",
      "no conformer for MolPort-010-943-486\n"
     ]
    },
    {
     "name": "stderr",
     "output_type": "stream",
     "text": [
      "[10:39:05] Molecule does not have explicit Hs. Consider calling AddHs()\n",
      "[10:39:05] Molecule does not have explicit Hs. Consider calling AddHs()\n",
      "[10:39:05] Molecule does not have explicit Hs. Consider calling AddHs()\n"
     ]
    },
    {
     "name": "stdout",
     "output_type": "stream",
     "text": [
      "0\n",
      "no conformer for MolPort-012-110-952\n",
      "0\n",
      "no conformer for MolPort-009-649-247\n",
      "0\n",
      "no conformer for MolPort-009-649-258\n",
      "0\n",
      "no conformer for MolPort-009-649-297\n"
     ]
    },
    {
     "name": "stderr",
     "output_type": "stream",
     "text": [
      "[10:39:05] Molecule does not have explicit Hs. Consider calling AddHs()\n",
      "[10:39:06] Molecule does not have explicit Hs. Consider calling AddHs()\n",
      "[10:39:06] Molecule does not have explicit Hs. Consider calling AddHs()\n",
      "[10:39:06] Molecule does not have explicit Hs. Consider calling AddHs()\n"
     ]
    },
    {
     "name": "stdout",
     "output_type": "stream",
     "text": [
      "0\n",
      "no conformer for MolPort-009-649-335\n",
      "0\n",
      "no conformer for MolPort-009-649-340\n",
      "0\n",
      "no conformer for MolPort-009-761-743\n"
     ]
    },
    {
     "name": "stderr",
     "output_type": "stream",
     "text": [
      "[10:39:06] Molecule does not have explicit Hs. Consider calling AddHs()\n",
      "[10:39:06] Molecule does not have explicit Hs. Consider calling AddHs()\n",
      "[10:39:06] Molecule does not have explicit Hs. Consider calling AddHs()\n"
     ]
    },
    {
     "name": "stdout",
     "output_type": "stream",
     "text": [
      "0\n",
      "no conformer for MolPort-009-762-156\n",
      "0\n",
      "no conformer for MolPort-010-696-035\n"
     ]
    },
    {
     "name": "stderr",
     "output_type": "stream",
     "text": [
      "[10:39:06] Molecule does not have explicit Hs. Consider calling AddHs()\n",
      "[10:39:06] Molecule does not have explicit Hs. Consider calling AddHs()\n"
     ]
    },
    {
     "name": "stdout",
     "output_type": "stream",
     "text": [
      "0\n",
      "no conformer for MolPort-010-783-291\n",
      "0\n",
      "no conformer for MolPort-010-783-296\n"
     ]
    },
    {
     "name": "stderr",
     "output_type": "stream",
     "text": [
      "[10:39:06] Molecule does not have explicit Hs. Consider calling AddHs()\n",
      "[10:39:07] Molecule does not have explicit Hs. Consider calling AddHs()\n"
     ]
    },
    {
     "name": "stdout",
     "output_type": "stream",
     "text": [
      "0\n",
      "no conformer for MolPort-010-790-287\n",
      "0\n",
      "no conformer for MolPort-010-879-344\n"
     ]
    },
    {
     "name": "stderr",
     "output_type": "stream",
     "text": [
      "[10:39:07] Molecule does not have explicit Hs. Consider calling AddHs()\n",
      "[10:39:07] Molecule does not have explicit Hs. Consider calling AddHs()\n"
     ]
    },
    {
     "name": "stdout",
     "output_type": "stream",
     "text": [
      "0\n",
      "no conformer for MolPort-010-895-472\n",
      "0\n",
      "no conformer for MolPort-010-895-474\n"
     ]
    },
    {
     "name": "stderr",
     "output_type": "stream",
     "text": [
      "[10:39:07] Molecule does not have explicit Hs. Consider calling AddHs()\n",
      "[10:39:07] Molecule does not have explicit Hs. Consider calling AddHs()\n"
     ]
    },
    {
     "name": "stdout",
     "output_type": "stream",
     "text": [
      "0\n",
      "no conformer for MolPort-010-895-476\n",
      "0\n",
      "no conformer for MolPort-010-895-477\n"
     ]
    },
    {
     "name": "stderr",
     "output_type": "stream",
     "text": [
      "[10:39:07] Molecule does not have explicit Hs. Consider calling AddHs()\n",
      "[10:39:07] Molecule does not have explicit Hs. Consider calling AddHs()\n"
     ]
    },
    {
     "name": "stdout",
     "output_type": "stream",
     "text": [
      "0\n",
      "no conformer for MolPort-010-895-499\n",
      "0\n",
      "no conformer for MolPort-010-895-510\n"
     ]
    },
    {
     "name": "stderr",
     "output_type": "stream",
     "text": [
      "[10:39:07] Molecule does not have explicit Hs. Consider calling AddHs()\n",
      "[10:39:08] Molecule does not have explicit Hs. Consider calling AddHs()\n"
     ]
    },
    {
     "name": "stdout",
     "output_type": "stream",
     "text": [
      "0\n",
      "no conformer for MolPort-010-895-512\n",
      "0\n",
      "no conformer for MolPort-010-895-513\n"
     ]
    },
    {
     "name": "stderr",
     "output_type": "stream",
     "text": [
      "[10:39:08] Molecule does not have explicit Hs. Consider calling AddHs()\n",
      "[10:39:08] Molecule does not have explicit Hs. Consider calling AddHs()\n"
     ]
    },
    {
     "name": "stdout",
     "output_type": "stream",
     "text": [
      "0\n",
      "no conformer for MolPort-010-895-514\n",
      "0\n",
      "no conformer for MolPort-010-895-515\n"
     ]
    },
    {
     "name": "stderr",
     "output_type": "stream",
     "text": [
      "[10:39:08] Molecule does not have explicit Hs. Consider calling AddHs()\n",
      "[10:39:08] Molecule does not have explicit Hs. Consider calling AddHs()\n"
     ]
    },
    {
     "name": "stdout",
     "output_type": "stream",
     "text": [
      "0\n",
      "no conformer for MolPort-010-895-516\n",
      "0\n",
      "no conformer for MolPort-010-895-518\n"
     ]
    },
    {
     "name": "stderr",
     "output_type": "stream",
     "text": [
      "[10:39:08] Molecule does not have explicit Hs. Consider calling AddHs()\n",
      "[10:39:08] Molecule does not have explicit Hs. Consider calling AddHs()\n"
     ]
    },
    {
     "name": "stdout",
     "output_type": "stream",
     "text": [
      "0\n",
      "no conformer for MolPort-010-895-521\n",
      "0\n",
      "no conformer for MolPort-010-895-528\n",
      "0\n",
      "no conformer for MolPort-010-895-531\n"
     ]
    },
    {
     "name": "stderr",
     "output_type": "stream",
     "text": [
      "[10:39:08] Molecule does not have explicit Hs. Consider calling AddHs()\n",
      "[10:39:08] Molecule does not have explicit Hs. Consider calling AddHs()\n",
      "[10:39:09] Molecule does not have explicit Hs. Consider calling AddHs()\n"
     ]
    },
    {
     "name": "stdout",
     "output_type": "stream",
     "text": [
      "0\n",
      "no conformer for MolPort-010-895-537\n"
     ]
    },
    {
     "name": "stderr",
     "output_type": "stream",
     "text": [
      "[10:39:09] Molecule does not have explicit Hs. Consider calling AddHs()\n"
     ]
    },
    {
     "name": "stdout",
     "output_type": "stream",
     "text": [
      "0\n",
      "no conformer for MolPort-010-895-542\n"
     ]
    },
    {
     "name": "stderr",
     "output_type": "stream",
     "text": [
      "[10:39:09] Molecule does not have explicit Hs. Consider calling AddHs()\n"
     ]
    },
    {
     "name": "stdout",
     "output_type": "stream",
     "text": [
      "0\n",
      "no conformer for MolPort-010-895-544\n",
      "0\n",
      "no conformer for MolPort-010-895-548\n",
      "0\n",
      "no conformer for MolPort-010-895-549\n"
     ]
    },
    {
     "name": "stderr",
     "output_type": "stream",
     "text": [
      "[10:39:09] Molecule does not have explicit Hs. Consider calling AddHs()\n",
      "[10:39:09] Molecule does not have explicit Hs. Consider calling AddHs()\n",
      "[10:39:09] Molecule does not have explicit Hs. Consider calling AddHs()\n"
     ]
    },
    {
     "name": "stdout",
     "output_type": "stream",
     "text": [
      "0\n",
      "no conformer for MolPort-010-908-973\n",
      "0\n",
      "no conformer for MolPort-010-931-141\n",
      "0\n",
      "no conformer for MolPort-010-943-312\n"
     ]
    },
    {
     "name": "stderr",
     "output_type": "stream",
     "text": [
      "[10:39:09] Molecule does not have explicit Hs. Consider calling AddHs()\n",
      "[10:39:10] Molecule does not have explicit Hs. Consider calling AddHs()\n",
      "[10:39:10] Molecule does not have explicit Hs. Consider calling AddHs()\n"
     ]
    },
    {
     "name": "stdout",
     "output_type": "stream",
     "text": [
      "0\n",
      "no conformer for MolPort-010-950-467\n",
      "1\n"
     ]
    },
    {
     "name": "stderr",
     "output_type": "stream",
     "text": [
      "[10:39:10] Molecule does not have explicit Hs. Consider calling AddHs()\n",
      "[10:39:10] Molecule does not have explicit Hs. Consider calling AddHs()\n"
     ]
    },
    {
     "name": "stdout",
     "output_type": "stream",
     "text": [
      "0\n",
      "no conformer for MolPort-010-898-442\n",
      "0\n",
      "no conformer for MolPort-010-898-489\n",
      "0\n",
      "no conformer for MolPort-010-898-543\n"
     ]
    },
    {
     "name": "stderr",
     "output_type": "stream",
     "text": [
      "[10:39:10] Molecule does not have explicit Hs. Consider calling AddHs()\n",
      "[10:39:10] Molecule does not have explicit Hs. Consider calling AddHs()\n",
      "[10:39:10] Molecule does not have explicit Hs. Consider calling AddHs()\n"
     ]
    },
    {
     "name": "stdout",
     "output_type": "stream",
     "text": [
      "0\n",
      "no conformer for MolPort-023-295-772\n",
      "0\n",
      "no conformer for MolPort-010-898-591\n",
      "0\n",
      "no conformer for MolPort-010-921-783\n"
     ]
    },
    {
     "name": "stderr",
     "output_type": "stream",
     "text": [
      "[10:39:10] Molecule does not have explicit Hs. Consider calling AddHs()\n",
      "[10:39:10] Molecule does not have explicit Hs. Consider calling AddHs()\n",
      "[10:39:10] Molecule does not have explicit Hs. Consider calling AddHs()\n",
      "[10:39:11] Molecule does not have explicit Hs. Consider calling AddHs()\n"
     ]
    },
    {
     "name": "stdout",
     "output_type": "stream",
     "text": [
      "0\n",
      "no conformer for MolPort-010-921-984\n",
      "0\n",
      "no conformer for MolPort-010-943-604\n"
     ]
    },
    {
     "name": "stderr",
     "output_type": "stream",
     "text": [
      "[10:39:11] Molecule does not have explicit Hs. Consider calling AddHs()\n",
      "[10:39:11] Molecule does not have explicit Hs. Consider calling AddHs()\n"
     ]
    },
    {
     "name": "stdout",
     "output_type": "stream",
     "text": [
      "0\n",
      "no conformer for MolPort-010-944-041\n",
      "0\n",
      "no conformer for MolPort-010-944-325\n"
     ]
    },
    {
     "name": "stderr",
     "output_type": "stream",
     "text": [
      "[10:39:11] Molecule does not have explicit Hs. Consider calling AddHs()\n",
      "[10:39:11] Molecule does not have explicit Hs. Consider calling AddHs()\n"
     ]
    },
    {
     "name": "stdout",
     "output_type": "stream",
     "text": [
      "0\n",
      "no conformer for MolPort-010-950-935\n",
      "0\n",
      "no conformer for MolPort-010-963-866\n"
     ]
    },
    {
     "name": "stderr",
     "output_type": "stream",
     "text": [
      "[10:39:11] Molecule does not have explicit Hs. Consider calling AddHs()\n",
      "[10:39:11] Molecule does not have explicit Hs. Consider calling AddHs()\n",
      "[10:39:11] Molecule does not have explicit Hs. Consider calling AddHs()\n",
      "[10:39:11] Molecule does not have explicit Hs. Consider calling AddHs()\n"
     ]
    },
    {
     "name": "stdout",
     "output_type": "stream",
     "text": [
      "0\n",
      "no conformer for MolPort-011-466-412\n",
      "7\n",
      "0\n",
      "no conformer for MolPort-012-111-538\n",
      "0\n",
      "no conformer for MolPort-012-111-560\n",
      "0\n",
      "no conformer for MolPort-012-111-652\n"
     ]
    },
    {
     "name": "stderr",
     "output_type": "stream",
     "text": [
      "[10:39:11] Molecule does not have explicit Hs. Consider calling AddHs()\n",
      "[10:39:11] Molecule does not have explicit Hs. Consider calling AddHs()\n",
      "[10:39:11] Molecule does not have explicit Hs. Consider calling AddHs()\n",
      "[10:39:12] Molecule does not have explicit Hs. Consider calling AddHs()\n",
      "[10:39:12] Molecule does not have explicit Hs. Consider calling AddHs()\n",
      "[10:39:12] Molecule does not have explicit Hs. Consider calling AddHs()\n"
     ]
    },
    {
     "name": "stdout",
     "output_type": "stream",
     "text": [
      "1\n",
      "0\n",
      "no conformer for MolPort-012-111-806\n",
      "0\n",
      "no conformer for MolPort-012-627-990\n",
      "5\n",
      "7\n",
      "0\n",
      "no conformer for MolPort-016-655-614\n"
     ]
    },
    {
     "name": "stderr",
     "output_type": "stream",
     "text": [
      "[10:39:12] Molecule does not have explicit Hs. Consider calling AddHs()\n",
      "[10:39:12] Molecule does not have explicit Hs. Consider calling AddHs()\n"
     ]
    },
    {
     "name": "stdout",
     "output_type": "stream",
     "text": [
      "0\n",
      "no conformer for MolPort-016-674-984\n",
      "0\n",
      "no conformer for MolPort-019-825-754\n",
      "0\n",
      "no conformer for MolPort-019-828-078\n"
     ]
    },
    {
     "name": "stderr",
     "output_type": "stream",
     "text": [
      "[10:39:12] Molecule does not have explicit Hs. Consider calling AddHs()\n",
      "[10:39:12] Molecule does not have explicit Hs. Consider calling AddHs()\n",
      "[10:39:12] Molecule does not have explicit Hs. Consider calling AddHs()\n"
     ]
    },
    {
     "name": "stdout",
     "output_type": "stream",
     "text": [
      "0\n",
      "no conformer for MolPort-019-828-202\n",
      "0\n",
      "no conformer for MolPort-019-828-560\n",
      "0\n",
      "no conformer for MolPort-019-880-442\n"
     ]
    },
    {
     "name": "stderr",
     "output_type": "stream",
     "text": [
      "[10:39:13] Molecule does not have explicit Hs. Consider calling AddHs()\n",
      "[10:39:13] Molecule does not have explicit Hs. Consider calling AddHs()\n",
      "[10:39:13] Molecule does not have explicit Hs. Consider calling AddHs()\n"
     ]
    },
    {
     "name": "stdout",
     "output_type": "stream",
     "text": [
      "1\n",
      "0\n",
      "no conformer for MolPort-019-906-918\n",
      "0\n",
      "no conformer for MolPort-019-907-029\n"
     ]
    },
    {
     "name": "stderr",
     "output_type": "stream",
     "text": [
      "[10:39:13] Molecule does not have explicit Hs. Consider calling AddHs()\n",
      "[10:39:13] Molecule does not have explicit Hs. Consider calling AddHs()\n",
      "[10:39:13] Molecule does not have explicit Hs. Consider calling AddHs()\n"
     ]
    },
    {
     "name": "stdout",
     "output_type": "stream",
     "text": [
      "0\n",
      "no conformer for MolPort-019-907-069\n",
      "0\n",
      "no conformer for MolPort-019-907-262\n"
     ]
    },
    {
     "name": "stderr",
     "output_type": "stream",
     "text": [
      "[10:39:13] Molecule does not have explicit Hs. Consider calling AddHs()\n",
      "[10:39:13] Molecule does not have explicit Hs. Consider calling AddHs()\n"
     ]
    },
    {
     "name": "stdout",
     "output_type": "stream",
     "text": [
      "1\n",
      "0\n",
      "no conformer for MolPort-019-909-486\n",
      "1\n"
     ]
    },
    {
     "name": "stderr",
     "output_type": "stream",
     "text": [
      "[10:39:13] Molecule does not have explicit Hs. Consider calling AddHs()\n",
      "[10:39:13] Molecule does not have explicit Hs. Consider calling AddHs()\n",
      "[10:39:13] Molecule does not have explicit Hs. Consider calling AddHs()\n"
     ]
    },
    {
     "name": "stdout",
     "output_type": "stream",
     "text": [
      "0\n",
      "no conformer for MolPort-019-909-666\n",
      "0\n",
      "no conformer for MolPort-019-909-667\n",
      "0\n",
      "no conformer for MolPort-019-909-733\n"
     ]
    },
    {
     "name": "stderr",
     "output_type": "stream",
     "text": [
      "[10:39:14] Molecule does not have explicit Hs. Consider calling AddHs()\n",
      "[10:39:14] Molecule does not have explicit Hs. Consider calling AddHs()\n",
      "[10:39:14] Molecule does not have explicit Hs. Consider calling AddHs()\n"
     ]
    },
    {
     "name": "stdout",
     "output_type": "stream",
     "text": [
      "0\n",
      "no conformer for MolPort-019-909-799\n",
      "0\n",
      "no conformer for MolPort-019-909-807\n",
      "0\n",
      "no conformer for MolPort-019-909-832\n"
     ]
    },
    {
     "name": "stderr",
     "output_type": "stream",
     "text": [
      "[10:39:14] Molecule does not have explicit Hs. Consider calling AddHs()\n",
      "[10:39:14] Molecule does not have explicit Hs. Consider calling AddHs()\n",
      "[10:39:14] Molecule does not have explicit Hs. Consider calling AddHs()\n"
     ]
    },
    {
     "name": "stdout",
     "output_type": "stream",
     "text": [
      "0\n",
      "no conformer for MolPort-019-909-870\n",
      "29\n"
     ]
    },
    {
     "name": "stderr",
     "output_type": "stream",
     "text": [
      "[10:39:14] Molecule does not have explicit Hs. Consider calling AddHs()\n",
      "[10:39:14] Molecule does not have explicit Hs. Consider calling AddHs()\n"
     ]
    },
    {
     "name": "stdout",
     "output_type": "stream",
     "text": [
      "91\n",
      "0\n",
      "no conformer for MolPort-019-940-483\n",
      "0\n",
      "no conformer for MolPort-019-950-253\n"
     ]
    },
    {
     "name": "stderr",
     "output_type": "stream",
     "text": [
      "[10:39:15] Molecule does not have explicit Hs. Consider calling AddHs()\n",
      "[10:39:15] Molecule does not have explicit Hs. Consider calling AddHs()\n",
      "[10:39:15] Molecule does not have explicit Hs. Consider calling AddHs()\n"
     ]
    },
    {
     "name": "stdout",
     "output_type": "stream",
     "text": [
      "2\n",
      "0\n",
      "no conformer for MolPort-019-950-452\n"
     ]
    },
    {
     "name": "stderr",
     "output_type": "stream",
     "text": [
      "[10:39:15] Molecule does not have explicit Hs. Consider calling AddHs()\n",
      "[10:39:15] Molecule does not have explicit Hs. Consider calling AddHs()\n"
     ]
    },
    {
     "name": "stdout",
     "output_type": "stream",
     "text": [
      "0\n",
      "no conformer for MolPort-019-950-458\n",
      "0\n",
      "no conformer for MolPort-019-950-463\n",
      "0\n",
      "no conformer for MolPort-019-950-976\n"
     ]
    },
    {
     "name": "stderr",
     "output_type": "stream",
     "text": [
      "[10:39:15] Molecule does not have explicit Hs. Consider calling AddHs()\n",
      "[10:39:15] Molecule does not have explicit Hs. Consider calling AddHs()\n",
      "[10:39:15] Molecule does not have explicit Hs. Consider calling AddHs()\n"
     ]
    },
    {
     "name": "stdout",
     "output_type": "stream",
     "text": [
      "0\n",
      "no conformer for MolPort-019-952-635\n",
      "0\n",
      "no conformer for MolPort-019-952-658\n"
     ]
    },
    {
     "name": "stderr",
     "output_type": "stream",
     "text": [
      "[10:39:15] Molecule does not have explicit Hs. Consider calling AddHs()\n",
      "[10:39:16] Molecule does not have explicit Hs. Consider calling AddHs()\n"
     ]
    },
    {
     "name": "stdout",
     "output_type": "stream",
     "text": [
      "0\n",
      "no conformer for MolPort-019-952-681\n",
      "4\n",
      "0\n",
      "no conformer for MolPort-020-192-376\n"
     ]
    },
    {
     "name": "stderr",
     "output_type": "stream",
     "text": [
      "[10:39:16] Molecule does not have explicit Hs. Consider calling AddHs()\n",
      "[10:39:16] Molecule does not have explicit Hs. Consider calling AddHs()\n",
      "[10:39:16] Molecule does not have explicit Hs. Consider calling AddHs()\n"
     ]
    },
    {
     "name": "stdout",
     "output_type": "stream",
     "text": [
      "0\n",
      "no conformer for MolPort-021-742-682\n",
      "0\n",
      "no conformer for MolPort-021-745-352\n",
      "0\n",
      "no conformer for MolPort-021-749-528\n"
     ]
    },
    {
     "name": "stderr",
     "output_type": "stream",
     "text": [
      "[10:39:16] Molecule does not have explicit Hs. Consider calling AddHs()\n",
      "[10:39:16] Molecule does not have explicit Hs. Consider calling AddHs()\n",
      "[10:39:16] Molecule does not have explicit Hs. Consider calling AddHs()\n"
     ]
    },
    {
     "name": "stdout",
     "output_type": "stream",
     "text": [
      "0\n",
      "no conformer for MolPort-021-751-092\n",
      "0\n",
      "no conformer for MolPort-023-155-804\n",
      "0\n",
      "no conformer for MolPort-023-264-869\n"
     ]
    },
    {
     "name": "stderr",
     "output_type": "stream",
     "text": [
      "[10:39:16] Molecule does not have explicit Hs. Consider calling AddHs()\n",
      "[10:39:16] Molecule does not have explicit Hs. Consider calling AddHs()\n",
      "[10:39:16] Molecule does not have explicit Hs. Consider calling AddHs()\n"
     ]
    },
    {
     "name": "stdout",
     "output_type": "stream",
     "text": [
      "0\n",
      "no conformer for MolPort-023-268-387\n",
      "7\n"
     ]
    },
    {
     "name": "stderr",
     "output_type": "stream",
     "text": [
      "[10:39:17] Molecule does not have explicit Hs. Consider calling AddHs()\n",
      "[10:39:17] Molecule does not have explicit Hs. Consider calling AddHs()\n"
     ]
    },
    {
     "name": "stdout",
     "output_type": "stream",
     "text": [
      "0\n",
      "no conformer for MolPort-023-276-626\n",
      "0\n",
      "no conformer for MolPort-023-280-445\n",
      "0\n",
      "no conformer for MolPort-023-281-723\n",
      "0\n",
      "no conformer for MolPort-023-281-931\n"
     ]
    },
    {
     "name": "stderr",
     "output_type": "stream",
     "text": [
      "[10:39:17] Molecule does not have explicit Hs. Consider calling AddHs()\n",
      "[10:39:17] Molecule does not have explicit Hs. Consider calling AddHs()\n",
      "[10:39:17] Molecule does not have explicit Hs. Consider calling AddHs()\n",
      "[10:39:17] Molecule does not have explicit Hs. Consider calling AddHs()\n",
      "[10:39:17] Molecule does not have explicit Hs. Consider calling AddHs()\n",
      "[10:39:17] Molecule does not have explicit Hs. Consider calling AddHs()\n"
     ]
    },
    {
     "name": "stdout",
     "output_type": "stream",
     "text": [
      "0\n",
      "no conformer for MolPort-023-293-571\n",
      "0\n",
      "no conformer for MolPort-023-293-574\n",
      "0\n",
      "no conformer for MolPort-023-293-623\n",
      "0\n",
      "no conformer for MolPort-023-293-638\n",
      "0\n",
      "no conformer for MolPort-023-293-657\n"
     ]
    },
    {
     "name": "stderr",
     "output_type": "stream",
     "text": [
      "[10:39:18] Molecule does not have explicit Hs. Consider calling AddHs()\n",
      "[10:39:18] Molecule does not have explicit Hs. Consider calling AddHs()\n",
      "[10:39:18] Molecule does not have explicit Hs. Consider calling AddHs()\n"
     ]
    },
    {
     "name": "stdout",
     "output_type": "stream",
     "text": [
      "0\n",
      "no conformer for MolPort-023-293-694\n",
      "0\n",
      "no conformer for MolPort-023-293-736\n",
      "0\n",
      "no conformer for MolPort-023-293-741\n"
     ]
    },
    {
     "name": "stderr",
     "output_type": "stream",
     "text": [
      "[10:39:18] Molecule does not have explicit Hs. Consider calling AddHs()\n",
      "[10:39:18] Molecule does not have explicit Hs. Consider calling AddHs()\n",
      "[10:39:18] Molecule does not have explicit Hs. Consider calling AddHs()\n"
     ]
    },
    {
     "name": "stdout",
     "output_type": "stream",
     "text": [
      "0\n",
      "no conformer for MolPort-023-293-825\n",
      "0\n",
      "no conformer for MolPort-023-293-831\n",
      "0\n",
      "no conformer for MolPort-023-293-847\n"
     ]
    },
    {
     "name": "stderr",
     "output_type": "stream",
     "text": [
      "[10:39:18] Molecule does not have explicit Hs. Consider calling AddHs()\n",
      "[10:39:18] Molecule does not have explicit Hs. Consider calling AddHs()\n",
      "[10:39:18] Molecule does not have explicit Hs. Consider calling AddHs()\n"
     ]
    },
    {
     "name": "stdout",
     "output_type": "stream",
     "text": [
      "0\n",
      "no conformer for MolPort-023-293-949\n",
      "0\n",
      "no conformer for MolPort-023-294-016\n",
      "0\n",
      "no conformer for MolPort-023-294-036\n"
     ]
    },
    {
     "name": "stderr",
     "output_type": "stream",
     "text": [
      "[10:39:18] Molecule does not have explicit Hs. Consider calling AddHs()\n",
      "[10:39:18] Molecule does not have explicit Hs. Consider calling AddHs()\n",
      "[10:39:18] Molecule does not have explicit Hs. Consider calling AddHs()\n"
     ]
    },
    {
     "name": "stdout",
     "output_type": "stream",
     "text": [
      "0\n",
      "no conformer for MolPort-023-294-057\n",
      "0\n",
      "no conformer for MolPort-023-294-201\n",
      "0\n",
      "no conformer for MolPort-023-294-330\n"
     ]
    },
    {
     "name": "stderr",
     "output_type": "stream",
     "text": [
      "[10:39:19] Molecule does not have explicit Hs. Consider calling AddHs()\n",
      "[10:39:19] Molecule does not have explicit Hs. Consider calling AddHs()\n",
      "[10:39:19] Molecule does not have explicit Hs. Consider calling AddHs()\n"
     ]
    },
    {
     "name": "stdout",
     "output_type": "stream",
     "text": [
      "0\n",
      "no conformer for MolPort-023-294-378\n",
      "0\n",
      "no conformer for MolPort-023-294-423\n",
      "0\n",
      "no conformer for MolPort-023-294-463\n"
     ]
    },
    {
     "name": "stderr",
     "output_type": "stream",
     "text": [
      "[10:39:19] Molecule does not have explicit Hs. Consider calling AddHs()\n",
      "[10:39:19] Molecule does not have explicit Hs. Consider calling AddHs()\n",
      "[10:39:19] Molecule does not have explicit Hs. Consider calling AddHs()\n"
     ]
    },
    {
     "name": "stdout",
     "output_type": "stream",
     "text": [
      "0\n",
      "no conformer for MolPort-023-294-476\n",
      "0\n",
      "no conformer for MolPort-023-294-505\n"
     ]
    },
    {
     "name": "stderr",
     "output_type": "stream",
     "text": [
      "[10:39:19] Molecule does not have explicit Hs. Consider calling AddHs()\n",
      "[10:39:19] Molecule does not have explicit Hs. Consider calling AddHs()\n"
     ]
    },
    {
     "name": "stdout",
     "output_type": "stream",
     "text": [
      "0\n",
      "no conformer for MolPort-023-294-520\n",
      "0\n",
      "no conformer for MolPort-023-294-522\n",
      "0\n",
      "no conformer for MolPort-023-294-556\n"
     ]
    },
    {
     "name": "stderr",
     "output_type": "stream",
     "text": [
      "[10:39:19] Molecule does not have explicit Hs. Consider calling AddHs()\n",
      "[10:39:20] Molecule does not have explicit Hs. Consider calling AddHs()\n",
      "[10:39:20] Molecule does not have explicit Hs. Consider calling AddHs()\n"
     ]
    },
    {
     "name": "stdout",
     "output_type": "stream",
     "text": [
      "0\n",
      "no conformer for MolPort-023-294-579\n",
      "0\n",
      "no conformer for MolPort-023-294-856\n",
      "0\n",
      "no conformer for MolPort-023-294-864\n"
     ]
    },
    {
     "name": "stderr",
     "output_type": "stream",
     "text": [
      "[10:39:20] Molecule does not have explicit Hs. Consider calling AddHs()\n",
      "[10:39:20] Molecule does not have explicit Hs. Consider calling AddHs()\n",
      "[10:39:20] Molecule does not have explicit Hs. Consider calling AddHs()\n"
     ]
    },
    {
     "name": "stdout",
     "output_type": "stream",
     "text": [
      "0\n",
      "no conformer for MolPort-023-294-907\n",
      "0\n",
      "no conformer for MolPort-023-294-960\n",
      "1\n"
     ]
    },
    {
     "name": "stderr",
     "output_type": "stream",
     "text": [
      "[10:39:20] Molecule does not have explicit Hs. Consider calling AddHs()\n",
      "[10:39:20] Molecule does not have explicit Hs. Consider calling AddHs()\n",
      "[10:39:20] Molecule does not have explicit Hs. Consider calling AddHs()\n"
     ]
    },
    {
     "name": "stdout",
     "output_type": "stream",
     "text": [
      "0\n",
      "no conformer for MolPort-023-294-996\n",
      "0\n",
      "no conformer for MolPort-023-295-017\n"
     ]
    },
    {
     "name": "stderr",
     "output_type": "stream",
     "text": [
      "[10:39:20] Molecule does not have explicit Hs. Consider calling AddHs()\n",
      "[10:39:20] Molecule does not have explicit Hs. Consider calling AddHs()\n"
     ]
    },
    {
     "name": "stdout",
     "output_type": "stream",
     "text": [
      "0\n",
      "no conformer for MolPort-023-295-108\n",
      "0\n",
      "no conformer for MolPort-023-295-228\n"
     ]
    },
    {
     "name": "stderr",
     "output_type": "stream",
     "text": [
      "[10:39:20] Molecule does not have explicit Hs. Consider calling AddHs()\n",
      "[10:39:21] Molecule does not have explicit Hs. Consider calling AddHs()\n"
     ]
    },
    {
     "name": "stdout",
     "output_type": "stream",
     "text": [
      "0\n",
      "no conformer for MolPort-023-295-783\n",
      "0\n",
      "no conformer for MolPort-027-717-309\n",
      "0\n",
      "no conformer for MolPort-013-699-316\n",
      "0\n",
      "no conformer for MolPort-014-432-105\n"
     ]
    },
    {
     "name": "stderr",
     "output_type": "stream",
     "text": [
      "[10:39:21] Molecule does not have explicit Hs. Consider calling AddHs()\n",
      "[10:39:21] Molecule does not have explicit Hs. Consider calling AddHs()\n",
      "[10:39:21] Molecule does not have explicit Hs. Consider calling AddHs()\n",
      "[10:39:21] Molecule does not have explicit Hs. Consider calling AddHs()\n"
     ]
    },
    {
     "name": "stdout",
     "output_type": "stream",
     "text": [
      "0\n",
      "no conformer for MolPort-014-443-582\n",
      "0\n",
      "no conformer for MolPort-019-908-202\n",
      "0\n",
      "no conformer for MolPort-019-945-225\n"
     ]
    },
    {
     "name": "stderr",
     "output_type": "stream",
     "text": [
      "[10:39:21] Molecule does not have explicit Hs. Consider calling AddHs()\n",
      "[10:39:21] Molecule does not have explicit Hs. Consider calling AddHs()\n",
      "[10:39:21] Molecule does not have explicit Hs. Consider calling AddHs()\n"
     ]
    },
    {
     "name": "stdout",
     "output_type": "stream",
     "text": [
      "0\n",
      "no conformer for MolPort-019-952-250\n",
      "0\n",
      "no conformer for MolPort-020-225-952\n",
      "0\n",
      "no conformer for MolPort-021-769-828\n"
     ]
    },
    {
     "name": "stderr",
     "output_type": "stream",
     "text": [
      "[10:39:21] Molecule does not have explicit Hs. Consider calling AddHs()\n",
      "[10:39:21] Molecule does not have explicit Hs. Consider calling AddHs()\n",
      "[10:39:21] Molecule does not have explicit Hs. Consider calling AddHs()\n"
     ]
    },
    {
     "name": "stdout",
     "output_type": "stream",
     "text": [
      "0\n",
      "no conformer for MolPort-023-267-359\n",
      "1\n",
      "0\n",
      "no conformer for MolPort-023-280-331\n"
     ]
    },
    {
     "name": "stderr",
     "output_type": "stream",
     "text": [
      "[10:39:21] Molecule does not have explicit Hs. Consider calling AddHs()\n",
      "[10:39:22] Molecule does not have explicit Hs. Consider calling AddHs()\n",
      "[10:39:22] Molecule does not have explicit Hs. Consider calling AddHs()\n",
      "[10:39:22] Molecule does not have explicit Hs. Consider calling AddHs()\n",
      "[10:39:22] Molecule does not have explicit Hs. Consider calling AddHs()\n"
     ]
    },
    {
     "name": "stdout",
     "output_type": "stream",
     "text": [
      "0\n",
      "no conformer for MolPort-023-295-421\n",
      "0\n",
      "no conformer for MolPort-023-295-428\n",
      "0\n",
      "no conformer for MolPort-023-295-471\n",
      "0\n",
      "no conformer for MolPort-023-295-555\n"
     ]
    },
    {
     "name": "stderr",
     "output_type": "stream",
     "text": [
      "[10:39:22] Molecule does not have explicit Hs. Consider calling AddHs()\n",
      "[10:39:22] Molecule does not have explicit Hs. Consider calling AddHs()\n",
      "[10:39:22] Molecule does not have explicit Hs. Consider calling AddHs()\n"
     ]
    },
    {
     "name": "stdout",
     "output_type": "stream",
     "text": [
      "0\n",
      "no conformer for MolPort-023-295-576\n",
      "0\n",
      "no conformer for MolPort-023-295-623\n",
      "0\n",
      "no conformer for MolPort-023-295-642\n"
     ]
    },
    {
     "name": "stderr",
     "output_type": "stream",
     "text": [
      "[10:39:22] Molecule does not have explicit Hs. Consider calling AddHs()\n",
      "[10:39:22] Molecule does not have explicit Hs. Consider calling AddHs()\n",
      "[10:39:22] Molecule does not have explicit Hs. Consider calling AddHs()\n"
     ]
    },
    {
     "name": "stdout",
     "output_type": "stream",
     "text": [
      "0\n",
      "no conformer for MolPort-023-295-658\n",
      "0\n",
      "no conformer for MolPort-023-295-661\n",
      "0\n",
      "no conformer for MolPort-023-295-665\n"
     ]
    },
    {
     "name": "stderr",
     "output_type": "stream",
     "text": [
      "[10:39:22] Molecule does not have explicit Hs. Consider calling AddHs()\n",
      "[10:39:22] Molecule does not have explicit Hs. Consider calling AddHs()\n",
      "[10:39:23] Molecule does not have explicit Hs. Consider calling AddHs()\n",
      "[10:39:23] Molecule does not have explicit Hs. Consider calling AddHs()\n"
     ]
    },
    {
     "name": "stdout",
     "output_type": "stream",
     "text": [
      "0\n",
      "no conformer for MolPort-023-295-683\n",
      "0\n",
      "no conformer for MolPort-023-295-687\n",
      "0\n",
      "no conformer for MolPort-023-295-689\n"
     ]
    },
    {
     "name": "stderr",
     "output_type": "stream",
     "text": [
      "[10:39:23] Molecule does not have explicit Hs. Consider calling AddHs()\n",
      "[10:39:23] Molecule does not have explicit Hs. Consider calling AddHs()\n"
     ]
    },
    {
     "name": "stdout",
     "output_type": "stream",
     "text": [
      "0\n",
      "no conformer for MolPort-023-295-712\n",
      "0\n",
      "no conformer for MolPort-023-295-714\n"
     ]
    },
    {
     "name": "stderr",
     "output_type": "stream",
     "text": [
      "[10:39:23] Molecule does not have explicit Hs. Consider calling AddHs()\n",
      "[10:39:23] Molecule does not have explicit Hs. Consider calling AddHs()\n"
     ]
    },
    {
     "name": "stdout",
     "output_type": "stream",
     "text": [
      "0\n",
      "no conformer for MolPort-023-295-770\n",
      "0\n",
      "no conformer for MolPort-023-295-815\n"
     ]
    },
    {
     "name": "stderr",
     "output_type": "stream",
     "text": [
      "[10:39:23] Molecule does not have explicit Hs. Consider calling AddHs()\n",
      "[10:39:23] Molecule does not have explicit Hs. Consider calling AddHs()\n",
      "[10:39:23] Molecule does not have explicit Hs. Consider calling AddHs()\n"
     ]
    },
    {
     "name": "stdout",
     "output_type": "stream",
     "text": [
      "0\n",
      "no conformer for MolPort-023-295-834\n",
      "0\n",
      "no conformer for MolPort-023-295-966\n",
      "0\n",
      "no conformer for MolPort-023-296-120\n"
     ]
    },
    {
     "name": "stderr",
     "output_type": "stream",
     "text": [
      "[10:39:23] Molecule does not have explicit Hs. Consider calling AddHs()\n",
      "[10:39:24] Molecule does not have explicit Hs. Consider calling AddHs()\n",
      "[10:39:24] Molecule does not have explicit Hs. Consider calling AddHs()\n"
     ]
    },
    {
     "name": "stdout",
     "output_type": "stream",
     "text": [
      "0\n",
      "no conformer for MolPort-023-296-164\n",
      "0\n",
      "no conformer for MolPort-023-296-210\n",
      "0\n",
      "no conformer for MolPort-023-296-232\n"
     ]
    },
    {
     "name": "stderr",
     "output_type": "stream",
     "text": [
      "[10:39:24] Molecule does not have explicit Hs. Consider calling AddHs()\n",
      "[10:39:24] Molecule does not have explicit Hs. Consider calling AddHs()\n",
      "[10:39:24] Molecule does not have explicit Hs. Consider calling AddHs()\n"
     ]
    },
    {
     "name": "stdout",
     "output_type": "stream",
     "text": [
      "0\n",
      "no conformer for MolPort-023-297-744\n",
      "0\n",
      "no conformer for MolPort-023-297-774\n",
      "0\n",
      "no conformer for MolPort-023-297-824\n"
     ]
    },
    {
     "name": "stderr",
     "output_type": "stream",
     "text": [
      "[10:39:24] Molecule does not have explicit Hs. Consider calling AddHs()\n",
      "[10:39:24] Molecule does not have explicit Hs. Consider calling AddHs()\n",
      "[10:39:24] Molecule does not have explicit Hs. Consider calling AddHs()\n"
     ]
    },
    {
     "name": "stdout",
     "output_type": "stream",
     "text": [
      "0\n",
      "no conformer for MolPort-023-297-880\n",
      "0\n",
      "no conformer for MolPort-023-297-897\n",
      "0\n",
      "no conformer for MolPort-023-297-912\n"
     ]
    },
    {
     "name": "stderr",
     "output_type": "stream",
     "text": [
      "[10:39:24] Molecule does not have explicit Hs. Consider calling AddHs()\n",
      "[10:39:24] Molecule does not have explicit Hs. Consider calling AddHs()\n"
     ]
    },
    {
     "name": "stdout",
     "output_type": "stream",
     "text": [
      "0\n",
      "no conformer for MolPort-023-297-920\n",
      "0\n",
      "no conformer for MolPort-023-298-167\n",
      "0\n",
      "no conformer for MolPort-023-298-203\n"
     ]
    },
    {
     "name": "stderr",
     "output_type": "stream",
     "text": [
      "[10:39:24] Molecule does not have explicit Hs. Consider calling AddHs()\n",
      "[10:39:25] Molecule does not have explicit Hs. Consider calling AddHs()\n",
      "[10:39:25] Molecule does not have explicit Hs. Consider calling AddHs()\n"
     ]
    },
    {
     "name": "stdout",
     "output_type": "stream",
     "text": [
      "0\n",
      "no conformer for MolPort-023-298-227\n",
      "0\n",
      "no conformer for MolPort-023-298-266\n",
      "0\n",
      "no conformer for MolPort-023-298-298\n"
     ]
    },
    {
     "name": "stderr",
     "output_type": "stream",
     "text": [
      "[10:39:25] Molecule does not have explicit Hs. Consider calling AddHs()\n",
      "[10:39:25] Molecule does not have explicit Hs. Consider calling AddHs()\n",
      "[10:39:25] Molecule does not have explicit Hs. Consider calling AddHs()\n"
     ]
    },
    {
     "name": "stdout",
     "output_type": "stream",
     "text": [
      "0\n",
      "no conformer for MolPort-023-298-329\n",
      "0\n",
      "no conformer for MolPort-023-298-347\n",
      "0\n",
      "no conformer for MolPort-023-298-412\n",
      "0\n",
      "no conformer for MolPort-023-298-507\n"
     ]
    },
    {
     "name": "stderr",
     "output_type": "stream",
     "text": [
      "[10:39:25] Molecule does not have explicit Hs. Consider calling AddHs()\n",
      "[10:39:25] Molecule does not have explicit Hs. Consider calling AddHs()\n",
      "[10:39:25] Molecule does not have explicit Hs. Consider calling AddHs()\n"
     ]
    },
    {
     "name": "stdout",
     "output_type": "stream",
     "text": [
      "0\n",
      "no conformer for MolPort-023-318-441\n",
      "0\n",
      "no conformer for MolPort-023-319-098\n"
     ]
    },
    {
     "name": "stderr",
     "output_type": "stream",
     "text": [
      "[10:39:25] Molecule does not have explicit Hs. Consider calling AddHs()\n",
      "[10:39:25] Molecule does not have explicit Hs. Consider calling AddHs()\n"
     ]
    },
    {
     "name": "stdout",
     "output_type": "stream",
     "text": [
      "0\n",
      "no conformer for MolPort-027-563-946\n",
      "0\n",
      "no conformer for MolPort-027-563-960\n",
      "0\n",
      "no conformer for MolPort-027-564-195\n"
     ]
    },
    {
     "name": "stderr",
     "output_type": "stream",
     "text": [
      "[10:39:25] Molecule does not have explicit Hs. Consider calling AddHs()\n",
      "[10:39:25] Molecule does not have explicit Hs. Consider calling AddHs()\n",
      "[10:39:26] Molecule does not have explicit Hs. Consider calling AddHs()\n"
     ]
    },
    {
     "name": "stdout",
     "output_type": "stream",
     "text": [
      "0\n",
      "no conformer for MolPort-027-564-232\n",
      "0\n",
      "no conformer for MolPort-027-564-291\n",
      "0\n",
      "no conformer for MolPort-027-564-308\n"
     ]
    },
    {
     "name": "stderr",
     "output_type": "stream",
     "text": [
      "[10:39:26] Molecule does not have explicit Hs. Consider calling AddHs()\n",
      "[10:39:26] Molecule does not have explicit Hs. Consider calling AddHs()\n",
      "[10:39:26] Molecule does not have explicit Hs. Consider calling AddHs()\n",
      "[10:39:26] Molecule does not have explicit Hs. Consider calling AddHs()\n",
      "[10:39:26] Molecule does not have explicit Hs. Consider calling AddHs()\n"
     ]
    },
    {
     "name": "stdout",
     "output_type": "stream",
     "text": [
      "0\n",
      "no conformer for MolPort-027-564-386\n",
      "0\n",
      "no conformer for MolPort-027-564-393\n",
      "0\n",
      "no conformer for MolPort-027-564-417\n"
     ]
    },
    {
     "name": "stderr",
     "output_type": "stream",
     "text": [
      "[10:39:26] Molecule does not have explicit Hs. Consider calling AddHs()\n",
      "[10:39:26] Molecule does not have explicit Hs. Consider calling AddHs()\n",
      "[10:39:26] Molecule does not have explicit Hs. Consider calling AddHs()\n"
     ]
    },
    {
     "name": "stdout",
     "output_type": "stream",
     "text": [
      "0\n",
      "no conformer for MolPort-027-564-561\n",
      "0\n",
      "no conformer for MolPort-027-564-607\n",
      "0\n",
      "no conformer for MolPort-027-564-627\n"
     ]
    },
    {
     "name": "stderr",
     "output_type": "stream",
     "text": [
      "[10:39:26] Molecule does not have explicit Hs. Consider calling AddHs()\n",
      "[10:39:26] Molecule does not have explicit Hs. Consider calling AddHs()\n"
     ]
    },
    {
     "name": "stdout",
     "output_type": "stream",
     "text": [
      "0\n",
      "no conformer for MolPort-027-564-635\n",
      "0\n",
      "no conformer for MolPort-027-714-200\n",
      "0\n",
      "no conformer for MolPort-027-714-228\n"
     ]
    },
    {
     "name": "stderr",
     "output_type": "stream",
     "text": [
      "[10:39:27] Molecule does not have explicit Hs. Consider calling AddHs()\n",
      "[10:39:27] Molecule does not have explicit Hs. Consider calling AddHs()\n"
     ]
    },
    {
     "name": "stdout",
     "output_type": "stream",
     "text": [
      "0\n",
      "no conformer for MolPort-027-714-305\n",
      "0\n",
      "no conformer for MolPort-027-714-379\n"
     ]
    },
    {
     "name": "stderr",
     "output_type": "stream",
     "text": [
      "[10:39:27] Molecule does not have explicit Hs. Consider calling AddHs()\n",
      "[10:39:27] Molecule does not have explicit Hs. Consider calling AddHs()\n"
     ]
    },
    {
     "name": "stdout",
     "output_type": "stream",
     "text": [
      "0\n",
      "no conformer for MolPort-027-714-403\n",
      "0\n",
      "no conformer for MolPort-027-714-437\n"
     ]
    },
    {
     "name": "stderr",
     "output_type": "stream",
     "text": [
      "[10:39:27] Molecule does not have explicit Hs. Consider calling AddHs()\n",
      "[10:39:27] Molecule does not have explicit Hs. Consider calling AddHs()\n"
     ]
    },
    {
     "name": "stdout",
     "output_type": "stream",
     "text": [
      "0\n",
      "no conformer for MolPort-027-714-491\n",
      "0\n",
      "no conformer for MolPort-027-714-503\n"
     ]
    },
    {
     "name": "stderr",
     "output_type": "stream",
     "text": [
      "[10:39:27] Molecule does not have explicit Hs. Consider calling AddHs()\n",
      "[10:39:27] Molecule does not have explicit Hs. Consider calling AddHs()\n"
     ]
    },
    {
     "name": "stdout",
     "output_type": "stream",
     "text": [
      "0\n",
      "no conformer for MolPort-027-714-506\n",
      "0\n",
      "no conformer for MolPort-027-714-521\n",
      "0\n",
      "no conformer for MolPort-027-714-618\n"
     ]
    },
    {
     "name": "stderr",
     "output_type": "stream",
     "text": [
      "[10:39:28] Molecule does not have explicit Hs. Consider calling AddHs()\n",
      "[10:39:28] Molecule does not have explicit Hs. Consider calling AddHs()\n",
      "[10:39:28] Molecule does not have explicit Hs. Consider calling AddHs()\n"
     ]
    },
    {
     "name": "stdout",
     "output_type": "stream",
     "text": [
      "0\n",
      "no conformer for MolPort-027-714-648\n",
      "0\n",
      "no conformer for MolPort-027-714-805\n",
      "0\n",
      "no conformer for MolPort-027-714-808\n"
     ]
    },
    {
     "name": "stderr",
     "output_type": "stream",
     "text": [
      "[10:39:28] Molecule does not have explicit Hs. Consider calling AddHs()\n",
      "[10:39:28] Molecule does not have explicit Hs. Consider calling AddHs()\n",
      "[10:39:28] Molecule does not have explicit Hs. Consider calling AddHs()\n"
     ]
    },
    {
     "name": "stdout",
     "output_type": "stream",
     "text": [
      "0\n",
      "no conformer for MolPort-027-714-888\n",
      "0\n",
      "no conformer for MolPort-027-714-845\n",
      "0\n",
      "no conformer for MolPort-027-714-850\n"
     ]
    },
    {
     "name": "stderr",
     "output_type": "stream",
     "text": [
      "[10:39:28] Molecule does not have explicit Hs. Consider calling AddHs()\n",
      "[10:39:28] Molecule does not have explicit Hs. Consider calling AddHs()\n",
      "[10:39:28] Molecule does not have explicit Hs. Consider calling AddHs()\n"
     ]
    },
    {
     "name": "stdout",
     "output_type": "stream",
     "text": [
      "0\n",
      "no conformer for MolPort-027-714-965\n",
      "0\n",
      "no conformer for MolPort-027-714-975\n",
      "0\n",
      "no conformer for MolPort-027-715-005\n"
     ]
    },
    {
     "name": "stderr",
     "output_type": "stream",
     "text": [
      "[10:39:28] Molecule does not have explicit Hs. Consider calling AddHs()\n",
      "[10:39:28] Molecule does not have explicit Hs. Consider calling AddHs()\n",
      "[10:39:29] Molecule does not have explicit Hs. Consider calling AddHs()\n"
     ]
    },
    {
     "name": "stdout",
     "output_type": "stream",
     "text": [
      "0\n",
      "no conformer for MolPort-027-715-103\n",
      "0\n",
      "no conformer for MolPort-027-715-249\n"
     ]
    },
    {
     "name": "stderr",
     "output_type": "stream",
     "text": [
      "[10:39:29] Molecule does not have explicit Hs. Consider calling AddHs()\n",
      "[10:39:29] Molecule does not have explicit Hs. Consider calling AddHs()\n"
     ]
    },
    {
     "name": "stdout",
     "output_type": "stream",
     "text": [
      "0\n",
      "no conformer for MolPort-027-715-316\n"
     ]
    },
    {
     "name": "stderr",
     "output_type": "stream",
     "text": [
      "[10:39:29] Molecule does not have explicit Hs. Consider calling AddHs()\n"
     ]
    },
    {
     "name": "stdout",
     "output_type": "stream",
     "text": [
      "0\n",
      "no conformer for MolPort-027-715-380\n",
      "0\n",
      "no conformer for MolPort-027-715-438\n",
      "0\n",
      "no conformer for MolPort-027-715-439\n"
     ]
    },
    {
     "name": "stderr",
     "output_type": "stream",
     "text": [
      "[10:39:29] Molecule does not have explicit Hs. Consider calling AddHs()\n",
      "[10:39:29] Molecule does not have explicit Hs. Consider calling AddHs()\n",
      "[10:39:29] Molecule does not have explicit Hs. Consider calling AddHs()\n"
     ]
    },
    {
     "name": "stdout",
     "output_type": "stream",
     "text": [
      "0\n",
      "no conformer for MolPort-027-715-473\n",
      "0\n",
      "no conformer for MolPort-027-715-490\n",
      "0\n",
      "no conformer for MolPort-027-715-580\n"
     ]
    },
    {
     "name": "stderr",
     "output_type": "stream",
     "text": [
      "[10:39:29] Molecule does not have explicit Hs. Consider calling AddHs()\n",
      "[10:39:29] Molecule does not have explicit Hs. Consider calling AddHs()\n",
      "[10:39:29] Molecule does not have explicit Hs. Consider calling AddHs()\n"
     ]
    },
    {
     "name": "stdout",
     "output_type": "stream",
     "text": [
      "0\n",
      "no conformer for MolPort-027-715-628\n",
      "0\n",
      "no conformer for MolPort-027-715-645\n"
     ]
    },
    {
     "name": "stderr",
     "output_type": "stream",
     "text": [
      "[10:39:30] Molecule does not have explicit Hs. Consider calling AddHs()\n",
      "[10:39:30] Molecule does not have explicit Hs. Consider calling AddHs()\n"
     ]
    },
    {
     "name": "stdout",
     "output_type": "stream",
     "text": [
      "0\n",
      "no conformer for MolPort-027-715-674\n",
      "0\n",
      "no conformer for MolPort-027-715-720\n",
      "0\n",
      "no conformer for MolPort-027-715-744\n"
     ]
    },
    {
     "name": "stderr",
     "output_type": "stream",
     "text": [
      "[10:39:30] Molecule does not have explicit Hs. Consider calling AddHs()\n",
      "[10:39:30] Molecule does not have explicit Hs. Consider calling AddHs()\n",
      "[10:39:30] Molecule does not have explicit Hs. Consider calling AddHs()\n"
     ]
    },
    {
     "name": "stdout",
     "output_type": "stream",
     "text": [
      "0\n",
      "no conformer for MolPort-027-715-969\n",
      "0\n",
      "no conformer for MolPort-027-715-991\n",
      "0\n",
      "no conformer for MolPort-027-716-017\n"
     ]
    },
    {
     "name": "stderr",
     "output_type": "stream",
     "text": [
      "[10:39:30] Molecule does not have explicit Hs. Consider calling AddHs()\n",
      "[10:39:30] Molecule does not have explicit Hs. Consider calling AddHs()\n",
      "[10:39:30] Molecule does not have explicit Hs. Consider calling AddHs()\n"
     ]
    },
    {
     "name": "stdout",
     "output_type": "stream",
     "text": [
      "0\n",
      "no conformer for MolPort-027-716-040\n",
      "0\n",
      "no conformer for MolPort-027-716-128\n",
      "0\n",
      "no conformer for MolPort-027-716-247\n"
     ]
    },
    {
     "name": "stderr",
     "output_type": "stream",
     "text": [
      "[10:39:30] Molecule does not have explicit Hs. Consider calling AddHs()\n",
      "[10:39:30] Molecule does not have explicit Hs. Consider calling AddHs()\n",
      "[10:39:30] Molecule does not have explicit Hs. Consider calling AddHs()\n"
     ]
    },
    {
     "name": "stdout",
     "output_type": "stream",
     "text": [
      "0\n",
      "no conformer for MolPort-027-716-295\n",
      "0\n",
      "no conformer for MolPort-027-716-344\n",
      "0\n",
      "no conformer for MolPort-027-716-354\n"
     ]
    },
    {
     "name": "stderr",
     "output_type": "stream",
     "text": [
      "[10:39:31] Molecule does not have explicit Hs. Consider calling AddHs()\n",
      "[10:39:31] Molecule does not have explicit Hs. Consider calling AddHs()\n",
      "[10:39:31] Molecule does not have explicit Hs. Consider calling AddHs()\n"
     ]
    },
    {
     "name": "stdout",
     "output_type": "stream",
     "text": [
      "1\n",
      "0\n",
      "no conformer for MolPort-027-716-438\n",
      "0\n",
      "no conformer for MolPort-027-716-582\n"
     ]
    },
    {
     "name": "stderr",
     "output_type": "stream",
     "text": [
      "[10:39:31] Molecule does not have explicit Hs. Consider calling AddHs()\n",
      "[10:39:31] Molecule does not have explicit Hs. Consider calling AddHs()\n",
      "[10:39:31] Molecule does not have explicit Hs. Consider calling AddHs()\n"
     ]
    },
    {
     "name": "stdout",
     "output_type": "stream",
     "text": [
      "0\n",
      "no conformer for MolPort-027-716-602\n",
      "0\n",
      "no conformer for MolPort-027-716-643\n",
      "0\n",
      "no conformer for MolPort-027-716-746\n"
     ]
    },
    {
     "name": "stderr",
     "output_type": "stream",
     "text": [
      "[10:39:31] Molecule does not have explicit Hs. Consider calling AddHs()\n",
      "[10:39:31] Molecule does not have explicit Hs. Consider calling AddHs()\n",
      "[10:39:31] Molecule does not have explicit Hs. Consider calling AddHs()\n"
     ]
    },
    {
     "name": "stdout",
     "output_type": "stream",
     "text": [
      "0\n",
      "no conformer for MolPort-027-716-803\n",
      "0\n",
      "no conformer for MolPort-027-716-820\n",
      "0\n",
      "no conformer for MolPort-027-716-846\n"
     ]
    },
    {
     "name": "stderr",
     "output_type": "stream",
     "text": [
      "[10:39:31] Molecule does not have explicit Hs. Consider calling AddHs()\n",
      "[10:39:31] Molecule does not have explicit Hs. Consider calling AddHs()\n",
      "[10:39:31] Molecule does not have explicit Hs. Consider calling AddHs()\n"
     ]
    },
    {
     "name": "stdout",
     "output_type": "stream",
     "text": [
      "0\n",
      "no conformer for MolPort-027-717-016\n",
      "0\n",
      "no conformer for MolPort-027-717-055\n",
      "0\n",
      "no conformer for MolPort-027-717-194\n"
     ]
    },
    {
     "name": "stderr",
     "output_type": "stream",
     "text": [
      "[10:39:31] Molecule does not have explicit Hs. Consider calling AddHs()\n",
      "[10:39:32] Molecule does not have explicit Hs. Consider calling AddHs()\n",
      "[10:39:32] Molecule does not have explicit Hs. Consider calling AddHs()\n"
     ]
    },
    {
     "name": "stdout",
     "output_type": "stream",
     "text": [
      "0\n",
      "no conformer for MolPort-027-717-227\n",
      "0\n",
      "no conformer for MolPort-027-717-248\n"
     ]
    },
    {
     "name": "stderr",
     "output_type": "stream",
     "text": [
      "[10:39:32] Molecule does not have explicit Hs. Consider calling AddHs()\n",
      "[10:39:32] Molecule does not have explicit Hs. Consider calling AddHs()\n"
     ]
    },
    {
     "name": "stdout",
     "output_type": "stream",
     "text": [
      "0\n",
      "no conformer for MolPort-027-717-259\n",
      "0\n",
      "no conformer for MolPort-028-604-413\n",
      "0\n",
      "no conformer for MolPort-023-296-313\n"
     ]
    },
    {
     "name": "stderr",
     "output_type": "stream",
     "text": [
      "[10:39:32] Molecule does not have explicit Hs. Consider calling AddHs()\n",
      "[10:39:32] Molecule does not have explicit Hs. Consider calling AddHs()\n",
      "[10:39:32] Molecule does not have explicit Hs. Consider calling AddHs()\n"
     ]
    },
    {
     "name": "stdout",
     "output_type": "stream",
     "text": [
      "0\n",
      "no conformer for MolPort-023-296-333\n",
      "0\n",
      "no conformer for MolPort-023-296-367\n",
      "0\n",
      "no conformer for MolPort-023-296-391\n",
      "0\n",
      "no conformer for MolPort-023-296-432\n"
     ]
    },
    {
     "name": "stderr",
     "output_type": "stream",
     "text": [
      "[10:39:32] Molecule does not have explicit Hs. Consider calling AddHs()\n",
      "[10:39:32] Molecule does not have explicit Hs. Consider calling AddHs()\n",
      "[10:39:32] Molecule does not have explicit Hs. Consider calling AddHs()\n",
      "[10:39:32] Molecule does not have explicit Hs. Consider calling AddHs()\n"
     ]
    },
    {
     "name": "stdout",
     "output_type": "stream",
     "text": [
      "0\n",
      "no conformer for MolPort-023-296-447\n",
      "0\n",
      "no conformer for MolPort-023-296-500\n"
     ]
    },
    {
     "name": "stderr",
     "output_type": "stream",
     "text": [
      "[10:39:33] Molecule does not have explicit Hs. Consider calling AddHs()\n",
      "[10:39:33] Molecule does not have explicit Hs. Consider calling AddHs()\n"
     ]
    },
    {
     "name": "stdout",
     "output_type": "stream",
     "text": [
      "0\n",
      "no conformer for MolPort-023-296-558\n",
      "0\n",
      "no conformer for MolPort-023-296-580\n",
      "0\n",
      "no conformer for MolPort-023-296-607\n"
     ]
    },
    {
     "name": "stderr",
     "output_type": "stream",
     "text": [
      "[10:39:33] Molecule does not have explicit Hs. Consider calling AddHs()\n",
      "[10:39:33] Molecule does not have explicit Hs. Consider calling AddHs()\n",
      "[10:39:33] Molecule does not have explicit Hs. Consider calling AddHs()\n"
     ]
    },
    {
     "name": "stdout",
     "output_type": "stream",
     "text": [
      "0\n",
      "no conformer for MolPort-023-296-749\n",
      "0\n",
      "no conformer for MolPort-023-296-771\n",
      "0\n",
      "no conformer for MolPort-023-296-798\n"
     ]
    },
    {
     "name": "stderr",
     "output_type": "stream",
     "text": [
      "[10:39:33] Molecule does not have explicit Hs. Consider calling AddHs()\n",
      "[10:39:33] Molecule does not have explicit Hs. Consider calling AddHs()\n",
      "[10:39:33] Molecule does not have explicit Hs. Consider calling AddHs()\n"
     ]
    },
    {
     "name": "stdout",
     "output_type": "stream",
     "text": [
      "0\n",
      "no conformer for MolPort-023-296-816\n",
      "0\n",
      "no conformer for MolPort-023-296-839\n",
      "0\n",
      "no conformer for MolPort-023-296-924\n"
     ]
    },
    {
     "name": "stderr",
     "output_type": "stream",
     "text": [
      "[10:39:33] Molecule does not have explicit Hs. Consider calling AddHs()\n",
      "[10:39:33] Molecule does not have explicit Hs. Consider calling AddHs()\n",
      "[10:39:33] Molecule does not have explicit Hs. Consider calling AddHs()\n"
     ]
    },
    {
     "name": "stdout",
     "output_type": "stream",
     "text": [
      "0\n",
      "no conformer for MolPort-023-297-074\n",
      "0\n",
      "no conformer for MolPort-023-297-103\n"
     ]
    },
    {
     "name": "stderr",
     "output_type": "stream",
     "text": [
      "[10:39:33] Molecule does not have explicit Hs. Consider calling AddHs()\n",
      "[10:39:34] Molecule does not have explicit Hs. Consider calling AddHs()\n"
     ]
    },
    {
     "name": "stdout",
     "output_type": "stream",
     "text": [
      "0\n",
      "no conformer for MolPort-023-297-110\n",
      "0\n",
      "no conformer for MolPort-023-297-121\n",
      "0\n",
      "no conformer for MolPort-023-297-169\n"
     ]
    },
    {
     "name": "stderr",
     "output_type": "stream",
     "text": [
      "[10:39:34] Molecule does not have explicit Hs. Consider calling AddHs()\n",
      "[10:39:34] Molecule does not have explicit Hs. Consider calling AddHs()\n",
      "[10:39:34] Molecule does not have explicit Hs. Consider calling AddHs()\n"
     ]
    },
    {
     "name": "stdout",
     "output_type": "stream",
     "text": [
      "0\n",
      "no conformer for MolPort-023-297-180\n",
      "0\n",
      "no conformer for MolPort-023-297-211\n",
      "0\n",
      "no conformer for MolPort-023-297-387\n"
     ]
    },
    {
     "name": "stderr",
     "output_type": "stream",
     "text": [
      "[10:39:34] Molecule does not have explicit Hs. Consider calling AddHs()\n",
      "[10:39:34] Molecule does not have explicit Hs. Consider calling AddHs()\n",
      "[10:39:34] Molecule does not have explicit Hs. Consider calling AddHs()\n"
     ]
    },
    {
     "name": "stdout",
     "output_type": "stream",
     "text": [
      "0\n",
      "no conformer for MolPort-023-297-454\n",
      "0\n",
      "no conformer for MolPort-023-297-464\n",
      "0\n",
      "no conformer for MolPort-023-297-483\n"
     ]
    },
    {
     "name": "stderr",
     "output_type": "stream",
     "text": [
      "[10:39:34] Molecule does not have explicit Hs. Consider calling AddHs()\n",
      "[10:39:34] Molecule does not have explicit Hs. Consider calling AddHs()\n",
      "[10:39:34] Molecule does not have explicit Hs. Consider calling AddHs()\n"
     ]
    },
    {
     "name": "stdout",
     "output_type": "stream",
     "text": [
      "0\n",
      "no conformer for MolPort-023-297-520\n",
      "0\n",
      "no conformer for MolPort-023-297-524\n"
     ]
    },
    {
     "name": "stderr",
     "output_type": "stream",
     "text": [
      "[10:39:35] Molecule does not have explicit Hs. Consider calling AddHs()\n",
      "[10:39:35] Molecule does not have explicit Hs. Consider calling AddHs()\n"
     ]
    },
    {
     "name": "stdout",
     "output_type": "stream",
     "text": [
      "0\n",
      "no conformer for MolPort-023-297-532\n",
      "0\n",
      "no conformer for MolPort-023-297-562\n",
      "0\n",
      "no conformer for MolPort-023-325-153\n"
     ]
    },
    {
     "name": "stderr",
     "output_type": "stream",
     "text": [
      "[10:39:35] Molecule does not have explicit Hs. Consider calling AddHs()\n",
      "[10:39:35] Molecule does not have explicit Hs. Consider calling AddHs()\n",
      "[10:39:35] Molecule does not have explicit Hs. Consider calling AddHs()\n",
      "[10:39:35] Molecule does not have explicit Hs. Consider calling AddHs()\n"
     ]
    },
    {
     "name": "stdout",
     "output_type": "stream",
     "text": [
      "0\n",
      "no conformer for MolPort-023-325-385\n",
      "0\n",
      "no conformer for MolPort-027-717-369\n",
      "0\n",
      "no conformer for MolPort-027-717-372\n"
     ]
    },
    {
     "name": "stderr",
     "output_type": "stream",
     "text": [
      "[10:39:35] Molecule does not have explicit Hs. Consider calling AddHs()\n",
      "[10:39:35] Molecule does not have explicit Hs. Consider calling AddHs()\n",
      "[10:39:35] Molecule does not have explicit Hs. Consider calling AddHs()\n"
     ]
    },
    {
     "name": "stdout",
     "output_type": "stream",
     "text": [
      "0\n",
      "no conformer for MolPort-027-717-425\n",
      "0\n",
      "no conformer for MolPort-027-717-471\n",
      "0\n",
      "no conformer for MolPort-027-717-503\n"
     ]
    },
    {
     "name": "stderr",
     "output_type": "stream",
     "text": [
      "[10:39:35] Molecule does not have explicit Hs. Consider calling AddHs()\n",
      "[10:39:35] Molecule does not have explicit Hs. Consider calling AddHs()\n",
      "[10:39:36] Molecule does not have explicit Hs. Consider calling AddHs()\n"
     ]
    },
    {
     "name": "stdout",
     "output_type": "stream",
     "text": [
      "0\n",
      "no conformer for MolPort-027-717-600\n",
      "0\n",
      "no conformer for MolPort-027-717-625\n",
      "0\n",
      "no conformer for MolPort-027-718-209\n"
     ]
    },
    {
     "name": "stderr",
     "output_type": "stream",
     "text": [
      "[10:39:36] Molecule does not have explicit Hs. Consider calling AddHs()\n",
      "[10:39:36] Molecule does not have explicit Hs. Consider calling AddHs()\n",
      "[10:39:36] Molecule does not have explicit Hs. Consider calling AddHs()\n"
     ]
    },
    {
     "name": "stdout",
     "output_type": "stream",
     "text": [
      "0\n",
      "no conformer for MolPort-027-718-220\n",
      "0\n",
      "no conformer for MolPort-027-718-586\n"
     ]
    },
    {
     "name": "stderr",
     "output_type": "stream",
     "text": [
      "[10:39:36] Molecule does not have explicit Hs. Consider calling AddHs()\n",
      "[10:39:36] Molecule does not have explicit Hs. Consider calling AddHs()\n",
      "[10:39:36] Molecule does not have explicit Hs. Consider calling AddHs()\n"
     ]
    },
    {
     "name": "stdout",
     "output_type": "stream",
     "text": [
      "0\n",
      "no conformer for MolPort-027-718-589\n",
      "0\n",
      "no conformer for MolPort-027-718-611\n",
      "0\n",
      "no conformer for MolPort-027-718-715\n"
     ]
    },
    {
     "name": "stderr",
     "output_type": "stream",
     "text": [
      "[10:39:36] Molecule does not have explicit Hs. Consider calling AddHs()\n"
     ]
    },
    {
     "name": "stdout",
     "output_type": "stream",
     "text": [
      "0\n",
      "no conformer for MolPort-027-720-812\n",
      "0\n",
      "no conformer for MolPort-027-815-390\n"
     ]
    },
    {
     "name": "stderr",
     "output_type": "stream",
     "text": [
      "[10:39:37] Molecule does not have explicit Hs. Consider calling AddHs()\n",
      "[10:39:37] Molecule does not have explicit Hs. Consider calling AddHs()\n"
     ]
    },
    {
     "name": "stdout",
     "output_type": "stream",
     "text": [
      "0\n",
      "no conformer for MolPort-027-817-034\n",
      "0\n",
      "no conformer for MolPort-027-818-747\n"
     ]
    },
    {
     "name": "stderr",
     "output_type": "stream",
     "text": [
      "[10:39:37] Molecule does not have explicit Hs. Consider calling AddHs()\n",
      "[10:39:37] Molecule does not have explicit Hs. Consider calling AddHs()\n"
     ]
    },
    {
     "name": "stdout",
     "output_type": "stream",
     "text": [
      "0\n",
      "no conformer for MolPort-027-827-420\n",
      "0\n",
      "no conformer for MolPort-027-843-087\n",
      "0\n",
      "no conformer for MolPort-027-845-983\n"
     ]
    },
    {
     "name": "stderr",
     "output_type": "stream",
     "text": [
      "[10:39:37] Molecule does not have explicit Hs. Consider calling AddHs()\n",
      "[10:39:37] Molecule does not have explicit Hs. Consider calling AddHs()\n",
      "[10:39:37] Molecule does not have explicit Hs. Consider calling AddHs()\n"
     ]
    },
    {
     "name": "stdout",
     "output_type": "stream",
     "text": [
      "0\n",
      "no conformer for MolPort-027-845-998\n",
      "0\n",
      "no conformer for MolPort-027-846-023\n",
      "0\n",
      "no conformer for MolPort-027-846-051\n"
     ]
    },
    {
     "name": "stderr",
     "output_type": "stream",
     "text": [
      "[10:39:37] Molecule does not have explicit Hs. Consider calling AddHs()\n",
      "[10:39:38] Molecule does not have explicit Hs. Consider calling AddHs()\n",
      "[10:39:38] Molecule does not have explicit Hs. Consider calling AddHs()\n"
     ]
    },
    {
     "name": "stdout",
     "output_type": "stream",
     "text": [
      "0\n",
      "no conformer for MolPort-027-846-105\n",
      "0\n",
      "no conformer for MolPort-027-846-414\n"
     ]
    },
    {
     "name": "stderr",
     "output_type": "stream",
     "text": [
      "[10:39:38] Molecule does not have explicit Hs. Consider calling AddHs()\n",
      "[10:39:38] Molecule does not have explicit Hs. Consider calling AddHs()\n"
     ]
    },
    {
     "name": "stdout",
     "output_type": "stream",
     "text": [
      "0\n",
      "no conformer for MolPort-027-846-496\n",
      "0\n",
      "no conformer for MolPort-027-846-661\n",
      "0\n",
      "no conformer for MolPort-027-846-838\n"
     ]
    },
    {
     "name": "stderr",
     "output_type": "stream",
     "text": [
      "[10:39:38] Molecule does not have explicit Hs. Consider calling AddHs()\n",
      "[10:39:38] Molecule does not have explicit Hs. Consider calling AddHs()\n",
      "[10:39:38] Molecule does not have explicit Hs. Consider calling AddHs()\n"
     ]
    },
    {
     "name": "stdout",
     "output_type": "stream",
     "text": [
      "0\n",
      "no conformer for MolPort-027-846-868\n",
      "0\n",
      "no conformer for MolPort-027-846-983\n",
      "0\n",
      "no conformer for MolPort-027-847-029\n"
     ]
    },
    {
     "name": "stderr",
     "output_type": "stream",
     "text": [
      "[10:39:38] Molecule does not have explicit Hs. Consider calling AddHs()\n",
      "[10:39:38] Molecule does not have explicit Hs. Consider calling AddHs()\n",
      "[10:39:38] Molecule does not have explicit Hs. Consider calling AddHs()\n"
     ]
    },
    {
     "name": "stdout",
     "output_type": "stream",
     "text": [
      "0\n",
      "no conformer for MolPort-027-847-943\n",
      "0\n",
      "no conformer for MolPort-027-848-100\n",
      "0\n",
      "no conformer for MolPort-027-848-114\n"
     ]
    },
    {
     "name": "stderr",
     "output_type": "stream",
     "text": [
      "[10:39:38] Molecule does not have explicit Hs. Consider calling AddHs()\n",
      "[10:39:39] Molecule does not have explicit Hs. Consider calling AddHs()\n",
      "[10:39:39] Molecule does not have explicit Hs. Consider calling AddHs()\n"
     ]
    },
    {
     "name": "stdout",
     "output_type": "stream",
     "text": [
      "0\n",
      "no conformer for MolPort-027-848-116\n",
      "0\n",
      "no conformer for MolPort-027-848-143\n"
     ]
    },
    {
     "name": "stderr",
     "output_type": "stream",
     "text": [
      "[10:39:39] Molecule does not have explicit Hs. Consider calling AddHs()\n",
      "[10:39:39] Molecule does not have explicit Hs. Consider calling AddHs()\n"
     ]
    },
    {
     "name": "stdout",
     "output_type": "stream",
     "text": [
      "0\n",
      "no conformer for MolPort-027-848-163\n",
      "0\n",
      "no conformer for MolPort-027-848-195\n",
      "0\n",
      "no conformer for MolPort-027-848-392\n"
     ]
    },
    {
     "name": "stderr",
     "output_type": "stream",
     "text": [
      "[10:39:39] Molecule does not have explicit Hs. Consider calling AddHs()\n",
      "[10:39:39] Molecule does not have explicit Hs. Consider calling AddHs()\n",
      "[10:39:39] Molecule does not have explicit Hs. Consider calling AddHs()\n",
      "[10:39:39] Molecule does not have explicit Hs. Consider calling AddHs()\n"
     ]
    },
    {
     "name": "stdout",
     "output_type": "stream",
     "text": [
      "0\n",
      "no conformer for MolPort-027-848-484\n",
      "0\n",
      "no conformer for MolPort-027-848-488\n",
      "0\n",
      "no conformer for MolPort-027-848-556\n"
     ]
    },
    {
     "name": "stderr",
     "output_type": "stream",
     "text": [
      "[10:39:39] Molecule does not have explicit Hs. Consider calling AddHs()\n",
      "[10:39:39] Molecule does not have explicit Hs. Consider calling AddHs()\n",
      "[10:39:39] Molecule does not have explicit Hs. Consider calling AddHs()\n"
     ]
    },
    {
     "name": "stdout",
     "output_type": "stream",
     "text": [
      "0\n",
      "no conformer for MolPort-027-848-825\n",
      "0\n",
      "no conformer for MolPort-027-849-090\n",
      "0\n",
      "no conformer for MolPort-027-849-193\n"
     ]
    },
    {
     "name": "stderr",
     "output_type": "stream",
     "text": [
      "[10:39:40] Molecule does not have explicit Hs. Consider calling AddHs()\n",
      "[10:39:40] Molecule does not have explicit Hs. Consider calling AddHs()\n",
      "[10:39:40] Molecule does not have explicit Hs. Consider calling AddHs()\n"
     ]
    },
    {
     "name": "stdout",
     "output_type": "stream",
     "text": [
      "0\n",
      "no conformer for MolPort-027-849-478\n",
      "0\n",
      "no conformer for MolPort-027-849-479\n",
      "0\n",
      "no conformer for MolPort-027-849-548\n"
     ]
    },
    {
     "name": "stderr",
     "output_type": "stream",
     "text": [
      "[10:39:40] Molecule does not have explicit Hs. Consider calling AddHs()\n",
      "[10:39:40] Molecule does not have explicit Hs. Consider calling AddHs()\n",
      "[10:39:40] Molecule does not have explicit Hs. Consider calling AddHs()\n"
     ]
    },
    {
     "name": "stdout",
     "output_type": "stream",
     "text": [
      "0\n",
      "no conformer for MolPort-027-849-601\n",
      "0\n",
      "no conformer for MolPort-027-849-637\n",
      "0\n",
      "no conformer for MolPort-027-849-942\n"
     ]
    },
    {
     "name": "stderr",
     "output_type": "stream",
     "text": [
      "[10:39:40] Molecule does not have explicit Hs. Consider calling AddHs()\n",
      "[10:39:40] Molecule does not have explicit Hs. Consider calling AddHs()\n"
     ]
    },
    {
     "name": "stdout",
     "output_type": "stream",
     "text": [
      "0\n",
      "no conformer for MolPort-027-850-379\n",
      "0\n",
      "no conformer for MolPort-027-850-399\n",
      "0\n",
      "no conformer for MolPort-027-850-615\n"
     ]
    },
    {
     "name": "stderr",
     "output_type": "stream",
     "text": [
      "[10:39:40] Molecule does not have explicit Hs. Consider calling AddHs()\n",
      "[10:39:40] Molecule does not have explicit Hs. Consider calling AddHs()\n",
      "[10:39:40] Molecule does not have explicit Hs. Consider calling AddHs()\n"
     ]
    },
    {
     "name": "stdout",
     "output_type": "stream",
     "text": [
      "0\n",
      "no conformer for MolPort-027-850-624\n",
      "0\n",
      "no conformer for MolPort-027-850-727\n",
      "0\n",
      "no conformer for MolPort-027-850-763\n"
     ]
    },
    {
     "name": "stderr",
     "output_type": "stream",
     "text": [
      "[10:39:41] Molecule does not have explicit Hs. Consider calling AddHs()\n",
      "[10:39:41] Molecule does not have explicit Hs. Consider calling AddHs()\n",
      "[10:39:41] Molecule does not have explicit Hs. Consider calling AddHs()\n"
     ]
    },
    {
     "name": "stdout",
     "output_type": "stream",
     "text": [
      "0\n",
      "no conformer for MolPort-027-850-906\n",
      "0\n",
      "no conformer for MolPort-027-850-917\n",
      "0\n",
      "no conformer for MolPort-027-851-172\n"
     ]
    },
    {
     "name": "stderr",
     "output_type": "stream",
     "text": [
      "[10:39:41] Molecule does not have explicit Hs. Consider calling AddHs()\n",
      "[10:39:41] Molecule does not have explicit Hs. Consider calling AddHs()\n",
      "[10:39:41] Molecule does not have explicit Hs. Consider calling AddHs()\n"
     ]
    },
    {
     "name": "stdout",
     "output_type": "stream",
     "text": [
      "0\n",
      "no conformer for MolPort-027-851-260\n",
      "0\n",
      "no conformer for MolPort-027-859-287\n",
      "0\n",
      "no conformer for MolPort-027-862-250\n"
     ]
    },
    {
     "name": "stderr",
     "output_type": "stream",
     "text": [
      "[10:39:41] Molecule does not have explicit Hs. Consider calling AddHs()\n",
      "[10:39:41] Molecule does not have explicit Hs. Consider calling AddHs()\n",
      "[10:39:41] Molecule does not have explicit Hs. Consider calling AddHs()\n"
     ]
    },
    {
     "name": "stdout",
     "output_type": "stream",
     "text": [
      "0\n",
      "no conformer for MolPort-027-868-612\n",
      "0\n",
      "no conformer for MolPort-027-877-258\n"
     ]
    },
    {
     "name": "stderr",
     "output_type": "stream",
     "text": [
      "[10:39:41] Molecule does not have explicit Hs. Consider calling AddHs()\n",
      "[10:39:41] Molecule does not have explicit Hs. Consider calling AddHs()\n"
     ]
    },
    {
     "name": "stdout",
     "output_type": "stream",
     "text": [
      "0\n",
      "no conformer for MolPort-027-877-334\n",
      "0\n",
      "no conformer for MolPort-027-878-471\n"
     ]
    },
    {
     "name": "stderr",
     "output_type": "stream",
     "text": [
      "[10:39:42] Molecule does not have explicit Hs. Consider calling AddHs()\n",
      "[10:39:42] Molecule does not have explicit Hs. Consider calling AddHs()\n"
     ]
    },
    {
     "name": "stdout",
     "output_type": "stream",
     "text": [
      "0\n",
      "no conformer for MolPort-027-883-629\n",
      "0\n",
      "no conformer for MolPort-027-887-522\n"
     ]
    },
    {
     "name": "stderr",
     "output_type": "stream",
     "text": [
      "[10:39:42] Molecule does not have explicit Hs. Consider calling AddHs()\n",
      "[10:39:42] Molecule does not have explicit Hs. Consider calling AddHs()\n"
     ]
    },
    {
     "name": "stdout",
     "output_type": "stream",
     "text": [
      "0\n",
      "no conformer for MolPort-028-574-607\n",
      "1\n"
     ]
    },
    {
     "name": "stderr",
     "output_type": "stream",
     "text": [
      "[10:39:42] Molecule does not have explicit Hs. Consider calling AddHs()\n",
      "[10:39:42] Molecule does not have explicit Hs. Consider calling AddHs()\n"
     ]
    },
    {
     "name": "stdout",
     "output_type": "stream",
     "text": [
      "3\n",
      "0\n",
      "no conformer for MolPort-028-593-186\n"
     ]
    },
    {
     "name": "stderr",
     "output_type": "stream",
     "text": [
      "[10:39:42] Molecule does not have explicit Hs. Consider calling AddHs()\n",
      "[10:39:42] Molecule does not have explicit Hs. Consider calling AddHs()\n"
     ]
    },
    {
     "name": "stdout",
     "output_type": "stream",
     "text": [
      "0\n",
      "no conformer for MolPort-028-593-404\n",
      "1\n"
     ]
    },
    {
     "name": "stderr",
     "output_type": "stream",
     "text": [
      "[10:39:42] Molecule does not have explicit Hs. Consider calling AddHs()\n",
      "[10:39:43] Molecule does not have explicit Hs. Consider calling AddHs()\n"
     ]
    },
    {
     "name": "stdout",
     "output_type": "stream",
     "text": [
      "0\n",
      "no conformer for MolPort-028-600-029\n"
     ]
    },
    {
     "name": "stderr",
     "output_type": "stream",
     "text": [
      "[10:39:43] Molecule does not have explicit Hs. Consider calling AddHs()\n"
     ]
    },
    {
     "name": "stdout",
     "output_type": "stream",
     "text": [
      "0\n",
      "no conformer for MolPort-028-600-046\n",
      "0\n",
      "no conformer for MolPort-028-603-703\n",
      "0\n",
      "no conformer for MolPort-028-604-383\n"
     ]
    },
    {
     "name": "stderr",
     "output_type": "stream",
     "text": [
      "[10:39:43] Molecule does not have explicit Hs. Consider calling AddHs()\n",
      "[10:39:44] Molecule does not have explicit Hs. Consider calling AddHs()\n",
      "[10:39:44] Molecule does not have explicit Hs. Consider calling AddHs()\n"
     ]
    },
    {
     "name": "stdout",
     "output_type": "stream",
     "text": [
      "0\n",
      "no conformer for MolPort-028-611-543\n",
      "0\n",
      "no conformer for MolPort-027-718-831\n",
      "0\n",
      "no conformer for MolPort-027-718-880\n"
     ]
    },
    {
     "name": "stderr",
     "output_type": "stream",
     "text": [
      "[10:39:44] Molecule does not have explicit Hs. Consider calling AddHs()\n",
      "[10:39:44] Molecule does not have explicit Hs. Consider calling AddHs()\n",
      "[10:39:44] Molecule does not have explicit Hs. Consider calling AddHs()\n"
     ]
    },
    {
     "name": "stdout",
     "output_type": "stream",
     "text": [
      "0\n",
      "no conformer for MolPort-027-828-912\n",
      "0\n",
      "no conformer for MolPort-027-847-095\n"
     ]
    },
    {
     "name": "stderr",
     "output_type": "stream",
     "text": [
      "[10:39:44] Molecule does not have explicit Hs. Consider calling AddHs()\n",
      "[10:39:44] Molecule does not have explicit Hs. Consider calling AddHs()\n"
     ]
    },
    {
     "name": "stdout",
     "output_type": "stream",
     "text": [
      "0\n",
      "no conformer for MolPort-027-847-290\n",
      "0\n",
      "no conformer for MolPort-027-847-338\n",
      "0\n",
      "no conformer for MolPort-027-847-352\n"
     ]
    },
    {
     "name": "stderr",
     "output_type": "stream",
     "text": [
      "[10:39:44] Molecule does not have explicit Hs. Consider calling AddHs()\n",
      "[10:39:44] Molecule does not have explicit Hs. Consider calling AddHs()\n",
      "[10:39:44] Molecule does not have explicit Hs. Consider calling AddHs()\n"
     ]
    },
    {
     "name": "stdout",
     "output_type": "stream",
     "text": [
      "0\n",
      "no conformer for MolPort-027-847-441\n",
      "0\n",
      "no conformer for MolPort-027-847-652\n",
      "0\n",
      "no conformer for MolPort-027-847-874\n"
     ]
    },
    {
     "name": "stderr",
     "output_type": "stream",
     "text": [
      "[10:39:44] Molecule does not have explicit Hs. Consider calling AddHs()\n",
      "[10:39:45] Molecule does not have explicit Hs. Consider calling AddHs()\n",
      "[10:39:45] Molecule does not have explicit Hs. Consider calling AddHs()\n"
     ]
    },
    {
     "name": "stdout",
     "output_type": "stream",
     "text": [
      "2\n",
      "0\n",
      "no conformer for MolPort-027-884-298\n"
     ]
    },
    {
     "name": "stderr",
     "output_type": "stream",
     "text": [
      "[10:39:45] Molecule does not have explicit Hs. Consider calling AddHs()\n",
      "[10:39:45] Molecule does not have explicit Hs. Consider calling AddHs()\n"
     ]
    },
    {
     "name": "stdout",
     "output_type": "stream",
     "text": [
      "0\n",
      "no conformer for MolPort-027-890-792\n",
      "0\n",
      "no conformer for MolPort-028-577-930\n"
     ]
    },
    {
     "name": "stderr",
     "output_type": "stream",
     "text": [
      "[10:39:45] Molecule does not have explicit Hs. Consider calling AddHs()\n",
      "[10:39:45] Molecule does not have explicit Hs. Consider calling AddHs()\n"
     ]
    },
    {
     "name": "stdout",
     "output_type": "stream",
     "text": [
      "0\n",
      "no conformer for MolPort-028-578-066\n",
      "0\n",
      "no conformer for MolPort-028-578-253\n",
      "0\n",
      "no conformer for MolPort-028-584-031\n"
     ]
    },
    {
     "name": "stderr",
     "output_type": "stream",
     "text": [
      "[10:39:45] Molecule does not have explicit Hs. Consider calling AddHs()\n",
      "[10:39:45] Molecule does not have explicit Hs. Consider calling AddHs()\n",
      "[10:39:45] Molecule does not have explicit Hs. Consider calling AddHs()\n"
     ]
    },
    {
     "name": "stdout",
     "output_type": "stream",
     "text": [
      "0\n",
      "no conformer for MolPort-028-584-700\n",
      "0\n",
      "no conformer for MolPort-028-585-367\n",
      "0\n",
      "no conformer for MolPort-028-590-544\n"
     ]
    },
    {
     "name": "stderr",
     "output_type": "stream",
     "text": [
      "[10:39:45] Molecule does not have explicit Hs. Consider calling AddHs()\n",
      "[10:39:46] Molecule does not have explicit Hs. Consider calling AddHs()\n",
      "[10:39:46] Molecule does not have explicit Hs. Consider calling AddHs()\n"
     ]
    },
    {
     "name": "stdout",
     "output_type": "stream",
     "text": [
      "0\n",
      "no conformer for MolPort-028-590-576\n",
      "0\n",
      "no conformer for MolPort-028-591-033\n"
     ]
    },
    {
     "name": "stderr",
     "output_type": "stream",
     "text": [
      "[10:39:46] Molecule does not have explicit Hs. Consider calling AddHs()\n",
      "[10:39:46] Molecule does not have explicit Hs. Consider calling AddHs()\n"
     ]
    },
    {
     "name": "stdout",
     "output_type": "stream",
     "text": [
      "0\n",
      "no conformer for MolPort-028-603-879\n",
      "0\n",
      "no conformer for MolPort-028-603-970\n"
     ]
    },
    {
     "name": "stderr",
     "output_type": "stream",
     "text": [
      "[10:39:46] Molecule does not have explicit Hs. Consider calling AddHs()\n",
      "[10:39:46] Molecule does not have explicit Hs. Consider calling AddHs()\n"
     ]
    },
    {
     "name": "stdout",
     "output_type": "stream",
     "text": [
      "0\n",
      "no conformer for MolPort-028-603-991\n",
      "0\n",
      "no conformer for MolPort-028-604-176\n",
      "0\n",
      "no conformer for MolPort-028-604-438\n"
     ]
    },
    {
     "name": "stderr",
     "output_type": "stream",
     "text": [
      "[10:39:46] Molecule does not have explicit Hs. Consider calling AddHs()\n",
      "[10:39:46] Molecule does not have explicit Hs. Consider calling AddHs()\n",
      "[10:39:46] Molecule does not have explicit Hs. Consider calling AddHs()\n"
     ]
    },
    {
     "name": "stdout",
     "output_type": "stream",
     "text": [
      "0\n",
      "no conformer for MolPort-028-604-454\n",
      "0\n",
      "no conformer for MolPort-028-604-628\n",
      "0\n",
      "no conformer for MolPort-028-604-716\n"
     ]
    },
    {
     "name": "stderr",
     "output_type": "stream",
     "text": [
      "[10:39:46] Molecule does not have explicit Hs. Consider calling AddHs()\n",
      "[10:39:47] Molecule does not have explicit Hs. Consider calling AddHs()\n",
      "[10:39:47] Molecule does not have explicit Hs. Consider calling AddHs()\n"
     ]
    },
    {
     "name": "stdout",
     "output_type": "stream",
     "text": [
      "0\n",
      "no conformer for MolPort-028-604-743\n",
      "0\n",
      "no conformer for MolPort-028-604-831\n",
      "0\n",
      "no conformer for MolPort-028-604-947\n"
     ]
    },
    {
     "name": "stderr",
     "output_type": "stream",
     "text": [
      "[10:39:47] Molecule does not have explicit Hs. Consider calling AddHs()\n",
      "[10:39:47] Molecule does not have explicit Hs. Consider calling AddHs()\n",
      "[10:39:47] Molecule does not have explicit Hs. Consider calling AddHs()\n"
     ]
    },
    {
     "name": "stdout",
     "output_type": "stream",
     "text": [
      "0\n",
      "no conformer for MolPort-028-605-259\n",
      "0\n",
      "no conformer for MolPort-028-605-263\n",
      "0\n",
      "no conformer for MolPort-028-605-359\n"
     ]
    },
    {
     "name": "stderr",
     "output_type": "stream",
     "text": [
      "[10:39:47] Molecule does not have explicit Hs. Consider calling AddHs()\n",
      "[10:39:47] Molecule does not have explicit Hs. Consider calling AddHs()\n",
      "[10:39:47] Molecule does not have explicit Hs. Consider calling AddHs()\n"
     ]
    },
    {
     "name": "stdout",
     "output_type": "stream",
     "text": [
      "0\n",
      "no conformer for MolPort-028-605-409\n",
      "0\n",
      "no conformer for MolPort-028-605-457\n",
      "0\n",
      "no conformer for MolPort-028-605-824\n"
     ]
    },
    {
     "name": "stderr",
     "output_type": "stream",
     "text": [
      "[10:39:47] Molecule does not have explicit Hs. Consider calling AddHs()\n",
      "[10:39:47] Molecule does not have explicit Hs. Consider calling AddHs()\n",
      "[10:39:47] Molecule does not have explicit Hs. Consider calling AddHs()\n"
     ]
    },
    {
     "name": "stdout",
     "output_type": "stream",
     "text": [
      "0\n",
      "no conformer for MolPort-028-606-102\n",
      "0\n",
      "no conformer for MolPort-028-606-384\n",
      "0\n",
      "no conformer for MolPort-028-606-634\n"
     ]
    },
    {
     "name": "stderr",
     "output_type": "stream",
     "text": [
      "[10:39:47] Molecule does not have explicit Hs. Consider calling AddHs()\n",
      "[10:39:47] Molecule does not have explicit Hs. Consider calling AddHs()\n",
      "[10:39:48] Molecule does not have explicit Hs. Consider calling AddHs()\n"
     ]
    },
    {
     "name": "stdout",
     "output_type": "stream",
     "text": [
      "0\n",
      "no conformer for MolPort-028-606-647\n",
      "0\n",
      "no conformer for MolPort-039-018-109\n",
      "28\n"
     ]
    },
    {
     "name": "stderr",
     "output_type": "stream",
     "text": [
      "[10:39:48] Molecule does not have explicit Hs. Consider calling AddHs()\n",
      "[10:39:48] Molecule does not have explicit Hs. Consider calling AddHs()\n",
      "[10:39:48] Molecule does not have explicit Hs. Consider calling AddHs()\n"
     ]
    },
    {
     "name": "stdout",
     "output_type": "stream",
     "text": [
      "0\n",
      "no conformer for MolPort-028-837-772\n",
      "0\n",
      "no conformer for MolPort-028-851-591\n",
      "0\n",
      "no conformer for MolPort-028-851-691\n"
     ]
    },
    {
     "name": "stderr",
     "output_type": "stream",
     "text": [
      "[10:39:48] Molecule does not have explicit Hs. Consider calling AddHs()\n",
      "[10:39:48] Molecule does not have explicit Hs. Consider calling AddHs()\n",
      "[10:39:48] Molecule does not have explicit Hs. Consider calling AddHs()\n"
     ]
    },
    {
     "name": "stdout",
     "output_type": "stream",
     "text": [
      "0\n",
      "no conformer for MolPort-028-851-698\n",
      "0\n",
      "no conformer for MolPort-028-851-988\n",
      "0\n",
      "no conformer for MolPort-028-852-051\n"
     ]
    },
    {
     "name": "stderr",
     "output_type": "stream",
     "text": [
      "[10:39:48] Molecule does not have explicit Hs. Consider calling AddHs()\n",
      "[10:39:48] Molecule does not have explicit Hs. Consider calling AddHs()\n",
      "[10:39:48] Molecule does not have explicit Hs. Consider calling AddHs()\n"
     ]
    },
    {
     "name": "stdout",
     "output_type": "stream",
     "text": [
      "0\n",
      "no conformer for MolPort-028-852-141\n",
      "0\n",
      "no conformer for MolPort-028-852-397\n"
     ]
    },
    {
     "name": "stderr",
     "output_type": "stream",
     "text": [
      "[10:39:48] Molecule does not have explicit Hs. Consider calling AddHs()\n",
      "[10:39:49] Molecule does not have explicit Hs. Consider calling AddHs()\n"
     ]
    },
    {
     "name": "stdout",
     "output_type": "stream",
     "text": [
      "0\n",
      "no conformer for MolPort-028-852-443\n",
      "0\n",
      "no conformer for MolPort-028-852-561\n",
      "0\n",
      "no conformer for MolPort-028-852-658\n"
     ]
    },
    {
     "name": "stderr",
     "output_type": "stream",
     "text": [
      "[10:39:49] Molecule does not have explicit Hs. Consider calling AddHs()\n",
      "[10:39:49] Molecule does not have explicit Hs. Consider calling AddHs()\n",
      "[10:39:49] Molecule does not have explicit Hs. Consider calling AddHs()\n"
     ]
    },
    {
     "name": "stdout",
     "output_type": "stream",
     "text": [
      "0\n",
      "no conformer for MolPort-028-852-745\n",
      "0\n",
      "no conformer for MolPort-028-852-912\n"
     ]
    },
    {
     "name": "stderr",
     "output_type": "stream",
     "text": [
      "[10:39:49] Molecule does not have explicit Hs. Consider calling AddHs()\n",
      "[10:39:49] Molecule does not have explicit Hs. Consider calling AddHs()\n"
     ]
    },
    {
     "name": "stdout",
     "output_type": "stream",
     "text": [
      "0\n",
      "no conformer for MolPort-028-853-116\n",
      "0\n",
      "no conformer for MolPort-028-853-150\n",
      "0\n",
      "no conformer for MolPort-028-853-295\n"
     ]
    },
    {
     "name": "stderr",
     "output_type": "stream",
     "text": [
      "[10:39:49] Molecule does not have explicit Hs. Consider calling AddHs()\n",
      "[10:39:49] Molecule does not have explicit Hs. Consider calling AddHs()\n",
      "[10:39:49] Molecule does not have explicit Hs. Consider calling AddHs()\n"
     ]
    },
    {
     "name": "stdout",
     "output_type": "stream",
     "text": [
      "0\n",
      "no conformer for MolPort-028-853-323\n",
      "0\n",
      "no conformer for MolPort-028-853-361\n",
      "0\n",
      "no conformer for MolPort-028-853-378\n"
     ]
    },
    {
     "name": "stderr",
     "output_type": "stream",
     "text": [
      "[10:39:49] Molecule does not have explicit Hs. Consider calling AddHs()\n",
      "[10:39:50] Molecule does not have explicit Hs. Consider calling AddHs()\n",
      "[10:39:50] Molecule does not have explicit Hs. Consider calling AddHs()\n"
     ]
    },
    {
     "name": "stdout",
     "output_type": "stream",
     "text": [
      "0\n",
      "no conformer for MolPort-028-853-647\n",
      "0\n",
      "no conformer for MolPort-028-853-875\n"
     ]
    },
    {
     "name": "stderr",
     "output_type": "stream",
     "text": [
      "[10:39:50] Molecule does not have explicit Hs. Consider calling AddHs()\n",
      "[10:39:50] Molecule does not have explicit Hs. Consider calling AddHs()\n"
     ]
    },
    {
     "name": "stdout",
     "output_type": "stream",
     "text": [
      "0\n",
      "no conformer for MolPort-028-854-208\n",
      "0\n",
      "no conformer for MolPort-028-854-230\n"
     ]
    },
    {
     "name": "stderr",
     "output_type": "stream",
     "text": [
      "[10:39:50] Molecule does not have explicit Hs. Consider calling AddHs()\n",
      "[10:39:50] Molecule does not have explicit Hs. Consider calling AddHs()\n"
     ]
    },
    {
     "name": "stdout",
     "output_type": "stream",
     "text": [
      "0\n",
      "no conformer for MolPort-028-854-357\n",
      "0\n",
      "no conformer for MolPort-028-854-431\n"
     ]
    },
    {
     "name": "stderr",
     "output_type": "stream",
     "text": [
      "[10:39:50] Molecule does not have explicit Hs. Consider calling AddHs()\n",
      "[10:39:50] Molecule does not have explicit Hs. Consider calling AddHs()\n"
     ]
    },
    {
     "name": "stdout",
     "output_type": "stream",
     "text": [
      "1\n",
      "0\n",
      "no conformer for MolPort-028-854-875\n",
      "0\n",
      "no conformer for MolPort-028-855-179\n"
     ]
    },
    {
     "name": "stderr",
     "output_type": "stream",
     "text": [
      "[10:39:51] Molecule does not have explicit Hs. Consider calling AddHs()\n",
      "[10:39:51] Molecule does not have explicit Hs. Consider calling AddHs()\n",
      "[10:39:51] Molecule does not have explicit Hs. Consider calling AddHs()\n"
     ]
    },
    {
     "name": "stdout",
     "output_type": "stream",
     "text": [
      "0\n",
      "no conformer for MolPort-028-855-222\n",
      "0\n",
      "no conformer for MolPort-028-855-232\n",
      "0\n",
      "no conformer for MolPort-028-855-371\n"
     ]
    },
    {
     "name": "stderr",
     "output_type": "stream",
     "text": [
      "[10:39:51] Molecule does not have explicit Hs. Consider calling AddHs()\n",
      "[10:39:51] Molecule does not have explicit Hs. Consider calling AddHs()\n",
      "[10:39:51] Molecule does not have explicit Hs. Consider calling AddHs()\n"
     ]
    },
    {
     "name": "stdout",
     "output_type": "stream",
     "text": [
      "0\n",
      "no conformer for MolPort-028-855-461\n",
      "0\n",
      "no conformer for MolPort-028-855-715\n",
      "0\n",
      "no conformer for MolPort-028-856-323\n"
     ]
    },
    {
     "name": "stderr",
     "output_type": "stream",
     "text": [
      "[10:39:51] Molecule does not have explicit Hs. Consider calling AddHs()\n",
      "[10:39:51] Molecule does not have explicit Hs. Consider calling AddHs()\n",
      "[10:39:51] Molecule does not have explicit Hs. Consider calling AddHs()\n"
     ]
    },
    {
     "name": "stdout",
     "output_type": "stream",
     "text": [
      "0\n",
      "no conformer for MolPort-028-856-402\n",
      "0\n",
      "no conformer for MolPort-028-913-334\n",
      "0\n",
      "no conformer for MolPort-028-913-347\n"
     ]
    },
    {
     "name": "stderr",
     "output_type": "stream",
     "text": [
      "[10:39:51] Molecule does not have explicit Hs. Consider calling AddHs()\n",
      "[10:39:51] Molecule does not have explicit Hs. Consider calling AddHs()\n",
      "[10:39:51] Molecule does not have explicit Hs. Consider calling AddHs()\n"
     ]
    },
    {
     "name": "stdout",
     "output_type": "stream",
     "text": [
      "8\n",
      "0\n",
      "no conformer for MolPort-029-882-378\n",
      "0\n",
      "no conformer for MolPort-029-882-394\n"
     ]
    },
    {
     "name": "stderr",
     "output_type": "stream",
     "text": [
      "[10:39:52] Molecule does not have explicit Hs. Consider calling AddHs()\n",
      "[10:39:52] Molecule does not have explicit Hs. Consider calling AddHs()\n",
      "[10:39:52] Molecule does not have explicit Hs. Consider calling AddHs()\n"
     ]
    },
    {
     "name": "stdout",
     "output_type": "stream",
     "text": [
      "0\n",
      "no conformer for MolPort-029-882-402\n",
      "0\n",
      "no conformer for MolPort-029-882-460\n",
      "0\n",
      "no conformer for MolPort-029-882-491\n"
     ]
    },
    {
     "name": "stderr",
     "output_type": "stream",
     "text": [
      "[10:39:52] Molecule does not have explicit Hs. Consider calling AddHs()\n",
      "[10:39:52] Molecule does not have explicit Hs. Consider calling AddHs()\n",
      "[10:39:52] Molecule does not have explicit Hs. Consider calling AddHs()\n"
     ]
    },
    {
     "name": "stdout",
     "output_type": "stream",
     "text": [
      "0\n",
      "no conformer for MolPort-029-883-671\n",
      "0\n",
      "no conformer for MolPort-029-883-708\n"
     ]
    },
    {
     "name": "stderr",
     "output_type": "stream",
     "text": [
      "[10:39:52] Molecule does not have explicit Hs. Consider calling AddHs()\n",
      "[10:39:52] Molecule does not have explicit Hs. Consider calling AddHs()\n"
     ]
    },
    {
     "name": "stdout",
     "output_type": "stream",
     "text": [
      "0\n",
      "no conformer for MolPort-029-883-896\n",
      "0\n",
      "no conformer for MolPort-029-883-974\n",
      "0\n",
      "no conformer for MolPort-029-884-033\n"
     ]
    },
    {
     "name": "stderr",
     "output_type": "stream",
     "text": [
      "[10:39:52] Molecule does not have explicit Hs. Consider calling AddHs()\n",
      "[10:39:52] Molecule does not have explicit Hs. Consider calling AddHs()\n",
      "[10:39:52] Molecule does not have explicit Hs. Consider calling AddHs()\n"
     ]
    },
    {
     "name": "stdout",
     "output_type": "stream",
     "text": [
      "0\n",
      "no conformer for MolPort-029-884-716\n",
      "0\n",
      "no conformer for MolPort-029-885-432\n"
     ]
    },
    {
     "name": "stderr",
     "output_type": "stream",
     "text": [
      "[10:39:53] Molecule does not have explicit Hs. Consider calling AddHs()\n",
      "[10:39:53] Molecule does not have explicit Hs. Consider calling AddHs()\n"
     ]
    },
    {
     "name": "stdout",
     "output_type": "stream",
     "text": [
      "0\n",
      "no conformer for MolPort-029-885-642\n",
      "0\n",
      "no conformer for MolPort-029-885-757\n"
     ]
    },
    {
     "name": "stderr",
     "output_type": "stream",
     "text": [
      "[10:39:53] Molecule does not have explicit Hs. Consider calling AddHs()\n",
      "[10:39:53] Molecule does not have explicit Hs. Consider calling AddHs()\n"
     ]
    },
    {
     "name": "stdout",
     "output_type": "stream",
     "text": [
      "0\n",
      "no conformer for MolPort-029-942-339\n",
      "0\n",
      "no conformer for MolPort-029-942-522\n"
     ]
    },
    {
     "name": "stderr",
     "output_type": "stream",
     "text": [
      "[10:39:53] Molecule does not have explicit Hs. Consider calling AddHs()\n",
      "[10:39:53] Molecule does not have explicit Hs. Consider calling AddHs()\n"
     ]
    },
    {
     "name": "stdout",
     "output_type": "stream",
     "text": [
      "0\n",
      "no conformer for MolPort-029-998-942\n",
      "0\n",
      "no conformer for MolPort-029-998-973\n",
      "0\n",
      "no conformer for MolPort-029-999-490\n"
     ]
    },
    {
     "name": "stderr",
     "output_type": "stream",
     "text": [
      "[10:39:53] Molecule does not have explicit Hs. Consider calling AddHs()\n",
      "[10:39:53] Molecule does not have explicit Hs. Consider calling AddHs()\n",
      "[10:39:54] Molecule does not have explicit Hs. Consider calling AddHs()\n"
     ]
    },
    {
     "name": "stdout",
     "output_type": "stream",
     "text": [
      "0\n",
      "no conformer for MolPort-035-370-897\n",
      "0\n",
      "no conformer for MolPort-035-372-366\n",
      "0\n",
      "no conformer for MolPort-035-373-116\n"
     ]
    },
    {
     "name": "stderr",
     "output_type": "stream",
     "text": [
      "[10:39:54] Molecule does not have explicit Hs. Consider calling AddHs()\n",
      "[10:39:54] Molecule does not have explicit Hs. Consider calling AddHs()\n",
      "[10:39:54] Molecule does not have explicit Hs. Consider calling AddHs()\n"
     ]
    },
    {
     "name": "stdout",
     "output_type": "stream",
     "text": [
      "0\n",
      "no conformer for MolPort-035-373-467\n",
      "0\n",
      "no conformer for MolPort-035-381-210\n",
      "1\n",
      "0\n",
      "no conformer for MolPort-035-700-678\n"
     ]
    },
    {
     "name": "stderr",
     "output_type": "stream",
     "text": [
      "[10:39:54] Molecule does not have explicit Hs. Consider calling AddHs()\n",
      "[10:39:54] Molecule does not have explicit Hs. Consider calling AddHs()\n",
      "[10:39:54] Molecule does not have explicit Hs. Consider calling AddHs()\n",
      "[10:39:54] Molecule does not have explicit Hs. Consider calling AddHs()\n"
     ]
    },
    {
     "name": "stdout",
     "output_type": "stream",
     "text": [
      "0\n",
      "no conformer for MolPort-035-701-158\n",
      "0\n",
      "no conformer for MolPort-035-701-249\n",
      "0\n",
      "no conformer for MolPort-035-701-487\n"
     ]
    },
    {
     "name": "stderr",
     "output_type": "stream",
     "text": [
      "[10:39:54] Molecule does not have explicit Hs. Consider calling AddHs()\n",
      "[10:39:54] Molecule does not have explicit Hs. Consider calling AddHs()\n",
      "[10:39:54] Molecule does not have explicit Hs. Consider calling AddHs()\n"
     ]
    },
    {
     "name": "stdout",
     "output_type": "stream",
     "text": [
      "0\n",
      "no conformer for MolPort-035-701-580\n",
      "0\n",
      "no conformer for MolPort-035-703-213\n"
     ]
    },
    {
     "name": "stderr",
     "output_type": "stream",
     "text": [
      "[10:39:54] Molecule does not have explicit Hs. Consider calling AddHs()\n",
      "[10:39:54] Molecule does not have explicit Hs. Consider calling AddHs()\n"
     ]
    },
    {
     "name": "stdout",
     "output_type": "stream",
     "text": [
      "0\n",
      "no conformer for MolPort-035-765-887\n",
      "3\n",
      "4\n"
     ]
    },
    {
     "name": "stderr",
     "output_type": "stream",
     "text": [
      "[10:39:55] Molecule does not have explicit Hs. Consider calling AddHs()\n",
      "[10:39:55] Molecule does not have explicit Hs. Consider calling AddHs()\n",
      "[10:39:55] Molecule does not have explicit Hs. Consider calling AddHs()\n"
     ]
    },
    {
     "name": "stdout",
     "output_type": "stream",
     "text": [
      "0\n",
      "no conformer for MolPort-035-789-731\n",
      "0\n",
      "no conformer for MolPort-035-814-422\n"
     ]
    },
    {
     "name": "stderr",
     "output_type": "stream",
     "text": [
      "[10:39:55] Molecule does not have explicit Hs. Consider calling AddHs()\n",
      "[10:39:55] Molecule does not have explicit Hs. Consider calling AddHs()\n"
     ]
    },
    {
     "name": "stdout",
     "output_type": "stream",
     "text": [
      "0\n",
      "no conformer for MolPort-035-825-895\n",
      "0\n",
      "no conformer for MolPort-035-872-715\n"
     ]
    },
    {
     "name": "stderr",
     "output_type": "stream",
     "text": [
      "[10:39:55] Molecule does not have explicit Hs. Consider calling AddHs()\n",
      "[10:39:55] Molecule does not have explicit Hs. Consider calling AddHs()\n"
     ]
    },
    {
     "name": "stdout",
     "output_type": "stream",
     "text": [
      "0\n",
      "no conformer for MolPort-035-874-174\n",
      "0\n",
      "no conformer for MolPort-035-874-263\n",
      "0\n",
      "no conformer for MolPort-035-879-630\n"
     ]
    },
    {
     "name": "stderr",
     "output_type": "stream",
     "text": [
      "[10:39:56] Molecule does not have explicit Hs. Consider calling AddHs()\n",
      "[10:39:56] Molecule does not have explicit Hs. Consider calling AddHs()\n",
      "[10:39:56] Molecule does not have explicit Hs. Consider calling AddHs()\n"
     ]
    },
    {
     "name": "stdout",
     "output_type": "stream",
     "text": [
      "0\n",
      "no conformer for MolPort-038-397-407\n",
      "0\n",
      "no conformer for MolPort-038-407-003\n"
     ]
    },
    {
     "name": "stderr",
     "output_type": "stream",
     "text": [
      "[10:39:56] Molecule does not have explicit Hs. Consider calling AddHs()\n",
      "[10:39:56] Molecule does not have explicit Hs. Consider calling AddHs()\n"
     ]
    },
    {
     "name": "stdout",
     "output_type": "stream",
     "text": [
      "0\n",
      "no conformer for MolPort-038-409-638\n",
      "0\n",
      "no conformer for MolPort-038-940-325\n",
      "0\n",
      "no conformer for MolPort-038-940-374\n"
     ]
    },
    {
     "name": "stderr",
     "output_type": "stream",
     "text": [
      "[10:39:56] Molecule does not have explicit Hs. Consider calling AddHs()\n",
      "[10:39:56] Molecule does not have explicit Hs. Consider calling AddHs()\n",
      "[10:39:56] Molecule does not have explicit Hs. Consider calling AddHs()\n"
     ]
    },
    {
     "name": "stdout",
     "output_type": "stream",
     "text": [
      "0\n",
      "no conformer for MolPort-038-940-571\n",
      "0\n",
      "no conformer for MolPort-038-940-616\n",
      "0\n",
      "no conformer for MolPort-039-017-872\n"
     ]
    },
    {
     "name": "stderr",
     "output_type": "stream",
     "text": [
      "[10:39:56] Molecule does not have explicit Hs. Consider calling AddHs()\n",
      "[10:39:56] Molecule does not have explicit Hs. Consider calling AddHs()\n",
      "[10:39:56] Molecule does not have explicit Hs. Consider calling AddHs()\n"
     ]
    },
    {
     "name": "stdout",
     "output_type": "stream",
     "text": [
      "0\n",
      "no conformer for MolPort-039-018-053\n",
      "0\n",
      "no conformer for MolPort-042-669-101\n"
     ]
    },
    {
     "name": "stderr",
     "output_type": "stream",
     "text": [
      "[10:39:57] Molecule does not have explicit Hs. Consider calling AddHs()\n",
      "[10:39:57] Molecule does not have explicit Hs. Consider calling AddHs()\n"
     ]
    },
    {
     "name": "stdout",
     "output_type": "stream",
     "text": [
      "0\n",
      "no conformer for MolPort-028-855-828\n",
      "0\n",
      "no conformer for MolPort-028-856-164\n"
     ]
    },
    {
     "name": "stderr",
     "output_type": "stream",
     "text": [
      "[10:39:57] Molecule does not have explicit Hs. Consider calling AddHs()\n",
      "[10:39:57] Molecule does not have explicit Hs. Consider calling AddHs()\n"
     ]
    },
    {
     "name": "stdout",
     "output_type": "stream",
     "text": [
      "0\n",
      "no conformer for MolPort-029-882-806\n",
      "0\n",
      "no conformer for MolPort-029-882-824\n"
     ]
    },
    {
     "name": "stderr",
     "output_type": "stream",
     "text": [
      "[10:39:57] Molecule does not have explicit Hs. Consider calling AddHs()\n",
      "[10:39:57] Molecule does not have explicit Hs. Consider calling AddHs()\n"
     ]
    },
    {
     "name": "stdout",
     "output_type": "stream",
     "text": [
      "0\n",
      "no conformer for MolPort-029-882-838\n",
      "0\n",
      "no conformer for MolPort-029-883-001\n",
      "0\n",
      "no conformer for MolPort-029-883-206\n"
     ]
    },
    {
     "name": "stderr",
     "output_type": "stream",
     "text": [
      "[10:39:57] Molecule does not have explicit Hs. Consider calling AddHs()\n",
      "[10:39:57] Molecule does not have explicit Hs. Consider calling AddHs()\n",
      "[10:39:58] Molecule does not have explicit Hs. Consider calling AddHs()\n"
     ]
    },
    {
     "name": "stdout",
     "output_type": "stream",
     "text": [
      "0\n",
      "no conformer for MolPort-029-883-422\n",
      "2\n"
     ]
    },
    {
     "name": "stderr",
     "output_type": "stream",
     "text": [
      "[10:39:58] Molecule does not have explicit Hs. Consider calling AddHs()\n",
      "[10:39:58] Molecule does not have explicit Hs. Consider calling AddHs()\n"
     ]
    },
    {
     "name": "stdout",
     "output_type": "stream",
     "text": [
      "0\n",
      "no conformer for MolPort-029-884-192\n",
      "0\n",
      "no conformer for MolPort-029-941-357\n",
      "0\n",
      "no conformer for MolPort-029-941-482\n"
     ]
    },
    {
     "name": "stderr",
     "output_type": "stream",
     "text": [
      "[10:39:58] Molecule does not have explicit Hs. Consider calling AddHs()\n",
      "[10:39:58] Molecule does not have explicit Hs. Consider calling AddHs()\n",
      "[10:39:58] Molecule does not have explicit Hs. Consider calling AddHs()\n"
     ]
    },
    {
     "name": "stdout",
     "output_type": "stream",
     "text": [
      "0\n",
      "no conformer for MolPort-029-998-719\n",
      "0\n",
      "no conformer for MolPort-029-999-988\n"
     ]
    },
    {
     "name": "stderr",
     "output_type": "stream",
     "text": [
      "[10:39:58] Molecule does not have explicit Hs. Consider calling AddHs()\n",
      "[10:39:58] Molecule does not have explicit Hs. Consider calling AddHs()\n"
     ]
    },
    {
     "name": "stdout",
     "output_type": "stream",
     "text": [
      "0\n",
      "no conformer for MolPort-030-000-261\n",
      "0\n",
      "no conformer for MolPort-030-000-438\n"
     ]
    },
    {
     "name": "stderr",
     "output_type": "stream",
     "text": [
      "[10:39:58] Molecule does not have explicit Hs. Consider calling AddHs()\n",
      "[10:39:59] Molecule does not have explicit Hs. Consider calling AddHs()\n"
     ]
    },
    {
     "name": "stdout",
     "output_type": "stream",
     "text": [
      "0\n",
      "no conformer for MolPort-030-000-916\n",
      "0\n",
      "no conformer for MolPort-030-049-462\n",
      "0\n",
      "no conformer for MolPort-035-371-604\n"
     ]
    },
    {
     "name": "stderr",
     "output_type": "stream",
     "text": [
      "[10:39:59] Molecule does not have explicit Hs. Consider calling AddHs()\n",
      "[10:39:59] Molecule does not have explicit Hs. Consider calling AddHs()\n",
      "[10:39:59] Molecule does not have explicit Hs. Consider calling AddHs()\n"
     ]
    },
    {
     "name": "stdout",
     "output_type": "stream",
     "text": [
      "0\n",
      "no conformer for MolPort-035-374-663\n",
      "0\n",
      "no conformer for MolPort-035-374-693\n",
      "0\n",
      "no conformer for MolPort-035-375-793\n"
     ]
    },
    {
     "name": "stderr",
     "output_type": "stream",
     "text": [
      "[10:39:59] Molecule does not have explicit Hs. Consider calling AddHs()\n",
      "[10:39:59] Molecule does not have explicit Hs. Consider calling AddHs()\n",
      "[10:39:59] Molecule does not have explicit Hs. Consider calling AddHs()\n"
     ]
    },
    {
     "name": "stdout",
     "output_type": "stream",
     "text": [
      "0\n",
      "no conformer for MolPort-035-376-069\n",
      "0\n",
      "no conformer for MolPort-035-377-044\n",
      "0\n",
      "no conformer for MolPort-035-381-102\n"
     ]
    },
    {
     "name": "stderr",
     "output_type": "stream",
     "text": [
      "[10:39:59] Molecule does not have explicit Hs. Consider calling AddHs()\n",
      "[10:39:59] Molecule does not have explicit Hs. Consider calling AddHs()\n",
      "[10:39:59] Molecule does not have explicit Hs. Consider calling AddHs()\n"
     ]
    },
    {
     "name": "stdout",
     "output_type": "stream",
     "text": [
      "0\n",
      "no conformer for MolPort-035-381-700\n",
      "0\n",
      "no conformer for MolPort-035-382-952\n",
      "0\n",
      "no conformer for MolPort-035-383-553\n"
     ]
    },
    {
     "name": "stderr",
     "output_type": "stream",
     "text": [
      "[10:39:59] Molecule does not have explicit Hs. Consider calling AddHs()\n",
      "[10:39:59] Molecule does not have explicit Hs. Consider calling AddHs()\n",
      "[10:39:59] Molecule does not have explicit Hs. Consider calling AddHs()\n"
     ]
    },
    {
     "name": "stdout",
     "output_type": "stream",
     "text": [
      "0\n",
      "no conformer for MolPort-035-384-392\n"
     ]
    },
    {
     "name": "stderr",
     "output_type": "stream",
     "text": [
      "[10:40:00] Molecule does not have explicit Hs. Consider calling AddHs()\n"
     ]
    },
    {
     "name": "stdout",
     "output_type": "stream",
     "text": [
      "0\n",
      "no conformer for MolPort-035-697-493\n",
      "0\n",
      "no conformer for MolPort-035-697-980\n"
     ]
    },
    {
     "name": "stderr",
     "output_type": "stream",
     "text": [
      "[10:40:00] Molecule does not have explicit Hs. Consider calling AddHs()\n",
      "[10:40:00] Molecule does not have explicit Hs. Consider calling AddHs()\n"
     ]
    },
    {
     "name": "stdout",
     "output_type": "stream",
     "text": [
      "0\n",
      "no conformer for MolPort-035-698-183\n",
      "0\n",
      "no conformer for MolPort-035-703-698\n"
     ]
    },
    {
     "name": "stderr",
     "output_type": "stream",
     "text": [
      "[10:40:00] Molecule does not have explicit Hs. Consider calling AddHs()\n",
      "[10:40:00] Molecule does not have explicit Hs. Consider calling AddHs()\n"
     ]
    },
    {
     "name": "stdout",
     "output_type": "stream",
     "text": [
      "0\n",
      "no conformer for MolPort-035-703-976\n",
      "0\n",
      "no conformer for MolPort-035-704-246\n"
     ]
    },
    {
     "name": "stderr",
     "output_type": "stream",
     "text": [
      "[10:40:00] Molecule does not have explicit Hs. Consider calling AddHs()\n",
      "[10:40:01] Molecule does not have explicit Hs. Consider calling AddHs()\n"
     ]
    },
    {
     "name": "stdout",
     "output_type": "stream",
     "text": [
      "0\n",
      "no conformer for MolPort-035-760-494\n",
      "0\n",
      "no conformer for MolPort-035-870-644\n",
      "0\n",
      "no conformer for MolPort-035-870-721\n"
     ]
    },
    {
     "name": "stderr",
     "output_type": "stream",
     "text": [
      "[10:40:01] Molecule does not have explicit Hs. Consider calling AddHs()\n",
      "[10:40:01] Molecule does not have explicit Hs. Consider calling AddHs()\n",
      "[10:40:01] Molecule does not have explicit Hs. Consider calling AddHs()\n"
     ]
    },
    {
     "name": "stdout",
     "output_type": "stream",
     "text": [
      "0\n",
      "no conformer for MolPort-035-870-832\n",
      "0\n",
      "no conformer for MolPort-035-870-915\n",
      "0\n",
      "no conformer for MolPort-035-870-928\n"
     ]
    },
    {
     "name": "stderr",
     "output_type": "stream",
     "text": [
      "[10:40:01] Molecule does not have explicit Hs. Consider calling AddHs()\n",
      "[10:40:01] Molecule does not have explicit Hs. Consider calling AddHs()\n",
      "[10:40:01] Molecule does not have explicit Hs. Consider calling AddHs()\n"
     ]
    },
    {
     "name": "stdout",
     "output_type": "stream",
     "text": [
      "0\n",
      "no conformer for MolPort-035-871-082\n",
      "0\n",
      "no conformer for MolPort-035-871-084\n",
      "0\n",
      "no conformer for MolPort-035-871-192\n"
     ]
    },
    {
     "name": "stderr",
     "output_type": "stream",
     "text": [
      "[10:40:01] Molecule does not have explicit Hs. Consider calling AddHs()\n",
      "[10:40:01] Molecule does not have explicit Hs. Consider calling AddHs()\n",
      "[10:40:01] Molecule does not have explicit Hs. Consider calling AddHs()\n"
     ]
    },
    {
     "name": "stdout",
     "output_type": "stream",
     "text": [
      "0\n",
      "no conformer for MolPort-035-871-275\n",
      "0\n",
      "no conformer for MolPort-035-872-207\n",
      "0\n",
      "no conformer for MolPort-035-872-266\n"
     ]
    },
    {
     "name": "stderr",
     "output_type": "stream",
     "text": [
      "[10:40:02] Molecule does not have explicit Hs. Consider calling AddHs()\n",
      "[10:40:02] Molecule does not have explicit Hs. Consider calling AddHs()\n",
      "[10:40:02] Molecule does not have explicit Hs. Consider calling AddHs()\n"
     ]
    },
    {
     "name": "stdout",
     "output_type": "stream",
     "text": [
      "0\n",
      "no conformer for MolPort-038-401-622\n",
      "0\n",
      "no conformer for MolPort-038-410-474\n",
      "0\n",
      "no conformer for MolPort-038-413-090\n"
     ]
    },
    {
     "name": "stderr",
     "output_type": "stream",
     "text": [
      "[10:40:02] Molecule does not have explicit Hs. Consider calling AddHs()\n",
      "[10:40:02] Molecule does not have explicit Hs. Consider calling AddHs()\n",
      "[10:40:02] Molecule does not have explicit Hs. Consider calling AddHs()\n"
     ]
    },
    {
     "name": "stdout",
     "output_type": "stream",
     "text": [
      "0\n",
      "no conformer for MolPort-038-413-744\n",
      "0\n",
      "no conformer for MolPort-038-417-816\n"
     ]
    },
    {
     "name": "stderr",
     "output_type": "stream",
     "text": [
      "[10:40:02] Molecule does not have explicit Hs. Consider calling AddHs()\n",
      "[10:40:02] Molecule does not have explicit Hs. Consider calling AddHs()\n"
     ]
    },
    {
     "name": "stdout",
     "output_type": "stream",
     "text": [
      "0\n",
      "no conformer for MolPort-038-420-641\n",
      "0\n",
      "no conformer for MolPort-038-428-790\n",
      "0\n",
      "no conformer for MolPort-038-432-092\n",
      "0\n",
      "no conformer for MolPort-038-807-115\n"
     ]
    },
    {
     "name": "stderr",
     "output_type": "stream",
     "text": [
      "[10:40:02] Molecule does not have explicit Hs. Consider calling AddHs()\n",
      "[10:40:02] Molecule does not have explicit Hs. Consider calling AddHs()\n",
      "[10:40:03] Molecule does not have explicit Hs. Consider calling AddHs()\n",
      "[10:40:03] Molecule does not have explicit Hs. Consider calling AddHs()\n"
     ]
    },
    {
     "name": "stdout",
     "output_type": "stream",
     "text": [
      "0\n",
      "no conformer for MolPort-039-018-385\n",
      "0\n",
      "no conformer for MolPort-039-018-424\n",
      "0\n",
      "no conformer for MolPort-039-018-598\n"
     ]
    },
    {
     "name": "stderr",
     "output_type": "stream",
     "text": [
      "[10:40:03] Molecule does not have explicit Hs. Consider calling AddHs()\n",
      "[10:40:03] Molecule does not have explicit Hs. Consider calling AddHs()\n",
      "[10:40:03] Molecule does not have explicit Hs. Consider calling AddHs()\n"
     ]
    },
    {
     "name": "stdout",
     "output_type": "stream",
     "text": [
      "0\n",
      "no conformer for MolPort-039-020-286\n",
      "0\n",
      "no conformer for MolPort-039-020-809\n",
      "0\n",
      "no conformer for MolPort-039-020-968\n"
     ]
    },
    {
     "name": "stderr",
     "output_type": "stream",
     "text": [
      "[10:40:03] Molecule does not have explicit Hs. Consider calling AddHs()\n",
      "[10:40:03] Molecule does not have explicit Hs. Consider calling AddHs()\n",
      "[10:40:03] Molecule does not have explicit Hs. Consider calling AddHs()\n"
     ]
    },
    {
     "name": "stdout",
     "output_type": "stream",
     "text": [
      "0\n",
      "no conformer for MolPort-039-057-826\n",
      "0\n",
      "no conformer for MolPort-039-057-831\n",
      "0\n",
      "no conformer for MolPort-039-058-638\n",
      "0\n",
      "no conformer for MolPort-039-058-828\n"
     ]
    },
    {
     "name": "stderr",
     "output_type": "stream",
     "text": [
      "[10:40:03] Molecule does not have explicit Hs. Consider calling AddHs()\n",
      "[10:40:03] Molecule does not have explicit Hs. Consider calling AddHs()\n",
      "[10:40:03] Molecule does not have explicit Hs. Consider calling AddHs()\n",
      "[10:40:03] Molecule does not have explicit Hs. Consider calling AddHs()\n"
     ]
    },
    {
     "name": "stdout",
     "output_type": "stream",
     "text": [
      "0\n",
      "no conformer for MolPort-039-060-109\n",
      "3\n"
     ]
    },
    {
     "name": "stderr",
     "output_type": "stream",
     "text": [
      "[10:40:04] Molecule does not have explicit Hs. Consider calling AddHs()\n",
      "[10:40:04] Molecule does not have explicit Hs. Consider calling AddHs()\n"
     ]
    },
    {
     "name": "stdout",
     "output_type": "stream",
     "text": [
      "0\n",
      "no conformer for MolPort-039-137-280\n"
     ]
    },
    {
     "name": "stderr",
     "output_type": "stream",
     "text": [
      "[10:40:04] Molecule does not have explicit Hs. Consider calling AddHs()\n"
     ]
    },
    {
     "name": "stdout",
     "output_type": "stream",
     "text": [
      "0\n",
      "no conformer for MolPort-039-139-665\n"
     ]
    },
    {
     "name": "stderr",
     "output_type": "stream",
     "text": [
      "[10:40:04] Molecule does not have explicit Hs. Consider calling AddHs()\n"
     ]
    },
    {
     "name": "stdout",
     "output_type": "stream",
     "text": [
      "0\n",
      "no conformer for MolPort-039-194-287\n"
     ]
    },
    {
     "name": "stderr",
     "output_type": "stream",
     "text": [
      "[10:40:04] Molecule does not have explicit Hs. Consider calling AddHs()\n"
     ]
    },
    {
     "name": "stdout",
     "output_type": "stream",
     "text": [
      "0\n",
      "no conformer for MolPort-039-194-739\n",
      "0\n",
      "no conformer for MolPort-039-195-444\n"
     ]
    },
    {
     "name": "stderr",
     "output_type": "stream",
     "text": [
      "[10:40:05] Molecule does not have explicit Hs. Consider calling AddHs()\n",
      "[10:40:05] Molecule does not have explicit Hs. Consider calling AddHs()\n"
     ]
    },
    {
     "name": "stdout",
     "output_type": "stream",
     "text": [
      "0\n",
      "no conformer for MolPort-039-211-839\n",
      "0\n",
      "no conformer for MolPort-039-226-627\n",
      "0\n",
      "no conformer for MolPort-042-615-656\n"
     ]
    },
    {
     "name": "stderr",
     "output_type": "stream",
     "text": [
      "[10:40:05] Molecule does not have explicit Hs. Consider calling AddHs()\n",
      "[10:40:05] Molecule does not have explicit Hs. Consider calling AddHs()\n",
      "[10:40:05] Molecule does not have explicit Hs. Consider calling AddHs()\n"
     ]
    },
    {
     "name": "stdout",
     "output_type": "stream",
     "text": [
      "0\n",
      "no conformer for MolPort-042-663-265\n",
      "0\n",
      "no conformer for MolPort-042-664-947\n",
      "0\n",
      "no conformer for MolPort-042-666-030\n"
     ]
    },
    {
     "name": "stderr",
     "output_type": "stream",
     "text": [
      "[10:40:05] Molecule does not have explicit Hs. Consider calling AddHs()\n",
      "[10:40:05] Molecule does not have explicit Hs. Consider calling AddHs()\n",
      "[10:40:05] Molecule does not have explicit Hs. Consider calling AddHs()\n",
      "[10:40:05] Molecule does not have explicit Hs. Consider calling AddHs()\n"
     ]
    },
    {
     "name": "stdout",
     "output_type": "stream",
     "text": [
      "0\n",
      "no conformer for MolPort-042-667-752\n",
      "0\n",
      "no conformer for MolPort-044-640-783\n"
     ]
    },
    {
     "name": "stderr",
     "output_type": "stream",
     "text": [
      "[10:40:06] Molecule does not have explicit Hs. Consider calling AddHs()\n",
      "[10:40:06] Molecule does not have explicit Hs. Consider calling AddHs()\n"
     ]
    },
    {
     "name": "stdout",
     "output_type": "stream",
     "text": [
      "0\n",
      "no conformer for MolPort-039-020-380\n",
      "0\n",
      "no conformer for MolPort-039-020-434\n"
     ]
    },
    {
     "name": "stderr",
     "output_type": "stream",
     "text": [
      "[10:40:06] Molecule does not have explicit Hs. Consider calling AddHs()\n",
      "[10:40:06] Molecule does not have explicit Hs. Consider calling AddHs()\n"
     ]
    },
    {
     "name": "stdout",
     "output_type": "stream",
     "text": [
      "0\n",
      "no conformer for MolPort-039-020-610\n",
      "0\n",
      "no conformer for MolPort-039-020-747\n"
     ]
    },
    {
     "name": "stderr",
     "output_type": "stream",
     "text": [
      "[10:40:06] Molecule does not have explicit Hs. Consider calling AddHs()\n",
      "[10:40:06] Molecule does not have explicit Hs. Consider calling AddHs()\n"
     ]
    },
    {
     "name": "stdout",
     "output_type": "stream",
     "text": [
      "0\n",
      "no conformer for MolPort-039-021-594\n",
      "0\n",
      "no conformer for MolPort-039-023-173\n"
     ]
    },
    {
     "name": "stderr",
     "output_type": "stream",
     "text": [
      "[10:40:06] Molecule does not have explicit Hs. Consider calling AddHs()\n",
      "[10:40:07] Molecule does not have explicit Hs. Consider calling AddHs()\n"
     ]
    },
    {
     "name": "stdout",
     "output_type": "stream",
     "text": [
      "0\n",
      "no conformer for MolPort-039-024-592\n",
      "0\n",
      "no conformer for MolPort-039-024-641\n"
     ]
    },
    {
     "name": "stderr",
     "output_type": "stream",
     "text": [
      "[10:40:07] Molecule does not have explicit Hs. Consider calling AddHs()\n",
      "[10:40:07] Molecule does not have explicit Hs. Consider calling AddHs()\n"
     ]
    },
    {
     "name": "stdout",
     "output_type": "stream",
     "text": [
      "0\n",
      "no conformer for MolPort-039-024-690\n",
      "0\n",
      "no conformer for MolPort-039-024-739\n"
     ]
    },
    {
     "name": "stderr",
     "output_type": "stream",
     "text": [
      "[10:40:07] Molecule does not have explicit Hs. Consider calling AddHs()\n",
      "[10:40:07] Molecule does not have explicit Hs. Consider calling AddHs()\n"
     ]
    },
    {
     "name": "stdout",
     "output_type": "stream",
     "text": [
      "0\n",
      "no conformer for MolPort-039-024-791\n",
      "0\n",
      "no conformer for MolPort-039-024-858\n"
     ]
    },
    {
     "name": "stderr",
     "output_type": "stream",
     "text": [
      "[10:40:07] Molecule does not have explicit Hs. Consider calling AddHs()\n"
     ]
    },
    {
     "name": "stdout",
     "output_type": "stream",
     "text": [
      "0\n",
      "no conformer for MolPort-039-025-008\n",
      "0\n",
      "no conformer for MolPort-039-025-082\n"
     ]
    },
    {
     "name": "stderr",
     "output_type": "stream",
     "text": [
      "[10:40:08] Molecule does not have explicit Hs. Consider calling AddHs()\n",
      "[10:40:08] Molecule does not have explicit Hs. Consider calling AddHs()\n"
     ]
    },
    {
     "name": "stdout",
     "output_type": "stream",
     "text": [
      "0\n",
      "no conformer for MolPort-039-025-275\n",
      "0\n",
      "no conformer for MolPort-039-025-534\n"
     ]
    },
    {
     "name": "stderr",
     "output_type": "stream",
     "text": [
      "[10:40:08] Molecule does not have explicit Hs. Consider calling AddHs()\n",
      "[10:40:08] Molecule does not have explicit Hs. Consider calling AddHs()\n"
     ]
    },
    {
     "name": "stdout",
     "output_type": "stream",
     "text": [
      "0\n",
      "no conformer for MolPort-039-025-579\n",
      "0\n",
      "no conformer for MolPort-039-025-619\n"
     ]
    },
    {
     "name": "stderr",
     "output_type": "stream",
     "text": [
      "[10:40:08] Molecule does not have explicit Hs. Consider calling AddHs()\n",
      "[10:40:08] Molecule does not have explicit Hs. Consider calling AddHs()\n"
     ]
    },
    {
     "name": "stdout",
     "output_type": "stream",
     "text": [
      "0\n",
      "no conformer for MolPort-039-025-743\n",
      "0\n",
      "no conformer for MolPort-039-025-804\n"
     ]
    },
    {
     "name": "stderr",
     "output_type": "stream",
     "text": [
      "[10:40:09] Molecule does not have explicit Hs. Consider calling AddHs()\n",
      "[10:40:09] Molecule does not have explicit Hs. Consider calling AddHs()\n"
     ]
    },
    {
     "name": "stdout",
     "output_type": "stream",
     "text": [
      "0\n",
      "no conformer for MolPort-039-026-033\n",
      "0\n",
      "no conformer for MolPort-039-026-037\n"
     ]
    },
    {
     "name": "stderr",
     "output_type": "stream",
     "text": [
      "[10:40:09] Molecule does not have explicit Hs. Consider calling AddHs()\n",
      "[10:40:09] Molecule does not have explicit Hs. Consider calling AddHs()\n"
     ]
    },
    {
     "name": "stdout",
     "output_type": "stream",
     "text": [
      "0\n",
      "no conformer for MolPort-039-026-038\n",
      "0\n",
      "no conformer for MolPort-039-026-130\n"
     ]
    },
    {
     "name": "stderr",
     "output_type": "stream",
     "text": [
      "[10:40:09] Molecule does not have explicit Hs. Consider calling AddHs()\n",
      "[10:40:09] Molecule does not have explicit Hs. Consider calling AddHs()\n"
     ]
    },
    {
     "name": "stdout",
     "output_type": "stream",
     "text": [
      "0\n",
      "no conformer for MolPort-039-026-319\n",
      "0\n",
      "no conformer for MolPort-039-026-398\n"
     ]
    },
    {
     "name": "stderr",
     "output_type": "stream",
     "text": [
      "[10:40:09] Molecule does not have explicit Hs. Consider calling AddHs()\n",
      "[10:40:10] Molecule does not have explicit Hs. Consider calling AddHs()\n"
     ]
    },
    {
     "name": "stdout",
     "output_type": "stream",
     "text": [
      "0\n",
      "no conformer for MolPort-039-026-448\n",
      "0\n",
      "no conformer for MolPort-039-026-503\n"
     ]
    },
    {
     "name": "stderr",
     "output_type": "stream",
     "text": [
      "[10:40:10] Molecule does not have explicit Hs. Consider calling AddHs()\n",
      "[10:40:10] Molecule does not have explicit Hs. Consider calling AddHs()\n"
     ]
    },
    {
     "name": "stdout",
     "output_type": "stream",
     "text": [
      "0\n",
      "no conformer for MolPort-039-027-230\n",
      "0\n",
      "no conformer for MolPort-039-027-251\n"
     ]
    },
    {
     "name": "stderr",
     "output_type": "stream",
     "text": [
      "[10:40:10] Molecule does not have explicit Hs. Consider calling AddHs()\n",
      "[10:40:10] Molecule does not have explicit Hs. Consider calling AddHs()\n"
     ]
    },
    {
     "name": "stdout",
     "output_type": "stream",
     "text": [
      "0\n",
      "no conformer for MolPort-039-027-298\n",
      "0\n",
      "no conformer for MolPort-039-027-317\n"
     ]
    },
    {
     "name": "stderr",
     "output_type": "stream",
     "text": [
      "[10:40:10] Molecule does not have explicit Hs. Consider calling AddHs()\n",
      "[10:40:11] Molecule does not have explicit Hs. Consider calling AddHs()\n"
     ]
    },
    {
     "name": "stdout",
     "output_type": "stream",
     "text": [
      "0\n",
      "no conformer for MolPort-039-027-394\n",
      "0\n",
      "no conformer for MolPort-039-027-419\n"
     ]
    },
    {
     "name": "stderr",
     "output_type": "stream",
     "text": [
      "[10:40:11] Molecule does not have explicit Hs. Consider calling AddHs()\n",
      "[10:40:11] Molecule does not have explicit Hs. Consider calling AddHs()\n"
     ]
    },
    {
     "name": "stdout",
     "output_type": "stream",
     "text": [
      "0\n",
      "no conformer for MolPort-039-057-589\n",
      "0\n",
      "no conformer for MolPort-039-058-290\n",
      "0\n",
      "no conformer for MolPort-039-058-432\n"
     ]
    },
    {
     "name": "stderr",
     "output_type": "stream",
     "text": [
      "[10:40:11] Molecule does not have explicit Hs. Consider calling AddHs()\n",
      "[10:40:11] Molecule does not have explicit Hs. Consider calling AddHs()\n",
      "[10:40:11] Molecule does not have explicit Hs. Consider calling AddHs()\n"
     ]
    },
    {
     "name": "stdout",
     "output_type": "stream",
     "text": [
      "0\n",
      "no conformer for MolPort-039-059-338\n",
      "0\n",
      "no conformer for MolPort-039-059-750\n",
      "0\n",
      "no conformer for MolPort-039-113-125\n"
     ]
    },
    {
     "name": "stderr",
     "output_type": "stream",
     "text": [
      "[10:40:11] Molecule does not have explicit Hs. Consider calling AddHs()\n",
      "[10:40:11] Molecule does not have explicit Hs. Consider calling AddHs()\n",
      "[10:40:11] Molecule does not have explicit Hs. Consider calling AddHs()\n"
     ]
    },
    {
     "name": "stdout",
     "output_type": "stream",
     "text": [
      "0\n",
      "no conformer for MolPort-039-120-527\n",
      "0\n",
      "no conformer for MolPort-039-123-649\n"
     ]
    },
    {
     "name": "stderr",
     "output_type": "stream",
     "text": [
      "[10:40:11] Molecule does not have explicit Hs. Consider calling AddHs()\n",
      "[10:40:12] Molecule does not have explicit Hs. Consider calling AddHs()\n"
     ]
    },
    {
     "name": "stdout",
     "output_type": "stream",
     "text": [
      "0\n",
      "no conformer for MolPort-039-217-570\n",
      "1\n",
      "0\n",
      "no conformer for MolPort-039-224-890\n"
     ]
    },
    {
     "name": "stderr",
     "output_type": "stream",
     "text": [
      "[10:40:12] Molecule does not have explicit Hs. Consider calling AddHs()\n",
      "[10:40:12] Molecule does not have explicit Hs. Consider calling AddHs()\n",
      "[10:40:12] Molecule does not have explicit Hs. Consider calling AddHs()\n"
     ]
    },
    {
     "name": "stdout",
     "output_type": "stream",
     "text": [
      "0\n",
      "no conformer for MolPort-039-345-809\n",
      "0\n",
      "no conformer for MolPort-039-346-274\n"
     ]
    },
    {
     "name": "stderr",
     "output_type": "stream",
     "text": [
      "[10:40:12] Molecule does not have explicit Hs. Consider calling AddHs()\n",
      "[10:40:12] Molecule does not have explicit Hs. Consider calling AddHs()\n"
     ]
    },
    {
     "name": "stdout",
     "output_type": "stream",
     "text": [
      "0\n",
      "no conformer for MolPort-039-346-397\n",
      "0\n",
      "no conformer for MolPort-039-347-045\n",
      "0\n",
      "no conformer for MolPort-039-347-258\n"
     ]
    },
    {
     "name": "stderr",
     "output_type": "stream",
     "text": [
      "[10:40:12] Molecule does not have explicit Hs. Consider calling AddHs()\n",
      "[10:40:12] Molecule does not have explicit Hs. Consider calling AddHs()\n",
      "[10:40:12] Molecule does not have explicit Hs. Consider calling AddHs()\n"
     ]
    },
    {
     "name": "stdout",
     "output_type": "stream",
     "text": [
      "0\n",
      "no conformer for MolPort-039-347-265\n",
      "0\n",
      "no conformer for MolPort-039-347-301\n",
      "0\n",
      "no conformer for MolPort-042-574-621\n"
     ]
    },
    {
     "name": "stderr",
     "output_type": "stream",
     "text": [
      "[10:40:12] Molecule does not have explicit Hs. Consider calling AddHs()\n",
      "[10:40:13] Molecule does not have explicit Hs. Consider calling AddHs()\n",
      "[10:40:13] Molecule does not have explicit Hs. Consider calling AddHs()\n"
     ]
    },
    {
     "name": "stdout",
     "output_type": "stream",
     "text": [
      "0\n",
      "no conformer for MolPort-042-615-193\n",
      "0\n",
      "no conformer for MolPort-042-627-757\n",
      "0\n",
      "no conformer for MolPort-042-638-911\n"
     ]
    },
    {
     "name": "stderr",
     "output_type": "stream",
     "text": [
      "[10:40:13] Molecule does not have explicit Hs. Consider calling AddHs()\n",
      "[10:40:13] Molecule does not have explicit Hs. Consider calling AddHs()\n",
      "[10:40:13] Molecule does not have explicit Hs. Consider calling AddHs()\n"
     ]
    },
    {
     "name": "stdout",
     "output_type": "stream",
     "text": [
      "0\n",
      "no conformer for MolPort-042-645-669\n",
      "0\n",
      "no conformer for MolPort-042-645-670\n"
     ]
    },
    {
     "name": "stderr",
     "output_type": "stream",
     "text": [
      "[10:40:13] Molecule does not have explicit Hs. Consider calling AddHs()\n",
      "[10:40:13] Molecule does not have explicit Hs. Consider calling AddHs()\n"
     ]
    },
    {
     "name": "stdout",
     "output_type": "stream",
     "text": [
      "0\n",
      "no conformer for MolPort-042-645-674\n",
      "0\n",
      "no conformer for MolPort-042-645-675\n"
     ]
    },
    {
     "name": "stderr",
     "output_type": "stream",
     "text": [
      "[10:40:13] Molecule does not have explicit Hs. Consider calling AddHs()\n",
      "[10:40:13] Molecule does not have explicit Hs. Consider calling AddHs()\n"
     ]
    },
    {
     "name": "stdout",
     "output_type": "stream",
     "text": [
      "0\n",
      "no conformer for MolPort-042-676-263\n",
      "0\n",
      "no conformer for MolPort-044-180-173\n"
     ]
    },
    {
     "name": "stderr",
     "output_type": "stream",
     "text": [
      "[10:40:14] Molecule does not have explicit Hs. Consider calling AddHs()\n",
      "[10:40:14] Molecule does not have explicit Hs. Consider calling AddHs()\n"
     ]
    },
    {
     "name": "stdout",
     "output_type": "stream",
     "text": [
      "0\n",
      "no conformer for MolPort-044-180-378\n",
      "0\n",
      "no conformer for MolPort-044-181-216\n"
     ]
    },
    {
     "name": "stderr",
     "output_type": "stream",
     "text": [
      "[10:40:14] Molecule does not have explicit Hs. Consider calling AddHs()\n",
      "[10:40:14] Molecule does not have explicit Hs. Consider calling AddHs()\n"
     ]
    },
    {
     "name": "stdout",
     "output_type": "stream",
     "text": [
      "0\n",
      "no conformer for MolPort-044-191-473\n",
      "0\n",
      "no conformer for MolPort-044-191-662\n"
     ]
    },
    {
     "name": "stderr",
     "output_type": "stream",
     "text": [
      "[10:40:14] Molecule does not have explicit Hs. Consider calling AddHs()\n",
      "[10:40:14] Molecule does not have explicit Hs. Consider calling AddHs()\n"
     ]
    },
    {
     "name": "stdout",
     "output_type": "stream",
     "text": [
      "0\n",
      "no conformer for MolPort-044-306-177\n",
      "0\n",
      "no conformer for MolPort-044-308-656\n"
     ]
    },
    {
     "name": "stderr",
     "output_type": "stream",
     "text": [
      "[10:40:14] Molecule does not have explicit Hs. Consider calling AddHs()\n",
      "[10:40:15] Molecule does not have explicit Hs. Consider calling AddHs()\n"
     ]
    },
    {
     "name": "stdout",
     "output_type": "stream",
     "text": [
      "0\n",
      "no conformer for MolPort-044-317-038\n",
      "1\n"
     ]
    },
    {
     "name": "stderr",
     "output_type": "stream",
     "text": [
      "[10:40:15] Molecule does not have explicit Hs. Consider calling AddHs()\n",
      "[10:40:15] Molecule does not have explicit Hs. Consider calling AddHs()\n"
     ]
    },
    {
     "name": "stdout",
     "output_type": "stream",
     "text": [
      "0\n",
      "no conformer for MolPort-044-323-562\n",
      "0\n",
      "no conformer for MolPort-044-325-899\n",
      "0\n",
      "no conformer for MolPort-044-332-477\n"
     ]
    },
    {
     "name": "stderr",
     "output_type": "stream",
     "text": [
      "[10:40:15] Molecule does not have explicit Hs. Consider calling AddHs()\n",
      "[10:40:15] Molecule does not have explicit Hs. Consider calling AddHs()\n",
      "[10:40:15] Molecule does not have explicit Hs. Consider calling AddHs()\n"
     ]
    },
    {
     "name": "stdout",
     "output_type": "stream",
     "text": [
      "0\n",
      "no conformer for MolPort-044-334-566\n",
      "0\n",
      "no conformer for MolPort-044-337-872\n"
     ]
    },
    {
     "name": "stderr",
     "output_type": "stream",
     "text": [
      "[10:40:15] Molecule does not have explicit Hs. Consider calling AddHs()\n",
      "[10:40:16] Molecule does not have explicit Hs. Consider calling AddHs()\n"
     ]
    },
    {
     "name": "stdout",
     "output_type": "stream",
     "text": [
      "0\n",
      "no conformer for MolPort-044-340-234\n",
      "0\n",
      "no conformer for MolPort-044-340-259\n"
     ]
    },
    {
     "name": "stderr",
     "output_type": "stream",
     "text": [
      "[10:40:16] Molecule does not have explicit Hs. Consider calling AddHs()\n",
      "[10:40:16] Molecule does not have explicit Hs. Consider calling AddHs()\n"
     ]
    },
    {
     "name": "stdout",
     "output_type": "stream",
     "text": [
      "0\n",
      "no conformer for MolPort-044-340-282\n",
      "0\n",
      "no conformer for MolPort-044-340-288\n"
     ]
    },
    {
     "name": "stderr",
     "output_type": "stream",
     "text": [
      "[10:40:16] Molecule does not have explicit Hs. Consider calling AddHs()\n",
      "[10:40:16] Molecule does not have explicit Hs. Consider calling AddHs()\n"
     ]
    },
    {
     "name": "stdout",
     "output_type": "stream",
     "text": [
      "0\n",
      "no conformer for MolPort-044-342-258\n",
      "0\n",
      "no conformer for MolPort-044-355-257\n"
     ]
    },
    {
     "name": "stderr",
     "output_type": "stream",
     "text": [
      "[10:40:16] Molecule does not have explicit Hs. Consider calling AddHs()\n",
      "[10:40:16] Molecule does not have explicit Hs. Consider calling AddHs()\n"
     ]
    },
    {
     "name": "stdout",
     "output_type": "stream",
     "text": [
      "0\n",
      "no conformer for MolPort-044-355-341\n",
      "0\n",
      "no conformer for MolPort-044-356-748\n"
     ]
    },
    {
     "name": "stderr",
     "output_type": "stream",
     "text": [
      "[10:40:16] Molecule does not have explicit Hs. Consider calling AddHs()\n",
      "[10:40:17] Molecule does not have explicit Hs. Consider calling AddHs()\n"
     ]
    },
    {
     "name": "stdout",
     "output_type": "stream",
     "text": [
      "0\n",
      "no conformer for MolPort-044-358-576\n",
      "0\n",
      "no conformer for MolPort-044-359-076\n"
     ]
    },
    {
     "name": "stderr",
     "output_type": "stream",
     "text": [
      "[10:40:17] Molecule does not have explicit Hs. Consider calling AddHs()\n",
      "[10:40:17] Molecule does not have explicit Hs. Consider calling AddHs()\n"
     ]
    },
    {
     "name": "stdout",
     "output_type": "stream",
     "text": [
      "0\n",
      "no conformer for MolPort-044-359-390\n",
      "0\n",
      "no conformer for MolPort-044-359-414\n"
     ]
    },
    {
     "name": "stderr",
     "output_type": "stream",
     "text": [
      "[10:40:17] Molecule does not have explicit Hs. Consider calling AddHs()\n",
      "[10:40:17] Molecule does not have explicit Hs. Consider calling AddHs()\n"
     ]
    },
    {
     "name": "stdout",
     "output_type": "stream",
     "text": [
      "0\n",
      "no conformer for MolPort-044-364-206\n",
      "0\n",
      "no conformer for MolPort-044-365-076\n",
      "0\n",
      "no conformer for MolPort-044-365-171\n"
     ]
    },
    {
     "name": "stderr",
     "output_type": "stream",
     "text": [
      "[10:40:17] Molecule does not have explicit Hs. Consider calling AddHs()\n",
      "[10:40:17] Molecule does not have explicit Hs. Consider calling AddHs()\n",
      "[10:40:17] Molecule does not have explicit Hs. Consider calling AddHs()\n"
     ]
    },
    {
     "name": "stdout",
     "output_type": "stream",
     "text": [
      "0\n",
      "no conformer for MolPort-044-371-542\n",
      "0\n",
      "no conformer for MolPort-044-432-064\n",
      "0\n",
      "no conformer for MolPort-044-551-303\n"
     ]
    },
    {
     "name": "stderr",
     "output_type": "stream",
     "text": [
      "[10:40:18] Molecule does not have explicit Hs. Consider calling AddHs()\n",
      "[10:40:18] Molecule does not have explicit Hs. Consider calling AddHs()\n",
      "[10:40:18] Molecule does not have explicit Hs. Consider calling AddHs()\n"
     ]
    },
    {
     "name": "stdout",
     "output_type": "stream",
     "text": [
      "0\n",
      "no conformer for MolPort-044-561-474\n",
      "0\n",
      "no conformer for MolPort-044-647-627\n",
      "0\n",
      "no conformer for MolPort-044-176-246\n"
     ]
    },
    {
     "name": "stderr",
     "output_type": "stream",
     "text": [
      "[10:40:18] Molecule does not have explicit Hs. Consider calling AddHs()\n",
      "[10:40:18] Molecule does not have explicit Hs. Consider calling AddHs()\n",
      "[10:40:18] Molecule does not have explicit Hs. Consider calling AddHs()\n"
     ]
    },
    {
     "name": "stdout",
     "output_type": "stream",
     "text": [
      "0\n",
      "no conformer for MolPort-044-177-428\n",
      "0\n",
      "no conformer for MolPort-044-312-123\n"
     ]
    },
    {
     "name": "stderr",
     "output_type": "stream",
     "text": [
      "[10:40:18] Molecule does not have explicit Hs. Consider calling AddHs()\n",
      "[10:40:18] Molecule does not have explicit Hs. Consider calling AddHs()\n"
     ]
    },
    {
     "name": "stdout",
     "output_type": "stream",
     "text": [
      "0\n",
      "no conformer for MolPort-044-312-706\n",
      "0\n",
      "no conformer for MolPort-044-312-997\n"
     ]
    },
    {
     "name": "stderr",
     "output_type": "stream",
     "text": [
      "[10:40:19] Molecule does not have explicit Hs. Consider calling AddHs()\n",
      "[10:40:19] Molecule does not have explicit Hs. Consider calling AddHs()\n"
     ]
    },
    {
     "name": "stdout",
     "output_type": "stream",
     "text": [
      "0\n",
      "no conformer for MolPort-044-314-031\n",
      "0\n",
      "no conformer for MolPort-044-316-396\n"
     ]
    },
    {
     "name": "stderr",
     "output_type": "stream",
     "text": [
      "[10:40:19] Molecule does not have explicit Hs. Consider calling AddHs()\n",
      "[10:40:19] Molecule does not have explicit Hs. Consider calling AddHs()\n"
     ]
    },
    {
     "name": "stdout",
     "output_type": "stream",
     "text": [
      "0\n",
      "no conformer for MolPort-044-318-262\n",
      "0\n",
      "no conformer for MolPort-044-319-741\n"
     ]
    },
    {
     "name": "stderr",
     "output_type": "stream",
     "text": [
      "[10:40:19] Molecule does not have explicit Hs. Consider calling AddHs()\n",
      "[10:40:19] Molecule does not have explicit Hs. Consider calling AddHs()\n"
     ]
    },
    {
     "name": "stdout",
     "output_type": "stream",
     "text": [
      "0\n",
      "no conformer for MolPort-044-320-787\n",
      "0\n",
      "no conformer for MolPort-044-321-170\n"
     ]
    },
    {
     "name": "stderr",
     "output_type": "stream",
     "text": [
      "[10:40:19] Molecule does not have explicit Hs. Consider calling AddHs()\n",
      "[10:40:19] Molecule does not have explicit Hs. Consider calling AddHs()\n"
     ]
    },
    {
     "name": "stdout",
     "output_type": "stream",
     "text": [
      "0\n",
      "no conformer for MolPort-044-323-075\n",
      "0\n",
      "no conformer for MolPort-044-323-125\n"
     ]
    },
    {
     "name": "stderr",
     "output_type": "stream",
     "text": [
      "[10:40:20] Molecule does not have explicit Hs. Consider calling AddHs()\n",
      "[10:40:20] Molecule does not have explicit Hs. Consider calling AddHs()\n"
     ]
    },
    {
     "name": "stdout",
     "output_type": "stream",
     "text": [
      "0\n",
      "no conformer for MolPort-044-324-433\n",
      "0\n",
      "no conformer for MolPort-044-325-161\n"
     ]
    },
    {
     "name": "stderr",
     "output_type": "stream",
     "text": [
      "[10:40:20] Molecule does not have explicit Hs. Consider calling AddHs()\n",
      "[10:40:20] Molecule does not have explicit Hs. Consider calling AddHs()\n",
      "[10:40:20] Molecule does not have explicit Hs. Consider calling AddHs()\n"
     ]
    },
    {
     "name": "stdout",
     "output_type": "stream",
     "text": [
      "0\n",
      "no conformer for MolPort-044-325-383\n",
      "0\n",
      "no conformer for MolPort-044-326-517\n",
      "0\n",
      "no conformer for MolPort-044-326-916\n",
      "0\n",
      "no conformer for MolPort-044-328-154\n"
     ]
    },
    {
     "name": "stderr",
     "output_type": "stream",
     "text": [
      "[10:40:20] Molecule does not have explicit Hs. Consider calling AddHs()\n",
      "[10:40:20] Molecule does not have explicit Hs. Consider calling AddHs()\n",
      "[10:40:21] Molecule does not have explicit Hs. Consider calling AddHs()\n"
     ]
    },
    {
     "name": "stdout",
     "output_type": "stream",
     "text": [
      "0\n",
      "no conformer for MolPort-044-329-684\n",
      "0\n",
      "no conformer for MolPort-044-329-692\n"
     ]
    },
    {
     "name": "stderr",
     "output_type": "stream",
     "text": [
      "[10:40:21] Molecule does not have explicit Hs. Consider calling AddHs()\n",
      "[10:40:21] Molecule does not have explicit Hs. Consider calling AddHs()\n"
     ]
    },
    {
     "name": "stdout",
     "output_type": "stream",
     "text": [
      "0\n",
      "no conformer for MolPort-044-329-755\n",
      "0\n",
      "no conformer for MolPort-044-339-108\n"
     ]
    },
    {
     "name": "stderr",
     "output_type": "stream",
     "text": [
      "[10:40:21] Molecule does not have explicit Hs. Consider calling AddHs()\n",
      "[10:40:21] Molecule does not have explicit Hs. Consider calling AddHs()\n"
     ]
    },
    {
     "name": "stdout",
     "output_type": "stream",
     "text": [
      "0\n",
      "no conformer for MolPort-044-339-144\n"
     ]
    },
    {
     "name": "stderr",
     "output_type": "stream",
     "text": [
      "[10:40:21] Molecule does not have explicit Hs. Consider calling AddHs()\n"
     ]
    },
    {
     "name": "stdout",
     "output_type": "stream",
     "text": [
      "2\n",
      "1\n"
     ]
    },
    {
     "name": "stderr",
     "output_type": "stream",
     "text": [
      "[10:40:22] Molecule does not have explicit Hs. Consider calling AddHs()\n",
      "[10:40:22] Molecule does not have explicit Hs. Consider calling AddHs()\n"
     ]
    },
    {
     "name": "stdout",
     "output_type": "stream",
     "text": [
      "0\n",
      "no conformer for MolPort-044-339-249\n",
      "1\n",
      "0\n",
      "no conformer for MolPort-044-344-422\n"
     ]
    },
    {
     "name": "stderr",
     "output_type": "stream",
     "text": [
      "[10:40:22] Molecule does not have explicit Hs. Consider calling AddHs()\n",
      "[10:40:22] Molecule does not have explicit Hs. Consider calling AddHs()\n",
      "[10:40:22] Molecule does not have explicit Hs. Consider calling AddHs()\n"
     ]
    },
    {
     "name": "stdout",
     "output_type": "stream",
     "text": [
      "0\n",
      "no conformer for MolPort-044-344-492\n",
      "0\n",
      "no conformer for MolPort-044-344-578\n"
     ]
    },
    {
     "name": "stderr",
     "output_type": "stream",
     "text": [
      "[10:40:22] Molecule does not have explicit Hs. Consider calling AddHs()\n",
      "[10:40:22] Molecule does not have explicit Hs. Consider calling AddHs()\n"
     ]
    },
    {
     "name": "stdout",
     "output_type": "stream",
     "text": [
      "0\n",
      "no conformer for MolPort-044-344-632\n",
      "0\n",
      "no conformer for MolPort-044-345-086\n"
     ]
    },
    {
     "name": "stderr",
     "output_type": "stream",
     "text": [
      "[10:40:22] Molecule does not have explicit Hs. Consider calling AddHs()\n",
      "[10:40:23] Molecule does not have explicit Hs. Consider calling AddHs()\n"
     ]
    },
    {
     "name": "stdout",
     "output_type": "stream",
     "text": [
      "0\n",
      "no conformer for MolPort-044-346-217\n",
      "0\n",
      "no conformer for MolPort-044-346-299\n"
     ]
    },
    {
     "name": "stderr",
     "output_type": "stream",
     "text": [
      "[10:40:23] Molecule does not have explicit Hs. Consider calling AddHs()\n",
      "[10:40:23] Molecule does not have explicit Hs. Consider calling AddHs()\n"
     ]
    },
    {
     "name": "stdout",
     "output_type": "stream",
     "text": [
      "0\n",
      "no conformer for MolPort-044-346-328\n",
      "0\n",
      "no conformer for MolPort-044-346-414\n"
     ]
    },
    {
     "name": "stderr",
     "output_type": "stream",
     "text": [
      "[10:40:23] Molecule does not have explicit Hs. Consider calling AddHs()\n",
      "[10:40:23] Molecule does not have explicit Hs. Consider calling AddHs()\n"
     ]
    },
    {
     "name": "stdout",
     "output_type": "stream",
     "text": [
      "0\n",
      "no conformer for MolPort-044-348-476\n",
      "0\n",
      "no conformer for MolPort-044-352-570\n"
     ]
    },
    {
     "name": "stderr",
     "output_type": "stream",
     "text": [
      "[10:40:23] Molecule does not have explicit Hs. Consider calling AddHs()\n",
      "[10:40:23] Molecule does not have explicit Hs. Consider calling AddHs()\n"
     ]
    },
    {
     "name": "stdout",
     "output_type": "stream",
     "text": [
      "0\n",
      "no conformer for MolPort-044-353-837\n",
      "0\n",
      "no conformer for MolPort-044-355-993\n"
     ]
    },
    {
     "name": "stderr",
     "output_type": "stream",
     "text": [
      "[10:40:23] Molecule does not have explicit Hs. Consider calling AddHs()\n",
      "[10:40:23] Molecule does not have explicit Hs. Consider calling AddHs()\n"
     ]
    },
    {
     "name": "stdout",
     "output_type": "stream",
     "text": [
      "0\n",
      "no conformer for MolPort-044-356-336\n",
      "0\n",
      "no conformer for MolPort-044-362-448\n"
     ]
    },
    {
     "name": "stderr",
     "output_type": "stream",
     "text": [
      "[10:40:24] Molecule does not have explicit Hs. Consider calling AddHs()\n",
      "[10:40:24] Molecule does not have explicit Hs. Consider calling AddHs()\n"
     ]
    },
    {
     "name": "stdout",
     "output_type": "stream",
     "text": [
      "0\n",
      "no conformer for MolPort-044-363-321\n",
      "0\n",
      "no conformer for MolPort-044-363-487\n"
     ]
    },
    {
     "name": "stderr",
     "output_type": "stream",
     "text": [
      "[10:40:24] Molecule does not have explicit Hs. Consider calling AddHs()\n",
      "[10:40:24] Molecule does not have explicit Hs. Consider calling AddHs()\n"
     ]
    },
    {
     "name": "stdout",
     "output_type": "stream",
     "text": [
      "0\n",
      "no conformer for MolPort-044-366-837\n",
      "0\n",
      "no conformer for MolPort-044-368-982\n",
      "0\n",
      "no conformer for MolPort-044-372-045\n"
     ]
    },
    {
     "name": "stderr",
     "output_type": "stream",
     "text": [
      "[10:40:24] Molecule does not have explicit Hs. Consider calling AddHs()\n",
      "[10:40:24] Molecule does not have explicit Hs. Consider calling AddHs()\n",
      "[10:40:24] Molecule does not have explicit Hs. Consider calling AddHs()\n"
     ]
    },
    {
     "name": "stdout",
     "output_type": "stream",
     "text": [
      "0\n",
      "no conformer for MolPort-044-373-792\n",
      "0\n",
      "no conformer for MolPort-044-645-760\n"
     ]
    },
    {
     "name": "stderr",
     "output_type": "stream",
     "text": [
      "[10:40:24] Molecule does not have explicit Hs. Consider calling AddHs()\n",
      "[10:40:24] Molecule does not have explicit Hs. Consider calling AddHs()\n"
     ]
    },
    {
     "name": "stdout",
     "output_type": "stream",
     "text": [
      "0\n",
      "no conformer for MolPort-044-646-224\n",
      "0\n",
      "no conformer for MolPort-046-171-754\n"
     ]
    },
    {
     "name": "stderr",
     "output_type": "stream",
     "text": [
      "[10:40:25] Molecule does not have explicit Hs. Consider calling AddHs()\n",
      "[10:40:25] Molecule does not have explicit Hs. Consider calling AddHs()\n"
     ]
    },
    {
     "name": "stdout",
     "output_type": "stream",
     "text": [
      "0\n",
      "no conformer for MolPort-044-647-145\n",
      "0\n",
      "no conformer for MolPort-044-647-806\n"
     ]
    },
    {
     "name": "stderr",
     "output_type": "stream",
     "text": [
      "[10:40:25] Molecule does not have explicit Hs. Consider calling AddHs()\n",
      "[10:40:25] Molecule does not have explicit Hs. Consider calling AddHs()\n"
     ]
    },
    {
     "name": "stdout",
     "output_type": "stream",
     "text": [
      "0\n",
      "no conformer for MolPort-044-647-944\n",
      "0\n",
      "no conformer for MolPort-044-649-059\n",
      "0\n",
      "no conformer for MolPort-044-676-198\n"
     ]
    },
    {
     "name": "stderr",
     "output_type": "stream",
     "text": [
      "[10:40:25] Molecule does not have explicit Hs. Consider calling AddHs()\n",
      "[10:40:25] Molecule does not have explicit Hs. Consider calling AddHs()\n",
      "[10:40:25] Molecule does not have explicit Hs. Consider calling AddHs()\n"
     ]
    },
    {
     "name": "stdout",
     "output_type": "stream",
     "text": [
      "0\n",
      "no conformer for MolPort-044-683-113\n",
      "0\n",
      "no conformer for MolPort-044-685-448\n"
     ]
    },
    {
     "name": "stderr",
     "output_type": "stream",
     "text": [
      "[10:40:25] Molecule does not have explicit Hs. Consider calling AddHs()\n",
      "[10:40:25] Molecule does not have explicit Hs. Consider calling AddHs()\n"
     ]
    },
    {
     "name": "stdout",
     "output_type": "stream",
     "text": [
      "23\n",
      "7\n"
     ]
    },
    {
     "name": "stderr",
     "output_type": "stream",
     "text": [
      "[10:40:26] Molecule does not have explicit Hs. Consider calling AddHs()\n",
      "[10:40:26] Molecule does not have explicit Hs. Consider calling AddHs()\n"
     ]
    },
    {
     "name": "stdout",
     "output_type": "stream",
     "text": [
      "0\n",
      "no conformer for MolPort-044-810-436\n",
      "0\n",
      "no conformer for MolPort-044-875-453\n",
      "1\n",
      "1\n"
     ]
    },
    {
     "name": "stderr",
     "output_type": "stream",
     "text": [
      "[10:40:26] Molecule does not have explicit Hs. Consider calling AddHs()\n",
      "[10:40:26] Molecule does not have explicit Hs. Consider calling AddHs()\n",
      "[10:40:26] Molecule does not have explicit Hs. Consider calling AddHs()\n",
      "[10:40:26] Molecule does not have explicit Hs. Consider calling AddHs()\n"
     ]
    },
    {
     "name": "stdout",
     "output_type": "stream",
     "text": [
      "0\n",
      "no conformer for MolPort-044-875-456\n",
      "0\n",
      "no conformer for MolPort-044-875-504\n"
     ]
    },
    {
     "name": "stderr",
     "output_type": "stream",
     "text": [
      "[10:40:26] Molecule does not have explicit Hs. Consider calling AddHs()\n",
      "[10:40:26] Molecule does not have explicit Hs. Consider calling AddHs()\n"
     ]
    },
    {
     "name": "stdout",
     "output_type": "stream",
     "text": [
      "0\n",
      "no conformer for MolPort-045-927-755\n"
     ]
    },
    {
     "name": "stderr",
     "output_type": "stream",
     "text": [
      "[10:40:26] Molecule does not have explicit Hs. Consider calling AddHs()\n"
     ]
    },
    {
     "name": "stdout",
     "output_type": "stream",
     "text": [
      "0\n",
      "no conformer for MolPort-045-933-809\n",
      "0\n",
      "no conformer for MolPort-045-971-185\n"
     ]
    },
    {
     "name": "stderr",
     "output_type": "stream",
     "text": [
      "[10:40:27] Molecule does not have explicit Hs. Consider calling AddHs()\n",
      "[10:40:27] Molecule does not have explicit Hs. Consider calling AddHs()\n"
     ]
    },
    {
     "name": "stdout",
     "output_type": "stream",
     "text": [
      "0\n",
      "no conformer for MolPort-046-042-858\n",
      "0\n",
      "no conformer for MolPort-046-043-020\n"
     ]
    },
    {
     "name": "stderr",
     "output_type": "stream",
     "text": [
      "[10:40:27] Molecule does not have explicit Hs. Consider calling AddHs()\n",
      "[10:40:27] Molecule does not have explicit Hs. Consider calling AddHs()\n"
     ]
    },
    {
     "name": "stdout",
     "output_type": "stream",
     "text": [
      "0\n",
      "no conformer for MolPort-046-043-701\n",
      "0\n",
      "no conformer for MolPort-046-043-846\n"
     ]
    },
    {
     "name": "stderr",
     "output_type": "stream",
     "text": [
      "[10:40:27] Molecule does not have explicit Hs. Consider calling AddHs()\n",
      "[10:40:28] Molecule does not have explicit Hs. Consider calling AddHs()\n"
     ]
    },
    {
     "name": "stdout",
     "output_type": "stream",
     "text": [
      "0\n",
      "no conformer for MolPort-046-046-026\n",
      "0\n",
      "no conformer for MolPort-046-047-472\n"
     ]
    },
    {
     "name": "stderr",
     "output_type": "stream",
     "text": [
      "[10:40:28] Molecule does not have explicit Hs. Consider calling AddHs()\n",
      "[10:40:28] Molecule does not have explicit Hs. Consider calling AddHs()\n"
     ]
    },
    {
     "name": "stdout",
     "output_type": "stream",
     "text": [
      "0\n",
      "no conformer for MolPort-046-047-645\n",
      "0\n",
      "no conformer for MolPort-046-049-678\n"
     ]
    },
    {
     "name": "stderr",
     "output_type": "stream",
     "text": [
      "[10:40:28] Molecule does not have explicit Hs. Consider calling AddHs()\n",
      "[10:40:28] Molecule does not have explicit Hs. Consider calling AddHs()\n"
     ]
    },
    {
     "name": "stdout",
     "output_type": "stream",
     "text": [
      "0\n",
      "no conformer for MolPort-046-051-455\n",
      "0\n",
      "no conformer for MolPort-046-053-322\n"
     ]
    },
    {
     "name": "stderr",
     "output_type": "stream",
     "text": [
      "[10:40:28] Molecule does not have explicit Hs. Consider calling AddHs()\n",
      "[10:40:28] Molecule does not have explicit Hs. Consider calling AddHs()\n"
     ]
    },
    {
     "name": "stdout",
     "output_type": "stream",
     "text": [
      "1\n",
      "0\n",
      "no conformer for MolPort-046-063-479\n"
     ]
    },
    {
     "name": "stderr",
     "output_type": "stream",
     "text": [
      "[10:40:28] Molecule does not have explicit Hs. Consider calling AddHs()\n",
      "[10:40:29] Molecule does not have explicit Hs. Consider calling AddHs()\n"
     ]
    },
    {
     "name": "stdout",
     "output_type": "stream",
     "text": [
      "4\n",
      "0\n",
      "no conformer for MolPort-046-163-268\n",
      "0\n",
      "no conformer for MolPort-046-163-521\n"
     ]
    },
    {
     "name": "stderr",
     "output_type": "stream",
     "text": [
      "[10:40:37] Molecule does not have explicit Hs. Consider calling AddHs()\n",
      "[10:40:37] Molecule does not have explicit Hs. Consider calling AddHs()\n",
      "[10:40:37] Molecule does not have explicit Hs. Consider calling AddHs()\n"
     ]
    },
    {
     "name": "stdout",
     "output_type": "stream",
     "text": [
      "0\n",
      "no conformer for MolPort-046-169-743\n",
      "0\n",
      "no conformer for MolPort-046-170-320\n"
     ]
    },
    {
     "name": "stderr",
     "output_type": "stream",
     "text": [
      "[10:40:37] Molecule does not have explicit Hs. Consider calling AddHs()\n",
      "[10:40:37] Molecule does not have explicit Hs. Consider calling AddHs()\n"
     ]
    },
    {
     "name": "stdout",
     "output_type": "stream",
     "text": [
      "0\n",
      "no conformer for MolPort-046-170-389\n",
      "0\n",
      "no conformer for MolPort-046-753-063\n"
     ]
    },
    {
     "name": "stderr",
     "output_type": "stream",
     "text": [
      "[10:40:38] Molecule does not have explicit Hs. Consider calling AddHs()\n",
      "[10:40:38] Molecule does not have explicit Hs. Consider calling AddHs()\n"
     ]
    },
    {
     "name": "stdout",
     "output_type": "stream",
     "text": [
      "0\n",
      "no conformer for MolPort-044-648-462\n",
      "0\n",
      "no conformer for MolPort-044-682-079\n",
      "7\n",
      "0\n",
      "no conformer for MolPort-044-691-950\n"
     ]
    },
    {
     "name": "stderr",
     "output_type": "stream",
     "text": [
      "[10:40:38] Molecule does not have explicit Hs. Consider calling AddHs()\n",
      "[10:40:38] Molecule does not have explicit Hs. Consider calling AddHs()\n",
      "[10:40:38] Molecule does not have explicit Hs. Consider calling AddHs()\n",
      "[10:40:38] Molecule does not have explicit Hs. Consider calling AddHs()\n"
     ]
    },
    {
     "name": "stdout",
     "output_type": "stream",
     "text": [
      "0\n",
      "no conformer for MolPort-044-728-705\n",
      "0\n",
      "no conformer for MolPort-044-728-763\n",
      "0\n",
      "no conformer for MolPort-044-810-049\n"
     ]
    },
    {
     "name": "stderr",
     "output_type": "stream",
     "text": [
      "[10:40:38] Molecule does not have explicit Hs. Consider calling AddHs()\n",
      "[10:40:38] Molecule does not have explicit Hs. Consider calling AddHs()\n",
      "[10:40:38] Molecule does not have explicit Hs. Consider calling AddHs()\n"
     ]
    },
    {
     "name": "stdout",
     "output_type": "stream",
     "text": [
      "0\n",
      "no conformer for MolPort-044-810-050\n",
      "0\n",
      "no conformer for MolPort-044-810-094\n",
      "0\n",
      "no conformer for MolPort-044-810-095\n"
     ]
    },
    {
     "name": "stderr",
     "output_type": "stream",
     "text": [
      "[10:40:38] Molecule does not have explicit Hs. Consider calling AddHs()\n",
      "[10:40:38] Molecule does not have explicit Hs. Consider calling AddHs()\n",
      "[10:40:38] Molecule does not have explicit Hs. Consider calling AddHs()\n"
     ]
    },
    {
     "name": "stdout",
     "output_type": "stream",
     "text": [
      "0\n",
      "no conformer for MolPort-044-810-096\n"
     ]
    },
    {
     "name": "stderr",
     "output_type": "stream",
     "text": [
      "[10:40:39] Molecule does not have explicit Hs. Consider calling AddHs()\n"
     ]
    },
    {
     "name": "stdout",
     "output_type": "stream",
     "text": [
      "0\n",
      "no conformer for MolPort-045-916-364\n",
      "0\n",
      "no conformer for MolPort-045-918-805\n",
      "8\n"
     ]
    },
    {
     "name": "stderr",
     "output_type": "stream",
     "text": [
      "[10:40:39] Molecule does not have explicit Hs. Consider calling AddHs()\n",
      "[10:40:39] Molecule does not have explicit Hs. Consider calling AddHs()\n",
      "[10:40:39] Molecule does not have explicit Hs. Consider calling AddHs()\n"
     ]
    },
    {
     "name": "stdout",
     "output_type": "stream",
     "text": [
      "0\n",
      "no conformer for MolPort-045-944-387\n",
      "0\n",
      "no conformer for MolPort-045-953-581\n",
      "0\n",
      "no conformer for MolPort-045-955-193\n"
     ]
    },
    {
     "name": "stderr",
     "output_type": "stream",
     "text": [
      "[10:40:39] Molecule does not have explicit Hs. Consider calling AddHs()\n",
      "[10:40:40] Molecule does not have explicit Hs. Consider calling AddHs()\n",
      "[10:40:40] Molecule does not have explicit Hs. Consider calling AddHs()\n",
      "[10:40:40] Molecule does not have explicit Hs. Consider calling AddHs()\n"
     ]
    },
    {
     "name": "stdout",
     "output_type": "stream",
     "text": [
      "0\n",
      "no conformer for MolPort-045-962-425\n",
      "0\n",
      "no conformer for MolPort-046-041-079\n"
     ]
    },
    {
     "name": "stderr",
     "output_type": "stream",
     "text": [
      "[10:40:40] Molecule does not have explicit Hs. Consider calling AddHs()\n",
      "[10:40:40] Molecule does not have explicit Hs. Consider calling AddHs()\n"
     ]
    },
    {
     "name": "stdout",
     "output_type": "stream",
     "text": [
      "0\n",
      "no conformer for MolPort-046-041-263\n",
      "0\n",
      "no conformer for MolPort-046-043-530\n"
     ]
    },
    {
     "name": "stderr",
     "output_type": "stream",
     "text": [
      "[10:40:40] Molecule does not have explicit Hs. Consider calling AddHs()\n",
      "[10:40:40] Molecule does not have explicit Hs. Consider calling AddHs()\n"
     ]
    },
    {
     "name": "stdout",
     "output_type": "stream",
     "text": [
      "0\n",
      "no conformer for MolPort-046-044-220\n",
      "0\n",
      "no conformer for MolPort-046-049-059\n",
      "0\n",
      "no conformer for MolPort-046-050-050\n"
     ]
    },
    {
     "name": "stderr",
     "output_type": "stream",
     "text": [
      "[10:40:40] Molecule does not have explicit Hs. Consider calling AddHs()\n",
      "[10:40:40] Molecule does not have explicit Hs. Consider calling AddHs()\n"
     ]
    },
    {
     "name": "stdout",
     "output_type": "stream",
     "text": [
      "0\n",
      "no conformer for MolPort-046-050-301\n",
      "0\n",
      "no conformer for MolPort-046-052-988\n"
     ]
    },
    {
     "name": "stderr",
     "output_type": "stream",
     "text": [
      "[10:40:41] Molecule does not have explicit Hs. Consider calling AddHs()\n",
      "[10:40:41] Molecule does not have explicit Hs. Consider calling AddHs()\n"
     ]
    },
    {
     "name": "stdout",
     "output_type": "stream",
     "text": [
      "0\n",
      "no conformer for MolPort-046-053-081\n",
      "0\n",
      "no conformer for MolPort-046-053-110\n"
     ]
    },
    {
     "name": "stderr",
     "output_type": "stream",
     "text": [
      "[10:40:41] Molecule does not have explicit Hs. Consider calling AddHs()\n",
      "[10:40:41] Molecule does not have explicit Hs. Consider calling AddHs()\n"
     ]
    },
    {
     "name": "stdout",
     "output_type": "stream",
     "text": [
      "0\n",
      "no conformer for MolPort-046-054-217\n",
      "0\n",
      "no conformer for MolPort-046-054-380\n"
     ]
    },
    {
     "name": "stderr",
     "output_type": "stream",
     "text": [
      "[10:40:41] Molecule does not have explicit Hs. Consider calling AddHs()\n",
      "[10:40:41] Molecule does not have explicit Hs. Consider calling AddHs()\n"
     ]
    },
    {
     "name": "stdout",
     "output_type": "stream",
     "text": [
      "0\n",
      "no conformer for MolPort-046-054-792\n",
      "0\n",
      "no conformer for MolPort-046-057-887\n"
     ]
    },
    {
     "name": "stderr",
     "output_type": "stream",
     "text": [
      "[10:40:41] Molecule does not have explicit Hs. Consider calling AddHs()\n",
      "[10:40:41] Molecule does not have explicit Hs. Consider calling AddHs()\n"
     ]
    },
    {
     "name": "stdout",
     "output_type": "stream",
     "text": [
      "0\n",
      "no conformer for MolPort-046-058-546\n",
      "0\n",
      "no conformer for MolPort-046-060-554\n",
      "0\n",
      "no conformer for MolPort-046-062-591\n"
     ]
    },
    {
     "name": "stderr",
     "output_type": "stream",
     "text": [
      "[10:40:42] Molecule does not have explicit Hs. Consider calling AddHs()\n",
      "[10:40:42] Molecule does not have explicit Hs. Consider calling AddHs()\n",
      "[10:40:42] Molecule does not have explicit Hs. Consider calling AddHs()\n"
     ]
    },
    {
     "name": "stdout",
     "output_type": "stream",
     "text": [
      "0\n",
      "no conformer for MolPort-046-062-613\n",
      "0\n",
      "no conformer for MolPort-046-063-264\n"
     ]
    },
    {
     "name": "stderr",
     "output_type": "stream",
     "text": [
      "[10:40:42] Molecule does not have explicit Hs. Consider calling AddHs()\n",
      "[10:40:42] Molecule does not have explicit Hs. Consider calling AddHs()\n"
     ]
    },
    {
     "name": "stdout",
     "output_type": "stream",
     "text": [
      "0\n",
      "no conformer for MolPort-046-065-930\n",
      "0\n",
      "no conformer for MolPort-046-065-937\n",
      "0\n",
      "no conformer for MolPort-046-169-051\n"
     ]
    },
    {
     "name": "stderr",
     "output_type": "stream",
     "text": [
      "[10:40:42] Molecule does not have explicit Hs. Consider calling AddHs()\n",
      "[10:40:42] Molecule does not have explicit Hs. Consider calling AddHs()\n",
      "[10:40:42] Molecule does not have explicit Hs. Consider calling AddHs()\n"
     ]
    },
    {
     "name": "stdout",
     "output_type": "stream",
     "text": [
      "0\n",
      "no conformer for MolPort-046-169-164\n",
      "0\n",
      "no conformer for MolPort-046-170-875\n"
     ]
    },
    {
     "name": "stderr",
     "output_type": "stream",
     "text": [
      "[10:40:42] Molecule does not have explicit Hs. Consider calling AddHs()\n",
      "[10:40:43] Molecule does not have explicit Hs. Consider calling AddHs()\n"
     ]
    },
    {
     "name": "stdout",
     "output_type": "stream",
     "text": [
      "0\n",
      "no conformer for MolPort-046-171-872\n",
      "0\n",
      "no conformer for MolPort-046-172-658\n",
      "0\n",
      "no conformer for MolPort-046-172-867\n"
     ]
    },
    {
     "name": "stderr",
     "output_type": "stream",
     "text": [
      "[10:40:43] Molecule does not have explicit Hs. Consider calling AddHs()\n",
      "[10:40:43] Molecule does not have explicit Hs. Consider calling AddHs()\n",
      "[10:40:43] Molecule does not have explicit Hs. Consider calling AddHs()\n"
     ]
    },
    {
     "name": "stdout",
     "output_type": "stream",
     "text": [
      "0\n",
      "no conformer for MolPort-046-173-051\n",
      "0\n",
      "no conformer for MolPort-046-173-407\n"
     ]
    },
    {
     "name": "stderr",
     "output_type": "stream",
     "text": [
      "[10:40:43] Molecule does not have explicit Hs. Consider calling AddHs()\n",
      "[10:40:43] Molecule does not have explicit Hs. Consider calling AddHs()\n"
     ]
    },
    {
     "name": "stdout",
     "output_type": "stream",
     "text": [
      "0\n",
      "no conformer for MolPort-046-173-424\n",
      "0\n",
      "no conformer for MolPort-046-175-114\n",
      "0\n",
      "no conformer for MolPort-046-176-595\n"
     ]
    },
    {
     "name": "stderr",
     "output_type": "stream",
     "text": [
      "[10:40:43] Molecule does not have explicit Hs. Consider calling AddHs()\n",
      "[10:40:43] Molecule does not have explicit Hs. Consider calling AddHs()\n",
      "[10:40:43] Molecule does not have explicit Hs. Consider calling AddHs()\n"
     ]
    },
    {
     "name": "stdout",
     "output_type": "stream",
     "text": [
      "0\n",
      "no conformer for MolPort-046-196-907\n",
      "0\n",
      "no conformer for MolPort-046-416-299\n"
     ]
    },
    {
     "name": "stderr",
     "output_type": "stream",
     "text": [
      "[10:40:44] Molecule does not have explicit Hs. Consider calling AddHs()\n",
      "[10:40:44] Molecule does not have explicit Hs. Consider calling AddHs()\n"
     ]
    },
    {
     "name": "stdout",
     "output_type": "stream",
     "text": [
      "1\n",
      "1\n"
     ]
    },
    {
     "name": "stderr",
     "output_type": "stream",
     "text": [
      "[10:40:44] Molecule does not have explicit Hs. Consider calling AddHs()\n",
      "[10:40:44] Molecule does not have explicit Hs. Consider calling AddHs()\n"
     ]
    },
    {
     "name": "stdout",
     "output_type": "stream",
     "text": [
      "78\n",
      "0\n",
      "no conformer for MolPort-046-515-022\n"
     ]
    },
    {
     "name": "stderr",
     "output_type": "stream",
     "text": [
      "[10:40:44] Molecule does not have explicit Hs. Consider calling AddHs()\n",
      "[10:40:44] Molecule does not have explicit Hs. Consider calling AddHs()\n"
     ]
    },
    {
     "name": "stdout",
     "output_type": "stream",
     "text": [
      "0\n",
      "no conformer for MolPort-046-515-776\n",
      "0\n",
      "no conformer for MolPort-046-517-119\n",
      "0\n",
      "no conformer for MolPort-046-520-753\n"
     ]
    },
    {
     "name": "stderr",
     "output_type": "stream",
     "text": [
      "[10:40:45] Molecule does not have explicit Hs. Consider calling AddHs()\n",
      "[10:40:45] Molecule does not have explicit Hs. Consider calling AddHs()\n",
      "[10:40:45] Molecule does not have explicit Hs. Consider calling AddHs()\n"
     ]
    },
    {
     "name": "stdout",
     "output_type": "stream",
     "text": [
      "0\n",
      "no conformer for MolPort-046-525-236\n",
      "0\n",
      "no conformer for MolPort-046-525-527\n",
      "0\n",
      "no conformer for MolPort-046-528-097\n"
     ]
    },
    {
     "name": "stderr",
     "output_type": "stream",
     "text": [
      "[10:40:45] Molecule does not have explicit Hs. Consider calling AddHs()\n",
      "[10:40:45] Molecule does not have explicit Hs. Consider calling AddHs()\n",
      "[10:40:45] Molecule does not have explicit Hs. Consider calling AddHs()\n"
     ]
    },
    {
     "name": "stdout",
     "output_type": "stream",
     "text": [
      "0\n",
      "no conformer for MolPort-046-529-194\n",
      "0\n",
      "no conformer for MolPort-046-553-124\n"
     ]
    },
    {
     "name": "stderr",
     "output_type": "stream",
     "text": [
      "[10:40:45] Molecule does not have explicit Hs. Consider calling AddHs()\n",
      "[10:40:45] Molecule does not have explicit Hs. Consider calling AddHs()\n"
     ]
    },
    {
     "name": "stdout",
     "output_type": "stream",
     "text": [
      "0\n",
      "no conformer for MolPort-046-559-412\n",
      "0\n",
      "no conformer for MolPort-046-563-063\n"
     ]
    },
    {
     "name": "stderr",
     "output_type": "stream",
     "text": [
      "[10:40:45] Molecule does not have explicit Hs. Consider calling AddHs()\n",
      "[10:40:45] Molecule does not have explicit Hs. Consider calling AddHs()\n"
     ]
    },
    {
     "name": "stdout",
     "output_type": "stream",
     "text": [
      "0\n",
      "no conformer for MolPort-046-566-603\n",
      "0\n",
      "no conformer for MolPort-046-570-913\n"
     ]
    },
    {
     "name": "stderr",
     "output_type": "stream",
     "text": [
      "[10:40:46] Molecule does not have explicit Hs. Consider calling AddHs()\n",
      "[10:40:46] Molecule does not have explicit Hs. Consider calling AddHs()\n"
     ]
    },
    {
     "name": "stdout",
     "output_type": "stream",
     "text": [
      "0\n",
      "no conformer for MolPort-046-570-956\n",
      "0\n",
      "no conformer for MolPort-046-574-236\n",
      "0\n",
      "no conformer for MolPort-046-575-723\n"
     ]
    },
    {
     "name": "stderr",
     "output_type": "stream",
     "text": [
      "[10:40:46] Molecule does not have explicit Hs. Consider calling AddHs()\n",
      "[10:40:46] Molecule does not have explicit Hs. Consider calling AddHs()\n",
      "[10:40:46] Molecule does not have explicit Hs. Consider calling AddHs()\n"
     ]
    },
    {
     "name": "stdout",
     "output_type": "stream",
     "text": [
      "0\n",
      "no conformer for MolPort-046-579-923\n",
      "0\n",
      "no conformer for MolPort-046-592-211\n",
      "0\n",
      "no conformer for MolPort-046-592-212\n"
     ]
    },
    {
     "name": "stderr",
     "output_type": "stream",
     "text": [
      "[10:40:46] Molecule does not have explicit Hs. Consider calling AddHs()\n",
      "[10:40:46] Molecule does not have explicit Hs. Consider calling AddHs()\n",
      "[10:40:46] Molecule does not have explicit Hs. Consider calling AddHs()\n"
     ]
    },
    {
     "name": "stdout",
     "output_type": "stream",
     "text": [
      "0\n",
      "no conformer for MolPort-046-601-752\n",
      "0\n",
      "no conformer for MolPort-046-601-881\n"
     ]
    },
    {
     "name": "stderr",
     "output_type": "stream",
     "text": [
      "[10:40:46] Molecule does not have explicit Hs. Consider calling AddHs()\n",
      "[10:40:47] Molecule does not have explicit Hs. Consider calling AddHs()\n"
     ]
    },
    {
     "name": "stdout",
     "output_type": "stream",
     "text": [
      "0\n",
      "no conformer for MolPort-046-607-798\n"
     ]
    },
    {
     "name": "stderr",
     "output_type": "stream",
     "text": [
      "[10:40:47] Molecule does not have explicit Hs. Consider calling AddHs()\n"
     ]
    },
    {
     "name": "stdout",
     "output_type": "stream",
     "text": [
      "0\n",
      "no conformer for MolPort-046-607-925\n"
     ]
    },
    {
     "name": "stderr",
     "output_type": "stream",
     "text": [
      "[10:40:47] Molecule does not have explicit Hs. Consider calling AddHs()\n"
     ]
    },
    {
     "name": "stdout",
     "output_type": "stream",
     "text": [
      "0\n",
      "no conformer for MolPort-046-607-965\n",
      "0\n",
      "no conformer for MolPort-046-609-663\n"
     ]
    },
    {
     "name": "stderr",
     "output_type": "stream",
     "text": [
      "[10:40:47] Molecule does not have explicit Hs. Consider calling AddHs()\n",
      "[10:40:47] Molecule does not have explicit Hs. Consider calling AddHs()\n"
     ]
    },
    {
     "name": "stdout",
     "output_type": "stream",
     "text": [
      "0\n",
      "no conformer for MolPort-046-609-795\n",
      "2\n"
     ]
    },
    {
     "name": "stderr",
     "output_type": "stream",
     "text": [
      "[10:40:47] Molecule does not have explicit Hs. Consider calling AddHs()\n",
      "[10:40:48] Molecule does not have explicit Hs. Consider calling AddHs()\n"
     ]
    },
    {
     "name": "stdout",
     "output_type": "stream",
     "text": [
      "0\n",
      "no conformer for MolPort-046-614-587\n",
      "0\n",
      "no conformer for MolPort-046-614-677\n"
     ]
    },
    {
     "name": "stderr",
     "output_type": "stream",
     "text": [
      "[10:40:48] Molecule does not have explicit Hs. Consider calling AddHs()\n",
      "[10:40:48] Molecule does not have explicit Hs. Consider calling AddHs()\n"
     ]
    },
    {
     "name": "stdout",
     "output_type": "stream",
     "text": [
      "0\n",
      "no conformer for MolPort-046-618-228\n",
      "0\n",
      "no conformer for MolPort-046-618-307\n"
     ]
    },
    {
     "name": "stderr",
     "output_type": "stream",
     "text": [
      "[10:40:48] Molecule does not have explicit Hs. Consider calling AddHs()\n",
      "[10:40:48] Molecule does not have explicit Hs. Consider calling AddHs()\n"
     ]
    },
    {
     "name": "stdout",
     "output_type": "stream",
     "text": [
      "0\n",
      "no conformer for MolPort-046-618-554\n",
      "0\n",
      "no conformer for MolPort-046-618-713\n"
     ]
    },
    {
     "name": "stderr",
     "output_type": "stream",
     "text": [
      "[10:40:48] Molecule does not have explicit Hs. Consider calling AddHs()\n",
      "[10:40:48] Molecule does not have explicit Hs. Consider calling AddHs()\n"
     ]
    },
    {
     "name": "stdout",
     "output_type": "stream",
     "text": [
      "0\n",
      "no conformer for MolPort-046-618-899\n"
     ]
    },
    {
     "name": "stderr",
     "output_type": "stream",
     "text": [
      "[10:40:49] Molecule does not have explicit Hs. Consider calling AddHs()\n"
     ]
    },
    {
     "name": "stdout",
     "output_type": "stream",
     "text": [
      "1\n",
      "0\n",
      "no conformer for MolPort-046-620-490\n"
     ]
    },
    {
     "name": "stderr",
     "output_type": "stream",
     "text": [
      "[10:40:49] Molecule does not have explicit Hs. Consider calling AddHs()\n",
      "[10:40:49] Molecule does not have explicit Hs. Consider calling AddHs()\n"
     ]
    },
    {
     "name": "stdout",
     "output_type": "stream",
     "text": [
      "0\n",
      "no conformer for MolPort-047-732-511\n",
      "0\n",
      "no conformer for MolPort-046-172-353\n"
     ]
    },
    {
     "name": "stderr",
     "output_type": "stream",
     "text": [
      "[10:40:49] Molecule does not have explicit Hs. Consider calling AddHs()\n",
      "[10:40:49] Molecule does not have explicit Hs. Consider calling AddHs()\n"
     ]
    },
    {
     "name": "stdout",
     "output_type": "stream",
     "text": [
      "0\n",
      "no conformer for MolPort-046-177-505\n",
      "0\n",
      "no conformer for MolPort-046-182-743\n",
      "0\n",
      "no conformer for MolPort-046-189-804\n"
     ]
    },
    {
     "name": "stderr",
     "output_type": "stream",
     "text": [
      "[10:40:49] Molecule does not have explicit Hs. Consider calling AddHs()\n",
      "[10:40:49] Molecule does not have explicit Hs. Consider calling AddHs()\n",
      "[10:40:49] Molecule does not have explicit Hs. Consider calling AddHs()\n"
     ]
    },
    {
     "name": "stdout",
     "output_type": "stream",
     "text": [
      "0\n",
      "no conformer for MolPort-046-191-152\n",
      "0\n",
      "no conformer for MolPort-046-513-110\n"
     ]
    },
    {
     "name": "stderr",
     "output_type": "stream",
     "text": [
      "[10:40:49] Molecule does not have explicit Hs. Consider calling AddHs()\n",
      "[10:40:50] Molecule does not have explicit Hs. Consider calling AddHs()\n"
     ]
    },
    {
     "name": "stdout",
     "output_type": "stream",
     "text": [
      "0\n",
      "no conformer for MolPort-046-514-690\n",
      "0\n",
      "no conformer for MolPort-046-515-508\n",
      "0\n",
      "no conformer for MolPort-046-516-824\n"
     ]
    },
    {
     "name": "stderr",
     "output_type": "stream",
     "text": [
      "[10:40:50] Molecule does not have explicit Hs. Consider calling AddHs()\n",
      "[10:40:50] Molecule does not have explicit Hs. Consider calling AddHs()\n",
      "[10:40:50] Molecule does not have explicit Hs. Consider calling AddHs()\n"
     ]
    },
    {
     "name": "stdout",
     "output_type": "stream",
     "text": [
      "0\n",
      "no conformer for MolPort-046-522-065\n",
      "0\n",
      "no conformer for MolPort-046-528-466\n",
      "0\n",
      "no conformer for MolPort-046-554-172\n"
     ]
    },
    {
     "name": "stderr",
     "output_type": "stream",
     "text": [
      "[10:40:50] Molecule does not have explicit Hs. Consider calling AddHs()\n",
      "[10:40:50] Molecule does not have explicit Hs. Consider calling AddHs()\n",
      "[10:40:50] Molecule does not have explicit Hs. Consider calling AddHs()\n"
     ]
    },
    {
     "name": "stdout",
     "output_type": "stream",
     "text": [
      "0\n",
      "no conformer for MolPort-046-557-405\n",
      "0\n",
      "no conformer for MolPort-046-557-483\n"
     ]
    },
    {
     "name": "stderr",
     "output_type": "stream",
     "text": [
      "[10:40:50] Molecule does not have explicit Hs. Consider calling AddHs()\n",
      "[10:40:50] Molecule does not have explicit Hs. Consider calling AddHs()\n"
     ]
    },
    {
     "name": "stdout",
     "output_type": "stream",
     "text": [
      "0\n",
      "no conformer for MolPort-046-557-937\n"
     ]
    },
    {
     "name": "stderr",
     "output_type": "stream",
     "text": [
      "[10:40:50] Molecule does not have explicit Hs. Consider calling AddHs()\n"
     ]
    },
    {
     "name": "stdout",
     "output_type": "stream",
     "text": [
      "0\n",
      "no conformer for MolPort-046-569-379\n",
      "0\n",
      "no conformer for MolPort-046-571-505\n",
      "0\n",
      "no conformer for MolPort-046-571-988\n"
     ]
    },
    {
     "name": "stderr",
     "output_type": "stream",
     "text": [
      "[10:40:51] Molecule does not have explicit Hs. Consider calling AddHs()\n",
      "[10:40:51] Molecule does not have explicit Hs. Consider calling AddHs()\n",
      "[10:40:51] Molecule does not have explicit Hs. Consider calling AddHs()\n"
     ]
    },
    {
     "name": "stdout",
     "output_type": "stream",
     "text": [
      "0\n",
      "no conformer for MolPort-046-575-129\n",
      "0\n",
      "no conformer for MolPort-046-579-590\n"
     ]
    },
    {
     "name": "stderr",
     "output_type": "stream",
     "text": [
      "[10:40:51] Molecule does not have explicit Hs. Consider calling AddHs()\n",
      "[10:40:51] Molecule does not have explicit Hs. Consider calling AddHs()\n"
     ]
    },
    {
     "name": "stdout",
     "output_type": "stream",
     "text": [
      "0\n",
      "no conformer for MolPort-046-586-748\n",
      "0\n",
      "no conformer for MolPort-046-597-193\n"
     ]
    },
    {
     "name": "stderr",
     "output_type": "stream",
     "text": [
      "[10:40:51] Molecule does not have explicit Hs. Consider calling AddHs()\n",
      "[10:40:52] Molecule does not have explicit Hs. Consider calling AddHs()\n"
     ]
    },
    {
     "name": "stdout",
     "output_type": "stream",
     "text": [
      "0\n",
      "no conformer for MolPort-046-597-271\n",
      "0\n",
      "no conformer for MolPort-046-599-262\n"
     ]
    },
    {
     "name": "stderr",
     "output_type": "stream",
     "text": [
      "[10:40:52] Molecule does not have explicit Hs. Consider calling AddHs()\n",
      "[10:40:52] Molecule does not have explicit Hs. Consider calling AddHs()\n"
     ]
    },
    {
     "name": "stdout",
     "output_type": "stream",
     "text": [
      "0\n",
      "no conformer for MolPort-046-599-274\n",
      "0\n",
      "no conformer for MolPort-046-599-492\n"
     ]
    },
    {
     "name": "stderr",
     "output_type": "stream",
     "text": [
      "[10:40:52] Molecule does not have explicit Hs. Consider calling AddHs()\n",
      "[10:40:52] Molecule does not have explicit Hs. Consider calling AddHs()\n"
     ]
    },
    {
     "name": "stdout",
     "output_type": "stream",
     "text": [
      "0\n",
      "no conformer for MolPort-046-602-918\n"
     ]
    },
    {
     "name": "stderr",
     "output_type": "stream",
     "text": [
      "[10:40:53] Molecule does not have explicit Hs. Consider calling AddHs()\n"
     ]
    },
    {
     "name": "stdout",
     "output_type": "stream",
     "text": [
      "0\n",
      "no conformer for MolPort-046-603-108\n"
     ]
    },
    {
     "name": "stderr",
     "output_type": "stream",
     "text": [
      "[10:40:53] Molecule does not have explicit Hs. Consider calling AddHs()\n"
     ]
    },
    {
     "name": "stdout",
     "output_type": "stream",
     "text": [
      "0\n",
      "no conformer for MolPort-046-604-402\n"
     ]
    },
    {
     "name": "stderr",
     "output_type": "stream",
     "text": [
      "[10:40:53] Molecule does not have explicit Hs. Consider calling AddHs()\n"
     ]
    },
    {
     "name": "stdout",
     "output_type": "stream",
     "text": [
      "0\n",
      "no conformer for MolPort-046-606-214\n"
     ]
    },
    {
     "name": "stderr",
     "output_type": "stream",
     "text": [
      "[10:40:54] Molecule does not have explicit Hs. Consider calling AddHs()\n"
     ]
    },
    {
     "name": "stdout",
     "output_type": "stream",
     "text": [
      "0\n",
      "no conformer for MolPort-046-606-599\n",
      "0\n",
      "no conformer for MolPort-046-607-451\n"
     ]
    },
    {
     "name": "stderr",
     "output_type": "stream",
     "text": [
      "[10:40:54] Molecule does not have explicit Hs. Consider calling AddHs()\n",
      "[10:40:54] Molecule does not have explicit Hs. Consider calling AddHs()\n"
     ]
    },
    {
     "name": "stdout",
     "output_type": "stream",
     "text": [
      "0\n",
      "no conformer for MolPort-046-607-566\n",
      "0\n",
      "no conformer for MolPort-046-608-968\n"
     ]
    },
    {
     "name": "stderr",
     "output_type": "stream",
     "text": [
      "[10:40:54] Molecule does not have explicit Hs. Consider calling AddHs()\n",
      "[10:40:55] Molecule does not have explicit Hs. Consider calling AddHs()\n"
     ]
    },
    {
     "name": "stdout",
     "output_type": "stream",
     "text": [
      "0\n",
      "no conformer for MolPort-046-611-892\n",
      "0\n",
      "no conformer for MolPort-046-611-969\n"
     ]
    },
    {
     "name": "stderr",
     "output_type": "stream",
     "text": [
      "[10:40:55] Molecule does not have explicit Hs. Consider calling AddHs()\n",
      "[10:40:55] Molecule does not have explicit Hs. Consider calling AddHs()\n"
     ]
    },
    {
     "name": "stdout",
     "output_type": "stream",
     "text": [
      "0\n",
      "no conformer for MolPort-046-614-425\n",
      "0\n",
      "no conformer for MolPort-046-615-731\n"
     ]
    },
    {
     "name": "stderr",
     "output_type": "stream",
     "text": [
      "[10:40:55] Molecule does not have explicit Hs. Consider calling AddHs()\n",
      "[10:40:55] Molecule does not have explicit Hs. Consider calling AddHs()\n"
     ]
    },
    {
     "name": "stdout",
     "output_type": "stream",
     "text": [
      "0\n",
      "no conformer for MolPort-046-615-884\n",
      "0\n",
      "no conformer for MolPort-046-616-016\n",
      "0\n",
      "no conformer for MolPort-046-616-108\n"
     ]
    },
    {
     "name": "stderr",
     "output_type": "stream",
     "text": [
      "[10:40:55] Molecule does not have explicit Hs. Consider calling AddHs()\n",
      "[10:40:55] Molecule does not have explicit Hs. Consider calling AddHs()\n",
      "[10:40:56] Molecule does not have explicit Hs. Consider calling AddHs()\n"
     ]
    },
    {
     "name": "stdout",
     "output_type": "stream",
     "text": [
      "0\n",
      "no conformer for MolPort-046-617-384\n",
      "0\n",
      "no conformer for MolPort-046-617-399\n"
     ]
    },
    {
     "name": "stderr",
     "output_type": "stream",
     "text": [
      "[10:40:56] Molecule does not have explicit Hs. Consider calling AddHs()\n",
      "[10:40:56] Molecule does not have explicit Hs. Consider calling AddHs()\n"
     ]
    },
    {
     "name": "stdout",
     "output_type": "stream",
     "text": [
      "0\n",
      "no conformer for MolPort-046-617-679\n",
      "0\n",
      "no conformer for MolPort-046-619-901\n"
     ]
    },
    {
     "name": "stderr",
     "output_type": "stream",
     "text": [
      "[10:40:56] Molecule does not have explicit Hs. Consider calling AddHs()\n",
      "[10:40:56] Molecule does not have explicit Hs. Consider calling AddHs()\n"
     ]
    },
    {
     "name": "stdout",
     "output_type": "stream",
     "text": [
      "0\n",
      "no conformer for MolPort-046-620-095\n",
      "0\n",
      "no conformer for MolPort-046-620-762\n"
     ]
    },
    {
     "name": "stderr",
     "output_type": "stream",
     "text": [
      "[10:40:56] Molecule does not have explicit Hs. Consider calling AddHs()\n",
      "[10:40:56] Molecule does not have explicit Hs. Consider calling AddHs()\n"
     ]
    },
    {
     "name": "stdout",
     "output_type": "stream",
     "text": [
      "0\n",
      "no conformer for MolPort-046-621-879\n"
     ]
    },
    {
     "name": "stderr",
     "output_type": "stream",
     "text": [
      "[10:40:57] Molecule does not have explicit Hs. Consider calling AddHs()\n"
     ]
    },
    {
     "name": "stdout",
     "output_type": "stream",
     "text": [
      "0\n",
      "no conformer for MolPort-046-621-982\n"
     ]
    },
    {
     "name": "stderr",
     "output_type": "stream",
     "text": [
      "[10:40:57] Molecule does not have explicit Hs. Consider calling AddHs()\n"
     ]
    },
    {
     "name": "stdout",
     "output_type": "stream",
     "text": [
      "0\n",
      "no conformer for MolPort-046-622-255\n"
     ]
    },
    {
     "name": "stderr",
     "output_type": "stream",
     "text": [
      "[10:40:57] Molecule does not have explicit Hs. Consider calling AddHs()\n"
     ]
    },
    {
     "name": "stdout",
     "output_type": "stream",
     "text": [
      "0\n",
      "no conformer for MolPort-046-622-388\n",
      "0\n",
      "no conformer for MolPort-046-783-222\n"
     ]
    },
    {
     "name": "stderr",
     "output_type": "stream",
     "text": [
      "[10:40:57] Molecule does not have explicit Hs. Consider calling AddHs()\n",
      "[10:40:57] Molecule does not have explicit Hs. Consider calling AddHs()\n"
     ]
    },
    {
     "name": "stdout",
     "output_type": "stream",
     "text": [
      "0\n",
      "no conformer for MolPort-046-783-963\n",
      "0\n",
      "no conformer for MolPort-046-785-695\n"
     ]
    },
    {
     "name": "stderr",
     "output_type": "stream",
     "text": [
      "[10:40:58] Molecule does not have explicit Hs. Consider calling AddHs()\n",
      "[10:40:58] Molecule does not have explicit Hs. Consider calling AddHs()\n"
     ]
    },
    {
     "name": "stdout",
     "output_type": "stream",
     "text": [
      "41\n",
      "0\n",
      "no conformer for MolPort-046-800-698\n"
     ]
    },
    {
     "name": "stderr",
     "output_type": "stream",
     "text": [
      "[10:40:58] Molecule does not have explicit Hs. Consider calling AddHs()\n",
      "[10:40:58] Molecule does not have explicit Hs. Consider calling AddHs()\n"
     ]
    },
    {
     "name": "stdout",
     "output_type": "stream",
     "text": [
      "70\n"
     ]
    },
    {
     "name": "stderr",
     "output_type": "stream",
     "text": [
      "[10:40:58] Molecule does not have explicit Hs. Consider calling AddHs()\n"
     ]
    },
    {
     "name": "stdout",
     "output_type": "stream",
     "text": [
      "31\n",
      "0\n",
      "no conformer for MolPort-047-135-653\n"
     ]
    },
    {
     "name": "stderr",
     "output_type": "stream",
     "text": [
      "[10:40:59] Molecule does not have explicit Hs. Consider calling AddHs()\n",
      "[10:40:59] Molecule does not have explicit Hs. Consider calling AddHs()\n"
     ]
    },
    {
     "name": "stdout",
     "output_type": "stream",
     "text": [
      "0\n",
      "no conformer for MolPort-047-137-017\n",
      "0\n",
      "no conformer for MolPort-047-137-181\n"
     ]
    },
    {
     "name": "stderr",
     "output_type": "stream",
     "text": [
      "[10:41:00] Molecule does not have explicit Hs. Consider calling AddHs()\n",
      "[10:41:00] Molecule does not have explicit Hs. Consider calling AddHs()\n"
     ]
    },
    {
     "name": "stdout",
     "output_type": "stream",
     "text": [
      "0\n",
      "no conformer for MolPort-047-137-289\n",
      "0\n",
      "no conformer for MolPort-047-137-337\n"
     ]
    },
    {
     "name": "stderr",
     "output_type": "stream",
     "text": [
      "[10:41:00] Molecule does not have explicit Hs. Consider calling AddHs()\n",
      "[10:41:00] Molecule does not have explicit Hs. Consider calling AddHs()\n",
      "[10:41:00] Molecule does not have explicit Hs. Consider calling AddHs()\n"
     ]
    },
    {
     "name": "stdout",
     "output_type": "stream",
     "text": [
      "0\n",
      "no conformer for MolPort-047-137-415\n",
      "0\n",
      "no conformer for MolPort-047-138-029\n"
     ]
    },
    {
     "name": "stderr",
     "output_type": "stream",
     "text": [
      "[10:41:00] Molecule does not have explicit Hs. Consider calling AddHs()\n",
      "[10:41:01] Molecule does not have explicit Hs. Consider calling AddHs()\n"
     ]
    },
    {
     "name": "stdout",
     "output_type": "stream",
     "text": [
      "0\n",
      "no conformer for MolPort-047-140-236\n",
      "0\n",
      "no conformer for MolPort-047-141-441\n"
     ]
    },
    {
     "name": "stderr",
     "output_type": "stream",
     "text": [
      "[10:41:01] Molecule does not have explicit Hs. Consider calling AddHs()\n",
      "[10:41:01] Molecule does not have explicit Hs. Consider calling AddHs()\n"
     ]
    },
    {
     "name": "stdout",
     "output_type": "stream",
     "text": [
      "0\n",
      "no conformer for MolPort-047-141-683\n",
      "0\n",
      "no conformer for MolPort-047-143-124\n"
     ]
    },
    {
     "name": "stderr",
     "output_type": "stream",
     "text": [
      "[10:41:01] Molecule does not have explicit Hs. Consider calling AddHs()\n",
      "[10:41:01] Molecule does not have explicit Hs. Consider calling AddHs()\n"
     ]
    },
    {
     "name": "stdout",
     "output_type": "stream",
     "text": [
      "0\n",
      "no conformer for MolPort-047-143-390\n",
      "0\n",
      "no conformer for MolPort-047-152-878\n",
      "0\n",
      "no conformer for MolPort-047-385-813\n",
      "0\n",
      "no conformer for MolPort-047-394-256\n",
      "0\n",
      "no conformer for MolPort-047-394-555\n"
     ]
    },
    {
     "name": "stderr",
     "output_type": "stream",
     "text": [
      "[10:41:02] Molecule does not have explicit Hs. Consider calling AddHs()\n",
      "[10:41:02] Molecule does not have explicit Hs. Consider calling AddHs()\n",
      "[10:41:02] Molecule does not have explicit Hs. Consider calling AddHs()\n",
      "[10:41:02] Molecule does not have explicit Hs. Consider calling AddHs()\n"
     ]
    },
    {
     "name": "stdout",
     "output_type": "stream",
     "text": [
      "0\n",
      "no conformer for MolPort-047-402-377\n",
      "0\n",
      "no conformer for MolPort-047-402-532\n"
     ]
    },
    {
     "name": "stderr",
     "output_type": "stream",
     "text": [
      "[10:41:02] Molecule does not have explicit Hs. Consider calling AddHs()\n",
      "[10:41:02] Molecule does not have explicit Hs. Consider calling AddHs()\n"
     ]
    },
    {
     "name": "stdout",
     "output_type": "stream",
     "text": [
      "0\n",
      "no conformer for MolPort-047-532-667\n",
      "0\n",
      "no conformer for MolPort-047-591-749\n",
      "9\n"
     ]
    },
    {
     "name": "stderr",
     "output_type": "stream",
     "text": [
      "[10:41:02] Molecule does not have explicit Hs. Consider calling AddHs()\n",
      "[10:41:02] Molecule does not have explicit Hs. Consider calling AddHs()\n",
      "[10:41:02] Molecule does not have explicit Hs. Consider calling AddHs()\n"
     ]
    },
    {
     "name": "stdout",
     "output_type": "stream",
     "text": [
      "0\n",
      "no conformer for MolPort-047-596-409\n",
      "0\n",
      "no conformer for MolPort-047-712-375\n"
     ]
    },
    {
     "name": "stderr",
     "output_type": "stream",
     "text": [
      "[10:41:03] Molecule does not have explicit Hs. Consider calling AddHs()\n",
      "[10:41:03] Molecule does not have explicit Hs. Consider calling AddHs()\n"
     ]
    },
    {
     "name": "stdout",
     "output_type": "stream",
     "text": [
      "0\n",
      "no conformer for MolPort-047-712-385\n",
      "0\n",
      "no conformer for MolPort-047-712-612\n",
      "0\n",
      "no conformer for MolPort-047-712-860\n"
     ]
    },
    {
     "name": "stderr",
     "output_type": "stream",
     "text": [
      "[10:41:03] Molecule does not have explicit Hs. Consider calling AddHs()\n",
      "[10:41:03] Molecule does not have explicit Hs. Consider calling AddHs()\n",
      "[10:41:03] Molecule does not have explicit Hs. Consider calling AddHs()\n"
     ]
    },
    {
     "name": "stdout",
     "output_type": "stream",
     "text": [
      "0\n",
      "no conformer for MolPort-047-712-932\n",
      "0\n",
      "no conformer for MolPort-047-712-942\n"
     ]
    },
    {
     "name": "stderr",
     "output_type": "stream",
     "text": [
      "[10:41:03] Molecule does not have explicit Hs. Consider calling AddHs()\n",
      "[10:41:03] Molecule does not have explicit Hs. Consider calling AddHs()\n"
     ]
    },
    {
     "name": "stdout",
     "output_type": "stream",
     "text": [
      "0\n",
      "no conformer for MolPort-047-713-080\n",
      "0\n",
      "no conformer for MolPort-047-713-608\n"
     ]
    },
    {
     "name": "stderr",
     "output_type": "stream",
     "text": [
      "[10:41:03] Molecule does not have explicit Hs. Consider calling AddHs()\n",
      "[10:41:04] Molecule does not have explicit Hs. Consider calling AddHs()\n"
     ]
    },
    {
     "name": "stdout",
     "output_type": "stream",
     "text": [
      "0\n",
      "no conformer for MolPort-047-713-900\n",
      "0\n",
      "no conformer for MolPort-047-718-413\n"
     ]
    },
    {
     "name": "stderr",
     "output_type": "stream",
     "text": [
      "[10:41:04] Molecule does not have explicit Hs. Consider calling AddHs()\n",
      "[10:41:04] Molecule does not have explicit Hs. Consider calling AddHs()\n"
     ]
    },
    {
     "name": "stdout",
     "output_type": "stream",
     "text": [
      "0\n",
      "no conformer for MolPort-047-727-854\n",
      "0\n",
      "no conformer for MolPort-047-730-500\n"
     ]
    },
    {
     "name": "stderr",
     "output_type": "stream",
     "text": [
      "[10:41:04] Molecule does not have explicit Hs. Consider calling AddHs()\n",
      "[10:41:04] Molecule does not have explicit Hs. Consider calling AddHs()\n"
     ]
    },
    {
     "name": "stdout",
     "output_type": "stream",
     "text": [
      "0\n",
      "no conformer for MolPort-047-731-829\n",
      "0\n",
      "no conformer for MolPort-047-731-924\n"
     ]
    },
    {
     "name": "stderr",
     "output_type": "stream",
     "text": [
      "[10:41:04] Molecule does not have explicit Hs. Consider calling AddHs()\n",
      "[10:41:04] Molecule does not have explicit Hs. Consider calling AddHs()\n"
     ]
    },
    {
     "name": "stdout",
     "output_type": "stream",
     "text": [
      "0\n",
      "no conformer for MolPort-051-560-923\n",
      "0\n",
      "no conformer for MolPort-010-895-475\n"
     ]
    },
    {
     "name": "stderr",
     "output_type": "stream",
     "text": [
      "[10:41:04] Molecule does not have explicit Hs. Consider calling AddHs()\n",
      "[10:41:04] Molecule does not have explicit Hs. Consider calling AddHs()\n"
     ]
    },
    {
     "name": "stdout",
     "output_type": "stream",
     "text": [
      "0\n",
      "no conformer for MolPort-046-757-637\n",
      "0\n",
      "no conformer for MolPort-046-780-801\n"
     ]
    },
    {
     "name": "stderr",
     "output_type": "stream",
     "text": [
      "[10:41:05] Molecule does not have explicit Hs. Consider calling AddHs()\n",
      "[10:41:05] Molecule does not have explicit Hs. Consider calling AddHs()\n"
     ]
    },
    {
     "name": "stdout",
     "output_type": "stream",
     "text": [
      "0\n",
      "no conformer for MolPort-046-783-607\n",
      "0\n",
      "no conformer for MolPort-046-784-727\n"
     ]
    },
    {
     "name": "stderr",
     "output_type": "stream",
     "text": [
      "[10:41:05] Molecule does not have explicit Hs. Consider calling AddHs()\n",
      "[10:41:05] Molecule does not have explicit Hs. Consider calling AddHs()\n"
     ]
    },
    {
     "name": "stdout",
     "output_type": "stream",
     "text": [
      "0\n",
      "no conformer for MolPort-046-784-882\n",
      "0\n",
      "no conformer for MolPort-046-784-999\n"
     ]
    },
    {
     "name": "stderr",
     "output_type": "stream",
     "text": [
      "[10:41:06] Molecule does not have explicit Hs. Consider calling AddHs()\n",
      "[10:41:06] Molecule does not have explicit Hs. Consider calling AddHs()\n"
     ]
    },
    {
     "name": "stdout",
     "output_type": "stream",
     "text": [
      "0\n",
      "no conformer for MolPort-046-785-113\n",
      "0\n",
      "no conformer for MolPort-046-832-461\n",
      "0\n",
      "no conformer for MolPort-046-832-479\n"
     ]
    },
    {
     "name": "stderr",
     "output_type": "stream",
     "text": [
      "[10:41:06] Molecule does not have explicit Hs. Consider calling AddHs()\n",
      "[10:41:06] Molecule does not have explicit Hs. Consider calling AddHs()\n",
      "[10:41:06] Molecule does not have explicit Hs. Consider calling AddHs()\n"
     ]
    },
    {
     "name": "stdout",
     "output_type": "stream",
     "text": [
      "0\n",
      "no conformer for MolPort-046-838-874\n"
     ]
    },
    {
     "name": "stderr",
     "output_type": "stream",
     "text": [
      "[10:41:06] Molecule does not have explicit Hs. Consider calling AddHs()\n"
     ]
    },
    {
     "name": "stdout",
     "output_type": "stream",
     "text": [
      "0\n",
      "no conformer for MolPort-047-136-386\n",
      "0\n",
      "no conformer for MolPort-047-142-415\n"
     ]
    },
    {
     "name": "stderr",
     "output_type": "stream",
     "text": [
      "[10:41:06] Molecule does not have explicit Hs. Consider calling AddHs()\n",
      "[10:41:06] Molecule does not have explicit Hs. Consider calling AddHs()\n"
     ]
    },
    {
     "name": "stdout",
     "output_type": "stream",
     "text": [
      "0\n",
      "no conformer for MolPort-047-142-512\n",
      "0\n",
      "no conformer for MolPort-047-142-577\n",
      "0\n",
      "no conformer for MolPort-047-142-844\n"
     ]
    },
    {
     "name": "stderr",
     "output_type": "stream",
     "text": [
      "[10:41:07] Molecule does not have explicit Hs. Consider calling AddHs()\n",
      "[10:41:07] Molecule does not have explicit Hs. Consider calling AddHs()\n",
      "[10:41:07] Molecule does not have explicit Hs. Consider calling AddHs()\n"
     ]
    },
    {
     "name": "stdout",
     "output_type": "stream",
     "text": [
      "0\n",
      "no conformer for MolPort-047-153-863\n",
      "0\n",
      "no conformer for MolPort-047-207-773\n",
      "0\n",
      "no conformer for MolPort-047-374-922\n"
     ]
    },
    {
     "name": "stderr",
     "output_type": "stream",
     "text": [
      "[10:41:07] Molecule does not have explicit Hs. Consider calling AddHs()\n",
      "[10:41:07] Molecule does not have explicit Hs. Consider calling AddHs()\n",
      "[10:41:07] Molecule does not have explicit Hs. Consider calling AddHs()\n"
     ]
    },
    {
     "name": "stdout",
     "output_type": "stream",
     "text": [
      "0\n",
      "no conformer for MolPort-047-377-394\n",
      "0\n",
      "no conformer for MolPort-047-380-359\n"
     ]
    },
    {
     "name": "stderr",
     "output_type": "stream",
     "text": [
      "[10:41:08] Molecule does not have explicit Hs. Consider calling AddHs()\n",
      "[10:41:08] Molecule does not have explicit Hs. Consider calling AddHs()\n"
     ]
    },
    {
     "name": "stdout",
     "output_type": "stream",
     "text": [
      "0\n",
      "no conformer for MolPort-047-389-924\n",
      "0\n",
      "no conformer for MolPort-047-391-244\n"
     ]
    },
    {
     "name": "stderr",
     "output_type": "stream",
     "text": [
      "[10:41:08] Molecule does not have explicit Hs. Consider calling AddHs()\n",
      "[10:41:08] Molecule does not have explicit Hs. Consider calling AddHs()\n"
     ]
    },
    {
     "name": "stdout",
     "output_type": "stream",
     "text": [
      "0\n",
      "no conformer for MolPort-047-395-245\n",
      "0\n",
      "no conformer for MolPort-047-401-384\n"
     ]
    },
    {
     "name": "stderr",
     "output_type": "stream",
     "text": [
      "[10:41:09] Molecule does not have explicit Hs. Consider calling AddHs()\n",
      "[10:41:09] Molecule does not have explicit Hs. Consider calling AddHs()\n"
     ]
    },
    {
     "name": "stdout",
     "output_type": "stream",
     "text": [
      "0\n",
      "no conformer for MolPort-047-513-146\n",
      "0\n",
      "no conformer for MolPort-047-531-920\n"
     ]
    },
    {
     "name": "stderr",
     "output_type": "stream",
     "text": [
      "[10:41:09] Molecule does not have explicit Hs. Consider calling AddHs()\n",
      "[10:41:09] Molecule does not have explicit Hs. Consider calling AddHs()\n"
     ]
    },
    {
     "name": "stdout",
     "output_type": "stream",
     "text": [
      "0\n",
      "no conformer for MolPort-047-532-301\n",
      "1\n",
      "0\n",
      "no conformer for MolPort-047-596-245\n"
     ]
    },
    {
     "name": "stderr",
     "output_type": "stream",
     "text": [
      "[10:41:09] Molecule does not have explicit Hs. Consider calling AddHs()\n",
      "[10:41:09] Molecule does not have explicit Hs. Consider calling AddHs()\n",
      "[10:41:09] Molecule does not have explicit Hs. Consider calling AddHs()\n"
     ]
    },
    {
     "name": "stdout",
     "output_type": "stream",
     "text": [
      "0\n",
      "no conformer for MolPort-047-603-380\n"
     ]
    },
    {
     "name": "stderr",
     "output_type": "stream",
     "text": [
      "[10:41:10] Molecule does not have explicit Hs. Consider calling AddHs()\n"
     ]
    },
    {
     "name": "stdout",
     "output_type": "stream",
     "text": [
      "0\n",
      "no conformer for MolPort-047-603-659\n",
      "1\n",
      "0\n",
      "no conformer for MolPort-047-714-376\n"
     ]
    },
    {
     "name": "stderr",
     "output_type": "stream",
     "text": [
      "[10:41:10] Molecule does not have explicit Hs. Consider calling AddHs()\n",
      "[10:41:10] Molecule does not have explicit Hs. Consider calling AddHs()\n",
      "[10:41:10] Molecule does not have explicit Hs. Consider calling AddHs()\n",
      "[10:41:10] Molecule does not have explicit Hs. Consider calling AddHs()\n"
     ]
    },
    {
     "name": "stdout",
     "output_type": "stream",
     "text": [
      "0\n",
      "no conformer for MolPort-047-714-659\n",
      "0\n",
      "no conformer for MolPort-047-714-744\n"
     ]
    },
    {
     "name": "stderr",
     "output_type": "stream",
     "text": [
      "[10:41:10] Molecule does not have explicit Hs. Consider calling AddHs()\n",
      "[10:41:11] Molecule does not have explicit Hs. Consider calling AddHs()\n"
     ]
    },
    {
     "name": "stdout",
     "output_type": "stream",
     "text": [
      "0\n",
      "no conformer for MolPort-047-716-989\n",
      "0\n",
      "no conformer for MolPort-047-719-186\n"
     ]
    },
    {
     "name": "stderr",
     "output_type": "stream",
     "text": [
      "[10:41:11] Molecule does not have explicit Hs. Consider calling AddHs()\n",
      "[10:41:11] Molecule does not have explicit Hs. Consider calling AddHs()\n"
     ]
    },
    {
     "name": "stdout",
     "output_type": "stream",
     "text": [
      "0\n",
      "no conformer for MolPort-047-728-533\n",
      "0\n",
      "no conformer for MolPort-047-729-574\n",
      "1\n",
      "0\n",
      "no conformer for MolPort-047-900-351\n",
      "2\n"
     ]
    },
    {
     "name": "stderr",
     "output_type": "stream",
     "text": [
      "[10:41:11] Molecule does not have explicit Hs. Consider calling AddHs()\n",
      "[10:41:11] Molecule does not have explicit Hs. Consider calling AddHs()\n",
      "[10:41:11] Molecule does not have explicit Hs. Consider calling AddHs()\n",
      "[10:41:12] Molecule does not have explicit Hs. Consider calling AddHs()\n"
     ]
    },
    {
     "name": "stdout",
     "output_type": "stream",
     "text": [
      "0\n",
      "no conformer for MolPort-047-923-765\n",
      "0\n",
      "no conformer for MolPort-047-924-176\n"
     ]
    },
    {
     "name": "stderr",
     "output_type": "stream",
     "text": [
      "[10:41:12] Molecule does not have explicit Hs. Consider calling AddHs()\n",
      "[10:41:12] Molecule does not have explicit Hs. Consider calling AddHs()\n"
     ]
    },
    {
     "name": "stdout",
     "output_type": "stream",
     "text": [
      "0\n",
      "no conformer for MolPort-047-934-429\n",
      "0\n",
      "no conformer for MolPort-047-937-729\n"
     ]
    },
    {
     "name": "stderr",
     "output_type": "stream",
     "text": [
      "[10:41:12] Molecule does not have explicit Hs. Consider calling AddHs()\n",
      "[10:41:12] Molecule does not have explicit Hs. Consider calling AddHs()\n"
     ]
    },
    {
     "name": "stdout",
     "output_type": "stream",
     "text": [
      "0\n",
      "no conformer for MolPort-047-950-300\n",
      "0\n",
      "no conformer for MolPort-047-950-429\n"
     ]
    },
    {
     "name": "stderr",
     "output_type": "stream",
     "text": [
      "[10:41:12] Molecule does not have explicit Hs. Consider calling AddHs()\n",
      "[10:41:12] Molecule does not have explicit Hs. Consider calling AddHs()\n"
     ]
    },
    {
     "name": "stdout",
     "output_type": "stream",
     "text": [
      "0\n",
      "no conformer for MolPort-047-965-063\n",
      "30\n"
     ]
    },
    {
     "name": "stderr",
     "output_type": "stream",
     "text": [
      "[10:41:12] Molecule does not have explicit Hs. Consider calling AddHs()\n",
      "[10:41:12] Molecule does not have explicit Hs. Consider calling AddHs()\n"
     ]
    },
    {
     "name": "stdout",
     "output_type": "stream",
     "text": [
      "39\n",
      "0\n",
      "no conformer for MolPort-051-447-669\n"
     ]
    },
    {
     "name": "stderr",
     "output_type": "stream",
     "text": [
      "[10:41:13] Molecule does not have explicit Hs. Consider calling AddHs()\n",
      "[10:41:13] Molecule does not have explicit Hs. Consider calling AddHs()\n"
     ]
    },
    {
     "name": "stdout",
     "output_type": "stream",
     "text": [
      "0\n",
      "no conformer for MolPort-051-450-501\n",
      "0\n",
      "no conformer for MolPort-051-454-534\n"
     ]
    },
    {
     "name": "stderr",
     "output_type": "stream",
     "text": [
      "[10:41:13] Molecule does not have explicit Hs. Consider calling AddHs()\n",
      "[10:41:13] Molecule does not have explicit Hs. Consider calling AddHs()\n"
     ]
    },
    {
     "name": "stdout",
     "output_type": "stream",
     "text": [
      "0\n",
      "no conformer for MolPort-051-456-388\n",
      "0\n",
      "no conformer for MolPort-051-457-342\n"
     ]
    },
    {
     "name": "stderr",
     "output_type": "stream",
     "text": [
      "[10:41:13] Molecule does not have explicit Hs. Consider calling AddHs()\n",
      "[10:41:13] Molecule does not have explicit Hs. Consider calling AddHs()\n"
     ]
    },
    {
     "name": "stdout",
     "output_type": "stream",
     "text": [
      "0\n",
      "no conformer for MolPort-051-462-137\n",
      "0\n",
      "no conformer for MolPort-051-462-263\n",
      "0\n",
      "no conformer for MolPort-051-462-854\n"
     ]
    },
    {
     "name": "stderr",
     "output_type": "stream",
     "text": [
      "[10:41:13] Molecule does not have explicit Hs. Consider calling AddHs()\n",
      "[10:41:13] Molecule does not have explicit Hs. Consider calling AddHs()\n",
      "[10:41:14] Molecule does not have explicit Hs. Consider calling AddHs()\n"
     ]
    },
    {
     "name": "stdout",
     "output_type": "stream",
     "text": [
      "0\n",
      "no conformer for MolPort-051-463-605\n",
      "0\n",
      "no conformer for MolPort-051-463-803\n"
     ]
    },
    {
     "name": "stderr",
     "output_type": "stream",
     "text": [
      "[10:41:14] Molecule does not have explicit Hs. Consider calling AddHs()\n",
      "[10:41:14] Molecule does not have explicit Hs. Consider calling AddHs()\n"
     ]
    },
    {
     "name": "stdout",
     "output_type": "stream",
     "text": [
      "0\n",
      "no conformer for MolPort-051-464-224\n",
      "0\n",
      "no conformer for MolPort-051-468-311\n"
     ]
    },
    {
     "name": "stderr",
     "output_type": "stream",
     "text": [
      "[10:41:14] Molecule does not have explicit Hs. Consider calling AddHs()\n",
      "[10:41:14] Molecule does not have explicit Hs. Consider calling AddHs()\n"
     ]
    },
    {
     "name": "stdout",
     "output_type": "stream",
     "text": [
      "0\n",
      "no conformer for MolPort-051-469-341\n",
      "0\n",
      "no conformer for MolPort-051-470-711\n",
      "0\n",
      "no conformer for MolPort-051-475-692\n"
     ]
    },
    {
     "name": "stderr",
     "output_type": "stream",
     "text": [
      "[10:41:14] Molecule does not have explicit Hs. Consider calling AddHs()\n",
      "[10:41:14] Molecule does not have explicit Hs. Consider calling AddHs()\n",
      "[10:41:14] Molecule does not have explicit Hs. Consider calling AddHs()\n",
      "[10:41:14] Molecule does not have explicit Hs. Consider calling AddHs()\n"
     ]
    },
    {
     "name": "stdout",
     "output_type": "stream",
     "text": [
      "0\n",
      "no conformer for MolPort-051-494-543\n",
      "0\n",
      "no conformer for MolPort-051-496-926\n"
     ]
    },
    {
     "name": "stderr",
     "output_type": "stream",
     "text": [
      "[10:41:14] Molecule does not have explicit Hs. Consider calling AddHs()\n",
      "[10:41:15] Molecule does not have explicit Hs. Consider calling AddHs()\n",
      "[10:41:15] Molecule does not have explicit Hs. Consider calling AddHs()\n"
     ]
    },
    {
     "name": "stdout",
     "output_type": "stream",
     "text": [
      "0\n",
      "no conformer for MolPort-051-497-671\n",
      "0\n",
      "no conformer for MolPort-051-498-299\n",
      "0\n",
      "no conformer for MolPort-051-498-320\n",
      "0\n",
      "no conformer for MolPort-051-500-007\n"
     ]
    },
    {
     "name": "stderr",
     "output_type": "stream",
     "text": [
      "[10:41:15] Molecule does not have explicit Hs. Consider calling AddHs()\n",
      "[10:41:15] Molecule does not have explicit Hs. Consider calling AddHs()\n"
     ]
    },
    {
     "name": "stdout",
     "output_type": "stream",
     "text": [
      "0\n",
      "no conformer for MolPort-051-500-743\n",
      "0\n",
      "no conformer for MolPort-051-501-630\n"
     ]
    },
    {
     "name": "stderr",
     "output_type": "stream",
     "text": [
      "[10:41:15] Molecule does not have explicit Hs. Consider calling AddHs()\n",
      "[10:41:15] Molecule does not have explicit Hs. Consider calling AddHs()\n"
     ]
    },
    {
     "name": "stdout",
     "output_type": "stream",
     "text": [
      "0\n",
      "no conformer for MolPort-051-502-218\n",
      "0\n",
      "no conformer for MolPort-051-507-393\n"
     ]
    },
    {
     "name": "stderr",
     "output_type": "stream",
     "text": [
      "[10:41:15] Molecule does not have explicit Hs. Consider calling AddHs()\n",
      "[10:41:15] Molecule does not have explicit Hs. Consider calling AddHs()\n"
     ]
    },
    {
     "name": "stdout",
     "output_type": "stream",
     "text": [
      "1\n",
      "0\n",
      "no conformer for MolPort-051-513-024\n"
     ]
    },
    {
     "name": "stderr",
     "output_type": "stream",
     "text": [
      "[10:41:16] Molecule does not have explicit Hs. Consider calling AddHs()\n",
      "[10:41:16] Molecule does not have explicit Hs. Consider calling AddHs()\n"
     ]
    },
    {
     "name": "stdout",
     "output_type": "stream",
     "text": [
      "0\n",
      "no conformer for MolPort-051-513-045\n",
      "1\n"
     ]
    },
    {
     "name": "stderr",
     "output_type": "stream",
     "text": [
      "[10:41:16] Molecule does not have explicit Hs. Consider calling AddHs()\n",
      "[10:41:16] Molecule does not have explicit Hs. Consider calling AddHs()\n"
     ]
    },
    {
     "name": "stdout",
     "output_type": "stream",
     "text": [
      "0\n",
      "no conformer for MolPort-051-513-282\n",
      "0\n",
      "no conformer for MolPort-051-513-449\n"
     ]
    },
    {
     "name": "stderr",
     "output_type": "stream",
     "text": [
      "[10:41:16] Molecule does not have explicit Hs. Consider calling AddHs()\n",
      "[10:41:16] Molecule does not have explicit Hs. Consider calling AddHs()\n"
     ]
    },
    {
     "name": "stdout",
     "output_type": "stream",
     "text": [
      "0\n",
      "no conformer for MolPort-051-514-902\n",
      "0\n",
      "no conformer for MolPort-051-514-906\n"
     ]
    },
    {
     "name": "stderr",
     "output_type": "stream",
     "text": [
      "[10:41:17] Molecule does not have explicit Hs. Consider calling AddHs()\n",
      "[10:41:17] Molecule does not have explicit Hs. Consider calling AddHs()\n"
     ]
    },
    {
     "name": "stdout",
     "output_type": "stream",
     "text": [
      "0\n",
      "no conformer for MolPort-051-534-320\n",
      "0\n",
      "no conformer for MolPort-051-538-579\n"
     ]
    },
    {
     "name": "stderr",
     "output_type": "stream",
     "text": [
      "[10:41:17] Molecule does not have explicit Hs. Consider calling AddHs()\n",
      "[10:41:17] Molecule does not have explicit Hs. Consider calling AddHs()\n"
     ]
    },
    {
     "name": "stdout",
     "output_type": "stream",
     "text": [
      "0\n",
      "no conformer for MolPort-051-539-231\n",
      "0\n",
      "no conformer for MolPort-051-589-607\n",
      "0\n",
      "no conformer for MolPort-051-589-608\n"
     ]
    },
    {
     "name": "stderr",
     "output_type": "stream",
     "text": [
      "[10:41:17] Molecule does not have explicit Hs. Consider calling AddHs()\n",
      "[10:41:17] Molecule does not have explicit Hs. Consider calling AddHs()\n",
      "[10:41:17] Molecule does not have explicit Hs. Consider calling AddHs()\n"
     ]
    },
    {
     "name": "stdout",
     "output_type": "stream",
     "text": [
      "0\n",
      "no conformer for MolPort-051-598-634\n",
      "0\n",
      "no conformer for MolPort-010-895-527\n"
     ]
    },
    {
     "name": "stderr",
     "output_type": "stream",
     "text": [
      "[10:41:17] Molecule does not have explicit Hs. Consider calling AddHs()\n",
      "[10:41:18] Molecule does not have explicit Hs. Consider calling AddHs()\n"
     ]
    },
    {
     "name": "stdout",
     "output_type": "stream",
     "text": [
      "0\n",
      "no conformer for MolPort-047-733-131\n",
      "0\n",
      "no conformer for MolPort-047-733-311\n"
     ]
    },
    {
     "name": "stderr",
     "output_type": "stream",
     "text": [
      "[10:41:18] Molecule does not have explicit Hs. Consider calling AddHs()\n",
      "[10:41:18] Molecule does not have explicit Hs. Consider calling AddHs()\n"
     ]
    },
    {
     "name": "stdout",
     "output_type": "stream",
     "text": [
      "0\n",
      "no conformer for MolPort-047-733-580\n",
      "0\n",
      "no conformer for MolPort-047-736-039\n"
     ]
    },
    {
     "name": "stderr",
     "output_type": "stream",
     "text": [
      "[10:41:18] Molecule does not have explicit Hs. Consider calling AddHs()\n",
      "[10:41:18] Molecule does not have explicit Hs. Consider calling AddHs()\n"
     ]
    },
    {
     "name": "stdout",
     "output_type": "stream",
     "text": [
      "0\n",
      "no conformer for MolPort-047-792-782\n",
      "0\n",
      "no conformer for MolPort-047-922-093\n"
     ]
    },
    {
     "name": "stderr",
     "output_type": "stream",
     "text": [
      "[10:41:18] Molecule does not have explicit Hs. Consider calling AddHs()\n",
      "[10:41:18] Molecule does not have explicit Hs. Consider calling AddHs()\n"
     ]
    },
    {
     "name": "stdout",
     "output_type": "stream",
     "text": [
      "0\n",
      "no conformer for MolPort-047-922-866\n",
      "0\n",
      "no conformer for MolPort-047-939-408\n",
      "5\n"
     ]
    },
    {
     "name": "stderr",
     "output_type": "stream",
     "text": [
      "[10:41:18] Molecule does not have explicit Hs. Consider calling AddHs()\n",
      "[10:41:18] Molecule does not have explicit Hs. Consider calling AddHs()\n",
      "[10:41:19] Molecule does not have explicit Hs. Consider calling AddHs()\n"
     ]
    },
    {
     "name": "stdout",
     "output_type": "stream",
     "text": [
      "0\n",
      "no conformer for MolPort-051-505-149\n",
      "0\n",
      "no conformer for MolPort-051-514-252\n"
     ]
    },
    {
     "name": "stderr",
     "output_type": "stream",
     "text": [
      "[10:41:19] Molecule does not have explicit Hs. Consider calling AddHs()\n",
      "[10:41:19] Molecule does not have explicit Hs. Consider calling AddHs()\n"
     ]
    },
    {
     "name": "stdout",
     "output_type": "stream",
     "text": [
      "0\n",
      "no conformer for MolPort-051-514-269\n",
      "0\n",
      "no conformer for MolPort-051-617-614\n"
     ]
    },
    {
     "name": "stderr",
     "output_type": "stream",
     "text": [
      "[10:41:19] Molecule does not have explicit Hs. Consider calling AddHs()\n",
      "[10:41:19] Molecule does not have explicit Hs. Consider calling AddHs()\n"
     ]
    },
    {
     "name": "stdout",
     "output_type": "stream",
     "text": [
      "0\n",
      "no conformer for MolPort-051-617-789\n",
      "0\n",
      "no conformer for MolPort-051-617-943\n"
     ]
    },
    {
     "name": "stderr",
     "output_type": "stream",
     "text": [
      "[10:41:20] Molecule does not have explicit Hs. Consider calling AddHs()\n",
      "[10:41:20] Molecule does not have explicit Hs. Consider calling AddHs()\n"
     ]
    },
    {
     "name": "stdout",
     "output_type": "stream",
     "text": [
      "2\n",
      "0\n",
      "no conformer for MolPort-051-623-982\n"
     ]
    },
    {
     "name": "stderr",
     "output_type": "stream",
     "text": [
      "[10:41:20] Molecule does not have explicit Hs. Consider calling AddHs()\n",
      "[10:41:20] Molecule does not have explicit Hs. Consider calling AddHs()\n"
     ]
    },
    {
     "name": "stdout",
     "output_type": "stream",
     "text": [
      "0\n",
      "no conformer for MolPort-051-628-513\n",
      "0\n",
      "no conformer for MolPort-051-629-723\n"
     ]
    },
    {
     "name": "stderr",
     "output_type": "stream",
     "text": [
      "[10:41:20] Molecule does not have explicit Hs. Consider calling AddHs()\n",
      "[10:41:20] Molecule does not have explicit Hs. Consider calling AddHs()\n"
     ]
    },
    {
     "name": "stdout",
     "output_type": "stream",
     "text": [
      "0\n",
      "no conformer for MolPort-051-631-339\n",
      "0\n",
      "no conformer for MolPort-051-631-367\n"
     ]
    },
    {
     "name": "stderr",
     "output_type": "stream",
     "text": [
      "[10:41:20] Molecule does not have explicit Hs. Consider calling AddHs()\n",
      "[10:41:21] Molecule does not have explicit Hs. Consider calling AddHs()\n"
     ]
    },
    {
     "name": "stdout",
     "output_type": "stream",
     "text": [
      "0\n",
      "no conformer for MolPort-051-633-442\n",
      "0\n",
      "no conformer for MolPort-051-634-373\n"
     ]
    },
    {
     "name": "stderr",
     "output_type": "stream",
     "text": [
      "[10:41:21] Molecule does not have explicit Hs. Consider calling AddHs()\n",
      "[10:41:21] Molecule does not have explicit Hs. Consider calling AddHs()\n"
     ]
    },
    {
     "name": "stdout",
     "output_type": "stream",
     "text": [
      "0\n",
      "no conformer for MolPort-051-634-562\n",
      "0\n",
      "no conformer for MolPort-051-634-577\n"
     ]
    },
    {
     "name": "stderr",
     "output_type": "stream",
     "text": [
      "[10:41:21] Molecule does not have explicit Hs. Consider calling AddHs()\n",
      "[10:41:21] Molecule does not have explicit Hs. Consider calling AddHs()\n"
     ]
    },
    {
     "name": "stdout",
     "output_type": "stream",
     "text": [
      "0\n",
      "no conformer for MolPort-010-879-235\n",
      "0\n",
      "no conformer for MolPort-010-895-479\n",
      "0\n",
      "no conformer for MolPort-010-895-503\n"
     ]
    },
    {
     "name": "stderr",
     "output_type": "stream",
     "text": [
      "[10:41:21] Molecule does not have explicit Hs. Consider calling AddHs()\n",
      "[10:41:22] Molecule does not have explicit Hs. Consider calling AddHs()\n",
      "[10:41:22] Molecule does not have explicit Hs. Consider calling AddHs()\n"
     ]
    },
    {
     "name": "stdout",
     "output_type": "stream",
     "text": [
      "0\n",
      "no conformer for MolPort-010-944-104\n",
      "0\n",
      "no conformer for MolPort-020-213-358\n"
     ]
    },
    {
     "name": "stderr",
     "output_type": "stream",
     "text": [
      "[10:41:22] Molecule does not have explicit Hs. Consider calling AddHs()\n",
      "[10:41:22] Molecule does not have explicit Hs. Consider calling AddHs()\n"
     ]
    },
    {
     "name": "stdout",
     "output_type": "stream",
     "text": [
      "0\n",
      "no conformer for MolPort-044-369-217\n",
      "12\n",
      "0\n",
      "no conformer for MolPort-044-313-143\n"
     ]
    },
    {
     "name": "stderr",
     "output_type": "stream",
     "text": [
      "[10:41:22] Molecule does not have explicit Hs. Consider calling AddHs()\n",
      "[10:41:22] Molecule does not have explicit Hs. Consider calling AddHs()\n",
      "[10:41:22] Molecule does not have explicit Hs. Consider calling AddHs()\n"
     ]
    },
    {
     "name": "stdout",
     "output_type": "stream",
     "text": [
      "0\n",
      "no conformer for MolPort-044-720-273\n",
      "0\n",
      "no conformer for MolPort-046-044-977\n",
      "0\n",
      "no conformer for MolPort-046-060-361\n"
     ]
    },
    {
     "name": "stderr",
     "output_type": "stream",
     "text": [
      "[10:41:22] Molecule does not have explicit Hs. Consider calling AddHs()\n",
      "[10:41:22] Molecule does not have explicit Hs. Consider calling AddHs()\n",
      "[10:41:22] Molecule does not have explicit Hs. Consider calling AddHs()\n"
     ]
    },
    {
     "name": "stdout",
     "output_type": "stream",
     "text": [
      "0\n",
      "no conformer for MolPort-046-169-539\n",
      "0\n",
      "no conformer for MolPort-046-617-318\n"
     ]
    },
    {
     "name": "stderr",
     "output_type": "stream",
     "text": [
      "[10:41:22] Molecule does not have explicit Hs. Consider calling AddHs()\n",
      "[10:41:23] Molecule does not have explicit Hs. Consider calling AddHs()\n"
     ]
    },
    {
     "name": "stdout",
     "output_type": "stream",
     "text": [
      "0\n",
      "no conformer for MolPort-047-133-365\n",
      "0\n",
      "no conformer for MolPort-044-356-902\n"
     ]
    },
    {
     "name": "stderr",
     "output_type": "stream",
     "text": [
      "[10:41:23] Molecule does not have explicit Hs. Consider calling AddHs()\n"
     ]
    }
   ],
   "source": [
    "\n",
    "infos = []\n",
    "\n",
    "for mol in mols:\n",
    "    if mol is None:\n",
    "        continue\n",
    "    #mol = mols[0]\n",
    "    prot_coords = fragment_search.calcPDBcoords(prot, residues)\n",
    "\n",
    "    zzz = fragment_search.run_one_mol(mol, m_start, prot_coords, radius)\n",
    "    if zzz is None:\n",
    "        continue\n",
    "    adj_matrix, cids, heavy_atom_num = zzz\n",
    "\n",
    "    excluded = fragment_search.extract_excluded(adj_matrix, len(cids), heavy_atom_num)\n",
    "\n",
    "    print(sum(1-excluded))\n",
    "\n",
    "    fragment_handle.removeConformers(mol, cids, excluded)\n",
    "\n",
    "    #fragment_handle.writeMolToPDB(outdir, mol, cids, excluded, key)\n",
    "    fragment_handle.writeSDF(outdir, mol, cids, excluded, key)\n",
    "\n",
    "    infos.append((mol, cids, excluded))\n",
    "\n",
    "len(infos)\n",
    "\n",
    "fragment_search.write_summary(outdir, infos, key)\n"
   ]
  }
 ],
 "metadata": {
  "kernelspec": {
   "display_name": "Python 3",
   "language": "python",
   "name": "python3"
  },
  "language_info": {
   "codemirror_mode": {
    "name": "ipython",
    "version": 3
   },
   "file_extension": ".py",
   "mimetype": "text/x-python",
   "name": "python",
   "nbconvert_exporter": "python",
   "pygments_lexer": "ipython3",
   "version": "3.11.4"
  },
  "orig_nbformat": 4
 },
 "nbformat": 4,
 "nbformat_minor": 2
}
