{
 "cells": [
  {
   "cell_type": "code",
   "execution_count": 12,
   "metadata": {},
   "outputs": [],
   "source": [
    "from rvrsprot.frag_space import fragment_handle\n",
    "from rvrsprot.frag_space import fragment_search\n",
    "import numpy as np\n",
    "import os\n",
    "import datetime\n",
    "\n",
    "workdir = '/Users/lonelu/DesignData/fragment_design/FragmentScreen_yuda/'\n",
    "time_tag = datetime.datetime.now().strftime('%Y%m%d-%H%M%S') \n",
    "outdir = workdir + 'output_' + time_tag + '/'\n",
    "os.makedirs(outdir, exist_ok = True)\n",
    "\n",
    "pdbname = '7OCoumarin fragment ABLE.pdb'\n",
    "residues = [46, 49]\n",
    "\n",
    "#radius = np.sqrt(num_cg_atoms) * rmsd\n",
    "radius = 2.5\n",
    "\n",
    "#prot, m_start, mols = fragment_search.get_all_items(workdir, pdbname)\n",
    "m_start_name = 'CMR.sdf' \n",
    "\n",
    "#mol_name = 'molport_2.sdf'\n",
    "key = 'Molport ID'\n",
    "\n",
    "#mol_name = 'chemspace-search-20230904.sdf'\n",
    "#key = 'Chemspace_ID'\n",
    "\n",
    "\n",
    "#prot, m_start, mols = fragment_search.get_all_items(workdir, pdbname, m_start_name, mol_name)\n",
    "\n"
   ]
  },
  {
   "cell_type": "code",
   "execution_count": 19,
   "metadata": {},
   "outputs": [
    {
     "name": "stderr",
     "output_type": "stream",
     "text": [
      "@> 976 atoms and 1 coordinate set(s) were parsed in 0.01s.\n"
     ]
    },
    {
     "name": "stdout",
     "output_type": "stream",
     "text": [
      "[<rdkit.Chem.rdchem.Mol object at 0x15efec270>, <rdkit.Chem.rdchem.Mol object at 0x15efecf90>, <rdkit.Chem.rdchem.Mol object at 0x15efed000>, <rdkit.Chem.rdchem.Mol object at 0x15efed070>, <rdkit.Chem.rdchem.Mol object at 0x15efed0e0>, <rdkit.Chem.rdchem.Mol object at 0x15efed150>, <rdkit.Chem.rdchem.Mol object at 0x15efee1f0>, <rdkit.Chem.rdchem.Mol object at 0x15efed7e0>]\n"
     ]
    }
   ],
   "source": [
    "import prody as pr\n",
    "from rdkit import Chem\n",
    "\n",
    "prot = pr.parsePDB(workdir + pdbname)\n",
    "\n",
    "suppl = Chem.SDMolSupplier(workdir + m_start_name)\n",
    "m_start = [x for x in suppl][0]\n",
    "\n",
    "\n",
    "suppls = [Chem.SDMolSupplier(workdir + 'drugbank_search/' + molpath) for molpath in os.listdir(workdir + 'drugbank_search/')]\n",
    "\n",
    "mols = []\n",
    "for s in suppls:\n",
    "    for x in s:\n",
    "        if x is not None:\n",
    "            mols.append(x)\n",
    "\n",
    "print(mols)"
   ]
  },
  {
   "cell_type": "code",
   "execution_count": 20,
   "metadata": {},
   "outputs": [
    {
     "name": "stderr",
     "output_type": "stream",
     "text": [
      "[17:30:30] Molecule does not have explicit Hs. Consider calling AddHs()\n",
      "[17:30:30] Molecule does not have explicit Hs. Consider calling AddHs()\n",
      "[17:30:30] Molecule does not have explicit Hs. Consider calling AddHs()\n"
     ]
    },
    {
     "name": "stdout",
     "output_type": "stream",
     "text": [
      "1\n",
      "3\n",
      "1\n",
      "1\n",
      "25\n"
     ]
    },
    {
     "name": "stderr",
     "output_type": "stream",
     "text": [
      "[17:30:31] Molecule does not have explicit Hs. Consider calling AddHs()\n",
      "[17:30:31] Molecule does not have explicit Hs. Consider calling AddHs()\n",
      "[17:30:31] Molecule does not have explicit Hs. Consider calling AddHs()\n"
     ]
    },
    {
     "name": "stdout",
     "output_type": "stream",
     "text": [
      "4\n",
      "8\n"
     ]
    },
    {
     "name": "stderr",
     "output_type": "stream",
     "text": [
      "[17:30:31] Molecule does not have explicit Hs. Consider calling AddHs()\n",
      "[17:30:31] Molecule does not have explicit Hs. Consider calling AddHs()\n"
     ]
    },
    {
     "name": "stdout",
     "output_type": "stream",
     "text": [
      "8\n"
     ]
    }
   ],
   "source": [
    "\n",
    "infos = []\n",
    "\n",
    "for mol in mols:\n",
    "\n",
    "    #mol = mols[0]\n",
    "    prot_coords = fragment_search.calcPDBcoords(prot, residues)\n",
    "\n",
    "    zzz = fragment_search.run_one_mol(mol, m_start, prot_coords, radius)\n",
    "    if zzz is None:\n",
    "        continue\n",
    "    adj_matrix, cids, heavy_atom_num = zzz\n",
    "\n",
    "    excluded = fragment_search.extract_excluded(adj_matrix, len(cids), heavy_atom_num)\n",
    "\n",
    "    print(sum(1-excluded))\n",
    "\n",
    "    fragment_handle.removeConformers(mol, cids, excluded)\n",
    "\n",
    "    #fragment_handle.writeMolToPDB(outdir, mol, cids, excluded, key)\n",
    "    fragment_handle.writeSDF(outdir, mol, cids, excluded, key)\n",
    "\n",
    "    infos.append((mol, cids, excluded))\n",
    "\n",
    "len(infos)\n",
    "\n",
    "fragment_search.write_summary(outdir, infos, key)\n"
   ]
  }
 ],
 "metadata": {
  "kernelspec": {
   "display_name": "Python 3",
   "language": "python",
   "name": "python3"
  },
  "language_info": {
   "codemirror_mode": {
    "name": "ipython",
    "version": 3
   },
   "file_extension": ".py",
   "mimetype": "text/x-python",
   "name": "python",
   "nbconvert_exporter": "python",
   "pygments_lexer": "ipython3",
   "version": "3.11.4"
  },
  "orig_nbformat": 4
 },
 "nbformat": 4,
 "nbformat_minor": 2
}
