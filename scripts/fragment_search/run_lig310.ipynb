{
 "cells": [
  {
   "cell_type": "code",
   "execution_count": 10,
   "metadata": {},
   "outputs": [],
   "source": [
    "from rvrsprot.frag_space import fragment_handle\n",
    "from rvrsprot.frag_space import fragment_search\n",
    "import numpy as np\n",
    "import os\n",
    "import datetime\n",
    "\n",
    "workdir = '/Users/lonelu/DesignData/fragment_design/yuda_310/'\n",
    "time_tag = datetime.datetime.now().strftime('%Y%m%d-%H%M%S') \n",
    "outdir = workdir + 'output_' + time_tag + '/'\n",
    "os.makedirs(outdir, exist_ok = True)\n",
    "\n",
    "pdbname = 'able-x0310-pandda-model.pdb'\n",
    "residues = [112, 46, 79, 86]\n",
    "\n",
    "#radius = np.sqrt(num_cg_atoms) * rmsd\n",
    "radius = 2.1\n",
    "\n",
    "#prot, m_start, mols = fragment_search.get_all_items(workdir, pdbname)\n",
    "m_start_name = 'lig_310.sdf' \n",
    "\n",
    "mol_name = 'molport_lig310.sdf'\n",
    "key = 'Molport ID'\n",
    "\n",
    "#mol_name = 'chemspace-search-20230904.sdf'\n",
    "#key = 'Chemspace_ID'\n",
    "\n",
    "\n"
   ]
  },
  {
   "cell_type": "code",
   "execution_count": 11,
   "metadata": {},
   "outputs": [
    {
     "name": "stderr",
     "output_type": "stream",
     "text": [
      "@> 988 atoms and 1 coordinate set(s) were parsed in 0.01s.\n"
     ]
    }
   ],
   "source": [
    "prot, m_start, mols = fragment_search.get_all_items(workdir, pdbname, m_start_name, mol_name)"
   ]
  },
  {
   "cell_type": "code",
   "execution_count": 19,
   "metadata": {},
   "outputs": [
    {
     "name": "stderr",
     "output_type": "stream",
     "text": [
      "@> 976 atoms and 1 coordinate set(s) were parsed in 0.01s.\n"
     ]
    },
    {
     "name": "stdout",
     "output_type": "stream",
     "text": [
      "[<rdkit.Chem.rdchem.Mol object at 0x15efec270>, <rdkit.Chem.rdchem.Mol object at 0x15efecf90>, <rdkit.Chem.rdchem.Mol object at 0x15efed000>, <rdkit.Chem.rdchem.Mol object at 0x15efed070>, <rdkit.Chem.rdchem.Mol object at 0x15efed0e0>, <rdkit.Chem.rdchem.Mol object at 0x15efed150>, <rdkit.Chem.rdchem.Mol object at 0x15efee1f0>, <rdkit.Chem.rdchem.Mol object at 0x15efed7e0>]\n"
     ]
    }
   ],
   "source": [
    "### if the previous get_all_items not working.\n",
    "\n",
    "import prody as pr\n",
    "from rdkit import Chem\n",
    "\n",
    "prot = pr.parsePDB(workdir + pdbname)\n",
    "\n",
    "suppl = Chem.SDMolSupplier(workdir + m_start_name)\n",
    "m_start = [x for x in suppl][0]\n",
    "\n",
    "\n",
    "suppls = [Chem.SDMolSupplier(workdir + 'drugbank_search/' + molpath) for molpath in os.listdir(workdir + 'drugbank_search/')]\n",
    "\n",
    "mols = []\n",
    "for s in suppls:\n",
    "    for x in s:\n",
    "        if x is not None:\n",
    "            mols.append(x)\n",
    "\n",
    "print(mols)"
   ]
  },
  {
   "cell_type": "code",
   "execution_count": 12,
   "metadata": {},
   "outputs": [
    {
     "name": "stderr",
     "output_type": "stream",
     "text": [
      "[16:07:23] Molecule does not have explicit Hs. Consider calling AddHs()\n",
      "[16:07:23] Molecule does not have explicit Hs. Consider calling AddHs()\n",
      "[16:07:23] Molecule does not have explicit Hs. Consider calling AddHs()\n",
      "[16:07:23] Molecule does not have explicit Hs. Consider calling AddHs()\n",
      "[16:07:23] Molecule does not have explicit Hs. Consider calling AddHs()\n"
     ]
    },
    {
     "name": "stdout",
     "output_type": "stream",
     "text": [
      "0\n",
      "no conformer for MolPort-000-141-750\n",
      "4\n",
      "4\n",
      "13\n",
      "7\n",
      "13\n",
      "11\n"
     ]
    },
    {
     "name": "stderr",
     "output_type": "stream",
     "text": [
      "[16:07:23] Molecule does not have explicit Hs. Consider calling AddHs()\n",
      "[16:07:23] Molecule does not have explicit Hs. Consider calling AddHs()\n",
      "[16:07:24] Molecule does not have explicit Hs. Consider calling AddHs()\n"
     ]
    },
    {
     "name": "stdout",
     "output_type": "stream",
     "text": [
      "12\n",
      "12\n",
      "6\n"
     ]
    },
    {
     "name": "stderr",
     "output_type": "stream",
     "text": [
      "[16:07:24] Molecule does not have explicit Hs. Consider calling AddHs()\n",
      "[16:07:24] Molecule does not have explicit Hs. Consider calling AddHs()\n",
      "[16:07:24] Molecule does not have explicit Hs. Consider calling AddHs()\n"
     ]
    },
    {
     "name": "stdout",
     "output_type": "stream",
     "text": [
      "9\n",
      "6\n",
      "11\n"
     ]
    },
    {
     "name": "stderr",
     "output_type": "stream",
     "text": [
      "[16:07:24] Molecule does not have explicit Hs. Consider calling AddHs()\n",
      "[16:07:24] Molecule does not have explicit Hs. Consider calling AddHs()\n",
      "[16:07:24] Molecule does not have explicit Hs. Consider calling AddHs()\n"
     ]
    },
    {
     "name": "stdout",
     "output_type": "stream",
     "text": [
      "12\n",
      "11\n",
      "10\n"
     ]
    },
    {
     "name": "stderr",
     "output_type": "stream",
     "text": [
      "[16:07:24] Molecule does not have explicit Hs. Consider calling AddHs()\n",
      "[16:07:24] Molecule does not have explicit Hs. Consider calling AddHs()\n",
      "[16:07:24] Molecule does not have explicit Hs. Consider calling AddHs()\n"
     ]
    },
    {
     "name": "stdout",
     "output_type": "stream",
     "text": [
      "9\n",
      "5\n"
     ]
    },
    {
     "name": "stderr",
     "output_type": "stream",
     "text": [
      "[16:07:25] Molecule does not have explicit Hs. Consider calling AddHs()\n",
      "[16:07:25] Molecule does not have explicit Hs. Consider calling AddHs()\n"
     ]
    },
    {
     "name": "stdout",
     "output_type": "stream",
     "text": [
      "5\n",
      "9\n"
     ]
    },
    {
     "name": "stderr",
     "output_type": "stream",
     "text": [
      "[16:07:25] Molecule does not have explicit Hs. Consider calling AddHs()\n",
      "[16:07:25] Molecule does not have explicit Hs. Consider calling AddHs()\n"
     ]
    },
    {
     "name": "stdout",
     "output_type": "stream",
     "text": [
      "13\n",
      "4\n",
      "9\n"
     ]
    },
    {
     "name": "stderr",
     "output_type": "stream",
     "text": [
      "[16:07:25] Molecule does not have explicit Hs. Consider calling AddHs()\n",
      "[16:07:25] Molecule does not have explicit Hs. Consider calling AddHs()\n",
      "[16:07:25] Molecule does not have explicit Hs. Consider calling AddHs()\n",
      "[16:07:25] Molecule does not have explicit Hs. Consider calling AddHs()\n"
     ]
    },
    {
     "name": "stdout",
     "output_type": "stream",
     "text": [
      "0\n",
      "no conformer for MolPort-000-467-409\n",
      "4\n"
     ]
    },
    {
     "name": "stderr",
     "output_type": "stream",
     "text": [
      "[16:07:26] Molecule does not have explicit Hs. Consider calling AddHs()\n",
      "[16:07:26] Molecule does not have explicit Hs. Consider calling AddHs()\n",
      "[16:07:26] Molecule does not have explicit Hs. Consider calling AddHs()\n"
     ]
    },
    {
     "name": "stdout",
     "output_type": "stream",
     "text": [
      "0\n",
      "no conformer for MolPort-000-467-417\n",
      "11\n",
      "0\n",
      "no conformer for MolPort-000-467-419\n"
     ]
    },
    {
     "name": "stderr",
     "output_type": "stream",
     "text": [
      "[16:07:26] Molecule does not have explicit Hs. Consider calling AddHs()\n",
      "[16:07:26] Molecule does not have explicit Hs. Consider calling AddHs()\n",
      "[16:07:26] Molecule does not have explicit Hs. Consider calling AddHs()\n"
     ]
    },
    {
     "name": "stdout",
     "output_type": "stream",
     "text": [
      "11\n",
      "0\n",
      "no conformer for MolPort-000-467-422\n",
      "4\n",
      "0\n",
      "no conformer for MolPort-000-467-424\n"
     ]
    },
    {
     "name": "stderr",
     "output_type": "stream",
     "text": [
      "[16:07:26] Molecule does not have explicit Hs. Consider calling AddHs()\n",
      "[16:07:26] Molecule does not have explicit Hs. Consider calling AddHs()\n"
     ]
    },
    {
     "name": "stdout",
     "output_type": "stream",
     "text": [
      "0\n",
      "no conformer for MolPort-000-467-425\n",
      "6\n"
     ]
    },
    {
     "name": "stderr",
     "output_type": "stream",
     "text": [
      "[16:07:26] Molecule does not have explicit Hs. Consider calling AddHs()\n",
      "[16:07:27] Molecule does not have explicit Hs. Consider calling AddHs()\n"
     ]
    },
    {
     "name": "stdout",
     "output_type": "stream",
     "text": [
      "13\n",
      "0\n",
      "no conformer for MolPort-000-467-456\n"
     ]
    },
    {
     "name": "stderr",
     "output_type": "stream",
     "text": [
      "[16:07:27] Molecule does not have explicit Hs. Consider calling AddHs()\n",
      "[16:07:27] Molecule does not have explicit Hs. Consider calling AddHs()\n"
     ]
    },
    {
     "name": "stdout",
     "output_type": "stream",
     "text": [
      "12\n"
     ]
    },
    {
     "name": "stderr",
     "output_type": "stream",
     "text": [
      "[16:07:27] Molecule does not have explicit Hs. Consider calling AddHs()\n"
     ]
    },
    {
     "name": "stdout",
     "output_type": "stream",
     "text": [
      "8\n",
      "3\n"
     ]
    },
    {
     "name": "stderr",
     "output_type": "stream",
     "text": [
      "[16:07:27] Molecule does not have explicit Hs. Consider calling AddHs()\n",
      "[16:07:27] Molecule does not have explicit Hs. Consider calling AddHs()\n"
     ]
    },
    {
     "name": "stdout",
     "output_type": "stream",
     "text": [
      "0\n",
      "no conformer for MolPort-000-517-224\n",
      "0\n",
      "no conformer for MolPort-000-517-225\n"
     ]
    },
    {
     "name": "stderr",
     "output_type": "stream",
     "text": [
      "[16:07:28] Molecule does not have explicit Hs. Consider calling AddHs()\n",
      "[16:07:28] Molecule does not have explicit Hs. Consider calling AddHs()\n"
     ]
    },
    {
     "name": "stdout",
     "output_type": "stream",
     "text": [
      "0\n",
      "no conformer for MolPort-000-517-227\n",
      "0\n",
      "no conformer for MolPort-000-517-228\n",
      "22\n"
     ]
    },
    {
     "name": "stderr",
     "output_type": "stream",
     "text": [
      "[16:07:28] Molecule does not have explicit Hs. Consider calling AddHs()\n",
      "[16:07:28] Molecule does not have explicit Hs. Consider calling AddHs()\n",
      "[16:07:28] Molecule does not have explicit Hs. Consider calling AddHs()\n"
     ]
    },
    {
     "name": "stdout",
     "output_type": "stream",
     "text": [
      "18\n",
      "9\n"
     ]
    },
    {
     "name": "stderr",
     "output_type": "stream",
     "text": [
      "[16:07:28] Molecule does not have explicit Hs. Consider calling AddHs()\n",
      "[16:07:28] Molecule does not have explicit Hs. Consider calling AddHs()\n"
     ]
    },
    {
     "name": "stdout",
     "output_type": "stream",
     "text": [
      "8\n",
      "7\n"
     ]
    },
    {
     "name": "stderr",
     "output_type": "stream",
     "text": [
      "[16:07:28] Molecule does not have explicit Hs. Consider calling AddHs()\n",
      "[16:07:28] Molecule does not have explicit Hs. Consider calling AddHs()\n"
     ]
    },
    {
     "name": "stdout",
     "output_type": "stream",
     "text": [
      "16\n",
      "7\n",
      "7\n"
     ]
    },
    {
     "name": "stderr",
     "output_type": "stream",
     "text": [
      "[16:07:29] Molecule does not have explicit Hs. Consider calling AddHs()\n",
      "[16:07:29] Molecule does not have explicit Hs. Consider calling AddHs()\n",
      "[16:07:29] Molecule does not have explicit Hs. Consider calling AddHs()\n"
     ]
    },
    {
     "name": "stdout",
     "output_type": "stream",
     "text": [
      "0\n",
      "no conformer for MolPort-000-517-237\n",
      "1\n",
      "9\n"
     ]
    },
    {
     "name": "stderr",
     "output_type": "stream",
     "text": [
      "[16:07:29] Molecule does not have explicit Hs. Consider calling AddHs()\n",
      "[16:07:29] Molecule does not have explicit Hs. Consider calling AddHs()\n",
      "[16:07:29] Molecule does not have explicit Hs. Consider calling AddHs()\n"
     ]
    },
    {
     "name": "stdout",
     "output_type": "stream",
     "text": [
      "8\n",
      "9\n"
     ]
    },
    {
     "name": "stderr",
     "output_type": "stream",
     "text": [
      "[16:07:29] Molecule does not have explicit Hs. Consider calling AddHs()\n",
      "[16:07:29] Molecule does not have explicit Hs. Consider calling AddHs()\n"
     ]
    },
    {
     "name": "stdout",
     "output_type": "stream",
     "text": [
      "0\n",
      "no conformer for MolPort-000-517-242\n",
      "0\n",
      "no conformer for MolPort-000-517-336\n"
     ]
    },
    {
     "name": "stderr",
     "output_type": "stream",
     "text": [
      "[16:07:29] Molecule does not have explicit Hs. Consider calling AddHs()\n",
      "[16:07:29] Molecule does not have explicit Hs. Consider calling AddHs()\n"
     ]
    },
    {
     "name": "stdout",
     "output_type": "stream",
     "text": [
      "11\n",
      "13\n"
     ]
    },
    {
     "name": "stderr",
     "output_type": "stream",
     "text": [
      "[16:07:30] Molecule does not have explicit Hs. Consider calling AddHs()\n",
      "[16:07:30] Molecule does not have explicit Hs. Consider calling AddHs()\n"
     ]
    },
    {
     "name": "stdout",
     "output_type": "stream",
     "text": [
      "13\n",
      "13\n"
     ]
    },
    {
     "name": "stderr",
     "output_type": "stream",
     "text": [
      "[16:07:30] Molecule does not have explicit Hs. Consider calling AddHs()\n",
      "[16:07:30] Molecule does not have explicit Hs. Consider calling AddHs()\n"
     ]
    },
    {
     "name": "stdout",
     "output_type": "stream",
     "text": [
      "0\n",
      "no conformer for MolPort-000-517-354\n",
      "16\n"
     ]
    },
    {
     "name": "stderr",
     "output_type": "stream",
     "text": [
      "[16:07:30] Molecule does not have explicit Hs. Consider calling AddHs()\n",
      "[16:07:30] Molecule does not have explicit Hs. Consider calling AddHs()\n"
     ]
    },
    {
     "name": "stdout",
     "output_type": "stream",
     "text": [
      "0\n",
      "no conformer for MolPort-000-517-356\n",
      "12\n",
      "6\n"
     ]
    },
    {
     "name": "stderr",
     "output_type": "stream",
     "text": [
      "[16:07:30] Molecule does not have explicit Hs. Consider calling AddHs()\n",
      "[16:07:31] Molecule does not have explicit Hs. Consider calling AddHs()\n",
      "[16:07:31] Molecule does not have explicit Hs. Consider calling AddHs()\n"
     ]
    },
    {
     "name": "stdout",
     "output_type": "stream",
     "text": [
      "8\n",
      "0\n",
      "no conformer for MolPort-000-517-472\n",
      "0\n",
      "no conformer for MolPort-000-517-473\n"
     ]
    },
    {
     "name": "stderr",
     "output_type": "stream",
     "text": [
      "[16:07:31] Molecule does not have explicit Hs. Consider calling AddHs()\n",
      "[16:07:31] Molecule does not have explicit Hs. Consider calling AddHs()\n",
      "[16:07:31] Molecule does not have explicit Hs. Consider calling AddHs()\n"
     ]
    },
    {
     "name": "stdout",
     "output_type": "stream",
     "text": [
      "3\n",
      "8\n",
      "9\n"
     ]
    },
    {
     "name": "stderr",
     "output_type": "stream",
     "text": [
      "[16:07:31] Molecule does not have explicit Hs. Consider calling AddHs()\n",
      "[16:07:31] Molecule does not have explicit Hs. Consider calling AddHs()\n",
      "[16:07:31] Molecule does not have explicit Hs. Consider calling AddHs()\n"
     ]
    },
    {
     "name": "stdout",
     "output_type": "stream",
     "text": [
      "4\n",
      "6\n"
     ]
    },
    {
     "name": "stderr",
     "output_type": "stream",
     "text": [
      "[16:07:31] Molecule does not have explicit Hs. Consider calling AddHs()\n",
      "[16:07:31] Molecule does not have explicit Hs. Consider calling AddHs()\n"
     ]
    },
    {
     "name": "stdout",
     "output_type": "stream",
     "text": [
      "11\n",
      "0\n",
      "no conformer for MolPort-000-517-521\n"
     ]
    },
    {
     "name": "stderr",
     "output_type": "stream",
     "text": [
      "[16:07:32] Molecule does not have explicit Hs. Consider calling AddHs()\n",
      "[16:07:32] Molecule does not have explicit Hs. Consider calling AddHs()\n"
     ]
    },
    {
     "name": "stdout",
     "output_type": "stream",
     "text": [
      "0\n",
      "no conformer for MolPort-000-517-522\n",
      "10\n",
      "10\n",
      "7\n"
     ]
    },
    {
     "name": "stderr",
     "output_type": "stream",
     "text": [
      "[16:07:32] Molecule does not have explicit Hs. Consider calling AddHs()\n",
      "[16:07:32] Molecule does not have explicit Hs. Consider calling AddHs()\n",
      "[16:07:32] Molecule does not have explicit Hs. Consider calling AddHs()\n",
      "[16:07:32] Molecule does not have explicit Hs. Consider calling AddHs()\n"
     ]
    },
    {
     "name": "stdout",
     "output_type": "stream",
     "text": [
      "11\n",
      "12\n",
      "8\n"
     ]
    },
    {
     "name": "stderr",
     "output_type": "stream",
     "text": [
      "[16:07:32] Molecule does not have explicit Hs. Consider calling AddHs()\n",
      "[16:07:32] Molecule does not have explicit Hs. Consider calling AddHs()\n",
      "[16:07:32] Molecule does not have explicit Hs. Consider calling AddHs()\n"
     ]
    },
    {
     "name": "stdout",
     "output_type": "stream",
     "text": [
      "5\n",
      "0\n",
      "no conformer for MolPort-000-517-530\n",
      "0\n",
      "no conformer for MolPort-000-517-531\n"
     ]
    },
    {
     "name": "stderr",
     "output_type": "stream",
     "text": [
      "[16:07:32] Molecule does not have explicit Hs. Consider calling AddHs()\n",
      "[16:07:32] Molecule does not have explicit Hs. Consider calling AddHs()\n",
      "[16:07:32] Molecule does not have explicit Hs. Consider calling AddHs()\n"
     ]
    },
    {
     "name": "stdout",
     "output_type": "stream",
     "text": [
      "0\n",
      "no conformer for MolPort-000-517-532\n",
      "2\n"
     ]
    },
    {
     "name": "stderr",
     "output_type": "stream",
     "text": [
      "[16:07:32] Molecule does not have explicit Hs. Consider calling AddHs()\n",
      "[16:07:33] Molecule does not have explicit Hs. Consider calling AddHs()\n"
     ]
    },
    {
     "name": "stdout",
     "output_type": "stream",
     "text": [
      "4\n",
      "0\n",
      "no conformer for MolPort-000-517-535\n",
      "12\n",
      "0\n",
      "no conformer for MolPort-000-517-729\n"
     ]
    },
    {
     "name": "stderr",
     "output_type": "stream",
     "text": [
      "[16:07:33] Molecule does not have explicit Hs. Consider calling AddHs()\n",
      "[16:07:33] Molecule does not have explicit Hs. Consider calling AddHs()\n",
      "[16:07:33] Molecule does not have explicit Hs. Consider calling AddHs()\n",
      "[16:07:33] Molecule does not have explicit Hs. Consider calling AddHs()\n"
     ]
    },
    {
     "name": "stdout",
     "output_type": "stream",
     "text": [
      "0\n",
      "no conformer for MolPort-000-517-547\n",
      "2\n"
     ]
    },
    {
     "name": "stderr",
     "output_type": "stream",
     "text": [
      "[16:07:33] Molecule does not have explicit Hs. Consider calling AddHs()\n",
      "[16:07:33] Molecule does not have explicit Hs. Consider calling AddHs()\n"
     ]
    },
    {
     "name": "stdout",
     "output_type": "stream",
     "text": [
      "0\n",
      "no conformer for MolPort-000-517-581\n"
     ]
    },
    {
     "name": "stderr",
     "output_type": "stream",
     "text": [
      "[16:07:33] Molecule does not have explicit Hs. Consider calling AddHs()\n"
     ]
    },
    {
     "name": "stdout",
     "output_type": "stream",
     "text": [
      "0\n",
      "no conformer for MolPort-000-517-582\n",
      "0\n",
      "no conformer for MolPort-000-517-600\n"
     ]
    },
    {
     "name": "stderr",
     "output_type": "stream",
     "text": [
      "[16:07:33] Molecule does not have explicit Hs. Consider calling AddHs()\n",
      "[16:07:34] Molecule does not have explicit Hs. Consider calling AddHs()\n"
     ]
    },
    {
     "name": "stdout",
     "output_type": "stream",
     "text": [
      "3\n",
      "0\n",
      "no conformer for MolPort-000-517-605\n"
     ]
    },
    {
     "name": "stderr",
     "output_type": "stream",
     "text": [
      "[16:07:34] Molecule does not have explicit Hs. Consider calling AddHs()\n",
      "[16:07:34] Molecule does not have explicit Hs. Consider calling AddHs()\n"
     ]
    },
    {
     "name": "stdout",
     "output_type": "stream",
     "text": [
      "0\n",
      "no conformer for MolPort-000-517-677\n",
      "0\n",
      "no conformer for MolPort-000-517-689\n",
      "0\n",
      "no conformer for MolPort-000-517-690\n"
     ]
    },
    {
     "name": "stderr",
     "output_type": "stream",
     "text": [
      "[16:07:34] Molecule does not have explicit Hs. Consider calling AddHs()\n",
      "[16:07:34] Molecule does not have explicit Hs. Consider calling AddHs()\n",
      "[16:07:34] Molecule does not have explicit Hs. Consider calling AddHs()\n"
     ]
    },
    {
     "name": "stdout",
     "output_type": "stream",
     "text": [
      "9\n",
      "0\n",
      "no conformer for MolPort-000-517-693\n"
     ]
    },
    {
     "name": "stderr",
     "output_type": "stream",
     "text": [
      "[16:07:34] Molecule does not have explicit Hs. Consider calling AddHs()\n",
      "[16:07:35] Molecule does not have explicit Hs. Consider calling AddHs()\n"
     ]
    },
    {
     "name": "stdout",
     "output_type": "stream",
     "text": [
      "0\n",
      "no conformer for MolPort-000-517-694\n",
      "0\n",
      "no conformer for MolPort-000-517-702\n"
     ]
    },
    {
     "name": "stderr",
     "output_type": "stream",
     "text": [
      "[16:07:35] Molecule does not have explicit Hs. Consider calling AddHs()\n",
      "[16:07:35] Molecule does not have explicit Hs. Consider calling AddHs()\n"
     ]
    },
    {
     "name": "stdout",
     "output_type": "stream",
     "text": [
      "0\n",
      "no conformer for MolPort-000-517-703\n",
      "8\n"
     ]
    },
    {
     "name": "stderr",
     "output_type": "stream",
     "text": [
      "[16:07:35] Molecule does not have explicit Hs. Consider calling AddHs()\n",
      "[16:07:35] Molecule does not have explicit Hs. Consider calling AddHs()\n"
     ]
    },
    {
     "name": "stdout",
     "output_type": "stream",
     "text": [
      "0\n",
      "no conformer for MolPort-000-517-708\n",
      "0\n",
      "no conformer for MolPort-000-517-709\n"
     ]
    },
    {
     "name": "stderr",
     "output_type": "stream",
     "text": [
      "[16:07:35] Molecule does not have explicit Hs. Consider calling AddHs()\n",
      "[16:07:35] Molecule does not have explicit Hs. Consider calling AddHs()\n"
     ]
    },
    {
     "name": "stdout",
     "output_type": "stream",
     "text": [
      "6\n",
      "0\n",
      "no conformer for MolPort-000-517-722\n"
     ]
    },
    {
     "name": "stderr",
     "output_type": "stream",
     "text": [
      "[16:07:35] Molecule does not have explicit Hs. Consider calling AddHs()\n",
      "[16:07:36] Molecule does not have explicit Hs. Consider calling AddHs()\n"
     ]
    },
    {
     "name": "stdout",
     "output_type": "stream",
     "text": [
      "0\n",
      "no conformer for MolPort-000-517-723\n",
      "12\n",
      "0\n",
      "no conformer for MolPort-000-517-725\n"
     ]
    },
    {
     "name": "stderr",
     "output_type": "stream",
     "text": [
      "[16:07:36] Molecule does not have explicit Hs. Consider calling AddHs()\n",
      "[16:07:36] Molecule does not have explicit Hs. Consider calling AddHs()\n",
      "[16:07:36] Molecule does not have explicit Hs. Consider calling AddHs()\n"
     ]
    },
    {
     "name": "stdout",
     "output_type": "stream",
     "text": [
      "7\n",
      "0\n",
      "no conformer for MolPort-000-517-728\n",
      "9\n"
     ]
    },
    {
     "name": "stderr",
     "output_type": "stream",
     "text": [
      "[16:07:36] Molecule does not have explicit Hs. Consider calling AddHs()\n",
      "[16:07:36] Molecule does not have explicit Hs. Consider calling AddHs()\n",
      "[16:07:36] Molecule does not have explicit Hs. Consider calling AddHs()\n"
     ]
    },
    {
     "name": "stdout",
     "output_type": "stream",
     "text": [
      "0\n",
      "no conformer for MolPort-000-517-805\n",
      "12\n"
     ]
    },
    {
     "name": "stderr",
     "output_type": "stream",
     "text": [
      "[16:07:36] Molecule does not have explicit Hs. Consider calling AddHs()\n",
      "[16:07:36] Molecule does not have explicit Hs. Consider calling AddHs()\n"
     ]
    },
    {
     "name": "stdout",
     "output_type": "stream",
     "text": [
      "0\n",
      "no conformer for MolPort-000-517-747\n",
      "0\n",
      "no conformer for MolPort-000-517-748\n"
     ]
    },
    {
     "name": "stderr",
     "output_type": "stream",
     "text": [
      "[16:07:37] Molecule does not have explicit Hs. Consider calling AddHs()\n",
      "[16:07:37] Molecule does not have explicit Hs. Consider calling AddHs()\n"
     ]
    },
    {
     "name": "stdout",
     "output_type": "stream",
     "text": [
      "11\n",
      "0\n",
      "no conformer for MolPort-000-517-759\n"
     ]
    },
    {
     "name": "stderr",
     "output_type": "stream",
     "text": [
      "[16:07:37] Molecule does not have explicit Hs. Consider calling AddHs()\n",
      "[16:07:37] Molecule does not have explicit Hs. Consider calling AddHs()\n"
     ]
    },
    {
     "name": "stdout",
     "output_type": "stream",
     "text": [
      "2\n",
      "6\n"
     ]
    },
    {
     "name": "stderr",
     "output_type": "stream",
     "text": [
      "[16:07:37] Molecule does not have explicit Hs. Consider calling AddHs()\n",
      "[16:07:37] Molecule does not have explicit Hs. Consider calling AddHs()\n"
     ]
    },
    {
     "name": "stdout",
     "output_type": "stream",
     "text": [
      "0\n",
      "no conformer for MolPort-000-517-783\n",
      "9\n",
      "0\n",
      "no conformer for MolPort-000-517-806\n"
     ]
    },
    {
     "name": "stderr",
     "output_type": "stream",
     "text": [
      "[16:07:37] Molecule does not have explicit Hs. Consider calling AddHs()\n",
      "[16:07:37] Molecule does not have explicit Hs. Consider calling AddHs()\n",
      "[16:07:37] Molecule does not have explicit Hs. Consider calling AddHs()\n"
     ]
    },
    {
     "name": "stdout",
     "output_type": "stream",
     "text": [
      "6\n",
      "4\n"
     ]
    },
    {
     "name": "stderr",
     "output_type": "stream",
     "text": [
      "[16:07:37] Molecule does not have explicit Hs. Consider calling AddHs()\n",
      "[16:07:38] Molecule does not have explicit Hs. Consider calling AddHs()\n"
     ]
    },
    {
     "name": "stdout",
     "output_type": "stream",
     "text": [
      "1\n"
     ]
    },
    {
     "name": "stderr",
     "output_type": "stream",
     "text": [
      "[16:07:38] Molecule does not have explicit Hs. Consider calling AddHs()\n"
     ]
    },
    {
     "name": "stdout",
     "output_type": "stream",
     "text": [
      "1\n",
      "1\n"
     ]
    },
    {
     "name": "stderr",
     "output_type": "stream",
     "text": [
      "[16:07:38] Molecule does not have explicit Hs. Consider calling AddHs()\n",
      "[16:07:38] Molecule does not have explicit Hs. Consider calling AddHs()\n"
     ]
    },
    {
     "name": "stdout",
     "output_type": "stream",
     "text": [
      "6\n",
      "6\n",
      "5\n"
     ]
    },
    {
     "name": "stderr",
     "output_type": "stream",
     "text": [
      "[16:07:38] Molecule does not have explicit Hs. Consider calling AddHs()\n",
      "[16:07:39] Molecule does not have explicit Hs. Consider calling AddHs()\n",
      "[16:07:39] Molecule does not have explicit Hs. Consider calling AddHs()\n"
     ]
    },
    {
     "name": "stdout",
     "output_type": "stream",
     "text": [
      "5\n",
      "32\n",
      "0\n",
      "no conformer for MolPort-000-675-643\n"
     ]
    },
    {
     "name": "stderr",
     "output_type": "stream",
     "text": [
      "[16:07:39] Molecule does not have explicit Hs. Consider calling AddHs()\n",
      "[16:07:39] Molecule does not have explicit Hs. Consider calling AddHs()\n",
      "[16:07:39] Molecule does not have explicit Hs. Consider calling AddHs()\n"
     ]
    },
    {
     "name": "stdout",
     "output_type": "stream",
     "text": [
      "0\n",
      "no conformer for MolPort-000-696-582\n"
     ]
    },
    {
     "name": "stderr",
     "output_type": "stream",
     "text": [
      "[16:07:39] Molecule does not have explicit Hs. Consider calling AddHs()\n"
     ]
    },
    {
     "name": "stdout",
     "output_type": "stream",
     "text": [
      "0\n",
      "no conformer for MolPort-000-697-270\n",
      "0\n",
      "no conformer for MolPort-000-698-255\n"
     ]
    },
    {
     "name": "stderr",
     "output_type": "stream",
     "text": [
      "[16:07:39] Molecule does not have explicit Hs. Consider calling AddHs()\n",
      "[16:07:40] Molecule does not have explicit Hs. Consider calling AddHs()\n"
     ]
    },
    {
     "name": "stdout",
     "output_type": "stream",
     "text": [
      "1\n"
     ]
    },
    {
     "name": "stderr",
     "output_type": "stream",
     "text": [
      "[16:07:40] Molecule does not have explicit Hs. Consider calling AddHs()\n"
     ]
    },
    {
     "name": "stdout",
     "output_type": "stream",
     "text": [
      "1\n"
     ]
    },
    {
     "name": "stderr",
     "output_type": "stream",
     "text": [
      "[16:07:40] Molecule does not have explicit Hs. Consider calling AddHs()\n"
     ]
    },
    {
     "name": "stdout",
     "output_type": "stream",
     "text": [
      "5\n",
      "0\n",
      "no conformer for MolPort-000-700-911\n"
     ]
    },
    {
     "name": "stderr",
     "output_type": "stream",
     "text": [
      "[16:07:40] Molecule does not have explicit Hs. Consider calling AddHs()\n",
      "[16:07:40] Molecule does not have explicit Hs. Consider calling AddHs()\n"
     ]
    },
    {
     "name": "stdout",
     "output_type": "stream",
     "text": [
      "1\n"
     ]
    },
    {
     "name": "stderr",
     "output_type": "stream",
     "text": [
      "[16:07:41] Molecule does not have explicit Hs. Consider calling AddHs()\n"
     ]
    },
    {
     "name": "stdout",
     "output_type": "stream",
     "text": [
      "1\n"
     ]
    },
    {
     "name": "stderr",
     "output_type": "stream",
     "text": [
      "[16:07:41] Molecule does not have explicit Hs. Consider calling AddHs()\n"
     ]
    },
    {
     "name": "stdout",
     "output_type": "stream",
     "text": [
      "3\n"
     ]
    },
    {
     "name": "stderr",
     "output_type": "stream",
     "text": [
      "[16:07:41] Molecule does not have explicit Hs. Consider calling AddHs()\n"
     ]
    },
    {
     "name": "stdout",
     "output_type": "stream",
     "text": [
      "1\n",
      "0\n",
      "no conformer for MolPort-000-703-911\n"
     ]
    },
    {
     "name": "stderr",
     "output_type": "stream",
     "text": [
      "[16:07:42] Molecule does not have explicit Hs. Consider calling AddHs()\n",
      "[16:07:42] Molecule does not have explicit Hs. Consider calling AddHs()\n"
     ]
    },
    {
     "name": "stdout",
     "output_type": "stream",
     "text": [
      "0\n",
      "no conformer for MolPort-000-704-107\n"
     ]
    },
    {
     "name": "stderr",
     "output_type": "stream",
     "text": [
      "[16:07:42] Molecule does not have explicit Hs. Consider calling AddHs()\n"
     ]
    },
    {
     "name": "stdout",
     "output_type": "stream",
     "text": [
      "0\n",
      "no conformer for MolPort-000-704-490\n"
     ]
    },
    {
     "name": "stderr",
     "output_type": "stream",
     "text": [
      "[16:07:42] Molecule does not have explicit Hs. Consider calling AddHs()\n"
     ]
    },
    {
     "name": "stdout",
     "output_type": "stream",
     "text": [
      "6\n",
      "0\n",
      "no conformer for MolPort-000-706-224\n",
      "0\n",
      "no conformer for MolPort-000-708-139\n"
     ]
    },
    {
     "name": "stderr",
     "output_type": "stream",
     "text": [
      "[16:07:43] Molecule does not have explicit Hs. Consider calling AddHs()\n",
      "[16:07:43] Molecule does not have explicit Hs. Consider calling AddHs()\n",
      "[16:07:43] Molecule does not have explicit Hs. Consider calling AddHs()\n"
     ]
    },
    {
     "name": "stdout",
     "output_type": "stream",
     "text": [
      "3\n"
     ]
    },
    {
     "name": "stderr",
     "output_type": "stream",
     "text": [
      "[16:07:43] Molecule does not have explicit Hs. Consider calling AddHs()\n"
     ]
    },
    {
     "name": "stdout",
     "output_type": "stream",
     "text": [
      "2\n",
      "0\n",
      "no conformer for MolPort-000-708-960\n"
     ]
    },
    {
     "name": "stderr",
     "output_type": "stream",
     "text": [
      "[16:07:43] Molecule does not have explicit Hs. Consider calling AddHs()\n",
      "[16:07:43] Molecule does not have explicit Hs. Consider calling AddHs()\n"
     ]
    },
    {
     "name": "stdout",
     "output_type": "stream",
     "text": [
      "1\n"
     ]
    },
    {
     "name": "stderr",
     "output_type": "stream",
     "text": [
      "[16:07:44] Molecule does not have explicit Hs. Consider calling AddHs()\n"
     ]
    },
    {
     "name": "stdout",
     "output_type": "stream",
     "text": [
      "3\n"
     ]
    },
    {
     "name": "stderr",
     "output_type": "stream",
     "text": [
      "[16:07:44] Molecule does not have explicit Hs. Consider calling AddHs()\n"
     ]
    },
    {
     "name": "stdout",
     "output_type": "stream",
     "text": [
      "1\n"
     ]
    },
    {
     "name": "stderr",
     "output_type": "stream",
     "text": [
      "[16:07:44] Molecule does not have explicit Hs. Consider calling AddHs()\n"
     ]
    },
    {
     "name": "stdout",
     "output_type": "stream",
     "text": [
      "0\n",
      "no conformer for MolPort-000-712-242\n",
      "0\n",
      "no conformer for MolPort-000-714-289\n"
     ]
    },
    {
     "name": "stderr",
     "output_type": "stream",
     "text": [
      "[16:07:45] Molecule does not have explicit Hs. Consider calling AddHs()\n",
      "[16:07:45] Molecule does not have explicit Hs. Consider calling AddHs()\n"
     ]
    },
    {
     "name": "stdout",
     "output_type": "stream",
     "text": [
      "4\n"
     ]
    },
    {
     "name": "stderr",
     "output_type": "stream",
     "text": [
      "[16:07:45] Molecule does not have explicit Hs. Consider calling AddHs()\n"
     ]
    },
    {
     "name": "stdout",
     "output_type": "stream",
     "text": [
      "0\n",
      "no conformer for MolPort-000-715-662\n",
      "1\n"
     ]
    },
    {
     "name": "stderr",
     "output_type": "stream",
     "text": [
      "[16:07:45] Molecule does not have explicit Hs. Consider calling AddHs()\n",
      "[16:07:45] Molecule does not have explicit Hs. Consider calling AddHs()\n"
     ]
    },
    {
     "name": "stdout",
     "output_type": "stream",
     "text": [
      "0\n",
      "no conformer for MolPort-000-716-828\n"
     ]
    },
    {
     "name": "stderr",
     "output_type": "stream",
     "text": [
      "[16:07:46] Molecule does not have explicit Hs. Consider calling AddHs()\n"
     ]
    },
    {
     "name": "stdout",
     "output_type": "stream",
     "text": [
      "2\n",
      "0\n",
      "no conformer for MolPort-000-719-736\n"
     ]
    },
    {
     "name": "stderr",
     "output_type": "stream",
     "text": [
      "[16:07:46] Molecule does not have explicit Hs. Consider calling AddHs()\n",
      "[16:07:46] Molecule does not have explicit Hs. Consider calling AddHs()\n"
     ]
    },
    {
     "name": "stdout",
     "output_type": "stream",
     "text": [
      "3\n",
      "0\n",
      "no conformer for MolPort-000-723-197\n",
      "0\n",
      "no conformer for MolPort-000-724-793\n"
     ]
    },
    {
     "name": "stderr",
     "output_type": "stream",
     "text": [
      "[16:07:46] Molecule does not have explicit Hs. Consider calling AddHs()\n",
      "[16:07:46] Molecule does not have explicit Hs. Consider calling AddHs()\n",
      "[16:07:46] Molecule does not have explicit Hs. Consider calling AddHs()\n"
     ]
    },
    {
     "name": "stdout",
     "output_type": "stream",
     "text": [
      "0\n",
      "no conformer for MolPort-000-727-068\n"
     ]
    },
    {
     "name": "stderr",
     "output_type": "stream",
     "text": [
      "[16:07:47] Molecule does not have explicit Hs. Consider calling AddHs()\n"
     ]
    },
    {
     "name": "stdout",
     "output_type": "stream",
     "text": [
      "1\n"
     ]
    },
    {
     "name": "stderr",
     "output_type": "stream",
     "text": [
      "[16:07:47] Molecule does not have explicit Hs. Consider calling AddHs()\n"
     ]
    },
    {
     "name": "stdout",
     "output_type": "stream",
     "text": [
      "2\n"
     ]
    },
    {
     "name": "stderr",
     "output_type": "stream",
     "text": [
      "[16:07:47] Molecule does not have explicit Hs. Consider calling AddHs()\n"
     ]
    },
    {
     "name": "stdout",
     "output_type": "stream",
     "text": [
      "1\n"
     ]
    },
    {
     "name": "stderr",
     "output_type": "stream",
     "text": [
      "[16:07:47] Molecule does not have explicit Hs. Consider calling AddHs()\n"
     ]
    },
    {
     "name": "stdout",
     "output_type": "stream",
     "text": [
      "3\n",
      "0\n",
      "no conformer for MolPort-000-729-399\n"
     ]
    },
    {
     "name": "stderr",
     "output_type": "stream",
     "text": [
      "[16:07:48] Molecule does not have explicit Hs. Consider calling AddHs()\n",
      "[16:07:48] Molecule does not have explicit Hs. Consider calling AddHs()\n"
     ]
    },
    {
     "name": "stdout",
     "output_type": "stream",
     "text": [
      "0\n",
      "no conformer for MolPort-000-729-644\n",
      "0\n",
      "no conformer for MolPort-000-844-213\n"
     ]
    },
    {
     "name": "stderr",
     "output_type": "stream",
     "text": [
      "[16:07:48] Molecule does not have explicit Hs. Consider calling AddHs()\n",
      "[16:07:48] Molecule does not have explicit Hs. Consider calling AddHs()\n"
     ]
    },
    {
     "name": "stdout",
     "output_type": "stream",
     "text": [
      "0\n",
      "no conformer for MolPort-000-857-149\n",
      "2\n",
      "13\n",
      "0\n",
      "no conformer for MolPort-000-731-752\n"
     ]
    },
    {
     "name": "stderr",
     "output_type": "stream",
     "text": [
      "[16:07:48] Molecule does not have explicit Hs. Consider calling AddHs()\n",
      "[16:07:48] Molecule does not have explicit Hs. Consider calling AddHs()\n",
      "[16:07:48] Molecule does not have explicit Hs. Consider calling AddHs()\n",
      "[16:07:48] Molecule does not have explicit Hs. Consider calling AddHs()\n",
      "[16:07:49] Molecule does not have explicit Hs. Consider calling AddHs()\n"
     ]
    },
    {
     "name": "stdout",
     "output_type": "stream",
     "text": [
      "0\n",
      "no conformer for MolPort-000-731-756\n",
      "0\n",
      "no conformer for MolPort-000-733-249\n",
      "6\n",
      "11\n"
     ]
    },
    {
     "name": "stderr",
     "output_type": "stream",
     "text": [
      "[16:07:49] Molecule does not have explicit Hs. Consider calling AddHs()\n",
      "[16:07:49] Molecule does not have explicit Hs. Consider calling AddHs()\n",
      "[16:07:49] Molecule does not have explicit Hs. Consider calling AddHs()\n"
     ]
    },
    {
     "name": "stdout",
     "output_type": "stream",
     "text": [
      "0\n",
      "no conformer for MolPort-000-739-144\n"
     ]
    },
    {
     "name": "stderr",
     "output_type": "stream",
     "text": [
      "[16:07:49] Molecule does not have explicit Hs. Consider calling AddHs()\n"
     ]
    },
    {
     "name": "stdout",
     "output_type": "stream",
     "text": [
      "1\n"
     ]
    },
    {
     "name": "stderr",
     "output_type": "stream",
     "text": [
      "[16:07:49] Molecule does not have explicit Hs. Consider calling AddHs()\n"
     ]
    },
    {
     "name": "stdout",
     "output_type": "stream",
     "text": [
      "3\n",
      "1\n"
     ]
    },
    {
     "name": "stderr",
     "output_type": "stream",
     "text": [
      "[16:07:50] Molecule does not have explicit Hs. Consider calling AddHs()\n",
      "[16:07:50] Molecule does not have explicit Hs. Consider calling AddHs()\n"
     ]
    },
    {
     "name": "stdout",
     "output_type": "stream",
     "text": [
      "6\n"
     ]
    },
    {
     "name": "stderr",
     "output_type": "stream",
     "text": [
      "[16:07:50] Molecule does not have explicit Hs. Consider calling AddHs()\n"
     ]
    },
    {
     "name": "stdout",
     "output_type": "stream",
     "text": [
      "1\n"
     ]
    },
    {
     "name": "stderr",
     "output_type": "stream",
     "text": [
      "[16:07:50] Molecule does not have explicit Hs. Consider calling AddHs()\n"
     ]
    },
    {
     "name": "stdout",
     "output_type": "stream",
     "text": [
      "2\n",
      "0\n",
      "no conformer for MolPort-000-743-640\n"
     ]
    },
    {
     "name": "stderr",
     "output_type": "stream",
     "text": [
      "[16:07:51] Molecule does not have explicit Hs. Consider calling AddHs()\n",
      "[16:07:51] Molecule does not have explicit Hs. Consider calling AddHs()\n"
     ]
    },
    {
     "name": "stdout",
     "output_type": "stream",
     "text": [
      "2\n"
     ]
    },
    {
     "name": "stderr",
     "output_type": "stream",
     "text": [
      "[16:07:51] Molecule does not have explicit Hs. Consider calling AddHs()\n"
     ]
    },
    {
     "name": "stdout",
     "output_type": "stream",
     "text": [
      "2\n",
      "0\n",
      "no conformer for MolPort-000-744-583\n"
     ]
    },
    {
     "name": "stderr",
     "output_type": "stream",
     "text": [
      "[16:07:51] Molecule does not have explicit Hs. Consider calling AddHs()\n",
      "[16:07:51] Molecule does not have explicit Hs. Consider calling AddHs()\n"
     ]
    },
    {
     "name": "stdout",
     "output_type": "stream",
     "text": [
      "14\n"
     ]
    },
    {
     "name": "stderr",
     "output_type": "stream",
     "text": [
      "[16:07:52] Molecule does not have explicit Hs. Consider calling AddHs()\n"
     ]
    },
    {
     "name": "stdout",
     "output_type": "stream",
     "text": [
      "3\n"
     ]
    },
    {
     "name": "stderr",
     "output_type": "stream",
     "text": [
      "[16:07:52] Molecule does not have explicit Hs. Consider calling AddHs()\n"
     ]
    },
    {
     "name": "stdout",
     "output_type": "stream",
     "text": [
      "1\n",
      "0\n",
      "no conformer for MolPort-000-757-066\n"
     ]
    },
    {
     "name": "stderr",
     "output_type": "stream",
     "text": [
      "[16:07:52] Molecule does not have explicit Hs. Consider calling AddHs()\n",
      "[16:07:52] Molecule does not have explicit Hs. Consider calling AddHs()\n"
     ]
    },
    {
     "name": "stdout",
     "output_type": "stream",
     "text": [
      "2\n",
      "0\n",
      "no conformer for MolPort-000-762-063\n"
     ]
    },
    {
     "name": "stderr",
     "output_type": "stream",
     "text": [
      "[16:07:53] Molecule does not have explicit Hs. Consider calling AddHs()\n",
      "[16:07:53] Molecule does not have explicit Hs. Consider calling AddHs()\n"
     ]
    },
    {
     "name": "stdout",
     "output_type": "stream",
     "text": [
      "3\n"
     ]
    },
    {
     "name": "stderr",
     "output_type": "stream",
     "text": [
      "[16:07:53] Molecule does not have explicit Hs. Consider calling AddHs()\n"
     ]
    },
    {
     "name": "stdout",
     "output_type": "stream",
     "text": [
      "3\n",
      "0\n",
      "no conformer for MolPort-000-763-338\n",
      "0\n",
      "no conformer for MolPort-000-768-280\n"
     ]
    },
    {
     "name": "stderr",
     "output_type": "stream",
     "text": [
      "[16:07:54] Molecule does not have explicit Hs. Consider calling AddHs()\n",
      "[16:07:54] Molecule does not have explicit Hs. Consider calling AddHs()\n",
      "[16:07:54] Molecule does not have explicit Hs. Consider calling AddHs()\n"
     ]
    },
    {
     "name": "stdout",
     "output_type": "stream",
     "text": [
      "0\n",
      "no conformer for MolPort-000-777-474\n",
      "0\n",
      "no conformer for MolPort-000-779-713\n"
     ]
    },
    {
     "name": "stderr",
     "output_type": "stream",
     "text": [
      "[16:07:54] Molecule does not have explicit Hs. Consider calling AddHs()\n",
      "[16:07:54] Molecule does not have explicit Hs. Consider calling AddHs()\n"
     ]
    },
    {
     "name": "stdout",
     "output_type": "stream",
     "text": [
      "0\n",
      "no conformer for MolPort-000-779-725\n"
     ]
    },
    {
     "name": "stderr",
     "output_type": "stream",
     "text": [
      "[16:07:54] Molecule does not have explicit Hs. Consider calling AddHs()\n"
     ]
    },
    {
     "name": "stdout",
     "output_type": "stream",
     "text": [
      "0\n",
      "no conformer for MolPort-000-780-433\n"
     ]
    },
    {
     "name": "stderr",
     "output_type": "stream",
     "text": [
      "[16:07:54] Molecule does not have explicit Hs. Consider calling AddHs()\n"
     ]
    },
    {
     "name": "stdout",
     "output_type": "stream",
     "text": [
      "6\n"
     ]
    },
    {
     "name": "stderr",
     "output_type": "stream",
     "text": [
      "[16:07:55] Molecule does not have explicit Hs. Consider calling AddHs()\n"
     ]
    },
    {
     "name": "stdout",
     "output_type": "stream",
     "text": [
      "1\n",
      "0\n",
      "no conformer for MolPort-000-783-614\n"
     ]
    },
    {
     "name": "stderr",
     "output_type": "stream",
     "text": [
      "[16:07:55] Molecule does not have explicit Hs. Consider calling AddHs()\n",
      "[16:07:55] Molecule does not have explicit Hs. Consider calling AddHs()\n"
     ]
    },
    {
     "name": "stdout",
     "output_type": "stream",
     "text": [
      "0\n",
      "no conformer for MolPort-000-783-987\n"
     ]
    },
    {
     "name": "stderr",
     "output_type": "stream",
     "text": [
      "[16:07:55] Molecule does not have explicit Hs. Consider calling AddHs()\n"
     ]
    },
    {
     "name": "stdout",
     "output_type": "stream",
     "text": [
      "4\n",
      "0\n",
      "no conformer for MolPort-000-789-349\n",
      "0\n",
      "no conformer for MolPort-000-789-858\n"
     ]
    },
    {
     "name": "stderr",
     "output_type": "stream",
     "text": [
      "[16:07:56] Molecule does not have explicit Hs. Consider calling AddHs()\n",
      "[16:07:56] Molecule does not have explicit Hs. Consider calling AddHs()\n",
      "[16:07:56] Molecule does not have explicit Hs. Consider calling AddHs()\n"
     ]
    },
    {
     "name": "stdout",
     "output_type": "stream",
     "text": [
      "16\n",
      "0\n",
      "no conformer for MolPort-000-792-279\n",
      "0\n",
      "no conformer for MolPort-000-792-985\n",
      "12\n"
     ]
    },
    {
     "name": "stderr",
     "output_type": "stream",
     "text": [
      "[16:07:56] Molecule does not have explicit Hs. Consider calling AddHs()\n",
      "[16:07:56] Molecule does not have explicit Hs. Consider calling AddHs()\n",
      "[16:07:56] Molecule does not have explicit Hs. Consider calling AddHs()\n",
      "[16:07:56] Molecule does not have explicit Hs. Consider calling AddHs()\n"
     ]
    },
    {
     "name": "stdout",
     "output_type": "stream",
     "text": [
      "3\n",
      "0\n",
      "no conformer for MolPort-000-794-790\n",
      "0\n",
      "no conformer for MolPort-000-795-100\n"
     ]
    },
    {
     "name": "stderr",
     "output_type": "stream",
     "text": [
      "[16:07:56] Molecule does not have explicit Hs. Consider calling AddHs()\n",
      "[16:07:57] Molecule does not have explicit Hs. Consider calling AddHs()\n",
      "[16:07:57] Molecule does not have explicit Hs. Consider calling AddHs()\n"
     ]
    },
    {
     "name": "stdout",
     "output_type": "stream",
     "text": [
      "0\n",
      "no conformer for MolPort-000-795-761\n",
      "0\n",
      "no conformer for MolPort-000-796-449\n"
     ]
    },
    {
     "name": "stderr",
     "output_type": "stream",
     "text": [
      "[16:07:57] Molecule does not have explicit Hs. Consider calling AddHs()\n",
      "[16:07:57] Molecule does not have explicit Hs. Consider calling AddHs()\n"
     ]
    },
    {
     "name": "stdout",
     "output_type": "stream",
     "text": [
      "2\n"
     ]
    },
    {
     "name": "stderr",
     "output_type": "stream",
     "text": [
      "[16:07:57] Molecule does not have explicit Hs. Consider calling AddHs()\n"
     ]
    },
    {
     "name": "stdout",
     "output_type": "stream",
     "text": [
      "2\n",
      "0\n",
      "no conformer for MolPort-000-802-479\n"
     ]
    },
    {
     "name": "stderr",
     "output_type": "stream",
     "text": [
      "[16:07:58] Molecule does not have explicit Hs. Consider calling AddHs()\n",
      "[16:07:58] Molecule does not have explicit Hs. Consider calling AddHs()\n"
     ]
    },
    {
     "name": "stdout",
     "output_type": "stream",
     "text": [
      "0\n",
      "no conformer for MolPort-000-804-713\n",
      "0\n",
      "no conformer for MolPort-000-806-879\n"
     ]
    },
    {
     "name": "stderr",
     "output_type": "stream",
     "text": [
      "[16:07:58] Molecule does not have explicit Hs. Consider calling AddHs()\n",
      "[16:07:58] Molecule does not have explicit Hs. Consider calling AddHs()\n"
     ]
    },
    {
     "name": "stdout",
     "output_type": "stream",
     "text": [
      "0\n",
      "no conformer for MolPort-000-806-988\n",
      "0\n",
      "no conformer for MolPort-000-807-300\n"
     ]
    },
    {
     "name": "stderr",
     "output_type": "stream",
     "text": [
      "[16:07:58] Molecule does not have explicit Hs. Consider calling AddHs()\n",
      "[16:07:58] Molecule does not have explicit Hs. Consider calling AddHs()\n"
     ]
    },
    {
     "name": "stdout",
     "output_type": "stream",
     "text": [
      "0\n",
      "no conformer for MolPort-000-807-823\n",
      "0\n",
      "no conformer for MolPort-000-809-675\n"
     ]
    },
    {
     "name": "stderr",
     "output_type": "stream",
     "text": [
      "[16:07:59] Molecule does not have explicit Hs. Consider calling AddHs()\n",
      "[16:07:59] Molecule does not have explicit Hs. Consider calling AddHs()\n"
     ]
    },
    {
     "name": "stdout",
     "output_type": "stream",
     "text": [
      "0\n",
      "no conformer for MolPort-000-812-818\n"
     ]
    },
    {
     "name": "stderr",
     "output_type": "stream",
     "text": [
      "[16:07:59] Molecule does not have explicit Hs. Consider calling AddHs()\n"
     ]
    },
    {
     "name": "stdout",
     "output_type": "stream",
     "text": [
      "2\n",
      "0\n",
      "no conformer for MolPort-000-813-265\n"
     ]
    },
    {
     "name": "stderr",
     "output_type": "stream",
     "text": [
      "[16:08:00] Molecule does not have explicit Hs. Consider calling AddHs()\n",
      "[16:08:00] Molecule does not have explicit Hs. Consider calling AddHs()\n"
     ]
    },
    {
     "name": "stdout",
     "output_type": "stream",
     "text": [
      "0\n",
      "no conformer for MolPort-000-813-514\n"
     ]
    },
    {
     "name": "stderr",
     "output_type": "stream",
     "text": [
      "[16:08:00] Molecule does not have explicit Hs. Consider calling AddHs()\n"
     ]
    },
    {
     "name": "stdout",
     "output_type": "stream",
     "text": [
      "2\n"
     ]
    },
    {
     "name": "stderr",
     "output_type": "stream",
     "text": [
      "[16:08:00] Molecule does not have explicit Hs. Consider calling AddHs()\n"
     ]
    },
    {
     "name": "stdout",
     "output_type": "stream",
     "text": [
      "1\n",
      "0\n",
      "no conformer for MolPort-000-813-640\n",
      "0\n",
      "no conformer for MolPort-000-815-524\n"
     ]
    },
    {
     "name": "stderr",
     "output_type": "stream",
     "text": [
      "[16:08:01] Molecule does not have explicit Hs. Consider calling AddHs()\n",
      "[16:08:01] Molecule does not have explicit Hs. Consider calling AddHs()\n",
      "[16:08:01] Molecule does not have explicit Hs. Consider calling AddHs()\n"
     ]
    },
    {
     "name": "stdout",
     "output_type": "stream",
     "text": [
      "0\n",
      "no conformer for MolPort-000-816-367\n",
      "0\n",
      "no conformer for MolPort-000-817-109\n",
      "0\n",
      "no conformer for MolPort-000-817-126\n"
     ]
    },
    {
     "name": "stderr",
     "output_type": "stream",
     "text": [
      "[16:08:01] Molecule does not have explicit Hs. Consider calling AddHs()\n",
      "[16:08:01] Molecule does not have explicit Hs. Consider calling AddHs()\n",
      "[16:08:01] Molecule does not have explicit Hs. Consider calling AddHs()\n"
     ]
    },
    {
     "name": "stdout",
     "output_type": "stream",
     "text": [
      "6\n",
      "0\n",
      "no conformer for MolPort-000-818-177\n"
     ]
    },
    {
     "name": "stderr",
     "output_type": "stream",
     "text": [
      "[16:08:01] Molecule does not have explicit Hs. Consider calling AddHs()\n",
      "[16:08:01] Molecule does not have explicit Hs. Consider calling AddHs()\n"
     ]
    },
    {
     "name": "stdout",
     "output_type": "stream",
     "text": [
      "0\n",
      "no conformer for MolPort-000-819-122\n",
      "0\n",
      "no conformer for MolPort-000-819-661\n"
     ]
    },
    {
     "name": "stderr",
     "output_type": "stream",
     "text": [
      "[16:08:02] Molecule does not have explicit Hs. Consider calling AddHs()\n",
      "[16:08:02] Molecule does not have explicit Hs. Consider calling AddHs()\n"
     ]
    },
    {
     "name": "stdout",
     "output_type": "stream",
     "text": [
      "0\n",
      "no conformer for MolPort-000-820-094\n"
     ]
    },
    {
     "name": "stderr",
     "output_type": "stream",
     "text": [
      "[16:08:02] Molecule does not have explicit Hs. Consider calling AddHs()\n"
     ]
    },
    {
     "name": "stdout",
     "output_type": "stream",
     "text": [
      "3\n",
      "0\n",
      "no conformer for MolPort-000-821-205\n"
     ]
    },
    {
     "name": "stderr",
     "output_type": "stream",
     "text": [
      "[16:08:02] Molecule does not have explicit Hs. Consider calling AddHs()\n",
      "[16:08:02] Molecule does not have explicit Hs. Consider calling AddHs()\n"
     ]
    },
    {
     "name": "stdout",
     "output_type": "stream",
     "text": [
      "3\n",
      "0\n",
      "no conformer for MolPort-000-821-773\n"
     ]
    },
    {
     "name": "stderr",
     "output_type": "stream",
     "text": [
      "[16:08:02] Molecule does not have explicit Hs. Consider calling AddHs()\n",
      "[16:08:03] Molecule does not have explicit Hs. Consider calling AddHs()\n"
     ]
    },
    {
     "name": "stdout",
     "output_type": "stream",
     "text": [
      "1\n",
      "8\n"
     ]
    },
    {
     "name": "stderr",
     "output_type": "stream",
     "text": [
      "[16:08:03] Molecule does not have explicit Hs. Consider calling AddHs()\n",
      "[16:08:03] Molecule does not have explicit Hs. Consider calling AddHs()\n"
     ]
    },
    {
     "name": "stdout",
     "output_type": "stream",
     "text": [
      "0\n",
      "no conformer for MolPort-000-828-385\n",
      "0\n",
      "no conformer for MolPort-000-828-669\n",
      "0\n",
      "no conformer for MolPort-000-829-095\n"
     ]
    },
    {
     "name": "stderr",
     "output_type": "stream",
     "text": [
      "[16:08:03] Molecule does not have explicit Hs. Consider calling AddHs()\n",
      "[16:08:03] Molecule does not have explicit Hs. Consider calling AddHs()\n",
      "[16:08:03] Molecule does not have explicit Hs. Consider calling AddHs()\n"
     ]
    },
    {
     "name": "stdout",
     "output_type": "stream",
     "text": [
      "0\n",
      "no conformer for MolPort-000-838-508\n"
     ]
    },
    {
     "name": "stderr",
     "output_type": "stream",
     "text": [
      "[16:08:03] Molecule does not have explicit Hs. Consider calling AddHs()\n"
     ]
    },
    {
     "name": "stdout",
     "output_type": "stream",
     "text": [
      "0\n",
      "no conformer for MolPort-000-840-544\n",
      "0\n",
      "no conformer for MolPort-000-842-079\n"
     ]
    },
    {
     "name": "stderr",
     "output_type": "stream",
     "text": [
      "[16:08:03] Molecule does not have explicit Hs. Consider calling AddHs()\n",
      "[16:08:04] Molecule does not have explicit Hs. Consider calling AddHs()\n"
     ]
    },
    {
     "name": "stdout",
     "output_type": "stream",
     "text": [
      "0\n",
      "no conformer for MolPort-000-842-146\n",
      "0\n",
      "no conformer for MolPort-000-843-134\n"
     ]
    },
    {
     "name": "stderr",
     "output_type": "stream",
     "text": [
      "[16:08:04] Molecule does not have explicit Hs. Consider calling AddHs()\n",
      "[16:08:04] Molecule does not have explicit Hs. Consider calling AddHs()\n"
     ]
    },
    {
     "name": "stdout",
     "output_type": "stream",
     "text": [
      "0\n",
      "no conformer for MolPort-000-843-463\n",
      "0\n",
      "no conformer for MolPort-000-843-961\n"
     ]
    },
    {
     "name": "stderr",
     "output_type": "stream",
     "text": [
      "[16:08:04] Molecule does not have explicit Hs. Consider calling AddHs()\n",
      "[16:08:04] Molecule does not have explicit Hs. Consider calling AddHs()\n"
     ]
    },
    {
     "name": "stdout",
     "output_type": "stream",
     "text": [
      "0\n",
      "no conformer for MolPort-000-844-280\n",
      "0\n",
      "no conformer for MolPort-000-846-996\n"
     ]
    },
    {
     "name": "stderr",
     "output_type": "stream",
     "text": [
      "[16:08:04] Molecule does not have explicit Hs. Consider calling AddHs()\n",
      "[16:08:04] Molecule does not have explicit Hs. Consider calling AddHs()\n"
     ]
    },
    {
     "name": "stdout",
     "output_type": "stream",
     "text": [
      "0\n",
      "no conformer for MolPort-000-848-010\n",
      "0\n",
      "no conformer for MolPort-000-850-296\n"
     ]
    },
    {
     "name": "stderr",
     "output_type": "stream",
     "text": [
      "[16:08:05] Molecule does not have explicit Hs. Consider calling AddHs()\n",
      "[16:08:05] Molecule does not have explicit Hs. Consider calling AddHs()\n"
     ]
    },
    {
     "name": "stdout",
     "output_type": "stream",
     "text": [
      "0\n",
      "no conformer for MolPort-000-851-383\n",
      "0\n",
      "no conformer for MolPort-000-851-994\n"
     ]
    },
    {
     "name": "stderr",
     "output_type": "stream",
     "text": [
      "[16:08:05] Molecule does not have explicit Hs. Consider calling AddHs()\n",
      "[16:08:05] Molecule does not have explicit Hs. Consider calling AddHs()\n"
     ]
    },
    {
     "name": "stdout",
     "output_type": "stream",
     "text": [
      "0\n",
      "no conformer for MolPort-000-852-966\n",
      "0\n",
      "no conformer for MolPort-000-853-967\n"
     ]
    },
    {
     "name": "stderr",
     "output_type": "stream",
     "text": [
      "[16:08:05] Molecule does not have explicit Hs. Consider calling AddHs()\n",
      "[16:08:06] Molecule does not have explicit Hs. Consider calling AddHs()\n"
     ]
    },
    {
     "name": "stdout",
     "output_type": "stream",
     "text": [
      "0\n",
      "no conformer for MolPort-000-855-119\n",
      "0\n",
      "no conformer for MolPort-000-856-148\n"
     ]
    },
    {
     "name": "stderr",
     "output_type": "stream",
     "text": [
      "[16:08:06] Molecule does not have explicit Hs. Consider calling AddHs()\n",
      "[16:08:06] Molecule does not have explicit Hs. Consider calling AddHs()\n"
     ]
    },
    {
     "name": "stdout",
     "output_type": "stream",
     "text": [
      "0\n",
      "no conformer for MolPort-000-856-403\n",
      "0\n",
      "no conformer for MolPort-000-856-459\n",
      "0\n",
      "no conformer for MolPort-000-857-579\n"
     ]
    },
    {
     "name": "stderr",
     "output_type": "stream",
     "text": [
      "[16:08:06] Molecule does not have explicit Hs. Consider calling AddHs()\n",
      "[16:08:06] Molecule does not have explicit Hs. Consider calling AddHs()\n",
      "[16:08:06] Molecule does not have explicit Hs. Consider calling AddHs()\n"
     ]
    },
    {
     "name": "stdout",
     "output_type": "stream",
     "text": [
      "0\n",
      "no conformer for MolPort-000-857-983\n",
      "0\n",
      "no conformer for MolPort-000-858-150\n"
     ]
    },
    {
     "name": "stderr",
     "output_type": "stream",
     "text": [
      "[16:08:06] Molecule does not have explicit Hs. Consider calling AddHs()\n",
      "[16:08:06] Molecule does not have explicit Hs. Consider calling AddHs()\n"
     ]
    },
    {
     "name": "stdout",
     "output_type": "stream",
     "text": [
      "0\n",
      "no conformer for MolPort-000-859-620\n",
      "23\n",
      "0\n",
      "no conformer for MolPort-000-923-780\n",
      "0\n",
      "no conformer for MolPort-000-923-786\n"
     ]
    },
    {
     "name": "stderr",
     "output_type": "stream",
     "text": [
      "[16:08:06] Molecule does not have explicit Hs. Consider calling AddHs()\n",
      "[16:08:07] Molecule does not have explicit Hs. Consider calling AddHs()\n",
      "[16:08:07] Molecule does not have explicit Hs. Consider calling AddHs()\n",
      "[16:08:07] Molecule does not have explicit Hs. Consider calling AddHs()\n"
     ]
    },
    {
     "name": "stdout",
     "output_type": "stream",
     "text": [
      "0\n",
      "no conformer for MolPort-000-923-787\n",
      "12\n",
      "1\n"
     ]
    },
    {
     "name": "stderr",
     "output_type": "stream",
     "text": [
      "[16:08:07] Molecule does not have explicit Hs. Consider calling AddHs()\n",
      "[16:08:07] Molecule does not have explicit Hs. Consider calling AddHs()\n",
      "[16:08:07] Molecule does not have explicit Hs. Consider calling AddHs()\n"
     ]
    },
    {
     "name": "stdout",
     "output_type": "stream",
     "text": [
      "0\n",
      "no conformer for MolPort-000-927-858\n",
      "0\n",
      "no conformer for MolPort-001-008-727\n"
     ]
    },
    {
     "name": "stderr",
     "output_type": "stream",
     "text": [
      "[16:08:07] Molecule does not have explicit Hs. Consider calling AddHs()\n",
      "[16:08:07] Molecule does not have explicit Hs. Consider calling AddHs()\n"
     ]
    },
    {
     "name": "stdout",
     "output_type": "stream",
     "text": [
      "0\n",
      "no conformer for MolPort-001-009-250\n",
      "0\n",
      "no conformer for MolPort-001-009-251\n"
     ]
    },
    {
     "name": "stderr",
     "output_type": "stream",
     "text": [
      "[16:08:07] Molecule does not have explicit Hs. Consider calling AddHs()\n",
      "[16:08:07] Molecule does not have explicit Hs. Consider calling AddHs()\n"
     ]
    },
    {
     "name": "stdout",
     "output_type": "stream",
     "text": [
      "0\n",
      "no conformer for MolPort-001-009-278\n",
      "0\n",
      "no conformer for MolPort-001-009-279\n"
     ]
    },
    {
     "name": "stderr",
     "output_type": "stream",
     "text": [
      "[16:08:07] Molecule does not have explicit Hs. Consider calling AddHs()\n",
      "[16:08:08] Molecule does not have explicit Hs. Consider calling AddHs()\n"
     ]
    },
    {
     "name": "stdout",
     "output_type": "stream",
     "text": [
      "0\n",
      "no conformer for MolPort-001-011-259\n",
      "0\n",
      "no conformer for MolPort-001-015-475\n",
      "14\n",
      "0\n",
      "no conformer for MolPort-001-601-534\n"
     ]
    },
    {
     "name": "stderr",
     "output_type": "stream",
     "text": [
      "[16:08:08] Molecule does not have explicit Hs. Consider calling AddHs()\n",
      "[16:08:08] Molecule does not have explicit Hs. Consider calling AddHs()\n",
      "[16:08:08] Molecule does not have explicit Hs. Consider calling AddHs()\n",
      "[16:08:08] Molecule does not have explicit Hs. Consider calling AddHs()\n"
     ]
    },
    {
     "name": "stdout",
     "output_type": "stream",
     "text": [
      "12\n",
      "0\n",
      "no conformer for MolPort-001-615-631\n"
     ]
    },
    {
     "name": "stderr",
     "output_type": "stream",
     "text": [
      "[16:08:08] Molecule does not have explicit Hs. Consider calling AddHs()\n",
      "[16:08:08] Molecule does not have explicit Hs. Consider calling AddHs()\n"
     ]
    },
    {
     "name": "stdout",
     "output_type": "stream",
     "text": [
      "14\n",
      "0\n",
      "no conformer for MolPort-001-615-644\n",
      "3\n"
     ]
    },
    {
     "name": "stderr",
     "output_type": "stream",
     "text": [
      "[16:08:08] Molecule does not have explicit Hs. Consider calling AddHs()\n",
      "[16:08:08] Molecule does not have explicit Hs. Consider calling AddHs()\n",
      "[16:08:08] Molecule does not have explicit Hs. Consider calling AddHs()\n"
     ]
    },
    {
     "name": "stdout",
     "output_type": "stream",
     "text": [
      "11\n",
      "0\n",
      "no conformer for MolPort-001-615-661\n"
     ]
    },
    {
     "name": "stderr",
     "output_type": "stream",
     "text": [
      "[16:08:09] Molecule does not have explicit Hs. Consider calling AddHs()\n",
      "[16:08:09] Molecule does not have explicit Hs. Consider calling AddHs()\n"
     ]
    },
    {
     "name": "stdout",
     "output_type": "stream",
     "text": [
      "11\n",
      "7\n"
     ]
    },
    {
     "name": "stderr",
     "output_type": "stream",
     "text": [
      "[16:08:09] Molecule does not have explicit Hs. Consider calling AddHs()\n",
      "[16:08:09] Molecule does not have explicit Hs. Consider calling AddHs()\n"
     ]
    },
    {
     "name": "stdout",
     "output_type": "stream",
     "text": [
      "11\n",
      "9\n"
     ]
    },
    {
     "name": "stderr",
     "output_type": "stream",
     "text": [
      "[16:08:09] Molecule does not have explicit Hs. Consider calling AddHs()\n",
      "[16:08:09] Molecule does not have explicit Hs. Consider calling AddHs()\n"
     ]
    },
    {
     "name": "stdout",
     "output_type": "stream",
     "text": [
      "6\n",
      "13\n"
     ]
    },
    {
     "name": "stderr",
     "output_type": "stream",
     "text": [
      "[16:08:09] Molecule does not have explicit Hs. Consider calling AddHs()\n",
      "[16:08:09] Molecule does not have explicit Hs. Consider calling AddHs()\n"
     ]
    },
    {
     "name": "stdout",
     "output_type": "stream",
     "text": [
      "12\n",
      "6\n",
      "9\n"
     ]
    },
    {
     "name": "stderr",
     "output_type": "stream",
     "text": [
      "[16:08:10] Molecule does not have explicit Hs. Consider calling AddHs()\n",
      "[16:08:10] Molecule does not have explicit Hs. Consider calling AddHs()\n",
      "[16:08:10] Molecule does not have explicit Hs. Consider calling AddHs()\n"
     ]
    },
    {
     "name": "stdout",
     "output_type": "stream",
     "text": [
      "1\n",
      "15\n"
     ]
    },
    {
     "name": "stderr",
     "output_type": "stream",
     "text": [
      "[16:08:10] Molecule does not have explicit Hs. Consider calling AddHs()\n",
      "[16:08:10] Molecule does not have explicit Hs. Consider calling AddHs()\n"
     ]
    },
    {
     "name": "stdout",
     "output_type": "stream",
     "text": [
      "11\n",
      "0\n",
      "no conformer for MolPort-001-848-492\n",
      "12\n"
     ]
    },
    {
     "name": "stderr",
     "output_type": "stream",
     "text": [
      "[16:08:10] Molecule does not have explicit Hs. Consider calling AddHs()\n",
      "[16:08:10] Molecule does not have explicit Hs. Consider calling AddHs()\n",
      "[16:08:10] Molecule does not have explicit Hs. Consider calling AddHs()\n",
      "[16:08:11] Molecule does not have explicit Hs. Consider calling AddHs()\n"
     ]
    },
    {
     "name": "stdout",
     "output_type": "stream",
     "text": [
      "3\n",
      "14\n"
     ]
    },
    {
     "name": "stderr",
     "output_type": "stream",
     "text": [
      "[16:08:11] Molecule does not have explicit Hs. Consider calling AddHs()\n",
      "[16:08:11] Molecule does not have explicit Hs. Consider calling AddHs()\n"
     ]
    },
    {
     "name": "stdout",
     "output_type": "stream",
     "text": [
      "9\n",
      "0\n",
      "no conformer for MolPort-001-629-139\n"
     ]
    },
    {
     "name": "stderr",
     "output_type": "stream",
     "text": [
      "[16:08:11] Molecule does not have explicit Hs. Consider calling AddHs()\n",
      "[16:08:11] Molecule does not have explicit Hs. Consider calling AddHs()\n"
     ]
    },
    {
     "name": "stdout",
     "output_type": "stream",
     "text": [
      "0\n",
      "no conformer for MolPort-001-629-143\n",
      "0\n",
      "no conformer for MolPort-001-629-194\n",
      "0\n",
      "no conformer for MolPort-001-629-952\n"
     ]
    },
    {
     "name": "stderr",
     "output_type": "stream",
     "text": [
      "[16:08:11] Molecule does not have explicit Hs. Consider calling AddHs()\n",
      "[16:08:11] Molecule does not have explicit Hs. Consider calling AddHs()\n",
      "[16:08:11] Molecule does not have explicit Hs. Consider calling AddHs()\n"
     ]
    },
    {
     "name": "stdout",
     "output_type": "stream",
     "text": [
      "0\n",
      "no conformer for MolPort-001-629-953\n",
      "0\n",
      "no conformer for MolPort-001-629-954\n",
      "0\n",
      "no conformer for MolPort-001-629-955\n"
     ]
    },
    {
     "name": "stderr",
     "output_type": "stream",
     "text": [
      "[16:08:11] Molecule does not have explicit Hs. Consider calling AddHs()\n",
      "[16:08:12] Molecule does not have explicit Hs. Consider calling AddHs()\n",
      "[16:08:12] Molecule does not have explicit Hs. Consider calling AddHs()\n"
     ]
    },
    {
     "name": "stdout",
     "output_type": "stream",
     "text": [
      "0\n",
      "no conformer for MolPort-001-629-956\n",
      "0\n",
      "no conformer for MolPort-001-629-957\n",
      "0\n",
      "no conformer for MolPort-001-630-647\n"
     ]
    },
    {
     "name": "stderr",
     "output_type": "stream",
     "text": [
      "[16:08:12] Molecule does not have explicit Hs. Consider calling AddHs()\n",
      "[16:08:12] Molecule does not have explicit Hs. Consider calling AddHs()\n"
     ]
    },
    {
     "name": "stdout",
     "output_type": "stream",
     "text": [
      "0\n",
      "no conformer for MolPort-001-630-648\n",
      "1\n"
     ]
    },
    {
     "name": "stderr",
     "output_type": "stream",
     "text": [
      "[16:08:12] Molecule does not have explicit Hs. Consider calling AddHs()\n",
      "[16:08:12] Molecule does not have explicit Hs. Consider calling AddHs()\n"
     ]
    },
    {
     "name": "stdout",
     "output_type": "stream",
     "text": [
      "0\n",
      "no conformer for MolPort-001-636-733\n",
      "0\n",
      "no conformer for MolPort-001-649-601\n"
     ]
    },
    {
     "name": "stderr",
     "output_type": "stream",
     "text": [
      "[16:08:12] Molecule does not have explicit Hs. Consider calling AddHs()\n",
      "[16:08:12] Molecule does not have explicit Hs. Consider calling AddHs()\n"
     ]
    },
    {
     "name": "stdout",
     "output_type": "stream",
     "text": [
      "0\n",
      "no conformer for MolPort-001-685-753\n",
      "0\n",
      "no conformer for MolPort-001-823-312\n",
      "0\n",
      "no conformer for MolPort-001-828-294\n",
      "0\n",
      "no conformer for MolPort-001-830-020\n"
     ]
    },
    {
     "name": "stderr",
     "output_type": "stream",
     "text": [
      "[16:08:12] Molecule does not have explicit Hs. Consider calling AddHs()\n",
      "[16:08:12] Molecule does not have explicit Hs. Consider calling AddHs()\n",
      "[16:08:13] Molecule does not have explicit Hs. Consider calling AddHs()\n",
      "[16:08:13] Molecule does not have explicit Hs. Consider calling AddHs()\n"
     ]
    },
    {
     "name": "stdout",
     "output_type": "stream",
     "text": [
      "0\n",
      "no conformer for MolPort-001-836-850\n"
     ]
    },
    {
     "name": "stderr",
     "output_type": "stream",
     "text": [
      "[16:08:13] Molecule does not have explicit Hs. Consider calling AddHs()\n"
     ]
    },
    {
     "name": "stdout",
     "output_type": "stream",
     "text": [
      "0\n",
      "no conformer for MolPort-001-844-511\n",
      "18\n",
      "11\n"
     ]
    },
    {
     "name": "stderr",
     "output_type": "stream",
     "text": [
      "[16:08:13] Molecule does not have explicit Hs. Consider calling AddHs()\n",
      "[16:08:13] Molecule does not have explicit Hs. Consider calling AddHs()\n",
      "[16:08:13] Molecule does not have explicit Hs. Consider calling AddHs()\n"
     ]
    },
    {
     "name": "stdout",
     "output_type": "stream",
     "text": [
      "11\n",
      "13\n",
      "21\n"
     ]
    },
    {
     "name": "stderr",
     "output_type": "stream",
     "text": [
      "[16:08:13] Molecule does not have explicit Hs. Consider calling AddHs()\n",
      "[16:08:13] Molecule does not have explicit Hs. Consider calling AddHs()\n",
      "[16:08:13] Molecule does not have explicit Hs. Consider calling AddHs()\n"
     ]
    },
    {
     "name": "stdout",
     "output_type": "stream",
     "text": [
      "11\n",
      "11\n"
     ]
    },
    {
     "name": "stderr",
     "output_type": "stream",
     "text": [
      "[16:08:13] Molecule does not have explicit Hs. Consider calling AddHs()\n",
      "[16:08:13] Molecule does not have explicit Hs. Consider calling AddHs()\n"
     ]
    },
    {
     "name": "stdout",
     "output_type": "stream",
     "text": [
      "12\n",
      "14\n"
     ]
    },
    {
     "name": "stderr",
     "output_type": "stream",
     "text": [
      "[16:08:14] Molecule does not have explicit Hs. Consider calling AddHs()\n",
      "[16:08:14] Molecule does not have explicit Hs. Consider calling AddHs()\n"
     ]
    },
    {
     "name": "stdout",
     "output_type": "stream",
     "text": [
      "8\n",
      "0\n",
      "no conformer for MolPort-001-890-346\n",
      "10\n",
      "0\n",
      "no conformer for MolPort-001-897-732\n"
     ]
    },
    {
     "name": "stderr",
     "output_type": "stream",
     "text": [
      "[16:08:14] Molecule does not have explicit Hs. Consider calling AddHs()\n",
      "[16:08:14] Molecule does not have explicit Hs. Consider calling AddHs()\n",
      "[16:08:14] Molecule does not have explicit Hs. Consider calling AddHs()\n",
      "[16:08:14] Molecule does not have explicit Hs. Consider calling AddHs()\n"
     ]
    },
    {
     "name": "stdout",
     "output_type": "stream",
     "text": [
      "0\n",
      "no conformer for MolPort-002-001-862\n",
      "0\n",
      "no conformer for MolPort-002-012-702\n",
      "19\n"
     ]
    },
    {
     "name": "stderr",
     "output_type": "stream",
     "text": [
      "[16:08:14] Molecule does not have explicit Hs. Consider calling AddHs()\n",
      "[16:08:14] Molecule does not have explicit Hs. Consider calling AddHs()\n",
      "[16:08:14] Molecule does not have explicit Hs. Consider calling AddHs()\n"
     ]
    },
    {
     "name": "stdout",
     "output_type": "stream",
     "text": [
      "3\n",
      "0\n",
      "no conformer for MolPort-001-942-280\n",
      "19\n"
     ]
    },
    {
     "name": "stderr",
     "output_type": "stream",
     "text": [
      "[16:08:14] Molecule does not have explicit Hs. Consider calling AddHs()\n",
      "[16:08:14] Molecule does not have explicit Hs. Consider calling AddHs()\n",
      "[16:08:15] Molecule does not have explicit Hs. Consider calling AddHs()\n"
     ]
    },
    {
     "name": "stdout",
     "output_type": "stream",
     "text": [
      "12\n",
      "0\n",
      "no conformer for MolPort-001-949-230\n",
      "3\n",
      "9\n"
     ]
    },
    {
     "name": "stderr",
     "output_type": "stream",
     "text": [
      "[16:08:15] Molecule does not have explicit Hs. Consider calling AddHs()\n",
      "[16:08:15] Molecule does not have explicit Hs. Consider calling AddHs()\n",
      "[16:08:15] Molecule does not have explicit Hs. Consider calling AddHs()\n",
      "[16:08:15] Molecule does not have explicit Hs. Consider calling AddHs()\n",
      "[16:08:15] Molecule does not have explicit Hs. Consider calling AddHs()\n"
     ]
    },
    {
     "name": "stdout",
     "output_type": "stream",
     "text": [
      "9\n",
      "13\n"
     ]
    },
    {
     "name": "stderr",
     "output_type": "stream",
     "text": [
      "[16:08:15] Molecule does not have explicit Hs. Consider calling AddHs()\n",
      "[16:08:15] Molecule does not have explicit Hs. Consider calling AddHs()\n",
      "[16:08:15] Molecule does not have explicit Hs. Consider calling AddHs()\n"
     ]
    },
    {
     "name": "stdout",
     "output_type": "stream",
     "text": [
      "13\n",
      "0\n",
      "no conformer for MolPort-001-949-229\n",
      "5\n"
     ]
    },
    {
     "name": "stderr",
     "output_type": "stream",
     "text": [
      "[16:08:15] Molecule does not have explicit Hs. Consider calling AddHs()\n",
      "[16:08:15] Molecule does not have explicit Hs. Consider calling AddHs()\n"
     ]
    },
    {
     "name": "stdout",
     "output_type": "stream",
     "text": [
      "9\n",
      "10\n",
      "12\n"
     ]
    },
    {
     "name": "stderr",
     "output_type": "stream",
     "text": [
      "[16:08:15] Molecule does not have explicit Hs. Consider calling AddHs()\n",
      "[16:08:16] Molecule does not have explicit Hs. Consider calling AddHs()\n",
      "[16:08:16] Molecule does not have explicit Hs. Consider calling AddHs()\n"
     ]
    },
    {
     "name": "stdout",
     "output_type": "stream",
     "text": [
      "12\n",
      "13\n",
      "0\n",
      "no conformer for MolPort-001-952-502\n"
     ]
    },
    {
     "name": "stderr",
     "output_type": "stream",
     "text": [
      "[16:08:16] Molecule does not have explicit Hs. Consider calling AddHs()\n",
      "[16:08:16] Molecule does not have explicit Hs. Consider calling AddHs()\n",
      "[16:08:16] Molecule does not have explicit Hs. Consider calling AddHs()\n"
     ]
    },
    {
     "name": "stdout",
     "output_type": "stream",
     "text": [
      "0\n",
      "no conformer for MolPort-001-953-622\n",
      "0\n",
      "no conformer for MolPort-001-954-166\n"
     ]
    },
    {
     "name": "stderr",
     "output_type": "stream",
     "text": [
      "[16:08:16] Molecule does not have explicit Hs. Consider calling AddHs()\n",
      "[16:08:16] Molecule does not have explicit Hs. Consider calling AddHs()\n"
     ]
    },
    {
     "name": "stdout",
     "output_type": "stream",
     "text": [
      "0\n",
      "no conformer for MolPort-001-958-626\n",
      "0\n",
      "no conformer for MolPort-001-960-702\n"
     ]
    },
    {
     "name": "stderr",
     "output_type": "stream",
     "text": [
      "[16:08:16] Molecule does not have explicit Hs. Consider calling AddHs()\n",
      "[16:08:16] Molecule does not have explicit Hs. Consider calling AddHs()\n"
     ]
    },
    {
     "name": "stdout",
     "output_type": "stream",
     "text": [
      "0\n",
      "no conformer for MolPort-001-960-731\n",
      "7\n"
     ]
    },
    {
     "name": "stderr",
     "output_type": "stream",
     "text": [
      "[16:08:16] Molecule does not have explicit Hs. Consider calling AddHs()\n",
      "[16:08:17] Molecule does not have explicit Hs. Consider calling AddHs()\n"
     ]
    },
    {
     "name": "stdout",
     "output_type": "stream",
     "text": [
      "0\n",
      "no conformer for MolPort-001-969-882\n",
      "0\n",
      "no conformer for MolPort-001-969-883\n"
     ]
    },
    {
     "name": "stderr",
     "output_type": "stream",
     "text": [
      "[16:08:17] Molecule does not have explicit Hs. Consider calling AddHs()\n",
      "[16:08:17] Molecule does not have explicit Hs. Consider calling AddHs()\n"
     ]
    },
    {
     "name": "stdout",
     "output_type": "stream",
     "text": [
      "0\n",
      "no conformer for MolPort-001-969-884\n",
      "0\n",
      "no conformer for MolPort-001-969-885\n"
     ]
    },
    {
     "name": "stderr",
     "output_type": "stream",
     "text": [
      "[16:08:17] Molecule does not have explicit Hs. Consider calling AddHs()\n",
      "[16:08:17] Molecule does not have explicit Hs. Consider calling AddHs()\n"
     ]
    },
    {
     "name": "stdout",
     "output_type": "stream",
     "text": [
      "0\n",
      "no conformer for MolPort-001-969-886\n",
      "0\n",
      "no conformer for MolPort-001-969-888\n"
     ]
    },
    {
     "name": "stderr",
     "output_type": "stream",
     "text": [
      "[16:08:17] Molecule does not have explicit Hs. Consider calling AddHs()\n",
      "[16:08:17] Molecule does not have explicit Hs. Consider calling AddHs()\n"
     ]
    },
    {
     "name": "stdout",
     "output_type": "stream",
     "text": [
      "0\n",
      "no conformer for MolPort-001-973-390\n",
      "0\n",
      "no conformer for MolPort-001-985-817\n"
     ]
    },
    {
     "name": "stderr",
     "output_type": "stream",
     "text": [
      "[16:08:17] Molecule does not have explicit Hs. Consider calling AddHs()\n",
      "[16:08:18] Molecule does not have explicit Hs. Consider calling AddHs()\n"
     ]
    },
    {
     "name": "stdout",
     "output_type": "stream",
     "text": [
      "0\n",
      "no conformer for MolPort-001-985-820\n",
      "14\n"
     ]
    },
    {
     "name": "stderr",
     "output_type": "stream",
     "text": [
      "[16:08:18] Molecule does not have explicit Hs. Consider calling AddHs()\n",
      "[16:08:18] Molecule does not have explicit Hs. Consider calling AddHs()\n",
      "[16:08:18] Molecule does not have explicit Hs. Consider calling AddHs()\n"
     ]
    },
    {
     "name": "stdout",
     "output_type": "stream",
     "text": [
      "15\n",
      "0\n",
      "no conformer for MolPort-001-991-497\n",
      "0\n",
      "no conformer for MolPort-001-993-013\n"
     ]
    },
    {
     "name": "stderr",
     "output_type": "stream",
     "text": [
      "[16:08:18] Molecule does not have explicit Hs. Consider calling AddHs()\n",
      "[16:08:18] Molecule does not have explicit Hs. Consider calling AddHs()\n",
      "[16:08:18] Molecule does not have explicit Hs. Consider calling AddHs()\n"
     ]
    },
    {
     "name": "stdout",
     "output_type": "stream",
     "text": [
      "0\n",
      "no conformer for MolPort-001-993-014\n",
      "0\n",
      "no conformer for MolPort-001-993-015\n",
      "0\n",
      "no conformer for MolPort-002-001-859\n"
     ]
    },
    {
     "name": "stderr",
     "output_type": "stream",
     "text": [
      "[16:08:18] Molecule does not have explicit Hs. Consider calling AddHs()\n"
     ]
    },
    {
     "name": "stdout",
     "output_type": "stream",
     "text": [
      "0\n",
      "no conformer for MolPort-002-002-905\n",
      "1\n",
      "0\n",
      "no conformer for MolPort-002-009-385\n"
     ]
    },
    {
     "name": "stderr",
     "output_type": "stream",
     "text": [
      "[16:08:18] Molecule does not have explicit Hs. Consider calling AddHs()\n",
      "[16:08:18] Molecule does not have explicit Hs. Consider calling AddHs()\n",
      "[16:08:19] Molecule does not have explicit Hs. Consider calling AddHs()\n"
     ]
    },
    {
     "name": "stdout",
     "output_type": "stream",
     "text": [
      "0\n",
      "no conformer for MolPort-002-009-391\n"
     ]
    },
    {
     "name": "stderr",
     "output_type": "stream",
     "text": [
      "[16:08:19] Molecule does not have explicit Hs. Consider calling AddHs()\n"
     ]
    },
    {
     "name": "stdout",
     "output_type": "stream",
     "text": [
      "0\n",
      "no conformer for MolPort-002-012-032\n",
      "12\n",
      "0\n",
      "no conformer for MolPort-002-012-655\n",
      "0\n",
      "no conformer for MolPort-002-012-656\n"
     ]
    },
    {
     "name": "stderr",
     "output_type": "stream",
     "text": [
      "[16:08:19] Molecule does not have explicit Hs. Consider calling AddHs()\n",
      "[16:08:19] Molecule does not have explicit Hs. Consider calling AddHs()\n",
      "[16:08:19] Molecule does not have explicit Hs. Consider calling AddHs()\n",
      "[16:08:19] Molecule does not have explicit Hs. Consider calling AddHs()\n"
     ]
    },
    {
     "name": "stdout",
     "output_type": "stream",
     "text": [
      "0\n",
      "no conformer for MolPort-002-012-658\n",
      "0\n",
      "no conformer for MolPort-002-012-659\n",
      "0\n",
      "no conformer for MolPort-002-012-660\n",
      "0\n",
      "no conformer for MolPort-002-012-661\n"
     ]
    },
    {
     "name": "stderr",
     "output_type": "stream",
     "text": [
      "[16:08:19] Molecule does not have explicit Hs. Consider calling AddHs()\n",
      "[16:08:19] Molecule does not have explicit Hs. Consider calling AddHs()\n",
      "[16:08:19] Molecule does not have explicit Hs. Consider calling AddHs()\n",
      "[16:08:19] Molecule does not have explicit Hs. Consider calling AddHs()\n"
     ]
    },
    {
     "name": "stdout",
     "output_type": "stream",
     "text": [
      "0\n",
      "no conformer for MolPort-002-012-662\n",
      "0\n",
      "no conformer for MolPort-002-012-663\n",
      "0\n",
      "no conformer for MolPort-002-012-664\n",
      "0\n",
      "no conformer for MolPort-002-012-665\n"
     ]
    },
    {
     "name": "stderr",
     "output_type": "stream",
     "text": [
      "[16:08:19] Molecule does not have explicit Hs. Consider calling AddHs()\n",
      "[16:08:19] Molecule does not have explicit Hs. Consider calling AddHs()\n",
      "[16:08:20] Molecule does not have explicit Hs. Consider calling AddHs()\n",
      "[16:08:20] Molecule does not have explicit Hs. Consider calling AddHs()\n"
     ]
    },
    {
     "name": "stdout",
     "output_type": "stream",
     "text": [
      "0\n",
      "no conformer for MolPort-002-012-666\n",
      "0\n",
      "no conformer for MolPort-002-012-667\n",
      "0\n",
      "no conformer for MolPort-002-012-668\n",
      "0\n",
      "no conformer for MolPort-002-012-669\n"
     ]
    },
    {
     "name": "stderr",
     "output_type": "stream",
     "text": [
      "[16:08:20] Molecule does not have explicit Hs. Consider calling AddHs()\n",
      "[16:08:20] Molecule does not have explicit Hs. Consider calling AddHs()\n",
      "[16:08:20] Molecule does not have explicit Hs. Consider calling AddHs()\n",
      "[16:08:20] Molecule does not have explicit Hs. Consider calling AddHs()\n"
     ]
    },
    {
     "name": "stdout",
     "output_type": "stream",
     "text": [
      "0\n",
      "no conformer for MolPort-002-012-670\n",
      "0\n",
      "no conformer for MolPort-002-012-671\n",
      "0\n",
      "no conformer for MolPort-002-012-672\n"
     ]
    },
    {
     "name": "stderr",
     "output_type": "stream",
     "text": [
      "[16:08:20] Molecule does not have explicit Hs. Consider calling AddHs()\n",
      "[16:08:20] Molecule does not have explicit Hs. Consider calling AddHs()\n",
      "[16:08:20] Molecule does not have explicit Hs. Consider calling AddHs()\n"
     ]
    },
    {
     "name": "stdout",
     "output_type": "stream",
     "text": [
      "0\n",
      "no conformer for MolPort-002-012-673\n",
      "0\n",
      "no conformer for MolPort-002-012-674\n",
      "0\n",
      "no conformer for MolPort-002-012-675\n"
     ]
    },
    {
     "name": "stderr",
     "output_type": "stream",
     "text": [
      "[16:08:20] Molecule does not have explicit Hs. Consider calling AddHs()\n",
      "[16:08:20] Molecule does not have explicit Hs. Consider calling AddHs()\n",
      "[16:08:20] Molecule does not have explicit Hs. Consider calling AddHs()\n"
     ]
    },
    {
     "name": "stdout",
     "output_type": "stream",
     "text": [
      "0\n",
      "no conformer for MolPort-002-012-676\n",
      "0\n",
      "no conformer for MolPort-002-012-677\n"
     ]
    },
    {
     "name": "stderr",
     "output_type": "stream",
     "text": [
      "[16:08:20] Molecule does not have explicit Hs. Consider calling AddHs()\n",
      "[16:08:21] Molecule does not have explicit Hs. Consider calling AddHs()\n"
     ]
    },
    {
     "name": "stdout",
     "output_type": "stream",
     "text": [
      "0\n",
      "no conformer for MolPort-002-012-678\n",
      "0\n",
      "no conformer for MolPort-002-012-679\n",
      "0\n",
      "no conformer for MolPort-002-012-680\n"
     ]
    },
    {
     "name": "stderr",
     "output_type": "stream",
     "text": [
      "[16:08:21] Molecule does not have explicit Hs. Consider calling AddHs()\n",
      "[16:08:21] Molecule does not have explicit Hs. Consider calling AddHs()\n",
      "[16:08:21] Molecule does not have explicit Hs. Consider calling AddHs()\n"
     ]
    },
    {
     "name": "stdout",
     "output_type": "stream",
     "text": [
      "0\n",
      "no conformer for MolPort-002-012-681\n",
      "0\n",
      "no conformer for MolPort-002-012-682\n",
      "0\n",
      "no conformer for MolPort-002-012-683\n"
     ]
    },
    {
     "name": "stderr",
     "output_type": "stream",
     "text": [
      "[16:08:21] Molecule does not have explicit Hs. Consider calling AddHs()\n",
      "[16:08:21] Molecule does not have explicit Hs. Consider calling AddHs()\n",
      "[16:08:21] Molecule does not have explicit Hs. Consider calling AddHs()\n"
     ]
    },
    {
     "name": "stdout",
     "output_type": "stream",
     "text": [
      "0\n",
      "no conformer for MolPort-002-012-684\n",
      "0\n",
      "no conformer for MolPort-002-012-685\n"
     ]
    },
    {
     "name": "stderr",
     "output_type": "stream",
     "text": [
      "[16:08:21] Molecule does not have explicit Hs. Consider calling AddHs()\n",
      "[16:08:21] Molecule does not have explicit Hs. Consider calling AddHs()\n"
     ]
    },
    {
     "name": "stdout",
     "output_type": "stream",
     "text": [
      "0\n",
      "no conformer for MolPort-002-012-686\n",
      "0\n",
      "no conformer for MolPort-002-012-687\n",
      "0\n",
      "no conformer for MolPort-002-012-688\n"
     ]
    },
    {
     "name": "stderr",
     "output_type": "stream",
     "text": [
      "[16:08:21] Molecule does not have explicit Hs. Consider calling AddHs()\n",
      "[16:08:22] Molecule does not have explicit Hs. Consider calling AddHs()\n",
      "[16:08:22] Molecule does not have explicit Hs. Consider calling AddHs()\n"
     ]
    },
    {
     "name": "stdout",
     "output_type": "stream",
     "text": [
      "0\n",
      "no conformer for MolPort-002-012-689\n",
      "0\n",
      "no conformer for MolPort-002-012-690\n",
      "0\n",
      "no conformer for MolPort-002-012-691\n",
      "0\n",
      "no conformer for MolPort-002-012-692\n"
     ]
    },
    {
     "name": "stderr",
     "output_type": "stream",
     "text": [
      "[16:08:22] Molecule does not have explicit Hs. Consider calling AddHs()\n",
      "[16:08:22] Molecule does not have explicit Hs. Consider calling AddHs()\n",
      "[16:08:22] Molecule does not have explicit Hs. Consider calling AddHs()\n",
      "[16:08:22] Molecule does not have explicit Hs. Consider calling AddHs()\n"
     ]
    },
    {
     "name": "stdout",
     "output_type": "stream",
     "text": [
      "0\n",
      "no conformer for MolPort-002-012-693\n",
      "0\n",
      "no conformer for MolPort-002-012-694\n",
      "0\n",
      "no conformer for MolPort-002-012-695\n",
      "0\n",
      "no conformer for MolPort-002-012-696\n"
     ]
    },
    {
     "name": "stderr",
     "output_type": "stream",
     "text": [
      "[16:08:22] Molecule does not have explicit Hs. Consider calling AddHs()\n",
      "[16:08:22] Molecule does not have explicit Hs. Consider calling AddHs()\n",
      "[16:08:22] Molecule does not have explicit Hs. Consider calling AddHs()\n",
      "[16:08:22] Molecule does not have explicit Hs. Consider calling AddHs()\n"
     ]
    },
    {
     "name": "stdout",
     "output_type": "stream",
     "text": [
      "0\n",
      "no conformer for MolPort-002-012-697\n",
      "0\n",
      "no conformer for MolPort-002-012-698\n",
      "0\n",
      "no conformer for MolPort-002-012-699\n"
     ]
    },
    {
     "name": "stderr",
     "output_type": "stream",
     "text": [
      "[16:08:22] Molecule does not have explicit Hs. Consider calling AddHs()\n",
      "[16:08:22] Molecule does not have explicit Hs. Consider calling AddHs()\n",
      "[16:08:22] Molecule does not have explicit Hs. Consider calling AddHs()\n"
     ]
    },
    {
     "name": "stdout",
     "output_type": "stream",
     "text": [
      "0\n",
      "no conformer for MolPort-002-012-700\n",
      "0\n",
      "no conformer for MolPort-002-012-701\n"
     ]
    },
    {
     "name": "stderr",
     "output_type": "stream",
     "text": [
      "[16:08:22] Molecule does not have explicit Hs. Consider calling AddHs()\n",
      "[16:08:23] Molecule does not have explicit Hs. Consider calling AddHs()\n"
     ]
    },
    {
     "name": "stdout",
     "output_type": "stream",
     "text": [
      "0\n",
      "no conformer for MolPort-002-012-708\n",
      "0\n",
      "no conformer for MolPort-002-012-703\n",
      "0\n",
      "no conformer for MolPort-002-012-704\n"
     ]
    },
    {
     "name": "stderr",
     "output_type": "stream",
     "text": [
      "[16:08:23] Molecule does not have explicit Hs. Consider calling AddHs()\n",
      "[16:08:23] Molecule does not have explicit Hs. Consider calling AddHs()\n",
      "[16:08:23] Molecule does not have explicit Hs. Consider calling AddHs()\n"
     ]
    },
    {
     "name": "stdout",
     "output_type": "stream",
     "text": [
      "0\n",
      "no conformer for MolPort-002-012-705\n",
      "0\n",
      "no conformer for MolPort-002-012-706\n",
      "0\n",
      "no conformer for MolPort-002-012-707\n"
     ]
    },
    {
     "name": "stderr",
     "output_type": "stream",
     "text": [
      "[16:08:23] Molecule does not have explicit Hs. Consider calling AddHs()\n",
      "[16:08:23] Molecule does not have explicit Hs. Consider calling AddHs()\n",
      "[16:08:23] Molecule does not have explicit Hs. Consider calling AddHs()\n"
     ]
    },
    {
     "name": "stdout",
     "output_type": "stream",
     "text": [
      "0\n",
      "no conformer for MolPort-002-146-674\n"
     ]
    },
    {
     "name": "stderr",
     "output_type": "stream",
     "text": [
      "[16:08:23] Molecule does not have explicit Hs. Consider calling AddHs()\n"
     ]
    },
    {
     "name": "stdout",
     "output_type": "stream",
     "text": [
      "4\n",
      "0\n",
      "no conformer for MolPort-002-012-709\n",
      "0\n",
      "no conformer for MolPort-002-012-710\n"
     ]
    },
    {
     "name": "stderr",
     "output_type": "stream",
     "text": [
      "[16:08:24] Molecule does not have explicit Hs. Consider calling AddHs()\n",
      "[16:08:24] Molecule does not have explicit Hs. Consider calling AddHs()\n",
      "[16:08:24] Molecule does not have explicit Hs. Consider calling AddHs()\n"
     ]
    },
    {
     "name": "stdout",
     "output_type": "stream",
     "text": [
      "0\n",
      "no conformer for MolPort-002-012-711\n",
      "10\n",
      "12\n",
      "7\n"
     ]
    },
    {
     "name": "stderr",
     "output_type": "stream",
     "text": [
      "[16:08:24] Molecule does not have explicit Hs. Consider calling AddHs()\n",
      "[16:08:24] Molecule does not have explicit Hs. Consider calling AddHs()\n",
      "[16:08:24] Molecule does not have explicit Hs. Consider calling AddHs()\n",
      "[16:08:24] Molecule does not have explicit Hs. Consider calling AddHs()\n"
     ]
    },
    {
     "name": "stdout",
     "output_type": "stream",
     "text": [
      "0\n",
      "no conformer for MolPort-002-085-917\n",
      "0\n",
      "no conformer for MolPort-002-085-971\n",
      "0\n",
      "no conformer for MolPort-002-094-264\n"
     ]
    },
    {
     "name": "stderr",
     "output_type": "stream",
     "text": [
      "[16:08:24] Molecule does not have explicit Hs. Consider calling AddHs()\n",
      "[16:08:24] Molecule does not have explicit Hs. Consider calling AddHs()\n",
      "[16:08:25] Molecule does not have explicit Hs. Consider calling AddHs()\n"
     ]
    },
    {
     "name": "stdout",
     "output_type": "stream",
     "text": [
      "0\n",
      "no conformer for MolPort-002-102-132\n",
      "0\n",
      "no conformer for MolPort-002-103-422\n",
      "0\n",
      "no conformer for MolPort-002-113-171\n"
     ]
    },
    {
     "name": "stderr",
     "output_type": "stream",
     "text": [
      "[16:08:25] Molecule does not have explicit Hs. Consider calling AddHs()\n",
      "[16:08:25] Molecule does not have explicit Hs. Consider calling AddHs()\n",
      "[16:08:25] Molecule does not have explicit Hs. Consider calling AddHs()\n"
     ]
    },
    {
     "name": "stdout",
     "output_type": "stream",
     "text": [
      "7\n",
      "0\n",
      "no conformer for MolPort-002-113-292\n",
      "36\n"
     ]
    },
    {
     "name": "stderr",
     "output_type": "stream",
     "text": [
      "[16:08:25] Molecule does not have explicit Hs. Consider calling AddHs()\n",
      "[16:08:25] Molecule does not have explicit Hs. Consider calling AddHs()\n",
      "[16:08:25] Molecule does not have explicit Hs. Consider calling AddHs()\n"
     ]
    },
    {
     "name": "stdout",
     "output_type": "stream",
     "text": [
      "0\n",
      "no conformer for MolPort-002-126-544\n",
      "0\n",
      "no conformer for MolPort-002-126-547\n"
     ]
    },
    {
     "name": "stderr",
     "output_type": "stream",
     "text": [
      "[16:08:25] Molecule does not have explicit Hs. Consider calling AddHs()\n",
      "[16:08:25] Molecule does not have explicit Hs. Consider calling AddHs()\n"
     ]
    },
    {
     "name": "stdout",
     "output_type": "stream",
     "text": [
      "0\n",
      "no conformer for MolPort-002-126-556\n",
      "0\n",
      "no conformer for MolPort-002-126-557\n"
     ]
    },
    {
     "name": "stderr",
     "output_type": "stream",
     "text": [
      "[16:08:25] Molecule does not have explicit Hs. Consider calling AddHs()\n",
      "[16:08:26] Molecule does not have explicit Hs. Consider calling AddHs()\n"
     ]
    },
    {
     "name": "stdout",
     "output_type": "stream",
     "text": [
      "0\n",
      "no conformer for MolPort-002-126-567\n",
      "0\n",
      "no conformer for MolPort-002-126-569\n",
      "0\n",
      "no conformer for MolPort-002-126-574\n"
     ]
    },
    {
     "name": "stderr",
     "output_type": "stream",
     "text": [
      "[16:08:26] Molecule does not have explicit Hs. Consider calling AddHs()\n",
      "[16:08:26] Molecule does not have explicit Hs. Consider calling AddHs()\n",
      "[16:08:26] Molecule does not have explicit Hs. Consider calling AddHs()\n",
      "[16:08:26] Molecule does not have explicit Hs. Consider calling AddHs()\n",
      "[16:08:26] Molecule does not have explicit Hs. Consider calling AddHs()\n"
     ]
    },
    {
     "name": "stdout",
     "output_type": "stream",
     "text": [
      "0\n",
      "no conformer for MolPort-002-130-813\n",
      "23\n",
      "0\n",
      "no conformer for MolPort-002-133-775\n",
      "0\n",
      "no conformer for MolPort-002-138-132\n",
      "0\n",
      "no conformer for MolPort-002-138-133\n"
     ]
    },
    {
     "name": "stderr",
     "output_type": "stream",
     "text": [
      "[16:08:26] Molecule does not have explicit Hs. Consider calling AddHs()\n",
      "[16:08:26] Molecule does not have explicit Hs. Consider calling AddHs()\n",
      "[16:08:26] Molecule does not have explicit Hs. Consider calling AddHs()\n"
     ]
    },
    {
     "name": "stdout",
     "output_type": "stream",
     "text": [
      "0\n",
      "no conformer for MolPort-002-138-134\n"
     ]
    },
    {
     "name": "stderr",
     "output_type": "stream",
     "text": [
      "[16:08:26] Molecule does not have explicit Hs. Consider calling AddHs()\n"
     ]
    },
    {
     "name": "stdout",
     "output_type": "stream",
     "text": [
      "0\n",
      "no conformer for MolPort-002-138-147\n",
      "0\n",
      "no conformer for MolPort-002-143-079\n"
     ]
    },
    {
     "name": "stderr",
     "output_type": "stream",
     "text": [
      "[16:08:27] Molecule does not have explicit Hs. Consider calling AddHs()\n",
      "[16:08:27] Molecule does not have explicit Hs. Consider calling AddHs()\n"
     ]
    },
    {
     "name": "stdout",
     "output_type": "stream",
     "text": [
      "0\n",
      "no conformer for MolPort-002-143-223\n",
      "0\n",
      "no conformer for MolPort-002-143-646\n"
     ]
    },
    {
     "name": "stderr",
     "output_type": "stream",
     "text": [
      "[16:08:27] Molecule does not have explicit Hs. Consider calling AddHs()\n",
      "[16:08:27] Molecule does not have explicit Hs. Consider calling AddHs()\n"
     ]
    },
    {
     "name": "stdout",
     "output_type": "stream",
     "text": [
      "0\n",
      "no conformer for MolPort-002-143-728\n",
      "0\n",
      "no conformer for MolPort-002-143-735\n",
      "0\n",
      "no conformer for MolPort-002-143-749\n"
     ]
    },
    {
     "name": "stderr",
     "output_type": "stream",
     "text": [
      "[16:08:27] Molecule does not have explicit Hs. Consider calling AddHs()\n",
      "[16:08:27] Molecule does not have explicit Hs. Consider calling AddHs()\n",
      "[16:08:28] Molecule does not have explicit Hs. Consider calling AddHs()\n"
     ]
    },
    {
     "name": "stdout",
     "output_type": "stream",
     "text": [
      "0\n",
      "no conformer for MolPort-002-143-766\n",
      "0\n",
      "no conformer for MolPort-002-145-627\n"
     ]
    },
    {
     "name": "stderr",
     "output_type": "stream",
     "text": [
      "[16:08:28] Molecule does not have explicit Hs. Consider calling AddHs()\n",
      "[16:08:28] Molecule does not have explicit Hs. Consider calling AddHs()\n"
     ]
    },
    {
     "name": "stdout",
     "output_type": "stream",
     "text": [
      "0\n",
      "no conformer for MolPort-002-145-754\n",
      "0\n",
      "no conformer for MolPort-002-145-769\n"
     ]
    },
    {
     "name": "stderr",
     "output_type": "stream",
     "text": [
      "[16:08:28] Molecule does not have explicit Hs. Consider calling AddHs()\n",
      "[16:08:28] Molecule does not have explicit Hs. Consider calling AddHs()\n"
     ]
    },
    {
     "name": "stdout",
     "output_type": "stream",
     "text": [
      "0\n",
      "no conformer for MolPort-002-146-081\n",
      "0\n",
      "no conformer for MolPort-002-146-220\n"
     ]
    },
    {
     "name": "stderr",
     "output_type": "stream",
     "text": [
      "[16:08:28] Molecule does not have explicit Hs. Consider calling AddHs()\n",
      "[16:08:28] Molecule does not have explicit Hs. Consider calling AddHs()\n"
     ]
    },
    {
     "name": "stdout",
     "output_type": "stream",
     "text": [
      "0\n",
      "no conformer for MolPort-002-146-303\n",
      "0\n",
      "no conformer for MolPort-002-146-349\n"
     ]
    },
    {
     "name": "stderr",
     "output_type": "stream",
     "text": [
      "[16:08:28] Molecule does not have explicit Hs. Consider calling AddHs()\n",
      "[16:08:28] Molecule does not have explicit Hs. Consider calling AddHs()\n"
     ]
    },
    {
     "name": "stdout",
     "output_type": "stream",
     "text": [
      "0\n",
      "no conformer for MolPort-002-146-362\n",
      "0\n",
      "no conformer for MolPort-002-146-540\n",
      "0\n",
      "no conformer for MolPort-002-158-487\n"
     ]
    },
    {
     "name": "stderr",
     "output_type": "stream",
     "text": [
      "[16:08:29] Molecule does not have explicit Hs. Consider calling AddHs()\n",
      "[16:08:29] Molecule does not have explicit Hs. Consider calling AddHs()\n",
      "[16:08:29] Molecule does not have explicit Hs. Consider calling AddHs()\n"
     ]
    },
    {
     "name": "stdout",
     "output_type": "stream",
     "text": [
      "0\n",
      "no conformer for MolPort-002-536-678\n"
     ]
    },
    {
     "name": "stderr",
     "output_type": "stream",
     "text": [
      "[16:08:29] Molecule does not have explicit Hs. Consider calling AddHs()\n"
     ]
    },
    {
     "name": "stdout",
     "output_type": "stream",
     "text": [
      "1\n"
     ]
    },
    {
     "name": "stderr",
     "output_type": "stream",
     "text": [
      "[16:08:29] Molecule does not have explicit Hs. Consider calling AddHs()\n"
     ]
    },
    {
     "name": "stdout",
     "output_type": "stream",
     "text": [
      "2\n"
     ]
    },
    {
     "name": "stderr",
     "output_type": "stream",
     "text": [
      "[16:08:29] Molecule does not have explicit Hs. Consider calling AddHs()\n"
     ]
    },
    {
     "name": "stdout",
     "output_type": "stream",
     "text": [
      "4\n"
     ]
    },
    {
     "name": "stderr",
     "output_type": "stream",
     "text": [
      "[16:08:30] Molecule does not have explicit Hs. Consider calling AddHs()\n"
     ]
    },
    {
     "name": "stdout",
     "output_type": "stream",
     "text": [
      "2\n"
     ]
    },
    {
     "name": "stderr",
     "output_type": "stream",
     "text": [
      "[16:08:30] Molecule does not have explicit Hs. Consider calling AddHs()\n"
     ]
    },
    {
     "name": "stdout",
     "output_type": "stream",
     "text": [
      "4\n"
     ]
    },
    {
     "name": "stderr",
     "output_type": "stream",
     "text": [
      "[16:08:31] Molecule does not have explicit Hs. Consider calling AddHs()\n"
     ]
    },
    {
     "name": "stdout",
     "output_type": "stream",
     "text": [
      "2\n"
     ]
    },
    {
     "name": "stderr",
     "output_type": "stream",
     "text": [
      "[16:08:31] Molecule does not have explicit Hs. Consider calling AddHs()\n"
     ]
    },
    {
     "name": "stdout",
     "output_type": "stream",
     "text": [
      "2\n"
     ]
    },
    {
     "name": "stderr",
     "output_type": "stream",
     "text": [
      "[16:08:31] Molecule does not have explicit Hs. Consider calling AddHs()\n"
     ]
    },
    {
     "name": "stdout",
     "output_type": "stream",
     "text": [
      "4\n"
     ]
    },
    {
     "name": "stderr",
     "output_type": "stream",
     "text": [
      "[16:08:32] Molecule does not have explicit Hs. Consider calling AddHs()\n"
     ]
    },
    {
     "name": "stdout",
     "output_type": "stream",
     "text": [
      "5\n"
     ]
    },
    {
     "name": "stderr",
     "output_type": "stream",
     "text": [
      "[16:08:32] Molecule does not have explicit Hs. Consider calling AddHs()\n"
     ]
    },
    {
     "name": "stdout",
     "output_type": "stream",
     "text": [
      "9\n"
     ]
    },
    {
     "name": "stderr",
     "output_type": "stream",
     "text": [
      "[16:08:32] Molecule does not have explicit Hs. Consider calling AddHs()\n"
     ]
    },
    {
     "name": "stdout",
     "output_type": "stream",
     "text": [
      "8\n"
     ]
    },
    {
     "name": "stderr",
     "output_type": "stream",
     "text": [
      "[16:08:33] Molecule does not have explicit Hs. Consider calling AddHs()\n"
     ]
    },
    {
     "name": "stdout",
     "output_type": "stream",
     "text": [
      "3\n"
     ]
    },
    {
     "name": "stderr",
     "output_type": "stream",
     "text": [
      "[16:08:33] Molecule does not have explicit Hs. Consider calling AddHs()\n"
     ]
    },
    {
     "name": "stdout",
     "output_type": "stream",
     "text": [
      "7\n"
     ]
    },
    {
     "name": "stderr",
     "output_type": "stream",
     "text": [
      "[16:08:33] Molecule does not have explicit Hs. Consider calling AddHs()\n"
     ]
    },
    {
     "name": "stdout",
     "output_type": "stream",
     "text": [
      "5\n"
     ]
    },
    {
     "name": "stderr",
     "output_type": "stream",
     "text": [
      "[16:08:33] Molecule does not have explicit Hs. Consider calling AddHs()\n"
     ]
    },
    {
     "name": "stdout",
     "output_type": "stream",
     "text": [
      "3\n"
     ]
    },
    {
     "name": "stderr",
     "output_type": "stream",
     "text": [
      "[16:08:34] Molecule does not have explicit Hs. Consider calling AddHs()\n"
     ]
    },
    {
     "name": "stdout",
     "output_type": "stream",
     "text": [
      "4\n"
     ]
    },
    {
     "name": "stderr",
     "output_type": "stream",
     "text": [
      "[16:08:34] Molecule does not have explicit Hs. Consider calling AddHs()\n"
     ]
    },
    {
     "name": "stdout",
     "output_type": "stream",
     "text": [
      "7\n"
     ]
    },
    {
     "name": "stderr",
     "output_type": "stream",
     "text": [
      "[16:08:34] Molecule does not have explicit Hs. Consider calling AddHs()\n"
     ]
    },
    {
     "name": "stdout",
     "output_type": "stream",
     "text": [
      "2\n",
      "9\n",
      "24\n",
      "16\n",
      "11\n"
     ]
    },
    {
     "name": "stderr",
     "output_type": "stream",
     "text": [
      "[16:08:35] Molecule does not have explicit Hs. Consider calling AddHs()\n",
      "[16:08:35] Molecule does not have explicit Hs. Consider calling AddHs()\n",
      "[16:08:35] Molecule does not have explicit Hs. Consider calling AddHs()\n",
      "[16:08:35] Molecule does not have explicit Hs. Consider calling AddHs()\n",
      "[16:08:35] Molecule does not have explicit Hs. Consider calling AddHs()\n"
     ]
    },
    {
     "name": "stdout",
     "output_type": "stream",
     "text": [
      "10\n",
      "0\n",
      "no conformer for MolPort-002-207-316\n",
      "0\n",
      "no conformer for MolPort-002-207-955\n"
     ]
    },
    {
     "name": "stderr",
     "output_type": "stream",
     "text": [
      "[16:08:35] Molecule does not have explicit Hs. Consider calling AddHs()\n",
      "[16:08:35] Molecule does not have explicit Hs. Consider calling AddHs()\n",
      "[16:08:35] Molecule does not have explicit Hs. Consider calling AddHs()\n"
     ]
    },
    {
     "name": "stdout",
     "output_type": "stream",
     "text": [
      "0\n",
      "no conformer for MolPort-002-219-175\n",
      "10\n"
     ]
    },
    {
     "name": "stderr",
     "output_type": "stream",
     "text": [
      "[16:08:35] Molecule does not have explicit Hs. Consider calling AddHs()\n",
      "[16:08:36] Molecule does not have explicit Hs. Consider calling AddHs()\n"
     ]
    },
    {
     "name": "stdout",
     "output_type": "stream",
     "text": [
      "0\n",
      "no conformer for MolPort-002-254-357\n",
      "11\n",
      "0\n",
      "no conformer for MolPort-002-266-379\n"
     ]
    },
    {
     "name": "stderr",
     "output_type": "stream",
     "text": [
      "[16:08:36] Molecule does not have explicit Hs. Consider calling AddHs()\n",
      "[16:08:36] Molecule does not have explicit Hs. Consider calling AddHs()\n",
      "[16:08:36] Molecule does not have explicit Hs. Consider calling AddHs()\n"
     ]
    },
    {
     "name": "stdout",
     "output_type": "stream",
     "text": [
      "0\n",
      "no conformer for MolPort-002-270-534\n",
      "0\n",
      "no conformer for MolPort-002-272-359\n",
      "0\n",
      "no conformer for MolPort-002-272-598\n"
     ]
    },
    {
     "name": "stderr",
     "output_type": "stream",
     "text": [
      "[16:08:36] Molecule does not have explicit Hs. Consider calling AddHs()\n",
      "[16:08:36] Molecule does not have explicit Hs. Consider calling AddHs()\n",
      "[16:08:36] Molecule does not have explicit Hs. Consider calling AddHs()\n"
     ]
    },
    {
     "name": "stdout",
     "output_type": "stream",
     "text": [
      "0\n",
      "no conformer for MolPort-002-272-780\n",
      "0\n",
      "no conformer for MolPort-002-273-038\n"
     ]
    },
    {
     "name": "stderr",
     "output_type": "stream",
     "text": [
      "[16:08:36] Molecule does not have explicit Hs. Consider calling AddHs()\n",
      "[16:08:37] Molecule does not have explicit Hs. Consider calling AddHs()\n"
     ]
    },
    {
     "name": "stdout",
     "output_type": "stream",
     "text": [
      "0\n",
      "no conformer for MolPort-002-273-092\n",
      "0\n",
      "no conformer for MolPort-002-273-208\n"
     ]
    },
    {
     "name": "stderr",
     "output_type": "stream",
     "text": [
      "[16:08:37] Molecule does not have explicit Hs. Consider calling AddHs()\n",
      "[16:08:37] Molecule does not have explicit Hs. Consider calling AddHs()\n"
     ]
    },
    {
     "name": "stdout",
     "output_type": "stream",
     "text": [
      "0\n",
      "no conformer for MolPort-002-273-336\n",
      "0\n",
      "no conformer for MolPort-002-273-519\n",
      "0\n",
      "no conformer for MolPort-002-273-746\n"
     ]
    },
    {
     "name": "stderr",
     "output_type": "stream",
     "text": [
      "[16:08:37] Molecule does not have explicit Hs. Consider calling AddHs()\n",
      "[16:08:37] Molecule does not have explicit Hs. Consider calling AddHs()\n",
      "[16:08:37] Molecule does not have explicit Hs. Consider calling AddHs()\n",
      "[16:08:37] Molecule does not have explicit Hs. Consider calling AddHs()\n"
     ]
    },
    {
     "name": "stdout",
     "output_type": "stream",
     "text": [
      "0\n",
      "no conformer for MolPort-002-273-814\n",
      "0\n",
      "no conformer for MolPort-002-274-420\n",
      "0\n",
      "no conformer for MolPort-002-274-725\n",
      "0\n",
      "no conformer for MolPort-002-275-012\n"
     ]
    },
    {
     "name": "stderr",
     "output_type": "stream",
     "text": [
      "[16:08:37] Molecule does not have explicit Hs. Consider calling AddHs()\n",
      "[16:08:37] Molecule does not have explicit Hs. Consider calling AddHs()\n",
      "[16:08:37] Molecule does not have explicit Hs. Consider calling AddHs()\n"
     ]
    },
    {
     "name": "stdout",
     "output_type": "stream",
     "text": [
      "0\n",
      "no conformer for MolPort-002-277-331\n",
      "0\n",
      "no conformer for MolPort-002-278-635\n"
     ]
    },
    {
     "name": "stderr",
     "output_type": "stream",
     "text": [
      "[16:08:38] Molecule does not have explicit Hs. Consider calling AddHs()\n",
      "[16:08:38] Molecule does not have explicit Hs. Consider calling AddHs()\n"
     ]
    },
    {
     "name": "stdout",
     "output_type": "stream",
     "text": [
      "2\n",
      "0\n",
      "no conformer for MolPort-002-278-643\n",
      "15\n"
     ]
    },
    {
     "name": "stderr",
     "output_type": "stream",
     "text": [
      "[16:08:38] Molecule does not have explicit Hs. Consider calling AddHs()\n",
      "[16:08:38] Molecule does not have explicit Hs. Consider calling AddHs()\n",
      "[16:08:38] Molecule does not have explicit Hs. Consider calling AddHs()\n",
      "[16:08:38] Molecule does not have explicit Hs. Consider calling AddHs()\n",
      "[16:08:38] Molecule does not have explicit Hs. Consider calling AddHs()\n"
     ]
    },
    {
     "name": "stdout",
     "output_type": "stream",
     "text": [
      "0\n",
      "no conformer for MolPort-002-279-669\n",
      "5\n",
      "11\n"
     ]
    },
    {
     "name": "stderr",
     "output_type": "stream",
     "text": [
      "[16:08:38] Molecule does not have explicit Hs. Consider calling AddHs()\n",
      "[16:08:38] Molecule does not have explicit Hs. Consider calling AddHs()\n",
      "[16:08:39] Molecule does not have explicit Hs. Consider calling AddHs()\n"
     ]
    },
    {
     "name": "stdout",
     "output_type": "stream",
     "text": [
      "0\n",
      "no conformer for MolPort-002-284-197\n",
      "10\n",
      "0\n",
      "no conformer for MolPort-002-289-082\n",
      "8\n",
      "16\n",
      "8\n"
     ]
    },
    {
     "name": "stderr",
     "output_type": "stream",
     "text": [
      "[16:08:39] Molecule does not have explicit Hs. Consider calling AddHs()\n",
      "[16:08:39] Molecule does not have explicit Hs. Consider calling AddHs()\n",
      "[16:08:39] Molecule does not have explicit Hs. Consider calling AddHs()\n",
      "[16:08:39] Molecule does not have explicit Hs. Consider calling AddHs()\n"
     ]
    },
    {
     "name": "stdout",
     "output_type": "stream",
     "text": [
      "17\n",
      "0\n",
      "no conformer for MolPort-002-290-674\n"
     ]
    },
    {
     "name": "stderr",
     "output_type": "stream",
     "text": [
      "[16:08:39] Molecule does not have explicit Hs. Consider calling AddHs()\n",
      "[16:08:39] Molecule does not have explicit Hs. Consider calling AddHs()\n"
     ]
    },
    {
     "name": "stdout",
     "output_type": "stream",
     "text": [
      "0\n",
      "no conformer for MolPort-002-293-871\n",
      "0\n",
      "no conformer for MolPort-002-294-495\n"
     ]
    },
    {
     "name": "stderr",
     "output_type": "stream",
     "text": [
      "[16:08:39] Molecule does not have explicit Hs. Consider calling AddHs()\n",
      "[16:08:39] Molecule does not have explicit Hs. Consider calling AddHs()\n"
     ]
    },
    {
     "name": "stdout",
     "output_type": "stream",
     "text": [
      "6\n",
      "0\n",
      "no conformer for MolPort-002-296-034\n",
      "5\n"
     ]
    },
    {
     "name": "stderr",
     "output_type": "stream",
     "text": [
      "[16:08:39] Molecule does not have explicit Hs. Consider calling AddHs()\n",
      "[16:08:40] Molecule does not have explicit Hs. Consider calling AddHs()\n",
      "[16:08:40] Molecule does not have explicit Hs. Consider calling AddHs()\n"
     ]
    },
    {
     "name": "stdout",
     "output_type": "stream",
     "text": [
      "4\n",
      "0\n",
      "no conformer for MolPort-002-297-387\n"
     ]
    },
    {
     "name": "stderr",
     "output_type": "stream",
     "text": [
      "[16:08:40] Molecule does not have explicit Hs. Consider calling AddHs()\n",
      "[16:08:40] Molecule does not have explicit Hs. Consider calling AddHs()\n"
     ]
    },
    {
     "name": "stdout",
     "output_type": "stream",
     "text": [
      "2\n",
      "38\n",
      "12\n",
      "1\n"
     ]
    },
    {
     "name": "stderr",
     "output_type": "stream",
     "text": [
      "[16:08:40] Molecule does not have explicit Hs. Consider calling AddHs()\n",
      "[16:08:40] Molecule does not have explicit Hs. Consider calling AddHs()\n",
      "[16:08:40] Molecule does not have explicit Hs. Consider calling AddHs()\n",
      "[16:08:40] Molecule does not have explicit Hs. Consider calling AddHs()\n"
     ]
    },
    {
     "name": "stdout",
     "output_type": "stream",
     "text": [
      "0\n",
      "no conformer for MolPort-002-300-464\n",
      "0\n",
      "no conformer for MolPort-002-300-751\n"
     ]
    },
    {
     "name": "stderr",
     "output_type": "stream",
     "text": [
      "[16:08:40] Molecule does not have explicit Hs. Consider calling AddHs()\n",
      "[16:08:40] Molecule does not have explicit Hs. Consider calling AddHs()\n"
     ]
    },
    {
     "name": "stdout",
     "output_type": "stream",
     "text": [
      "0\n",
      "no conformer for MolPort-002-302-736\n",
      "0\n",
      "no conformer for MolPort-002-304-956\n",
      "0\n",
      "no conformer for MolPort-002-316-968\n"
     ]
    },
    {
     "name": "stderr",
     "output_type": "stream",
     "text": [
      "[16:08:41] Molecule does not have explicit Hs. Consider calling AddHs()\n",
      "[16:08:41] Molecule does not have explicit Hs. Consider calling AddHs()\n",
      "[16:08:41] Molecule does not have explicit Hs. Consider calling AddHs()\n"
     ]
    },
    {
     "name": "stdout",
     "output_type": "stream",
     "text": [
      "0\n",
      "no conformer for MolPort-002-318-556\n",
      "0\n",
      "no conformer for MolPort-002-320-978\n",
      "20\n"
     ]
    },
    {
     "name": "stderr",
     "output_type": "stream",
     "text": [
      "[16:08:41] Molecule does not have explicit Hs. Consider calling AddHs()\n",
      "[16:08:41] Molecule does not have explicit Hs. Consider calling AddHs()\n",
      "[16:08:41] Molecule does not have explicit Hs. Consider calling AddHs()\n"
     ]
    },
    {
     "name": "stdout",
     "output_type": "stream",
     "text": [
      "0\n",
      "no conformer for MolPort-002-324-356\n",
      "0\n",
      "no conformer for MolPort-002-324-904\n",
      "0\n",
      "no conformer for MolPort-002-324-905\n"
     ]
    },
    {
     "name": "stderr",
     "output_type": "stream",
     "text": [
      "[16:08:41] Molecule does not have explicit Hs. Consider calling AddHs()\n",
      "[16:08:41] Molecule does not have explicit Hs. Consider calling AddHs()\n",
      "[16:08:41] Molecule does not have explicit Hs. Consider calling AddHs()\n"
     ]
    },
    {
     "name": "stdout",
     "output_type": "stream",
     "text": [
      "13\n",
      "11\n",
      "0\n",
      "no conformer for MolPort-002-324-908\n",
      "13\n"
     ]
    },
    {
     "name": "stderr",
     "output_type": "stream",
     "text": [
      "[16:08:41] Molecule does not have explicit Hs. Consider calling AddHs()\n",
      "[16:08:41] Molecule does not have explicit Hs. Consider calling AddHs()\n",
      "[16:08:41] Molecule does not have explicit Hs. Consider calling AddHs()\n",
      "[16:08:41] Molecule does not have explicit Hs. Consider calling AddHs()\n",
      "[16:08:42] Molecule does not have explicit Hs. Consider calling AddHs()\n"
     ]
    },
    {
     "name": "stdout",
     "output_type": "stream",
     "text": [
      "0\n",
      "no conformer for MolPort-002-338-255\n",
      "0\n",
      "no conformer for MolPort-002-338-256\n",
      "9\n"
     ]
    },
    {
     "name": "stderr",
     "output_type": "stream",
     "text": [
      "[16:08:42] Molecule does not have explicit Hs. Consider calling AddHs()\n",
      "[16:08:42] Molecule does not have explicit Hs. Consider calling AddHs()\n"
     ]
    },
    {
     "name": "stdout",
     "output_type": "stream",
     "text": [
      "11\n"
     ]
    },
    {
     "name": "stderr",
     "output_type": "stream",
     "text": [
      "[16:08:42] Molecule does not have explicit Hs. Consider calling AddHs()\n"
     ]
    },
    {
     "name": "stdout",
     "output_type": "stream",
     "text": [
      "0\n",
      "no conformer for MolPort-002-359-295\n",
      "0\n",
      "no conformer for MolPort-002-361-327\n"
     ]
    },
    {
     "name": "stderr",
     "output_type": "stream",
     "text": [
      "[16:08:42] Molecule does not have explicit Hs. Consider calling AddHs()\n",
      "[16:08:43] Molecule does not have explicit Hs. Consider calling AddHs()\n"
     ]
    },
    {
     "name": "stdout",
     "output_type": "stream",
     "text": [
      "0\n",
      "no conformer for MolPort-002-512-437\n",
      "0\n",
      "no conformer for MolPort-002-512-639\n",
      "0\n",
      "no conformer for MolPort-002-513-872\n",
      "0\n",
      "no conformer for MolPort-002-513-956\n"
     ]
    },
    {
     "name": "stderr",
     "output_type": "stream",
     "text": [
      "[16:08:43] Molecule does not have explicit Hs. Consider calling AddHs()\n",
      "[16:08:43] Molecule does not have explicit Hs. Consider calling AddHs()\n",
      "[16:08:43] Molecule does not have explicit Hs. Consider calling AddHs()\n",
      "[16:08:43] Molecule does not have explicit Hs. Consider calling AddHs()\n"
     ]
    },
    {
     "name": "stdout",
     "output_type": "stream",
     "text": [
      "0\n",
      "no conformer for MolPort-002-514-196\n",
      "0\n",
      "no conformer for MolPort-002-514-211\n",
      "0\n",
      "no conformer for MolPort-002-514-285\n"
     ]
    },
    {
     "name": "stderr",
     "output_type": "stream",
     "text": [
      "[16:08:43] Molecule does not have explicit Hs. Consider calling AddHs()\n",
      "[16:08:43] Molecule does not have explicit Hs. Consider calling AddHs()\n",
      "[16:08:43] Molecule does not have explicit Hs. Consider calling AddHs()\n"
     ]
    },
    {
     "name": "stdout",
     "output_type": "stream",
     "text": [
      "0\n",
      "no conformer for MolPort-002-530-691\n",
      "0\n",
      "no conformer for MolPort-002-530-801\n",
      "0\n",
      "no conformer for MolPort-002-530-993\n"
     ]
    },
    {
     "name": "stderr",
     "output_type": "stream",
     "text": [
      "[16:08:43] Molecule does not have explicit Hs. Consider calling AddHs()\n",
      "[16:08:43] Molecule does not have explicit Hs. Consider calling AddHs()\n",
      "[16:08:43] Molecule does not have explicit Hs. Consider calling AddHs()\n"
     ]
    },
    {
     "name": "stdout",
     "output_type": "stream",
     "text": [
      "0\n",
      "no conformer for MolPort-002-531-077\n",
      "0\n",
      "no conformer for MolPort-002-531-285\n"
     ]
    },
    {
     "name": "stderr",
     "output_type": "stream",
     "text": [
      "[16:08:43] Molecule does not have explicit Hs. Consider calling AddHs()\n",
      "[16:08:43] Molecule does not have explicit Hs. Consider calling AddHs()\n"
     ]
    },
    {
     "name": "stdout",
     "output_type": "stream",
     "text": [
      "0\n",
      "no conformer for MolPort-002-531-622\n",
      "0\n",
      "no conformer for MolPort-002-532-637\n"
     ]
    },
    {
     "name": "stderr",
     "output_type": "stream",
     "text": [
      "[16:08:44] Molecule does not have explicit Hs. Consider calling AddHs()\n",
      "[16:08:44] Molecule does not have explicit Hs. Consider calling AddHs()\n"
     ]
    },
    {
     "name": "stdout",
     "output_type": "stream",
     "text": [
      "0\n",
      "no conformer for MolPort-002-532-647\n"
     ]
    },
    {
     "name": "stderr",
     "output_type": "stream",
     "text": [
      "[16:08:44] Molecule does not have explicit Hs. Consider calling AddHs()\n"
     ]
    },
    {
     "name": "stdout",
     "output_type": "stream",
     "text": [
      "0\n",
      "no conformer for MolPort-002-535-764\n",
      "0\n",
      "no conformer for MolPort-002-535-901\n"
     ]
    },
    {
     "name": "stderr",
     "output_type": "stream",
     "text": [
      "[16:08:44] Molecule does not have explicit Hs. Consider calling AddHs()\n",
      "[16:08:44] Molecule does not have explicit Hs. Consider calling AddHs()\n"
     ]
    },
    {
     "name": "stdout",
     "output_type": "stream",
     "text": [
      "0\n",
      "no conformer for MolPort-002-535-927\n",
      "0\n",
      "no conformer for MolPort-002-535-958\n"
     ]
    },
    {
     "name": "stderr",
     "output_type": "stream",
     "text": [
      "[16:08:44] Molecule does not have explicit Hs. Consider calling AddHs()\n",
      "[16:08:44] Molecule does not have explicit Hs. Consider calling AddHs()\n"
     ]
    },
    {
     "name": "stdout",
     "output_type": "stream",
     "text": [
      "0\n",
      "no conformer for MolPort-002-536-034\n",
      "0\n",
      "no conformer for MolPort-002-536-085\n"
     ]
    },
    {
     "name": "stderr",
     "output_type": "stream",
     "text": [
      "[16:08:45] Molecule does not have explicit Hs. Consider calling AddHs()\n",
      "[16:08:45] Molecule does not have explicit Hs. Consider calling AddHs()\n"
     ]
    },
    {
     "name": "stdout",
     "output_type": "stream",
     "text": [
      "0\n",
      "no conformer for MolPort-002-536-095\n",
      "0\n",
      "no conformer for MolPort-002-536-163\n"
     ]
    },
    {
     "name": "stderr",
     "output_type": "stream",
     "text": [
      "[16:08:45] Molecule does not have explicit Hs. Consider calling AddHs()\n",
      "[16:08:45] Molecule does not have explicit Hs. Consider calling AddHs()\n"
     ]
    },
    {
     "name": "stdout",
     "output_type": "stream",
     "text": [
      "0\n",
      "no conformer for MolPort-002-536-252\n",
      "0\n",
      "no conformer for MolPort-002-536-259\n"
     ]
    },
    {
     "name": "stderr",
     "output_type": "stream",
     "text": [
      "[16:08:45] Molecule does not have explicit Hs. Consider calling AddHs()\n",
      "[16:08:45] Molecule does not have explicit Hs. Consider calling AddHs()\n"
     ]
    },
    {
     "name": "stdout",
     "output_type": "stream",
     "text": [
      "1\n",
      "0\n",
      "no conformer for MolPort-002-536-320\n"
     ]
    },
    {
     "name": "stderr",
     "output_type": "stream",
     "text": [
      "[16:08:45] Molecule does not have explicit Hs. Consider calling AddHs()\n",
      "[16:08:46] Molecule does not have explicit Hs. Consider calling AddHs()\n"
     ]
    },
    {
     "name": "stdout",
     "output_type": "stream",
     "text": [
      "0\n",
      "no conformer for MolPort-002-536-338\n",
      "0\n",
      "no conformer for MolPort-002-536-353\n"
     ]
    },
    {
     "name": "stderr",
     "output_type": "stream",
     "text": [
      "[16:08:46] Molecule does not have explicit Hs. Consider calling AddHs()\n",
      "[16:08:46] Molecule does not have explicit Hs. Consider calling AddHs()\n"
     ]
    },
    {
     "name": "stdout",
     "output_type": "stream",
     "text": [
      "0\n",
      "no conformer for MolPort-002-536-354\n",
      "0\n",
      "no conformer for MolPort-002-536-381\n"
     ]
    },
    {
     "name": "stderr",
     "output_type": "stream",
     "text": [
      "[16:08:46] Molecule does not have explicit Hs. Consider calling AddHs()\n",
      "[16:08:46] Molecule does not have explicit Hs. Consider calling AddHs()\n"
     ]
    },
    {
     "name": "stdout",
     "output_type": "stream",
     "text": [
      "0\n",
      "no conformer for MolPort-002-536-394\n",
      "0\n",
      "no conformer for MolPort-002-536-433\n"
     ]
    },
    {
     "name": "stderr",
     "output_type": "stream",
     "text": [
      "[16:08:46] Molecule does not have explicit Hs. Consider calling AddHs()\n",
      "[16:08:46] Molecule does not have explicit Hs. Consider calling AddHs()\n"
     ]
    },
    {
     "name": "stdout",
     "output_type": "stream",
     "text": [
      "0\n",
      "no conformer for MolPort-002-536-434\n",
      "0\n",
      "no conformer for MolPort-002-536-492\n"
     ]
    },
    {
     "name": "stderr",
     "output_type": "stream",
     "text": [
      "[16:08:47] Molecule does not have explicit Hs. Consider calling AddHs()\n",
      "[16:08:47] Molecule does not have explicit Hs. Consider calling AddHs()\n"
     ]
    },
    {
     "name": "stdout",
     "output_type": "stream",
     "text": [
      "0\n",
      "no conformer for MolPort-002-536-594\n",
      "10\n"
     ]
    },
    {
     "name": "stderr",
     "output_type": "stream",
     "text": [
      "[16:08:47] Molecule does not have explicit Hs. Consider calling AddHs()\n",
      "[16:08:47] Molecule does not have explicit Hs. Consider calling AddHs()\n"
     ]
    },
    {
     "name": "stdout",
     "output_type": "stream",
     "text": [
      "0\n",
      "no conformer for MolPort-002-934-011\n",
      "0\n",
      "no conformer for MolPort-002-290-370\n",
      "0\n",
      "no conformer for MolPort-002-293-549\n"
     ]
    },
    {
     "name": "stderr",
     "output_type": "stream",
     "text": [
      "[16:08:47] Molecule does not have explicit Hs. Consider calling AddHs()\n",
      "[16:08:47] Molecule does not have explicit Hs. Consider calling AddHs()\n",
      "[16:08:47] Molecule does not have explicit Hs. Consider calling AddHs()\n"
     ]
    },
    {
     "name": "stdout",
     "output_type": "stream",
     "text": [
      "0\n",
      "no conformer for MolPort-002-302-444\n",
      "0\n",
      "no conformer for MolPort-002-305-297\n"
     ]
    },
    {
     "name": "stderr",
     "output_type": "stream",
     "text": [
      "[16:08:47] Molecule does not have explicit Hs. Consider calling AddHs()\n",
      "[16:08:48] Molecule does not have explicit Hs. Consider calling AddHs()\n"
     ]
    },
    {
     "name": "stdout",
     "output_type": "stream",
     "text": [
      "6\n",
      "0\n",
      "no conformer for MolPort-002-516-914\n",
      "0\n",
      "no conformer for MolPort-002-536-725\n"
     ]
    },
    {
     "name": "stderr",
     "output_type": "stream",
     "text": [
      "[16:08:48] Molecule does not have explicit Hs. Consider calling AddHs()\n",
      "[16:08:48] Molecule does not have explicit Hs. Consider calling AddHs()\n",
      "[16:08:48] Molecule does not have explicit Hs. Consider calling AddHs()\n",
      "[16:08:48] Molecule does not have explicit Hs. Consider calling AddHs()\n",
      "[16:08:48] Molecule does not have explicit Hs. Consider calling AddHs()\n"
     ]
    },
    {
     "name": "stdout",
     "output_type": "stream",
     "text": [
      "0\n",
      "no conformer for MolPort-002-543-748\n",
      "8\n",
      "0\n",
      "no conformer for MolPort-002-550-310\n"
     ]
    },
    {
     "name": "stderr",
     "output_type": "stream",
     "text": [
      "[16:08:48] Molecule does not have explicit Hs. Consider calling AddHs()\n",
      "[16:08:48] Molecule does not have explicit Hs. Consider calling AddHs()\n",
      "[16:08:48] Molecule does not have explicit Hs. Consider calling AddHs()\n"
     ]
    },
    {
     "name": "stdout",
     "output_type": "stream",
     "text": [
      "0\n",
      "no conformer for MolPort-002-550-627\n",
      "0\n",
      "no conformer for MolPort-002-551-820\n",
      "3\n",
      "0\n",
      "no conformer for MolPort-002-552-477\n"
     ]
    },
    {
     "name": "stderr",
     "output_type": "stream",
     "text": [
      "[16:08:49] Molecule does not have explicit Hs. Consider calling AddHs()\n",
      "[16:08:49] Molecule does not have explicit Hs. Consider calling AddHs()\n"
     ]
    },
    {
     "name": "stdout",
     "output_type": "stream",
     "text": [
      "0\n",
      "no conformer for MolPort-002-561-817\n"
     ]
    },
    {
     "name": "stderr",
     "output_type": "stream",
     "text": [
      "[16:08:49] Molecule does not have explicit Hs. Consider calling AddHs()\n"
     ]
    },
    {
     "name": "stdout",
     "output_type": "stream",
     "text": [
      "0\n",
      "no conformer for MolPort-002-561-849\n",
      "1\n"
     ]
    },
    {
     "name": "stderr",
     "output_type": "stream",
     "text": [
      "[16:08:49] Molecule does not have explicit Hs. Consider calling AddHs()\n",
      "[16:08:49] Molecule does not have explicit Hs. Consider calling AddHs()\n"
     ]
    },
    {
     "name": "stdout",
     "output_type": "stream",
     "text": [
      "0\n",
      "no conformer for MolPort-002-561-991\n"
     ]
    },
    {
     "name": "stderr",
     "output_type": "stream",
     "text": [
      "[16:08:50] Molecule does not have explicit Hs. Consider calling AddHs()\n"
     ]
    },
    {
     "name": "stdout",
     "output_type": "stream",
     "text": [
      "0\n",
      "no conformer for MolPort-002-562-175\n"
     ]
    },
    {
     "name": "stderr",
     "output_type": "stream",
     "text": [
      "[16:08:50] Molecule does not have explicit Hs. Consider calling AddHs()\n"
     ]
    },
    {
     "name": "stdout",
     "output_type": "stream",
     "text": [
      "0\n",
      "no conformer for MolPort-002-562-181\n"
     ]
    },
    {
     "name": "stderr",
     "output_type": "stream",
     "text": [
      "[16:08:50] Molecule does not have explicit Hs. Consider calling AddHs()\n"
     ]
    },
    {
     "name": "stdout",
     "output_type": "stream",
     "text": [
      "1\n",
      "0\n",
      "no conformer for MolPort-002-562-300\n"
     ]
    },
    {
     "name": "stderr",
     "output_type": "stream",
     "text": [
      "[16:08:50] Molecule does not have explicit Hs. Consider calling AddHs()\n",
      "[16:08:51] Molecule does not have explicit Hs. Consider calling AddHs()\n"
     ]
    },
    {
     "name": "stdout",
     "output_type": "stream",
     "text": [
      "0\n",
      "no conformer for MolPort-002-562-346\n",
      "0\n",
      "no conformer for MolPort-002-590-654\n",
      "0\n",
      "no conformer for MolPort-002-593-197\n"
     ]
    },
    {
     "name": "stderr",
     "output_type": "stream",
     "text": [
      "[16:08:51] Molecule does not have explicit Hs. Consider calling AddHs()\n",
      "[16:08:51] Molecule does not have explicit Hs. Consider calling AddHs()\n",
      "[16:08:51] Molecule does not have explicit Hs. Consider calling AddHs()\n",
      "[16:08:51] Molecule does not have explicit Hs. Consider calling AddHs()\n"
     ]
    },
    {
     "name": "stdout",
     "output_type": "stream",
     "text": [
      "0\n",
      "no conformer for MolPort-002-607-849\n",
      "0\n",
      "no conformer for MolPort-002-610-365\n"
     ]
    },
    {
     "name": "stderr",
     "output_type": "stream",
     "text": [
      "[16:08:51] Molecule does not have explicit Hs. Consider calling AddHs()\n",
      "[16:08:51] Molecule does not have explicit Hs. Consider calling AddHs()\n"
     ]
    },
    {
     "name": "stdout",
     "output_type": "stream",
     "text": [
      "0\n",
      "no conformer for MolPort-002-612-178\n",
      "0\n",
      "no conformer for MolPort-002-614-031\n"
     ]
    },
    {
     "name": "stderr",
     "output_type": "stream",
     "text": [
      "[16:08:51] Molecule does not have explicit Hs. Consider calling AddHs()\n",
      "[16:08:51] Molecule does not have explicit Hs. Consider calling AddHs()\n",
      "[16:08:52] Molecule does not have explicit Hs. Consider calling AddHs()\n"
     ]
    },
    {
     "name": "stdout",
     "output_type": "stream",
     "text": [
      "0\n",
      "no conformer for MolPort-002-615-500\n",
      "0\n",
      "no conformer for MolPort-002-616-274\n",
      "0\n",
      "no conformer for MolPort-002-616-904\n"
     ]
    },
    {
     "name": "stderr",
     "output_type": "stream",
     "text": [
      "[16:08:52] Molecule does not have explicit Hs. Consider calling AddHs()\n",
      "[16:08:52] Molecule does not have explicit Hs. Consider calling AddHs()\n",
      "[16:08:52] Molecule does not have explicit Hs. Consider calling AddHs()\n"
     ]
    },
    {
     "name": "stdout",
     "output_type": "stream",
     "text": [
      "0\n",
      "no conformer for MolPort-002-617-176\n",
      "0\n",
      "no conformer for MolPort-002-618-804\n",
      "0\n",
      "no conformer for MolPort-002-619-046\n",
      "0\n",
      "no conformer for MolPort-002-619-284\n"
     ]
    },
    {
     "name": "stderr",
     "output_type": "stream",
     "text": [
      "[16:08:52] Molecule does not have explicit Hs. Consider calling AddHs()\n",
      "[16:08:52] Molecule does not have explicit Hs. Consider calling AddHs()\n"
     ]
    },
    {
     "name": "stdout",
     "output_type": "stream",
     "text": [
      "0\n",
      "no conformer for MolPort-002-619-329\n",
      "0\n",
      "no conformer for MolPort-002-620-338\n",
      "0\n",
      "no conformer for MolPort-002-620-619\n"
     ]
    },
    {
     "name": "stderr",
     "output_type": "stream",
     "text": [
      "[16:08:52] Molecule does not have explicit Hs. Consider calling AddHs()\n",
      "[16:08:52] Molecule does not have explicit Hs. Consider calling AddHs()\n",
      "[16:08:52] Molecule does not have explicit Hs. Consider calling AddHs()\n"
     ]
    },
    {
     "name": "stdout",
     "output_type": "stream",
     "text": [
      "0\n",
      "no conformer for MolPort-002-620-978\n",
      "0\n",
      "no conformer for MolPort-002-623-313\n",
      "0\n",
      "no conformer for MolPort-002-623-720\n"
     ]
    },
    {
     "name": "stderr",
     "output_type": "stream",
     "text": [
      "[16:08:52] Molecule does not have explicit Hs. Consider calling AddHs()\n",
      "[16:08:53] Molecule does not have explicit Hs. Consider calling AddHs()\n",
      "[16:08:53] Molecule does not have explicit Hs. Consider calling AddHs()\n"
     ]
    },
    {
     "name": "stdout",
     "output_type": "stream",
     "text": [
      "0\n",
      "no conformer for MolPort-002-643-149\n",
      "0\n",
      "no conformer for MolPort-002-646-938\n",
      "0\n",
      "no conformer for MolPort-002-654-225\n"
     ]
    },
    {
     "name": "stderr",
     "output_type": "stream",
     "text": [
      "[16:08:53] Molecule does not have explicit Hs. Consider calling AddHs()\n",
      "[16:08:53] Molecule does not have explicit Hs. Consider calling AddHs()\n",
      "[16:08:53] Molecule does not have explicit Hs. Consider calling AddHs()\n"
     ]
    },
    {
     "name": "stdout",
     "output_type": "stream",
     "text": [
      "0\n",
      "no conformer for MolPort-002-654-775\n"
     ]
    },
    {
     "name": "stderr",
     "output_type": "stream",
     "text": [
      "[16:08:53] Molecule does not have explicit Hs. Consider calling AddHs()\n"
     ]
    },
    {
     "name": "stdout",
     "output_type": "stream",
     "text": [
      "0\n",
      "no conformer for MolPort-002-654-885\n",
      "0\n",
      "no conformer for MolPort-002-655-130\n"
     ]
    },
    {
     "name": "stderr",
     "output_type": "stream",
     "text": [
      "[16:08:53] Molecule does not have explicit Hs. Consider calling AddHs()\n",
      "[16:08:53] Molecule does not have explicit Hs. Consider calling AddHs()\n"
     ]
    },
    {
     "name": "stdout",
     "output_type": "stream",
     "text": [
      "0\n",
      "no conformer for MolPort-002-655-156\n",
      "0\n",
      "no conformer for MolPort-002-655-199\n"
     ]
    },
    {
     "name": "stderr",
     "output_type": "stream",
     "text": [
      "[16:08:53] Molecule does not have explicit Hs. Consider calling AddHs()\n",
      "[16:08:54] Molecule does not have explicit Hs. Consider calling AddHs()\n"
     ]
    },
    {
     "name": "stdout",
     "output_type": "stream",
     "text": [
      "0\n",
      "no conformer for MolPort-002-655-479\n",
      "0\n",
      "no conformer for MolPort-002-655-616\n"
     ]
    },
    {
     "name": "stderr",
     "output_type": "stream",
     "text": [
      "[16:08:54] Molecule does not have explicit Hs. Consider calling AddHs()\n",
      "[16:08:54] Molecule does not have explicit Hs. Consider calling AddHs()\n"
     ]
    },
    {
     "name": "stdout",
     "output_type": "stream",
     "text": [
      "0\n",
      "no conformer for MolPort-002-655-927\n"
     ]
    },
    {
     "name": "stderr",
     "output_type": "stream",
     "text": [
      "[16:08:54] Molecule does not have explicit Hs. Consider calling AddHs()\n"
     ]
    },
    {
     "name": "stdout",
     "output_type": "stream",
     "text": [
      "0\n",
      "no conformer for MolPort-002-655-938\n",
      "0\n",
      "no conformer for MolPort-002-656-092\n"
     ]
    },
    {
     "name": "stderr",
     "output_type": "stream",
     "text": [
      "[16:08:54] Molecule does not have explicit Hs. Consider calling AddHs()\n",
      "[16:08:55] Molecule does not have explicit Hs. Consider calling AddHs()\n"
     ]
    },
    {
     "name": "stdout",
     "output_type": "stream",
     "text": [
      "0\n",
      "no conformer for MolPort-002-656-130\n",
      "0\n",
      "no conformer for MolPort-002-656-333\n"
     ]
    },
    {
     "name": "stderr",
     "output_type": "stream",
     "text": [
      "[16:08:55] Molecule does not have explicit Hs. Consider calling AddHs()\n",
      "[16:08:55] Molecule does not have explicit Hs. Consider calling AddHs()\n"
     ]
    },
    {
     "name": "stdout",
     "output_type": "stream",
     "text": [
      "0\n",
      "no conformer for MolPort-002-656-900\n",
      "0\n",
      "no conformer for MolPort-002-657-064\n"
     ]
    },
    {
     "name": "stderr",
     "output_type": "stream",
     "text": [
      "[16:08:55] Molecule does not have explicit Hs. Consider calling AddHs()\n",
      "[16:08:55] Molecule does not have explicit Hs. Consider calling AddHs()\n"
     ]
    },
    {
     "name": "stdout",
     "output_type": "stream",
     "text": [
      "0\n",
      "no conformer for MolPort-002-657-820\n",
      "0\n",
      "no conformer for MolPort-002-658-042\n"
     ]
    },
    {
     "name": "stderr",
     "output_type": "stream",
     "text": [
      "[16:08:55] Molecule does not have explicit Hs. Consider calling AddHs()\n",
      "[16:08:56] Molecule does not have explicit Hs. Consider calling AddHs()\n"
     ]
    },
    {
     "name": "stdout",
     "output_type": "stream",
     "text": [
      "0\n",
      "no conformer for MolPort-002-672-226\n",
      "0\n",
      "no conformer for MolPort-002-672-415\n",
      "0\n",
      "no conformer for MolPort-002-672-455\n"
     ]
    },
    {
     "name": "stderr",
     "output_type": "stream",
     "text": [
      "[16:08:56] Molecule does not have explicit Hs. Consider calling AddHs()\n",
      "[16:08:56] Molecule does not have explicit Hs. Consider calling AddHs()\n",
      "[16:08:56] Molecule does not have explicit Hs. Consider calling AddHs()\n"
     ]
    },
    {
     "name": "stdout",
     "output_type": "stream",
     "text": [
      "0\n",
      "no conformer for MolPort-002-672-479\n"
     ]
    },
    {
     "name": "stderr",
     "output_type": "stream",
     "text": [
      "[16:08:56] Molecule does not have explicit Hs. Consider calling AddHs()\n"
     ]
    },
    {
     "name": "stdout",
     "output_type": "stream",
     "text": [
      "0\n",
      "no conformer for MolPort-002-673-282\n",
      "0\n",
      "no conformer for MolPort-002-673-348\n",
      "0\n",
      "no conformer for MolPort-002-674-314\n"
     ]
    },
    {
     "name": "stderr",
     "output_type": "stream",
     "text": [
      "[16:08:56] Molecule does not have explicit Hs. Consider calling AddHs()\n",
      "[16:08:56] Molecule does not have explicit Hs. Consider calling AddHs()\n",
      "[16:08:56] Molecule does not have explicit Hs. Consider calling AddHs()\n"
     ]
    },
    {
     "name": "stdout",
     "output_type": "stream",
     "text": [
      "0\n",
      "no conformer for MolPort-002-674-859\n",
      "0\n",
      "no conformer for MolPort-002-675-855\n"
     ]
    },
    {
     "name": "stderr",
     "output_type": "stream",
     "text": [
      "[16:08:56] Molecule does not have explicit Hs. Consider calling AddHs()\n",
      "[16:08:56] Molecule does not have explicit Hs. Consider calling AddHs()\n"
     ]
    },
    {
     "name": "stdout",
     "output_type": "stream",
     "text": [
      "0\n",
      "no conformer for MolPort-002-676-772\n",
      "0\n",
      "no conformer for MolPort-002-676-875\n",
      "0\n",
      "no conformer for MolPort-002-691-697\n"
     ]
    },
    {
     "name": "stderr",
     "output_type": "stream",
     "text": [
      "[16:08:56] Molecule does not have explicit Hs. Consider calling AddHs()\n",
      "[16:08:57] Molecule does not have explicit Hs. Consider calling AddHs()\n",
      "[16:08:57] Molecule does not have explicit Hs. Consider calling AddHs()\n"
     ]
    },
    {
     "name": "stdout",
     "output_type": "stream",
     "text": [
      "11\n",
      "0\n",
      "no conformer for MolPort-002-706-625\n"
     ]
    },
    {
     "name": "stderr",
     "output_type": "stream",
     "text": [
      "[16:08:57] Molecule does not have explicit Hs. Consider calling AddHs()\n",
      "[16:08:57] Molecule does not have explicit Hs. Consider calling AddHs()\n"
     ]
    },
    {
     "name": "stdout",
     "output_type": "stream",
     "text": [
      "0\n",
      "no conformer for MolPort-002-706-816\n",
      "0\n",
      "no conformer for MolPort-002-707-478\n"
     ]
    },
    {
     "name": "stderr",
     "output_type": "stream",
     "text": [
      "[16:08:57] Molecule does not have explicit Hs. Consider calling AddHs()\n",
      "[16:08:57] Molecule does not have explicit Hs. Consider calling AddHs()\n"
     ]
    },
    {
     "name": "stdout",
     "output_type": "stream",
     "text": [
      "0\n",
      "no conformer for MolPort-002-708-014\n",
      "0\n",
      "no conformer for MolPort-002-716-794\n"
     ]
    },
    {
     "name": "stderr",
     "output_type": "stream",
     "text": [
      "[16:08:57] Molecule does not have explicit Hs. Consider calling AddHs()\n",
      "[16:08:57] Molecule does not have explicit Hs. Consider calling AddHs()\n"
     ]
    },
    {
     "name": "stdout",
     "output_type": "stream",
     "text": [
      "10\n",
      "8\n"
     ]
    },
    {
     "name": "stderr",
     "output_type": "stream",
     "text": [
      "[16:08:58] Molecule does not have explicit Hs. Consider calling AddHs()\n",
      "[16:08:58] Molecule does not have explicit Hs. Consider calling AddHs()\n"
     ]
    },
    {
     "name": "stdout",
     "output_type": "stream",
     "text": [
      "13\n",
      "2\n"
     ]
    },
    {
     "name": "stderr",
     "output_type": "stream",
     "text": [
      "[16:08:58] Molecule does not have explicit Hs. Consider calling AddHs()\n",
      "[16:08:58] Molecule does not have explicit Hs. Consider calling AddHs()\n"
     ]
    },
    {
     "name": "stdout",
     "output_type": "stream",
     "text": [
      "1\n"
     ]
    },
    {
     "name": "stderr",
     "output_type": "stream",
     "text": [
      "[16:08:58] Molecule does not have explicit Hs. Consider calling AddHs()\n"
     ]
    },
    {
     "name": "stdout",
     "output_type": "stream",
     "text": [
      "7\n",
      "13\n"
     ]
    },
    {
     "name": "stderr",
     "output_type": "stream",
     "text": [
      "[16:08:58] Molecule does not have explicit Hs. Consider calling AddHs()\n",
      "[16:08:58] Molecule does not have explicit Hs. Consider calling AddHs()\n"
     ]
    },
    {
     "name": "stdout",
     "output_type": "stream",
     "text": [
      "3\n",
      "5\n"
     ]
    },
    {
     "name": "stderr",
     "output_type": "stream",
     "text": [
      "[16:08:59] Molecule does not have explicit Hs. Consider calling AddHs()\n",
      "[16:08:59] Molecule does not have explicit Hs. Consider calling AddHs()\n"
     ]
    },
    {
     "name": "stdout",
     "output_type": "stream",
     "text": [
      "8\n"
     ]
    },
    {
     "name": "stderr",
     "output_type": "stream",
     "text": [
      "[16:08:59] Molecule does not have explicit Hs. Consider calling AddHs()\n"
     ]
    },
    {
     "name": "stdout",
     "output_type": "stream",
     "text": [
      "0\n",
      "no conformer for MolPort-002-720-134\n",
      "12\n"
     ]
    },
    {
     "name": "stderr",
     "output_type": "stream",
     "text": [
      "[16:08:59] Molecule does not have explicit Hs. Consider calling AddHs()\n",
      "[16:08:59] Molecule does not have explicit Hs. Consider calling AddHs()\n"
     ]
    },
    {
     "name": "stdout",
     "output_type": "stream",
     "text": [
      "12\n",
      "8\n",
      "0\n",
      "no conformer for MolPort-002-724-750\n"
     ]
    },
    {
     "name": "stderr",
     "output_type": "stream",
     "text": [
      "[16:08:59] Molecule does not have explicit Hs. Consider calling AddHs()\n",
      "[16:08:59] Molecule does not have explicit Hs. Consider calling AddHs()\n",
      "[16:08:59] UFFTYPER: Unrecognized atom type: Se2+2 (6)\n",
      "[16:09:00] Molecule does not have explicit Hs. Consider calling AddHs()\n"
     ]
    },
    {
     "name": "stdout",
     "output_type": "stream",
     "text": [
      "7\n",
      "10\n"
     ]
    },
    {
     "name": "stderr",
     "output_type": "stream",
     "text": [
      "[16:09:00] Molecule does not have explicit Hs. Consider calling AddHs()\n",
      "[16:09:00] Molecule does not have explicit Hs. Consider calling AddHs()\n"
     ]
    },
    {
     "name": "stdout",
     "output_type": "stream",
     "text": [
      "0\n",
      "no conformer for MolPort-002-728-418\n",
      "0\n",
      "no conformer for MolPort-002-728-738\n",
      "0\n",
      "no conformer for MolPort-002-733-128\n"
     ]
    },
    {
     "name": "stderr",
     "output_type": "stream",
     "text": [
      "[16:09:00] Molecule does not have explicit Hs. Consider calling AddHs()\n",
      "[16:09:00] Molecule does not have explicit Hs. Consider calling AddHs()\n",
      "[16:09:00] Molecule does not have explicit Hs. Consider calling AddHs()\n"
     ]
    },
    {
     "name": "stdout",
     "output_type": "stream",
     "text": [
      "0\n",
      "no conformer for MolPort-002-733-135\n",
      "4\n"
     ]
    },
    {
     "name": "stderr",
     "output_type": "stream",
     "text": [
      "[16:09:00] Molecule does not have explicit Hs. Consider calling AddHs()\n",
      "[16:09:00] Molecule does not have explicit Hs. Consider calling AddHs()\n"
     ]
    },
    {
     "name": "stdout",
     "output_type": "stream",
     "text": [
      "11\n",
      "10\n"
     ]
    },
    {
     "name": "stderr",
     "output_type": "stream",
     "text": [
      "[16:09:01] Molecule does not have explicit Hs. Consider calling AddHs()\n",
      "[16:09:01] Molecule does not have explicit Hs. Consider calling AddHs()\n"
     ]
    },
    {
     "name": "stdout",
     "output_type": "stream",
     "text": [
      "8\n",
      "14\n"
     ]
    },
    {
     "name": "stderr",
     "output_type": "stream",
     "text": [
      "[16:09:01] Molecule does not have explicit Hs. Consider calling AddHs()\n",
      "[16:09:01] Molecule does not have explicit Hs. Consider calling AddHs()\n"
     ]
    },
    {
     "name": "stdout",
     "output_type": "stream",
     "text": [
      "9\n",
      "7\n",
      "0\n",
      "no conformer for MolPort-002-746-537\n",
      "0\n",
      "no conformer for MolPort-002-746-627\n"
     ]
    },
    {
     "name": "stderr",
     "output_type": "stream",
     "text": [
      "[16:09:01] Molecule does not have explicit Hs. Consider calling AddHs()\n",
      "[16:09:01] Molecule does not have explicit Hs. Consider calling AddHs()\n",
      "[16:09:01] Molecule does not have explicit Hs. Consider calling AddHs()\n",
      "[16:09:01] Molecule does not have explicit Hs. Consider calling AddHs()\n"
     ]
    },
    {
     "name": "stdout",
     "output_type": "stream",
     "text": [
      "0\n",
      "no conformer for MolPort-002-802-963\n"
     ]
    },
    {
     "name": "stderr",
     "output_type": "stream",
     "text": [
      "[16:09:02] Molecule does not have explicit Hs. Consider calling AddHs()\n"
     ]
    },
    {
     "name": "stdout",
     "output_type": "stream",
     "text": [
      "2\n",
      "0\n",
      "no conformer for MolPort-002-805-665\n"
     ]
    },
    {
     "name": "stderr",
     "output_type": "stream",
     "text": [
      "[16:09:02] Molecule does not have explicit Hs. Consider calling AddHs()\n",
      "[16:09:02] Molecule does not have explicit Hs. Consider calling AddHs()\n"
     ]
    },
    {
     "name": "stdout",
     "output_type": "stream",
     "text": [
      "0\n",
      "no conformer for MolPort-002-809-803\n",
      "0\n",
      "no conformer for MolPort-002-809-839\n",
      "1\n"
     ]
    },
    {
     "name": "stderr",
     "output_type": "stream",
     "text": [
      "[16:09:02] Molecule does not have explicit Hs. Consider calling AddHs()\n",
      "[16:09:02] Molecule does not have explicit Hs. Consider calling AddHs()\n",
      "[16:09:02] Molecule does not have explicit Hs. Consider calling AddHs()\n"
     ]
    },
    {
     "name": "stdout",
     "output_type": "stream",
     "text": [
      "0\n",
      "no conformer for MolPort-002-890-304\n",
      "0\n",
      "no conformer for MolPort-002-927-882\n"
     ]
    },
    {
     "name": "stderr",
     "output_type": "stream",
     "text": [
      "[16:09:02] Molecule does not have explicit Hs. Consider calling AddHs()\n",
      "[16:09:02] Molecule does not have explicit Hs. Consider calling AddHs()\n"
     ]
    },
    {
     "name": "stdout",
     "output_type": "stream",
     "text": [
      "0\n",
      "no conformer for MolPort-002-927-953\n",
      "0\n",
      "no conformer for MolPort-002-928-526\n"
     ]
    },
    {
     "name": "stderr",
     "output_type": "stream",
     "text": [
      "[16:09:03] Molecule does not have explicit Hs. Consider calling AddHs()\n",
      "[16:09:03] Molecule does not have explicit Hs. Consider calling AddHs()\n"
     ]
    },
    {
     "name": "stdout",
     "output_type": "stream",
     "text": [
      "10\n",
      "0\n",
      "no conformer for MolPort-002-929-249\n",
      "0\n",
      "no conformer for MolPort-002-930-162\n"
     ]
    },
    {
     "name": "stderr",
     "output_type": "stream",
     "text": [
      "[16:09:03] Molecule does not have explicit Hs. Consider calling AddHs()\n",
      "[16:09:03] Molecule does not have explicit Hs. Consider calling AddHs()\n",
      "[16:09:03] Molecule does not have explicit Hs. Consider calling AddHs()\n"
     ]
    },
    {
     "name": "stdout",
     "output_type": "stream",
     "text": [
      "0\n",
      "no conformer for MolPort-002-933-239\n",
      "17\n",
      "0\n",
      "no conformer for MolPort-002-560-759\n"
     ]
    },
    {
     "name": "stderr",
     "output_type": "stream",
     "text": [
      "[16:09:03] Molecule does not have explicit Hs. Consider calling AddHs()\n",
      "[16:09:03] Molecule does not have explicit Hs. Consider calling AddHs()\n",
      "[16:09:03] Molecule does not have explicit Hs. Consider calling AddHs()\n"
     ]
    },
    {
     "name": "stdout",
     "output_type": "stream",
     "text": [
      "0\n",
      "no conformer for MolPort-002-614-857\n",
      "0\n",
      "no conformer for MolPort-002-633-703\n"
     ]
    },
    {
     "name": "stderr",
     "output_type": "stream",
     "text": [
      "[16:09:03] Molecule does not have explicit Hs. Consider calling AddHs()\n",
      "[16:09:04] Molecule does not have explicit Hs. Consider calling AddHs()\n"
     ]
    },
    {
     "name": "stdout",
     "output_type": "stream",
     "text": [
      "0\n",
      "no conformer for MolPort-002-657-441\n",
      "0\n",
      "no conformer for MolPort-002-657-450\n"
     ]
    },
    {
     "name": "stderr",
     "output_type": "stream",
     "text": [
      "[16:09:04] Molecule does not have explicit Hs. Consider calling AddHs()\n",
      "[16:09:04] Molecule does not have explicit Hs. Consider calling AddHs()\n"
     ]
    },
    {
     "name": "stdout",
     "output_type": "stream",
     "text": [
      "0\n",
      "no conformer for MolPort-002-657-536\n",
      "0\n",
      "no conformer for MolPort-002-676-004\n"
     ]
    },
    {
     "name": "stderr",
     "output_type": "stream",
     "text": [
      "[16:09:04] Molecule does not have explicit Hs. Consider calling AddHs()\n",
      "[16:09:04] Molecule does not have explicit Hs. Consider calling AddHs()\n"
     ]
    },
    {
     "name": "stdout",
     "output_type": "stream",
     "text": [
      "0\n",
      "no conformer for MolPort-002-801-978\n"
     ]
    },
    {
     "name": "stderr",
     "output_type": "stream",
     "text": [
      "[16:09:04] Molecule does not have explicit Hs. Consider calling AddHs()\n"
     ]
    },
    {
     "name": "stdout",
     "output_type": "stream",
     "text": [
      "0\n",
      "no conformer for MolPort-002-801-984\n"
     ]
    },
    {
     "name": "stderr",
     "output_type": "stream",
     "text": [
      "[16:09:05] Molecule does not have explicit Hs. Consider calling AddHs()\n"
     ]
    },
    {
     "name": "stdout",
     "output_type": "stream",
     "text": [
      "4\n"
     ]
    },
    {
     "name": "stderr",
     "output_type": "stream",
     "text": [
      "[16:09:05] Molecule does not have explicit Hs. Consider calling AddHs()\n"
     ]
    },
    {
     "name": "stdout",
     "output_type": "stream",
     "text": [
      "3\n",
      "0\n",
      "no conformer for MolPort-002-936-342\n"
     ]
    },
    {
     "name": "stderr",
     "output_type": "stream",
     "text": [
      "[16:09:06] Molecule does not have explicit Hs. Consider calling AddHs()\n",
      "[16:09:06] Molecule does not have explicit Hs. Consider calling AddHs()\n"
     ]
    },
    {
     "name": "stdout",
     "output_type": "stream",
     "text": [
      "0\n",
      "no conformer for MolPort-002-937-187\n",
      "0\n",
      "no conformer for MolPort-002-938-896\n"
     ]
    },
    {
     "name": "stderr",
     "output_type": "stream",
     "text": [
      "[16:09:06] Molecule does not have explicit Hs. Consider calling AddHs()\n",
      "[16:09:06] Molecule does not have explicit Hs. Consider calling AddHs()\n"
     ]
    },
    {
     "name": "stdout",
     "output_type": "stream",
     "text": [
      "0\n",
      "no conformer for MolPort-002-940-300\n",
      "0\n",
      "no conformer for MolPort-002-941-049\n"
     ]
    },
    {
     "name": "stderr",
     "output_type": "stream",
     "text": [
      "[16:09:06] Molecule does not have explicit Hs. Consider calling AddHs()\n",
      "[16:09:06] Molecule does not have explicit Hs. Consider calling AddHs()\n"
     ]
    },
    {
     "name": "stdout",
     "output_type": "stream",
     "text": [
      "0\n",
      "no conformer for MolPort-002-941-191\n",
      "0\n",
      "no conformer for MolPort-002-944-406\n"
     ]
    },
    {
     "name": "stderr",
     "output_type": "stream",
     "text": [
      "[16:09:06] Molecule does not have explicit Hs. Consider calling AddHs()\n",
      "[16:09:07] Molecule does not have explicit Hs. Consider calling AddHs()\n"
     ]
    },
    {
     "name": "stdout",
     "output_type": "stream",
     "text": [
      "0\n",
      "no conformer for MolPort-002-944-605\n",
      "0\n",
      "no conformer for MolPort-002-979-928\n"
     ]
    },
    {
     "name": "stderr",
     "output_type": "stream",
     "text": [
      "[16:09:07] Molecule does not have explicit Hs. Consider calling AddHs()\n",
      "[16:09:07] Molecule does not have explicit Hs. Consider calling AddHs()\n"
     ]
    },
    {
     "name": "stdout",
     "output_type": "stream",
     "text": [
      "0\n",
      "no conformer for MolPort-002-998-704\n",
      "0\n",
      "no conformer for MolPort-003-005-177\n",
      "0\n",
      "no conformer for MolPort-003-008-141\n"
     ]
    },
    {
     "name": "stderr",
     "output_type": "stream",
     "text": [
      "[16:09:07] Molecule does not have explicit Hs. Consider calling AddHs()\n",
      "[16:09:07] Molecule does not have explicit Hs. Consider calling AddHs()\n",
      "[16:09:07] Molecule does not have explicit Hs. Consider calling AddHs()\n"
     ]
    },
    {
     "name": "stdout",
     "output_type": "stream",
     "text": [
      "0\n",
      "no conformer for MolPort-003-008-816\n",
      "0\n",
      "no conformer for MolPort-003-008-822\n"
     ]
    },
    {
     "name": "stderr",
     "output_type": "stream",
     "text": [
      "[16:09:07] Molecule does not have explicit Hs. Consider calling AddHs()\n",
      "[16:09:07] Molecule does not have explicit Hs. Consider calling AddHs()\n"
     ]
    },
    {
     "name": "stdout",
     "output_type": "stream",
     "text": [
      "0\n",
      "no conformer for MolPort-003-013-084\n",
      "9\n",
      "0\n",
      "no conformer for MolPort-005-927-107\n"
     ]
    },
    {
     "name": "stderr",
     "output_type": "stream",
     "text": [
      "[16:09:08] Molecule does not have explicit Hs. Consider calling AddHs()\n",
      "[16:09:08] Molecule does not have explicit Hs. Consider calling AddHs()\n",
      "[16:09:08] Molecule does not have explicit Hs. Consider calling AddHs()\n"
     ]
    },
    {
     "name": "stdout",
     "output_type": "stream",
     "text": [
      "10\n",
      "7\n"
     ]
    },
    {
     "name": "stderr",
     "output_type": "stream",
     "text": [
      "[16:09:08] Molecule does not have explicit Hs. Consider calling AddHs()\n",
      "[16:09:08] Molecule does not have explicit Hs. Consider calling AddHs()\n"
     ]
    },
    {
     "name": "stdout",
     "output_type": "stream",
     "text": [
      "0\n",
      "no conformer for MolPort-003-061-664\n",
      "0\n",
      "no conformer for MolPort-003-066-671\n"
     ]
    },
    {
     "name": "stderr",
     "output_type": "stream",
     "text": [
      "[16:09:08] Molecule does not have explicit Hs. Consider calling AddHs()\n",
      "[16:09:09] Molecule does not have explicit Hs. Consider calling AddHs()\n"
     ]
    },
    {
     "name": "stdout",
     "output_type": "stream",
     "text": [
      "0\n",
      "no conformer for MolPort-003-066-672\n",
      "0\n",
      "no conformer for MolPort-003-066-799\n",
      "0\n",
      "no conformer for MolPort-003-066-805\n"
     ]
    },
    {
     "name": "stderr",
     "output_type": "stream",
     "text": [
      "[16:09:09] Molecule does not have explicit Hs. Consider calling AddHs()\n",
      "[16:09:09] Molecule does not have explicit Hs. Consider calling AddHs()\n",
      "[16:09:09] Molecule does not have explicit Hs. Consider calling AddHs()\n"
     ]
    },
    {
     "name": "stdout",
     "output_type": "stream",
     "text": [
      "0\n",
      "no conformer for MolPort-003-067-660\n",
      "2\n"
     ]
    },
    {
     "name": "stderr",
     "output_type": "stream",
     "text": [
      "[16:09:09] Molecule does not have explicit Hs. Consider calling AddHs()\n",
      "[16:09:09] Molecule does not have explicit Hs. Consider calling AddHs()\n"
     ]
    },
    {
     "name": "stdout",
     "output_type": "stream",
     "text": [
      "5\n",
      "0\n",
      "no conformer for MolPort-003-073-851\n"
     ]
    },
    {
     "name": "stderr",
     "output_type": "stream",
     "text": [
      "[16:09:09] Molecule does not have explicit Hs. Consider calling AddHs()\n",
      "[16:09:10] Molecule does not have explicit Hs. Consider calling AddHs()\n"
     ]
    },
    {
     "name": "stdout",
     "output_type": "stream",
     "text": [
      "0\n",
      "no conformer for MolPort-003-178-201\n",
      "0\n",
      "no conformer for MolPort-003-178-202\n"
     ]
    },
    {
     "name": "stderr",
     "output_type": "stream",
     "text": [
      "[16:09:10] Molecule does not have explicit Hs. Consider calling AddHs()\n",
      "[16:09:10] Molecule does not have explicit Hs. Consider calling AddHs()\n"
     ]
    },
    {
     "name": "stdout",
     "output_type": "stream",
     "text": [
      "0\n",
      "no conformer for MolPort-003-178-205\n",
      "0\n",
      "no conformer for MolPort-003-183-599\n"
     ]
    },
    {
     "name": "stderr",
     "output_type": "stream",
     "text": [
      "[16:09:10] Molecule does not have explicit Hs. Consider calling AddHs()\n",
      "[16:09:10] Molecule does not have explicit Hs. Consider calling AddHs()\n",
      "[16:09:10] Molecule does not have explicit Hs. Consider calling AddHs()\n"
     ]
    },
    {
     "name": "stdout",
     "output_type": "stream",
     "text": [
      "0\n",
      "no conformer for MolPort-003-389-682\n",
      "0\n",
      "no conformer for MolPort-003-692-997\n",
      "0\n",
      "no conformer for MolPort-003-701-441\n"
     ]
    },
    {
     "name": "stderr",
     "output_type": "stream",
     "text": [
      "[16:09:10] Molecule does not have explicit Hs. Consider calling AddHs()\n",
      "[16:09:11] Molecule does not have explicit Hs. Consider calling AddHs()\n"
     ]
    },
    {
     "name": "stdout",
     "output_type": "stream",
     "text": [
      "1\n",
      "0\n",
      "no conformer for MolPort-003-702-195\n",
      "0\n",
      "no conformer for MolPort-003-708-169\n"
     ]
    },
    {
     "name": "stderr",
     "output_type": "stream",
     "text": [
      "[16:09:11] Molecule does not have explicit Hs. Consider calling AddHs()\n",
      "[16:09:11] Molecule does not have explicit Hs. Consider calling AddHs()\n",
      "[16:09:11] Molecule does not have explicit Hs. Consider calling AddHs()\n"
     ]
    },
    {
     "name": "stdout",
     "output_type": "stream",
     "text": [
      "0\n",
      "no conformer for MolPort-003-708-785\n",
      "0\n",
      "no conformer for MolPort-003-716-499\n",
      "0\n",
      "no conformer for MolPort-003-719-153\n"
     ]
    },
    {
     "name": "stderr",
     "output_type": "stream",
     "text": [
      "[16:09:11] Molecule does not have explicit Hs. Consider calling AddHs()\n",
      "[16:09:11] Molecule does not have explicit Hs. Consider calling AddHs()\n",
      "[16:09:11] Molecule does not have explicit Hs. Consider calling AddHs()\n"
     ]
    },
    {
     "name": "stdout",
     "output_type": "stream",
     "text": [
      "0\n",
      "no conformer for MolPort-003-719-161\n",
      "0\n",
      "no conformer for MolPort-003-719-166\n"
     ]
    },
    {
     "name": "stderr",
     "output_type": "stream",
     "text": [
      "[16:09:11] Molecule does not have explicit Hs. Consider calling AddHs()\n",
      "[16:09:11] Molecule does not have explicit Hs. Consider calling AddHs()\n"
     ]
    },
    {
     "name": "stdout",
     "output_type": "stream",
     "text": [
      "0\n",
      "no conformer for MolPort-003-719-169\n",
      "0\n",
      "no conformer for MolPort-003-719-172\n"
     ]
    },
    {
     "name": "stderr",
     "output_type": "stream",
     "text": [
      "[16:09:11] Molecule does not have explicit Hs. Consider calling AddHs()\n",
      "[16:09:12] Molecule does not have explicit Hs. Consider calling AddHs()\n"
     ]
    },
    {
     "name": "stdout",
     "output_type": "stream",
     "text": [
      "0\n",
      "no conformer for MolPort-003-719-197\n",
      "0\n",
      "no conformer for MolPort-003-722-259\n"
     ]
    },
    {
     "name": "stderr",
     "output_type": "stream",
     "text": [
      "[16:09:12] Molecule does not have explicit Hs. Consider calling AddHs()\n",
      "[16:09:12] Molecule does not have explicit Hs. Consider calling AddHs()\n"
     ]
    },
    {
     "name": "stdout",
     "output_type": "stream",
     "text": [
      "0\n",
      "no conformer for MolPort-003-722-290\n"
     ]
    },
    {
     "name": "stderr",
     "output_type": "stream",
     "text": [
      "[16:09:12] Molecule does not have explicit Hs. Consider calling AddHs()\n"
     ]
    },
    {
     "name": "stdout",
     "output_type": "stream",
     "text": [
      "4\n"
     ]
    },
    {
     "name": "stderr",
     "output_type": "stream",
     "text": [
      "[16:09:13] Molecule does not have explicit Hs. Consider calling AddHs()\n"
     ]
    },
    {
     "name": "stdout",
     "output_type": "stream",
     "text": [
      "4\n"
     ]
    },
    {
     "name": "stderr",
     "output_type": "stream",
     "text": [
      "[16:09:13] Molecule does not have explicit Hs. Consider calling AddHs()\n"
     ]
    },
    {
     "name": "stdout",
     "output_type": "stream",
     "text": [
      "2\n",
      "0\n",
      "no conformer for MolPort-003-827-356\n"
     ]
    },
    {
     "name": "stderr",
     "output_type": "stream",
     "text": [
      "[16:09:13] Molecule does not have explicit Hs. Consider calling AddHs()\n",
      "[16:09:14] Molecule does not have explicit Hs. Consider calling AddHs()\n"
     ]
    },
    {
     "name": "stdout",
     "output_type": "stream",
     "text": [
      "0\n",
      "no conformer for MolPort-003-827-387\n",
      "22\n"
     ]
    },
    {
     "name": "stderr",
     "output_type": "stream",
     "text": [
      "[16:09:14] Molecule does not have explicit Hs. Consider calling AddHs()\n",
      "[16:09:14] Molecule does not have explicit Hs. Consider calling AddHs()\n"
     ]
    },
    {
     "name": "stdout",
     "output_type": "stream",
     "text": [
      "0\n",
      "no conformer for MolPort-003-827-575\n",
      "8\n",
      "0\n",
      "no conformer for MolPort-003-827-617\n"
     ]
    },
    {
     "name": "stderr",
     "output_type": "stream",
     "text": [
      "[16:09:14] Molecule does not have explicit Hs. Consider calling AddHs()\n",
      "[16:09:14] Molecule does not have explicit Hs. Consider calling AddHs()\n",
      "[16:09:14] Molecule does not have explicit Hs. Consider calling AddHs()\n"
     ]
    },
    {
     "name": "stdout",
     "output_type": "stream",
     "text": [
      "0\n",
      "no conformer for MolPort-003-827-635\n",
      "0\n",
      "no conformer for MolPort-003-827-647\n",
      "24\n",
      "15\n"
     ]
    },
    {
     "name": "stderr",
     "output_type": "stream",
     "text": [
      "[16:09:14] Molecule does not have explicit Hs. Consider calling AddHs()\n",
      "[16:09:15] Molecule does not have explicit Hs. Consider calling AddHs()\n",
      "[16:09:15] Molecule does not have explicit Hs. Consider calling AddHs()\n",
      "[16:09:15] Molecule does not have explicit Hs. Consider calling AddHs()\n"
     ]
    },
    {
     "name": "stdout",
     "output_type": "stream",
     "text": [
      "9\n",
      "19\n",
      "0\n",
      "no conformer for MolPort-003-827-808\n"
     ]
    },
    {
     "name": "stderr",
     "output_type": "stream",
     "text": [
      "[16:09:15] Molecule does not have explicit Hs. Consider calling AddHs()\n",
      "[16:09:15] Molecule does not have explicit Hs. Consider calling AddHs()\n",
      "[16:09:15] Molecule does not have explicit Hs. Consider calling AddHs()\n"
     ]
    },
    {
     "name": "stdout",
     "output_type": "stream",
     "text": [
      "0\n",
      "no conformer for MolPort-003-884-917\n",
      "27\n",
      "0\n",
      "no conformer for MolPort-004-635-702\n"
     ]
    },
    {
     "name": "stderr",
     "output_type": "stream",
     "text": [
      "[16:09:15] Molecule does not have explicit Hs. Consider calling AddHs()\n",
      "[16:09:15] Molecule does not have explicit Hs. Consider calling AddHs()\n",
      "[16:09:15] Molecule does not have explicit Hs. Consider calling AddHs()\n"
     ]
    },
    {
     "name": "stdout",
     "output_type": "stream",
     "text": [
      "0\n",
      "no conformer for MolPort-004-858-510\n",
      "0\n",
      "no conformer for MolPort-004-929-737\n"
     ]
    },
    {
     "name": "stderr",
     "output_type": "stream",
     "text": [
      "[16:09:15] Molecule does not have explicit Hs. Consider calling AddHs()\n",
      "[16:09:15] Molecule does not have explicit Hs. Consider calling AddHs()\n"
     ]
    },
    {
     "name": "stdout",
     "output_type": "stream",
     "text": [
      "0\n",
      "no conformer for MolPort-004-929-868\n",
      "0\n",
      "no conformer for MolPort-004-929-869\n",
      "0\n",
      "no conformer for MolPort-004-929-870\n"
     ]
    },
    {
     "name": "stderr",
     "output_type": "stream",
     "text": [
      "[16:09:16] Molecule does not have explicit Hs. Consider calling AddHs()\n",
      "[16:09:16] Molecule does not have explicit Hs. Consider calling AddHs()\n",
      "[16:09:16] Molecule does not have explicit Hs. Consider calling AddHs()\n"
     ]
    },
    {
     "name": "stdout",
     "output_type": "stream",
     "text": [
      "0\n",
      "no conformer for MolPort-004-929-871\n",
      "0\n",
      "no conformer for MolPort-004-929-872\n",
      "0\n",
      "no conformer for MolPort-004-929-873\n"
     ]
    },
    {
     "name": "stderr",
     "output_type": "stream",
     "text": [
      "[16:09:16] Molecule does not have explicit Hs. Consider calling AddHs()\n",
      "[16:09:16] Molecule does not have explicit Hs. Consider calling AddHs()\n",
      "[16:09:16] Molecule does not have explicit Hs. Consider calling AddHs()\n"
     ]
    },
    {
     "name": "stdout",
     "output_type": "stream",
     "text": [
      "0\n",
      "no conformer for MolPort-004-929-906\n",
      "0\n",
      "no conformer for MolPort-004-929-912\n"
     ]
    },
    {
     "name": "stderr",
     "output_type": "stream",
     "text": [
      "[16:09:16] Molecule does not have explicit Hs. Consider calling AddHs()\n",
      "[16:09:16] Molecule does not have explicit Hs. Consider calling AddHs()\n"
     ]
    },
    {
     "name": "stdout",
     "output_type": "stream",
     "text": [
      "0\n",
      "no conformer for MolPort-004-929-913\n",
      "0\n",
      "no conformer for MolPort-004-929-914\n"
     ]
    },
    {
     "name": "stderr",
     "output_type": "stream",
     "text": [
      "[16:09:16] Molecule does not have explicit Hs. Consider calling AddHs()\n",
      "[16:09:17] Molecule does not have explicit Hs. Consider calling AddHs()\n"
     ]
    },
    {
     "name": "stdout",
     "output_type": "stream",
     "text": [
      "0\n",
      "no conformer for MolPort-004-929-915\n",
      "0\n",
      "no conformer for MolPort-005-277-716\n",
      "0\n",
      "no conformer for MolPort-005-280-872\n"
     ]
    },
    {
     "name": "stderr",
     "output_type": "stream",
     "text": [
      "[16:09:17] Molecule does not have explicit Hs. Consider calling AddHs()\n",
      "[16:09:17] Molecule does not have explicit Hs. Consider calling AddHs()\n",
      "[16:09:17] Molecule does not have explicit Hs. Consider calling AddHs()\n"
     ]
    },
    {
     "name": "stdout",
     "output_type": "stream",
     "text": [
      "0\n",
      "no conformer for MolPort-005-287-036\n",
      "0\n",
      "no conformer for MolPort-005-287-046\n"
     ]
    },
    {
     "name": "stderr",
     "output_type": "stream",
     "text": [
      "[16:09:17] Molecule does not have explicit Hs. Consider calling AddHs()\n",
      "[16:09:17] Molecule does not have explicit Hs. Consider calling AddHs()\n"
     ]
    },
    {
     "name": "stdout",
     "output_type": "stream",
     "text": [
      "0\n",
      "no conformer for MolPort-005-287-060\n",
      "0\n",
      "no conformer for MolPort-005-287-066\n"
     ]
    },
    {
     "name": "stderr",
     "output_type": "stream",
     "text": [
      "[16:09:17] Molecule does not have explicit Hs. Consider calling AddHs()\n",
      "[16:09:17] Molecule does not have explicit Hs. Consider calling AddHs()\n"
     ]
    },
    {
     "name": "stdout",
     "output_type": "stream",
     "text": [
      "0\n",
      "no conformer for MolPort-005-287-069\n",
      "0\n",
      "no conformer for MolPort-005-287-071\n"
     ]
    },
    {
     "name": "stderr",
     "output_type": "stream",
     "text": [
      "[16:09:18] Molecule does not have explicit Hs. Consider calling AddHs()\n",
      "[16:09:18] Molecule does not have explicit Hs. Consider calling AddHs()\n"
     ]
    },
    {
     "name": "stdout",
     "output_type": "stream",
     "text": [
      "0\n",
      "no conformer for MolPort-005-287-075\n",
      "0\n",
      "no conformer for MolPort-005-287-084\n"
     ]
    },
    {
     "name": "stderr",
     "output_type": "stream",
     "text": [
      "[16:09:18] Molecule does not have explicit Hs. Consider calling AddHs()\n",
      "[16:09:18] Molecule does not have explicit Hs. Consider calling AddHs()\n"
     ]
    },
    {
     "name": "stdout",
     "output_type": "stream",
     "text": [
      "0\n",
      "no conformer for MolPort-005-287-450\n",
      "0\n",
      "no conformer for MolPort-005-287-451\n"
     ]
    },
    {
     "name": "stderr",
     "output_type": "stream",
     "text": [
      "[16:09:18] Molecule does not have explicit Hs. Consider calling AddHs()\n",
      "[16:09:18] Molecule does not have explicit Hs. Consider calling AddHs()\n"
     ]
    },
    {
     "name": "stdout",
     "output_type": "stream",
     "text": [
      "0\n",
      "no conformer for MolPort-005-287-452\n",
      "2\n"
     ]
    },
    {
     "name": "stderr",
     "output_type": "stream",
     "text": [
      "[16:09:18] Molecule does not have explicit Hs. Consider calling AddHs()\n",
      "[16:09:19] Molecule does not have explicit Hs. Consider calling AddHs()\n"
     ]
    },
    {
     "name": "stdout",
     "output_type": "stream",
     "text": [
      "0\n",
      "no conformer for MolPort-005-287-716\n"
     ]
    },
    {
     "name": "stderr",
     "output_type": "stream",
     "text": [
      "[16:09:19] Molecule does not have explicit Hs. Consider calling AddHs()\n"
     ]
    },
    {
     "name": "stdout",
     "output_type": "stream",
     "text": [
      "12\n",
      "0\n",
      "no conformer for MolPort-005-909-784\n"
     ]
    },
    {
     "name": "stderr",
     "output_type": "stream",
     "text": [
      "[16:09:19] Molecule does not have explicit Hs. Consider calling AddHs()\n",
      "[16:09:19] Molecule does not have explicit Hs. Consider calling AddHs()\n"
     ]
    },
    {
     "name": "stdout",
     "output_type": "stream",
     "text": [
      "0\n",
      "no conformer for MolPort-005-909-984\n"
     ]
    },
    {
     "name": "stderr",
     "output_type": "stream",
     "text": [
      "[16:09:19] Molecule does not have explicit Hs. Consider calling AddHs()\n"
     ]
    },
    {
     "name": "stdout",
     "output_type": "stream",
     "text": [
      "0\n",
      "no conformer for MolPort-005-910-221\n"
     ]
    },
    {
     "name": "stderr",
     "output_type": "stream",
     "text": [
      "[16:09:20] Molecule does not have explicit Hs. Consider calling AddHs()\n"
     ]
    },
    {
     "name": "stdout",
     "output_type": "stream",
     "text": [
      "0\n",
      "no conformer for MolPort-005-910-282\n"
     ]
    },
    {
     "name": "stderr",
     "output_type": "stream",
     "text": [
      "[16:09:20] Molecule does not have explicit Hs. Consider calling AddHs()\n"
     ]
    },
    {
     "name": "stdout",
     "output_type": "stream",
     "text": [
      "0\n",
      "no conformer for MolPort-005-910-458\n",
      "0\n",
      "no conformer for MolPort-005-910-661\n"
     ]
    },
    {
     "name": "stderr",
     "output_type": "stream",
     "text": [
      "[16:09:20] Molecule does not have explicit Hs. Consider calling AddHs()\n",
      "[16:09:20] Molecule does not have explicit Hs. Consider calling AddHs()\n"
     ]
    },
    {
     "name": "stdout",
     "output_type": "stream",
     "text": [
      "0\n",
      "no conformer for MolPort-005-911-190\n",
      "0\n",
      "no conformer for MolPort-005-913-213\n"
     ]
    },
    {
     "name": "stderr",
     "output_type": "stream",
     "text": [
      "[16:09:20] Molecule does not have explicit Hs. Consider calling AddHs()\n",
      "[16:09:21] Molecule does not have explicit Hs. Consider calling AddHs()\n"
     ]
    },
    {
     "name": "stdout",
     "output_type": "stream",
     "text": [
      "0\n",
      "no conformer for MolPort-005-913-225\n",
      "0\n",
      "no conformer for MolPort-005-915-705\n"
     ]
    },
    {
     "name": "stderr",
     "output_type": "stream",
     "text": [
      "[16:09:21] Molecule does not have explicit Hs. Consider calling AddHs()\n",
      "[16:09:21] Molecule does not have explicit Hs. Consider calling AddHs()\n"
     ]
    },
    {
     "name": "stdout",
     "output_type": "stream",
     "text": [
      "0\n",
      "no conformer for MolPort-005-915-961\n",
      "0\n",
      "no conformer for MolPort-005-915-965\n"
     ]
    },
    {
     "name": "stderr",
     "output_type": "stream",
     "text": [
      "[16:09:21] Molecule does not have explicit Hs. Consider calling AddHs()\n",
      "[16:09:21] Molecule does not have explicit Hs. Consider calling AddHs()\n"
     ]
    },
    {
     "name": "stdout",
     "output_type": "stream",
     "text": [
      "0\n",
      "no conformer for MolPort-005-917-653\n",
      "0\n",
      "no conformer for MolPort-005-918-996\n"
     ]
    },
    {
     "name": "stderr",
     "output_type": "stream",
     "text": [
      "[16:09:21] Molecule does not have explicit Hs. Consider calling AddHs()\n",
      "[16:09:22] Molecule does not have explicit Hs. Consider calling AddHs()\n"
     ]
    },
    {
     "name": "stdout",
     "output_type": "stream",
     "text": [
      "0\n",
      "no conformer for MolPort-005-921-949\n",
      "0\n",
      "no conformer for MolPort-005-922-284\n"
     ]
    },
    {
     "name": "stderr",
     "output_type": "stream",
     "text": [
      "[16:09:22] Molecule does not have explicit Hs. Consider calling AddHs()\n",
      "[16:09:22] Molecule does not have explicit Hs. Consider calling AddHs()\n"
     ]
    },
    {
     "name": "stdout",
     "output_type": "stream",
     "text": [
      "0\n",
      "no conformer for MolPort-005-922-345\n"
     ]
    },
    {
     "name": "stderr",
     "output_type": "stream",
     "text": [
      "[16:09:22] Molecule does not have explicit Hs. Consider calling AddHs()\n"
     ]
    },
    {
     "name": "stdout",
     "output_type": "stream",
     "text": [
      "0\n",
      "no conformer for MolPort-005-922-347\n",
      "0\n",
      "no conformer for MolPort-005-922-731\n"
     ]
    },
    {
     "name": "stderr",
     "output_type": "stream",
     "text": [
      "[16:09:22] Molecule does not have explicit Hs. Consider calling AddHs()\n",
      "[16:09:23] Molecule does not have explicit Hs. Consider calling AddHs()\n"
     ]
    },
    {
     "name": "stdout",
     "output_type": "stream",
     "text": [
      "0\n",
      "no conformer for MolPort-005-924-552\n",
      "0\n",
      "no conformer for MolPort-005-925-904\n"
     ]
    },
    {
     "name": "stderr",
     "output_type": "stream",
     "text": [
      "[16:09:23] Molecule does not have explicit Hs. Consider calling AddHs()\n",
      "[16:09:23] Molecule does not have explicit Hs. Consider calling AddHs()\n"
     ]
    },
    {
     "name": "stdout",
     "output_type": "stream",
     "text": [
      "0\n",
      "no conformer for MolPort-005-926-862\n",
      "0\n",
      "no conformer for MolPort-005-927-052\n"
     ]
    },
    {
     "name": "stderr",
     "output_type": "stream",
     "text": [
      "[16:09:23] Molecule does not have explicit Hs. Consider calling AddHs()\n",
      "[16:09:23] Molecule does not have explicit Hs. Consider calling AddHs()\n"
     ]
    },
    {
     "name": "stdout",
     "output_type": "stream",
     "text": [
      "0\n",
      "no conformer for MolPort-008-344-049\n",
      "0\n",
      "no conformer for MolPort-003-718-159\n"
     ]
    },
    {
     "name": "stderr",
     "output_type": "stream",
     "text": [
      "[16:09:23] Molecule does not have explicit Hs. Consider calling AddHs()\n",
      "[16:09:23] Molecule does not have explicit Hs. Consider calling AddHs()\n"
     ]
    },
    {
     "name": "stdout",
     "output_type": "stream",
     "text": [
      "9\n",
      "12\n",
      "0\n",
      "no conformer for MolPort-004-635-233\n"
     ]
    },
    {
     "name": "stderr",
     "output_type": "stream",
     "text": [
      "[16:09:23] Molecule does not have explicit Hs. Consider calling AddHs()\n",
      "[16:09:24] Molecule does not have explicit Hs. Consider calling AddHs()\n",
      "[16:09:24] Molecule does not have explicit Hs. Consider calling AddHs()\n"
     ]
    },
    {
     "name": "stdout",
     "output_type": "stream",
     "text": [
      "0\n",
      "no conformer for MolPort-004-635-301\n",
      "7\n",
      "0\n",
      "no conformer for MolPort-004-859-041\n"
     ]
    },
    {
     "name": "stderr",
     "output_type": "stream",
     "text": [
      "[16:09:24] Molecule does not have explicit Hs. Consider calling AddHs()\n",
      "[16:09:24] Molecule does not have explicit Hs. Consider calling AddHs()\n",
      "[16:09:24] Molecule does not have explicit Hs. Consider calling AddHs()\n"
     ]
    },
    {
     "name": "stdout",
     "output_type": "stream",
     "text": [
      "0\n",
      "no conformer for MolPort-004-859-064\n",
      "0\n",
      "no conformer for MolPort-004-859-183\n"
     ]
    },
    {
     "name": "stderr",
     "output_type": "stream",
     "text": [
      "[16:09:24] Molecule does not have explicit Hs. Consider calling AddHs()\n",
      "[16:09:24] Molecule does not have explicit Hs. Consider calling AddHs()\n"
     ]
    },
    {
     "name": "stdout",
     "output_type": "stream",
     "text": [
      "0\n",
      "no conformer for MolPort-004-859-209\n"
     ]
    },
    {
     "name": "stderr",
     "output_type": "stream",
     "text": [
      "[16:09:24] Molecule does not have explicit Hs. Consider calling AddHs()\n"
     ]
    },
    {
     "name": "stdout",
     "output_type": "stream",
     "text": [
      "0\n",
      "no conformer for MolPort-004-877-751\n",
      "0\n",
      "no conformer for MolPort-005-284-135\n"
     ]
    },
    {
     "name": "stderr",
     "output_type": "stream",
     "text": [
      "[16:09:25] Molecule does not have explicit Hs. Consider calling AddHs()\n",
      "[16:09:25] Molecule does not have explicit Hs. Consider calling AddHs()\n"
     ]
    },
    {
     "name": "stdout",
     "output_type": "stream",
     "text": [
      "0\n",
      "no conformer for MolPort-005-284-138\n",
      "0\n",
      "no conformer for MolPort-005-284-142\n"
     ]
    },
    {
     "name": "stderr",
     "output_type": "stream",
     "text": [
      "[16:09:25] Molecule does not have explicit Hs. Consider calling AddHs()\n",
      "[16:09:25] Molecule does not have explicit Hs. Consider calling AddHs()\n"
     ]
    },
    {
     "name": "stdout",
     "output_type": "stream",
     "text": [
      "1\n"
     ]
    },
    {
     "name": "stderr",
     "output_type": "stream",
     "text": [
      "[16:09:25] Molecule does not have explicit Hs. Consider calling AddHs()\n"
     ]
    },
    {
     "name": "stdout",
     "output_type": "stream",
     "text": [
      "4\n"
     ]
    },
    {
     "name": "stderr",
     "output_type": "stream",
     "text": [
      "[16:09:26] Molecule does not have explicit Hs. Consider calling AddHs()\n"
     ]
    },
    {
     "name": "stdout",
     "output_type": "stream",
     "text": [
      "1\n"
     ]
    },
    {
     "name": "stderr",
     "output_type": "stream",
     "text": [
      "[16:09:26] Molecule does not have explicit Hs. Consider calling AddHs()\n"
     ]
    },
    {
     "name": "stdout",
     "output_type": "stream",
     "text": [
      "3\n",
      "0\n",
      "no conformer for MolPort-005-910-826\n"
     ]
    },
    {
     "name": "stderr",
     "output_type": "stream",
     "text": [
      "[16:09:26] Molecule does not have explicit Hs. Consider calling AddHs()\n",
      "[16:09:26] Molecule does not have explicit Hs. Consider calling AddHs()\n"
     ]
    },
    {
     "name": "stdout",
     "output_type": "stream",
     "text": [
      "0\n",
      "no conformer for MolPort-005-910-960\n",
      "0\n",
      "no conformer for MolPort-005-911-038\n",
      "0\n",
      "no conformer for MolPort-005-912-514\n"
     ]
    },
    {
     "name": "stderr",
     "output_type": "stream",
     "text": [
      "[16:09:27] Molecule does not have explicit Hs. Consider calling AddHs()\n",
      "[16:09:27] Molecule does not have explicit Hs. Consider calling AddHs()\n",
      "[16:09:27] Molecule does not have explicit Hs. Consider calling AddHs()\n"
     ]
    },
    {
     "name": "stdout",
     "output_type": "stream",
     "text": [
      "0\n",
      "no conformer for MolPort-005-912-864\n",
      "0\n",
      "no conformer for MolPort-005-914-783\n"
     ]
    },
    {
     "name": "stderr",
     "output_type": "stream",
     "text": [
      "[16:09:27] Molecule does not have explicit Hs. Consider calling AddHs()\n",
      "[16:09:27] Molecule does not have explicit Hs. Consider calling AddHs()\n"
     ]
    },
    {
     "name": "stdout",
     "output_type": "stream",
     "text": [
      "0\n",
      "no conformer for MolPort-005-917-254\n",
      "0\n",
      "no conformer for MolPort-005-918-120\n"
     ]
    },
    {
     "name": "stderr",
     "output_type": "stream",
     "text": [
      "[16:09:27] Molecule does not have explicit Hs. Consider calling AddHs()\n",
      "[16:09:27] Molecule does not have explicit Hs. Consider calling AddHs()\n"
     ]
    },
    {
     "name": "stdout",
     "output_type": "stream",
     "text": [
      "0\n",
      "no conformer for MolPort-005-918-424\n",
      "0\n",
      "no conformer for MolPort-005-920-219\n",
      "0\n",
      "no conformer for MolPort-005-926-099\n"
     ]
    },
    {
     "name": "stderr",
     "output_type": "stream",
     "text": [
      "[16:09:27] Molecule does not have explicit Hs. Consider calling AddHs()\n",
      "[16:09:28] Molecule does not have explicit Hs. Consider calling AddHs()\n",
      "[16:09:28] Molecule does not have explicit Hs. Consider calling AddHs()\n"
     ]
    },
    {
     "name": "stdout",
     "output_type": "stream",
     "text": [
      "0\n",
      "no conformer for MolPort-005-930-007\n",
      "7\n"
     ]
    },
    {
     "name": "stderr",
     "output_type": "stream",
     "text": [
      "[16:09:28] Molecule does not have explicit Hs. Consider calling AddHs()\n",
      "[16:09:28] Molecule does not have explicit Hs. Consider calling AddHs()\n"
     ]
    },
    {
     "name": "stdout",
     "output_type": "stream",
     "text": [
      "0\n",
      "no conformer for MolPort-005-969-836\n"
     ]
    },
    {
     "name": "stderr",
     "output_type": "stream",
     "text": [
      "[16:09:28] Molecule does not have explicit Hs. Consider calling AddHs()\n"
     ]
    },
    {
     "name": "stdout",
     "output_type": "stream",
     "text": [
      "0\n",
      "no conformer for MolPort-005-970-556\n",
      "0\n",
      "no conformer for MolPort-005-971-235\n"
     ]
    },
    {
     "name": "stderr",
     "output_type": "stream",
     "text": [
      "[16:09:28] Molecule does not have explicit Hs. Consider calling AddHs()\n",
      "[16:09:28] Molecule does not have explicit Hs. Consider calling AddHs()\n"
     ]
    },
    {
     "name": "stdout",
     "output_type": "stream",
     "text": [
      "0\n",
      "no conformer for MolPort-005-972-614\n",
      "0\n",
      "no conformer for MolPort-005-973-540\n"
     ]
    },
    {
     "name": "stderr",
     "output_type": "stream",
     "text": [
      "[16:09:29] Molecule does not have explicit Hs. Consider calling AddHs()\n",
      "[16:09:29] Molecule does not have explicit Hs. Consider calling AddHs()\n"
     ]
    },
    {
     "name": "stdout",
     "output_type": "stream",
     "text": [
      "0\n",
      "no conformer for MolPort-005-974-597\n"
     ]
    },
    {
     "name": "stderr",
     "output_type": "stream",
     "text": [
      "[16:09:29] Molecule does not have explicit Hs. Consider calling AddHs()\n"
     ]
    },
    {
     "name": "stdout",
     "output_type": "stream",
     "text": [
      "0\n",
      "no conformer for MolPort-005-974-893\n",
      "0\n",
      "no conformer for MolPort-005-976-360\n"
     ]
    },
    {
     "name": "stderr",
     "output_type": "stream",
     "text": [
      "[16:09:29] Molecule does not have explicit Hs. Consider calling AddHs()\n",
      "[16:09:29] Molecule does not have explicit Hs. Consider calling AddHs()\n"
     ]
    },
    {
     "name": "stdout",
     "output_type": "stream",
     "text": [
      "0\n",
      "no conformer for MolPort-005-976-820\n",
      "0\n",
      "no conformer for MolPort-005-976-964\n"
     ]
    },
    {
     "name": "stderr",
     "output_type": "stream",
     "text": [
      "[16:09:29] Molecule does not have explicit Hs. Consider calling AddHs()\n",
      "[16:09:30] Molecule does not have explicit Hs. Consider calling AddHs()\n"
     ]
    },
    {
     "name": "stdout",
     "output_type": "stream",
     "text": [
      "0\n",
      "no conformer for MolPort-005-979-353\n",
      "0\n",
      "no conformer for MolPort-006-245-934\n",
      "0\n",
      "no conformer for MolPort-006-245-939\n"
     ]
    },
    {
     "name": "stderr",
     "output_type": "stream",
     "text": [
      "[16:09:30] Molecule does not have explicit Hs. Consider calling AddHs()\n",
      "[16:09:30] Molecule does not have explicit Hs. Consider calling AddHs()\n",
      "[16:09:30] Molecule does not have explicit Hs. Consider calling AddHs()\n"
     ]
    },
    {
     "name": "stdout",
     "output_type": "stream",
     "text": [
      "13\n",
      "0\n",
      "no conformer for MolPort-006-806-959\n"
     ]
    },
    {
     "name": "stderr",
     "output_type": "stream",
     "text": [
      "[16:09:30] Molecule does not have explicit Hs. Consider calling AddHs()\n",
      "[16:09:30] Molecule does not have explicit Hs. Consider calling AddHs()\n"
     ]
    },
    {
     "name": "stdout",
     "output_type": "stream",
     "text": [
      "0\n",
      "no conformer for MolPort-006-816-809\n",
      "0\n",
      "no conformer for MolPort-007-549-613\n",
      "0\n",
      "no conformer for MolPort-007-550-850\n"
     ]
    },
    {
     "name": "stderr",
     "output_type": "stream",
     "text": [
      "[16:09:30] Molecule does not have explicit Hs. Consider calling AddHs()\n",
      "[16:09:30] Molecule does not have explicit Hs. Consider calling AddHs()\n",
      "[16:09:30] Molecule does not have explicit Hs. Consider calling AddHs()\n"
     ]
    },
    {
     "name": "stdout",
     "output_type": "stream",
     "text": [
      "0\n",
      "no conformer for MolPort-007-553-631\n",
      "0\n",
      "no conformer for MolPort-007-553-685\n"
     ]
    },
    {
     "name": "stderr",
     "output_type": "stream",
     "text": [
      "[16:09:31] Molecule does not have explicit Hs. Consider calling AddHs()\n",
      "[16:09:31] Molecule does not have explicit Hs. Consider calling AddHs()\n"
     ]
    },
    {
     "name": "stdout",
     "output_type": "stream",
     "text": [
      "0\n",
      "no conformer for MolPort-007-553-690\n",
      "0\n",
      "no conformer for MolPort-007-553-697\n",
      "0\n",
      "no conformer for MolPort-007-553-803\n"
     ]
    },
    {
     "name": "stderr",
     "output_type": "stream",
     "text": [
      "[16:09:31] Molecule does not have explicit Hs. Consider calling AddHs()\n",
      "[16:09:31] Molecule does not have explicit Hs. Consider calling AddHs()\n",
      "[16:09:31] Molecule does not have explicit Hs. Consider calling AddHs()\n"
     ]
    },
    {
     "name": "stdout",
     "output_type": "stream",
     "text": [
      "0\n",
      "no conformer for MolPort-007-553-807\n"
     ]
    },
    {
     "name": "stderr",
     "output_type": "stream",
     "text": [
      "[16:09:31] Molecule does not have explicit Hs. Consider calling AddHs()\n"
     ]
    },
    {
     "name": "stdout",
     "output_type": "stream",
     "text": [
      "3\n"
     ]
    },
    {
     "name": "stderr",
     "output_type": "stream",
     "text": [
      "[16:09:31] Molecule does not have explicit Hs. Consider calling AddHs()\n"
     ]
    },
    {
     "name": "stdout",
     "output_type": "stream",
     "text": [
      "2\n"
     ]
    },
    {
     "name": "stderr",
     "output_type": "stream",
     "text": [
      "[16:09:32] Molecule does not have explicit Hs. Consider calling AddHs()\n"
     ]
    },
    {
     "name": "stdout",
     "output_type": "stream",
     "text": [
      "4\n"
     ]
    },
    {
     "name": "stderr",
     "output_type": "stream",
     "text": [
      "[16:09:32] Molecule does not have explicit Hs. Consider calling AddHs()\n"
     ]
    },
    {
     "name": "stdout",
     "output_type": "stream",
     "text": [
      "5\n",
      "0\n",
      "no conformer for MolPort-007-645-498\n"
     ]
    },
    {
     "name": "stderr",
     "output_type": "stream",
     "text": [
      "[16:09:33] Molecule does not have explicit Hs. Consider calling AddHs()\n",
      "[16:09:33] Molecule does not have explicit Hs. Consider calling AddHs()\n"
     ]
    },
    {
     "name": "stdout",
     "output_type": "stream",
     "text": [
      "0\n",
      "no conformer for MolPort-007-712-427\n",
      "0\n",
      "no conformer for MolPort-007-712-429\n"
     ]
    },
    {
     "name": "stderr",
     "output_type": "stream",
     "text": [
      "[16:09:33] Molecule does not have explicit Hs. Consider calling AddHs()\n",
      "[16:09:33] Molecule does not have explicit Hs. Consider calling AddHs()\n"
     ]
    },
    {
     "name": "stdout",
     "output_type": "stream",
     "text": [
      "0\n",
      "no conformer for MolPort-007-908-369\n",
      "3\n",
      "0\n",
      "no conformer for MolPort-008-003-248\n"
     ]
    },
    {
     "name": "stderr",
     "output_type": "stream",
     "text": [
      "[16:09:33] Molecule does not have explicit Hs. Consider calling AddHs()\n",
      "[16:09:33] Molecule does not have explicit Hs. Consider calling AddHs()\n",
      "[16:09:33] Molecule does not have explicit Hs. Consider calling AddHs()\n"
     ]
    },
    {
     "name": "stdout",
     "output_type": "stream",
     "text": [
      "0\n",
      "no conformer for MolPort-008-004-757\n",
      "0\n",
      "no conformer for MolPort-008-314-548\n",
      "0\n",
      "no conformer for MolPort-008-314-886\n"
     ]
    },
    {
     "name": "stderr",
     "output_type": "stream",
     "text": [
      "[16:09:33] Molecule does not have explicit Hs. Consider calling AddHs()\n",
      "[16:09:33] Molecule does not have explicit Hs. Consider calling AddHs()\n",
      "[16:09:33] Molecule does not have explicit Hs. Consider calling AddHs()\n"
     ]
    },
    {
     "name": "stdout",
     "output_type": "stream",
     "text": [
      "0\n",
      "no conformer for MolPort-008-314-904\n"
     ]
    },
    {
     "name": "stderr",
     "output_type": "stream",
     "text": [
      "[16:09:34] Molecule does not have explicit Hs. Consider calling AddHs()\n"
     ]
    },
    {
     "name": "stdout",
     "output_type": "stream",
     "text": [
      "0\n",
      "no conformer for MolPort-008-315-042\n",
      "0\n",
      "no conformer for MolPort-008-316-281\n"
     ]
    },
    {
     "name": "stderr",
     "output_type": "stream",
     "text": [
      "[16:09:34] Molecule does not have explicit Hs. Consider calling AddHs()\n",
      "[16:09:34] Molecule does not have explicit Hs. Consider calling AddHs()\n"
     ]
    },
    {
     "name": "stdout",
     "output_type": "stream",
     "text": [
      "0\n",
      "no conformer for MolPort-008-316-312\n",
      "0\n",
      "no conformer for MolPort-008-316-870\n"
     ]
    },
    {
     "name": "stderr",
     "output_type": "stream",
     "text": [
      "[16:09:34] Molecule does not have explicit Hs. Consider calling AddHs()\n",
      "[16:09:34] Molecule does not have explicit Hs. Consider calling AddHs()\n"
     ]
    },
    {
     "name": "stdout",
     "output_type": "stream",
     "text": [
      "0\n",
      "no conformer for MolPort-008-319-231\n",
      "0\n",
      "no conformer for MolPort-008-319-940\n"
     ]
    },
    {
     "name": "stderr",
     "output_type": "stream",
     "text": [
      "[16:09:34] Molecule does not have explicit Hs. Consider calling AddHs()\n",
      "[16:09:34] Molecule does not have explicit Hs. Consider calling AddHs()\n"
     ]
    },
    {
     "name": "stdout",
     "output_type": "stream",
     "text": [
      "0\n",
      "no conformer for MolPort-008-320-192\n",
      "0\n",
      "no conformer for MolPort-008-320-656\n"
     ]
    },
    {
     "name": "stderr",
     "output_type": "stream",
     "text": [
      "[16:09:35] Molecule does not have explicit Hs. Consider calling AddHs()\n",
      "[16:09:35] Molecule does not have explicit Hs. Consider calling AddHs()\n"
     ]
    },
    {
     "name": "stdout",
     "output_type": "stream",
     "text": [
      "0\n",
      "no conformer for MolPort-008-322-314\n",
      "0\n",
      "no conformer for MolPort-008-324-293\n"
     ]
    },
    {
     "name": "stderr",
     "output_type": "stream",
     "text": [
      "[16:09:35] Molecule does not have explicit Hs. Consider calling AddHs()\n",
      "[16:09:35] Molecule does not have explicit Hs. Consider calling AddHs()\n"
     ]
    },
    {
     "name": "stdout",
     "output_type": "stream",
     "text": [
      "1\n",
      "0\n",
      "no conformer for MolPort-008-331-631\n"
     ]
    },
    {
     "name": "stderr",
     "output_type": "stream",
     "text": [
      "[16:09:36] Molecule does not have explicit Hs. Consider calling AddHs()\n",
      "[16:09:36] Molecule does not have explicit Hs. Consider calling AddHs()\n"
     ]
    },
    {
     "name": "stdout",
     "output_type": "stream",
     "text": [
      "0\n",
      "no conformer for MolPort-008-331-906\n",
      "0\n",
      "no conformer for MolPort-008-333-190\n"
     ]
    },
    {
     "name": "stderr",
     "output_type": "stream",
     "text": [
      "[16:09:36] Molecule does not have explicit Hs. Consider calling AddHs()\n",
      "[16:09:36] Molecule does not have explicit Hs. Consider calling AddHs()\n"
     ]
    },
    {
     "name": "stdout",
     "output_type": "stream",
     "text": [
      "0\n",
      "no conformer for MolPort-008-333-618\n",
      "0\n",
      "no conformer for MolPort-008-336-075\n"
     ]
    },
    {
     "name": "stderr",
     "output_type": "stream",
     "text": [
      "[16:09:36] Molecule does not have explicit Hs. Consider calling AddHs()\n",
      "[16:09:36] Molecule does not have explicit Hs. Consider calling AddHs()\n"
     ]
    },
    {
     "name": "stdout",
     "output_type": "stream",
     "text": [
      "0\n",
      "no conformer for MolPort-008-336-453\n",
      "0\n",
      "no conformer for MolPort-008-337-136\n"
     ]
    },
    {
     "name": "stderr",
     "output_type": "stream",
     "text": [
      "[16:09:36] Molecule does not have explicit Hs. Consider calling AddHs()\n",
      "[16:09:36] Molecule does not have explicit Hs. Consider calling AddHs()\n"
     ]
    },
    {
     "name": "stdout",
     "output_type": "stream",
     "text": [
      "0\n",
      "no conformer for MolPort-008-337-604\n",
      "0\n",
      "no conformer for MolPort-008-338-167\n",
      "0\n",
      "no conformer for MolPort-008-339-771\n"
     ]
    },
    {
     "name": "stderr",
     "output_type": "stream",
     "text": [
      "[16:09:37] Molecule does not have explicit Hs. Consider calling AddHs()\n",
      "[16:09:37] Molecule does not have explicit Hs. Consider calling AddHs()\n",
      "[16:09:37] Molecule does not have explicit Hs. Consider calling AddHs()\n"
     ]
    },
    {
     "name": "stdout",
     "output_type": "stream",
     "text": [
      "0\n",
      "no conformer for MolPort-008-339-835\n",
      "0\n",
      "no conformer for MolPort-008-341-156\n"
     ]
    },
    {
     "name": "stderr",
     "output_type": "stream",
     "text": [
      "[16:09:37] Molecule does not have explicit Hs. Consider calling AddHs()\n",
      "[16:09:37] Molecule does not have explicit Hs. Consider calling AddHs()\n"
     ]
    },
    {
     "name": "stdout",
     "output_type": "stream",
     "text": [
      "0\n",
      "no conformer for MolPort-008-342-495\n",
      "16\n",
      "0\n",
      "no conformer for MolPort-005-973-736\n"
     ]
    },
    {
     "name": "stderr",
     "output_type": "stream",
     "text": [
      "[16:09:37] Molecule does not have explicit Hs. Consider calling AddHs()\n",
      "[16:09:37] Molecule does not have explicit Hs. Consider calling AddHs()\n",
      "[16:09:37] Molecule does not have explicit Hs. Consider calling AddHs()\n"
     ]
    },
    {
     "name": "stdout",
     "output_type": "stream",
     "text": [
      "0\n",
      "no conformer for MolPort-006-250-132\n",
      "0\n",
      "no conformer for MolPort-006-250-133\n"
     ]
    },
    {
     "name": "stderr",
     "output_type": "stream",
     "text": [
      "[16:09:37] Molecule does not have explicit Hs. Consider calling AddHs()\n",
      "[16:09:37] Molecule does not have explicit Hs. Consider calling AddHs()\n"
     ]
    },
    {
     "name": "stdout",
     "output_type": "stream",
     "text": [
      "0\n",
      "no conformer for MolPort-006-805-212\n",
      "0\n",
      "no conformer for MolPort-006-807-659\n"
     ]
    },
    {
     "name": "stderr",
     "output_type": "stream",
     "text": [
      "[16:09:38] Molecule does not have explicit Hs. Consider calling AddHs()\n",
      "[16:09:38] Molecule does not have explicit Hs. Consider calling AddHs()\n"
     ]
    },
    {
     "name": "stdout",
     "output_type": "stream",
     "text": [
      "0\n",
      "no conformer for MolPort-006-807-751\n",
      "0\n",
      "no conformer for MolPort-007-551-026\n"
     ]
    },
    {
     "name": "stderr",
     "output_type": "stream",
     "text": [
      "[16:09:38] Molecule does not have explicit Hs. Consider calling AddHs()\n",
      "[16:09:38] Molecule does not have explicit Hs. Consider calling AddHs()\n"
     ]
    },
    {
     "name": "stdout",
     "output_type": "stream",
     "text": [
      "0\n",
      "no conformer for MolPort-007-552-066\n",
      "0\n",
      "no conformer for MolPort-007-553-555\n",
      "0\n",
      "no conformer for MolPort-007-553-556\n"
     ]
    },
    {
     "name": "stderr",
     "output_type": "stream",
     "text": [
      "[16:09:38] Molecule does not have explicit Hs. Consider calling AddHs()\n",
      "[16:09:38] Molecule does not have explicit Hs. Consider calling AddHs()\n",
      "[16:09:38] Molecule does not have explicit Hs. Consider calling AddHs()\n"
     ]
    },
    {
     "name": "stdout",
     "output_type": "stream",
     "text": [
      "0\n",
      "no conformer for MolPort-007-553-573\n",
      "0\n",
      "no conformer for MolPort-007-553-576\n"
     ]
    },
    {
     "name": "stderr",
     "output_type": "stream",
     "text": [
      "[16:09:38] Molecule does not have explicit Hs. Consider calling AddHs()\n",
      "[16:09:39] Molecule does not have explicit Hs. Consider calling AddHs()\n"
     ]
    },
    {
     "name": "stdout",
     "output_type": "stream",
     "text": [
      "0\n",
      "no conformer for MolPort-007-602-195\n",
      "0\n",
      "no conformer for MolPort-007-610-957\n"
     ]
    },
    {
     "name": "stderr",
     "output_type": "stream",
     "text": [
      "[16:09:39] Molecule does not have explicit Hs. Consider calling AddHs()\n",
      "[16:09:39] Molecule does not have explicit Hs. Consider calling AddHs()\n"
     ]
    },
    {
     "name": "stdout",
     "output_type": "stream",
     "text": [
      "10\n",
      "5\n"
     ]
    },
    {
     "name": "stderr",
     "output_type": "stream",
     "text": [
      "[16:09:39] Molecule does not have explicit Hs. Consider calling AddHs()\n",
      "[16:09:39] Molecule does not have explicit Hs. Consider calling AddHs()\n"
     ]
    },
    {
     "name": "stdout",
     "output_type": "stream",
     "text": [
      "11\n",
      "9\n"
     ]
    },
    {
     "name": "stderr",
     "output_type": "stream",
     "text": [
      "[16:09:39] Molecule does not have explicit Hs. Consider calling AddHs()\n",
      "[16:09:39] Molecule does not have explicit Hs. Consider calling AddHs()\n"
     ]
    },
    {
     "name": "stdout",
     "output_type": "stream",
     "text": [
      "13\n",
      "17\n"
     ]
    },
    {
     "name": "stderr",
     "output_type": "stream",
     "text": [
      "[16:09:40] Molecule does not have explicit Hs. Consider calling AddHs()\n",
      "[16:09:40] Molecule does not have explicit Hs. Consider calling AddHs()\n"
     ]
    },
    {
     "name": "stdout",
     "output_type": "stream",
     "text": [
      "0\n",
      "no conformer for MolPort-007-904-315\n",
      "0\n",
      "no conformer for MolPort-007-904-316\n"
     ]
    },
    {
     "name": "stderr",
     "output_type": "stream",
     "text": [
      "[16:09:40] Molecule does not have explicit Hs. Consider calling AddHs()\n",
      "[16:09:40] Molecule does not have explicit Hs. Consider calling AddHs()\n"
     ]
    },
    {
     "name": "stdout",
     "output_type": "stream",
     "text": [
      "0\n",
      "no conformer for MolPort-007-904-317\n",
      "0\n",
      "no conformer for MolPort-007-904-318\n"
     ]
    },
    {
     "name": "stderr",
     "output_type": "stream",
     "text": [
      "[16:09:40] Molecule does not have explicit Hs. Consider calling AddHs()\n",
      "[16:09:40] Molecule does not have explicit Hs. Consider calling AddHs()\n"
     ]
    },
    {
     "name": "stdout",
     "output_type": "stream",
     "text": [
      "0\n",
      "no conformer for MolPort-007-904-329\n",
      "0\n",
      "no conformer for MolPort-007-904-332\n"
     ]
    },
    {
     "name": "stderr",
     "output_type": "stream",
     "text": [
      "[16:09:40] Molecule does not have explicit Hs. Consider calling AddHs()\n",
      "[16:09:40] Molecule does not have explicit Hs. Consider calling AddHs()\n"
     ]
    },
    {
     "name": "stdout",
     "output_type": "stream",
     "text": [
      "0\n",
      "no conformer for MolPort-007-904-351\n",
      "0\n",
      "no conformer for MolPort-007-904-340\n"
     ]
    },
    {
     "name": "stderr",
     "output_type": "stream",
     "text": [
      "[16:09:41] Molecule does not have explicit Hs. Consider calling AddHs()\n",
      "[16:09:41] Molecule does not have explicit Hs. Consider calling AddHs()\n"
     ]
    },
    {
     "name": "stdout",
     "output_type": "stream",
     "text": [
      "0\n",
      "no conformer for MolPort-007-904-394\n",
      "0\n",
      "no conformer for MolPort-007-904-395\n"
     ]
    },
    {
     "name": "stderr",
     "output_type": "stream",
     "text": [
      "[16:09:41] Molecule does not have explicit Hs. Consider calling AddHs()\n",
      "[16:09:41] Molecule does not have explicit Hs. Consider calling AddHs()\n"
     ]
    },
    {
     "name": "stdout",
     "output_type": "stream",
     "text": [
      "0\n",
      "no conformer for MolPort-007-904-397\n",
      "4\n"
     ]
    },
    {
     "name": "stderr",
     "output_type": "stream",
     "text": [
      "[16:09:41] Molecule does not have explicit Hs. Consider calling AddHs()\n",
      "[16:09:41] Molecule does not have explicit Hs. Consider calling AddHs()\n"
     ]
    },
    {
     "name": "stdout",
     "output_type": "stream",
     "text": [
      "0\n",
      "no conformer for MolPort-007-904-399\n",
      "0\n",
      "no conformer for MolPort-007-904-417\n"
     ]
    },
    {
     "name": "stderr",
     "output_type": "stream",
     "text": [
      "[16:09:41] Molecule does not have explicit Hs. Consider calling AddHs()\n",
      "[16:09:42] Molecule does not have explicit Hs. Consider calling AddHs()\n"
     ]
    },
    {
     "name": "stdout",
     "output_type": "stream",
     "text": [
      "0\n",
      "no conformer for MolPort-007-904-479\n",
      "6\n"
     ]
    },
    {
     "name": "stderr",
     "output_type": "stream",
     "text": [
      "[16:09:42] Molecule does not have explicit Hs. Consider calling AddHs()\n",
      "[16:09:42] Molecule does not have explicit Hs. Consider calling AddHs()\n"
     ]
    },
    {
     "name": "stdout",
     "output_type": "stream",
     "text": [
      "0\n",
      "no conformer for MolPort-008-005-116\n",
      "7\n"
     ]
    },
    {
     "name": "stderr",
     "output_type": "stream",
     "text": [
      "[16:09:42] Molecule does not have explicit Hs. Consider calling AddHs()\n",
      "[16:09:42] Molecule does not have explicit Hs. Consider calling AddHs()\n"
     ]
    },
    {
     "name": "stdout",
     "output_type": "stream",
     "text": [
      "0\n",
      "no conformer for MolPort-008-315-445\n",
      "0\n",
      "no conformer for MolPort-008-323-149\n",
      "0\n",
      "no conformer for MolPort-008-323-150\n"
     ]
    },
    {
     "name": "stderr",
     "output_type": "stream",
     "text": [
      "[16:09:42] Molecule does not have explicit Hs. Consider calling AddHs()\n",
      "[16:09:42] Molecule does not have explicit Hs. Consider calling AddHs()\n",
      "[16:09:42] Molecule does not have explicit Hs. Consider calling AddHs()\n"
     ]
    },
    {
     "name": "stdout",
     "output_type": "stream",
     "text": [
      "0\n",
      "no conformer for MolPort-008-332-553\n",
      "0\n",
      "no conformer for MolPort-008-335-036\n"
     ]
    },
    {
     "name": "stderr",
     "output_type": "stream",
     "text": [
      "[16:09:43] Molecule does not have explicit Hs. Consider calling AddHs()\n",
      "[16:09:43] Molecule does not have explicit Hs. Consider calling AddHs()\n"
     ]
    },
    {
     "name": "stdout",
     "output_type": "stream",
     "text": [
      "0\n",
      "no conformer for MolPort-008-343-255\n",
      "0\n",
      "no conformer for MolPort-008-343-601\n"
     ]
    },
    {
     "name": "stderr",
     "output_type": "stream",
     "text": [
      "[16:09:43] Molecule does not have explicit Hs. Consider calling AddHs()\n",
      "[16:09:43] Molecule does not have explicit Hs. Consider calling AddHs()\n"
     ]
    },
    {
     "name": "stdout",
     "output_type": "stream",
     "text": [
      "0\n",
      "no conformer for MolPort-008-344-434\n",
      "0\n",
      "no conformer for MolPort-008-344-738\n"
     ]
    },
    {
     "name": "stderr",
     "output_type": "stream",
     "text": [
      "[16:09:43] Molecule does not have explicit Hs. Consider calling AddHs()\n",
      "[16:09:43] Molecule does not have explicit Hs. Consider calling AddHs()\n"
     ]
    },
    {
     "name": "stdout",
     "output_type": "stream",
     "text": [
      "0\n",
      "no conformer for MolPort-008-344-940\n",
      "0\n",
      "no conformer for MolPort-008-349-380\n"
     ]
    },
    {
     "name": "stderr",
     "output_type": "stream",
     "text": [
      "[16:09:43] Molecule does not have explicit Hs. Consider calling AddHs()\n",
      "[16:09:44] Molecule does not have explicit Hs. Consider calling AddHs()\n"
     ]
    },
    {
     "name": "stdout",
     "output_type": "stream",
     "text": [
      "0\n",
      "no conformer for MolPort-008-349-410\n",
      "0\n",
      "no conformer for MolPort-008-349-589\n",
      "0\n",
      "no conformer for MolPort-008-349-646\n"
     ]
    },
    {
     "name": "stderr",
     "output_type": "stream",
     "text": [
      "[16:09:44] Molecule does not have explicit Hs. Consider calling AddHs()\n",
      "[16:09:44] Molecule does not have explicit Hs. Consider calling AddHs()\n",
      "[16:09:44] Molecule does not have explicit Hs. Consider calling AddHs()\n"
     ]
    },
    {
     "name": "stdout",
     "output_type": "stream",
     "text": [
      "0\n",
      "no conformer for MolPort-008-349-747\n",
      "0\n",
      "no conformer for MolPort-008-350-303\n",
      "0\n",
      "no conformer for MolPort-008-350-311\n"
     ]
    },
    {
     "name": "stderr",
     "output_type": "stream",
     "text": [
      "[16:09:44] Molecule does not have explicit Hs. Consider calling AddHs()\n",
      "[16:09:44] Molecule does not have explicit Hs. Consider calling AddHs()\n",
      "[16:09:44] Molecule does not have explicit Hs. Consider calling AddHs()\n"
     ]
    },
    {
     "name": "stdout",
     "output_type": "stream",
     "text": [
      "0\n",
      "no conformer for MolPort-008-350-728\n",
      "0\n",
      "no conformer for MolPort-008-351-280\n",
      "0\n",
      "no conformer for MolPort-008-376-922\n"
     ]
    },
    {
     "name": "stderr",
     "output_type": "stream",
     "text": [
      "[16:09:44] Molecule does not have explicit Hs. Consider calling AddHs()\n",
      "[16:09:45] Molecule does not have explicit Hs. Consider calling AddHs()\n",
      "[16:09:45] Molecule does not have explicit Hs. Consider calling AddHs()\n"
     ]
    },
    {
     "name": "stdout",
     "output_type": "stream",
     "text": [
      "0\n",
      "no conformer for MolPort-009-651-881\n",
      "0\n",
      "no conformer for MolPort-009-652-996\n"
     ]
    },
    {
     "name": "stderr",
     "output_type": "stream",
     "text": [
      "[16:09:45] Molecule does not have explicit Hs. Consider calling AddHs()\n",
      "[16:09:45] Molecule does not have explicit Hs. Consider calling AddHs()\n"
     ]
    },
    {
     "name": "stdout",
     "output_type": "stream",
     "text": [
      "0\n",
      "no conformer for MolPort-009-653-019\n",
      "6\n",
      "0\n",
      "no conformer for MolPort-009-764-409\n"
     ]
    },
    {
     "name": "stderr",
     "output_type": "stream",
     "text": [
      "[16:09:45] Molecule does not have explicit Hs. Consider calling AddHs()\n",
      "[16:09:45] Molecule does not have explicit Hs. Consider calling AddHs()\n",
      "[16:09:45] Molecule does not have explicit Hs. Consider calling AddHs()\n"
     ]
    },
    {
     "name": "stdout",
     "output_type": "stream",
     "text": [
      "0\n",
      "no conformer for MolPort-015-161-828\n",
      "0\n",
      "no conformer for MolPort-016-583-570\n"
     ]
    },
    {
     "name": "stderr",
     "output_type": "stream",
     "text": [
      "[16:09:45] Molecule does not have explicit Hs. Consider calling AddHs()\n",
      "[16:09:45] Molecule does not have explicit Hs. Consider calling AddHs()\n"
     ]
    },
    {
     "name": "stdout",
     "output_type": "stream",
     "text": [
      "0\n",
      "no conformer for MolPort-008-347-922\n",
      "17\n",
      "0\n",
      "no conformer for MolPort-008-347-924\n"
     ]
    },
    {
     "name": "stderr",
     "output_type": "stream",
     "text": [
      "[16:09:45] Molecule does not have explicit Hs. Consider calling AddHs()\n",
      "[16:09:46] Molecule does not have explicit Hs. Consider calling AddHs()\n",
      "[16:09:46] Molecule does not have explicit Hs. Consider calling AddHs()\n"
     ]
    },
    {
     "name": "stdout",
     "output_type": "stream",
     "text": [
      "0\n",
      "no conformer for MolPort-008-354-494\n",
      "0\n",
      "no conformer for MolPort-009-754-389\n"
     ]
    },
    {
     "name": "stderr",
     "output_type": "stream",
     "text": [
      "[16:09:46] Molecule does not have explicit Hs. Consider calling AddHs()\n",
      "[16:09:46] Molecule does not have explicit Hs. Consider calling AddHs()\n"
     ]
    },
    {
     "name": "stdout",
     "output_type": "stream",
     "text": [
      "0\n",
      "no conformer for MolPort-009-758-997\n",
      "0\n",
      "no conformer for MolPort-009-759-045\n"
     ]
    },
    {
     "name": "stderr",
     "output_type": "stream",
     "text": [
      "[16:09:46] Molecule does not have explicit Hs. Consider calling AddHs()\n",
      "[16:09:46] Molecule does not have explicit Hs. Consider calling AddHs()\n"
     ]
    },
    {
     "name": "stdout",
     "output_type": "stream",
     "text": [
      "0\n",
      "no conformer for MolPort-016-593-418\n",
      "0\n",
      "no conformer for MolPort-016-601-168\n"
     ]
    },
    {
     "name": "stderr",
     "output_type": "stream",
     "text": [
      "[16:09:46] Molecule does not have explicit Hs. Consider calling AddHs()\n",
      "[16:09:46] Molecule does not have explicit Hs. Consider calling AddHs()\n"
     ]
    },
    {
     "name": "stdout",
     "output_type": "stream",
     "text": [
      "0\n",
      "no conformer for MolPort-016-602-186\n",
      "0\n",
      "no conformer for MolPort-016-604-372\n",
      "0\n",
      "no conformer for MolPort-016-606-142\n"
     ]
    },
    {
     "name": "stderr",
     "output_type": "stream",
     "text": [
      "[16:09:47] Molecule does not have explicit Hs. Consider calling AddHs()\n",
      "[16:09:47] Molecule does not have explicit Hs. Consider calling AddHs()\n",
      "[16:09:47] Molecule does not have explicit Hs. Consider calling AddHs()\n"
     ]
    },
    {
     "name": "stdout",
     "output_type": "stream",
     "text": [
      "0\n",
      "no conformer for MolPort-016-615-450\n",
      "0\n",
      "no conformer for MolPort-016-622-716\n",
      "0\n",
      "no conformer for MolPort-016-623-119\n"
     ]
    },
    {
     "name": "stderr",
     "output_type": "stream",
     "text": [
      "[16:09:47] Molecule does not have explicit Hs. Consider calling AddHs()\n",
      "[16:09:47] Molecule does not have explicit Hs. Consider calling AddHs()\n",
      "[16:09:47] Molecule does not have explicit Hs. Consider calling AddHs()\n"
     ]
    },
    {
     "name": "stdout",
     "output_type": "stream",
     "text": [
      "0\n",
      "no conformer for MolPort-016-624-007\n",
      "0\n",
      "no conformer for MolPort-016-625-253\n",
      "0\n",
      "no conformer for MolPort-016-626-236\n"
     ]
    },
    {
     "name": "stderr",
     "output_type": "stream",
     "text": [
      "[16:09:47] Molecule does not have explicit Hs. Consider calling AddHs()\n",
      "[16:09:47] Molecule does not have explicit Hs. Consider calling AddHs()\n",
      "[16:09:47] Molecule does not have explicit Hs. Consider calling AddHs()\n"
     ]
    },
    {
     "name": "stdout",
     "output_type": "stream",
     "text": [
      "0\n",
      "no conformer for MolPort-016-629-000\n"
     ]
    },
    {
     "name": "stderr",
     "output_type": "stream",
     "text": [
      "[16:09:47] Molecule does not have explicit Hs. Consider calling AddHs()\n"
     ]
    },
    {
     "name": "stdout",
     "output_type": "stream",
     "text": [
      "0\n",
      "no conformer for MolPort-019-722-047\n",
      "0\n",
      "no conformer for MolPort-019-722-439\n"
     ]
    },
    {
     "name": "stderr",
     "output_type": "stream",
     "text": [
      "[16:09:48] Molecule does not have explicit Hs. Consider calling AddHs()\n",
      "[16:09:48] Molecule does not have explicit Hs. Consider calling AddHs()\n"
     ]
    },
    {
     "name": "stdout",
     "output_type": "stream",
     "text": [
      "0\n",
      "no conformer for MolPort-019-722-484\n",
      "0\n",
      "no conformer for MolPort-019-826-858\n",
      "0\n",
      "no conformer for MolPort-019-909-394\n",
      "0\n",
      "no conformer for MolPort-020-180-764\n"
     ]
    },
    {
     "name": "stderr",
     "output_type": "stream",
     "text": [
      "[16:09:48] Molecule does not have explicit Hs. Consider calling AddHs()\n",
      "[16:09:48] Molecule does not have explicit Hs. Consider calling AddHs()\n",
      "[16:09:48] Molecule does not have explicit Hs. Consider calling AddHs()\n",
      "[16:09:48] Molecule does not have explicit Hs. Consider calling AddHs()\n"
     ]
    },
    {
     "name": "stdout",
     "output_type": "stream",
     "text": [
      "0\n",
      "no conformer for MolPort-023-222-183\n"
     ]
    },
    {
     "name": "stderr",
     "output_type": "stream",
     "text": [
      "[16:09:48] Molecule does not have explicit Hs. Consider calling AddHs()\n"
     ]
    },
    {
     "name": "stdout",
     "output_type": "stream",
     "text": [
      "0\n",
      "no conformer for MolPort-027-719-192\n"
     ]
    },
    {
     "name": "stderr",
     "output_type": "stream",
     "text": [
      "[16:09:49] Molecule does not have explicit Hs. Consider calling AddHs()\n"
     ]
    },
    {
     "name": "stdout",
     "output_type": "stream",
     "text": [
      "3\n"
     ]
    },
    {
     "name": "stderr",
     "output_type": "stream",
     "text": [
      "[16:09:49] Molecule does not have explicit Hs. Consider calling AddHs()\n"
     ]
    },
    {
     "name": "stdout",
     "output_type": "stream",
     "text": [
      "2\n",
      "5\n",
      "2\n",
      "0\n",
      "no conformer for MolPort-029-900-909\n"
     ]
    },
    {
     "name": "stderr",
     "output_type": "stream",
     "text": [
      "[16:09:49] Molecule does not have explicit Hs. Consider calling AddHs()\n",
      "[16:09:49] Molecule does not have explicit Hs. Consider calling AddHs()\n",
      "[16:09:49] Molecule does not have explicit Hs. Consider calling AddHs()\n",
      "[16:09:49] Molecule does not have explicit Hs. Consider calling AddHs()\n",
      "[16:09:50] Molecule does not have explicit Hs. Consider calling AddHs()\n"
     ]
    },
    {
     "name": "stdout",
     "output_type": "stream",
     "text": [
      "0\n",
      "no conformer for MolPort-029-906-507\n",
      "0\n",
      "no conformer for MolPort-035-700-087\n"
     ]
    },
    {
     "name": "stderr",
     "output_type": "stream",
     "text": [
      "[16:09:50] Molecule does not have explicit Hs. Consider calling AddHs()\n",
      "[16:09:50] Molecule does not have explicit Hs. Consider calling AddHs()\n",
      "[16:09:50] Molecule does not have explicit Hs. Consider calling AddHs()\n"
     ]
    },
    {
     "name": "stdout",
     "output_type": "stream",
     "text": [
      "0\n",
      "no conformer for MolPort-035-767-072\n",
      "2\n",
      "0\n",
      "no conformer for MolPort-039-124-682\n"
     ]
    },
    {
     "name": "stderr",
     "output_type": "stream",
     "text": [
      "[16:09:50] Molecule does not have explicit Hs. Consider calling AddHs()\n",
      "[16:09:50] Molecule does not have explicit Hs. Consider calling AddHs()\n"
     ]
    },
    {
     "name": "stdout",
     "output_type": "stream",
     "text": [
      "0\n",
      "no conformer for MolPort-039-124-745\n",
      "0\n",
      "no conformer for MolPort-039-341-117\n"
     ]
    },
    {
     "name": "stderr",
     "output_type": "stream",
     "text": [
      "[16:09:50] Molecule does not have explicit Hs. Consider calling AddHs()\n"
     ]
    },
    {
     "name": "stdout",
     "output_type": "stream",
     "text": [
      "0\n",
      "no conformer for MolPort-044-181-001\n",
      "2\n"
     ]
    },
    {
     "name": "stderr",
     "output_type": "stream",
     "text": [
      "[16:09:51] Molecule does not have explicit Hs. Consider calling AddHs()\n",
      "[16:09:51] Molecule does not have explicit Hs. Consider calling AddHs()\n"
     ]
    },
    {
     "name": "stdout",
     "output_type": "stream",
     "text": [
      "0\n",
      "no conformer for MolPort-044-544-646\n",
      "0\n",
      "no conformer for MolPort-044-810-496\n"
     ]
    },
    {
     "name": "stderr",
     "output_type": "stream",
     "text": [
      "[16:09:51] Molecule does not have explicit Hs. Consider calling AddHs()\n",
      "[16:09:51] Molecule does not have explicit Hs. Consider calling AddHs()\n"
     ]
    },
    {
     "name": "stdout",
     "output_type": "stream",
     "text": [
      "0\n",
      "no conformer for MolPort-044-810-858\n",
      "0\n",
      "no conformer for MolPort-045-901-130\n"
     ]
    },
    {
     "name": "stderr",
     "output_type": "stream",
     "text": [
      "[16:09:51] Molecule does not have explicit Hs. Consider calling AddHs()\n",
      "[16:09:51] Molecule does not have explicit Hs. Consider calling AddHs()\n"
     ]
    },
    {
     "name": "stdout",
     "output_type": "stream",
     "text": [
      "0\n",
      "no conformer for MolPort-045-901-164\n",
      "0\n",
      "no conformer for MolPort-046-067-373\n"
     ]
    },
    {
     "name": "stderr",
     "output_type": "stream",
     "text": [
      "[16:09:52] Molecule does not have explicit Hs. Consider calling AddHs()\n",
      "[16:09:52] Molecule does not have explicit Hs. Consider calling AddHs()\n"
     ]
    },
    {
     "name": "stdout",
     "output_type": "stream",
     "text": [
      "51\n",
      "14\n"
     ]
    },
    {
     "name": "stderr",
     "output_type": "stream",
     "text": [
      "[16:09:52] Molecule does not have explicit Hs. Consider calling AddHs()\n",
      "[16:09:52] Molecule does not have explicit Hs. Consider calling AddHs()\n"
     ]
    },
    {
     "name": "stdout",
     "output_type": "stream",
     "text": [
      "0\n",
      "no conformer for MolPort-047-100-447\n",
      "0\n",
      "no conformer for MolPort-016-584-733\n",
      "16\n"
     ]
    },
    {
     "name": "stderr",
     "output_type": "stream",
     "text": [
      "[16:09:52] Molecule does not have explicit Hs. Consider calling AddHs()\n",
      "[16:09:52] Molecule does not have explicit Hs. Consider calling AddHs()\n",
      "[16:09:52] Molecule does not have explicit Hs. Consider calling AddHs()\n"
     ]
    },
    {
     "name": "stdout",
     "output_type": "stream",
     "text": [
      "0\n",
      "no conformer for MolPort-016-592-308\n",
      "0\n",
      "no conformer for MolPort-016-593-984\n",
      "0\n",
      "no conformer for MolPort-016-594-538\n"
     ]
    },
    {
     "name": "stderr",
     "output_type": "stream",
     "text": [
      "[16:09:52] Molecule does not have explicit Hs. Consider calling AddHs()\n",
      "[16:09:52] Molecule does not have explicit Hs. Consider calling AddHs()\n",
      "[16:09:53] Molecule does not have explicit Hs. Consider calling AddHs()\n"
     ]
    },
    {
     "name": "stdout",
     "output_type": "stream",
     "text": [
      "0\n",
      "no conformer for MolPort-016-594-649\n",
      "0\n",
      "no conformer for MolPort-016-594-897\n",
      "0\n",
      "no conformer for MolPort-016-595-838\n"
     ]
    },
    {
     "name": "stderr",
     "output_type": "stream",
     "text": [
      "[16:09:53] Molecule does not have explicit Hs. Consider calling AddHs()\n",
      "[16:09:53] Molecule does not have explicit Hs. Consider calling AddHs()\n",
      "[16:09:53] Molecule does not have explicit Hs. Consider calling AddHs()\n"
     ]
    },
    {
     "name": "stdout",
     "output_type": "stream",
     "text": [
      "0\n",
      "no conformer for MolPort-016-597-019\n",
      "0\n",
      "no conformer for MolPort-016-598-943\n",
      "0\n",
      "no conformer for MolPort-016-599-173\n"
     ]
    },
    {
     "name": "stderr",
     "output_type": "stream",
     "text": [
      "[16:09:53] Molecule does not have explicit Hs. Consider calling AddHs()\n",
      "[16:09:53] Molecule does not have explicit Hs. Consider calling AddHs()\n",
      "[16:09:53] Molecule does not have explicit Hs. Consider calling AddHs()\n"
     ]
    },
    {
     "name": "stdout",
     "output_type": "stream",
     "text": [
      "0\n",
      "no conformer for MolPort-016-599-539\n",
      "0\n",
      "no conformer for MolPort-016-600-051\n",
      "0\n",
      "no conformer for MolPort-016-600-057\n"
     ]
    },
    {
     "name": "stderr",
     "output_type": "stream",
     "text": [
      "[16:09:53] Molecule does not have explicit Hs. Consider calling AddHs()\n",
      "[16:09:53] Molecule does not have explicit Hs. Consider calling AddHs()\n",
      "[16:09:53] Molecule does not have explicit Hs. Consider calling AddHs()\n"
     ]
    },
    {
     "name": "stdout",
     "output_type": "stream",
     "text": [
      "0\n",
      "no conformer for MolPort-016-600-601\n",
      "0\n",
      "no conformer for MolPort-016-600-743\n",
      "0\n",
      "no conformer for MolPort-016-608-339\n"
     ]
    },
    {
     "name": "stderr",
     "output_type": "stream",
     "text": [
      "[16:09:54] Molecule does not have explicit Hs. Consider calling AddHs()\n",
      "[16:09:54] Molecule does not have explicit Hs. Consider calling AddHs()\n",
      "[16:09:54] Molecule does not have explicit Hs. Consider calling AddHs()\n"
     ]
    },
    {
     "name": "stdout",
     "output_type": "stream",
     "text": [
      "0\n",
      "no conformer for MolPort-016-608-416\n",
      "0\n",
      "no conformer for MolPort-016-610-024\n",
      "0\n",
      "no conformer for MolPort-016-610-903\n"
     ]
    },
    {
     "name": "stderr",
     "output_type": "stream",
     "text": [
      "[16:09:54] Molecule does not have explicit Hs. Consider calling AddHs()\n",
      "[16:09:54] Molecule does not have explicit Hs. Consider calling AddHs()\n",
      "[16:09:54] Molecule does not have explicit Hs. Consider calling AddHs()\n"
     ]
    },
    {
     "name": "stdout",
     "output_type": "stream",
     "text": [
      "0\n",
      "no conformer for MolPort-016-612-449\n",
      "0\n",
      "no conformer for MolPort-016-612-974\n"
     ]
    },
    {
     "name": "stderr",
     "output_type": "stream",
     "text": [
      "[16:09:54] Molecule does not have explicit Hs. Consider calling AddHs()\n",
      "[16:09:54] Molecule does not have explicit Hs. Consider calling AddHs()\n"
     ]
    },
    {
     "name": "stdout",
     "output_type": "stream",
     "text": [
      "0\n",
      "no conformer for MolPort-016-612-978\n",
      "0\n",
      "no conformer for MolPort-016-613-329\n",
      "0\n",
      "no conformer for MolPort-016-614-024\n"
     ]
    },
    {
     "name": "stderr",
     "output_type": "stream",
     "text": [
      "[16:09:54] Molecule does not have explicit Hs. Consider calling AddHs()\n",
      "[16:09:54] Molecule does not have explicit Hs. Consider calling AddHs()\n",
      "[16:09:54] Molecule does not have explicit Hs. Consider calling AddHs()\n"
     ]
    },
    {
     "name": "stdout",
     "output_type": "stream",
     "text": [
      "0\n",
      "no conformer for MolPort-016-615-405\n",
      "0\n",
      "no conformer for MolPort-016-616-999\n",
      "0\n",
      "no conformer for MolPort-016-619-316\n"
     ]
    },
    {
     "name": "stderr",
     "output_type": "stream",
     "text": [
      "[16:09:55] Molecule does not have explicit Hs. Consider calling AddHs()\n",
      "[16:09:55] Molecule does not have explicit Hs. Consider calling AddHs()\n",
      "[16:09:55] Molecule does not have explicit Hs. Consider calling AddHs()\n"
     ]
    },
    {
     "name": "stdout",
     "output_type": "stream",
     "text": [
      "0\n",
      "no conformer for MolPort-016-619-604\n",
      "0\n",
      "no conformer for MolPort-016-619-676\n",
      "0\n",
      "no conformer for MolPort-016-623-946\n"
     ]
    },
    {
     "name": "stderr",
     "output_type": "stream",
     "text": [
      "[16:09:55] Molecule does not have explicit Hs. Consider calling AddHs()\n",
      "[16:09:55] Molecule does not have explicit Hs. Consider calling AddHs()\n",
      "[16:09:55] Molecule does not have explicit Hs. Consider calling AddHs()\n"
     ]
    },
    {
     "name": "stdout",
     "output_type": "stream",
     "text": [
      "0\n",
      "no conformer for MolPort-016-628-277\n",
      "0\n",
      "no conformer for MolPort-016-629-585\n"
     ]
    },
    {
     "name": "stderr",
     "output_type": "stream",
     "text": [
      "[16:09:55] Molecule does not have explicit Hs. Consider calling AddHs()\n",
      "[16:09:55] Molecule does not have explicit Hs. Consider calling AddHs()\n"
     ]
    },
    {
     "name": "stdout",
     "output_type": "stream",
     "text": [
      "0\n",
      "no conformer for MolPort-016-891-356\n",
      "0\n",
      "no conformer for MolPort-016-891-361\n"
     ]
    },
    {
     "name": "stderr",
     "output_type": "stream",
     "text": [
      "[16:09:55] Molecule does not have explicit Hs. Consider calling AddHs()\n",
      "[16:09:55] Molecule does not have explicit Hs. Consider calling AddHs()\n"
     ]
    },
    {
     "name": "stdout",
     "output_type": "stream",
     "text": [
      "0\n",
      "no conformer for MolPort-016-891-436\n",
      "0\n",
      "no conformer for MolPort-019-691-758\n"
     ]
    },
    {
     "name": "stderr",
     "output_type": "stream",
     "text": [
      "[16:09:56] Molecule does not have explicit Hs. Consider calling AddHs()\n",
      "[16:09:56] Molecule does not have explicit Hs. Consider calling AddHs()\n"
     ]
    },
    {
     "name": "stdout",
     "output_type": "stream",
     "text": [
      "0\n",
      "no conformer for MolPort-019-691-763\n",
      "0\n",
      "no conformer for MolPort-019-691-767\n"
     ]
    },
    {
     "name": "stderr",
     "output_type": "stream",
     "text": [
      "[16:09:56] Molecule does not have explicit Hs. Consider calling AddHs()\n",
      "[16:09:56] Molecule does not have explicit Hs. Consider calling AddHs()\n"
     ]
    },
    {
     "name": "stdout",
     "output_type": "stream",
     "text": [
      "0\n",
      "no conformer for MolPort-019-795-324\n",
      "0\n",
      "no conformer for MolPort-019-898-383\n"
     ]
    },
    {
     "name": "stderr",
     "output_type": "stream",
     "text": [
      "[16:09:56] Molecule does not have explicit Hs. Consider calling AddHs()\n",
      "[16:09:56] Molecule does not have explicit Hs. Consider calling AddHs()\n"
     ]
    },
    {
     "name": "stdout",
     "output_type": "stream",
     "text": [
      "0\n",
      "no conformer for MolPort-020-182-611\n",
      "0\n",
      "no conformer for MolPort-023-199-083\n"
     ]
    },
    {
     "name": "stderr",
     "output_type": "stream",
     "text": [
      "[16:09:56] Molecule does not have explicit Hs. Consider calling AddHs()\n",
      "[16:09:57] Molecule does not have explicit Hs. Consider calling AddHs()\n"
     ]
    },
    {
     "name": "stdout",
     "output_type": "stream",
     "text": [
      "2\n"
     ]
    },
    {
     "name": "stderr",
     "output_type": "stream",
     "text": [
      "[16:09:57] Molecule does not have explicit Hs. Consider calling AddHs()\n"
     ]
    },
    {
     "name": "stdout",
     "output_type": "stream",
     "text": [
      "3\n"
     ]
    },
    {
     "name": "stderr",
     "output_type": "stream",
     "text": [
      "[16:09:57] Molecule does not have explicit Hs. Consider calling AddHs()\n"
     ]
    },
    {
     "name": "stdout",
     "output_type": "stream",
     "text": [
      "3\n",
      "4\n"
     ]
    },
    {
     "name": "stderr",
     "output_type": "stream",
     "text": [
      "[16:09:57] Molecule does not have explicit Hs. Consider calling AddHs()\n",
      "[16:09:57] Molecule does not have explicit Hs. Consider calling AddHs()\n"
     ]
    },
    {
     "name": "stdout",
     "output_type": "stream",
     "text": [
      "0\n",
      "no conformer for MolPort-027-719-092\n"
     ]
    },
    {
     "name": "stderr",
     "output_type": "stream",
     "text": [
      "[16:09:58] Molecule does not have explicit Hs. Consider calling AddHs()\n"
     ]
    },
    {
     "name": "stdout",
     "output_type": "stream",
     "text": [
      "5\n"
     ]
    },
    {
     "name": "stderr",
     "output_type": "stream",
     "text": [
      "[16:09:58] Molecule does not have explicit Hs. Consider calling AddHs()\n"
     ]
    },
    {
     "name": "stdout",
     "output_type": "stream",
     "text": [
      "0\n",
      "no conformer for MolPort-027-719-163\n",
      "0\n",
      "no conformer for MolPort-028-529-575\n",
      "0\n",
      "no conformer for MolPort-028-742-070\n"
     ]
    },
    {
     "name": "stderr",
     "output_type": "stream",
     "text": [
      "[16:09:58] Molecule does not have explicit Hs. Consider calling AddHs()\n",
      "[16:09:58] Molecule does not have explicit Hs. Consider calling AddHs()\n",
      "[16:09:58] Molecule does not have explicit Hs. Consider calling AddHs()\n"
     ]
    },
    {
     "name": "stdout",
     "output_type": "stream",
     "text": [
      "0\n",
      "no conformer for MolPort-029-894-825\n",
      "0\n",
      "no conformer for MolPort-029-896-664\n",
      "0\n",
      "no conformer for MolPort-029-899-507\n"
     ]
    },
    {
     "name": "stderr",
     "output_type": "stream",
     "text": [
      "[16:09:59] Molecule does not have explicit Hs. Consider calling AddHs()\n",
      "[16:09:59] Molecule does not have explicit Hs. Consider calling AddHs()\n",
      "[16:09:59] Molecule does not have explicit Hs. Consider calling AddHs()\n"
     ]
    },
    {
     "name": "stdout",
     "output_type": "stream",
     "text": [
      "0\n",
      "no conformer for MolPort-029-902-982\n",
      "0\n",
      "no conformer for MolPort-029-904-692\n",
      "0\n",
      "no conformer for MolPort-029-904-719\n"
     ]
    },
    {
     "name": "stderr",
     "output_type": "stream",
     "text": [
      "[16:09:59] Molecule does not have explicit Hs. Consider calling AddHs()\n",
      "[16:09:59] Molecule does not have explicit Hs. Consider calling AddHs()\n",
      "[16:09:59] Molecule does not have explicit Hs. Consider calling AddHs()\n",
      "[16:09:59] Molecule does not have explicit Hs. Consider calling AddHs()\n",
      "[16:09:59] Molecule does not have explicit Hs. Consider calling AddHs()\n"
     ]
    },
    {
     "name": "stdout",
     "output_type": "stream",
     "text": [
      "0\n",
      "no conformer for MolPort-029-905-256\n",
      "0\n",
      "no conformer for MolPort-029-906-103\n",
      "0\n",
      "no conformer for MolPort-030-049-463\n",
      "0\n",
      "no conformer for MolPort-030-051-404\n"
     ]
    },
    {
     "name": "stderr",
     "output_type": "stream",
     "text": [
      "[16:09:59] Molecule does not have explicit Hs. Consider calling AddHs()\n",
      "[16:10:00] Molecule does not have explicit Hs. Consider calling AddHs()\n"
     ]
    },
    {
     "name": "stdout",
     "output_type": "stream",
     "text": [
      "0\n",
      "no conformer for MolPort-030-059-212\n",
      "0\n",
      "no conformer for MolPort-030-059-913\n"
     ]
    },
    {
     "name": "stderr",
     "output_type": "stream",
     "text": [
      "[16:10:00] Molecule does not have explicit Hs. Consider calling AddHs()\n",
      "[16:10:00] Molecule does not have explicit Hs. Consider calling AddHs()\n"
     ]
    },
    {
     "name": "stdout",
     "output_type": "stream",
     "text": [
      "0\n",
      "no conformer for MolPort-030-060-283\n",
      "0\n",
      "no conformer for MolPort-030-060-796\n"
     ]
    },
    {
     "name": "stderr",
     "output_type": "stream",
     "text": [
      "[16:10:00] Molecule does not have explicit Hs. Consider calling AddHs()\n",
      "[16:10:00] Molecule does not have explicit Hs. Consider calling AddHs()\n"
     ]
    },
    {
     "name": "stdout",
     "output_type": "stream",
     "text": [
      "0\n",
      "no conformer for MolPort-030-060-932\n",
      "0\n",
      "no conformer for MolPort-030-061-983\n",
      "0\n",
      "no conformer for MolPort-035-873-864\n"
     ]
    },
    {
     "name": "stderr",
     "output_type": "stream",
     "text": [
      "[16:10:00] Molecule does not have explicit Hs. Consider calling AddHs()\n",
      "[16:10:00] Molecule does not have explicit Hs. Consider calling AddHs()\n",
      "[16:10:00] Molecule does not have explicit Hs. Consider calling AddHs()\n"
     ]
    },
    {
     "name": "stdout",
     "output_type": "stream",
     "text": [
      "0\n",
      "no conformer for MolPort-039-060-061\n",
      "0\n",
      "no conformer for MolPort-039-103-746\n"
     ]
    },
    {
     "name": "stderr",
     "output_type": "stream",
     "text": [
      "[16:10:00] Molecule does not have explicit Hs. Consider calling AddHs()\n",
      "[16:10:00] Molecule does not have explicit Hs. Consider calling AddHs()\n"
     ]
    },
    {
     "name": "stdout",
     "output_type": "stream",
     "text": [
      "0\n",
      "no conformer for MolPort-039-104-120\n",
      "0\n",
      "no conformer for MolPort-039-104-286\n",
      "0\n",
      "no conformer for MolPort-039-105-649\n"
     ]
    },
    {
     "name": "stderr",
     "output_type": "stream",
     "text": [
      "[16:10:01] Molecule does not have explicit Hs. Consider calling AddHs()\n",
      "[16:10:01] Molecule does not have explicit Hs. Consider calling AddHs()\n",
      "[16:10:01] Molecule does not have explicit Hs. Consider calling AddHs()\n"
     ]
    },
    {
     "name": "stdout",
     "output_type": "stream",
     "text": [
      "0\n",
      "no conformer for MolPort-039-106-967\n",
      "0\n",
      "no conformer for MolPort-039-107-390\n",
      "0\n",
      "no conformer for MolPort-039-107-398\n"
     ]
    },
    {
     "name": "stderr",
     "output_type": "stream",
     "text": [
      "[16:10:01] Molecule does not have explicit Hs. Consider calling AddHs()\n",
      "[16:10:01] Molecule does not have explicit Hs. Consider calling AddHs()\n",
      "[16:10:01] Molecule does not have explicit Hs. Consider calling AddHs()\n"
     ]
    },
    {
     "name": "stdout",
     "output_type": "stream",
     "text": [
      "0\n",
      "no conformer for MolPort-039-109-607\n",
      "0\n",
      "no conformer for MolPort-039-111-800\n"
     ]
    },
    {
     "name": "stderr",
     "output_type": "stream",
     "text": [
      "[16:10:01] Molecule does not have explicit Hs. Consider calling AddHs()\n",
      "[16:10:01] Molecule does not have explicit Hs. Consider calling AddHs()\n"
     ]
    },
    {
     "name": "stdout",
     "output_type": "stream",
     "text": [
      "0\n",
      "no conformer for MolPort-039-113-058\n",
      "0\n",
      "no conformer for MolPort-039-114-407\n"
     ]
    },
    {
     "name": "stderr",
     "output_type": "stream",
     "text": [
      "[16:10:01] Molecule does not have explicit Hs. Consider calling AddHs()\n",
      "[16:10:02] Molecule does not have explicit Hs. Consider calling AddHs()\n"
     ]
    },
    {
     "name": "stdout",
     "output_type": "stream",
     "text": [
      "0\n",
      "no conformer for MolPort-039-115-208\n",
      "0\n",
      "no conformer for MolPort-039-115-666\n"
     ]
    },
    {
     "name": "stderr",
     "output_type": "stream",
     "text": [
      "[16:10:02] Molecule does not have explicit Hs. Consider calling AddHs()\n",
      "[16:10:02] Molecule does not have explicit Hs. Consider calling AddHs()\n"
     ]
    },
    {
     "name": "stdout",
     "output_type": "stream",
     "text": [
      "0\n",
      "no conformer for MolPort-039-117-743\n",
      "0\n",
      "no conformer for MolPort-039-119-951\n",
      "0\n",
      "no conformer for MolPort-039-119-953\n"
     ]
    },
    {
     "name": "stderr",
     "output_type": "stream",
     "text": [
      "[16:10:02] Molecule does not have explicit Hs. Consider calling AddHs()\n",
      "[16:10:02] Molecule does not have explicit Hs. Consider calling AddHs()\n",
      "[16:10:02] Molecule does not have explicit Hs. Consider calling AddHs()\n"
     ]
    },
    {
     "name": "stdout",
     "output_type": "stream",
     "text": [
      "0\n",
      "no conformer for MolPort-039-122-584\n",
      "0\n",
      "no conformer for MolPort-039-122-655\n"
     ]
    },
    {
     "name": "stderr",
     "output_type": "stream",
     "text": [
      "[16:10:02] Molecule does not have explicit Hs. Consider calling AddHs()\n",
      "[16:10:02] Molecule does not have explicit Hs. Consider calling AddHs()\n"
     ]
    },
    {
     "name": "stdout",
     "output_type": "stream",
     "text": [
      "0\n",
      "no conformer for MolPort-039-123-495\n",
      "0\n",
      "no conformer for MolPort-039-345-147\n",
      "0\n",
      "no conformer for MolPort-039-345-148\n"
     ]
    },
    {
     "name": "stderr",
     "output_type": "stream",
     "text": [
      "[16:10:02] Molecule does not have explicit Hs. Consider calling AddHs()\n",
      "[16:10:02] Molecule does not have explicit Hs. Consider calling AddHs()\n",
      "[16:10:03] Molecule does not have explicit Hs. Consider calling AddHs()\n"
     ]
    },
    {
     "name": "stdout",
     "output_type": "stream",
     "text": [
      "0\n",
      "no conformer for MolPort-039-345-149\n",
      "0\n",
      "no conformer for MolPort-039-345-150\n",
      "0\n",
      "no conformer for MolPort-039-345-151\n"
     ]
    },
    {
     "name": "stderr",
     "output_type": "stream",
     "text": [
      "[16:10:03] Molecule does not have explicit Hs. Consider calling AddHs()\n",
      "[16:10:03] Molecule does not have explicit Hs. Consider calling AddHs()\n",
      "[16:10:03] Molecule does not have explicit Hs. Consider calling AddHs()\n"
     ]
    },
    {
     "name": "stdout",
     "output_type": "stream",
     "text": [
      "0\n",
      "no conformer for MolPort-039-345-788\n",
      "0\n",
      "no conformer for MolPort-042-616-600\n",
      "0\n",
      "no conformer for MolPort-042-647-046\n"
     ]
    },
    {
     "name": "stderr",
     "output_type": "stream",
     "text": [
      "[16:10:03] Molecule does not have explicit Hs. Consider calling AddHs()\n",
      "[16:10:03] Molecule does not have explicit Hs. Consider calling AddHs()\n",
      "[16:10:03] Molecule does not have explicit Hs. Consider calling AddHs()\n"
     ]
    },
    {
     "name": "stdout",
     "output_type": "stream",
     "text": [
      "0\n",
      "no conformer for MolPort-042-648-067\n",
      "0\n",
      "no conformer for MolPort-044-180-597\n"
     ]
    },
    {
     "name": "stderr",
     "output_type": "stream",
     "text": [
      "[16:10:03] Molecule does not have explicit Hs. Consider calling AddHs()\n",
      "[16:10:03] Molecule does not have explicit Hs. Consider calling AddHs()\n"
     ]
    },
    {
     "name": "stdout",
     "output_type": "stream",
     "text": [
      "0\n",
      "no conformer for MolPort-044-543-734\n",
      "0\n",
      "no conformer for MolPort-044-721-385\n"
     ]
    },
    {
     "name": "stderr",
     "output_type": "stream",
     "text": [
      "[16:10:04] Molecule does not have explicit Hs. Consider calling AddHs()\n",
      "[16:10:04] Molecule does not have explicit Hs. Consider calling AddHs()\n"
     ]
    },
    {
     "name": "stdout",
     "output_type": "stream",
     "text": [
      "0\n",
      "no conformer for MolPort-044-721-707\n",
      "0\n",
      "no conformer for MolPort-045-968-640\n",
      "3\n"
     ]
    },
    {
     "name": "stderr",
     "output_type": "stream",
     "text": [
      "[16:10:04] Molecule does not have explicit Hs. Consider calling AddHs()\n",
      "[16:10:04] Molecule does not have explicit Hs. Consider calling AddHs()\n",
      "[16:10:04] Molecule does not have explicit Hs. Consider calling AddHs()\n"
     ]
    },
    {
     "name": "stdout",
     "output_type": "stream",
     "text": [
      "0\n",
      "no conformer for MolPort-047-491-368\n",
      "0\n",
      "no conformer for MolPort-047-494-064\n",
      "0\n",
      "no conformer for MolPort-047-806-225\n"
     ]
    },
    {
     "name": "stderr",
     "output_type": "stream",
     "text": [
      "[16:10:04] Molecule does not have explicit Hs. Consider calling AddHs()\n",
      "[16:10:04] Molecule does not have explicit Hs. Consider calling AddHs()\n",
      "[16:10:04] Molecule does not have explicit Hs. Consider calling AddHs()\n"
     ]
    },
    {
     "name": "stdout",
     "output_type": "stream",
     "text": [
      "0\n",
      "no conformer for MolPort-051-460-072\n",
      "0\n",
      "no conformer for MolPort-051-622-258\n",
      "0\n",
      "no conformer for MolPort-047-503-287\n"
     ]
    },
    {
     "name": "stderr",
     "output_type": "stream",
     "text": [
      "[16:10:04] Molecule does not have explicit Hs. Consider calling AddHs()\n",
      "[16:10:05] Molecule does not have explicit Hs. Consider calling AddHs()\n",
      "[16:10:05] Molecule does not have explicit Hs. Consider calling AddHs()\n"
     ]
    },
    {
     "name": "stdout",
     "output_type": "stream",
     "text": [
      "0\n",
      "no conformer for MolPort-047-505-361\n",
      "0\n",
      "no conformer for MolPort-049-244-295\n"
     ]
    },
    {
     "name": "stderr",
     "output_type": "stream",
     "text": [
      "[16:10:05] Molecule does not have explicit Hs. Consider calling AddHs()\n",
      "[16:10:05] Molecule does not have explicit Hs. Consider calling AddHs()\n",
      "[16:10:05] Molecule does not have explicit Hs. Consider calling AddHs()\n"
     ]
    },
    {
     "name": "stdout",
     "output_type": "stream",
     "text": [
      "0\n",
      "no conformer for MolPort-049-244-296\n",
      "0\n",
      "no conformer for MolPort-049-244-297\n"
     ]
    }
   ],
   "source": [
    "\n",
    "infos = []\n",
    "\n",
    "for mol in mols:\n",
    "\n",
    "    #mol = mols[0]\n",
    "    prot_coords = fragment_search.calcPDBcoords(prot, residues)\n",
    "\n",
    "    zzz = fragment_search.run_one_mol(mol, m_start, prot_coords, radius)\n",
    "    if zzz is None:\n",
    "        continue\n",
    "    adj_matrix, cids, heavy_atom_num = zzz\n",
    "\n",
    "    excluded = fragment_search.extract_excluded(adj_matrix, len(cids), heavy_atom_num)\n",
    "\n",
    "    print(sum(1-excluded))\n",
    "\n",
    "    fragment_handle.removeConformers(mol, cids, excluded)\n",
    "\n",
    "    #fragment_handle.writeMolToPDB(outdir, mol, cids, excluded, key)\n",
    "    fragment_handle.writeSDF(outdir, mol, cids, excluded, key)\n",
    "\n",
    "    infos.append((mol, cids, excluded))\n",
    "\n",
    "len(infos)\n",
    "\n",
    "fragment_search.write_summary(outdir, infos, key)\n"
   ]
  }
 ],
 "metadata": {
  "kernelspec": {
   "display_name": "Python 3",
   "language": "python",
   "name": "python3"
  },
  "language_info": {
   "codemirror_mode": {
    "name": "ipython",
    "version": 3
   },
   "file_extension": ".py",
   "mimetype": "text/x-python",
   "name": "python",
   "nbconvert_exporter": "python",
   "pygments_lexer": "ipython3",
   "version": "3.11.4"
  },
  "orig_nbformat": 4
 },
 "nbformat": 4,
 "nbformat_minor": 2
}
