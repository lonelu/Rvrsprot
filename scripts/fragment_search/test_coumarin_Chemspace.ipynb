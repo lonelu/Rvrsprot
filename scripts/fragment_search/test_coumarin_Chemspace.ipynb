{
 "cells": [
  {
   "cell_type": "code",
   "execution_count": 2,
   "metadata": {},
   "outputs": [],
   "source": [
    "from rdkit import Chem\n",
    "from rdkit.Chem import AllChem\n",
    "import py3Dmol\n",
    "from rdkit.Chem import Draw\n",
    "from rdkit.Chem.Draw import IPythonConsole\n",
    "\n",
    "import prody as pr\n",
    "\n",
    "IPythonConsole.ipython_useSVG=True \n",
    "IPythonConsole.drawOptions.addAtomIndices = True"
   ]
  },
  {
   "cell_type": "code",
   "execution_count": 7,
   "metadata": {},
   "outputs": [
    {
     "name": "stdout",
     "output_type": "stream",
     "text": [
      "2000\n"
     ]
    }
   ],
   "source": [
    "workdir = '/Users/lonelu/DesignData/fragment_design/FragmentScreen_yuda/'\n",
    "\n",
    "#ligand = pr.parsePDB(workdir + '7OCoumarin fragment ABLE.pdb').select('resname LIG')\n",
    "\n",
    "#m_start = Chem.MolFromPDBFile(workdir + 'm_start_conf.pdb')\n",
    "#m_start = Chem.MolFromPDBFile(workdir + 'CMR.pdb')\n",
    "suppl = Chem.SDMolSupplier(workdir + 'CMR.sdf')\n",
    "m_start = [x for x in suppl][0]\n",
    "#m_start = Chem.MolFromSmiles('Oc1ccc2ccc(=O)oc2c1')\n",
    "\n",
    "molpath = workdir +  'chemspace-search-20230904.sdf'\n",
    "\n",
    "suppl = Chem.SDMolSupplier(molpath)\n",
    "\n",
    "mols = [x for x in suppl]\n",
    "\n",
    "print(len(mols))"
   ]
  },
  {
   "cell_type": "code",
   "execution_count": 8,
   "metadata": {},
   "outputs": [
    {
     "name": "stdout",
     "output_type": "stream",
     "text": [
      "2000\n",
      "[True, True, True, True, True, True, True, True, True, True]\n"
     ]
    }
   ],
   "source": [
    "hasSubs = [m.HasSubstructMatch(m_start) for m in mols]\n",
    "\n",
    "print(sum(hasSubs))\n",
    "\n",
    "print(hasSubs[:10])"
   ]
  },
  {
   "cell_type": "code",
   "execution_count": 6,
   "metadata": {},
   "outputs": [
    {
     "name": "stdout",
     "output_type": "stream",
     "text": [
      "()\n"
     ]
    }
   ],
   "source": [
    "m = mols[0]\n",
    "match_atom_ids = m.GetSubstructMatches(m_start)\n",
    "print(match_atom_ids)"
   ]
  },
  {
   "cell_type": "code",
   "execution_count": 9,
   "metadata": {},
   "outputs": [
    {
     "name": "stdout",
     "output_type": "stream",
     "text": [
      "\n",
      "Chemspace_ID\n",
      "Product_type\n",
      "Price_for_1_mg_pack__USD\n",
      "Cheapest_pack_size\n",
      "Cheapest_pack_cost__USD\n"
     ]
    }
   ],
   "source": [
    "print(m.GetProp('_Name'))\n",
    "\n",
    "xs = mols[0].GetPropNames()\n",
    "for x in xs:\n",
    "    print(x)\n"
   ]
  }
 ],
 "metadata": {
  "kernelspec": {
   "display_name": "Python 3",
   "language": "python",
   "name": "python3"
  },
  "language_info": {
   "codemirror_mode": {
    "name": "ipython",
    "version": 3
   },
   "file_extension": ".py",
   "mimetype": "text/x-python",
   "name": "python",
   "nbconvert_exporter": "python",
   "pygments_lexer": "ipython3",
   "version": "3.11.4"
  },
  "orig_nbformat": 4
 },
 "nbformat": 4,
 "nbformat_minor": 2
}
