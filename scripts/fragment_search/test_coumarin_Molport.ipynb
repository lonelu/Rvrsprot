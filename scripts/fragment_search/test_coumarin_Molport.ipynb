{
 "cells": [
  {
   "cell_type": "code",
   "execution_count": 1,
   "metadata": {},
   "outputs": [],
   "source": [
    "from rdkit import Chem\n",
    "from rdkit.Chem import AllChem\n",
    "import py3Dmol\n",
    "from rdkit.Chem import Draw\n",
    "from rdkit.Chem.Draw import IPythonConsole\n",
    "\n",
    "import prody as pr\n",
    "\n",
    "IPythonConsole.ipython_useSVG=True \n",
    "IPythonConsole.drawOptions.addAtomIndices = True\n",
    "\n"
   ]
  },
  {
   "cell_type": "code",
   "execution_count": null,
   "metadata": {},
   "outputs": [],
   "source": [
    "workdir = '/Users/lonelu/DesignData/fragment_design/FragmentScreen_yuda/'\n",
    "\n",
    "#ligand = pr.parsePDB(workdir + '7OCoumarin fragment ABLE.pdb').select('resname LIG')\n",
    "\n",
    "#m_start = Chem.MolFromPDBFile(workdir + 'm_start_conf.pdb')\n",
    "#m_start = Chem.MolFromPDBFile(workdir + 'CMR.pdb')\n",
    "suppl = Chem.SDMolSupplier(workdir + 'CMR.sdf')\n",
    "m_start = [x for x in suppl][0]\n",
    "#m_start = Chem.MolFromSmiles('Oc1ccc2ccc(=O)oc2c1')\n",
    "\n",
    "molpath = workdir +  'molport_2.sdf'\n",
    "\n",
    "suppl = Chem.SDMolSupplier(molpath)\n",
    "\n",
    "mols = [x for x in suppl]\n",
    "\n",
    "print(len(mols))"
   ]
  },
  {
   "cell_type": "code",
   "execution_count": null,
   "metadata": {},
   "outputs": [],
   "source": [
    "for m in mols[:8]: tmp=AllChem.Compute2DCoords(m)\n",
    "img=Draw.MolsToGridImage(mols[:6],molsPerRow=2,subImgSize=(200,200),legends=[x.GetProp(\"_Name\") for x in mols[:6]])  \n",
    "\n",
    "img"
   ]
  },
  {
   "cell_type": "code",
   "execution_count": null,
   "metadata": {},
   "outputs": [],
   "source": [
    "\n",
    "hasSubs = [m.HasSubstructMatch(m_start) for m in mols]\n",
    "\n",
    "print(sum(hasSubs))\n",
    "\n",
    "print(hasSubs[:10])"
   ]
  },
  {
   "cell_type": "code",
   "execution_count": null,
   "metadata": {},
   "outputs": [],
   "source": [
    "m = mols[0]\n",
    "match_atom_ids = m.GetSubstructMatches(m_start)\n",
    "\n",
    "print(match_atom_ids)\n",
    "\n",
    "m2 = mols[2]\n",
    "\n",
    "atomMap = {}\n",
    "\n",
    "match_atom_ids2 = m2.GetSubstructMatches(m_start)\n",
    "print(match_atom_ids2)\n",
    "\n",
    "m"
   ]
  },
  {
   "cell_type": "code",
   "execution_count": null,
   "metadata": {},
   "outputs": [],
   "source": [
    "# def mol_with_atom_index(mol):\n",
    "#     for atom in mol.GetAtoms():\n",
    "#         atom.SetAtomMapNum(atom.GetIdx())\n",
    "#     return mol\n",
    "\n",
    "#mol_with_atom_index(m_start)"
   ]
  },
  {
   "cell_type": "code",
   "execution_count": null,
   "metadata": {},
   "outputs": [],
   "source": [
    "#print(Chem.MolToMolBlock(m_start))  \n",
    "conf = m_start.GetConformer()\n",
    "print(conf.GetPositions())  \n",
    "IPythonConsole.drawMol3D(m_start)"
   ]
  },
  {
   "cell_type": "code",
   "execution_count": null,
   "metadata": {},
   "outputs": [],
   "source": [
    "# murckoHashList = [Chem.rdMolHash.MolHash(mMol, Chem.rdMolHash.HashFunction.MurckoScaffold) for mMol in mols[:6]]\n",
    "# highlight_mostFreq_murckoHash = [m.GetSubstructMatch(m_start) for m in mols[:6]]\n",
    "# Draw.MolsToGridImage(mols,legends=[murckoHash for murckoHash in murckoHashList],\n",
    "#                      highlightAtomLists = highlight_mostFreq_murckoHash,\n",
    "#                      subImgSize=(250,250), useSVG=False)\n"
   ]
  },
  {
   "cell_type": "code",
   "execution_count": null,
   "metadata": {},
   "outputs": [],
   "source": [
    "# generate confomers.\n",
    "m = Chem.AddHs(m)\n",
    "cids = AllChem.EmbedMultipleConfs(m, numConfs=64, randomSeed=0xf00d)\n",
    "print(list(cids))\n",
    "#rmslist = []\n",
    "#AllChem.AlignMolConformers(m, RMSlist=rmslist)\n",
    "\n"
   ]
  },
  {
   "cell_type": "code",
   "execution_count": null,
   "metadata": {},
   "outputs": [],
   "source": [
    "heavy_atom_num = Chem.rdMolDescriptors.CalcNumHeavyAtoms(m)\n",
    "print(heavy_atom_num)\n",
    "\n",
    "m.GetAtoms()[41].GetSymbol()\n",
    "m.GetAtoms()[42].GetSymbol()"
   ]
  },
  {
   "cell_type": "code",
   "execution_count": null,
   "metadata": {},
   "outputs": [],
   "source": [
    "import numpy as np\n",
    "def get_mol_coords(mol_mobile, cids):\n",
    "    coords = []\n",
    "    heavy_atom_num = Chem.rdMolDescriptors.CalcNumHeavyAtoms(mol_mobile)\n",
    "    for id in cids:\n",
    "        conf = mol_mobile.GetConformer(id)\n",
    "        coord = conf.GetPositions()[:heavy_atom_num]\n",
    "        coords.append(coord)\n",
    "    return np.array(coords).reshape(-1, 3)\n",
    "\n",
    "\n",
    "coords =  get_mol_coords(m, cids)\n",
    "print(coords.shape)"
   ]
  },
  {
   "cell_type": "code",
   "execution_count": null,
   "metadata": {},
   "outputs": [],
   "source": [
    "conf1_3 = m.GetConformer(3)\n",
    "print(conf1_3.GetPositions()[35:38]) \n",
    "conf1_4 = m.GetConformer(4)\n",
    "print(conf1_4.GetPositions()[35:38])   \n"
   ]
  },
  {
   "cell_type": "code",
   "execution_count": null,
   "metadata": {},
   "outputs": [],
   "source": [
    "m"
   ]
  },
  {
   "cell_type": "code",
   "execution_count": null,
   "metadata": {},
   "outputs": [],
   "source": [
    "_coordMap = {}\n",
    "print(m_start_conf.GetAtomPosition(0))\n",
    "\n",
    "m_start_conf = m_start.GetConformer()\n",
    "for i in range(len(match_atom_ids2[0])):\n",
    "    x = match_atom_ids2[0][i]\n",
    "    #atomMap[x] = m_start_conf.GetId() \n",
    "    _coordMap[x] = m_start_conf.GetAtomPosition(i) \n",
    "\n",
    "print(_coordMap)"
   ]
  },
  {
   "cell_type": "code",
   "execution_count": null,
   "metadata": {},
   "outputs": [],
   "source": [
    "m2= Chem.AddHs(m2)\n",
    "cids2 = AllChem.EmbedMultipleConfs(m2, numConfs=64, coordMap = _coordMap)\n",
    "print(cids2[1])"
   ]
  },
  {
   "cell_type": "code",
   "execution_count": null,
   "metadata": {},
   "outputs": [],
   "source": [
    "conf2_3 = m2.GetConformer(3)\n",
    "print(conf2_3.GetPositions()[17:20]) \n",
    "\n",
    "conf2_4 = m2.GetConformer(4)\n",
    "print(conf2_4.GetPositions()[17:20])  "
   ]
  },
  {
   "cell_type": "code",
   "execution_count": null,
   "metadata": {},
   "outputs": [],
   "source": [
    "_atomMap = [(match_atom_ids[0][i], i) for i in range(len(match_atom_ids[0]))]\n",
    "print(_atomMap)\n",
    "\n",
    "Chem.rdMolAlign.AlignMol(m, m_start, prbCid = 3, atomMap = _atomMap)\n"
   ]
  },
  {
   "cell_type": "code",
   "execution_count": null,
   "metadata": {},
   "outputs": [],
   "source": [
    "print(conf.GetPositions())  "
   ]
  },
  {
   "cell_type": "code",
   "execution_count": null,
   "metadata": {},
   "outputs": [],
   "source": [
    "from rdkit.Chem.rdmolfiles import MolToPDBFile\n",
    "\n",
    "MolToPDBFile(m_start, workdir + 'm_start_conf' + '.pdb', confId = -1)\n",
    "\n",
    "MolToPDBFile(m, workdir + 'm1-3_conf.pdb', confId = 3)\n",
    "MolToPDBFile(m, workdir + 'm1-4_conf.pdb', confId = 4)\n",
    "\n",
    "MolToPDBFile(m2, workdir + 'm2-3_conf.pdb', confId = 3)\n",
    "MolToPDBFile(m2, workdir + 'm2-4_conf.pdb', confId = 4)"
   ]
  },
  {
   "cell_type": "code",
   "execution_count": null,
   "metadata": {},
   "outputs": [],
   "source": [
    "print(m.GetProp('_Name'))\n",
    "\n",
    "xs = mols[0].GetPropNames()\n",
    "for x in xs:\n",
    "    print(x)\n",
    "\n",
    "mols[0].GetProp('Molport ID')"
   ]
  },
  {
   "cell_type": "code",
   "execution_count": 2,
   "metadata": {},
   "outputs": [],
   "source": [
    "workdir = '/Users/lonelu/DesignData/fragment_design/FragmentScreen_yuda/'\n",
    "\n",
    "molpath = workdir +  'Coumarin_Molport_10000.sdf'\n",
    "\n",
    "suppl = Chem.SDMolSupplier(molpath)\n",
    "\n",
    "with open(workdir + 'Coumarin_Molport_10000.txt', 'w') as f:\n",
    "    for m in suppl:\n",
    "        f.write(m.GetProp('Molport ID') + '\\n')\n",
    "\n"
   ]
  }
 ],
 "metadata": {
  "kernelspec": {
   "display_name": "env_conda",
   "language": "python",
   "name": "python3"
  },
  "language_info": {
   "codemirror_mode": {
    "name": "ipython",
    "version": 3
   },
   "file_extension": ".py",
   "mimetype": "text/x-python",
   "name": "python",
   "nbconvert_exporter": "python",
   "pygments_lexer": "ipython3",
   "version": "3.11.4"
  },
  "orig_nbformat": 4
 },
 "nbformat": 4,
 "nbformat_minor": 2
}
