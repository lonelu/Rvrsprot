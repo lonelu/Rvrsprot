{
 "cells": [
  {
   "cell_type": "code",
   "execution_count": 1,
   "metadata": {},
   "outputs": [
    {
     "name": "stdout",
     "output_type": "stream",
     "text": [
      "['AddConformer', 'ClearComputedProps', 'ClearProp', 'Debug', 'GetAromaticAtoms', 'GetAtomWithIdx', 'GetAtoms', 'GetAtomsMatchingQuery', 'GetBondBetweenAtoms', 'GetBondWithIdx', 'GetBonds', 'GetBoolProp', 'GetConformer', 'GetConformers', 'GetDoubleProp', 'GetIntProp', 'GetNumAtoms', 'GetNumBonds', 'GetNumConformers', 'GetNumHeavyAtoms', 'GetProp', 'GetPropNames', 'GetPropsAsDict', 'GetRingInfo', 'GetStereoGroups', 'GetSubstructMatch', 'GetSubstructMatches', 'GetUnsignedProp', 'HasProp', 'HasSubstructMatch', 'NeedsUpdatePropertyCache', 'RemoveAllConformers', 'RemoveConformer', 'SetBoolProp', 'SetDoubleProp', 'SetIntProp', 'SetProp', 'SetUnsignedProp', 'ToBinary', 'UpdatePropertyCache', '__DebugMol', '__GetSubstructMatch', '__GetSubstructMatches', '__class__', '__copy__', '__deepcopy__', '__delattr__', '__dir__', '__eq__', '__format__', '__ge__', '__getattribute__', '__getinitargs__', '__gt__', '__hash__', '__init__', '__init_subclass__', '__le__', '__lt__', '__ne__', '__new__', '__reduce__', '__reduce_ex__', '__repr__', '__setattr__', '__sizeof__', '__str__', '__subclasshook__', '_repr_html_', '_repr_png_', '_repr_svg_']\n"
     ]
    }
   ],
   "source": [
    "from rdkit import Chem\n",
    "\n",
    "workdir = '/mnt/e/DesignData/Chemodrugs/HB_RUC_uaa/'\n",
    "uaa_rd = Chem.MolFromPDBFile(workdir + 'AzoPhe.pdb')\n",
    "\n",
    "\n",
    "object_methods = [method_name for method_name in dir(uaa_rd)\n",
    "     if callable(getattr(uaa_rd, method_name))]\n",
    "\n",
    "print(object_methods)"
   ]
  },
  {
   "cell_type": "code",
   "execution_count": 2,
   "metadata": {},
   "outputs": [
    {
     "data": {
      "image/png": "[encoded data removed]",
      "text/plain": [
       "<IPython.core.display.Image object>"
      ]
     },
     "execution_count": 2,
     "metadata": {},
     "output_type": "execute_result"
    }
   ],
   "source": [
    "from rdkit.Chem.Draw import rdMolDraw2D\n",
    "d = rdMolDraw2D.MolDraw2DCairo(250, 200) # or MolDraw2DSVG to get SVGs\n",
    "\n",
    "d.drawOptions().addStereoAnnotation = True\n",
    "d.drawOptions().addAtomIndices = True\n",
    "d.DrawMolecule(uaa_rd)\n",
    "d.FinishDrawing()\n",
    "d.WriteDrawingText(workdir + 'uaa_atom_annotation.png')  \n",
    "\n",
    "from IPython.display import Image\n",
    "Image(filename=workdir + 'uaa_atom_annotation.png')"
   ]
  },
  {
   "cell_type": "code",
   "execution_count": 10,
   "metadata": {},
   "outputs": [
    {
     "name": "stdout",
     "output_type": "stream",
     "text": [
      "(' N  ', 0)\n",
      "(' CA ', 1)\n",
      "(' C  ', 2)\n",
      "(' O  ', 3)\n",
      "(' CB ', 4)\n",
      "(' CG ', 5)\n",
      "(' CD1', 6)\n",
      "(' CD2', 7)\n",
      "(' CE1', 8)\n",
      "(' CE2', 9)\n",
      "(' CZ ', 10)\n",
      "(' N1 ', 11)\n",
      "(' N2 ', 12)\n",
      "(' C1 ', 13)\n",
      "(' C2 ', 14)\n",
      "(' C3 ', 15)\n",
      "(' C4 ', 16)\n",
      "(' C5 ', 17)\n",
      "(' C6 ', 18)\n",
      "(' O1 ', 19)\n"
     ]
    }
   ],
   "source": [
    "for atom in uaa_rd.GetAtoms():\n",
    "    print((atom.GetPDBResidueInfo().GetName(), atom.GetIdx()))\n"
   ]
  },
  {
   "cell_type": "code",
   "execution_count": 16,
   "metadata": {},
   "outputs": [],
   "source": [
    "uc = uaa_rd.GetConformer()\n",
    "\n",
    "import rdkit.Chem.rdMolTransforms as rmt\n",
    "rmt.GetAngleDeg(uc, 1,2, 3)\n",
    "\n",
    "rmt.SetAngleDeg(uc, 1,2, 3, 60)"
   ]
  },
  {
   "cell_type": "code",
   "execution_count": 19,
   "metadata": {},
   "outputs": [],
   "source": [
    "from rdkit.Chem.rdmolfiles import MolToPDBFile \n",
    "MolToPDBFile(uaa_rd, workdir + 'test.pdb')"
   ]
  }
 ],
 "metadata": {
  "kernelspec": {
   "display_name": "env_conda",
   "language": "python",
   "name": "python3"
  },
  "language_info": {
   "codemirror_mode": {
    "name": "ipython",
    "version": 3
   },
   "file_extension": ".py",
   "mimetype": "text/x-python",
   "name": "python",
   "nbconvert_exporter": "python",
   "pygments_lexer": "ipython3",
   "version": "3.8.3"
  },
  "orig_nbformat": 4
 },
 "nbformat": 4,
 "nbformat_minor": 2
}
