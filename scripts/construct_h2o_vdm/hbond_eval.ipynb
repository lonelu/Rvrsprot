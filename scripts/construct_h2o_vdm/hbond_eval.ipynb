{
 "cells": [
  {
   "cell_type": "code",
   "execution_count": 2,
   "metadata": {},
   "outputs": [],
   "source": [
    "'''\n",
    "How to get H-bond between protein and ligand.\n",
    "\n",
    "#Use Hbind to calc the interaction https://github.com/rasbt/Hbind.\n",
    "\n",
    "./bin/hbind -p /mnt/e/DesignData/Database/v2020-other-PL/1b9s/1b9s_protein.pdb -l /mnt/e/DesignData/Database/v2020-other-PL/1a5h/1a5h_ligand.mol2\n",
    "\n",
    "# Or use BINANA https://git.durrantlab.pitt.edu/jdurrant/binana/, which require a different file format.\n",
    "\n",
    "'''\n",
    "import biotite.structure as struc\n",
    "import biotite.structure.io.pdb as pdbio\n",
    "\n",
    "workdir = '/mnt/e/DesignData/Database/vdMh2o/'\n",
    "workdir_vdM = workdir + 'vdm_pdb_h/'\n",
    "\n",
    "pdb_path = workdir_vdM + '1cza_N627_N631.pdb'\n",
    "\n",
    "pdb_file = pdbio.PDBFile.read(pdb_path)\n",
    "_1cza = pdb_file.get_structure()\n",
    "\n",
    "triplets, mask = struc.hbond(_1cza)"
   ]
  },
  {
   "cell_type": "code",
   "execution_count": 3,
   "metadata": {},
   "outputs": [
    {
     "data": {
      "text/plain": [
       "array([], shape=(0, 3), dtype=int64)"
      ]
     },
     "execution_count": 3,
     "metadata": {},
     "output_type": "execute_result"
    }
   ],
   "source": [
    "triplets"
   ]
  },
  {
   "cell_type": "code",
   "execution_count": 4,
   "metadata": {},
   "outputs": [
    {
     "data": {
      "text/plain": [
       "array([], shape=(1, 0), dtype=bool)"
      ]
     },
     "execution_count": 4,
     "metadata": {},
     "output_type": "execute_result"
    }
   ],
   "source": [
    "mask"
   ]
  }
 ],
 "metadata": {
  "kernelspec": {
   "display_name": "env_conda",
   "language": "python",
   "name": "python3"
  },
  "language_info": {
   "codemirror_mode": {
    "name": "ipython",
    "version": 3
   },
   "file_extension": ".py",
   "mimetype": "text/x-python",
   "name": "python",
   "nbconvert_exporter": "python",
   "pygments_lexer": "ipython3",
   "version": "3.8.3"
  },
  "orig_nbformat": 4
 },
 "nbformat": 4,
 "nbformat_minor": 2
}
