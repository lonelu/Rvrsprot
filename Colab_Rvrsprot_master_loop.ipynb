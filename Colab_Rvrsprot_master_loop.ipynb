{
  "nbformat": 4,
  "nbformat_minor": 0,
  "metadata": {
    "colab": {
      "provenance": [],
      "authorship_tag": "ABX9TyOG2g18R69cYWbs06M9FJXD",
      "include_colab_link": true
    },
    "kernelspec": {
      "name": "python3",
      "display_name": "Python 3"
    },
    "language_info": {
      "name": "python"
    }
  },
  "cells": [
    {
      "cell_type": "markdown",
      "metadata": {
        "id": "view-in-github",
        "colab_type": "text"
      },
      "source": [
        "<a href=\"https://colab.research.google.com/github/lonelu/Rvrsprot/blob/main/Colab_Rvrsprot_master_loop.ipynb\" target=\"_parent\"><img src=\"https://colab.research.google.com/assets/colab-badge.svg\" alt=\"Open In Colab\"/></a>"
      ]
    },
    {
      "cell_type": "markdown",
      "source": [
        "# Rvrsprot_master_loop_colab\n",
        "DeGrado Lab, UCSF.\n",
        "\n",
        "The program is used for loop selections from Master result. "
      ],
      "metadata": {
        "id": "auvtJA2OVbZC"
      }
    },
    {
      "cell_type": "code",
      "source": [
        "#@title Upload pdb\n",
        "import os\n",
        "from google.colab import files\n",
        "import re\n",
        "import datetime\n",
        "import shutil\n",
        "#@markdown Define job\n",
        "jobname = 'None' #@param {type:\"string\"}\n",
        "\n",
        "#@markdown Upload pdb prompt\n",
        "uploaded = files.upload()\n",
        "for fn in uploaded.keys():\n",
        "  # remove any preceding '.'s in filename\n",
        "  count = fn.count(\".\") - 1\n",
        "  newfn = fn.replace('.', '-', count)\n",
        "  newfn = fn.replace('_', '-')\n",
        "pdbname = newfn.split('.')[0]\n",
        "shutil.copyfile(fn, pdbname + '.pdb')\n",
        "\n"
      ],
      "metadata": {
        "id": "1Dl3Vad-b-43",
        "colab": {
          "base_uri": "https://localhost:8080/",
          "height": 91
        },
        "outputId": "d74eadf2-8dfb-4193-f831-4a4f83adde4e"
      },
      "execution_count": 41,
      "outputs": [
        {
          "output_type": "display_data",
          "data": {
            "text/plain": [
              "<IPython.core.display.HTML object>"
            ],
            "text/html": [
              "\n",
              "     <input type=\"file\" id=\"files-800dff3d-6a50-432d-82f0-e485173316c1\" name=\"files[]\" multiple disabled\n",
              "        style=\"border:none\" />\n",
              "     <output id=\"result-800dff3d-6a50-432d-82f0-e485173316c1\">\n",
              "      Upload widget is only available when the cell has been executed in the\n",
              "      current browser session. Please rerun this cell to enable.\n",
              "      </output>\n",
              "      <script>// Copyright 2017 Google LLC\n",
              "//\n",
              "// Licensed under the Apache License, Version 2.0 (the \"License\");\n",
              "// you may not use this file except in compliance with the License.\n",
              "// You may obtain a copy of the License at\n",
              "//\n",
              "//      http://www.apache.org/licenses/LICENSE-2.0\n",
              "//\n",
              "// Unless required by applicable law or agreed to in writing, software\n",
              "// distributed under the License is distributed on an \"AS IS\" BASIS,\n",
              "// WITHOUT WARRANTIES OR CONDITIONS OF ANY KIND, either express or implied.\n",
              "// See the License for the specific language governing permissions and\n",
              "// limitations under the License.\n",
              "\n",
              "/**\n",
              " * @fileoverview Helpers for google.colab Python module.\n",
              " */\n",
              "(function(scope) {\n",
              "function span(text, styleAttributes = {}) {\n",
              "  const element = document.createElement('span');\n",
              "  element.textContent = text;\n",
              "  for (const key of Object.keys(styleAttributes)) {\n",
              "    element.style[key] = styleAttributes[key];\n",
              "  }\n",
              "  return element;\n",
              "}\n",
              "\n",
              "// Max number of bytes which will be uploaded at a time.\n",
              "const MAX_PAYLOAD_SIZE = 100 * 1024;\n",
              "\n",
              "function _uploadFiles(inputId, outputId) {\n",
              "  const steps = uploadFilesStep(inputId, outputId);\n",
              "  const outputElement = document.getElementById(outputId);\n",
              "  // Cache steps on the outputElement to make it available for the next call\n",
              "  // to uploadFilesContinue from Python.\n",
              "  outputElement.steps = steps;\n",
              "\n",
              "  return _uploadFilesContinue(outputId);\n",
              "}\n",
              "\n",
              "// This is roughly an async generator (not supported in the browser yet),\n",
              "// where there are multiple asynchronous steps and the Python side is going\n",
              "// to poll for completion of each step.\n",
              "// This uses a Promise to block the python side on completion of each step,\n",
              "// then passes the result of the previous step as the input to the next step.\n",
              "function _uploadFilesContinue(outputId) {\n",
              "  const outputElement = document.getElementById(outputId);\n",
              "  const steps = outputElement.steps;\n",
              "\n",
              "  const next = steps.next(outputElement.lastPromiseValue);\n",
              "  return Promise.resolve(next.value.promise).then((value) => {\n",
              "    // Cache the last promise value to make it available to the next\n",
              "    // step of the generator.\n",
              "    outputElement.lastPromiseValue = value;\n",
              "    return next.value.response;\n",
              "  });\n",
              "}\n",
              "\n",
              "/**\n",
              " * Generator function which is called between each async step of the upload\n",
              " * process.\n",
              " * @param {string} inputId Element ID of the input file picker element.\n",
              " * @param {string} outputId Element ID of the output display.\n",
              " * @return {!Iterable<!Object>} Iterable of next steps.\n",
              " */\n",
              "function* uploadFilesStep(inputId, outputId) {\n",
              "  const inputElement = document.getElementById(inputId);\n",
              "  inputElement.disabled = false;\n",
              "\n",
              "  const outputElement = document.getElementById(outputId);\n",
              "  outputElement.innerHTML = '';\n",
              "\n",
              "  const pickedPromise = new Promise((resolve) => {\n",
              "    inputElement.addEventListener('change', (e) => {\n",
              "      resolve(e.target.files);\n",
              "    });\n",
              "  });\n",
              "\n",
              "  const cancel = document.createElement('button');\n",
              "  inputElement.parentElement.appendChild(cancel);\n",
              "  cancel.textContent = 'Cancel upload';\n",
              "  const cancelPromise = new Promise((resolve) => {\n",
              "    cancel.onclick = () => {\n",
              "      resolve(null);\n",
              "    };\n",
              "  });\n",
              "\n",
              "  // Wait for the user to pick the files.\n",
              "  const files = yield {\n",
              "    promise: Promise.race([pickedPromise, cancelPromise]),\n",
              "    response: {\n",
              "      action: 'starting',\n",
              "    }\n",
              "  };\n",
              "\n",
              "  cancel.remove();\n",
              "\n",
              "  // Disable the input element since further picks are not allowed.\n",
              "  inputElement.disabled = true;\n",
              "\n",
              "  if (!files) {\n",
              "    return {\n",
              "      response: {\n",
              "        action: 'complete',\n",
              "      }\n",
              "    };\n",
              "  }\n",
              "\n",
              "  for (const file of files) {\n",
              "    const li = document.createElement('li');\n",
              "    li.append(span(file.name, {fontWeight: 'bold'}));\n",
              "    li.append(span(\n",
              "        `(${file.type || 'n/a'}) - ${file.size} bytes, ` +\n",
              "        `last modified: ${\n",
              "            file.lastModifiedDate ? file.lastModifiedDate.toLocaleDateString() :\n",
              "                                    'n/a'} - `));\n",
              "    const percent = span('0% done');\n",
              "    li.appendChild(percent);\n",
              "\n",
              "    outputElement.appendChild(li);\n",
              "\n",
              "    const fileDataPromise = new Promise((resolve) => {\n",
              "      const reader = new FileReader();\n",
              "      reader.onload = (e) => {\n",
              "        resolve(e.target.result);\n",
              "      };\n",
              "      reader.readAsArrayBuffer(file);\n",
              "    });\n",
              "    // Wait for the data to be ready.\n",
              "    let fileData = yield {\n",
              "      promise: fileDataPromise,\n",
              "      response: {\n",
              "        action: 'continue',\n",
              "      }\n",
              "    };\n",
              "\n",
              "    // Use a chunked sending to avoid message size limits. See b/62115660.\n",
              "    let position = 0;\n",
              "    do {\n",
              "      const length = Math.min(fileData.byteLength - position, MAX_PAYLOAD_SIZE);\n",
              "      const chunk = new Uint8Array(fileData, position, length);\n",
              "      position += length;\n",
              "\n",
              "      const base64 = btoa(String.fromCharCode.apply(null, chunk));\n",
              "      yield {\n",
              "        response: {\n",
              "          action: 'append',\n",
              "          file: file.name,\n",
              "          data: base64,\n",
              "        },\n",
              "      };\n",
              "\n",
              "      let percentDone = fileData.byteLength === 0 ?\n",
              "          100 :\n",
              "          Math.round((position / fileData.byteLength) * 100);\n",
              "      percent.textContent = `${percentDone}% done`;\n",
              "\n",
              "    } while (position < fileData.byteLength);\n",
              "  }\n",
              "\n",
              "  // All done.\n",
              "  yield {\n",
              "    response: {\n",
              "      action: 'complete',\n",
              "    }\n",
              "  };\n",
              "}\n",
              "\n",
              "scope.google = scope.google || {};\n",
              "scope.google.colab = scope.google.colab || {};\n",
              "scope.google.colab._files = {\n",
              "  _uploadFiles,\n",
              "  _uploadFilesContinue,\n",
              "};\n",
              "})(self);\n",
              "</script> "
            ]
          },
          "metadata": {}
        },
        {
          "output_type": "stream",
          "name": "stdout",
          "text": [
            "Saving 00009.f63440efff7e.allbb_ala_min_ala_0001.pdb to 00009.f63440efff7e.allbb_ala_min_ala_0001 (2).pdb\n"
          ]
        },
        {
          "output_type": "execute_result",
          "data": {
            "text/plain": [
              "'00009.pdb'"
            ],
            "application/vnd.google.colaboratory.intrinsic+json": {
              "type": "string"
            }
          },
          "metadata": {},
          "execution_count": 41
        }
      ]
    },
    {
      "cell_type": "code",
      "source": [
        "#@title Set parameters\n",
        "import os\n",
        "from google.colab import files\n",
        "import re\n",
        "import datetime\n",
        "\n",
        "if jobname == 'None':\n",
        "  jobname = pdbname\n",
        "\n",
        "time_tag = datetime.datetime.now().strftime('%Y%m%d-%H%M%S') \n",
        "\n",
        "workdir = '/content/' + jobname + '_' + time_tag \n",
        "if not os.path.exists(workdir):\n",
        "  os.mkdir(workdir)\n",
        "\n",
        "#@markdown Set parameter\n",
        "\n",
        "loop_range_min = 11 #@param {type:\"integer\"}\n",
        "loop_range_max = 13 #@param {type:\"integer\"}\n",
        "\n",
        "loop_target_list = 'master_origin' #@param {type:\"string\"}\n",
        "rmsdCut = 1.5 #@param {type:\"number\"} \n",
        "\n",
        "master_query_loop_top = 500 #@param {type:\"integer\"}\n",
        "cluster_rmsd = 1.0 #@param {type:\"number\"}\n",
        "rm_duplicate = True #@param {type:\"boolean\"} \n",
        "#@markdown - (if the database have duplicated pdbs.)\n",
        "\n",
        "loop_topo_sels_front = 'A-30-36-A-39-45, A-104-110-A-113-119' #@param {type:\"string\"}\n",
        "loop_topo_sels_back = 'None' #@param {type:\"string\"}\n",
        "\n",
        "cluster_count_cut = 10 #@param {type:\"number\"}\n",
        "select_min_rmsd_pdb= True #@param {type:\"boolean\"} \n",
        "#@markdown - (output will copy the result pdb with min rmsd.)\n",
        "\n",
        "class Para():\n",
        "  workdir = workdir\n",
        "  target_file = pdbname\n",
        "\n",
        "  loop_topo_sels = {}\n",
        "\n",
        "  if loop_topo_sels_front != 'None' and loop_topo_sels_back != '':\n",
        "    xx = re.sub(r'\\s+', '', loop_topo_sels_front)\n",
        "    xx = xx.split(',')\n",
        "    front = {}\n",
        "    for x in xx:\n",
        "      _xs = x.split('-')\n",
        "      key = _xs[0] + '-' + _xs[3]\n",
        "      if key in front.keys():\n",
        "        front[key].append((_xs[0], int(_xs[1]), int(_xs[2]), _xs[3], int(_xs[4]), int(_xs[5])))\n",
        "      else:\n",
        "        front[key] = [(_xs[0], int(_xs[1]), int(_xs[2]), _xs[3], int(_xs[4]), int(_xs[5]))]\n",
        "    loop_topo_sels['front'] = front\n",
        "\n",
        "  if loop_topo_sels_back != 'None' and loop_topo_sels_back != '':\n",
        "    xx = re.sub(r'\\s+', '', loop_topo_sels_back)\n",
        "    xx = xx.split(',')\n",
        "    back = {}\n",
        "    for x in xx:\n",
        "      _xs = x.split('-')\n",
        "      key = _xs[0] + '-' + _xs[3]\n",
        "      if key in back.keys():\n",
        "        back[key].append((_xs[0], int(_xs[1]), int(_xs[2]), _xs[3], int(_xs[4]), int(_xs[5])))\n",
        "      else:\n",
        "        back[key] = [(_xs[0], int(_xs[1]), int(_xs[2]), _xs[3], int(_xs[4]), int(_xs[5]))]\n",
        "    loop_topo_sels['back'] = back   \n",
        "\n",
        "  ### Master search para\n",
        "  loop_range = [loop_range_min, loop_range_max]\n",
        "  if loop_target_list == 'master_origin':\n",
        "    loop_target_list = '/content/master_db/list'\n",
        "\n",
        "  rmsdCut = rmsdCut\n",
        "  master_query_loop_top = master_query_loop_top\n",
        "  cluster_rmsd = cluster_rmsd\n",
        "  rm_duplicate = rm_duplicate\n",
        "\n",
        "  ### Output para\n",
        "  cluster_count_cut = cluster_count_cut\n",
        "  select_min_rmsd_pdb= select_min_rmsd_pdb\n",
        "\n"
      ],
      "metadata": {
        "id": "XN6j6PIqRju3",
        "cellView": "form"
      },
      "execution_count": 42,
      "outputs": []
    },
    {
      "cell_type": "code",
      "source": [
        "#@title Install Rvrsprot.\n",
        "\n",
        "#%%javascript\n",
        "#IPython.OutputArea.prototype._should_scroll = function(lines) {\n",
        "#    return false;\n",
        "#}\n",
        "\n",
        "%%bash -s\n",
        "\n",
        "set -e\n",
        "\n",
        "cd /content\n",
        "\n",
        "rm -rf RVRSPROT_READY METALPROT_READY\n",
        "\n",
        "if [ ! -f RVRSPROT_READY ]; then\n",
        "  echo \"Cloning Rvrsprot...\"\n",
        "  rm -rf Rvrsprot\n",
        "  git clone https://github.com/lonelu/Rvrsprot.git\n",
        "  cd /content/Rvrsprot\n",
        "  pip install -e . &> /dev/null\n",
        "  touch RVRSPROT_READY\n",
        "fi\n",
        "\n",
        "cd /content/\n",
        "\n",
        "if [ ! -f METALPROT_READY ]; then\n",
        "  echo \"Cloning Metalprot...\"\n",
        "  rm -rf Metalprot\n",
        "  git clone https://github.com/lonelu/Metalprot.git\n",
        "\n",
        "  cd /content/Metalprot\n",
        "  pip install -e . &> /dev/null\n",
        "  touch METALPROT_READY\n",
        "fi\n",
        "\n",
        "chmod 777 /content/Rvrsprot/rvrsprot/external/createPDS\n",
        "chmod 777 /content/Rvrsprot/rvrsprot/external/parsePDS\n",
        "chmod 777 /content/Rvrsprot/rvrsprot/external/master\n",
        "\n",
        "\n",
        "#download database and change list filepath.\n",
        "pip install logomaker &> /dev/null\n",
        "pip install fpdf &> /dev/null\n"
      ],
      "metadata": {
        "colab": {
          "base_uri": "https://localhost:8080/"
        },
        "id": "Mxju4lO4RlqX",
        "outputId": "0d304f2f-a75f-488f-bf82-6c63614389b6"
      },
      "execution_count": 43,
      "outputs": [
        {
          "output_type": "stream",
          "name": "stdout",
          "text": [
            "Cloning Rvrsprot...\n",
            "Cloning Metalprot...\n"
          ]
        },
        {
          "output_type": "stream",
          "name": "stderr",
          "text": [
            "Cloning into 'Rvrsprot'...\n",
            "Cloning into 'Metalprot'...\n"
          ]
        }
      ]
    },
    {
      "cell_type": "code",
      "source": [
        "#@title Download database\n",
        "%%bash -s\n",
        "touch DB_READY\n",
        "#%%javascript\n",
        "#IPython.OutputArea.prototype._should_scroll = function(lines) {\n",
        "#    return false;\n",
        "#}\n",
        "\n",
        "set -e\n",
        "#rm -rf DB_READY DB_READY2 \n",
        "rm -rf /content/master_db\n",
        "if [ ! -f DB_READY ]; then\n",
        "  rm -rf /content/master_db.zip\n",
        "  curl -L https://ucsf.box.com/shared/static/3wabh6hfii8fl3bui9txpox9l9rphygv.zip --output /content/master_db.zip \n",
        "  ls -l /content/master_db.zip\n",
        "  touch DB_READY\n",
        "fi\n",
        "\n",
        "if [ ! -f DB_READY2 ]; then\n",
        "  unzip -q /content/master_db.zip\n",
        "  ls -l /content\n",
        "  sed -i 's/\\/wynton\\/home\\/degradolab\\/lonelu\\/DesignData\\/Database/\\/content/g' /content/master_db/list\n",
        "  head /content/master_db/list\n",
        "  touch DB_READY2\n",
        "fi\n",
        "\n"
      ],
      "metadata": {
        "colab": {
          "base_uri": "https://localhost:8080/"
        },
        "id": "co5eMnnnhs1_",
        "outputId": "a2b108f8-8657-43bb-cb4c-6af576fe25d3"
      },
      "execution_count": 30,
      "outputs": [
        {
          "output_type": "stream",
          "name": "stdout",
          "text": [
            "total 1357924\n",
            "drwxr-xr-x   2 root root       4096 Jan 19 19:14 00009_20230119-191450\n",
            "drwxr-xr-x   2 root root       4096 Jan 19 19:18 00009_20230119-191802\n",
            "drwxr-xr-x   2 root root       4096 Jan 19 19:19 00009_20230119-191955\n",
            "-rw-r--r--   1 root root     138184 Jan 19 19:19 00009.f63440efff7e.allbb_ala_min_ala_0001 (1).pdb\n",
            "-rw-r--r--   1 root root     138184 Jan 19 19:14 00009.f63440efff7e.allbb_ala_min_ala_0001.pdb\n",
            "-rw-r--r--   1 root root     138184 Jan 19 19:19 00009.pdb\n",
            "-rw-r--r--   1 root root          0 Jan 19 19:33 DB_READY\n",
            "drwxr-xr-x 941 root root      20480 Apr 15  2022 master_db\n",
            "-rw-r--r--   1 root root 1390044745 Jan 19 19:31 master_db.zip\n",
            "drwxr-xr-x   9 root root       4096 Jan 19 19:24 Metalprot\n",
            "drwxr-xr-x   9 root root       4096 Jan 19 19:23 Rvrsprot\n",
            "drwxr-xr-x   1 root root       4096 Jan 18 14:55 sample_data\n",
            "/content/master_db/55/155c_A.pds\n",
            "/content/master_db/6v/16vp_A.pds\n",
            "/content/master_db/91/1914_A.pds\n",
            "/content/master_db/a0/1a02_F.pds\n",
            "/content/master_db/a0/1a02_N.pds\n",
            "/content/master_db/a0/1a0a_A.pds\n",
            "/content/master_db/a0/1a0b_A.pds\n",
            "/content/master_db/a0/1a0e_A.pds\n",
            "/content/master_db/a0/1a0g_A.pds\n",
            "/content/master_db/a0/1a0i_A.pds\n"
          ]
        }
      ]
    },
    {
      "cell_type": "code",
      "source": [
        "#@title Run master loop.\n",
        "!ls -l\n",
        "#%%javascript\n",
        "#IPython.OutputArea.prototype._should_scroll = function(lines) {\n",
        "#    return false;\n",
        "#}\n",
        "\n",
        "import os\n",
        "import sys\n",
        "sys.path.append(r'/content/Metalprot')\n",
        "sys.path.append(r'/content/Rvrsprot')\n",
        "from rvrsprot.loop import loop_ss\n",
        "import datetime\n",
        "import subprocess\n",
        "\n",
        "\n",
        "para = Para()\n",
        "def run():\n",
        "    #para = Para()\n",
        "    loop_ss.run_loop_ss(para.workdir + '/', '/content/' + para.target_file + '.pdb', para.loop_topo_sels, para)\n",
        "    return\n",
        "\n",
        "run()  \n"
      ],
      "metadata": {
        "colab": {
          "base_uri": "https://localhost:8080/",
          "height": 652
        },
        "id": "hqS_HM08SZaV",
        "outputId": "e79ade31-b9d0-42b4-9621-fc57f1eded69"
      },
      "execution_count": 44,
      "outputs": [
        {
          "output_type": "stream",
          "name": "stdout",
          "text": [
            "total 1358064\n",
            "drwxr-xr-x   2 root root       4096 Jan 19 19:14  00009_20230119-191450\n",
            "drwxr-xr-x   2 root root       4096 Jan 19 19:18  00009_20230119-191802\n",
            "drwxr-xr-x   2 root root       4096 Jan 19 19:19  00009_20230119-191955\n",
            "drwxr-xr-x   2 root root       4096 Jan 19 21:34  00009_20230119-213447\n",
            "-rw-r--r--   1 root root     138184 Jan 19 19:19 '00009.f63440efff7e.allbb_ala_min_ala_0001 (1).pdb'\n",
            "-rw-r--r--   1 root root     138184 Jan 19 21:34 '00009.f63440efff7e.allbb_ala_min_ala_0001 (2).pdb'\n",
            "-rw-r--r--   1 root root     138184 Jan 19 19:14  00009.f63440efff7e.allbb_ala_min_ala_0001.pdb\n",
            "-rw-r--r--   1 root root     138184 Jan 19 21:34  00009.pdb\n",
            "-rw-r--r--   1 root root          0 Jan 19 19:33  DB_READY\n",
            "-rw-r--r--   1 root root          0 Jan 19 19:34  DB_READY2\n",
            "drwxr-xr-x 941 root root      20480 Apr 15  2022  master_db\n",
            "-rw-r--r--   1 root root 1390044745 Jan 19 19:31  master_db.zip\n",
            "drwxr-xr-x   9 root root       4096 Jan 19 21:35  Metalprot\n",
            "drwxr-xr-x   9 root root       4096 Jan 19 21:35  Rvrsprot\n",
            "drwxr-xr-x   1 root root       4096 Jan 18 14:55  sample_data\n"
          ]
        },
        {
          "output_type": "error",
          "ename": "ModuleNotFoundError",
          "evalue": "ignored",
          "traceback": [
            "\u001b[0;31m---------------------------------------------------------------------------\u001b[0m",
            "\u001b[0;31mModuleNotFoundError\u001b[0m                       Traceback (most recent call last)",
            "\u001b[0;32m<ipython-input-44-b897abd96ffc>\u001b[0m in \u001b[0;36m<module>\u001b[0;34m\u001b[0m\n\u001b[1;32m     10\u001b[0m \u001b[0msys\u001b[0m\u001b[0;34m.\u001b[0m\u001b[0mpath\u001b[0m\u001b[0;34m.\u001b[0m\u001b[0mappend\u001b[0m\u001b[0;34m(\u001b[0m\u001b[0;34mr'/content/Metalprot'\u001b[0m\u001b[0;34m)\u001b[0m\u001b[0;34m\u001b[0m\u001b[0;34m\u001b[0m\u001b[0m\n\u001b[1;32m     11\u001b[0m \u001b[0msys\u001b[0m\u001b[0;34m.\u001b[0m\u001b[0mpath\u001b[0m\u001b[0;34m.\u001b[0m\u001b[0mappend\u001b[0m\u001b[0;34m(\u001b[0m\u001b[0;34mr'/content/Rvrsprot'\u001b[0m\u001b[0;34m)\u001b[0m\u001b[0;34m\u001b[0m\u001b[0;34m\u001b[0m\u001b[0m\n\u001b[0;32m---> 12\u001b[0;31m \u001b[0;32mfrom\u001b[0m \u001b[0mrvrsprot\u001b[0m\u001b[0;34m.\u001b[0m\u001b[0mloop\u001b[0m \u001b[0;32mimport\u001b[0m \u001b[0mloop_ss\u001b[0m\u001b[0;34m\u001b[0m\u001b[0;34m\u001b[0m\u001b[0m\n\u001b[0m\u001b[1;32m     13\u001b[0m \u001b[0;32mimport\u001b[0m \u001b[0mdatetime\u001b[0m\u001b[0;34m\u001b[0m\u001b[0;34m\u001b[0m\u001b[0m\n\u001b[1;32m     14\u001b[0m \u001b[0;32mimport\u001b[0m \u001b[0msubprocess\u001b[0m\u001b[0;34m\u001b[0m\u001b[0;34m\u001b[0m\u001b[0m\n",
            "\u001b[0;31mModuleNotFoundError\u001b[0m: No module named 'rvrsprot'",
            "",
            "\u001b[0;31m---------------------------------------------------------------------------\u001b[0;32m\nNOTE: If your import is failing due to a missing package, you can\nmanually install dependencies using either !pip or !apt.\n\nTo view examples of installing some common dependencies, click the\n\"Open Examples\" button below.\n\u001b[0;31m---------------------------------------------------------------------------\u001b[0m\n"
          ],
          "errorDetails": {
            "actions": [
              {
                "action": "open_url",
                "actionText": "Open Examples",
                "url": "/notebooks/snippets/importing_libraries.ipynb"
              }
            ]
          }
        }
      ]
    },
    {
      "cell_type": "code",
      "source": [
        "!cd /content/\n",
        "!zip -FSr $para.workdir\".zip\" $para.workdir\"/\"\n",
        "para = Para()\n",
        "files.download(para.workdir + '.zip')"
      ],
      "metadata": {
        "id": "8NE8vjFHeBSJ",
        "outputId": "de5bacb8-491b-4937-cbc0-9e322023cd01",
        "colab": {
          "base_uri": "https://localhost:8080/",
          "height": 374
        }
      },
      "execution_count": 12,
      "outputs": [
        {
          "output_type": "stream",
          "name": "stdout",
          "text": [
            "\tzip warning: name not matched: .workdir/\n",
            "\n",
            "zip error: Nothing to do! (try: zip -FSr .workdir.zip . -i .workdir/)\n"
          ]
        },
        {
          "output_type": "error",
          "ename": "FileNotFoundError",
          "evalue": "ignored",
          "traceback": [
            "\u001b[0;31m---------------------------------------------------------------------------\u001b[0m",
            "\u001b[0;31mFileNotFoundError\u001b[0m                         Traceback (most recent call last)",
            "\u001b[0;32m<ipython-input-12-c4099b51167a>\u001b[0m in \u001b[0;36m<module>\u001b[0;34m\u001b[0m\n\u001b[1;32m      2\u001b[0m \u001b[0mget_ipython\u001b[0m\u001b[0;34m(\u001b[0m\u001b[0;34m)\u001b[0m\u001b[0;34m.\u001b[0m\u001b[0msystem\u001b[0m\u001b[0;34m(\u001b[0m\u001b[0;34m'zip -FSr $para.workdir\".zip\" $para.workdir\"/\"'\u001b[0m\u001b[0;34m)\u001b[0m\u001b[0;34m\u001b[0m\u001b[0;34m\u001b[0m\u001b[0m\n\u001b[1;32m      3\u001b[0m \u001b[0mpara\u001b[0m \u001b[0;34m=\u001b[0m \u001b[0mPara\u001b[0m\u001b[0;34m(\u001b[0m\u001b[0;34m)\u001b[0m\u001b[0;34m\u001b[0m\u001b[0;34m\u001b[0m\u001b[0m\n\u001b[0;32m----> 4\u001b[0;31m \u001b[0mfiles\u001b[0m\u001b[0;34m.\u001b[0m\u001b[0mdownload\u001b[0m\u001b[0;34m(\u001b[0m\u001b[0mpara\u001b[0m\u001b[0;34m.\u001b[0m\u001b[0mworkdir\u001b[0m \u001b[0;34m+\u001b[0m \u001b[0;34m'.zip'\u001b[0m\u001b[0;34m)\u001b[0m\u001b[0;34m\u001b[0m\u001b[0;34m\u001b[0m\u001b[0m\n\u001b[0m",
            "\u001b[0;32m/usr/local/lib/python3.8/dist-packages/google/colab/files.py\u001b[0m in \u001b[0;36mdownload\u001b[0;34m(filename)\u001b[0m\n\u001b[1;32m    207\u001b[0m   \u001b[0;32mif\u001b[0m \u001b[0;32mnot\u001b[0m \u001b[0m_os\u001b[0m\u001b[0;34m.\u001b[0m\u001b[0mpath\u001b[0m\u001b[0;34m.\u001b[0m\u001b[0mexists\u001b[0m\u001b[0;34m(\u001b[0m\u001b[0mfilename\u001b[0m\u001b[0;34m)\u001b[0m\u001b[0;34m:\u001b[0m\u001b[0;34m\u001b[0m\u001b[0;34m\u001b[0m\u001b[0m\n\u001b[1;32m    208\u001b[0m     \u001b[0mmsg\u001b[0m \u001b[0;34m=\u001b[0m \u001b[0;34m'Cannot find file: {}'\u001b[0m\u001b[0;34m.\u001b[0m\u001b[0mformat\u001b[0m\u001b[0;34m(\u001b[0m\u001b[0mfilename\u001b[0m\u001b[0;34m)\u001b[0m\u001b[0;34m\u001b[0m\u001b[0;34m\u001b[0m\u001b[0m\n\u001b[0;32m--> 209\u001b[0;31m     \u001b[0;32mraise\u001b[0m \u001b[0mFileNotFoundError\u001b[0m\u001b[0;34m(\u001b[0m\u001b[0mmsg\u001b[0m\u001b[0;34m)\u001b[0m  \u001b[0;31m# pylint: disable=undefined-variable\u001b[0m\u001b[0;34m\u001b[0m\u001b[0;34m\u001b[0m\u001b[0m\n\u001b[0m\u001b[1;32m    210\u001b[0m \u001b[0;34m\u001b[0m\u001b[0m\n\u001b[1;32m    211\u001b[0m   \u001b[0mcomm_manager\u001b[0m \u001b[0;34m=\u001b[0m \u001b[0m_IPython\u001b[0m\u001b[0;34m.\u001b[0m\u001b[0mget_ipython\u001b[0m\u001b[0;34m(\u001b[0m\u001b[0;34m)\u001b[0m\u001b[0;34m.\u001b[0m\u001b[0mkernel\u001b[0m\u001b[0;34m.\u001b[0m\u001b[0mcomm_manager\u001b[0m\u001b[0;34m\u001b[0m\u001b[0;34m\u001b[0m\u001b[0m\n",
            "\u001b[0;31mFileNotFoundError\u001b[0m: Cannot find file: /content/00009_20230119-191802.zip"
          ]
        }
      ]
    },
    {
      "cell_type": "markdown",
      "source": [
        "The program is for DeGrado lab internal usage now (10/25/2022).\n",
        "\n",
        "Please contact lonelur@gmail.com if you find something wrong or if you have special suggestions to help other researchers."
      ],
      "metadata": {
        "id": "9WB9L0FcuhpD"
      }
    }
  ]
}